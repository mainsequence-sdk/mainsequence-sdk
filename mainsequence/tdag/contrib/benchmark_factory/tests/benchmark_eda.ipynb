{
 "cells": [
  {
   "cell_type": "code",
   "execution_count": 1,
   "metadata": {},
   "source": [
    "import pandas as pd\n",
    "import numpy as np\n",
    "from mainsequence.tdag.assets.models import Asset, ModelList\n",
    "from mainsequence.tdag.contrib.benchmark_factory import MarketCapBenchmarkBars, MarketCapBenchmarkWeights\n",
    "from mainsequence.tdag import AssetORM,TimeSeriesOGM\n",
    "from mainsequence.tdag.time_series.update_utils import rebuild_and_update_from_source\n",
    "import matplotlib.pyplot as plt\n",
    "import missingno as msno\n",
    "%matplotlib inline"
   ],
   "outputs": []
  },
  {
   "cell_type": "markdown",
   "metadata": {
    "pycharm": {
     "name": "#%%\n"
    }
   },
   "source": [
    "Benchmark Configuration"
   ]
  },
  {
   "cell_type": "code",
   "execution_count": 2,
   "metadata": {
    "pycharm": {
     "name": "#%%\n"
    }
   },
   "source": [
    "#Benchmark configuration\n",
    "\n",
    "REBALANCE_CONFIG = {\"last_weekday_of_month\": {\"target_day\": 4},\n",
    "                            \"at_time_intervals\": {\"time_intervals\": [\"12:00\", \"10:00\"]}}\n",
    "SYMBOL_LIST=[\"BTC\",\"ETH\"]\n",
    "CASH_ASSET_SYMBOL=\"USDT\"\n",
    "ASSETS_DB=\"DEEPMACHINE\"\n",
    "cash_balance=.02 # cash that must be maitained .\n",
    "frequency_id=\"1min\"\n",
    "orm = AssetORM(assets_db=\"DEEPMACHINE\")\n",
    "ogm=TimeSeriesOGM()"
   ],
   "outputs": []
  },
  {
   "cell_type": "code",
   "execution_count": null,
   "metadata": {
    "pycharm": {
     "name": "#%%\n"
    }
   },
   "source": [],
   "outputs": []
  },
  {
   "cell_type": "code",
   "execution_count": 3,
   "metadata": {
    "pycharm": {
     "name": "#%%\n"
    }
   },
   "source": [
    "\n",
    "with orm.session_scope() as s:\n",
    "    all_assets = s.query(Asset).filter(Asset.symbol.in_(SYMBOL_LIST), Asset.currency == \"usdt\").all()\n",
    "    cash_asset = s.query(Asset).filter(Asset.symbol == CASH_ASSET_SYMBOL, Asset.currency == \"usd\").one()\n",
    "    all_assets = ModelList(all_assets)\n",
    "    # ts=MarketCapBenchmarkWeights(asset_list=all_assets,cash_balance=cash_balance,\n",
    "    #                               cash_asset=cash_asset,frequency_id=frequency_id,\n",
    "    #                               source=\"binance\",rebalance_rule_config=rebalance_config,\n",
    "    #                                    local_data_path=BASEDIR+\"/data\")\n",
    "    benchmark_ts = MarketCapBenchmarkBars(asset_list=all_assets, cash_balance=cash_balance,\n",
    "                                cash_asset=cash_asset, frequency_id=frequency_id,limit_assets=None,\n",
    "                                source=\"binance\", rebalance_rule_config=REBALANCE_CONFIG,\n",
    "                                local_data_path=ogm.temp_folder)\n",
    "    rebuild_and_update_from_source(assets_db=ASSETS_DB, update_tree=False, update_tree_kwargs={\"DEBUG\": True},\n",
    "                                       serie_data_folder=benchmark_ts.data_folder)\n",
    "\n",
    "    #get data\n",
    "    benchmark_df=benchmark_ts.pandas_df\n",
    "\n",
    "    data_df=benchmark_ts.weights_ts.daily_ts.pandas_df_concat_on_rows_by_key\n",
    "    data_df=data_df.rename(columns={\"key\":\"asset_symbol\"}).set_index([\"asset_symbol\"],append=True)\n",
    "    "
   ],
   "outputs": []
  },
  {
   "cell_type": "markdown",
   "metadata": {
    "pycharm": {
     "name": "#%%\n"
    }
   },
   "source": [
    "NAN Analysis\n"
   ]
  },
  {
   "cell_type": "code",
   "execution_count": 4,
   "metadata": {
    "pycharm": {
     "name": "#%%\n"
    }
   },
   "source": [
    "\n",
    "prices_df=benchmark_ts.weights_ts.prices_df"
   ],
   "outputs": []
  },
  {
   "cell_type": "code",
   "execution_count": null,
   "metadata": {},
   "source": [],
   "outputs": []
  },
  {
   "cell_type": "code",
   "execution_count": 5,
   "metadata": {
    "pycharm": {
     "name": "#%%\n"
    }
   },
   "source": [
    "msno.bar(prices_df)"
   ],
   "outputs": []
  },
  {
   "cell_type": "code",
   "execution_count": 6,
   "metadata": {
    "pycharm": {
     "name": "#%%\n"
    }
   },
   "source": [
    "msno.matrix(prices_df)"
   ],
   "outputs": []
  },
  {
   "cell_type": "code",
   "execution_count": 7,
   "metadata": {},
   "source": [
    "msno.matrix(benchmark_df)"
   ],
   "outputs": []
  },
  {
   "cell_type": "code",
   "execution_count": 8,
   "metadata": {
    "pycharm": {
     "name": "#%%\n"
    }
   },
   "source": [
    "daily_prices=prices_df/prices_df.iloc[0]\n",
    "daily_prices=daily_prices.resample(\"1d\").last()\n",
    "daily_prices[\"benchmark\"]=benchmark_df.resample(\"1d\").last().loc[daily_prices.index][\"close\"]\n",
    "daily_prices=daily_prices/daily_prices.iloc[0]\n",
    "daily_prices.plot(figsize=(15,10))\n"
   ],
   "outputs": []
  },
  {
   "cell_type": "markdown",
   "metadata": {
    "pycharm": {
     "name": "#%%\n"
    }
   },
   "source": [
    "Weights\n"
   ]
  },
  {
   "cell_type": "code",
   "execution_count": 9,
   "metadata": {},
   "source": [
    "w_df=prices_df=benchmark_ts.weights_ts.weights_df\n",
    "w_df.resample(\"1h\").last().plot()"
   ],
   "outputs": []
  },
  {
   "cell_type": "code",
   "execution_count": null,
   "metadata": {},
   "source": [],
   "outputs": []
  },
  {
   "cell_type": "code",
   "execution_count": null,
   "metadata": {},
   "source": [],
   "outputs": []
  }
 ],
 "metadata": {
  "kernelspec": {
   "display_name": "p37_dt_ray2",
   "language": "python",
   "name": "p37_dt_ray2"
  },
  "language_info": {
   "codemirror_mode": {
    "name": "ipython",
    "version": 3
   },
   "file_extension": ".py",
   "mimetype": "text/x-python",
   "name": "python",
   "nbconvert_exporter": "python",
   "pygments_lexer": "ipython3",
   "version": "3.7.5"
  },
  "varInspector": {
   "cols": {
    "lenName": 16,
    "lenType": 16,
    "lenVar": 40
   },
   "kernels_config": {
    "python": {
     "delete_cmd_postfix": "",
     "delete_cmd_prefix": "del ",
     "library": "var_list.py",
     "varRefreshCmd": "print(var_dic_list())"
    },
    "r": {
     "delete_cmd_postfix": ") ",
     "delete_cmd_prefix": "rm(",
     "library": "var_list.r",
     "varRefreshCmd": "cat(var_dic_list()) "
    }
   },
   "types_to_exclude": [
    "module",
    "function",
    "builtin_function_or_method",
    "instance",
    "_Feature"
   ],
   "window_display": false
  }
 },
 "nbformat": 4,
 "nbformat_minor": 1
}
