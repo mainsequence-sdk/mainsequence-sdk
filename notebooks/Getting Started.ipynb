{
 "cells": [
  {
   "metadata": {
    "ExecuteTime": {
     "end_time": "2025-03-17T20:04:11.722099Z",
     "start_time": "2025-03-17T20:04:07.227344Z"
    }
   },
   "cell_type": "code",
   "source": [
    "\n",
    "#comment out for local testing out of Main Sequence Platform\n",
    "import dotenv\n",
    "dotenv.load_dotenv('../.env.dev')\n",
    "\n",
    "from mainsequence.virtualfundbuilder.portfolio_interface import PortfolioInterface\n",
    "from mainsequence.virtualfundbuilder.agent_interface import TDAGAgent"
   ],
   "id": "8c9bb090157e4c1a",
   "outputs": [
    {
     "name": "stderr",
     "output_type": "stream",
     "text": [
      "2025-03-17T20:04:08.009462Z [debug    ] Getting Auth Headers ASSETS_ORM application_name=ms-sdk data_source_id=1 job_run_id=None project_id=3 (at utils.py:39 in refresh_headers())\n",
      "2025-03-17T20:04:08.672938Z [debug    ] Getting Auth Headers ASSETS_ORM application_name=ms-sdk data_source_id=1 job_run_id=None project_id=3 (at utils.py:39 in refresh_headers())\n",
      "2025-03-17T20:04:08.743338Z [debug    ] Getting Auth Headers ASSETS_ORM application_name=ms-sdk data_source_id=1 job_run_id=None project_id=3 (at utils.py:39 in refresh_headers())\n",
      "2025-03-17T20:04:08.756362Z [debug    ] Requesting GET from http://127.0.0.1:8000/orm/api/assets/api/constants application_name=ms-sdk data_source_id=1 job_run_id=None project_id=3 (at utils.py:55 in make_request())\n",
      "2025-03-17T20:04:09.423060Z [debug    ] Requesting GET from http://127.0.0.1:8000/orm/api/pods/projects/get_user_default_project/ application_name=ms-sdk data_source_id=1 job_run_id=None project_id=3 (at utils.py:55 in make_request())\n",
      "2025-03-17T20:04:10.096922Z [debug    ] Getting Auth Headers ASSETS_ORM application_name=ms-sdk data_source_id=1 job_run_id=None project_id=3 (at utils.py:39 in refresh_headers())\n",
      "2025-03-17T20:04:10.114787Z [debug    ] Requesting GET from http://127.0.0.1:8000/orm/api/ts_manager/api/constants application_name=ms-sdk data_source_id=1 job_run_id=None project_id=3 (at utils.py:55 in make_request())\n",
      "C:\\Users\\danie\\code\\mainsequence-sdk\\.venv\\lib\\site-packages\\pydantic\\_internal\\_generate_schema.py:502: UserWarning: FieldInfo(annotation=NoneType, required=False, default=<class 'mainsequence.mainsequence_client.models_vam.AssetMixin'>, json_schema_extra={'portfolio_configuration_overwrite': <class 'mainsequence.virtualfundbuilder.models.AssetMixinOverwrite'>}) is not a Python type (it may be an instance of an object), Pydantic will allow any object with no validation since we cannot even enforce that the input is an instance of the given type. To get rid of this error wrap the type with `pydantic.SkipValidation`.\n",
      "  warn(\n",
      "2025-03-17T20:04:10.696804Z [debug    ] Registered StrategyType.SIGNAL_WEIGHTS_STRATEGY class 'IntradayTrend': <class 'mainsequence.virtualfundbuilder.contrib.signals.intraday_trend.IntradayTrend'> application_name=ms-sdk data_source_id=1 job_run_id=None project_id=3 (at base_factory.py:86 in insert_in_registry())\n",
      "2025-03-17T20:04:10.731359Z [debug    ] Register signal: IntradayTrend application_name=ms-sdk data_source_id=1 job_run_id=None project_id=3 (at utils.py:675 in _send_strategy_to_registry())\n",
      "2025-03-17T20:04:10.739372Z [debug    ] Registered StrategyType.SIGNAL_WEIGHTS_STRATEGY class 'FixedWeights': <class 'mainsequence.virtualfundbuilder.contrib.signals.market_cap.FixedWeights'> application_name=ms-sdk data_source_id=1 job_run_id=None project_id=3 (at base_factory.py:86 in insert_in_registry())\n",
      "2025-03-17T20:04:10.756104Z [debug    ] Requesting POST from http://127.0.0.1:8000/orm/api/tdag-gpt/register_strategy/ application_name=ms-sdk data_source_id=1 job_run_id=None project_id=3 (at utils.py:55 in make_request())\n",
      "2025-03-17T20:04:10.782826Z [debug    ] Registered StrategyType.SIGNAL_WEIGHTS_STRATEGY class 'MarketCap': <class 'mainsequence.virtualfundbuilder.contrib.signals.market_cap.MarketCap'> application_name=ms-sdk data_source_id=1 job_run_id=None project_id=3 (at base_factory.py:86 in insert_in_registry())\n",
      "2025-03-17T20:04:10.786824Z [debug    ] Register signal: FixedWeights  application_name=ms-sdk data_source_id=1 job_run_id=None project_id=3 (at utils.py:675 in _send_strategy_to_registry())\n",
      "2025-03-17T20:04:10.831367Z [debug    ] Register signal: MarketCap     application_name=ms-sdk data_source_id=1 job_run_id=None project_id=3 (at utils.py:675 in _send_strategy_to_registry())\n",
      "2025-03-17T20:04:10.831367Z [debug    ] Registered StrategyType.SIGNAL_WEIGHTS_STRATEGY class 'MockSignal': <class 'mainsequence.virtualfundbuilder.contrib.signals.mock_signal.MockSignal'> application_name=ms-sdk data_source_id=1 job_run_id=None project_id=3 (at base_factory.py:86 in insert_in_registry())\n",
      "2025-03-17T20:04:10.853402Z [debug    ] Requesting POST from http://127.0.0.1:8000/orm/api/tdag-gpt/register_strategy/ application_name=ms-sdk data_source_id=1 job_run_id=None project_id=3 (at utils.py:55 in make_request())\n",
      "2025-03-17T20:04:10.859778Z [debug    ] Requesting POST from http://127.0.0.1:8000/orm/api/tdag-gpt/register_strategy/ application_name=ms-sdk data_source_id=1 job_run_id=None project_id=3 (at utils.py:55 in make_request())\n",
      "2025-03-17T20:04:10.899927Z [debug    ] Register signal: MockSignal    application_name=ms-sdk data_source_id=1 job_run_id=None project_id=3 (at utils.py:675 in _send_strategy_to_registry())\n",
      "2025-03-17T20:04:10.975689Z [debug    ] Requesting POST from http://127.0.0.1:8000/orm/api/tdag-gpt/register_strategy/ application_name=ms-sdk data_source_id=1 job_run_id=None project_id=3 (at utils.py:55 in make_request())\n",
      "2025-03-17T20:04:11.509954Z [debug    ] Registered StrategyType.SIGNAL_WEIGHTS_STRATEGY class 'ETFReplicator': <class 'mainsequence.virtualfundbuilder.contrib.signals.portfolio_replicator.ETFReplicator'> application_name=ms-sdk data_source_id=1 job_run_id=None project_id=3 (at base_factory.py:86 in insert_in_registry())\n",
      "2025-03-17T20:04:11.554631Z [debug    ] Register signal: ETFReplicator application_name=ms-sdk data_source_id=1 job_run_id=None project_id=3 (at utils.py:675 in _send_strategy_to_registry())\n",
      "2025-03-17T20:04:11.562779Z [debug    ] Registered StrategyType.REBALANCE_STRATEGY class 'VolumeParticipation': <class 'mainsequence.virtualfundbuilder.contrib.rebalance_strategies.rebalance_strategies.VolumeParticipation'> application_name=ms-sdk data_source_id=1 job_run_id=None project_id=3 (at base_factory.py:86 in insert_in_registry())\n",
      "2025-03-17T20:04:11.572812Z [debug    ] Requesting POST from http://127.0.0.1:8000/orm/api/tdag-gpt/register_strategy/ application_name=ms-sdk data_source_id=1 job_run_id=None project_id=3 (at utils.py:55 in make_request())\n",
      "2025-03-17T20:04:11.589471Z [debug    ] Registered StrategyType.REBALANCE_STRATEGY class 'TimeWeighted': <class 'mainsequence.virtualfundbuilder.contrib.rebalance_strategies.rebalance_strategies.TimeWeighted'> application_name=ms-sdk data_source_id=1 job_run_id=None project_id=3 (at base_factory.py:86 in insert_in_registry())\n",
      "2025-03-17T20:04:11.589471Z [debug    ] Register signal: VolumeParticipation application_name=ms-sdk data_source_id=1 job_run_id=None project_id=3 (at utils.py:675 in _send_strategy_to_registry())\n",
      "2025-03-17T20:04:11.641251Z [debug    ] Registered StrategyType.REBALANCE_STRATEGY class 'ImmediateSignal': <class 'mainsequence.virtualfundbuilder.contrib.rebalance_strategies.rebalance_strategies.ImmediateSignal'> application_name=ms-sdk data_source_id=1 job_run_id=None project_id=3 (at base_factory.py:86 in insert_in_registry())\n",
      "2025-03-17T20:04:11.645914Z [debug    ] Register signal: TimeWeighted  application_name=ms-sdk data_source_id=1 job_run_id=None project_id=3 (at utils.py:675 in _send_strategy_to_registry())\n",
      "2025-03-17T20:04:11.657018Z ["
     ]
    }
   ],
   "execution_count": 1
  },
  {
   "metadata": {},
   "cell_type": "markdown",
   "source": "# Connect to the TDAG-LLM Agent",
   "id": "67f98089503b1773"
  },
  {
   "metadata": {
    "ExecuteTime": {
     "end_time": "2025-03-17T20:04:12.506315Z",
     "start_time": "2025-03-17T20:04:11.734265Z"
    }
   },
   "cell_type": "code",
   "source": "tdag_agent = TDAGAgent()",
   "id": "33b3e037285a8d82",
   "outputs": [
    {
     "name": "stderr",
     "output_type": "stream",
     "text": [
      "2025-03-17T20:04:11.881329Z [debug    ] Send default documentation to Backend application_name=ms-sdk data_source_id=1 job_run_id=None project_id=3 (at __main__.py:173 in send_default_configuration())\n",
      "2025-03-17T20:04:11.906255Z [debug    ] Requesting POST from http://127.0.0.1:8000/orm/api/tdag-gpt/register_default_configuration/ application_name=ms-sdk data_source_id=1 job_run_id=None project_id=3 (at utils.py:55 in make_request())\n",
      "2025-03-17T20:04:12.479395Z [info     ] Setup TDAG Agent successfull   application_name=ms-sdk data_source_id=1 job_run_id=None project_id=3 (at agent_interface.py:28 in __init__())\n"
     ]
    }
   ],
   "execution_count": 2
  },
  {
   "metadata": {},
   "cell_type": "markdown",
   "source": "# Create a custom Strategy",
   "id": "4e0b2d1902a9b3d6"
  },
  {
   "metadata": {},
   "cell_type": "markdown",
   "source": "# Get the configuration for the full portfolio based on our strategy",
   "id": "22e3d24a3bbc1ef5"
  },
  {
   "metadata": {
    "ExecuteTime": {
     "end_time": "2025-03-17T20:04:12.736527Z",
     "start_time": "2025-03-17T20:04:12.721625Z"
    }
   },
   "cell_type": "code",
   "source": "PortfolioInterface.list_configurations()",
   "id": "82d82eb8b40cfce9",
   "outputs": [
    {
     "data": {
      "text/plain": [
       "['FixedWeights_configuration',\n",
       " 'MarketCapCryptoSpot_configuration',\n",
       " 'MarketCapEquities_configuration',\n",
       " 'MarketCap_configuration']"
      ]
     },
     "execution_count": 3,
     "metadata": {},
     "output_type": "execute_result"
    }
   ],
   "execution_count": 3
  },
  {
   "cell_type": "code",
   "id": "initial_id",
   "metadata": {
    "collapsed": true,
    "ExecuteTime": {
     "end_time": "2025-03-17T20:04:50.038397Z",
     "start_time": "2025-03-17T20:04:12.756149Z"
    }
   },
   "source": [
    "from mainsequence.virtualfundbuilder.contrib.signals import MarketCap\n",
    "\n",
    "portfolio = tdag_agent.generate_portfolio(MarketCap, signal_description=\"Create me a market cap portfolio using AAPL and GOOG\")\n",
    "\n",
    "portfolio"
   ],
   "outputs": [
    {
     "name": "stderr",
     "output_type": "stream",
     "text": [
      "2025-03-17T20:04:12.761170Z [debug    ] Register signal: MarketCap     application_name=ms-sdk data_source_id=1 job_run_id=None project_id=3 (at utils.py:675 in _send_strategy_to_registry())\n",
      "2025-03-17T20:04:12.781214Z [debug    ] Requesting POST from http://127.0.0.1:8000/orm/api/tdag-gpt/register_strategy/ application_name=ms-sdk data_source_id=1 job_run_id=None project_id=3 (at utils.py:55 in make_request())\n",
      "2025-03-17T20:04:13.299679Z [info     ] Get configuration for MarketCap ... application_name=ms-sdk data_source_id=1 job_run_id=None project_id=3 (at agent_interface.py:43 in generate_portfolio())\n",
      "2025-03-17T20:04:13.312259Z [debug    ] Requesting POST from http://127.0.0.1:8000/orm/api/tdag-gpt/create_configuration_for_strategy/ application_name=ms-sdk data_source_id=1 job_run_id=None project_id=3 (at utils.py:55 in make_request())\n",
      "2025-03-17T20:04:49.364836Z [info     ] Replaced 'None' in configuration with None at root.portfolio_build_configuration.backtesting_weights_configuration.signal_weights_configuration.num_top_assets application_name=ms-sdk data_source_id=1 job_run_id=None project_id=3 (at config_handling.py:159 in recursive_replace())\n",
      "2025-03-17T20:04:49.381912Z [debug    ] Requesting GET from http://127.0.0.1:8000/orm/api/alpaca/asset/spot/ application_name=ms-sdk data_source_id=1 job_run_id=None project_id=3 (at utils.py:55 in make_request())\n",
      "2025-03-17T20:04:50.009119Z [info     ] Received configuration:\n",
      "Configuration Name: -\n",
      "portfolio_build_configuration:\n",
      "  assets_configuration:\n",
      "    asset_universe:\n",
      "      asset_filters:\n",
      "      - asset_type: cash_equity\n",
      "        execution_venue__symbol: alpaca\n",
      "        symbol: AAPL\n",
      "      - asset_type: cash_equity\n",
      "        execution_venue__symbol: alpaca\n",
      "        symbol: GOOG\n",
      "    price_type: vwap\n",
      "    prices_configuration:\n",
      "      bar_frequency_id: 1d\n",
      "      intraday_bar_interpolation_rule: ffill\n",
      "      upsample_frequency_id: 1d\n",
      "  backtesting_weights_configuration:\n",
      "    rebalance_strategy_configuration:\n",
      "      calendar: 24/7\n",
      "    rebalance_strategy_name: ImmediateSignal\n",
      "    signal_weights_configuration:\n",
      "      num_top_assets: None\n",
      "      signal_assets_configuration:\n",
      "        asset_universe:\n",
      "          asset_filters:\n",
      "          - asset_type: cash_equity\n",
      "            execution_venue__symbol: alpaca\n",
      "            symbol: AAPL\n",
      "          - asset_type: cash_equity\n",
      "            execution_venue__symbol: alpaca\n",
      "            symbol: GOOG\n",
      "        price_type: vwap\n",
      "        prices_configuration:\n",
      "          bar_frequency_id: 1d\n",
      "          intraday_bar_interpolation_rule: ffill\n",
      "          upsample_frequency_id: 1d\n",
      "      source_frequency: 1d\n",
      "    signal_weights_name: MarketCap\n",
      "  execution_configuration:\n",
      "    commission_fee: 0.00018\n",
      "  portfolio_prices_frequency: 1d\n",
      "  valuation_asset:\n",
      "    asset_type: cash_equity\n",
      "    execution_venue_symbol: alpaca\n",
      "    symbol: USD\n",
      "portfolio_vam_configuration:\n",
      "  execution_configuration:\n",
      "    max_data_latency_seconds: 60\n",
      "    max_latency_in_cdc_seconds: 300\n",
      "    minimum_notional_for_a_rebalance: 15.0\n",
      "    minimum_positions_holding_seconds: 600\n",
      "    orders_execution_configuration:\n",
      "      broker_class: PriceChaserBroker\n",
      "      broker_configuration:\n",
      "        execution_time_out_seconds: 300\n",
      "        max_order_life_time_seconds: 2\n",
      "    rebalance_step_every_seconds: 300\n",
      "    rebalance_tolerance_percent: 0.005\n",
      "    unwind_funds_hanging_limit_seconds: 3600\n",
      "  front_end_details: ''\n",
      "  portfolio_name: Portfolio Strategy Title\n",
      " application_name=ms-sdk data_source_id=1 job_run_id=None project_id=3 (at agent_interface.py:54 in generate_portfolio())\n"
     ]
    },
    {
     "data": {
      "text/plain": [
       "Configuration Name: -\n",
       "portfolio_build_configuration:\n",
       "  assets_configuration:\n",
       "    asset_universe:\n",
       "      asset_filters:\n",
       "      - asset_type: cash_equity\n",
       "        execution_venue__symbol: alpaca\n",
       "        symbol: AAPL\n",
       "      - asset_type: cash_equity\n",
       "        execution_venue__symbol: alpaca\n",
       "        symbol: GOOG\n",
       "    price_type: vwap\n",
       "    prices_configuration:\n",
       "      bar_frequency_id: 1d\n",
       "      intraday_bar_interpolation_rule: ffill\n",
       "      upsample_frequency_id: 1d\n",
       "  backtesting_weights_configuration:\n",
       "    rebalance_strategy_configuration:\n",
       "      calendar: 24/7\n",
       "    rebalance_strategy_name: ImmediateSignal\n",
       "    signal_weights_configuration:\n",
       "      num_top_assets: None\n",
       "      signal_assets_configuration:\n",
       "        asset_universe:\n",
       "          asset_filters:\n",
       "          - asset_type: cash_equity\n",
       "            execution_venue__symbol: alpaca\n",
       "            symbol: AAPL\n",
       "          - asset_type: cash_equity\n",
       "            execution_venue__symbol: alpaca\n",
       "            symbol: GOOG\n",
       "        price_type: vwap\n",
       "        prices_configuration:\n",
       "          bar_frequency_id: 1d\n",
       "          intraday_bar_interpolation_rule: ffill\n",
       "          upsample_frequency_id: 1d\n",
       "      source_frequency: 1d\n",
       "    signal_weights_name: MarketCap\n",
       "  execution_configuration:\n",
       "    commission_fee: 0.00018\n",
       "  portfolio_prices_frequency: 1d\n",
       "  valuation_asset:\n",
       "    asset_type: cash_equity\n",
       "    execution_venue_symbol: alpaca\n",
       "    symbol: USD\n",
       "portfolio_vam_configuration:\n",
       "  execution_configuration:\n",
       "    max_data_latency_seconds: 60\n",
       "    max_latency_in_cdc_seconds: 300\n",
       "    minimum_notional_for_a_rebalance: 15.0\n",
       "    minimum_positions_holding_seconds: 600\n",
       "    orders_execution_configuration:\n",
       "      broker_class: PriceChaserBroker\n",
       "      broker_configuration:\n",
       "        execution_time_out_seconds: 300\n",
       "        max_order_life_time_seconds: 2\n",
       "    rebalance_step_every_seconds: 300\n",
       "    rebalance_tolerance_percent: 0.005\n",
       "    unwind_funds_hanging_limit_seconds: 3600\n",
       "  front_end_details: ''\n",
       "  portfolio_name: Portfolio Strategy Title"
      ]
     },
     "execution_count": 4,
     "metadata": {},
     "output_type": "execute_result"
    }
   ],
   "execution_count": 4
  },
  {
   "metadata": {},
   "cell_type": "markdown",
   "source": "# Run the strategy",
   "id": "942a3a9a3448b48f"
  },
  {
   "metadata": {
    "jupyter": {
     "is_executing": true
    },
    "ExecuteTime": {
     "start_time": "2025-03-17T20:04:50.073051Z"
    }
   },
   "cell_type": "code",
   "source": [
    "res = portfolio.run()\n",
    "res.head()"
   ],
   "id": "7fa00114d7ef0b8",
   "outputs": [
    {
     "name": "stderr",
     "output_type": "stream",
     "text": [
      "2025-03-17T20:04:50.076119Z [debug    ] Requesting GET from http://127.0.0.1:8000/orm/api/data_sources/historical-bars-source/ application_name=ms-sdk data_source_id=1 job_run_id=None project_id=3 (at utils.py:55 in make_request())\n"
     ]
    }
   ],
   "execution_count": null
  },
  {
   "metadata": {},
   "cell_type": "markdown",
   "source": "# Plot the portfolio results",
   "id": "c8168bc319a2969a"
  },
  {
   "metadata": {},
   "cell_type": "code",
   "source": [
    "import plotly.graph_objects as go\n",
    "import pandas as pd\n",
    "\n",
    "# Create the plot\n",
    "fig = go.Figure()\n",
    "\n",
    "fig.add_trace(\n",
    "    go.Scatter(\n",
    "        x=res.index, \n",
    "        y=res[\"close\"], \n",
    "        mode=\"lines+markers\",\n",
    "        name=\"Portfolio Value\",\n",
    "        line=dict(color='blue', width=1),\n",
    "        marker=dict(size=2)\n",
    "    )\n",
    ")\n",
    "\n",
    "# Customize layout\n",
    "fig.update_layout(\n",
    "    title=\"Portfolio Value Over Time\",\n",
    "    xaxis_title=\"Date\",\n",
    "    yaxis_title=\"Portfolio Value\",\n",
    "    template=\"plotly_white\",\n",
    "    hovermode=\"x unified\"\n",
    ")\n",
    "\n",
    "# Show the plot\n",
    "fig.show()"
   ],
   "id": "5e4a64ab6030cb60",
   "outputs": [],
   "execution_count": null
  },
  {
   "metadata": {},
   "cell_type": "code",
   "source": "",
   "id": "9cb1bc6a12b9e8a6",
   "outputs": [],
   "execution_count": null
  }
 ],
 "metadata": {
  "kernelspec": {
   "display_name": "Python 3",
   "language": "python",
   "name": "python3"
  },
  "language_info": {
   "codemirror_mode": {
    "name": "ipython",
    "version": 2
   },
   "file_extension": ".py",
   "mimetype": "text/x-python",
   "name": "python",
   "nbconvert_exporter": "python",
   "pygments_lexer": "ipython2",
   "version": "2.7.6"
  }
 },
 "nbformat": 4,
 "nbformat_minor": 5
}
