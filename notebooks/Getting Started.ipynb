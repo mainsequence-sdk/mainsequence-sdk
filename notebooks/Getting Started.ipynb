{
 "cells": [
  {
   "metadata": {
    "ExecuteTime": {
     "end_time": "2025-03-06T08:55:32.631616Z",
     "start_time": "2025-03-06T08:55:28.617141Z"
    }
   },
   "cell_type": "code",
   "source": [
    "\n",
    "#comment out for local testing out of Main Sequence Platform\n",
    "import dotenv\n",
    "dotenv.load_dotenv('../.env.dev_local')\n",
    "\n",
    "from mainsequence.virtualfundbuilder.portfolio_interface import PortfolioInterface\n",
    "from mainsequence.virtualfundbuilder.agent_interface import TDAGAgent"
   ],
   "id": "8c9bb090157e4c1a",
   "outputs": [
    {
     "name": "stderr",
     "output_type": "stream",
     "text": [
      "\u001B[2m2025-03-06T08:55:30.389436Z\u001B[0m [\u001B[32m\u001B[1mdebug    \u001B[0m] \u001B[1mGetting Auth Headers TS_ORM   \u001B[0m \u001B[36mapplication_name\u001B[0m=\u001B[35mms-sdk\u001B[0m \u001B[36mdata_source_id\u001B[0m=\u001B[35m28\u001B[0m \u001B[36mjob_run_id\u001B[0m=\u001B[35mNone\u001B[0m \u001B[36mproject_id\u001B[0m=\u001B[35m43\u001B[0m (at utils.py:138 in refresh_headers())\n",
      "\u001B[2m2025-03-06T08:55:30.398070Z\u001B[0m [\u001B[32m\u001B[1mdebug    \u001B[0m] \u001B[1mAuth Headers Acquired         \u001B[0m \u001B[36mapplication_name\u001B[0m=\u001B[35mms-sdk\u001B[0m \u001B[36mdata_source_id\u001B[0m=\u001B[35m28\u001B[0m \u001B[36mjob_run_id\u001B[0m=\u001B[35mNone\u001B[0m \u001B[36mproject_id\u001B[0m=\u001B[35m43\u001B[0m (at utils.py:145 in refresh_headers())\n",
      "\u001B[2m2025-03-06T08:55:30.438041Z\u001B[0m [\u001B[32m\u001B[1mdebug    \u001B[0m] \u001B[1mRequesting GET from http://192.168.178.17:8000/pods/api/projects/get_user_default_project/\u001B[0m \u001B[36mapplication_name\u001B[0m=\u001B[35mms-sdk\u001B[0m \u001B[36mdata_source_id\u001B[0m=\u001B[35m28\u001B[0m \u001B[36mjob_run_id\u001B[0m=\u001B[35mNone\u001B[0m \u001B[36mproject_id\u001B[0m=\u001B[35m43\u001B[0m (at utils.py:187 in make_request())\n",
      "\u001B[2m2025-03-06T08:55:30.613679Z\u001B[0m [\u001B[32m\u001B[1mdebug    \u001B[0m] \u001B[1mGetting Auth Headers TS_ORM   \u001B[0m \u001B[36mapplication_name\u001B[0m=\u001B[35mms-sdk\u001B[0m \u001B[36mdata_source_id\u001B[0m=\u001B[35m28\u001B[0m \u001B[36mjob_run_id\u001B[0m=\u001B[35mNone\u001B[0m \u001B[36mproject_id\u001B[0m=\u001B[35m43\u001B[0m (at utils.py:138 in refresh_headers())\n",
      "\u001B[2m2025-03-06T08:55:30.615805Z\u001B[0m [\u001B[32m\u001B[1mdebug    \u001B[0m] \u001B[1mAuth Headers Acquired         \u001B[0m \u001B[36mapplication_name\u001B[0m=\u001B[35mms-sdk\u001B[0m \u001B[36mdata_source_id\u001B[0m=\u001B[35m28\u001B[0m \u001B[36mjob_run_id\u001B[0m=\u001B[35mNone\u001B[0m \u001B[36mproject_id\u001B[0m=\u001B[35m43\u001B[0m (at utils.py:145 in refresh_headers())\n",
      "\u001B[2m2025-03-06T08:55:30.617661Z\u001B[0m [\u001B[32m\u001B[1mdebug    \u001B[0m] \u001B[1mRequesting GET from http://192.168.178.17:8000/orm/api/constants\u001B[0m \u001B[36mapplication_name\u001B[0m=\u001B[35mms-sdk\u001B[0m \u001B[36mdata_source_id\u001B[0m=\u001B[35m28\u001B[0m \u001B[36mjob_run_id\u001B[0m=\u001B[35mNone\u001B[0m \u001B[36mproject_id\u001B[0m=\u001B[35m43\u001B[0m (at utils.py:187 in make_request())\n",
      "\u001B[2m2025-03-06T08:55:30.735669Z\u001B[0m [\u001B[32m\u001B[1mdebug    \u001B[0m] \u001B[1mGetting Auth Headers ASSETS_ORM\u001B[0m \u001B[36mapplication_name\u001B[0m=\u001B[35mms-sdk\u001B[0m \u001B[36mdata_source_id\u001B[0m=\u001B[35m28\u001B[0m \u001B[36mjob_run_id\u001B[0m=\u001B[35mNone\u001B[0m \u001B[36mproject_id\u001B[0m=\u001B[35m43\u001B[0m (at utils.py:56 in refresh_headers())\n",
      "\u001B[2m2025-03-06T08:55:30.823680Z\u001B[0m [\u001B[32m\u001B[1mdebug    \u001B[0m] \u001B[1mGetting Auth Headers ASSETS_ORM\u001B[0m \u001B[36mapplication_name\u001B[0m=\u001B[35mms-sdk\u001B[0m \u001B[36mdata_source_id\u001B[0m=\u001B[35m28\u001B[0m \u001B[36mjob_run_id\u001B[0m=\u001B[35mNone\u001B[0m \u001B[36mproject_id\u001B[0m=\u001B[35m43\u001B[0m (at utils.py:56 in refresh_headers())\n",
      "\u001B[2m2025-03-06T08:55:30.825554Z\u001B[0m [\u001B[32m\u001B[1mdebug    \u001B[0m] \u001B[1mRequesting GET from https://dev-vam.ngrok.app//orm/api/constants\u001B[0m \u001B[36mapplication_name\u001B[0m=\u001B[35mms-sdk\u001B[0m \u001B[36mdata_source_id\u001B[0m=\u001B[35m28\u001B[0m \u001B[36mjob_run_id\u001B[0m=\u001B[35mNone\u001B[0m \u001B[36mproject_id\u001B[0m=\u001B[35m43\u001B[0m (at utils.py:87 in make_request())\n",
      "/home/jose/code/MainSequenceClientSide/mainsequence-sdk/.venv/lib/python3.9/site-packages/pydantic/_internal/_generate_schema.py:502: UserWarning: FieldInfo(annotation=NoneType, required=False, default=<class 'mainsequence.vam_client.models.AssetMixin'>, json_schema_extra={'portfolio_configuration_overwrite': <class 'mainsequence.virtualfundbuilder.models.AssetMixinOverwrite'>}) is not a Python type (it may be an instance of an object), Pydantic will allow any object with no validation since we cannot even enforce that the input is an instance of the given type. To get rid of this error wrap the type with `pydantic.SkipValidation`.\n",
      "  warn(\n",
      "\u001B[2m2025-03-06T08:55:31.595693Z\u001B[0m [\u001B[32m\u001B[1mdebug    \u001B[0m] \u001B[1mRegistered StrategyType.SIGNAL_WEIGHTS_STRATEGY class 'IntradayTrend': <class 'mainsequence.virtualfundbuilder.contrib.signals.intraday_trend.IntradayTrend'>\u001B[0m \u001B[36mapplication_name\u001B[0m=\u001B[35mms-sdk\u001B[0m \u001B[36mdata_source_id\u001B[0m=\u001B[35m28\u001B[0m \u001B[36mjob_run_id\u001B[0m=\u001B[35mNone\u001B[0m \u001B[36mproject_id\u001B[0m=\u001B[35m43\u001B[0m (at base_factory.py:86 in insert_in_registry())\n",
      "\u001B[2m2025-03-06T08:55:31.615257Z\u001B[0m [\u001B[32m\u001B[1mdebug    \u001B[0m] \u001B[1mRegistered StrategyType.SIGNAL_WEIGHTS_STRATEGY class 'FixedWeights': <class 'mainsequence.virtualfundbuilder.contrib.signals.market_cap.FixedWeights'>\u001B[0m \u001B[36mapplication_name\u001B[0m=\u001B[35mms-sdk\u001B[0m \u001B[36mdata_source_id\u001B[0m=\u001B[35m28\u001B[0m \u001B[36mjob_run_id\u001B[0m=\u001B[35mNone\u001B[0m \u001B[36mproject_id\u001B[0m=\u001B[35m43\u001B[0m (at base_factory.py:86 in insert_in_registry())\n",
      "\u001B[2m2025-03-06T08:55:31.616222Z\u001B[0m [\u001B[32m\u001B[1mdebug    \u001B[0m] \u001B[1mRegister signal: IntradayTrend\u001B[0m \u001B[36mapplication_name\u001B[0m=\u001B[35mms-sdk\u001B[0m \u001B[36mdata_source_id\u001B[0m=\u001B[35m28\u001B[0m \u001B[36mjob_run_id\u001B[0m=\u001B[35mNone\u001B[0m \u001B[36mproject_id\u001B[0m=\u001B[35m43\u001B[0m (at utils.py:678 in _send_strategy_to_registry())\n",
      "\u001B[2m2025-03-06T08:55:31.623304Z\u001B[0m [\u001B[32m\u001B[1mdebug    \u001B[0m] \u001B[1mRegistered StrategyType.SIGNAL_WEIGHTS_STRATEGY class 'MarketCap': <class 'mainsequence.virtualfundbuilder.contrib.signals.market_cap.MarketCap'>\u001B[0m \u001B[36mapplication_name\u001B[0m=\u001B[35mms-sdk\u001B[0m \u001B[36mdata_source_id\u001B[0m=\u001B[35m28\u001B[0m \u001B[36mjob_run_id\u001B[0m=\u001B[35mNone\u001B[0m \u001B[36mproject_id\u001B[0m=\u001B[35m43\u001B[0m (at base_factory.py:86 in insert_in_registry())\n",
      "\u001B[2m2025-03-06T08:55:31.628808Z\u001B[0m [\u001B[32m\u001B[1mdebug    \u001B[0m] \u001B[1mRequesting POST from http://192.168.178.17:8000/tdag-gpt/register_strategy/\u001B[0m \u001B[36mapplication_name\u001B[0m=\u001B[35mms-sdk\u001B[0m \u001B[36mdata_source_id\u001B[0m=\u001B[35m28\u001B[0m \u001B[36mjob_run_id\u001B[0m=\u001B[35mNone\u001B[0m \u001B[36mproject_id\u001B[0m=\u001B[35m43\u001B[0m (at utils.py:187 in make_request())\n",
      "\u001B[2m2025-03-06T08:55:31.633539Z\u001B[0m [\u001B[32m\u001B[1mdebug    \u001B[0m] \u001B[1mRegister signal: FixedWeights \u001B[0m \u001B[36mapplication_name\u001B[0m=\u001B[35mms-sdk\u001B[0m \u001B[36mdata_source_id\u001B[0m=\u001B[35m28\u001B[0m \u001B[36mjob_run_id\u001B[0m=\u001B[35mNone\u001B[0m \u001B[36mproject_id\u001B[0m=\u001B[35m43\u001B[0m (at utils.py:678 in _send_strategy_to_registry())\n",
      "\u001B[2m2025-03-06T08:55:31.655050Z\u001B[0m [\u001B[32m\u001B[1mdebug    \u001B[0m] \u001B[1mRegister signal: MarketCap    \u001B[0m \u001B[36mapplication_name\u001B[0m=\u001B[35mms-sdk\u001B[0m \u001B[36mdata_source_id\u001B[0m=\u001B[35m28\u001B[0m \u001B[36mjob_run_id\u001B[0m=\u001B[35mNone\u001B[0m \u001B[36mproject_id\u001B[0m=\u001B[35m43\u001B[0m (at utils.py:678 in _send_strategy_to_registry())\n",
      "\u001B[2m2025-03-06T08:55:31.662348Z\u001B[0m [\u001B[32m\u001B[1mdebug    \u001B[0m] \u001B[1mRegistered StrategyType.SIGNAL_WEIGHTS_STRATEGY class 'MockSignal': <class 'mainsequence.virtualfundbuilder.contrib.signals.mock_signal.MockSignal'>\u001B[0m \u001B[36mapplication_name\u001B[0m=\u001B[35mms-sdk\u001B[0m \u001B[36mdata_source_id\u001B[0m=\u001B[35m28\u001B[0m \u001B[36mjob_run_id\u001B[0m=\u001B[35mNone\u001B[0m \u001B[36mproject_id\u001B[0m=\u001B[35m43\u001B[0m (at base_factory.py:86 in insert_in_registry())\n",
      "\u001B[2m2025-03-06T08:55:31.663209Z\u001B[0m [\u001B[32m\u001B[1mdebug    \u001B[0m] \u001B[1mRequesting POST from http://192.168.178.17:8000/tdag-gpt/register_strategy/\u001B[0m \u001B[36mapplication_name\u001B[0m=\u001B[35mms-sdk\u001B[0m \u001B[36mdata_source_id\u001B[0m=\u001B[35m28\u001B[0m \u001B[36mjob_run_id\u001B[0m=\u001B[35mNone\u001B[0m \u001B[36mproject_id\u001B[0m=\u001B[35m43\u001B[0m (at utils.py:187 in make_request())\n",
      "\u001B[2m2025-03-06T08:55:31.665642Z\u001B[0m [\u001B[32m\u001B[1mdebug    \u001B[0m] \u001B[1mRequesting POST from http://192.168.178.17:8000/tdag-gpt/register_strategy/\u001B[0m \u001B[36mapplication_name\u001B[0m=\u001B[35mms-sdk\u001B[0m \u001B[36mdata_source_id\u001B[0m=\u001B[35m28\u001B[0m \u001B[36mjob_run_id\u001B[0m=\u001B[35mNone\u001B[0m \u001B[36mproject_id\u001B[0m=\u001B[35m43\u001B[0m (at utils.py:187 in make_request())\n",
      "\u001B[2m2025-03-06T08:55:31.710835Z\u001B[0m [\u001B[32m\u001B[1mdebug    \u001B[0m] \u001B[1mRegister signal: MockSignal   \u001B[0m \u001B[36mapplication_name\u001B[0m=\u001B[35mms-sdk\u001B[0m \u001B[36mdata_source_id\u001B[0m=\u001B[35m28\u001B[0m \u001B[36mjob_run_id\u001B[0m=\u001B[35mNone\u001B[0m \u001B[36mproject_id\u001B[0m=\u001B[35m43\u001B[0m (at utils.py:678 in _send_strategy_to_registry())\n",
      "\u001B[2m2025-03-06T08:55:31.716523Z\u001B[0m [\u001B[32m\u001B[1mdebug    \u001B[0m] \u001B[1mRequesting POST from http://192.168.178.17:8000/tdag-gpt/register_strategy/\u001B[0m \u001B[36mapplication_name\u001B[0m=\u001B[35mms-sdk\u001B[0m \u001B[36mdata_source_id\u001B[0m=\u001B[35m28\u001B[0m \u001B[36mjob_run_id\u001B[0m=\u001B[35mNone\u001B[0m \u001B[36mproject_id\u001B[0m=\u001B[35m43\u001B[0m (at utils.py:187 in make_request())\n",
      "\u001B[2m2025-03-06T08:55:32.299561Z\u001B[0m [\u001B[32m\u001B[1mdebug    \u001B[0m] \u001B[1mRegistered StrategyType.SIGNAL_WEIGHTS_STRATEGY class 'ETFReplicator': <class 'mainsequence.virtualfundbuilder.contrib.signals.portfolio_replicator.ETFReplicator'>\u001B[0m \u001B[36mapplication_name\u001B[0m=\u001B[35mms-sdk\u001B[0m \u001B[36mdata_source_id\u001B[0m=\u001B[35m28\u001B[0m \u001B[36mjob_run_id\u001B[0m=\u001B[35mNone\u001B[0m \u001B[36mproject_id\u001B[0m=\u001B[35m43\u001B[0m (at base_factory.py:86 in insert_in_registry())\n",
      "\u001B[2m2025-03-06T08:55:32.317551Z\u001B[0m [\u001B[32m\u001B[1mdebug    \u001B[0m] \u001B[1mRegister signal: ETFReplicator\u001B[0m \u001B[36mapplication_name\u001B[0m=\u001B[35mms-sdk\u001B[0m \u001B[36mdata_source_id\u001B[0m=\u001B[35m28\u001B[0m \u001B[36mjob_run_id\u001B[0m=\u001B[35mNone\u001B[0m \u001B[36mproject_id\u001B[0m=\u001B[35m43\u001B[0m (at utils.py:678 in _send_strategy_to_registry())\n",
      "\u001B[2m2025-03-06T08:55:32.319098Z\u001B[0m [\u001B[32m\u001B[1mdebug    \u001B[0m] \u001B[1mRequesting POST from http://192.168.178.17:8000/tdag-gpt/register_strategy/\u001B[0m \u001B[36mapplication_name\u001B[0m=\u001B[35mms-sdk\u001B[0m \u001B[36mdata_source_id\u001B[0m=\u001B[35m28\u001B[0m \u001B[36mjob_run_id\u001B[0m=\u001B[35mNone\u001B[0m \u001B[36mproject_id\u001B[0m=\u001B[35m43\u001B[0m (at utils.py:187 in make_request())\n",
      "\u001B[2m2025-03-06T08:55:32.322547Z\u001B[0m [\u001B[32m\u001B[1mdebug    \u001B[0m] \u001B[1mRegistered StrategyType.REBALANCE_STRATEGY class 'VolumeParticipation': <class 'mainsequence.virtualfundbuilder.contrib.rebalance_strategies.rebalance_strategies.VolumeParticipation'>\u001B[0m \u001B[36mapplication_name\u001B[0m=\u001B[35mms-sdk\u001B[0m \u001B[36mdata_source_id\u001B[0m=\u001B[35m28\u001B[0m \u001B[36mjob_run_id\u001B[0m=\u001B[35mNone\u001B[0m \u001B[36mproject_id\u001B[0m=\u001B[35m43\u001B[0m (at base_factory.py:86 in insert_in_registry())\n",
      "\u001B[2m2025-03-06T08:55:32.325662Z\u001B[0m [\u001B[32m\u001B[1mdebug    \u001B[0m] \u001B[1mRegistered StrategyType.REBALANCE_STRATEGY class 'TimeWeighted': <class 'mainsequence.virtualfundbuilder.contrib.rebalance_strategies.rebalance_strategies.TimeWeighted'>\u001B[0m \u001B[36mapplication_name\u001B[0m=\u001B[35mms-sdk\u001B[0m \u001B[36mdata_source_id\u001B[0m=\u001B[35m28\u001B[0m \u001B[36mjob_run_id\u001B[0m=\u001B[35mNone\u001B[0m \u001B[36mproject_id\u001B[0m=\u001B[35m43\u001B[0m (at base_factory.py:86 in insert_in_registry())\n",
      "\u001B[2m2025-03-06T08:55:32.333872Z\u001B[0m [\u001B[32m\u001B[1mdebug    \u001B[0m] \u001B[1mRegister signal: VolumeParticipation\u001B[0m \u001B[36mapplication_name\u001B[0m=\u001B[35mms-sdk\u001B[0m \u001B[36mdata_source_id\u001B[0m=\u001B[35m28\u001B[0m \u001B[36mjob_run_id\u001B[0m=\u001B[35mNone\u001B[0m \u001B[36mproject_id\u001B[0m=\u001B[35m43\u001B[0m (at utils.py:678 in _send_strategy_to_registry())\n",
      "\u001B[2m2025-03-06T08:55:32.336133Z\u001B[0m [\u001B[32m\u001B[1mdebug    \u001B[0m] \u001B[1mRegistered StrategyType.REBALANCE_STRATEGY class 'ImmediateSignal': <class 'mainsequence.virtualfundbuilder.contrib.rebalance_strategies.rebalance_strategies.ImmediateSignal'>\u001B[0m \u001B[36mapplication_name\u001B[0m=\u001B[35mms-sdk\u001B[0m \u001B[36mdata_source_id\u001B[0m=\u001B[35m28\u001B[0m \u001B[36mjob_run_id\u001B[0m=\u001B[35mNone\u001B[0m \u001B[36mproject_id\u001B[0m=\u001B[35m43\u001B[0m (at base_factory.py:86 in insert_in_registry())\n",
      "\u001B[2m2025-03-06T08:55:32.341228Z\u001B[0m [\u001B[32m\u001B[1mdebug    \u001B[0m] \u001B[1mRegister signal: TimeWeighted \u001B[0m \u001B[36mapplication_name\u001B[0m=\u001B[35mms-sdk\u001B[0m \u001B[36mdata_source_id\u001B[0m=\u001B[35m28\u001B[0m \u001B[36mjob_run_id\u001B[0m=\u001B[35mNone\u001B[0m \u001B[36mproject_id\u001B[0m=\u001B[35m43\u001B[0m (at utils.py:678 in _send_strategy_to_registry())\n",
      "\u001B[2m2025-03-06T08:55:32.341852Z\u001B[0m [\u001B[32m\u001B[1mdebug    \u001B[0m] \u001B[1mRequesting POST from http://192.168.178.17:8000/tdag-gpt/register_strategy/\u001B[0m \u001B[36mapplication_name\u001B[0m=\u001B[35mms-sdk\u001B[0m \u001B[36mdata_source_id\u001B[0m=\u001B[35m28\u001B[0m \u001B[36mjob_run_id\u001B[0m=\u001B[35mNone\u001B[0m \u001B[36mproject_id\u001B[0m=\u001B[35m43\u001B[0m (at utils.py:187 in make_request())\n",
      "\u001B[2m2025-03-06T08:55:32.349552Z\u001B[0m [\u001B[32m\u001B[1mdebug    \u001B[0m] \u001B[1mRegister signal: ImmediateSignal\u001B[0m \u001B[36mapplication_name\u001B[0m=\u001B[35mms-sdk\u001B[0m \u001B[36mdata_source_id\u001B[0m=\u001B[35m28\u001B[0m \u001B[36mjob_run_id\u001B[0m=\u001B[35mNone\u001B[0m \u001B[36mproject_id\u001B[0m=\u001B[35m43\u001B[0m (at utils.py:678 in _send_strategy_to_registry())\n",
      "\u001B[2m2025-03-06T08:55:32.350567Z\u001B[0m [\u001B[32m\u001B[1mdebug    \u001B[0m] \u001B[1mRequesting POST from http://192.168.178.17:8000/tdag-gpt/register_strategy/\u001B[0m \u001B[36mapplication_name\u001B[0m=\u001B[35mms-sdk\u001B[0m \u001B[36mdata_source_id\u001B[0m=\u001B[35m28\u001B[0m \u001B[36mjob_run_id\u001B[0m=\u001B[35mNone\u001B[0m \u001B[36mproject_id\u001B[0m=\u001B[35m43\u001B[0m (at utils.py:187 in make_request())\n",
      "\u001B[2m2025-03-06T08:55:32.354947Z\u001B[0m [\u001B[32m\u001B[1mdebug    \u001B[0m] \u001B[1mRequesting POST from http://192.168.178.17:8000/tdag-gpt/register_strategy/\u001B[0m \u001B[36mapplication_name\u001B[0m=\u001B[35mms-sdk\u001B[0m \u001B[36mdata_source_id\u001B[0m=\u001B[35m28\u001B[0m \u001B[36mjob_run_id\u001B[0m=\u001B[35mNone\u001B[0m \u001B[36mproject_id\u001B[0m=\u001B[35m43\u001B[0m (at utils.py:187 in make_request())\n"
     ]
    }
   ],
   "execution_count": 1
  },
  {
   "metadata": {},
   "cell_type": "markdown",
   "source": "# Connect to the TDAG-LLM Agent",
   "id": "67f98089503b1773"
  },
  {
   "metadata": {
    "ExecuteTime": {
     "end_time": "2025-03-06T08:55:32.807581Z",
     "start_time": "2025-03-06T08:55:32.633446Z"
    }
   },
   "cell_type": "code",
   "source": "tdag_agent = TDAGAgent()",
   "id": "33b3e037285a8d82",
   "outputs": [
    {
     "name": "stderr",
     "output_type": "stream",
     "text": [
      "\u001B[2m2025-03-06T08:55:32.683559Z\u001B[0m [\u001B[32m\u001B[1mdebug    \u001B[0m] \u001B[1mSend default documentation to Backend\u001B[0m \u001B[36mapplication_name\u001B[0m=\u001B[35mms-sdk\u001B[0m \u001B[36mdata_source_id\u001B[0m=\u001B[35m28\u001B[0m \u001B[36mjob_run_id\u001B[0m=\u001B[35mNone\u001B[0m \u001B[36mproject_id\u001B[0m=\u001B[35m43\u001B[0m (at __main__.py:192 in send_default_configuration())\n",
      "\u001B[2m2025-03-06T08:55:32.685668Z\u001B[0m [\u001B[32m\u001B[1mdebug    \u001B[0m] \u001B[1mRequesting POST from http://192.168.178.17:8000/tdag-gpt/register_default_configuration/\u001B[0m \u001B[36mapplication_name\u001B[0m=\u001B[35mms-sdk\u001B[0m \u001B[36mdata_source_id\u001B[0m=\u001B[35m28\u001B[0m \u001B[36mjob_run_id\u001B[0m=\u001B[35mNone\u001B[0m \u001B[36mproject_id\u001B[0m=\u001B[35m43\u001B[0m (at utils.py:187 in make_request())\n",
      "\u001B[2m2025-03-06T08:55:32.803835Z\u001B[0m [\u001B[32m\u001B[1minfo     \u001B[0m] \u001B[1mSetup TDAG Agent successfull  \u001B[0m \u001B[36mapplication_name\u001B[0m=\u001B[35mms-sdk\u001B[0m \u001B[36mdata_source_id\u001B[0m=\u001B[35m28\u001B[0m \u001B[36mjob_run_id\u001B[0m=\u001B[35mNone\u001B[0m \u001B[36mproject_id\u001B[0m=\u001B[35m43\u001B[0m (at agent_interface.py:28 in __init__())\n"
     ]
    }
   ],
   "execution_count": 2
  },
  {
   "metadata": {},
   "cell_type": "markdown",
   "source": "# Create a custom Strategy",
   "id": "4e0b2d1902a9b3d6"
  },
  {
   "metadata": {},
   "cell_type": "markdown",
   "source": "# Get the configuration for the full portfolio based on our strategy",
   "id": "22e3d24a3bbc1ef5"
  },
  {
   "metadata": {
    "ExecuteTime": {
     "end_time": "2025-03-06T08:55:40.132867Z",
     "start_time": "2025-03-06T08:55:40.124585Z"
    }
   },
   "cell_type": "code",
   "source": "PortfolioInterface.list_configurations()",
   "id": "82d82eb8b40cfce9",
   "outputs": [
    {
     "data": {
      "text/plain": [
       "[]"
      ]
     },
     "execution_count": 3,
     "metadata": {},
     "output_type": "execute_result"
    }
   ],
   "execution_count": 3
  },
  {
   "cell_type": "code",
   "id": "initial_id",
   "metadata": {
    "collapsed": true,
    "ExecuteTime": {
     "end_time": "2025-03-06T08:56:39.613324Z",
     "start_time": "2025-03-06T08:55:41.764541Z"
    }
   },
   "source": [
    "from mainsequence.virtualfundbuilder.contrib.signals import MarketCap\n",
    "\n",
    "portfolio = tdag_agent.generate_portfolio(MarketCap, signal_description=\"Create me a market cap portfolio using AAPL and GOOG\")\n",
    "\n",
    "portfolio"
   ],
   "outputs": [
    {
     "name": "stderr",
     "output_type": "stream",
     "text": [
      "\u001B[2m2025-03-06T08:55:41.793356Z\u001B[0m [\u001B[32m\u001B[1mdebug    \u001B[0m] \u001B[1mRegister signal: MarketCap    \u001B[0m \u001B[36mapplication_name\u001B[0m=\u001B[35mms-sdk\u001B[0m \u001B[36mdata_source_id\u001B[0m=\u001B[35m28\u001B[0m \u001B[36mjob_run_id\u001B[0m=\u001B[35mNone\u001B[0m \u001B[36mproject_id\u001B[0m=\u001B[35m43\u001B[0m (at utils.py:678 in _send_strategy_to_registry())\n",
      "\u001B[2m2025-03-06T08:55:41.795650Z\u001B[0m [\u001B[32m\u001B[1mdebug    \u001B[0m] \u001B[1mRequesting POST from http://192.168.178.17:8000/tdag-gpt/register_strategy/\u001B[0m \u001B[36mapplication_name\u001B[0m=\u001B[35mms-sdk\u001B[0m \u001B[36mdata_source_id\u001B[0m=\u001B[35m28\u001B[0m \u001B[36mjob_run_id\u001B[0m=\u001B[35mNone\u001B[0m \u001B[36mproject_id\u001B[0m=\u001B[35m43\u001B[0m (at utils.py:187 in make_request())\n",
      "\u001B[2m2025-03-06T08:55:41.938279Z\u001B[0m [\u001B[32m\u001B[1minfo     \u001B[0m] \u001B[1mGet configuration for MarketCap ...\u001B[0m \u001B[36mapplication_name\u001B[0m=\u001B[35mms-sdk\u001B[0m \u001B[36mdata_source_id\u001B[0m=\u001B[35m28\u001B[0m \u001B[36mjob_run_id\u001B[0m=\u001B[35mNone\u001B[0m \u001B[36mproject_id\u001B[0m=\u001B[35m43\u001B[0m (at agent_interface.py:43 in generate_portfolio())\n",
      "\u001B[2m2025-03-06T08:55:41.940540Z\u001B[0m [\u001B[32m\u001B[1mdebug    \u001B[0m] \u001B[1mRequesting POST from http://192.168.178.17:8000/tdag-gpt/create_configuration_for_strategy/\u001B[0m \u001B[36mapplication_name\u001B[0m=\u001B[35mms-sdk\u001B[0m \u001B[36mdata_source_id\u001B[0m=\u001B[35m28\u001B[0m \u001B[36mjob_run_id\u001B[0m=\u001B[35mNone\u001B[0m \u001B[36mproject_id\u001B[0m=\u001B[35m43\u001B[0m (at utils.py:187 in make_request())\n",
      "\u001B[2m2025-03-06T08:56:39.270643Z\u001B[0m [\u001B[32m\u001B[1minfo     \u001B[0m] \u001B[1mReplaced 'None' in configuration with None at root.portfolio_build_configuration.backtesting_weights_configuration.signal_weights_configuration.num_top_assets\u001B[0m \u001B[36mapplication_name\u001B[0m=\u001B[35mms-sdk\u001B[0m \u001B[36mdata_source_id\u001B[0m=\u001B[35m28\u001B[0m \u001B[36mjob_run_id\u001B[0m=\u001B[35mNone\u001B[0m \u001B[36mproject_id\u001B[0m=\u001B[35m43\u001B[0m (at config_handling.py:163 in recursive_replace())\n",
      "\u001B[2m2025-03-06T08:56:39.272391Z\u001B[0m [\u001B[32m\u001B[1mdebug    \u001B[0m] \u001B[1mRequesting GET from https://dev-vam.ngrok.app//orm/api/alpaca/asset/spot/\u001B[0m \u001B[36mapplication_name\u001B[0m=\u001B[35mms-sdk\u001B[0m \u001B[36mdata_source_id\u001B[0m=\u001B[35m28\u001B[0m \u001B[36mjob_run_id\u001B[0m=\u001B[35mNone\u001B[0m \u001B[36mproject_id\u001B[0m=\u001B[35m43\u001B[0m (at utils.py:87 in make_request())\n",
      "\u001B[2m2025-03-06T08:56:39.595277Z\u001B[0m [\u001B[32m\u001B[1minfo     \u001B[0m] \u001B[1mReceived configuration:\n",
      "Configuration Name: -\n",
      "portfolio_build_configuration:\n",
      "  assets_configuration:\n",
      "    asset_universe:\n",
      "      asset_filters:\n",
      "      - asset_type: cash_equity\n",
      "        execution_venue__symbol: alpaca\n",
      "        symbol: AAPL\n",
      "      - asset_type: cash_equity\n",
      "        execution_venue__symbol: alpaca\n",
      "        symbol: GOOG\n",
      "    price_type: vwap\n",
      "    prices_configuration:\n",
      "      bar_frequency_id: 1d\n",
      "      intraday_bar_interpolation_rule: ffill\n",
      "      upsample_frequency_id: 1d\n",
      "  backtesting_weights_configuration:\n",
      "    rebalance_strategy_configuration:\n",
      "      calendar: 24/7\n",
      "      signal_assets_configuration:\n",
      "        asset_universe:\n",
      "          asset_filters:\n",
      "          - asset_type: cash_equity\n",
      "            execution_venue__symbol: alpaca\n",
      "            symbol: AAPL\n",
      "          - asset_type: cash_equity\n",
      "            execution_venue__symbol: alpaca\n",
      "            symbol: GOOG\n",
      "    rebalance_strategy_name: ImmediateSignal\n",
      "    signal_weights_configuration:\n",
      "      num_top_assets: None\n",
      "      signal_assets_configuration:\n",
      "        asset_universe:\n",
      "          asset_filters:\n",
      "          - asset_type: cash_equity\n",
      "            execution_venue__symbol: alpaca\n",
      "            symbol: AAPL\n",
      "          - asset_type: cash_equity\n",
      "            execution_venue__symbol: alpaca\n",
      "            symbol: GOOG\n",
      "        price_type: vwap\n",
      "        prices_configuration:\n",
      "          bar_frequency_id: 1d\n",
      "          intraday_bar_interpolation_rule: ffill\n",
      "          upsample_frequency_id: 1d\n",
      "      source_frequency: 1d\n",
      "    signal_weights_name: MarketCap\n",
      "  execution_configuration:\n",
      "    commission_fee: 0.00018\n",
      "  portfolio_prices_frequency: 1d\n",
      "  valuation_asset:\n",
      "    asset_type: cash_equity\n",
      "    execution_venue_symbol: alpaca\n",
      "    symbol: USD\n",
      "portfolio_vam_configuration:\n",
      "  execution_configuration:\n",
      "    max_data_latency_seconds: 60\n",
      "    max_latency_in_cdc_seconds: 300\n",
      "    minimum_notional_for_a_rebalance: 15.0\n",
      "    minimum_positions_holding_seconds: 600\n",
      "    orders_execution_configuration:\n",
      "      broker_class: PriceChaserBroker\n",
      "      broker_configuration:\n",
      "        execution_time_out_seconds: 300\n",
      "        max_order_life_time_seconds: 2\n",
      "    rebalance_step_every_seconds: 300\n",
      "    rebalance_tolerance_percent: 0.005\n",
      "    unwind_funds_hanging_limit_seconds: 3600\n",
      "  front_end_details: ''\n",
      "  portfolio_name: Portfolio Strategy Title\n",
      "\u001B[0m \u001B[36mapplication_name\u001B[0m=\u001B[35mms-sdk\u001B[0m \u001B[36mdata_source_id\u001B[0m=\u001B[35m28\u001B[0m \u001B[36mjob_run_id\u001B[0m=\u001B[35mNone\u001B[0m \u001B[36mproject_id\u001B[0m=\u001B[35m43\u001B[0m (at agent_interface.py:54 in generate_portfolio())\n"
     ]
    },
    {
     "data": {
      "text/plain": [
       "Configuration Name: -\n",
       "portfolio_build_configuration:\n",
       "  assets_configuration:\n",
       "    asset_universe:\n",
       "      asset_filters:\n",
       "      - asset_type: cash_equity\n",
       "        execution_venue__symbol: alpaca\n",
       "        symbol: AAPL\n",
       "      - asset_type: cash_equity\n",
       "        execution_venue__symbol: alpaca\n",
       "        symbol: GOOG\n",
       "    price_type: vwap\n",
       "    prices_configuration:\n",
       "      bar_frequency_id: 1d\n",
       "      intraday_bar_interpolation_rule: ffill\n",
       "      upsample_frequency_id: 1d\n",
       "  backtesting_weights_configuration:\n",
       "    rebalance_strategy_configuration:\n",
       "      calendar: 24/7\n",
       "      signal_assets_configuration:\n",
       "        asset_universe:\n",
       "          asset_filters:\n",
       "          - asset_type: cash_equity\n",
       "            execution_venue__symbol: alpaca\n",
       "            symbol: AAPL\n",
       "          - asset_type: cash_equity\n",
       "            execution_venue__symbol: alpaca\n",
       "            symbol: GOOG\n",
       "    rebalance_strategy_name: ImmediateSignal\n",
       "    signal_weights_configuration:\n",
       "      num_top_assets: None\n",
       "      signal_assets_configuration:\n",
       "        asset_universe:\n",
       "          asset_filters:\n",
       "          - asset_type: cash_equity\n",
       "            execution_venue__symbol: alpaca\n",
       "            symbol: AAPL\n",
       "          - asset_type: cash_equity\n",
       "            execution_venue__symbol: alpaca\n",
       "            symbol: GOOG\n",
       "        price_type: vwap\n",
       "        prices_configuration:\n",
       "          bar_frequency_id: 1d\n",
       "          intraday_bar_interpolation_rule: ffill\n",
       "          upsample_frequency_id: 1d\n",
       "      source_frequency: 1d\n",
       "    signal_weights_name: MarketCap\n",
       "  execution_configuration:\n",
       "    commission_fee: 0.00018\n",
       "  portfolio_prices_frequency: 1d\n",
       "  valuation_asset:\n",
       "    asset_type: cash_equity\n",
       "    execution_venue_symbol: alpaca\n",
       "    symbol: USD\n",
       "portfolio_vam_configuration:\n",
       "  execution_configuration:\n",
       "    max_data_latency_seconds: 60\n",
       "    max_latency_in_cdc_seconds: 300\n",
       "    minimum_notional_for_a_rebalance: 15.0\n",
       "    minimum_positions_holding_seconds: 600\n",
       "    orders_execution_configuration:\n",
       "      broker_class: PriceChaserBroker\n",
       "      broker_configuration:\n",
       "        execution_time_out_seconds: 300\n",
       "        max_order_life_time_seconds: 2\n",
       "    rebalance_step_every_seconds: 300\n",
       "    rebalance_tolerance_percent: 0.005\n",
       "    unwind_funds_hanging_limit_seconds: 3600\n",
       "  front_end_details: ''\n",
       "  portfolio_name: Portfolio Strategy Title"
      ]
     },
     "execution_count": 4,
     "metadata": {},
     "output_type": "execute_result"
    }
   ],
   "execution_count": 4
  },
  {
   "metadata": {},
   "cell_type": "markdown",
   "source": "# Run the strategy",
   "id": "942a3a9a3448b48f"
  },
  {
   "metadata": {},
   "cell_type": "code",
   "source": [
    "res = portfolio.run()\n",
    "res.head()"
   ],
   "id": "7fa00114d7ef0b8",
   "outputs": [],
   "execution_count": null
  },
  {
   "metadata": {},
   "cell_type": "markdown",
   "source": "# Plot the portfolio results",
   "id": "c8168bc319a2969a"
  },
  {
   "metadata": {},
   "cell_type": "code",
   "source": [
    "import plotly.graph_objects as go\n",
    "import pandas as pd\n",
    "\n",
    "# Create the plot\n",
    "fig = go.Figure()\n",
    "\n",
    "fig.add_trace(\n",
    "    go.Scatter(\n",
    "        x=res.index, \n",
    "        y=res[\"portfolio\"], \n",
    "        mode=\"lines+markers\",\n",
    "        name=\"Portfolio Value\",\n",
    "        line=dict(color='blue', width=1),\n",
    "        marker=dict(size=2)\n",
    "    )\n",
    ")\n",
    "\n",
    "# Customize layout\n",
    "fig.update_layout(\n",
    "    title=\"Portfolio Value Over Time\",\n",
    "    xaxis_title=\"Date\",\n",
    "    yaxis_title=\"Portfolio Value\",\n",
    "    template=\"plotly_white\",\n",
    "    hovermode=\"x unified\"\n",
    ")\n",
    "\n",
    "# Show the plot\n",
    "fig.show()"
   ],
   "id": "5e4a64ab6030cb60",
   "outputs": [],
   "execution_count": null
  },
  {
   "metadata": {},
   "cell_type": "code",
   "source": "",
   "id": "9cb1bc6a12b9e8a6",
   "outputs": [],
   "execution_count": null
  }
 ],
 "metadata": {
  "kernelspec": {
   "display_name": "Python 3",
   "language": "python",
   "name": "python3"
  },
  "language_info": {
   "codemirror_mode": {
    "name": "ipython",
    "version": 2
   },
   "file_extension": ".py",
   "mimetype": "text/x-python",
   "name": "python",
   "nbconvert_exporter": "python",
   "pygments_lexer": "ipython2",
   "version": "2.7.6"
  }
 },
 "nbformat": 4,
 "nbformat_minor": 5
}
