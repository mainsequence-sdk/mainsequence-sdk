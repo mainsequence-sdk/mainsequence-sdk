{
 "cells": [
  {
   "metadata": {
    "ExecuteTime": {
     "end_time": "2025-03-18T14:13:32.430346Z",
     "start_time": "2025-03-18T14:13:27.849046Z"
    }
   },
   "cell_type": "code",
   "source": [
    "#comment out for local testing out of Main Sequence Platform\n",
    "import dotenv\n",
    "dotenv.load_dotenv('../../.env')\n",
    "\n",
    "from mainsequence.virtualfundbuilder.portfolio_interface import PortfolioInterface\n",
    "from mainsequence.virtualfundbuilder.agent_interface import TDAGAgent"
   ],
   "id": "8c9bb090157e4c1a",
   "outputs": [
    {
     "name": "stderr",
     "output_type": "stream",
     "text": [
      "\u001B[2m2025-03-18T14:13:29.110982Z\u001B[0m [\u001B[32m\u001B[1mdebug    \u001B[0m] \u001B[1mGetting Auth Headers ASSETS_ORM\u001B[0m \u001B[36mapplication_name\u001B[0m=\u001B[35mms-sdk\u001B[0m \u001B[36mdata_source_id\u001B[0m=\u001B[35m1\u001B[0m \u001B[36mjob_run_id\u001B[0m=\u001B[35mNone\u001B[0m \u001B[36mproject_id\u001B[0m=\u001B[35m3\u001B[0m (at utils.py:39 in refresh_headers())\n",
      "\u001B[2m2025-03-18T14:13:29.725478Z\u001B[0m [\u001B[32m\u001B[1mdebug    \u001B[0m] \u001B[1mGetting Auth Headers ASSETS_ORM\u001B[0m \u001B[36mapplication_name\u001B[0m=\u001B[35mms-sdk\u001B[0m \u001B[36mdata_source_id\u001B[0m=\u001B[35m1\u001B[0m \u001B[36mjob_run_id\u001B[0m=\u001B[35mNone\u001B[0m \u001B[36mproject_id\u001B[0m=\u001B[35m3\u001B[0m (at utils.py:39 in refresh_headers())\n",
      "\u001B[2m2025-03-18T14:13:29.766008Z\u001B[0m [\u001B[32m\u001B[1mdebug    \u001B[0m] \u001B[1mGetting Auth Headers ASSETS_ORM\u001B[0m \u001B[36mapplication_name\u001B[0m=\u001B[35mms-sdk\u001B[0m \u001B[36mdata_source_id\u001B[0m=\u001B[35m1\u001B[0m \u001B[36mjob_run_id\u001B[0m=\u001B[35mNone\u001B[0m \u001B[36mproject_id\u001B[0m=\u001B[35m3\u001B[0m (at utils.py:39 in refresh_headers())\n",
      "\u001B[2m2025-03-18T14:13:29.767370Z\u001B[0m [\u001B[32m\u001B[1mdebug    \u001B[0m] \u001B[1mRequesting GET from http://192.168.178.17:8000/orm/api/assets/api/constants\u001B[0m \u001B[36mapplication_name\u001B[0m=\u001B[35mms-sdk\u001B[0m \u001B[36mdata_source_id\u001B[0m=\u001B[35m1\u001B[0m \u001B[36mjob_run_id\u001B[0m=\u001B[35mNone\u001B[0m \u001B[36mproject_id\u001B[0m=\u001B[35m3\u001B[0m (at utils.py:55 in make_request())\n",
      "\u001B[2m2025-03-18T14:13:30.357787Z\u001B[0m [\u001B[32m\u001B[1mdebug    \u001B[0m] \u001B[1mRequesting GET from http://192.168.178.17:8000/orm/api/pods/projects/get_user_default_project/\u001B[0m \u001B[36mapplication_name\u001B[0m=\u001B[35mms-sdk\u001B[0m \u001B[36mdata_source_id\u001B[0m=\u001B[35m1\u001B[0m \u001B[36mjob_run_id\u001B[0m=\u001B[35mNone\u001B[0m \u001B[36mproject_id\u001B[0m=\u001B[35m3\u001B[0m (at utils.py:55 in make_request())\n",
      "\u001B[2m2025-03-18T14:13:30.906973Z\u001B[0m [\u001B[32m\u001B[1mdebug    \u001B[0m] \u001B[1mGetting Auth Headers ASSETS_ORM\u001B[0m \u001B[36mapplication_name\u001B[0m=\u001B[35mms-sdk\u001B[0m \u001B[36mdata_source_id\u001B[0m=\u001B[35m1\u001B[0m \u001B[36mjob_run_id\u001B[0m=\u001B[35mNone\u001B[0m \u001B[36mproject_id\u001B[0m=\u001B[35m3\u001B[0m (at utils.py:39 in refresh_headers())\n",
      "\u001B[2m2025-03-18T14:13:30.909073Z\u001B[0m [\u001B[32m\u001B[1mdebug    \u001B[0m] \u001B[1mRequesting GET from http://192.168.178.17:8000/orm/api/ts_manager/api/constants\u001B[0m \u001B[36mapplication_name\u001B[0m=\u001B[35mms-sdk\u001B[0m \u001B[36mdata_source_id\u001B[0m=\u001B[35m1\u001B[0m \u001B[36mjob_run_id\u001B[0m=\u001B[35mNone\u001B[0m \u001B[36mproject_id\u001B[0m=\u001B[35m3\u001B[0m (at utils.py:55 in make_request())\n",
      "/home/jose/code/MainSequenceClientSide/mainsequence-sdk/.venv/lib/python3.9/site-packages/pydantic/_internal/_generate_schema.py:502: UserWarning: FieldInfo(annotation=NoneType, required=False, default=<class 'mainsequence.mainsequence_client.models_vam.AssetMixin'>, json_schema_extra={'portfolio_configuration_overwrite': <class 'mainsequence.virtualfundbuilder.models.AssetMixinOverwrite'>}) is not a Python type (it may be an instance of an object), Pydantic will allow any object with no validation since we cannot even enforce that the input is an instance of the given type. To get rid of this error wrap the type with `pydantic.SkipValidation`.\n",
      "  warn(\n",
      "\u001B[2m2025-03-18T14:13:31.481886Z\u001B[0m [\u001B[32m\u001B[1mdebug    \u001B[0m] \u001B[1mRegistered StrategyType.SIGNAL_WEIGHTS_STRATEGY class 'IntradayTrend': <class 'mainsequence.virtualfundbuilder.contrib.signals.intraday_trend.IntradayTrend'>\u001B[0m \u001B[36mapplication_name\u001B[0m=\u001B[35mms-sdk\u001B[0m \u001B[36mdata_source_id\u001B[0m=\u001B[35m1\u001B[0m \u001B[36mjob_run_id\u001B[0m=\u001B[35mNone\u001B[0m \u001B[36mproject_id\u001B[0m=\u001B[35m3\u001B[0m (at base_factory.py:86 in insert_in_registry())\n",
      "\u001B[2m2025-03-18T14:13:31.499974Z\u001B[0m [\u001B[32m\u001B[1mdebug    \u001B[0m] \u001B[1mRegister signal: IntradayTrend\u001B[0m \u001B[36mapplication_name\u001B[0m=\u001B[35mms-sdk\u001B[0m \u001B[36mdata_source_id\u001B[0m=\u001B[35m1\u001B[0m \u001B[36mjob_run_id\u001B[0m=\u001B[35mNone\u001B[0m \u001B[36mproject_id\u001B[0m=\u001B[35m3\u001B[0m (at utils.py:675 in _send_strategy_to_registry())\n",
      "\u001B[2m2025-03-18T14:13:31.503829Z\u001B[0m [\u001B[32m\u001B[1mdebug    \u001B[0m] \u001B[1mRegistered StrategyType.SIGNAL_WEIGHTS_STRATEGY class 'FixedWeights': <class 'mainsequence.virtualfundbuilder.contrib.signals.market_cap.FixedWeights'>\u001B[0m \u001B[36mapplication_name\u001B[0m=\u001B[35mms-sdk\u001B[0m \u001B[36mdata_source_id\u001B[0m=\u001B[35m1\u001B[0m \u001B[36mjob_run_id\u001B[0m=\u001B[35mNone\u001B[0m \u001B[36mproject_id\u001B[0m=\u001B[35m3\u001B[0m (at base_factory.py:86 in insert_in_registry())\n",
      "\u001B[2m2025-03-18T14:13:31.504455Z\u001B[0m [\u001B[32m\u001B[1mdebug    \u001B[0m] \u001B[1mRequesting POST from http://192.168.178.17:8000/orm/api/tdag-gpt/register_strategy/\u001B[0m \u001B[36mapplication_name\u001B[0m=\u001B[35mms-sdk\u001B[0m \u001B[36mdata_source_id\u001B[0m=\u001B[35m1\u001B[0m \u001B[36mjob_run_id\u001B[0m=\u001B[35mNone\u001B[0m \u001B[36mproject_id\u001B[0m=\u001B[35m3\u001B[0m (at utils.py:55 in make_request())\n",
      "\u001B[2m2025-03-18T14:13:31.511804Z\u001B[0m [\u001B[32m\u001B[1mdebug    \u001B[0m] \u001B[1mRegistered StrategyType.SIGNAL_WEIGHTS_STRATEGY class 'MarketCap': <class 'mainsequence.virtualfundbuilder.contrib.signals.market_cap.MarketCap'>\u001B[0m \u001B[36mapplication_name\u001B[0m=\u001B[35mms-sdk\u001B[0m \u001B[36mdata_source_id\u001B[0m=\u001B[35m1\u001B[0m \u001B[36mjob_run_id\u001B[0m=\u001B[35mNone\u001B[0m \u001B[36mproject_id\u001B[0m=\u001B[35m3\u001B[0m (at base_factory.py:86 in insert_in_registry())\n",
      "\u001B[2m2025-03-18T14:13:31.547733Z\u001B[0m [\u001B[32m\u001B[1mdebug    \u001B[0m] \u001B[1mRegister signal: FixedWeights \u001B[0m \u001B[36mapplication_name\u001B[0m=\u001B[35mms-sdk\u001B[0m \u001B[36mdata_source_id\u001B[0m=\u001B[35m1\u001B[0m \u001B[36mjob_run_id\u001B[0m=\u001B[35mNone\u001B[0m \u001B[36mproject_id\u001B[0m=\u001B[35m3\u001B[0m (at utils.py:675 in _send_strategy_to_registry())\n",
      "\u001B[2m2025-03-18T14:13:31.556376Z\u001B[0m [\u001B[32m\u001B[1mdebug    \u001B[0m] \u001B[1mRegister signal: MarketCap    \u001B[0m \u001B[36mapplication_name\u001B[0m=\u001B[35mms-sdk\u001B[0m \u001B[36mdata_source_id\u001B[0m=\u001B[35m1\u001B[0m \u001B[36mjob_run_id\u001B[0m=\u001B[35mNone\u001B[0m \u001B[36mproject_id\u001B[0m=\u001B[35m3\u001B[0m (at utils.py:675 in _send_strategy_to_registry())\n",
      "\u001B[2m2025-03-18T14:13:31.558521Z\u001B[0m [\u001B[32m\u001B[1mdebug    \u001B[0m] \u001B[1mRequesting POST from http://192.168.178.17:8000/orm/api/tdag-gpt/register_strategy/\u001B[0m \u001B[36mapplication_name\u001B[0m=\u001B[35mms-sdk\u001B[0m \u001B[36mdata_source_id\u001B[0m=\u001B[35m1\u001B[0m \u001B[36mjob_run_id\u001B[0m=\u001B[35mNone\u001B[0m \u001B[36mproject_id\u001B[0m=\u001B[35m3\u001B[0m (at utils.py:55 in make_request())\n",
      "\u001B[2m2025-03-18T14:13:31.560527Z\u001B[0m [\u001B[32m\u001B[1mdebug    \u001B[0m] \u001B[1mRegistered StrategyType.SIGNAL_WEIGHTS_STRATEGY class 'MockSignal': <class 'mainsequence.virtualfundbuilder.contrib.signals.mock_signal.MockSignal'>\u001B[0m \u001B[36mapplication_name\u001B[0m=\u001B[35mms-sdk\u001B[0m \u001B[36mdata_source_id\u001B[0m=\u001B[35m1\u001B[0m \u001B[36mjob_run_id\u001B[0m=\u001B[35mNone\u001B[0m \u001B[36mproject_id\u001B[0m=\u001B[35m3\u001B[0m (at base_factory.py:86 in insert_in_registry())\n",
      "\u001B[2m2025-03-18T14:13:31.562039Z\u001B[0m [\u001B[32m\u001B[1mdebug    \u001B[0m] \u001B[1mRequesting POST from http://192.168.178.17:8000/orm/api/tdag-gpt/register_strategy/\u001B[0m \u001B[36mapplication_name\u001B[0m=\u001B[35mms-sdk\u001B[0m \u001B[36mdata_source_id\u001B[0m=\u001B[35m1\u001B[0m \u001B[36mjob_run_id\u001B[0m=\u001B[35mNone\u001B[0m \u001B[36mproject_id\u001B[0m=\u001B[35m3\u001B[0m (at utils.py:55 in make_request())\n",
      "\u001B[2m2025-03-18T14:13:31.608676Z\u001B[0m [\u001B[32m\u001B[1mdebug    \u001B[0m] \u001B[1mRegister signal: MockSignal   \u001B[0m \u001B[36mapplication_name\u001B[0m=\u001B[35mms-sdk\u001B[0m \u001B[36mdata_source_id\u001B[0m=\u001B[35m1\u001B[0m \u001B[36mjob_run_id\u001B[0m=\u001B[35mNone\u001B[0m \u001B[36mproject_id\u001B[0m=\u001B[35m3\u001B[0m (at utils.py:675 in _send_strategy_to_registry())\n",
      "\u001B[2m2025-03-18T14:13:31.614676Z\u001B[0m [\u001B[32m\u001B[1mdebug    \u001B[0m] \u001B[1mRequesting POST from http://192.168.178.17:8000/orm/api/tdag-gpt/register_strategy/\u001B[0m \u001B[36mapplication_name\u001B[0m=\u001B[35mms-sdk\u001B[0m \u001B[36mdata_source_id\u001B[0m=\u001B[35m1\u001B[0m \u001B[36mjob_run_id\u001B[0m=\u001B[35mNone\u001B[0m \u001B[36mproject_id\u001B[0m=\u001B[35m3\u001B[0m (at utils.py:55 in make_request())\n",
      "\u001B[2m2025-03-18T14:13:32.325233Z\u001B[0m [\u001B[32m\u001B[1mdebug    \u001B[0m] \u001B[1mRegistered StrategyType.SIGNAL_WEIGHTS_STRATEGY class 'ETFReplicator': <class 'mainsequence.virtualfundbuilder.contrib.signals.portfolio_replicator.ETFReplicator'>\u001B[0m \u001B[36mapplication_name\u001B[0m=\u001B[35mms-sdk\u001B[0m \u001B[36mdata_source_id\u001B[0m=\u001B[35m1\u001B[0m \u001B[36mjob_run_id\u001B[0m=\u001B[35mNone\u001B[0m \u001B[36mproject_id\u001B[0m=\u001B[35m3\u001B[0m (at base_factory.py:86 in insert_in_registry())\n",
      "\u001B[2m2025-03-18T14:13:32.347957Z\u001B[0m [\u001B[32m\u001B[1mdebug    \u001B[0m] \u001B[1mRegister signal: ETFReplicator\u001B[0m \u001B[36mapplication_name\u001B[0m=\u001B[35mms-sdk\u001B[0m \u001B[36mdata_source_id\u001B[0m=\u001B[35m1\u001B[0m \u001B[36mjob_run_id\u001B[0m=\u001B[35mNone\u001B[0m \u001B[36mproject_id\u001B[0m=\u001B[35m3\u001B[0m (at utils.py:675 in _send_strategy_to_registry())\n",
      "\u001B[2m2025-03-18T14:13:32.350705Z\u001B[0m [\u001B[32m\u001B[1mdebug    \u001B[0m] \u001B[1mRequesting POST from http://192.168.178.17:8000/orm/api/tdag-gpt/register_strategy/\u001B[0m \u001B[36mapplication_name\u001B[0m=\u001B[35mms-sdk\u001B[0m \u001B[36mdata_source_id\u001B[0m=\u001B[35m1\u001B[0m \u001B[36mjob_run_id\u001B[0m=\u001B[35mNone\u001B[0m \u001B[36mproject_id\u001B[0m=\u001B[35m3\u001B[0m (at utils.py:55 in make_request())\n",
      "\u001B[2m2025-03-18T14:13:32.362356Z\u001B[0m [\u001B[32m\u001B[1mdebug    \u001B[0m] \u001B[1mRegistered StrategyType.REBALANCE_STRATEGY class 'VolumeParticipation': <class 'mainsequence.virtualfundbuilder.contrib.rebalance_strategies.rebalance_strategies.VolumeParticipation'>\u001B[0m \u001B[36mapplication_name\u001B[0m=\u001B[35mms-sdk\u001B[0m \u001B[36mdata_source_id\u001B[0m=\u001B[35m1\u001B[0m \u001B[36mjob_run_id\u001B[0m=\u001B[35mNone\u001B[0m \u001B[36mproject_id\u001B[0m=\u001B[35m3\u001B[0m (at base_factory.py:86 in insert_in_registry())\n",
      "\u001B[2m2025-03-18T14:13:32.367535Z\u001B[0m [\u001B[32m\u001B[1mdebug    \u001B[0m] \u001B[1mRegistered StrategyType.REBALANCE_STRATEGY class 'TimeWeighted': <class 'mainsequence.virtualfundbuilder.contrib.rebalance_strategies.rebalance_strategies.TimeWeighted'>\u001B[0m \u001B[36mapplication_name\u001B[0m=\u001B[35mms-sdk\u001B[0m \u001B[36mdata_source_id\u001B[0m=\u001B[35m1\u001B[0m \u001B[36mjob_run_id\u001B[0m=\u001B[35mNone\u001B[0m \u001B[36mproject_id\u001B[0m=\u001B[35m3\u001B[0m (at base_factory.py:86 in insert_in_registry())\n",
      "\u001B[2m2025-03-18T14:13:32.382440Z\u001B[0m [\u001B[32m\u001B[1mdebug    \u001B[0m] \u001B[1mRegister signal: VolumeParticipation\u001B[0m \u001B[36mapplication_name\u001B[0m=\u001B[35mms-sdk\u001B[0m \u001B[36mdata_source_id\u001B[0m=\u001B[35m1\u001B[0m \u001B[36mjob_run_id\u001B[0m=\u001B[35mNone\u001B[0m \u001B[36mproject_id\u001B[0m=\u001B[35m3\u001B[0m (at utils.py:675 in _send_strategy_to_registry())\n",
      "\u001B[2m2025-03-18T14:13:32.387444Z\u001B[0m [\u001B[32m\u001B[1mdebug    \u001B[0m] \u001B[1mRegistered StrategyType.REBALANCE_STRATEGY class 'ImmediateSignal': <class 'mainsequence.virtualfundbuilder.contrib.rebalance_strategies.rebalance_strategies.ImmediateSignal'>\u001B[0m \u001B[36mapplication_name\u001B[0m=\u001B[35mms-sdk\u001B[0m \u001B[36mdata_source_id\u001B[0m=\u001B[35m1\u001B[0m \u001B[36mjob_run_id\u001B[0m=\u001B[35mNone\u001B[0m \u001B[36mproject_id\u001B[0m=\u001B[35m3\u001B[0m (at base_factory.py:86 in insert_in_registry())\n",
      "\u001B[2m2025-03-18T14:13:32.393539Z\u001B[0m [\u001B[32m\u001B[1mdebug    \u001B[0m] \u001B[1mRequesting POST from http://192.168.178.17:8000/orm/api/tdag-gpt/register_strategy/\u001B[0m \u001B[36mapplication_name\u001B[0m=\u001B[35mms-sdk\u001B[0m \u001B[36mdata_source_id\u001B[0m=\u001B[35m1\u001B[0m \u001B[36mjob_run_id\u001B[0m=\u001B[35mNone\u001B[0m \u001B[36mproject_id\u001B[0m=\u001B[35m3\u001B[0m (at utils.py:55 in make_request())\n",
      "\u001B[2m2025-03-18T14:13:32.396004Z\u001B[0m [\u001B[32m\u001B[1mdebug    \u001B[0m] \u001B[1mRegister signal: TimeWeighted \u001B[0m \u001B[36mapplication_name\u001B[0m=\u001B[35mms-sdk\u001B[0m \u001B[36mdata_source_id\u001B[0m=\u001B[35m1\u001B[0m \u001B[36mjob_run_id\u001B[0m=\u001B[35mNone\u001B[0m \u001B[36mproject_id\u001B[0m=\u001B[35m3\u001B[0m (at utils.py:675 in _send_strategy_to_registry())\n",
      "\u001B[2m2025-03-18T14:13:32.405735Z\u001B[0m [\u001B[32m\u001B[1mdebug    \u001B[0m] \u001B[1mRegister signal: ImmediateSignal\u001B[0m \u001B[36mapplication_name\u001B[0m=\u001B[35mms-sdk\u001B[0m \u001B[36mdata_source_id\u001B[0m=\u001B[35m1\u001B[0m \u001B[36mjob_run_id\u001B[0m=\u001B[35mNone\u001B[0m \u001B[36mproject_id\u001B[0m=\u001B[35m3\u001B[0m (at utils.py:675 in _send_strategy_to_registry())\n",
      "\u001B[2m2025-03-18T14:13:32.410697Z\u001B[0m [\u001B[32m\u001B[1mdebug    \u001B[0m] \u001B[1mRequesting POST from http://192.168.178.17:8000/orm/api/tdag-gpt/register_strategy/\u001B[0m \u001B[36mapplication_name\u001B[0m=\u001B[35mms-sdk\u001B[0m \u001B[36mdata_source_id\u001B[0m=\u001B[35m1\u001B[0m \u001B[36mjob_run_id\u001B[0m=\u001B[35mNone\u001B[0m \u001B[36mproject_id\u001B[0m=\u001B[35m3\u001B[0m (at utils.py:55 in make_request())\n",
      "\u001B[2m2025-03-18T14:13:32.411617Z\u001B[0m [\u001B[32m\u001B[1mdebug    \u001B[0m] \u001B[1mRequesting POST from http://192.168.178.17:8000/orm/api/tdag-gpt/register_strategy/\u001B[0m \u001B[36mapplication_name\u001B[0m=\u001B[35mms-sdk\u001B[0m \u001B[36mdata_source_id\u001B[0m=\u001B[35m1\u001B[0m \u001B[36mjob_run_id\u001B[0m=\u001B[35mNone\u001B[0m \u001B[36mproject_id\u001B[0m=\u001B[35m3\u001B[0m (at utils.py:55 in make_request())\n"
     ]
    }
   ],
   "execution_count": 3
  },
  {
   "metadata": {},
   "cell_type": "markdown",
   "source": "# Connect to the TDAG-LLM Agent",
   "id": "67f98089503b1773"
  },
  {
   "metadata": {
    "ExecuteTime": {
     "end_time": "2025-03-18T14:13:35.570081Z",
     "start_time": "2025-03-18T14:13:34.940373Z"
    }
   },
   "cell_type": "code",
   "source": "tdag_agent = TDAGAgent()",
   "id": "33b3e037285a8d82",
   "outputs": [
    {
     "name": "stderr",
     "output_type": "stream",
     "text": [
      "\u001B[2m2025-03-18T14:13:35.001630Z\u001B[0m [\u001B[32m\u001B[1mdebug    \u001B[0m] \u001B[1mSend default documentation to Backend\u001B[0m \u001B[36mapplication_name\u001B[0m=\u001B[35mms-sdk\u001B[0m \u001B[36mdata_source_id\u001B[0m=\u001B[35m1\u001B[0m \u001B[36mjob_run_id\u001B[0m=\u001B[35mNone\u001B[0m \u001B[36mproject_id\u001B[0m=\u001B[35m3\u001B[0m (at __main__.py:173 in send_default_configuration())\n",
      "\u001B[2m2025-03-18T14:13:35.004448Z\u001B[0m [\u001B[32m\u001B[1mdebug    \u001B[0m] \u001B[1mRequesting POST from http://192.168.178.17:8000/orm/api/tdag-gpt/register_default_configuration/\u001B[0m \u001B[36mapplication_name\u001B[0m=\u001B[35mms-sdk\u001B[0m \u001B[36mdata_source_id\u001B[0m=\u001B[35m1\u001B[0m \u001B[36mjob_run_id\u001B[0m=\u001B[35mNone\u001B[0m \u001B[36mproject_id\u001B[0m=\u001B[35m3\u001B[0m (at utils.py:55 in make_request())\n",
      "\u001B[2m2025-03-18T14:13:35.567363Z\u001B[0m [\u001B[32m\u001B[1minfo     \u001B[0m] \u001B[1mSetup TDAG Agent successfull  \u001B[0m \u001B[36mapplication_name\u001B[0m=\u001B[35mms-sdk\u001B[0m \u001B[36mdata_source_id\u001B[0m=\u001B[35m1\u001B[0m \u001B[36mjob_run_id\u001B[0m=\u001B[35mNone\u001B[0m \u001B[36mproject_id\u001B[0m=\u001B[35m3\u001B[0m (at agent_interface.py:28 in __init__())\n"
     ]
    }
   ],
   "execution_count": 4
  },
  {
   "metadata": {},
   "cell_type": "markdown",
   "source": "# Create a custom Strategy",
   "id": "4e0b2d1902a9b3d6"
  },
  {
   "metadata": {},
   "cell_type": "markdown",
   "source": "# Get the configuration for the full portfolio based on our strategy",
   "id": "22e3d24a3bbc1ef5"
  },
  {
   "metadata": {
    "ExecuteTime": {
     "end_time": "2025-03-18T14:13:38.448750Z",
     "start_time": "2025-03-18T14:13:38.430737Z"
    }
   },
   "cell_type": "code",
   "source": "PortfolioInterface.list_configurations()",
   "id": "82d82eb8b40cfce9",
   "outputs": [
    {
     "data": {
      "text/plain": [
       "[]"
      ]
     },
     "execution_count": 5,
     "metadata": {},
     "output_type": "execute_result"
    }
   ],
   "execution_count": 5
  },
  {
   "cell_type": "code",
   "id": "initial_id",
   "metadata": {
    "collapsed": true,
    "ExecuteTime": {
     "end_time": "2025-03-18T14:13:40.150222Z",
     "start_time": "2025-03-18T14:13:39.287455Z"
    }
   },
   "source": [
    "from mainsequence.virtualfundbuilder.contrib.time_series import MarketCap\n",
    "\n",
    "portfolio = tdag_agent.generate_portfolio(MarketCap, signal_description=\"Create me a market cap portfolio using AAPL and GOOG\")\n",
    "\n",
    "portfolio"
   ],
   "outputs": [
    {
     "name": "stderr",
     "output_type": "stream",
     "text": [
      "\u001B[2m2025-03-18T14:13:39.311790Z\u001B[0m [\u001B[32m\u001B[1mdebug    \u001B[0m] \u001B[1mRegister signal: MarketCap    \u001B[0m \u001B[36mapplication_name\u001B[0m=\u001B[35mms-sdk\u001B[0m \u001B[36mdata_source_id\u001B[0m=\u001B[35m1\u001B[0m \u001B[36mjob_run_id\u001B[0m=\u001B[35mNone\u001B[0m \u001B[36mproject_id\u001B[0m=\u001B[35m3\u001B[0m (at utils.py:675 in _send_strategy_to_registry())\n",
      "\u001B[2m2025-03-18T14:13:39.314665Z\u001B[0m [\u001B[32m\u001B[1mdebug    \u001B[0m] \u001B[1mRequesting POST from http://192.168.178.17:8000/orm/api/tdag-gpt/register_strategy/\u001B[0m \u001B[36mapplication_name\u001B[0m=\u001B[35mms-sdk\u001B[0m \u001B[36mdata_source_id\u001B[0m=\u001B[35m1\u001B[0m \u001B[36mjob_run_id\u001B[0m=\u001B[35mNone\u001B[0m \u001B[36mproject_id\u001B[0m=\u001B[35m3\u001B[0m (at utils.py:55 in make_request())\n",
      "\u001B[2m2025-03-18T14:13:39.775483Z\u001B[0m [\u001B[32m\u001B[1minfo     \u001B[0m] \u001B[1mGet configuration for MarketCap ...\u001B[0m \u001B[36mapplication_name\u001B[0m=\u001B[35mms-sdk\u001B[0m \u001B[36mdata_source_id\u001B[0m=\u001B[35m1\u001B[0m \u001B[36mjob_run_id\u001B[0m=\u001B[35mNone\u001B[0m \u001B[36mproject_id\u001B[0m=\u001B[35m3\u001B[0m (at agent_interface.py:43 in generate_portfolio())\n",
      "\u001B[2m2025-03-18T14:13:39.777040Z\u001B[0m [\u001B[32m\u001B[1mdebug    \u001B[0m] \u001B[1mRequesting POST from http://192.168.178.17:8000/orm/api/tdag-gpt/create_configuration_for_strategy/\u001B[0m \u001B[36mapplication_name\u001B[0m=\u001B[35mms-sdk\u001B[0m \u001B[36mdata_source_id\u001B[0m=\u001B[35m1\u001B[0m \u001B[36mjob_run_id\u001B[0m=\u001B[35mNone\u001B[0m \u001B[36mproject_id\u001B[0m=\u001B[35m3\u001B[0m (at utils.py:55 in make_request())\n",
      "\u001B[2m2025-03-18T14:13:40.146573Z\u001B[0m [\u001B[33m\u001B[1mwarning  \u001B[0m] \u001B[1mCould not get configuration from TSORM string indices must be integers\u001B[0m \u001B[36mapplication_name\u001B[0m=\u001B[35mms-sdk\u001B[0m \u001B[36mdata_source_id\u001B[0m=\u001B[35m1\u001B[0m \u001B[36mjob_run_id\u001B[0m=\u001B[35mNone\u001B[0m \u001B[36mproject_id\u001B[0m=\u001B[35m3\u001B[0m (at agent_interface.py:57 in generate_portfolio())\n",
      "Traceback (most recent call last):\n",
      "  File \"/home/jose/code/MainSequenceClientSide/mainsequence-sdk/mainsequence/virtualfundbuilder/agent_interface.py\", line 52, in generate_portfolio\n",
      "    portfolio = PortfolioInterface(generated_configuration)\n",
      "  File \"/home/jose/code/MainSequenceClientSide/mainsequence-sdk/mainsequence/virtualfundbuilder/portfolio_interface.py\", line 31, in __init__\n",
      "    self.portfolio_config = configuration_sanitizer(portfolio_config_template, auto_complete=True)\n",
      "  File \"/home/jose/code/MainSequenceClientSide/mainsequence-sdk/mainsequence/virtualfundbuilder/config_handling.py\", line 199, in configuration_sanitizer\n",
      "    portfolio_build_config = configuration[\"portfolio_build_configuration\"]\n",
      "TypeError: string indices must be integers\n"
     ]
    }
   ],
   "execution_count": 6
  },
  {
   "metadata": {},
   "cell_type": "markdown",
   "source": "# Run the strategy",
   "id": "942a3a9a3448b48f"
  },
  {
   "metadata": {
    "ExecuteTime": {
     "start_time": "2025-03-17T20:04:50.073051Z"
    }
   },
   "cell_type": "code",
   "source": [
    "res = portfolio.run()\n",
    "res.head()"
   ],
   "id": "7fa00114d7ef0b8",
   "outputs": [
    {
     "name": "stderr",
     "output_type": "stream",
     "text": [
      "2025-03-17T20:04:50.076119Z [debug    ] Requesting GET from http://127.0.0.1:8000/orm/api/data_sources/historical-bars-source/ application_name=ms-sdk data_source_id=1 job_run_id=None project_id=3 (at utils.py:55 in make_request())\n"
     ]
    }
   ],
   "execution_count": null
  },
  {
   "metadata": {},
   "cell_type": "markdown",
   "source": "# Plot the portfolio results",
   "id": "c8168bc319a2969a"
  },
  {
   "metadata": {},
   "cell_type": "code",
   "source": [
    "import plotly.graph_objects as go\n",
    "import pandas as pd\n",
    "\n",
    "# Create the plot\n",
    "fig = go.Figure()\n",
    "\n",
    "fig.add_trace(\n",
    "    go.Scatter(\n",
    "        x=res.index, \n",
    "        y=res[\"portfolio\"], \n",
    "        mode=\"lines+markers\",\n",
    "        name=\"Portfolio Value\",\n",
    "        line=dict(color='blue', width=1),\n",
    "        marker=dict(size=2)\n",
    "    )\n",
    ")\n",
    "\n",
    "# Customize layout\n",
    "fig.update_layout(\n",
    "    title=\"Portfolio Value Over Time\",\n",
    "    xaxis_title=\"Date\",\n",
    "    yaxis_title=\"Portfolio Value\",\n",
    "    template=\"plotly_white\",\n",
    "    hovermode=\"x unified\"\n",
    ")\n",
    "\n",
    "# Show the plot\n",
    "fig.show()"
   ],
   "id": "5e4a64ab6030cb60",
   "outputs": [],
   "execution_count": null
  },
  {
   "metadata": {},
   "cell_type": "code",
   "source": "",
   "id": "9cb1bc6a12b9e8a6",
   "outputs": [],
   "execution_count": null
  }
 ],
 "metadata": {
  "kernelspec": {
   "display_name": "Python 3",
   "language": "python",
   "name": "python3"
  },
  "language_info": {
   "codemirror_mode": {
    "name": "ipython",
    "version": 2
   },
   "file_extension": ".py",
   "mimetype": "text/x-python",
   "name": "python",
   "nbconvert_exporter": "python",
   "pygments_lexer": "ipython2",
   "version": "2.7.6"
  }
 },
 "nbformat": 4,
 "nbformat_minor": 5
}
