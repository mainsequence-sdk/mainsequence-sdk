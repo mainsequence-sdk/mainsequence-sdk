{
 "cells": [
  {
   "cell_type": "markdown",
   "id": "27ff62b2",
   "metadata": {},
   "source": [
    "# Querying and Creating Portfolios in VAM Client\n",
    "This notebook serves as a tutorial for querying, creating, and managing portfolios using the `mainsequence.vam_client` package. It covers:\n",
    "- Querying existing portfolios using filters\n",
    "- Creating portfolios from time series\n",
    "- Creating an index asset portfolio\n",
    "- Querying the newly created index asset portfolio"
   ]
  },
  {
   "cell_type": "markdown",
   "id": "d0feb276",
   "metadata": {},
   "source": [
    "## Step 1: Import Required Modules\n",
    "First, we import the necessary modules and constants."
   ]
  },
  {
   "cell_type": "code",
   "id": "1dd7de16",
   "metadata": {
    "ExecuteTime": {
     "end_time": "2025-02-28T14:12:53.355302Z",
     "start_time": "2025-02-28T14:12:48.103942Z"
    }
   },
   "source": [
    "\n",
    "import dotenv\n",
    "\n",
    "\n",
    "loaded_env=dotenv.load_dotenv('../../.env')\n",
    "assert loaded_env, \"Environment variables not set\"\n",
    "from mainsequence.tdag_client import DataUpdates\n",
    "import datetime\n",
    "from mainsequence.vam_client.models import TargetPortfolio, Asset\n",
    "from mainsequence import VAM_CONSTANTS \n"
   ],
   "outputs": [],
   "execution_count": 2
  },
  {
   "cell_type": "markdown",
   "id": "68ab4d0d",
   "metadata": {},
   "source": [
    "## Step 2: Query Portfolios\n",
    "We query an existing portfolio using the `local_time_serie_hash_id` filter. This returns a single portfolio object."
   ]
  },
  {
   "cell_type": "code",
   "id": "6e1b78fc",
   "metadata": {
    "ExecuteTime": {
     "end_time": "2025-02-28T14:12:53.457468Z",
     "start_time": "2025-02-28T14:12:53.361162Z"
    }
   },
   "source": [
    "\n",
    "# Query a single TargetPortfolio with a specific local_time_serie_hash_id\n",
    "local_time_serie_hash_id = \"example_hash_id\"\n",
    "portfolio = TargetPortfolio.filter(local_time_serie_hash_id=local_time_serie_hash_id)\n",
    "print(\"Queried Portfolio:\", portfolio)\n"
   ],
   "outputs": [
    {
     "name": "stdout",
     "output_type": "stream",
     "text": [
      "Queried Portfolio: []\n"
     ]
    }
   ],
   "execution_count": 3
  },
  {
   "cell_type": "markdown",
   "id": "d1749847",
   "metadata": {},
   "source": [
    "## Step 3: Create Portfolios from Time Series\n",
    "We create two portfolios for different purposes:\n",
    "- **Execution Portfolio** for real-time execution\n",
    "- **Backtesting Portfolio** for simulation and historical analysis\n",
    "\n",
    "### !!! Important !!!\n",
    "\n",
    "If you want to start building portfolios we recommend you to use our VirtualFundBuilder. This will help you have a more fluid \n",
    "and seamless workflows. In this example we will show you how to build a portfolio without using our Wrapper. A few important considerations\n",
    "\n",
    "1.  Each portfolio requires a local_signal_time_serie_id that should come from TDAG, this is a unique identifier in the backend and placing a random integer will likely collide therefore we need to build a time serie that has a time_index and at least a column with a column \"close\" \n",
    "\n"
   ]
  },
  {
   "metadata": {
    "ExecuteTime": {
     "end_time": "2025-02-28T14:13:24.801109Z",
     "start_time": "2025-02-28T14:12:53.465320Z"
    }
   },
   "cell_type": "code",
   "source": [
    "from mainsequence.tdag.time_series import TimeSerie\n",
    "from mainsequence.tdag_client.models import DataUpdates\n",
    "import numpy as np\n",
    "import datetime\n",
    "import pandas as pd\n",
    "\n",
    "class PortfolioExample(TimeSerie):\n",
    "    \n",
    "    @TimeSerie._post_init_routines()\n",
    "    def __init__(self, portfolio_volatility: float,source_prices:str, *args, **kwargs):\n",
    "        self.portfolio_volatility = portfolio_volatility\n",
    "        self.source_prices=source_prices\n",
    "        super().__init__(*args, **kwargs)\n",
    "        \n",
    "    def update_series_from_source(self, update_statistics):\n",
    "        \"\"\"\n",
    "        Update the time series by simulating a new data point based on the last observation,\n",
    "        or simulate a complete series if no observations exist.\n",
    "\n",
    "        :param update_statistics: A dict to record update statistics (optional).\n",
    "        :return: pd.DataFrame with index as a timezone-aware datetime (UTC) and a column \"close\".\n",
    "        \"\"\"\n",
    "        last_observation = self.get_last_observation()\n",
    "        dt = 1.0  # one day time increment\n",
    "\n",
    "        if last_observation is not None:\n",
    "            return pd.DataFrame() # do not make sequential updats for example\n",
    "          \n",
    "        else:\n",
    "            # If no observation exists, simulate a daily series for the last 30 days.\n",
    "            end_date = datetime.datetime.now(datetime.timezone.utc)\n",
    "            start_date = end_date - datetime.timedelta(days=30)\n",
    "            # Generate a date range with daily frequency (timezone-aware in UTC).\n",
    "            dates = pd.date_range(start=start_date, end=end_date, freq='D', tz=datetime.timezone.utc)\n",
    "            \n",
    "            # Initialize with a default price.\n",
    "            prices = [100.0]\n",
    "            for _ in range(1, len(dates)):\n",
    "                random_return = np.random.normal(loc=0, scale=self.portfolio_volatility * np.sqrt(dt))\n",
    "                new_price = prices[-1] * np.exp(random_return - 0.5 * self.portfolio_volatility**2 * dt)\n",
    "                prices.append(new_price)\n",
    "                \n",
    "            new_data = pd.DataFrame({\"portfolio\": prices}, index=dates)\n",
    "        if last_observation is not None:\n",
    "            new_data=new_data[new_data.index>update_statistics._max_time_in_update_statistics]\n",
    "         \n",
    "        return new_data\n",
    "    \n",
    "    \n",
    "backtesting_portfolio_ts=PortfolioExample(portfolio_volatility=.1,source_prices=\"backtest\")\n",
    "backtesting_portfolio_ts.run(debug_mode=True,force_update=True)\n",
    "\n",
    "\n",
    "live_portfolio_ts=PortfolioExample(portfolio_volatility=.1,source_prices=\"live\")\n",
    "live_portfolio_ts.run(debug_mode=True,force_update=True)"
   ],
   "id": "4de7dc66437cbb4c",
   "outputs": [
    {
     "name": "stderr",
     "output_type": "stream",
     "text": [
      "\u001B[2m2025-02-28T14:12:55.716175Z\u001B[0m [\u001B[33m\u001B[1mwarning  \u001B[0m] \u001B[1mYour TimeSeries is not in a python module this will likely bring exceptions when running in a pipeline\u001B[0m \u001B[36mapi_time_series\u001B[0m=\u001B[35mFalse\u001B[0m \u001B[36mapplication_name\u001B[0m=\u001B[35mms-sdk\u001B[0m \u001B[36mdata_source_id\u001B[0m=\u001B[35m28\u001B[0m \u001B[36mjob_run_id\u001B[0m=\u001B[35mNone\u001B[0m \u001B[36mlocal_hash_id\u001B[0m=\u001B[35mportfolioexample_f53f240ed0980b8f8bd541172af036ac\u001B[0m \u001B[36mlocal_hash_id_data_source\u001B[0m=\u001B[35m1\u001B[0m \u001B[36mproject_id\u001B[0m=\u001B[35m16\u001B[0m (at time_series.py:1747 in get_time_serie_source_code())\n",
      "\u001B[2m2025-02-28T14:12:55.721741Z\u001B[0m [\u001B[33m\u001B[1mwarning  \u001B[0m] \u001B[1mYour TimeSeries is not in a python module this will likely bring exceptions when running in a pipeline\u001B[0m \u001B[36mapi_time_series\u001B[0m=\u001B[35mFalse\u001B[0m \u001B[36mapplication_name\u001B[0m=\u001B[35mms-sdk\u001B[0m \u001B[36mdata_source_id\u001B[0m=\u001B[35m28\u001B[0m \u001B[36mjob_run_id\u001B[0m=\u001B[35mNone\u001B[0m \u001B[36mlocal_hash_id\u001B[0m=\u001B[35mportfolioexample_f53f240ed0980b8f8bd541172af036ac\u001B[0m \u001B[36mlocal_hash_id_data_source\u001B[0m=\u001B[35m1\u001B[0m \u001B[36mproject_id\u001B[0m=\u001B[35m16\u001B[0m (at time_series.py:1747 in get_time_serie_source_code())\n",
      "Overriding of current TracerProvider is not allowed\n",
      "\u001B[2m2025-02-28T14:13:05.695327Z\u001B[0m [\u001B[32m\u001B[1minfo     \u001B[0m] \u001B[1mUpdating Local Time Series for  PortfolioExample http://127.0.0.1:8000/local-time-series/details/?local_time_serie_id=611  for first time\u001B[0m \u001B[36mapi_time_series\u001B[0m=\u001B[35mFalse\u001B[0m \u001B[36mapplication_name\u001B[0m=\u001B[35mms-sdk\u001B[0m \u001B[36mdata_source_id\u001B[0m=\u001B[35m28\u001B[0m \u001B[36mhead_local_ts_hash_id\u001B[0m=\u001B[35mportfolioexample_f53f240ed0980b8f8bd541172af036ac\u001B[0m \u001B[36mjob_run_id\u001B[0m=\u001B[35mNone\u001B[0m \u001B[36mlocal_hash_id\u001B[0m=\u001B[35mportfolioexample_f53f240ed0980b8f8bd541172af036ac\u001B[0m \u001B[36mlocal_hash_id_data_source\u001B[0m=\u001B[35m1\u001B[0m \u001B[36mproject_id\u001B[0m=\u001B[35m16\u001B[0m \u001B[36mscheduler_name\u001B[0m=\u001B[35mDEBUG_portfolioexample_f53f240ed0980b8f8bd541172af036ac_1\u001B[0m (at time_series.py:2535 in update_local())\n",
      "\u001B[2m2025-02-28T14:13:06.714895Z\u001B[0m [\u001B[33m\u001B[1mwarning  \u001B[0m] \u001B[1mNo data returned from remote API for portfolioexample_f53f240ed0980b8f8bd541172af036ac\u001B[0m \u001B[36mapi_time_series\u001B[0m=\u001B[35mFalse\u001B[0m \u001B[36mapplication_name\u001B[0m=\u001B[35mms-sdk\u001B[0m \u001B[36mdata_source_id\u001B[0m=\u001B[35m28\u001B[0m \u001B[36mhead_local_ts_hash_id\u001B[0m=\u001B[35mportfolioexample_f53f240ed0980b8f8bd541172af036ac\u001B[0m \u001B[36mjob_run_id\u001B[0m=\u001B[35mNone\u001B[0m \u001B[36mlocal_hash_id\u001B[0m=\u001B[35mportfolioexample_f53f240ed0980b8f8bd541172af036ac\u001B[0m \u001B[36mlocal_hash_id_data_source\u001B[0m=\u001B[35m1\u001B[0m \u001B[36mproject_id\u001B[0m=\u001B[35m16\u001B[0m \u001B[36mscheduler_name\u001B[0m=\u001B[35mDEBUG_portfolioexample_f53f240ed0980b8f8bd541172af036ac_1\u001B[0m (at models.py:1522 in get_data_by_time_index())\n",
      "\u001B[2m2025-02-28T14:13:06.716069Z\u001B[0m [\u001B[32m\u001B[1minfo     \u001B[0m] \u001B[1mLocal Time Series  PortfolioExample http://127.0.0.1:8000/local-time-series/details/?local_time_serie_id=611  updated\u001B[0m \u001B[36mapi_time_series\u001B[0m=\u001B[35mFalse\u001B[0m \u001B[36mapplication_name\u001B[0m=\u001B[35mms-sdk\u001B[0m \u001B[36mdata_source_id\u001B[0m=\u001B[35m28\u001B[0m \u001B[36mhead_local_ts_hash_id\u001B[0m=\u001B[35mportfolioexample_f53f240ed0980b8f8bd541172af036ac\u001B[0m \u001B[36mjob_run_id\u001B[0m=\u001B[35mNone\u001B[0m \u001B[36mlocal_hash_id\u001B[0m=\u001B[35mportfolioexample_f53f240ed0980b8f8bd541172af036ac\u001B[0m \u001B[36mlocal_hash_id_data_source\u001B[0m=\u001B[35m1\u001B[0m \u001B[36mproject_id\u001B[0m=\u001B[35m16\u001B[0m \u001B[36mscheduler_name\u001B[0m=\u001B[35mDEBUG_portfolioexample_f53f240ed0980b8f8bd541172af036ac_1\u001B[0m (at time_series.py:2561 in update_local())\n",
      "\u001B[2m2025-02-28T14:13:09.465148Z\u001B[0m [\u001B[32m\u001B[1minfo     \u001B[0m] \u001B[1mHeartbeat thread stopped.     \u001B[0m \u001B[36mapi_time_series\u001B[0m=\u001B[35mFalse\u001B[0m \u001B[36mapplication_name\u001B[0m=\u001B[35mms-sdk\u001B[0m \u001B[36mdata_source_id\u001B[0m=\u001B[35m28\u001B[0m \u001B[36mhead_local_ts_hash_id\u001B[0m=\u001B[35mportfolioexample_f53f240ed0980b8f8bd541172af036ac\u001B[0m \u001B[36mjob_run_id\u001B[0m=\u001B[35mNone\u001B[0m \u001B[36mlocal_hash_id\u001B[0m=\u001B[35mportfolioexample_f53f240ed0980b8f8bd541172af036ac\u001B[0m \u001B[36mlocal_hash_id_data_source\u001B[0m=\u001B[35m1\u001B[0m \u001B[36mproject_id\u001B[0m=\u001B[35m16\u001B[0m \u001B[36mscheduler_name\u001B[0m=\u001B[35mDEBUG_portfolioexample_f53f240ed0980b8f8bd541172af036ac_1\u001B[0m (at models.py:1220 in stop_heart_beat())\n",
      "\u001B[2m2025-02-28T14:13:11.397456Z\u001B[0m [\u001B[33m\u001B[1mwarning  \u001B[0m] \u001B[1mYour TimeSeries is not in a python module this will likely bring exceptions when running in a pipeline\u001B[0m \u001B[36mapi_time_series\u001B[0m=\u001B[35mFalse\u001B[0m \u001B[36mapplication_name\u001B[0m=\u001B[35mms-sdk\u001B[0m \u001B[36mdata_source_id\u001B[0m=\u001B[35m28\u001B[0m \u001B[36mhead_local_ts_hash_id\u001B[0m=\u001B[35mportfolioexample_f53f240ed0980b8f8bd541172af036ac\u001B[0m \u001B[36mjob_run_id\u001B[0m=\u001B[35mNone\u001B[0m \u001B[36mlocal_hash_id\u001B[0m=\u001B[35mportfolioexample_ae5f2533750ef1a0c9f035e7697698b2\u001B[0m \u001B[36mlocal_hash_id_data_source\u001B[0m=\u001B[35m1\u001B[0m \u001B[36mproject_id\u001B[0m=\u001B[35m16\u001B[0m \u001B[36mscheduler_name\u001B[0m=\u001B[35mDEBUG_portfolioexample_f53f240ed0980b8f8bd541172af036ac_1\u001B[0m (at time_series.py:1747 in get_time_serie_source_code())\n",
      "\u001B[2m2025-02-28T14:13:11.398376Z\u001B[0m [\u001B[33m\u001B[1mwarning  \u001B[0m] \u001B[1mYour TimeSeries is not in a python module this will likely bring exceptions when running in a pipeline\u001B[0m \u001B[36mapi_time_series\u001B[0m=\u001B[35mFalse\u001B[0m \u001B[36mapplication_name\u001B[0m=\u001B[35mms-sdk\u001B[0m \u001B[36mdata_source_id\u001B[0m=\u001B[35m28\u001B[0m \u001B[36mhead_local_ts_hash_id\u001B[0m=\u001B[35mportfolioexample_f53f240ed0980b8f8bd541172af036ac\u001B[0m \u001B[36mjob_run_id\u001B[0m=\u001B[35mNone\u001B[0m \u001B[36mlocal_hash_id\u001B[0m=\u001B[35mportfolioexample_ae5f2533750ef1a0c9f035e7697698b2\u001B[0m \u001B[36mlocal_hash_id_data_source\u001B[0m=\u001B[35m1\u001B[0m \u001B[36mproject_id\u001B[0m=\u001B[35m16\u001B[0m \u001B[36mscheduler_name\u001B[0m=\u001B[35mDEBUG_portfolioexample_f53f240ed0980b8f8bd541172af036ac_1\u001B[0m (at time_series.py:1747 in get_time_serie_source_code())\n",
      "Overriding of current TracerProvider is not allowed\n",
      "\u001B[2m2025-02-28T14:13:21.052414Z\u001B[0m [\u001B[32m\u001B[1minfo     \u001B[0m] \u001B[1mUpdating Local Time Series for  PortfolioExample http://127.0.0.1:8000/local-time-series/details/?local_time_serie_id=612  for first time\u001B[0m \u001B[36mapi_time_series\u001B[0m=\u001B[35mFalse\u001B[0m \u001B[36mapplication_name\u001B[0m=\u001B[35mms-sdk\u001B[0m \u001B[36mdata_source_id\u001B[0m=\u001B[35m28\u001B[0m \u001B[36mhead_local_ts_hash_id\u001B[0m=\u001B[35mportfolioexample_ae5f2533750ef1a0c9f035e7697698b2\u001B[0m \u001B[36mjob_run_id\u001B[0m=\u001B[35mNone\u001B[0m \u001B[36mlocal_hash_id\u001B[0m=\u001B[35mportfolioexample_ae5f2533750ef1a0c9f035e7697698b2\u001B[0m \u001B[36mlocal_hash_id_data_source\u001B[0m=\u001B[35m1\u001B[0m \u001B[36mproject_id\u001B[0m=\u001B[35m16\u001B[0m \u001B[36mscheduler_name\u001B[0m=\u001B[35mDEBUG_portfolioexample_ae5f2533750ef1a0c9f035e7697698b2_1\u001B[0m (at time_series.py:2535 in update_local())\n",
      "\u001B[2m2025-02-28T14:13:22.018961Z\u001B[0m [\u001B[33m\u001B[1mwarning  \u001B[0m] \u001B[1mNo data returned from remote API for portfolioexample_ae5f2533750ef1a0c9f035e7697698b2\u001B[0m \u001B[36mapi_time_series\u001B[0m=\u001B[35mFalse\u001B[0m \u001B[36mapplication_name\u001B[0m=\u001B[35mms-sdk\u001B[0m \u001B[36mdata_source_id\u001B[0m=\u001B[35m28\u001B[0m \u001B[36mhead_local_ts_hash_id\u001B[0m=\u001B[35mportfolioexample_ae5f2533750ef1a0c9f035e7697698b2\u001B[0m \u001B[36mjob_run_id\u001B[0m=\u001B[35mNone\u001B[0m \u001B[36mlocal_hash_id\u001B[0m=\u001B[35mportfolioexample_ae5f2533750ef1a0c9f035e7697698b2\u001B[0m \u001B[36mlocal_hash_id_data_source\u001B[0m=\u001B[35m1\u001B[0m \u001B[36mproject_id\u001B[0m=\u001B[35m16\u001B[0m \u001B[36mscheduler_name\u001B[0m=\u001B[35mDEBUG_portfolioexample_ae5f2533750ef1a0c9f035e7697698b2_1\u001B[0m (at models.py:1522 in get_data_by_time_index())\n",
      "\u001B[2m2025-02-28T14:13:22.020250Z\u001B[0m [\u001B[32m\u001B[1minfo     \u001B[0m] \u001B[1mLocal Time Series  PortfolioExample http://127.0.0.1:8000/local-time-series/details/?local_time_serie_id=612  updated\u001B[0m \u001B[36mapi_time_series\u001B[0m=\u001B[35mFalse\u001B[0m \u001B[36mapplication_name\u001B[0m=\u001B[35mms-sdk\u001B[0m \u001B[36mdata_source_id\u001B[0m=\u001B[35m28\u001B[0m \u001B[36mhead_local_ts_hash_id\u001B[0m=\u001B[35mportfolioexample_ae5f2533750ef1a0c9f035e7697698b2\u001B[0m \u001B[36mjob_run_id\u001B[0m=\u001B[35mNone\u001B[0m \u001B[36mlocal_hash_id\u001B[0m=\u001B[35mportfolioexample_ae5f2533750ef1a0c9f035e7697698b2\u001B[0m \u001B[36mlocal_hash_id_data_source\u001B[0m=\u001B[35m1\u001B[0m \u001B[36mproject_id\u001B[0m=\u001B[35m16\u001B[0m \u001B[36mscheduler_name\u001B[0m=\u001B[35mDEBUG_portfolioexample_ae5f2533750ef1a0c9f035e7697698b2_1\u001B[0m (at time_series.py:2561 in update_local())\n",
      "\u001B[2m2025-02-28T14:13:24.799119Z\u001B[0m [\u001B[32m\u001B[1minfo     \u001B[0m] \u001B[1mHeartbeat thread stopped.     \u001B[0m \u001B[36mapi_time_series\u001B[0m=\u001B[35mFalse\u001B[0m \u001B[36mapplication_name\u001B[0m=\u001B[35mms-sdk\u001B[0m \u001B[36mdata_source_id\u001B[0m=\u001B[35m28\u001B[0m \u001B[36mhead_local_ts_hash_id\u001B[0m=\u001B[35mportfolioexample_ae5f2533750ef1a0c9f035e7697698b2\u001B[0m \u001B[36mjob_run_id\u001B[0m=\u001B[35mNone\u001B[0m \u001B[36mlocal_hash_id\u001B[0m=\u001B[35mportfolioexample_ae5f2533750ef1a0c9f035e7697698b2\u001B[0m \u001B[36mlocal_hash_id_data_source\u001B[0m=\u001B[35m1\u001B[0m \u001B[36mproject_id\u001B[0m=\u001B[35m16\u001B[0m \u001B[36mscheduler_name\u001B[0m=\u001B[35mDEBUG_portfolioexample_ae5f2533750ef1a0c9f035e7697698b2_1\u001B[0m (at models.py:1220 in stop_heart_beat())\n"
     ]
    }
   ],
   "execution_count": 4
  },
  {
   "metadata": {
    "ExecuteTime": {
     "end_time": "2025-02-28T14:13:25.590903Z",
     "start_time": "2025-02-28T14:13:24.808513Z"
    }
   },
   "cell_type": "code",
   "source": [
    "#we can get our simulated prices from TDAG Backend\n",
    "print(f\"Data in time series\",backtesting_portfolio_ts)\n",
    "backtesting_portfolio_ts.get_df_between_dates()"
   ],
   "id": "bf28faaa65451aa1",
   "outputs": [
    {
     "name": "stdout",
     "output_type": "stream",
     "text": [
      "Data in time series PortfolioExample http://127.0.0.1:8000/local-time-series/details/?local_time_serie_id=611\n"
     ]
    },
    {
     "data": {
      "text/plain": [
       "                                       close\n",
       "time_index                                  \n",
       "2025-01-29 10:19:17.898000+00:00  100.000000\n",
       "2025-01-30 10:19:17.898000+00:00   89.597844\n",
       "2025-01-31 10:19:17.898000+00:00  100.448965\n",
       "2025-02-01 10:19:17.898000+00:00  114.169699\n",
       "2025-02-02 10:19:17.898000+00:00  144.114456\n",
       "2025-02-03 10:19:17.898000+00:00  134.236439\n",
       "2025-02-04 10:19:17.898000+00:00  125.187161\n",
       "2025-02-05 10:19:17.898000+00:00  168.727642\n",
       "2025-02-06 10:19:17.898000+00:00  195.374887\n",
       "2025-02-07 10:19:17.898000+00:00  182.802226\n",
       "2025-02-08 10:19:17.898000+00:00  188.893611\n",
       "2025-02-09 10:19:17.898000+00:00  246.957678\n",
       "2025-02-10 10:19:17.898000+00:00  235.411725\n",
       "2025-02-11 10:19:17.898000+00:00  343.418449\n",
       "2025-02-12 10:19:17.898000+00:00  346.608246\n",
       "2025-02-13 10:19:17.898000+00:00  393.351743\n",
       "2025-02-14 10:19:17.898000+00:00  353.723111\n",
       "2025-02-15 10:19:17.898000+00:00  423.028975\n",
       "2025-02-16 10:19:17.898000+00:00  402.713757\n",
       "2025-02-17 10:19:17.898000+00:00  375.167368\n",
       "2025-02-18 10:19:17.898000+00:00  345.889347\n",
       "2025-02-19 10:19:17.898000+00:00  345.560815\n",
       "2025-02-20 10:19:17.898000+00:00  339.525789\n",
       "2025-02-21 10:19:17.898000+00:00  326.368981\n",
       "2025-02-22 10:19:17.898000+00:00  277.096671\n",
       "2025-02-23 10:19:17.898000+00:00  268.395192\n",
       "2025-02-24 10:19:17.898000+00:00  253.326495\n",
       "2025-02-25 10:19:17.898000+00:00  299.969158\n",
       "2025-02-26 10:19:17.898000+00:00  294.244215\n",
       "2025-02-27 10:19:17.898000+00:00  338.548109\n",
       "2025-02-28 10:19:17.898000+00:00  325.130206"
      ],
      "text/html": [
       "<div>\n",
       "<style scoped>\n",
       "    .dataframe tbody tr th:only-of-type {\n",
       "        vertical-align: middle;\n",
       "    }\n",
       "\n",
       "    .dataframe tbody tr th {\n",
       "        vertical-align: top;\n",
       "    }\n",
       "\n",
       "    .dataframe thead th {\n",
       "        text-align: right;\n",
       "    }\n",
       "</style>\n",
       "<table border=\"1\" class=\"dataframe\">\n",
       "  <thead>\n",
       "    <tr style=\"text-align: right;\">\n",
       "      <th></th>\n",
       "      <th>close</th>\n",
       "    </tr>\n",
       "    <tr>\n",
       "      <th>time_index</th>\n",
       "      <th></th>\n",
       "    </tr>\n",
       "  </thead>\n",
       "  <tbody>\n",
       "    <tr>\n",
       "      <th>2025-01-29 10:19:17.898000+00:00</th>\n",
       "      <td>100.000000</td>\n",
       "    </tr>\n",
       "    <tr>\n",
       "      <th>2025-01-30 10:19:17.898000+00:00</th>\n",
       "      <td>89.597844</td>\n",
       "    </tr>\n",
       "    <tr>\n",
       "      <th>2025-01-31 10:19:17.898000+00:00</th>\n",
       "      <td>100.448965</td>\n",
       "    </tr>\n",
       "    <tr>\n",
       "      <th>2025-02-01 10:19:17.898000+00:00</th>\n",
       "      <td>114.169699</td>\n",
       "    </tr>\n",
       "    <tr>\n",
       "      <th>2025-02-02 10:19:17.898000+00:00</th>\n",
       "      <td>144.114456</td>\n",
       "    </tr>\n",
       "    <tr>\n",
       "      <th>2025-02-03 10:19:17.898000+00:00</th>\n",
       "      <td>134.236439</td>\n",
       "    </tr>\n",
       "    <tr>\n",
       "      <th>2025-02-04 10:19:17.898000+00:00</th>\n",
       "      <td>125.187161</td>\n",
       "    </tr>\n",
       "    <tr>\n",
       "      <th>2025-02-05 10:19:17.898000+00:00</th>\n",
       "      <td>168.727642</td>\n",
       "    </tr>\n",
       "    <tr>\n",
       "      <th>2025-02-06 10:19:17.898000+00:00</th>\n",
       "      <td>195.374887</td>\n",
       "    </tr>\n",
       "    <tr>\n",
       "      <th>2025-02-07 10:19:17.898000+00:00</th>\n",
       "      <td>182.802226</td>\n",
       "    </tr>\n",
       "    <tr>\n",
       "      <th>2025-02-08 10:19:17.898000+00:00</th>\n",
       "      <td>188.893611</td>\n",
       "    </tr>\n",
       "    <tr>\n",
       "      <th>2025-02-09 10:19:17.898000+00:00</th>\n",
       "      <td>246.957678</td>\n",
       "    </tr>\n",
       "    <tr>\n",
       "      <th>2025-02-10 10:19:17.898000+00:00</th>\n",
       "      <td>235.411725</td>\n",
       "    </tr>\n",
       "    <tr>\n",
       "      <th>2025-02-11 10:19:17.898000+00:00</th>\n",
       "      <td>343.418449</td>\n",
       "    </tr>\n",
       "    <tr>\n",
       "      <th>2025-02-12 10:19:17.898000+00:00</th>\n",
       "      <td>346.608246</td>\n",
       "    </tr>\n",
       "    <tr>\n",
       "      <th>2025-02-13 10:19:17.898000+00:00</th>\n",
       "      <td>393.351743</td>\n",
       "    </tr>\n",
       "    <tr>\n",
       "      <th>2025-02-14 10:19:17.898000+00:00</th>\n",
       "      <td>353.723111</td>\n",
       "    </tr>\n",
       "    <tr>\n",
       "      <th>2025-02-15 10:19:17.898000+00:00</th>\n",
       "      <td>423.028975</td>\n",
       "    </tr>\n",
       "    <tr>\n",
       "      <th>2025-02-16 10:19:17.898000+00:00</th>\n",
       "      <td>402.713757</td>\n",
       "    </tr>\n",
       "    <tr>\n",
       "      <th>2025-02-17 10:19:17.898000+00:00</th>\n",
       "      <td>375.167368</td>\n",
       "    </tr>\n",
       "    <tr>\n",
       "      <th>2025-02-18 10:19:17.898000+00:00</th>\n",
       "      <td>345.889347</td>\n",
       "    </tr>\n",
       "    <tr>\n",
       "      <th>2025-02-19 10:19:17.898000+00:00</th>\n",
       "      <td>345.560815</td>\n",
       "    </tr>\n",
       "    <tr>\n",
       "      <th>2025-02-20 10:19:17.898000+00:00</th>\n",
       "      <td>339.525789</td>\n",
       "    </tr>\n",
       "    <tr>\n",
       "      <th>2025-02-21 10:19:17.898000+00:00</th>\n",
       "      <td>326.368981</td>\n",
       "    </tr>\n",
       "    <tr>\n",
       "      <th>2025-02-22 10:19:17.898000+00:00</th>\n",
       "      <td>277.096671</td>\n",
       "    </tr>\n",
       "    <tr>\n",
       "      <th>2025-02-23 10:19:17.898000+00:00</th>\n",
       "      <td>268.395192</td>\n",
       "    </tr>\n",
       "    <tr>\n",
       "      <th>2025-02-24 10:19:17.898000+00:00</th>\n",
       "      <td>253.326495</td>\n",
       "    </tr>\n",
       "    <tr>\n",
       "      <th>2025-02-25 10:19:17.898000+00:00</th>\n",
       "      <td>299.969158</td>\n",
       "    </tr>\n",
       "    <tr>\n",
       "      <th>2025-02-26 10:19:17.898000+00:00</th>\n",
       "      <td>294.244215</td>\n",
       "    </tr>\n",
       "    <tr>\n",
       "      <th>2025-02-27 10:19:17.898000+00:00</th>\n",
       "      <td>338.548109</td>\n",
       "    </tr>\n",
       "    <tr>\n",
       "      <th>2025-02-28 10:19:17.898000+00:00</th>\n",
       "      <td>325.130206</td>\n",
       "    </tr>\n",
       "  </tbody>\n",
       "</table>\n",
       "</div>"
      ]
     },
     "execution_count": 5,
     "metadata": {},
     "output_type": "execute_result"
    }
   ],
   "execution_count": 5
  },
  {
   "cell_type": "code",
   "id": "b1c2cd40",
   "metadata": {
    "ExecuteTime": {
     "end_time": "2025-02-28T14:13:25.992526Z",
     "start_time": "2025-02-28T14:13:25.615635Z"
    }
   },
   "source": [
    "\n",
    "def create_portfolio(build_purpose, portfolio_name,local_time_serie_hash_id,local_time_serie_id):\n",
    "    \n",
    "    \n",
    "    existing_portfolios = TargetPortfolio.filter(\n",
    "       \n",
    "        local_time_serie_id=local_time_serie_id\n",
    "    )\n",
    "    \n",
    "    if existing_portfolios:\n",
    "        print(f\"Portfolio '{portfolio_name}' already exists.\")\n",
    "        return existing_portfolios[0]\n",
    "    \n",
    "    \n",
    "    return TargetPortfolio.create_from_time_series(\n",
    "        portfolio_name=portfolio_name,\n",
    "        build_purpose=build_purpose,\n",
    "        is_active=True,\n",
    "        local_time_serie_id=local_time_serie_id,  # Example ID\n",
    "        local_time_serie_hash_id=local_time_serie_hash_id,\n",
    "        local_signal_time_serie_id=local_time_serie_id, #we are not using a signal so we are setting the same \n",
    "        available_in_venues__symbols=[VAM_CONSTANTS.BINANCE_EV_SYMBOL],\n",
    "        execution_configuration={},\n",
    "        calendar_name=\"24/7\",\n",
    "        tracking_funds_expected_exposure_from_latest_holdings=False\n",
    "    )\n",
    "\n",
    "# Create Execution Portfolio\n",
    "execution_portfolio = create_portfolio(\n",
    "    VAM_CONSTANTS.PORTFOLIO_BUILD_FOR_EXECUTION, \"Execution Portfolio\", live_portfolio_ts.local_hash_id,live_portfolio_ts.local_metadata.id\n",
    ")\n",
    "print(\"Created Execution Portfolio:\", execution_portfolio)\n",
    "\n",
    "# Create Backtesting Portfolio\n",
    "backtest_portfolio = create_portfolio(\n",
    "    VAM_CONSTANTS.PORTFOLIO_BUILD_FOR_BACKTEST, \"Backtest Portfolio\",backtesting_portfolio_ts.local_hash_id,backtesting_portfolio_ts.local_metadata.id\n",
    ")\n",
    "print(\"Created Backtest Portfolio:\", backtest_portfolio)\n"
   ],
   "outputs": [
    {
     "name": "stdout",
     "output_type": "stream",
     "text": [
      "Portfolio 'Execution Portfolio' already exists.\n",
      "Created Execution Portfolio: orm_class='TargetPortfolio' id=682 portfolio_name='Execution Portfolio' portfolio_ticker='LPQY7F-612-execution_reference' latest_rebalance=None calendar=Calendar: 1 is_asset_only=False build_purpose='execution_reference' is_active=True local_time_serie_id=612 local_time_serie_hash_id='portfolioexample_ae5f2533750ef1a0c9f035e7697698b2' local_signal_time_serie_id=612 builds_from_predictions=False builds_from_target_positions=False follow_account_rebalance=False tracking_funds_expected_exposure_from_latest_holdings=False available_in_venues=[ExecutionVenue: 2] latest_weights=None creation_date=None execution_configuration=TargetPortfolioExecutionConfiguration: None\n",
      "Portfolio 'Backtest Portfolio' already exists.\n",
      "Created Backtest Portfolio: orm_class='TargetPortfolio' id=685 portfolio_name='Backtest Portfolio' portfolio_ticker='FBXUKW-611-backtesting_reference' latest_rebalance=None calendar=Calendar: 1 is_asset_only=False build_purpose='backtesting_reference' is_active=True local_time_serie_id=611 local_time_serie_hash_id='portfolioexample_f53f240ed0980b8f8bd541172af036ac' local_signal_time_serie_id=611 builds_from_predictions=False builds_from_target_positions=False follow_account_rebalance=False tracking_funds_expected_exposure_from_latest_holdings=False available_in_venues=[ExecutionVenue: 2] latest_weights=HistoricalWeights: 787 creation_date=None execution_configuration=TargetPortfolioExecutionConfiguration: None\n"
     ]
    }
   ],
   "execution_count": 6
  },
  {
   "cell_type": "markdown",
   "id": "49878c76",
   "metadata": {},
   "source": [
    "## Step 4: Create Index Asset Portfolio\n",
    "An **Index Asset Portfolio** is created by linking both execution and backtesting portfolios."
   ]
  },
  {
   "metadata": {
    "ExecuteTime": {
     "end_time": "2025-02-28T14:13:26.112468Z",
     "start_time": "2025-02-28T14:13:26.014032Z"
    }
   },
   "cell_type": "code",
   "source": [
    "valuation_asset=Asset.filter(symbol=\"USD\",asset_type=VAM_CONSTANTS.ASSET_TYPE_CURRENCY,\n",
    "                             execution_venue__symbol=VAM_CONSTANTS.MAIN_SEQUENCE_PORTFOLIOS_EV)\n",
    "valuation_asset=valuation_asset[0]"
   ],
   "id": "e1a874596ebd49a5",
   "outputs": [],
   "execution_count": 7
  },
  {
   "metadata": {
    "ExecuteTime": {
     "end_time": "2025-02-28T14:13:26.116835Z",
     "start_time": "2025-02-28T14:13:26.115303Z"
    }
   },
   "cell_type": "code",
   "source": "",
   "id": "d46bf3d66e89959d",
   "outputs": [],
   "execution_count": null
  },
  {
   "cell_type": "markdown",
   "id": "2f8a373f",
   "metadata": {},
   "source": [
    "## Step 5: Query the Newly Created Index Asset Portfolio\n",
    "We verify the creation by querying the portfolio."
   ]
  },
  {
   "metadata": {
    "ExecuteTime": {
     "end_time": "2025-02-28T14:13:26.438430Z",
     "start_time": "2025-02-28T14:13:26.160980Z"
    }
   },
   "cell_type": "code",
   "source": [
    "\n",
    "\n",
    "index_asset_portfolio = Asset.create_or_update_index_asset_from_portfolios(\n",
    "    live_portfolio=execution_portfolio.id,\n",
    "    backtest_portfolio=backtest_portfolio.id,\n",
    "    valuation_asset=valuation_asset.id,\n",
    "    calendar=\"24/7\",\n",
    ")\n",
    "\n",
    "print(\"Created Index Asset Portfolio:\", index_asset_portfolio)\n"
   ],
   "id": "cec51470",
   "outputs": [
    {
     "name": "stdout",
     "output_type": "stream",
     "text": [
      "Created Index Asset Portfolio: orm_class='TargetPortfolioIndexAsset' id=27043 symbol='LPQY7F-612-execution_reference/FBXUKW-611-backtesting_reference' name='Asset Tracking portfolios Execution Portfolio' asset_type='index' can_trade=False calendar=Calendar: 1 execution_venue=ExecutionVenue: 5 delisted_datetime=None unique_identifier='LPQY7F-612-execution_reference/FBXUKW-611-backtesting_reference_index_main_sequence_portfolios' unique_symbol='LPQY7F-612-execution_reference/FBXUKW-611-backtesting_reference' valuation_asset=AssetMixin: 15510 live_portfolio=TargetPortfolio: 682 backtest_portfolio=TargetPortfolio: 685\n"
     ]
    }
   ],
   "execution_count": 8
  },
  {
   "metadata": {},
   "cell_type": "markdown",
   "source": [
    "## Step 6: Adding Weights to the Portfolios\n",
    "When using the VirtualFundBuilder signal and time series composition, there is no need to add weights. However,\n",
    "if we want to add weights to our portfolios without using VirtualFundBuilder, we can do this manually.\n",
    "\n",
    "Once the portfolio is created, we need to build the FrontEndDetails. This will allow us to link our assets and portfolios in the graphical user interface.\n"
   ],
   "id": "49ba5b4e9089b40c"
  },
  {
   "metadata": {
    "ExecuteTime": {
     "end_time": "2025-02-28T14:13:27.006676Z",
     "start_time": "2025-02-28T14:13:26.444064Z"
    }
   },
   "cell_type": "code",
   "source": [
    "from mainsequence.vam_client.models import TargetPortfolioFrontEndDetails\n",
    "\n",
    "def ensure_front_end_details(portfolio):\n",
    "    front_end_detail_portfolio = TargetPortfolioFrontEndDetails.filter(target_portfolio__id=portfolio.id)\n",
    "    \n",
    "    if len(front_end_detail_portfolio) == 0:\n",
    "        front_end_details_kwargs = {\n",
    "            \"target_portfolio_about\": {\n",
    "                \"description\": f\"Test Example Portfolio {portfolio.portfolio_ticker}\",\n",
    "                \"signal_name\": \"Manual Signal\",\n",
    "                \"signal_description\": \"\"\"## Explanation\n",
    "                Markdown Explanation example\n",
    "                \"\"\",\n",
    "                \"rebalance_strategy_name\": \"Manual Rebalance\",\n",
    "            }\n",
    "        }\n",
    "        front_end_detail_portfolio = TargetPortfolioFrontEndDetails.create_or_update(\n",
    "            **front_end_details_kwargs,\n",
    "            target_portfolio_id=portfolio.id,\n",
    "            backtest_table_time_index_name=\"time_index\",\n",
    "            backtest_table_price_column_name=\"portfolio\",\n",
    "            tags=[\"example portfolios\"]\n",
    "        )\n",
    "    return front_end_detail_portfolio\n",
    "\n",
    "# Apply function to both live and backtest portfolios\n",
    "ensure_front_end_details(index_asset_portfolio.backtest_portfolio)\n",
    "ensure_front_end_details(index_asset_portfolio.live_portfolio)"
   ],
   "id": "cb986b6ef86b8cc0",
   "outputs": [
    {
     "data": {
      "text/plain": [
       "TargetPortfolioFrontEndDetails: 682"
      ]
     },
     "execution_count": 9,
     "metadata": {},
     "output_type": "execute_result"
    }
   ],
   "execution_count": 9
  },
  {
   "metadata": {},
   "cell_type": "markdown",
   "source": [
    "## Step 7: Adding Weights to the Portfolios\n",
    "When using the VirtualFundBuilder signal and time series composition, there is no need to add weights. However,\n",
    "if we want to add weights to our portfolios without using VirtualFundBuilder, we can do this manually.\n"
   ],
   "id": "6f7134052eb9895d"
  },
  {
   "metadata": {
    "ExecuteTime": {
     "end_time": "2025-02-28T14:13:27.207920Z",
     "start_time": "2025-02-28T14:13:27.013797Z"
    }
   },
   "cell_type": "code",
   "source": "TargetPortfolioFrontEndDetails.filter(target_portfolio__id=index_asset_portfolio.backtest_portfolio.id)",
   "id": "176d56dd1152e9ff",
   "outputs": [
    {
     "data": {
      "text/plain": [
       "[TargetPortfolioFrontEndDetails: 685]"
      ]
     },
     "execution_count": 10,
     "metadata": {},
     "output_type": "execute_result"
    }
   ],
   "execution_count": 10
  },
  {
   "metadata": {
    "ExecuteTime": {
     "end_time": "2025-02-28T14:13:27.338628Z",
     "start_time": "2025-02-28T14:13:27.212995Z"
    }
   },
   "cell_type": "code",
   "source": [
    "assets=Asset.filter(symbol__in=[\"BTCUSDT\",\"ETHUSDT\"],execution_venue__symbol=VAM_CONSTANTS.BINANCE_EV_SYMBOL)\n",
    "assets=assets[:2]"
   ],
   "id": "2be779c6df54a849",
   "outputs": [],
   "execution_count": 11
  },
  {
   "metadata": {
    "ExecuteTime": {
     "end_time": "2025-02-28T14:13:27.345919Z",
     "start_time": "2025-02-28T14:13:27.343734Z"
    }
   },
   "cell_type": "code",
   "source": "np.random.rand()",
   "id": "1957ada9150530be",
   "outputs": [
    {
     "data": {
      "text/plain": [
       "0.7836151372395902"
      ]
     },
     "execution_count": 12,
     "metadata": {},
     "output_type": "execute_result"
    }
   ],
   "execution_count": 12
  },
  {
   "metadata": {
    "ExecuteTime": {
     "end_time": "2025-02-28T14:13:34.279272Z",
     "start_time": "2025-02-28T14:13:27.439195Z"
    }
   },
   "cell_type": "code",
   "source": [
    "#Sends the calculated backtesting weights to the portfolio management system in VAM.\n",
    "from mainsequence.vam_client import HistoricalWeights\n",
    "\n",
    "#simulate weights mapping\n",
    "\n",
    "for  weights_date in backtesting_portfolio_ts.get_df_between_dates().index:\n",
    "    \n",
    "    w=np.random.rand()\n",
    "    \n",
    "    positions_list=[{\"weight_notional_exposure\":(1-c)*w,\"unique_identifier\":a.unique_identifier} for c,a in enumerate(assets)]\n",
    "\n",
    "\n",
    "    hw=HistoricalWeights.add_from_time_serie(\n",
    "                        local_time_serie_id=backtesting_portfolio_ts.local_metadata.id,\n",
    "                        weights_date=weights_date,\n",
    "                        positions_list=positions_list\n",
    "                    )"
   ],
   "id": "5d6e86635f68847a",
   "outputs": [],
   "execution_count": 13
  },
  {
   "metadata": {
    "ExecuteTime": {
     "end_time": "2025-02-28T14:13:34.286690Z",
     "start_time": "2025-02-28T14:13:34.284793Z"
    }
   },
   "cell_type": "code",
   "source": "print(\"The latest weights of the portfolio can be found here\",index_asset_portfolio.backtest_portfolio_details_url)",
   "id": "b3fbe70b518c3723",
   "outputs": [
    {
     "name": "stdout",
     "output_type": "stream",
     "text": [
      "The latest weights of the portfolio can be found here http://192.168.178.69:8010/dashboards/portfolio-detail/?target_portfolio_id=685\n"
     ]
    }
   ],
   "execution_count": 14
  }
 ],
 "metadata": {
  "kernelspec": {
   "name": "python3",
   "language": "python",
   "display_name": "Python 3 (ipykernel)"
  }
 },
 "nbformat": 4,
 "nbformat_minor": 5
}
