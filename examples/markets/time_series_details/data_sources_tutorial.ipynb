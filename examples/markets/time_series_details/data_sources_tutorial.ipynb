{
 "cells": [
  {
   "cell_type": "markdown",
   "id": "5a6e9071",
   "metadata": {},
   "source": [
    "# TDAGAPIDataSource and HistoricalBarsSource Tutorial\n",
    "\n",
    "This tutorial will guide you through using the `TDAGAPIDataSource` and `HistoricalBarsSource` in the VAM API.\n",
    "These sources help in fetching and managing historical market data.\n",
    "\n",
    "## Covered Topics\n",
    "- Introduction to `TDAGAPIDataSource` and `HistoricalBarsSource`\n",
    "- CRUD operations (Create, Read, Update, Delete)\n",
    "- Querying historical data\n",
    "- Practical examples\n"
   ]
  },
  {
   "cell_type": "markdown",
   "id": "f2460e16",
   "metadata": {},
   "source": [
    "## Setup\n",
    "\n",
    "Before using the data sources, ensure that you have installed the necessary dependencies and imported the required modules.\n"
   ]
  },
  {
   "cell_type": "markdown",
   "id": "4a61eef0",
   "metadata": {},
   "source": [
    "```python\n",
    "from mainsequence.vam_client.models import TDAGAPIDataSource, HistoricalBarsSource\n",
    "from mainsequence.vam_client.utils import CONSTANTS\n",
    "```"
   ]
  },
  {
   "cell_type": "markdown",
   "id": "3c315b65",
   "metadata": {},
   "source": [
    "## Creating Data Sources\n",
    "\n",
    "To create a new `TDAGAPIDataSource` or `HistoricalBarsSource`, use the `.create()` method.\n",
    "\n",
    "To maximize the functionality of DataSources, it is recommended that you build them using the real local_time_series created in TDAG. By doing so, the data can be queried through our API. This provides a simple method for building data pipelines where sources do not belong to the same project.\n",
    "\n",
    "\n"
   ]
  },
  {
   "cell_type": "code",
   "id": "e21d7eec",
   "metadata": {
    "ExecuteTime": {
     "end_time": "2025-03-02T10:33:54.730051Z",
     "start_time": "2025-03-02T10:33:54.116252Z"
    }
   },
   "source": [
    "\n",
    "import dotenv\n",
    "dotenv.load_dotenv('../../../.env')\n",
    "from mainsequence.vam_client.models import TDAGAPIDataSource, HistoricalBarsSource, Asset,ExecutionVenue\n",
    "from mainsequence import VAM_CONSTANTS\n",
    "\n",
    "\n",
    "# Query for existing TDAGAPIDataSource and HistoricalBarsSource instances\n",
    "existing_tdag_sources = TDAGAPIDataSource.filter(unique_identifier=\"tdag_example_source\")\n",
    "existing_historical_sources = HistoricalBarsSource.filter(unique_identifier=\"historical_example_source\")\n",
    "execution_venues=ExecutionVenue.filter(symbol=VAM_CONSTANTS.BINANCE_EV_SYMBOL)\n",
    "# Query assets\n",
    "some_assets = Asset.filter(symbol__in=[\"BTCUSDT\", \"ETHUSDT\"])\n",
    "\n",
    "# Create TDAGAPIDataSource only if it doesn't exist\n",
    "if len(existing_tdag_sources)==0:\n",
    "    tdag_source = TDAGAPIDataSource.create(\n",
    "        unique_identifier=\"tdag_example_source\",\n",
    "        data_source_id=1,\n",
    "        local_hash_id=\"example_hash\",\n",
    "        data_frequency_id=\"1m\",\n",
    "        assets_in_data_source=[a.id for a in some_assets]\n",
    "    )\n",
    "    print(\"Created TDAGAPIDataSource:\", tdag_source)\n",
    "else:\n",
    "    tdag_source = existing_tdag_sources[0]\n",
    "    print(\"TDAGAPIDataSource already exists:\", tdag_source)\n",
    "\n",
    "# Create HistoricalBarsSource only if it doesn't exist\n",
    "if len(existing_historical_sources)==0:\n",
    "    historical_source = HistoricalBarsSource.create(\n",
    "        unique_identifier=\"historical_example_source\",\n",
    "        data_source_id=2,\n",
    "        local_hash_id=\"historical_hash\",\n",
    "        data_frequency_id=\"5m\",\n",
    "        execution_venues=[e.id for e in execution_venues],\n",
    "        data_mode=\"live\",\n",
    "        adjusted=True\n",
    "    )\n",
    "    print(\"Created HistoricalBarsSource:\", historical_source)\n",
    "else:\n",
    "    historical_source = existing_historical_sources[0]\n",
    "    print(\"HistoricalBarsSource already exists:\", historical_source)\n"
   ],
   "outputs": [
    {
     "name": "stdout",
     "output_type": "stream",
     "text": [
      "TDAGAPIDataSource already exists: TDAGAPIDataSourcetdag_example_source\n",
      "Created HistoricalBarsSource: HistoricalBarsSourcehistorical_example_source\n"
     ]
    }
   ],
   "execution_count": 26
  },
  {
   "cell_type": "markdown",
   "id": "0f94c65a",
   "metadata": {},
   "source": [
    "## Reading Data Sources\n",
    "\n",
    "You can retrieve existing data sources using the `.filter()` method.\n"
   ]
  },
  {
   "cell_type": "code",
   "id": "e1b88743",
   "metadata": {
    "ExecuteTime": {
     "end_time": "2025-03-02T10:34:00.877453Z",
     "start_time": "2025-03-02T10:33:59.502758Z"
    }
   },
   "source": [
    "# Fetch all TDAGAPIDataSource instances\n",
    "tdag_sources = TDAGAPIDataSource.filter()\n",
    "print(\"Available TDAGAPIDataSources:\", tdag_sources)\n",
    "\n",
    "# Fetch all HistoricalBarsSource instances\n",
    "historical_sources = HistoricalBarsSource.filter()\n",
    "print(\"Available HistoricalBarsSources:\", historical_sources)\n"
   ],
   "outputs": [
    {
     "name": "stdout",
     "output_type": "stream",
     "text": [
      "Available TDAGAPIDataSources: [TDAGAPIDataSource: 6, TDAGAPIDataSource: 2, TDAGAPIDataSource: 8, TDAGAPIDataSource: 9, TDAGAPIDataSource: 10, TDAGAPIDataSource: 11]\n",
      "Available HistoricalBarsSources: [HistoricalBarsSource: 6, HistoricalBarsSource: 8, HistoricalBarsSource: 9, HistoricalBarsSource: 11]\n"
     ]
    }
   ],
   "execution_count": 27
  },
  {
   "cell_type": "markdown",
   "id": "b681b730",
   "metadata": {},
   "source": [
    "## Updating Data Sources\n",
    "\n",
    "To update an existing data source, use the `.patch()` method.\n"
   ]
  },
  {
   "cell_type": "code",
   "id": "6101f6ca",
   "metadata": {
    "ExecuteTime": {
     "end_time": "2025-03-02T10:34:10.322305Z",
     "start_time": "2025-03-02T10:34:10.071463Z"
    }
   },
   "source": [
    "# Updating an existing TDAGAPIDataSource\n",
    "tdag_source.patch(data_source_description=\"Updated description\")\n",
    "\n",
    "# Updating an existing HistoricalBarsSource\n",
    "historical_source.patch(data_mode=\"backtest\")\n"
   ],
   "outputs": [
    {
     "data": {
      "text/plain": [
       "HistoricalBarsSource: 11"
      ]
     },
     "execution_count": 28,
     "metadata": {},
     "output_type": "execute_result"
    }
   ],
   "execution_count": 28
  },
  {
   "cell_type": "markdown",
   "id": "bc715273",
   "metadata": {},
   "source": [
    "## Deleting Data Sources\n",
    "\n",
    "To remove a data source, use the `.delete()` method.\n"
   ]
  },
  {
   "cell_type": "code",
   "id": "b9392e7c",
   "metadata": {
    "ExecuteTime": {
     "end_time": "2025-03-02T10:34:33.811470Z",
     "start_time": "2025-03-02T10:34:33.539890Z"
    }
   },
   "source": [
    "# Deleting a TDAGAPIDataSource\n",
    "tdag_source.delete()\n",
    "\n",
    "# Deleting a HistoricalBarsSource\n",
    "historical_source.delete()\n"
   ],
   "outputs": [],
   "execution_count": 29
  }
 ],
 "metadata": {
  "kernelspec": {
   "name": "python3",
   "language": "python",
   "display_name": "Python 3 (ipykernel)"
  }
 },
 "nbformat": 4,
 "nbformat_minor": 5
}
