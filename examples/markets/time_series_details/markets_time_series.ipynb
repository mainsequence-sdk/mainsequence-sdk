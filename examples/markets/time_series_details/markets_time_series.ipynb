{
 "cells": [
  {
   "cell_type": "markdown",
   "id": "5a6e9071",
   "metadata": {},
   "source": [
    "# MarketsTimeSeriesDetails  Tutorial\n",
    "\n",
    "`MarketsTimeSeriesDetails` are helper objects that help you associate a Time Series with information from the Markets Platform. The main components of a Market Time Series are:\n",
    "\n",
    "### Properties:\n",
    "\n",
    "- `unique_identifier`: A character field (max length: 255), can be automatically generated, allows blank entries.\n",
    "- `related_local_time_serie`: A one-to-one relationship with a `LocalTimeSerie`, with CASCADE deletion. This associates the Market details directly to a local time series.\n",
    "- `description`: An optional text field used to provide additional details.\n",
    "- `data_frequency_id`: Specifies the frequency of the data using predefined choices:\n",
    "  - `1m`: 1 Minute\n",
    "  - `5m`: 5 Minutes\n",
    "  - `1d`: 1 Day\n",
    "  - `1w`: 1 Week\n",
    "  - `1mo`: 1 Month\n",
    "  - `1q`: 1 Quarter\n",
    "  - (additional frequencies can be added as needed)\n",
    "- `assets_in_data_source`: A many-to-many relationship linking the data source to multiple `Asset` instances. This field is optional and includes assets associated with the data source.\n",
    "- `extra_properties`: A JSON field for storing additional flexible information, optional.\n",
    "\n",
    "### Example Usage:\n",
    "\n",
    "This structure is useful if you have, for instance, a prices time series."
   ]
  },
  {
   "metadata": {
    "ExecuteTime": {
     "end_time": "2025-04-11T11:02:46.670026Z",
     "start_time": "2025-04-11T11:02:46.665873Z"
    }
   },
   "cell_type": "code",
   "source": [
    "import os\n",
    "from pathlib import Path\n",
    "import dotenv\n",
    "# Save the original working directory (only once)\n",
    "try:\n",
    "    original_wd\n",
    "except NameError:\n",
    "    original_wd = os.getcwd()\n",
    "\n",
    "# Compute the target directory: two levels up from the original working directory\n",
    "# For example, if original_wd is /Users/username/project/notebooks,\n",
    "# then target_dir becomes /Users/username\n",
    "target_dir = Path(original_wd).parents[2]\n",
    "\n",
    "# Change the working directory to the target directory\n",
    "os.chdir(target_dir)\n",
    "print(\"Working directory set to:\", os.getcwd())\n",
    "\n",
    "import dotenv\n",
    "dotenv.load_dotenv('.env')\n",
    "from mainsequence.client import DataUpdates\n",
    "import datetime\n",
    "from mainsequence.client import TargetPortfolio, Asset,TargetPortfolioIndexAsset\n",
    "from mainsequence import MARKETS_CONSTANTS \n",
    "from mainsequence.client import MarketsTimeSeriesDetails\n"
   ],
   "id": "bc8643b7aecc45e1",
   "outputs": [
    {
     "name": "stdout",
     "output_type": "stream",
     "text": [
      "Working directory set to: /home/jose/code/MainSequenceClientSide/mainsequence-sdk\n"
     ]
    }
   ],
   "execution_count": 6
  },
  {
   "metadata": {
    "ExecuteTime": {
     "end_time": "2025-04-11T11:04:42.772362Z",
     "start_time": "2025-04-11T11:04:42.769007Z"
    }
   },
   "cell_type": "code",
   "source": [
    "from mainsequence.tdag.time_series import TimeSerie\n",
    "from mainsequence.client import DataUpdates\n",
    "import numpy as np\n",
    "import datetime\n",
    "import pandas as pd\n",
    "\n",
    "class TestTimeSerieDataSource(TimeSerie):\n",
    "    \n",
    "    @TimeSerie._post_init_routines()\n",
    "    def __init__(self,  *args, **kwargs):\n",
    "      \n",
    "        super().__init__(*args, **kwargs)\n",
    "    "
   ],
   "id": "1807aacc02fdcbc8",
   "outputs": [],
   "execution_count": 13
  },
  {
   "cell_type": "code",
   "id": "e21d7eec",
   "metadata": {
    "ExecuteTime": {
     "end_time": "2025-04-11T11:07:59.048196Z",
     "start_time": "2025-04-11T11:07:41.321576Z"
    }
   },
   "source": [
    "\n",
    "MARKET_TIME_SERIES_NAME=\"tdag_example_source\"\n",
    "# Query for existing TDAGAPIDataSource and HistoricalBarsSource instances\n",
    "existing_tdag_sources = MarketsTimeSeriesDetails.get_or_none(unique_identifier=MARKET_TIME_SERIES_NAME)\n",
    "# Query assets\n",
    "some_assets = Asset.filter(symbol__in=[\"BTCUSDT\", \"ETHUSDT\"])\n",
    "time_serie=TestTimeSerieDataSource()\n",
    "# Create TDAGAPIDataSource only if it doesn't exist\n",
    "if existing_tdag_sources is None:\n",
    "    tdag_source=MarketsTimeSeriesDetails.register_in_backend(\n",
    "                                            unique_identifier=MARKET_TIME_SERIES_NAME,\n",
    "                                            time_serie=time_serie,\n",
    "                                            description=f\"Example Time Serie it just has some assets\",\n",
    "                                            asset_list=some_assets,\n",
    "                                            data_frequency_id=\"1m\",\n",
    "                                            )\n",
    "    print(\"Created TDAGAPIDataSource:\", tdag_source)\n",
    "else:\n",
    "    tdag_source = existing_tdag_sources[0]\n",
    "    print(\"TDAGAPIDataSource already exists:\", tdag_source)\n",
    "\n"
   ],
   "outputs": [
    {
     "name": "stderr",
     "output_type": "stream",
     "text": [
      "\u001B[2m2025-04-11T11:07:43.014089Z\u001B[0m [\u001B[33m\u001B[1mwarning  \u001B[0m] \u001B[1mYour TimeSeries is not in a python module this will likely bring exceptions when running in a pipeline\u001B[0m \u001B[36mapi_time_series\u001B[0m=\u001B[35mFalse\u001B[0m \u001B[36mapplication_name\u001B[0m=\u001B[35mms-sdk\u001B[0m \u001B[36mdata_source_id\u001B[0m=\u001B[35m1\u001B[0m \u001B[36mjob_run_id\u001B[0m=\u001B[35mNone\u001B[0m \u001B[36mlocal_hash_id\u001B[0m=\u001B[35mtesttimeseriedatasource_b184f0c836d6d9c813d40f6cf5020608\u001B[0m \u001B[36mlocal_hash_id_data_source\u001B[0m=\u001B[35m1\u001B[0m \u001B[36mproject_id\u001B[0m=\u001B[35m39\u001B[0m (at time_series.py:1770 in get_time_serie_source_code())\n",
      "\u001B[2m2025-04-11T11:07:43.016319Z\u001B[0m [\u001B[33m\u001B[1mwarning  \u001B[0m] \u001B[1mYour TimeSeries is not in a python module this will likely bring exceptions when running in a pipeline\u001B[0m \u001B[36mapi_time_series\u001B[0m=\u001B[35mFalse\u001B[0m \u001B[36mapplication_name\u001B[0m=\u001B[35mms-sdk\u001B[0m \u001B[36mdata_source_id\u001B[0m=\u001B[35m1\u001B[0m \u001B[36mjob_run_id\u001B[0m=\u001B[35mNone\u001B[0m \u001B[36mlocal_hash_id\u001B[0m=\u001B[35mtesttimeseriedatasource_b184f0c836d6d9c813d40f6cf5020608\u001B[0m \u001B[36mlocal_hash_id_data_source\u001B[0m=\u001B[35m1\u001B[0m \u001B[36mproject_id\u001B[0m=\u001B[35m39\u001B[0m (at time_series.py:1770 in get_time_serie_source_code())\n"
     ]
    },
    {
     "ename": "AttributeError",
     "evalue": "'TestTimeSerieDataSource' object has no attribute 'use_vam_assets'",
     "output_type": "error",
     "traceback": [
      "\u001B[0;31m---------------------------------------------------------------------------\u001B[0m",
      "\u001B[0;31mDoesNotExist\u001B[0m                              Traceback (most recent call last)",
      "File \u001B[0;32m~/code/MainSequenceClientSide/mainsequence-sdk/mainsequence/client/models_helpers.py:74\u001B[0m, in \u001B[0;36mMarketsTimeSeriesDetails.register_in_backend\u001B[0;34m(cls, unique_identifier, time_serie, data_frequency_id, asset_list, description)\u001B[0m\n\u001B[1;32m     73\u001B[0m \u001B[38;5;28;01mtry\u001B[39;00m:\n\u001B[0;32m---> 74\u001B[0m     bar_source \u001B[38;5;241m=\u001B[39m \u001B[43mMarketsTimeSeriesDetails\u001B[49m\u001B[38;5;241;43m.\u001B[39;49m\u001B[43mget\u001B[49m\u001B[43m(\u001B[49m\n\u001B[1;32m     75\u001B[0m \u001B[43m        \u001B[49m\u001B[43munique_identifier\u001B[49m\u001B[38;5;241;43m=\u001B[39;49m\u001B[43munique_identifier\u001B[49m\u001B[43m,\u001B[49m\n\u001B[1;32m     76\u001B[0m \u001B[43m    \u001B[49m\u001B[43m)\u001B[49m\n\u001B[1;32m     78\u001B[0m     \u001B[38;5;28;01mif\u001B[39;00m time_serie\u001B[38;5;241m.\u001B[39muse_vam_assets \u001B[38;5;129;01mand\u001B[39;00m bar_source\u001B[38;5;241m.\u001B[39mrelated_local_time_serie\u001B[38;5;241m.\u001B[39mid \u001B[38;5;241m!=\u001B[39m time_serie\u001B[38;5;241m.\u001B[39mlocal_time_serie\u001B[38;5;241m.\u001B[39mid:\n",
      "File \u001B[0;32m~/code/MainSequenceClientSide/mainsequence-sdk/mainsequence/client/base.py:287\u001B[0m, in \u001B[0;36mBaseObjectOrm.get\u001B[0;34m(cls, pk, timeout, **filters)\u001B[0m\n\u001B[1;32m    286\u001B[0m \u001B[38;5;28;01mif\u001B[39;00m \u001B[38;5;129;01mnot\u001B[39;00m candidates:\n\u001B[0;32m--> 287\u001B[0m     \u001B[38;5;28;01mraise\u001B[39;00m DoesNotExist(\u001B[38;5;124mf\u001B[39m\u001B[38;5;124m\"\u001B[39m\u001B[38;5;124mNo \u001B[39m\u001B[38;5;132;01m{\u001B[39;00m\u001B[38;5;28mcls\u001B[39m\u001B[38;5;241m.\u001B[39mclass_name()\u001B[38;5;132;01m}\u001B[39;00m\u001B[38;5;124m found matching \u001B[39m\u001B[38;5;132;01m{\u001B[39;00mfilters\u001B[38;5;132;01m}\u001B[39;00m\u001B[38;5;124m\"\u001B[39m)\n\u001B[1;32m    289\u001B[0m \u001B[38;5;28;01mif\u001B[39;00m \u001B[38;5;28mlen\u001B[39m(candidates) \u001B[38;5;241m>\u001B[39m \u001B[38;5;241m1\u001B[39m:\n",
      "\u001B[0;31mDoesNotExist\u001B[0m: No MarketsTimeSeriesDetails found matching {'unique_identifier': 'tdag_example_source'}",
      "\nDuring handling of the above exception, another exception occurred:\n",
      "\u001B[0;31mAttributeError\u001B[0m                            Traceback (most recent call last)",
      "Cell \u001B[0;32mIn[17], line 10\u001B[0m\n\u001B[1;32m      8\u001B[0m \u001B[38;5;66;03m# Create TDAGAPIDataSource only if it doesn't exist\u001B[39;00m\n\u001B[1;32m      9\u001B[0m \u001B[38;5;28;01mif\u001B[39;00m existing_tdag_sources \u001B[38;5;129;01mis\u001B[39;00m \u001B[38;5;28;01mNone\u001B[39;00m:\n\u001B[0;32m---> 10\u001B[0m     tdag_source\u001B[38;5;241m=\u001B[39m\u001B[43mMarketsTimeSeriesDetails\u001B[49m\u001B[38;5;241;43m.\u001B[39;49m\u001B[43mregister_in_backend\u001B[49m\u001B[43m(\u001B[49m\n\u001B[1;32m     11\u001B[0m \u001B[43m                                            \u001B[49m\u001B[43munique_identifier\u001B[49m\u001B[38;5;241;43m=\u001B[39;49m\u001B[43mMARKET_TIME_SERIES_NAME\u001B[49m\u001B[43m,\u001B[49m\n\u001B[1;32m     12\u001B[0m \u001B[43m                                            \u001B[49m\u001B[43mtime_serie\u001B[49m\u001B[38;5;241;43m=\u001B[39;49m\u001B[43mtime_serie\u001B[49m\u001B[43m,\u001B[49m\n\u001B[1;32m     13\u001B[0m \u001B[43m                                            \u001B[49m\u001B[43mdescription\u001B[49m\u001B[38;5;241;43m=\u001B[39;49m\u001B[38;5;124;43mf\u001B[39;49m\u001B[38;5;124;43m\"\u001B[39;49m\u001B[38;5;124;43mExample Time Serie it just has some assets\u001B[39;49m\u001B[38;5;124;43m\"\u001B[39;49m\u001B[43m,\u001B[49m\n\u001B[1;32m     14\u001B[0m \u001B[43m                                            \u001B[49m\u001B[43masset_list\u001B[49m\u001B[38;5;241;43m=\u001B[39;49m\u001B[43msome_assets\u001B[49m\u001B[43m,\u001B[49m\n\u001B[1;32m     15\u001B[0m \u001B[43m                                            \u001B[49m\u001B[43mdata_frequency_id\u001B[49m\u001B[38;5;241;43m=\u001B[39;49m\u001B[38;5;124;43m\"\u001B[39;49m\u001B[38;5;124;43m1m\u001B[39;49m\u001B[38;5;124;43m\"\u001B[39;49m\u001B[43m,\u001B[49m\n\u001B[1;32m     16\u001B[0m \u001B[43m                                            \u001B[49m\u001B[43m)\u001B[49m\n\u001B[1;32m     17\u001B[0m     \u001B[38;5;28mprint\u001B[39m(\u001B[38;5;124m\"\u001B[39m\u001B[38;5;124mCreated TDAGAPIDataSource:\u001B[39m\u001B[38;5;124m\"\u001B[39m, tdag_source)\n\u001B[1;32m     18\u001B[0m \u001B[38;5;28;01melse\u001B[39;00m:\n",
      "File \u001B[0;32m~/code/MainSequenceClientSide/mainsequence-sdk/mainsequence/client/models_helpers.py:82\u001B[0m, in \u001B[0;36mMarketsTimeSeriesDetails.register_in_backend\u001B[0;34m(cls, unique_identifier, time_serie, data_frequency_id, asset_list, description)\u001B[0m\n\u001B[1;32m     79\u001B[0m         bar_source \u001B[38;5;241m=\u001B[39m bar_source\u001B[38;5;241m.\u001B[39mpatch(related_local_time_serie__id\u001B[38;5;241m=\u001B[39mtime_serie\u001B[38;5;241m.\u001B[39mlocal_time_serie\u001B[38;5;241m.\u001B[39mid)\n\u001B[1;32m     81\u001B[0m \u001B[38;5;28;01mexcept\u001B[39;00m DoesNotExist:\n\u001B[0;32m---> 82\u001B[0m     \u001B[38;5;28;01mif\u001B[39;00m \u001B[43mtime_serie\u001B[49m\u001B[38;5;241;43m.\u001B[39;49m\u001B[43muse_vam_assets\u001B[49m:\n\u001B[1;32m     83\u001B[0m         \u001B[38;5;66;03m# if run for the first time save this as reference in VAM\u001B[39;00m\n\u001B[1;32m     84\u001B[0m         bar_source \u001B[38;5;241m=\u001B[39m MarketsTimeSeriesDetails\u001B[38;5;241m.\u001B[39mupdate_or_create(\n\u001B[1;32m     85\u001B[0m             unique_identifier\u001B[38;5;241m=\u001B[39munique_identifier,\n\u001B[1;32m     86\u001B[0m             related_local_time_serie__id\u001B[38;5;241m=\u001B[39mtime_serie\u001B[38;5;241m.\u001B[39mlocal_time_serie\u001B[38;5;241m.\u001B[39mid,\n\u001B[1;32m     87\u001B[0m             data_frequency_id\u001B[38;5;241m=\u001B[39mdata_frequency_id,\n\u001B[1;32m     88\u001B[0m             description\u001B[38;5;241m=\u001B[39mdescription,\n\u001B[1;32m     89\u001B[0m         )\n\u001B[1;32m     91\u001B[0m \u001B[38;5;28;01mif\u001B[39;00m bar_source \u001B[38;5;129;01mis\u001B[39;00m \u001B[38;5;28;01mNone\u001B[39;00m:\n",
      "\u001B[0;31mAttributeError\u001B[0m: 'TestTimeSerieDataSource' object has no attribute 'use_vam_assets'"
     ]
    }
   ],
   "execution_count": 17
  },
  {
   "cell_type": "markdown",
   "id": "0f94c65a",
   "metadata": {},
   "source": [
    "## Reading Data Sources\n",
    "\n",
    "You can retrieve existing data sources using the `.filter()` method.\n"
   ]
  },
  {
   "cell_type": "code",
   "id": "e1b88743",
   "metadata": {
    "ExecuteTime": {
     "end_time": "2025-04-11T10:56:16.675805Z",
     "start_time": "2025-04-11T10:56:16.478255Z"
    }
   },
   "source": [
    "# Fetch all TDAGAPIDataSource instances\n",
    "tdag_sources = TDAGAPIDataSource.filter()\n",
    "print(\"Available TDAGAPIDataSources:\", tdag_sources)\n",
    "\n",
    "# Fetch all HistoricalBarsSource instances\n",
    "historical_sources = HistoricalBarsSource.filter()\n",
    "print(\"Available HistoricalBarsSources:\", historical_sources)\n"
   ],
   "outputs": [
    {
     "ename": "NameError",
     "evalue": "name 'TDAGAPIDataSource' is not defined",
     "output_type": "error",
     "traceback": [
      "\u001B[0;31m---------------------------------------------------------------------------\u001B[0m",
      "\u001B[0;31mNameError\u001B[0m                                 Traceback (most recent call last)",
      "Cell \u001B[0;32mIn[4], line 2\u001B[0m\n\u001B[1;32m      1\u001B[0m \u001B[38;5;66;03m# Fetch all TDAGAPIDataSource instances\u001B[39;00m\n\u001B[0;32m----> 2\u001B[0m tdag_sources \u001B[38;5;241m=\u001B[39m \u001B[43mTDAGAPIDataSource\u001B[49m\u001B[38;5;241m.\u001B[39mfilter()\n\u001B[1;32m      3\u001B[0m \u001B[38;5;28mprint\u001B[39m(\u001B[38;5;124m\"\u001B[39m\u001B[38;5;124mAvailable TDAGAPIDataSources:\u001B[39m\u001B[38;5;124m\"\u001B[39m, tdag_sources)\n\u001B[1;32m      5\u001B[0m \u001B[38;5;66;03m# Fetch all HistoricalBarsSource instances\u001B[39;00m\n",
      "\u001B[0;31mNameError\u001B[0m: name 'TDAGAPIDataSource' is not defined"
     ]
    }
   ],
   "execution_count": 4
  },
  {
   "cell_type": "markdown",
   "id": "b681b730",
   "metadata": {},
   "source": [
    "## Updating Data Sources\n",
    "\n",
    "To update an existing data source, use the `.patch()` method.\n"
   ]
  },
  {
   "cell_type": "code",
   "id": "6101f6ca",
   "metadata": {
    "ExecuteTime": {
     "end_time": "2025-03-02T10:34:10.322305Z",
     "start_time": "2025-03-02T10:34:10.071463Z"
    }
   },
   "source": [
    "# Updating an existing TDAGAPIDataSource\n",
    "tdag_source.patch(data_source_description=\"Updated description\")\n",
    "\n",
    "# Updating an existing HistoricalBarsSource\n",
    "historical_source.patch(data_mode=\"backtest\")\n"
   ],
   "outputs": [
    {
     "data": {
      "text/plain": [
       "HistoricalBarsSource: 11"
      ]
     },
     "execution_count": 28,
     "metadata": {},
     "output_type": "execute_result"
    }
   ],
   "execution_count": 28
  },
  {
   "cell_type": "markdown",
   "id": "bc715273",
   "metadata": {},
   "source": [
    "## Deleting Data Sources\n",
    "\n",
    "To remove a data source, use the `.delete()` method.\n"
   ]
  },
  {
   "cell_type": "code",
   "id": "b9392e7c",
   "metadata": {
    "ExecuteTime": {
     "end_time": "2025-03-02T10:34:33.811470Z",
     "start_time": "2025-03-02T10:34:33.539890Z"
    }
   },
   "source": [
    "# Deleting a TDAGAPIDataSource\n",
    "tdag_source.delete()\n",
    "\n",
    "# Deleting a HistoricalBarsSource\n",
    "historical_source.delete()\n"
   ],
   "outputs": [],
   "execution_count": 29
  }
 ],
 "metadata": {
  "kernelspec": {
   "name": "python3",
   "language": "python",
   "display_name": "Python 3 (ipykernel)"
  }
 },
 "nbformat": 4,
 "nbformat_minor": 5
}
