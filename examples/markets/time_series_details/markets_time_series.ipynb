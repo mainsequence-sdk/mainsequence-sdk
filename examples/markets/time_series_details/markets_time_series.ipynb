{
 "cells": [
  {
   "cell_type": "markdown",
   "id": "5a6e9071",
   "metadata": {},
   "source": [
    "# MarketsTimeSeriesDetails  Tutorial\n",
    "\n",
    "`MarketsTimeSeriesDetails` are helper objects that help you associate a Time Series with information from the Markets Platform. The main components of a Market Time Series are:\n",
    "\n",
    "### Properties:\n",
    "\n",
    "- `unique_identifier`: A character field (max length: 255), can be automatically generated, allows blank entries.\n",
    "- `related_local_time_serie`: A one-to-one relationship with a `LocalTimeSerie`, with CASCADE deletion. This associates the Market details directly to a local time series.\n",
    "- `description`: An optional text field used to provide additional details.\n",
    "- `data_frequency_id`: Specifies the frequency of the data using predefined choices:\n",
    "  - `1m`: 1 Minute\n",
    "  - `5m`: 5 Minutes\n",
    "  - `1d`: 1 Day\n",
    "  - `1w`: 1 Week\n",
    "  - `1mo`: 1 Month\n",
    "  - `1q`: 1 Quarter\n",
    "  - (additional frequencies can be added as needed)\n",
    "- `assets_in_data_source`: A many-to-many relationship linking the data source to multiple `Asset` instances. This field is optional and includes assets associated with the data source.\n",
    "- `extra_properties`: A JSON field for storing additional flexible information, optional.\n",
    "\n",
    "### Example Usage:\n",
    "\n",
    "This structure is useful if you have, for instance, a prices time series."
   ]
  },
  {
   "metadata": {
    "ExecuteTime": {
     "end_time": "2025-04-11T12:25:35.829197Z",
     "start_time": "2025-04-11T12:25:34.335047Z"
    }
   },
   "cell_type": "code",
   "source": [
    "import os\n",
    "from pathlib import Path\n",
    "import dotenv\n",
    "# Save the original working directory (only once)\n",
    "try:\n",
    "    original_wd\n",
    "except NameError:\n",
    "    original_wd = os.getcwd()\n",
    "\n",
    "# Compute the target directory: two levels up from the original working directory\n",
    "# For example, if original_wd is /Users/username/project/notebooks,\n",
    "# then target_dir becomes /Users/username\n",
    "target_dir = Path(original_wd).parents[2]\n",
    "\n",
    "# Change the working directory to the target directory\n",
    "os.chdir(target_dir)\n",
    "print(\"Working directory set to:\", os.getcwd())\n",
    "\n",
    "import dotenv\n",
    "dotenv.load_dotenv('.env')\n",
    "from mainsequence.client import DataUpdates\n",
    "import datetime\n",
    "from mainsequence.client import Portfolio, Asset,PortfolioIndexAsset\n",
    "from mainsequence import MARKETS_CONSTANTS \n",
    "from mainsequence.client import MarketsTimeSeriesDetails\n"
   ],
   "id": "bc8643b7aecc45e1",
   "outputs": [
    {
     "name": "stdout",
     "output_type": "stream",
     "text": [
      "Working directory set to: /home/jose/code/MainSequenceClientSide/mainsequence-sdk\n"
     ]
    }
   ],
   "execution_count": 1
  },
  {
   "metadata": {
    "ExecuteTime": {
     "end_time": "2025-04-11T12:25:35.857015Z",
     "start_time": "2025-04-11T12:25:35.833686Z"
    }
   },
   "cell_type": "code",
   "source": [
    "from mainsequence.tdag.time_series import TimeSerie\n",
    "from mainsequence.client import DataUpdates\n",
    "import numpy as np\n",
    "import datetime\n",
    "import pandas as pd\n",
    "\n",
    "class TestTimeSerieDataSource(TimeSerie):\n",
    "    \n",
    "    @TimeSerie._post_init_routines()\n",
    "    def __init__(self,  *args, **kwargs):\n",
    "      \n",
    "        super().__init__(*args, **kwargs)\n",
    "    "
   ],
   "id": "1807aacc02fdcbc8",
   "outputs": [],
   "execution_count": 2
  },
  {
   "cell_type": "code",
   "id": "e21d7eec",
   "metadata": {
    "ExecuteTime": {
     "end_time": "2025-04-11T12:26:54.081481Z",
     "start_time": "2025-04-11T12:26:50.434952Z"
    }
   },
   "source": [
    "\n",
    "MARKET_TIME_SERIES_NAME=\"tdag_example_source\"\n",
    "# Query for existing TDAGAPIDataSource and HistoricalBarsSource instances\n",
    "markets_data_source = MarketsTimeSeriesDetails.get_or_none(unique_identifier=MARKET_TIME_SERIES_NAME)\n",
    "# Query assets\n",
    "some_assets = Asset.filter(symbol__in=[\"BTCUSDT\", \"ETHUSDT\"])\n",
    "time_serie=TestTimeSerieDataSource()\n",
    "# Create TDAGAPIDataSource only if it doesn't exist\n",
    "if markets_data_source is None:\n",
    "    markets_data_source=MarketsTimeSeriesDetails.register_in_backend(\n",
    "                                            unique_identifier=MARKET_TIME_SERIES_NAME,\n",
    "                                            time_serie=time_serie,\n",
    "                                            description=f\"Example Time Serie it just has some assets\",\n",
    "                                            asset_list=some_assets,\n",
    "                                            data_frequency_id=\"1m\",\n",
    "                                            )\n",
    "    print(\"Created TDAGAPIDataSource:\", markets_data_source)\n",
    "\n",
    "\n"
   ],
   "outputs": [
    {
     "name": "stderr",
     "output_type": "stream",
     "text": [
      "\u001B[2m2025-04-11T12:26:52.931117Z\u001B[0m [\u001B[33m\u001B[1mwarning  \u001B[0m] \u001B[1mYour TimeSeries is not in a python module this will likely bring exceptions when running in a pipeline\u001B[0m \u001B[36mapi_time_series\u001B[0m=\u001B[35mFalse\u001B[0m \u001B[36mapplication_name\u001B[0m=\u001B[35mms-sdk\u001B[0m \u001B[36mdata_source_id\u001B[0m=\u001B[35m1\u001B[0m \u001B[36mjob_run_id\u001B[0m=\u001B[35mNone\u001B[0m \u001B[36mlocal_hash_id\u001B[0m=\u001B[35mtesttimeseriedatasource_b184f0c836d6d9c813d40f6cf5020608\u001B[0m \u001B[36mlocal_hash_id_data_source\u001B[0m=\u001B[35m1\u001B[0m \u001B[36mproject_id\u001B[0m=\u001B[35m39\u001B[0m (at time_series.py:1770 in get_time_serie_source_code())\n",
      "\u001B[2m2025-04-11T12:26:52.931945Z\u001B[0m [\u001B[33m\u001B[1mwarning  \u001B[0m] \u001B[1mYour TimeSeries is not in a python module this will likely bring exceptions when running in a pipeline\u001B[0m \u001B[36mapi_time_series\u001B[0m=\u001B[35mFalse\u001B[0m \u001B[36mapplication_name\u001B[0m=\u001B[35mms-sdk\u001B[0m \u001B[36mdata_source_id\u001B[0m=\u001B[35m1\u001B[0m \u001B[36mjob_run_id\u001B[0m=\u001B[35mNone\u001B[0m \u001B[36mlocal_hash_id\u001B[0m=\u001B[35mtesttimeseriedatasource_b184f0c836d6d9c813d40f6cf5020608\u001B[0m \u001B[36mlocal_hash_id_data_source\u001B[0m=\u001B[35m1\u001B[0m \u001B[36mproject_id\u001B[0m=\u001B[35m39\u001B[0m (at time_series.py:1770 in get_time_serie_source_code())\n"
     ]
    }
   ],
   "execution_count": 5
  },
  {
   "cell_type": "markdown",
   "id": "0f94c65a",
   "metadata": {},
   "source": [
    "## Reading Data Sources\n",
    "\n",
    "You can retrieve existing data sources using the `.filter()` method.\n"
   ]
  },
  {
   "cell_type": "markdown",
   "id": "b681b730",
   "metadata": {},
   "source": [
    "## Updating Data Sources\n",
    "\n",
    "To update an existing data source, use the `.patch()` method.\n"
   ]
  },
  {
   "cell_type": "code",
   "id": "6101f6ca",
   "metadata": {
    "ExecuteTime": {
     "end_time": "2025-04-11T12:27:17.703512Z",
     "start_time": "2025-04-11T12:27:16.618368Z"
    }
   },
   "source": [
    "# Updating an existing TDAGAPIDataSource\n",
    "markets_data_source.patch(data_source_description=\"Updated description\")\n",
    "\n",
    "\n"
   ],
   "outputs": [
    {
     "data": {
      "text/plain": [
       "MarketsTimeSeriesDetails: 22"
      ]
     },
     "execution_count": 6,
     "metadata": {},
     "output_type": "execute_result"
    }
   ],
   "execution_count": 6
  },
  {
   "cell_type": "markdown",
   "id": "bc715273",
   "metadata": {},
   "source": [
    "## Deleting Data Sources\n",
    "\n",
    "To remove a data source, use the `.delete()` method.\n"
   ]
  }
 ],
 "metadata": {
  "kernelspec": {
   "name": "python3",
   "language": "python",
   "display_name": "Python 3 (ipykernel)"
  }
 },
 "nbformat": 4,
 "nbformat_minor": 5
}
