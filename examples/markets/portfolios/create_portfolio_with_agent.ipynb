{
 "cells": [
  {
   "cell_type": "code",
   "execution_count": 2,
   "id": "8c9bb090157e4c1a",
   "metadata": {
    "ExecuteTime": {
     "end_time": "2025-03-18T14:13:32.430346Z",
     "start_time": "2025-03-18T14:13:27.849046Z"
    }
   },
   "outputs": [
    {
     "name": "stdout",
     "output_type": "stream",
     "text": [
      "Working directory set to: /home/jose/code/MainSequenceClientSide/mainsequence-sdk\n"
     ]
    },
    {
     "ename": "AssertionError",
     "evalue": "VFB_PROJECT_PATH environment variable not set",
     "output_type": "error",
     "traceback": [
      "\u001b[0;31m---------------------------------------------------------------------------\u001b[0m",
      "\u001b[0;31mAssertionError\u001b[0m                            Traceback (most recent call last)",
      "Cell \u001b[0;32mIn[2], line 26\u001b[0m\n\u001b[1;32m     23\u001b[0m \u001b[38;5;28;01mfrom\u001b[39;00m\u001b[38;5;250m \u001b[39m\u001b[38;5;21;01mmainsequence\u001b[39;00m\u001b[38;5;21;01m.\u001b[39;00m\u001b[38;5;21;01mclient\u001b[39;00m\u001b[38;5;250m \u001b[39m\u001b[38;5;28;01mimport\u001b[39;00m TargetPortfolio, Asset\n\u001b[1;32m     24\u001b[0m \u001b[38;5;28;01mfrom\u001b[39;00m\u001b[38;5;250m \u001b[39m\u001b[38;5;21;01mmainsequence\u001b[39;00m\u001b[38;5;250m \u001b[39m\u001b[38;5;28;01mimport\u001b[39;00m MARKETS_CONSTANTS \n\u001b[0;32m---> 26\u001b[0m \u001b[38;5;28;01mfrom\u001b[39;00m\u001b[38;5;250m \u001b[39m\u001b[38;5;21;01mmainsequence\u001b[39;00m\u001b[38;5;21;01m.\u001b[39;00m\u001b[38;5;21;01mvirtualfundbuilder\u001b[39;00m\u001b[38;5;21;01m.\u001b[39;00m\u001b[38;5;21;01mportfolio_interface\u001b[39;00m\u001b[38;5;250m \u001b[39m\u001b[38;5;28;01mimport\u001b[39;00m PortfolioInterface\n\u001b[1;32m     27\u001b[0m \u001b[38;5;28;01mfrom\u001b[39;00m\u001b[38;5;250m \u001b[39m\u001b[38;5;21;01mmainsequence\u001b[39;00m\u001b[38;5;21;01m.\u001b[39;00m\u001b[38;5;21;01mvirtualfundbuilder\u001b[39;00m\u001b[38;5;21;01m.\u001b[39;00m\u001b[38;5;21;01magent_interface\u001b[39;00m\u001b[38;5;250m \u001b[39m\u001b[38;5;28;01mimport\u001b[39;00m TDAGAgent\n",
      "File \u001b[0;32m~/code/MainSequenceClientSide/mainsequence-sdk/mainsequence/virtualfundbuilder/__init__.py:20\u001b[0m\n\u001b[1;32m     16\u001b[0m     Configuration\u001b[38;5;241m.\u001b[39madd_env_variables_to_registry([\u001b[38;5;124m\"\u001b[39m\u001b[38;5;124mVFB_PROJECT_PATH\u001b[39m\u001b[38;5;124m\"\u001b[39m])\n\u001b[1;32m     18\u001b[0m     sys\u001b[38;5;241m.\u001b[39mpath\u001b[38;5;241m.\u001b[39mappend(\u001b[38;5;28mstr\u001b[39m(Path(os\u001b[38;5;241m.\u001b[39menviron\u001b[38;5;241m.\u001b[39mget(\u001b[38;5;124m\"\u001b[39m\u001b[38;5;124mVFB_PROJECT_PATH\u001b[39m\u001b[38;5;124m\"\u001b[39m))\u001b[38;5;241m.\u001b[39mparent))\n\u001b[0;32m---> 20\u001b[0m \u001b[43mload_env\u001b[49m\u001b[43m(\u001b[49m\u001b[43m)\u001b[49m\n\u001b[1;32m     21\u001b[0m \u001b[38;5;28;01mfrom\u001b[39;00m\u001b[38;5;250m \u001b[39m\u001b[38;5;21;01mmainsequence\u001b[39;00m\u001b[38;5;21;01m.\u001b[39;00m\u001b[38;5;21;01mvirtualfundbuilder\u001b[39;00m\u001b[38;5;21;01m.\u001b[39;00m\u001b[38;5;21;01mutils\u001b[39;00m\u001b[38;5;250m \u001b[39m\u001b[38;5;28;01mimport\u001b[39;00m (\n\u001b[1;32m     22\u001b[0m     GECKO_SYMBOL_MAPPING,\n\u001b[1;32m     23\u001b[0m     TIMEDELTA,\n\u001b[0;32m   (...)\u001b[0m\n\u001b[1;32m     28\u001b[0m     filter_assets\n\u001b[1;32m     29\u001b[0m )\n\u001b[1;32m     31\u001b[0m \u001b[38;5;66;03m# no more default strategies, everything should be for user\u001b[39;00m\n",
      "File \u001b[0;32m~/code/MainSequenceClientSide/mainsequence-sdk/mainsequence/virtualfundbuilder/__init__.py:12\u001b[0m, in \u001b[0;36mload_env\u001b[0;34m()\u001b[0m\n\u001b[1;32m     10\u001b[0m \u001b[38;5;28;01mdef\u001b[39;00m\u001b[38;5;250m \u001b[39m\u001b[38;5;21mload_env\u001b[39m():\n\u001b[0;32m---> 12\u001b[0m     \u001b[38;5;28;01massert\u001b[39;00m os\u001b[38;5;241m.\u001b[39menviron\u001b[38;5;241m.\u001b[39mget(\u001b[38;5;124m\"\u001b[39m\u001b[38;5;124mVFB_PROJECT_PATH\u001b[39m\u001b[38;5;124m\"\u001b[39m, \u001b[38;5;28;01mNone\u001b[39;00m) \u001b[38;5;129;01mis\u001b[39;00m \u001b[38;5;129;01mnot\u001b[39;00m \u001b[38;5;28;01mNone\u001b[39;00m, \u001b[38;5;124m\"\u001b[39m\u001b[38;5;124mVFB_PROJECT_PATH environment variable not set\u001b[39m\u001b[38;5;124m\"\u001b[39m\n\u001b[1;32m     14\u001b[0m     \u001b[38;5;28;01mfrom\u001b[39;00m\u001b[38;5;250m \u001b[39m\u001b[38;5;21;01mmainsequence\u001b[39;00m\u001b[38;5;21;01m.\u001b[39;00m\u001b[38;5;21;01mtdag\u001b[39;00m\u001b[38;5;21;01m.\u001b[39;00m\u001b[38;5;21;01mconfig\u001b[39;00m\u001b[38;5;250m \u001b[39m\u001b[38;5;28;01mimport\u001b[39;00m Configuration\n\u001b[1;32m     15\u001b[0m     \u001b[38;5;66;03m# this step is needed to assure env variables are passed to ray cluster\u001b[39;00m\n",
      "\u001b[0;31mAssertionError\u001b[0m: VFB_PROJECT_PATH environment variable not set"
     ]
    }
   ],
   "source": [
    "import os\n",
    "from pathlib import Path\n",
    "import dotenv\n",
    "# Save the original working directory (only once)\n",
    "try:\n",
    "    original_wd\n",
    "except NameError:\n",
    "    original_wd = os.getcwd()\n",
    "\n",
    "# Compute the target directory: two levels up from the original working directory\n",
    "# For example, if original_wd is /Users/username/project/notebooks,\n",
    "# then target_dir becomes /Users/username\n",
    "target_dir = Path(original_wd).parents[2]\n",
    "\n",
    "# Change the working directory to the target directory\n",
    "os.chdir(target_dir)\n",
    "print(\"Working directory set to:\", os.getcwd())\n",
    "\n",
    "\n",
    "dotenv.load_dotenv('.env')\n",
    "from mainsequence.client import DataUpdates\n",
    "import datetime\n",
    "from mainsequence.client import TargetPortfolio, Asset\n",
    "from mainsequence import MARKETS_CONSTANTS \n",
    "\n",
    "from mainsequence.virtualfundbuilder.portfolio_interface import PortfolioInterface\n",
    "from mainsequence.virtualfundbuilder.agent_interface import TDAGAgent"
   ]
  },
  {
   "cell_type": "code",
   "execution_count": 5,
   "id": "eed2df28",
   "metadata": {},
   "outputs": [
    {
     "data": {
      "text/plain": [
       "True"
      ]
     },
     "execution_count": 5,
     "metadata": {},
     "output_type": "execute_result"
    }
   ],
   "source": [
    "dotenv.load_dotenv('.env')"
   ]
  },
  {
   "cell_type": "markdown",
   "id": "67f98089503b1773",
   "metadata": {},
   "source": [
    "# Connect to the TDAG-LLM Agent"
   ]
  },
  {
   "cell_type": "code",
   "execution_count": 4,
   "id": "33b3e037285a8d82",
   "metadata": {
    "ExecuteTime": {
     "end_time": "2025-03-18T14:13:35.570081Z",
     "start_time": "2025-03-18T14:13:34.940373Z"
    }
   },
   "outputs": [
    {
     "name": "stderr",
     "output_type": "stream",
     "text": [
      "\u001b[2m2025-03-18T14:13:35.001630Z\u001b[0m [\u001b[32m\u001b[1mdebug    \u001b[0m] \u001b[1mSend default documentation to Backend\u001b[0m \u001b[36mapplication_name\u001b[0m=\u001b[35mms-sdk\u001b[0m \u001b[36mdata_source_id\u001b[0m=\u001b[35m1\u001b[0m \u001b[36mjob_run_id\u001b[0m=\u001b[35mNone\u001b[0m \u001b[36mproject_id\u001b[0m=\u001b[35m3\u001b[0m (at __main__.py:173 in send_default_configuration())\n",
      "\u001b[2m2025-03-18T14:13:35.004448Z\u001b[0m [\u001b[32m\u001b[1mdebug    \u001b[0m] \u001b[1mRequesting POST from http://192.168.178.17:8000/orm/api/tdag-gpt/register_default_configuration/\u001b[0m \u001b[36mapplication_name\u001b[0m=\u001b[35mms-sdk\u001b[0m \u001b[36mdata_source_id\u001b[0m=\u001b[35m1\u001b[0m \u001b[36mjob_run_id\u001b[0m=\u001b[35mNone\u001b[0m \u001b[36mproject_id\u001b[0m=\u001b[35m3\u001b[0m (at utils.py:55 in make_request())\n",
      "\u001b[2m2025-03-18T14:13:35.567363Z\u001b[0m [\u001b[32m\u001b[1minfo     \u001b[0m] \u001b[1mSetup TDAG Agent successfull  \u001b[0m \u001b[36mapplication_name\u001b[0m=\u001b[35mms-sdk\u001b[0m \u001b[36mdata_source_id\u001b[0m=\u001b[35m1\u001b[0m \u001b[36mjob_run_id\u001b[0m=\u001b[35mNone\u001b[0m \u001b[36mproject_id\u001b[0m=\u001b[35m3\u001b[0m (at agent_interface.py:28 in __init__())\n"
     ]
    }
   ],
   "source": [
    "tdag_agent = TDAGAgent()"
   ]
  },
  {
   "cell_type": "markdown",
   "id": "4e0b2d1902a9b3d6",
   "metadata": {},
   "source": [
    "# Create a custom Strategy"
   ]
  },
  {
   "cell_type": "markdown",
   "id": "22e3d24a3bbc1ef5",
   "metadata": {},
   "source": [
    "# Get the configuration for the full portfolio based on our strategy"
   ]
  },
  {
   "cell_type": "code",
   "execution_count": 5,
   "id": "82d82eb8b40cfce9",
   "metadata": {
    "ExecuteTime": {
     "end_time": "2025-03-18T14:13:38.448750Z",
     "start_time": "2025-03-18T14:13:38.430737Z"
    }
   },
   "outputs": [
    {
     "data": {
      "text/plain": [
       "[]"
      ]
     },
     "execution_count": 5,
     "metadata": {},
     "output_type": "execute_result"
    }
   ],
   "source": [
    "PortfolioInterface.list_configurations()"
   ]
  },
  {
   "cell_type": "code",
   "execution_count": 6,
   "id": "initial_id",
   "metadata": {
    "ExecuteTime": {
     "end_time": "2025-03-18T14:13:40.150222Z",
     "start_time": "2025-03-18T14:13:39.287455Z"
    },
    "collapsed": true
   },
   "outputs": [
    {
     "name": "stderr",
     "output_type": "stream",
     "text": [
      "\u001b[2m2025-03-18T14:13:39.311790Z\u001b[0m [\u001b[32m\u001b[1mdebug    \u001b[0m] \u001b[1mRegister signal: MarketCap    \u001b[0m \u001b[36mapplication_name\u001b[0m=\u001b[35mms-sdk\u001b[0m \u001b[36mdata_source_id\u001b[0m=\u001b[35m1\u001b[0m \u001b[36mjob_run_id\u001b[0m=\u001b[35mNone\u001b[0m \u001b[36mproject_id\u001b[0m=\u001b[35m3\u001b[0m (at utils.py:675 in _send_strategy_to_registry())\n",
      "\u001b[2m2025-03-18T14:13:39.314665Z\u001b[0m [\u001b[32m\u001b[1mdebug    \u001b[0m] \u001b[1mRequesting POST from http://192.168.178.17:8000/orm/api/tdag-gpt/register_strategy/\u001b[0m \u001b[36mapplication_name\u001b[0m=\u001b[35mms-sdk\u001b[0m \u001b[36mdata_source_id\u001b[0m=\u001b[35m1\u001b[0m \u001b[36mjob_run_id\u001b[0m=\u001b[35mNone\u001b[0m \u001b[36mproject_id\u001b[0m=\u001b[35m3\u001b[0m (at utils.py:55 in make_request())\n",
      "\u001b[2m2025-03-18T14:13:39.775483Z\u001b[0m [\u001b[32m\u001b[1minfo     \u001b[0m] \u001b[1mGet configuration for MarketCap ...\u001b[0m \u001b[36mapplication_name\u001b[0m=\u001b[35mms-sdk\u001b[0m \u001b[36mdata_source_id\u001b[0m=\u001b[35m1\u001b[0m \u001b[36mjob_run_id\u001b[0m=\u001b[35mNone\u001b[0m \u001b[36mproject_id\u001b[0m=\u001b[35m3\u001b[0m (at agent_interface.py:43 in generate_portfolio())\n",
      "\u001b[2m2025-03-18T14:13:39.777040Z\u001b[0m [\u001b[32m\u001b[1mdebug    \u001b[0m] \u001b[1mRequesting POST from http://192.168.178.17:8000/orm/api/tdag-gpt/create_configuration_for_strategy/\u001b[0m \u001b[36mapplication_name\u001b[0m=\u001b[35mms-sdk\u001b[0m \u001b[36mdata_source_id\u001b[0m=\u001b[35m1\u001b[0m \u001b[36mjob_run_id\u001b[0m=\u001b[35mNone\u001b[0m \u001b[36mproject_id\u001b[0m=\u001b[35m3\u001b[0m (at utils.py:55 in make_request())\n",
      "\u001b[2m2025-03-18T14:13:40.146573Z\u001b[0m [\u001b[33m\u001b[1mwarning  \u001b[0m] \u001b[1mCould not get configuration from TSORM string indices must be integers\u001b[0m \u001b[36mapplication_name\u001b[0m=\u001b[35mms-sdk\u001b[0m \u001b[36mdata_source_id\u001b[0m=\u001b[35m1\u001b[0m \u001b[36mjob_run_id\u001b[0m=\u001b[35mNone\u001b[0m \u001b[36mproject_id\u001b[0m=\u001b[35m3\u001b[0m (at agent_interface.py:57 in generate_portfolio())\n",
      "Traceback (most recent call last):\n",
      "  File \"/home/jose/code/MainSequenceClientSide/mainsequence-sdk/mainsequence/virtualfundbuilder/agent_interface.py\", line 52, in generate_portfolio\n",
      "    portfolio = PortfolioInterface(generated_configuration)\n",
      "  File \"/home/jose/code/MainSequenceClientSide/mainsequence-sdk/mainsequence/virtualfundbuilder/portfolio_interface.py\", line 31, in __init__\n",
      "    self.portfolio_config = configuration_sanitizer(portfolio_config_template, auto_complete=True)\n",
      "  File \"/home/jose/code/MainSequenceClientSide/mainsequence-sdk/mainsequence/virtualfundbuilder/config_handling.py\", line 199, in configuration_sanitizer\n",
      "    portfolio_build_config = configuration[\"portfolio_build_configuration\"]\n",
      "TypeError: string indices must be integers\n"
     ]
    }
   ],
   "source": [
    "from mainsequence.virtualfundbuilder.contrib.time_series import MarketCap\n",
    "\n",
    "portfolio = tdag_agent.generate_portfolio(MarketCap, signal_description=\"Create me a market cap portfolio using AAPL and GOOG\")\n",
    "\n",
    "portfolio"
   ]
  },
  {
   "cell_type": "markdown",
   "id": "942a3a9a3448b48f",
   "metadata": {},
   "source": [
    "# Run the strategy"
   ]
  },
  {
   "cell_type": "code",
   "execution_count": null,
   "id": "7fa00114d7ef0b8",
   "metadata": {
    "ExecuteTime": {
     "start_time": "2025-03-17T20:04:50.073051Z"
    }
   },
   "outputs": [
    {
     "name": "stderr",
     "output_type": "stream",
     "text": [
      "2025-03-17T20:04:50.076119Z [debug    ] Requesting GET from http://127.0.0.1:8000/orm/api/data_sources/historical-bars-source/ application_name=ms-sdk data_source_id=1 job_run_id=None project_id=3 (at utils.py:55 in make_request())\n"
     ]
    }
   ],
   "source": [
    "res = portfolio.run()\n",
    "res.head()"
   ]
  },
  {
   "cell_type": "markdown",
   "id": "c8168bc319a2969a",
   "metadata": {},
   "source": [
    "# Plot the portfolio results"
   ]
  },
  {
   "cell_type": "code",
   "execution_count": null,
   "id": "5e4a64ab6030cb60",
   "metadata": {},
   "outputs": [],
   "source": [
    "import plotly.graph_objects as go\n",
    "import pandas as pd\n",
    "\n",
    "# Create the plot\n",
    "fig = go.Figure()\n",
    "\n",
    "fig.add_trace(\n",
    "    go.Scatter(\n",
    "        x=res.index, \n",
    "        y=res[\"portfolio\"], \n",
    "        mode=\"lines+markers\",\n",
    "        name=\"Portfolio Value\",\n",
    "        line=dict(color='blue', width=1),\n",
    "        marker=dict(size=2)\n",
    "    )\n",
    ")\n",
    "\n",
    "# Customize layout\n",
    "fig.update_layout(\n",
    "    title=\"Portfolio Value Over Time\",\n",
    "    xaxis_title=\"Date\",\n",
    "    yaxis_title=\"Portfolio Value\",\n",
    "    template=\"plotly_white\",\n",
    "    hovermode=\"x unified\"\n",
    ")\n",
    "\n",
    "# Show the plot\n",
    "fig.show()"
   ]
  },
  {
   "cell_type": "code",
   "execution_count": null,
   "id": "9cb1bc6a12b9e8a6",
   "metadata": {},
   "outputs": [],
   "source": []
  }
 ],
 "metadata": {
  "kernelspec": {
   "display_name": "venv",
   "language": "python",
   "name": "python3"
  },
  "language_info": {
   "codemirror_mode": {
    "name": "ipython",
    "version": 3
   },
   "file_extension": ".py",
   "mimetype": "text/x-python",
   "name": "python",
   "nbconvert_exporter": "python",
   "pygments_lexer": "ipython3",
   "version": "3.9.19"
  }
 },
 "nbformat": 4,
 "nbformat_minor": 5
}
