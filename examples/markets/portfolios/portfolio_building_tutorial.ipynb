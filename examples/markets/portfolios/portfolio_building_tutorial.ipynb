{
 "cells": [
  {
   "cell_type": "markdown",
   "id": "27ff62b2",
   "metadata": {},
   "source": [
    "# Querying and Creating Portfolios in VAM Client\n",
    "This notebook serves as a tutorial for querying, creating, and managing portfolios using the `mainsequence.client` package. It covers:\n",
    "- Querying existing portfolios using filters\n",
    "- Creating portfolios from time series\n",
    "- Creating an index asset portfolio\n",
    "- Querying the newly created index asset portfolio"
   ]
  },
  {
   "cell_type": "markdown",
   "id": "d0feb276",
   "metadata": {},
   "source": [
    "## Step 1: Import Required Modules\n",
    "First, we import the necessary modules and constants."
   ]
  },
  {
   "cell_type": "code",
   "id": "1dd7de16",
   "metadata": {
    "ExecuteTime": {
     "end_time": "2025-08-07T11:25:44.116524Z",
     "start_time": "2025-08-07T11:25:44.112516Z"
    }
   },
   "source": [
    "import os\n",
    "from pathlib import Path\n",
    "from typing import Dict, Union\n",
    "\n",
    "import dotenv\n",
    "# Save the original working directory (only once)\n",
    "try:\n",
    "    original_wd\n",
    "except NameError:\n",
    "    original_wd = os.getcwd()\n",
    "\n",
    "# Compute the target directory: two levels up from the original working directory\n",
    "# For example, if original_wd is /Users/username/project/notebooks,\n",
    "# then target_dir becomes /Users/username\n",
    "target_dir = Path(original_wd).parents[2]\n",
    "\n",
    "# Change the working directory to the target directory\n",
    "os.chdir(target_dir)\n",
    "print(\"Working directory set to:\", os.getcwd())\n",
    "\n",
    "import dotenv\n",
    "dotenv.load_dotenv('.env')\n",
    "from mainsequence.client import UpdateStatistics\n",
    "\n",
    "import mainsequence.client as msc\n"
   ],
   "outputs": [
    {
     "name": "stdout",
     "output_type": "stream",
     "text": [
      "Working directory set to: /home/jose/code/MainSequenceClientSide/mainsequence-sdk\n"
     ]
    }
   ],
   "execution_count": 7
  },
  {
   "cell_type": "markdown",
   "id": "68ab4d0d",
   "metadata": {},
   "source": [
    "## Step 2: Query Portfolios\n",
    "We query an existing portfolio using the `data_node_update_hash_id` filter. This returns a single portfolio object."
   ]
  },
  {
   "cell_type": "code",
   "id": "6e1b78fc",
   "metadata": {
    "ExecuteTime": {
     "end_time": "2025-08-07T11:22:51.722603Z",
     "start_time": "2025-08-07T11:22:50.011316Z"
    }
   },
   "source": [
    "\n",
    "# Query a single Portfolio with a specific ticker\n",
    "\n",
    "portfolio = msc.Portfolio.filter()\n",
    "print(\"Queried Portfolio:\", portfolio)\n"
   ],
   "outputs": [
    {
     "name": "stderr",
     "output_type": "stream",
     "text": [
      "\u001B[2m2025-08-07T11:22:51.719422Z\u001B[0m [\u001B[32m\u001B[1mdebug    \u001B[0m] \u001B[1mtook 1.7069 seconds. Requesting GET from http://127.0.0.1:8000/orm/api/assets/target_portfolio/\u001B[0m \u001B[36mapplication_name\u001B[0m=\u001B[35mms-sdk\u001B[0m \u001B[36mcommand_id\u001B[0m=\u001B[35mNone\u001B[0m \u001B[36mdata_source_id\u001B[0m=\u001B[35m2\u001B[0m \u001B[36mjob_run_id\u001B[0m=\u001B[35mNone\u001B[0m \u001B[36mproject_id\u001B[0m=\u001B[35m1\u001B[0m (at utils.py:107 in make_request())\n"
     ]
    },
    {
     "name": "stdout",
     "output_type": "stream",
     "text": [
      "Queried Portfolio: [Portfolio: 11, Portfolio: 13, Portfolio: 14]\n"
     ]
    }
   ],
   "execution_count": 4
  },
  {
   "cell_type": "markdown",
   "id": "d1749847",
   "metadata": {},
   "source": [
    "## Step 3: Create Portfolios from Time Series\n",
    "We create two portfolios for different purposes:\n",
    "- **Execution Portfolio** for real-time execution\n",
    "- **Backtesting Portfolio** for simulation and historical analysis\n",
    "\n",
    "### !!! Important !!!\n",
    "\n",
    "If you want to start building portfolios we recommend you to use our VirtualFundBuilder. This will help you have a more fluid \n",
    "and seamless workflows. In this example we will show you how to build a portfolio without using our Wrapper. A few important considerations\n",
    "\n",
    "1.  Each portfolio requires a `signal_data_node_update` and a `data_node_update` that should come from TDAG, this is a unique identifier in the backend and placing a random integer will likely collide therefore we need to build a time serie that has a time_index and at least a column with a column \"close\"\n",
    "\n"
   ]
  },
  {
   "cell_type": "code",
   "id": "4de7dc66437cbb4c",
   "metadata": {
    "ExecuteTime": {
     "end_time": "2025-08-07T11:29:32.443568Z",
     "start_time": "2025-08-07T11:29:18.174496Z"
    }
   },
   "source": [
    "from mainsequence.tdag.data_nodes import DataNode\n",
    "import numpy as np\n",
    "import datetime\n",
    "import pandas as pd\n",
    "\n",
    "class PortfolioExample(DataNode):\n",
    "    \n",
    "    def __init__(self, portfolio_volatility: float,*args, **kwargs):\n",
    "        self.portfolio_volatility = portfolio_volatility\n",
    "        super().__init__(*args, **kwargs)\n",
    "\n",
    "\n",
    "    def dependencies(self) -> Dict[str, Union[\"DataNode\", \"APIDataNode\"]]:\n",
    "        return {}\n",
    "\n",
    "    def update(self):\n",
    "        \"\"\"\n",
    "        Update the time series by simulating a new data point based on the last observation,\n",
    "        or simulate a complete series if no observations exist.\n",
    "\n",
    "        :return: pd.DataFrame with index as a timezone-aware datetime (UTC) and a column \"close\".\n",
    "        \"\"\"\n",
    "        last_observation = self.update_statistics.max_time_index_value\n",
    "        dt = 1.0  # one day time increment\n",
    "\n",
    "        mock_asset=msc.Asset.filter(ticker=\"NVDA\")[0]\n",
    "\n",
    "        if last_observation is not None:\n",
    "            return pd.DataFrame() # do not make sequential updats for example\n",
    "          \n",
    "        else:\n",
    "            # If no observation exists, simulate a daily series for the last 30 days.\n",
    "            end_date = datetime.datetime.now(datetime.timezone.utc)\n",
    "            start_date = end_date - datetime.timedelta(days=30)\n",
    "            # Generate a date range with daily frequency (timezone-aware in UTC).\n",
    "            dates = pd.date_range(start=start_date, end=end_date, freq='D', tz=datetime.timezone.utc)\n",
    "            \n",
    "            # Initialize with a default price.\n",
    "            prices = [100.0]\n",
    "            for _ in range(1, len(dates)):\n",
    "                random_return = np.random.normal(loc=0, scale=self.portfolio_volatility * np.sqrt(dt))\n",
    "                new_price = prices[-1] * np.exp(random_return - 0.5 * self.portfolio_volatility**2 * dt)\n",
    "                prices.append(new_price)\n",
    "                \n",
    "            new_data = pd.DataFrame({\"close\": prices,\"rebalance_weights\":{mock_asset.unique_identifier:1.0},\n",
    "                                     \"rebalance_price\":{mock_asset.unique_identifier:1.0},\n",
    "                                     \"weights_at_last_rebalance\":{mock_asset.unique_identifier:1.0},\n",
    "                                      \"price_at_last_rebalance\":{mock_asset.unique_identifier:1.0},\n",
    "                                        \"volume_at_last_rebalance\":{mock_asset.unique_identifier:1.0},\n",
    "\n",
    "\n",
    "\n",
    "                                     }, index=dates)\n",
    "            new_data[\"last_rebalance_date\"]=new_data.reset_index()[\"index\"].apply(lambda x :x.timestamp()).values\n",
    "            new_data[\"close_time\"]=new_data.reset_index()[\"index\"].apply(lambda x :x.timestamp()).values\n",
    "            new_data[\"return\"]=new_data[\"close\"].pct_change()\n",
    "        if last_observation is not None:\n",
    "            new_data=new_data[new_data.index>self.update_statistics._max_time_in_update_statistics]\n",
    "         \n",
    "        return new_data\n",
    "    \n",
    "    \n",
    "portfolio_ts=PortfolioExample(portfolio_volatility=.1)\n",
    "portfolio_ts.run(debug_mode=True,force_update=True)\n"
   ],
   "outputs": [
    {
     "name": "stderr",
     "output_type": "stream",
     "text": [
      "\u001B[2m2025-08-07T11:29:18.181062Z\u001B[0m [\u001B[32m\u001B[1minfo     \u001B[0m] \u001B[1mRunning post-init routines for PortfolioExample\u001B[0m \u001B[36mapi_time_series\u001B[0m=\u001B[35mFalse\u001B[0m \u001B[36mapplication_name\u001B[0m=\u001B[35mms-sdk\u001B[0m \u001B[36mcommand_id\u001B[0m=\u001B[35mNone\u001B[0m \u001B[36mdata_source_id\u001B[0m=\u001B[35m2\u001B[0m \u001B[36mhead_local_ts_hash_id\u001B[0m=\u001B[35mportfolioexample_3a75b432f449e375c40a1ea3486ba9ed\u001B[0m \u001B[36mjob_run_id\u001B[0m=\u001B[35mNone\u001B[0m \u001B[36mlocal_hash_id_data_source\u001B[0m=\u001B[35m2\u001B[0m \u001B[36mproject_id\u001B[0m=\u001B[35m1\u001B[0m \u001B[36mscheduler_name\u001B[0m=\u001B[35mDEBUG_177\u001B[0m \u001B[36mupdate_hash\u001B[0m=\u001B[35mportfolioexample_3a75b432f449e375c40a1ea3486ba9ed\u001B[0m (at data_nodes.py:610 in wrapped_init())\n",
      "\u001B[2m2025-08-07T11:29:18.182125Z\u001B[0m [\u001B[32m\u001B[1minfo     \u001B[0m] \u001B[1mCreating configuration for PortfolioExample\u001B[0m \u001B[36mapi_time_series\u001B[0m=\u001B[35mFalse\u001B[0m \u001B[36mapplication_name\u001B[0m=\u001B[35mms-sdk\u001B[0m \u001B[36mcommand_id\u001B[0m=\u001B[35mNone\u001B[0m \u001B[36mdata_source_id\u001B[0m=\u001B[35m2\u001B[0m \u001B[36mhead_local_ts_hash_id\u001B[0m=\u001B[35mportfolioexample_3a75b432f449e375c40a1ea3486ba9ed\u001B[0m \u001B[36mjob_run_id\u001B[0m=\u001B[35mNone\u001B[0m \u001B[36mlocal_hash_id_data_source\u001B[0m=\u001B[35m2\u001B[0m \u001B[36mproject_id\u001B[0m=\u001B[35m1\u001B[0m \u001B[36mscheduler_name\u001B[0m=\u001B[35mDEBUG_177\u001B[0m \u001B[36mupdate_hash\u001B[0m=\u001B[35mportfolioexample_3a75b432f449e375c40a1ea3486ba9ed\u001B[0m (at data_nodes.py:638 in _initialize_configuration())\n",
      "\u001B[2m2025-08-07T11:29:18.182907Z\u001B[0m [\u001B[32m\u001B[1minfo     \u001B[0m] \u001B[1mPost-init routines for PortfolioExample complete.\u001B[0m \u001B[36mapi_time_series\u001B[0m=\u001B[35mFalse\u001B[0m \u001B[36mapplication_name\u001B[0m=\u001B[35mms-sdk\u001B[0m \u001B[36mcommand_id\u001B[0m=\u001B[35mNone\u001B[0m \u001B[36mdata_source_id\u001B[0m=\u001B[35m2\u001B[0m \u001B[36mhead_local_ts_hash_id\u001B[0m=\u001B[35mportfolioexample_3a75b432f449e375c40a1ea3486ba9ed\u001B[0m \u001B[36mjob_run_id\u001B[0m=\u001B[35mNone\u001B[0m \u001B[36mlocal_hash_id_data_source\u001B[0m=\u001B[35m2\u001B[0m \u001B[36mproject_id\u001B[0m=\u001B[35m1\u001B[0m \u001B[36mscheduler_name\u001B[0m=\u001B[35mDEBUG_177\u001B[0m \u001B[36mupdate_hash\u001B[0m=\u001B[35mportfolioexample_3a75b432f449e375c40a1ea3486ba9ed\u001B[0m (at data_nodes.py:631 in wrapped_init())\n",
      "Overriding of current TracerProvider is not allowed\n",
      "\u001B[2m2025-08-07T11:29:18.183691Z\u001B[0m [\u001B[33m\u001B[1mwarning  \u001B[0m] \u001B[1mYour TimeSeries is not in a python module this will likely bring exceptions when running in a pipeline\u001B[0m \u001B[36mapi_time_series\u001B[0m=\u001B[35mFalse\u001B[0m \u001B[36mapplication_name\u001B[0m=\u001B[35mms-sdk\u001B[0m \u001B[36mcommand_id\u001B[0m=\u001B[35mNone\u001B[0m \u001B[36mdata_source_id\u001B[0m=\u001B[35m2\u001B[0m \u001B[36mhead_local_ts_hash_id\u001B[0m=\u001B[35mportfolioexample_3a75b432f449e375c40a1ea3486ba9ed\u001B[0m \u001B[36mjob_run_id\u001B[0m=\u001B[35mNone\u001B[0m \u001B[36mlocal_hash_id_data_source\u001B[0m=\u001B[35m2\u001B[0m \u001B[36mproject_id\u001B[0m=\u001B[35m1\u001B[0m \u001B[36mscheduler_name\u001B[0m=\u001B[35mDEBUG_177\u001B[0m \u001B[36mupdate_hash\u001B[0m=\u001B[35mportfolioexample_3a75b432f449e375c40a1ea3486ba9ed\u001B[0m (at persist_managers.py:40 in get_data_node_source_code())\n",
      "\u001B[2m2025-08-07T11:29:18.184182Z\u001B[0m [\u001B[33m\u001B[1mwarning  \u001B[0m] \u001B[1mYour TimeSeries is not in a python module this will likely bring exceptions when running in a pipeline\u001B[0m \u001B[36mapi_time_series\u001B[0m=\u001B[35mFalse\u001B[0m \u001B[36mapplication_name\u001B[0m=\u001B[35mms-sdk\u001B[0m \u001B[36mcommand_id\u001B[0m=\u001B[35mNone\u001B[0m \u001B[36mdata_source_id\u001B[0m=\u001B[35m2\u001B[0m \u001B[36mhead_local_ts_hash_id\u001B[0m=\u001B[35mportfolioexample_3a75b432f449e375c40a1ea3486ba9ed\u001B[0m \u001B[36mjob_run_id\u001B[0m=\u001B[35mNone\u001B[0m \u001B[36mlocal_hash_id_data_source\u001B[0m=\u001B[35m2\u001B[0m \u001B[36mproject_id\u001B[0m=\u001B[35m1\u001B[0m \u001B[36mscheduler_name\u001B[0m=\u001B[35mDEBUG_177\u001B[0m \u001B[36mupdate_hash\u001B[0m=\u001B[35mportfolioexample_3a75b432f449e375c40a1ea3486ba9ed\u001B[0m (at persist_managers.py:40 in get_data_node_source_code())\n",
      "\u001B[2m2025-08-07T11:29:18.184612Z\u001B[0m [\u001B[32m\u001B[1mdebug    \u001B[0m] \u001B[1mSetting local persist manager for portfolioexample_2ddcefd9a53de58a3adc391cb4fca3cd\u001B[0m \u001B[36mapi_time_series\u001B[0m=\u001B[35mFalse\u001B[0m \u001B[36mapplication_name\u001B[0m=\u001B[35mms-sdk\u001B[0m \u001B[36mcommand_id\u001B[0m=\u001B[35mNone\u001B[0m \u001B[36mdata_source_id\u001B[0m=\u001B[35m2\u001B[0m \u001B[36mhead_local_ts_hash_id\u001B[0m=\u001B[35mportfolioexample_3a75b432f449e375c40a1ea3486ba9ed\u001B[0m \u001B[36mjob_run_id\u001B[0m=\u001B[35mNone\u001B[0m \u001B[36mlocal_hash_id_data_source\u001B[0m=\u001B[35m2\u001B[0m \u001B[36mproject_id\u001B[0m=\u001B[35m1\u001B[0m \u001B[36mscheduler_name\u001B[0m=\u001B[35mDEBUG_177\u001B[0m \u001B[36mupdate_hash\u001B[0m=\u001B[35mportfolioexample_3a75b432f449e375c40a1ea3486ba9ed\u001B[0m (at data_nodes.py:703 in local_persist_manager())\n",
      "\u001B[2m2025-08-07T11:29:18.187497Z\u001B[0m [\u001B[32m\u001B[1mdebug    \u001B[0m] \u001B[1mremote table portfolioexample_2ddcefd9a53de58a3adc391cb4fca3cd does not exist creating\u001B[0m \u001B[36mapi_time_series\u001B[0m=\u001B[35mFalse\u001B[0m \u001B[36mapplication_name\u001B[0m=\u001B[35mms-sdk\u001B[0m \u001B[36mcommand_id\u001B[0m=\u001B[35mNone\u001B[0m \u001B[36mdata_source_id\u001B[0m=\u001B[35m2\u001B[0m \u001B[36mhead_local_ts_hash_id\u001B[0m=\u001B[35mportfolioexample_3a75b432f449e375c40a1ea3486ba9ed\u001B[0m \u001B[36mjob_run_id\u001B[0m=\u001B[35mNone\u001B[0m \u001B[36mlocal_hash_id_data_source\u001B[0m=\u001B[35m2\u001B[0m \u001B[36mproject_id\u001B[0m=\u001B[35m1\u001B[0m \u001B[36mscheduler_name\u001B[0m=\u001B[35mDEBUG_177\u001B[0m \u001B[36mupdate_hash\u001B[0m=\u001B[35mportfolioexample_3a75b432f449e375c40a1ea3486ba9ed\u001B[0m (at persist_managers.py:560 in local_persist_exist_set_config())\n",
      "\u001B[2m2025-08-07T11:29:18.593221Z\u001B[0m [\u001B[32m\u001B[1mdebug    \u001B[0m] \u001B[1mtook 0.4077 seconds. Requesting GET from http://127.0.0.1:8000/orm/api/ts_manager/local_time_serie/\u001B[0m \u001B[36mapplication_name\u001B[0m=\u001B[35mms-sdk\u001B[0m \u001B[36mcommand_id\u001B[0m=\u001B[35mNone\u001B[0m \u001B[36mdata_source_id\u001B[0m=\u001B[35m2\u001B[0m \u001B[36mjob_run_id\u001B[0m=\u001B[35mNone\u001B[0m \u001B[36mproject_id\u001B[0m=\u001B[35m1\u001B[0m (at utils.py:107 in make_request())\n",
      "\u001B[2m2025-08-07T11:29:18.994608Z\u001B[0m [\u001B[32m\u001B[1mdebug    \u001B[0m] \u001B[1mtook 0.8064 seconds. Requesting POST from http://127.0.0.1:8000/orm/api/ts_manager/dynamic_table/get_or_create/\u001B[0m \u001B[36mapi_time_series\u001B[0m=\u001B[35mFalse\u001B[0m \u001B[36mapplication_name\u001B[0m=\u001B[35mms-sdk\u001B[0m \u001B[36mcommand_id\u001B[0m=\u001B[35mNone\u001B[0m \u001B[36mdata_source_id\u001B[0m=\u001B[35m2\u001B[0m \u001B[36mhead_local_ts_hash_id\u001B[0m=\u001B[35mportfolioexample_3a75b432f449e375c40a1ea3486ba9ed\u001B[0m \u001B[36mjob_run_id\u001B[0m=\u001B[35mNone\u001B[0m \u001B[36mlocal_hash_id_data_source\u001B[0m=\u001B[35m2\u001B[0m \u001B[36mproject_id\u001B[0m=\u001B[35m1\u001B[0m \u001B[36mscheduler_name\u001B[0m=\u001B[35mDEBUG_177\u001B[0m \u001B[36mupdate_hash\u001B[0m=\u001B[35mportfolioexample_3a75b432f449e375c40a1ea3486ba9ed\u001B[0m (at utils.py:107 in make_request())\n",
      "\u001B[2m2025-08-07T11:29:19.698928Z\u001B[0m [\u001B[32m\u001B[1mdebug    \u001B[0m] \u001B[1mtook 0.7032 seconds. Requesting POST from http://127.0.0.1:8000/orm/api/ts_manager/scheduler/build_and_assign_to_ts/\u001B[0m \u001B[36mapi_time_series\u001B[0m=\u001B[35mFalse\u001B[0m \u001B[36mapplication_name\u001B[0m=\u001B[35mms-sdk\u001B[0m \u001B[36mcommand_id\u001B[0m=\u001B[35mNone\u001B[0m \u001B[36mdata_source_id\u001B[0m=\u001B[35m2\u001B[0m \u001B[36mhead_local_ts_hash_id\u001B[0m=\u001B[35mportfolioexample_3a75b432f449e375c40a1ea3486ba9ed\u001B[0m \u001B[36mjob_run_id\u001B[0m=\u001B[35mNone\u001B[0m \u001B[36mlocal_hash_id_data_source\u001B[0m=\u001B[35m2\u001B[0m \u001B[36mproject_id\u001B[0m=\u001B[35m1\u001B[0m \u001B[36mscheduler_name\u001B[0m=\u001B[35mDEBUG_177\u001B[0m \u001B[36mupdate_hash\u001B[0m=\u001B[35mportfolioexample_3a75b432f449e375c40a1ea3486ba9ed\u001B[0m (at utils.py:107 in make_request())\n",
      "\u001B[2m2025-08-07T11:29:19.700717Z\u001B[0m [\u001B[32m\u001B[1mdebug    \u001B[0m] \u001B[1mHeartbeat thread started with interval = 60 seconds\u001B[0m \u001B[36mapplication_name\u001B[0m=\u001B[35mms-sdk\u001B[0m \u001B[36mcommand_id\u001B[0m=\u001B[35mNone\u001B[0m \u001B[36mdata_source_id\u001B[0m=\u001B[35m2\u001B[0m \u001B[36mjob_run_id\u001B[0m=\u001B[35mNone\u001B[0m \u001B[36mproject_id\u001B[0m=\u001B[35m1\u001B[0m (at models_tdag.py:1101 in _heartbeat_runner())\n",
      "\u001B[2m2025-08-07T11:29:20.103557Z\u001B[0m [\u001B[32m\u001B[1mdebug    \u001B[0m] \u001B[1mtook 0.4012 seconds. Requesting GET from http://127.0.0.1:8000/orm/api/ts_manager/local_time_serie/\u001B[0m \u001B[36mapplication_name\u001B[0m=\u001B[35mms-sdk\u001B[0m \u001B[36mcommand_id\u001B[0m=\u001B[35mNone\u001B[0m \u001B[36mdata_source_id\u001B[0m=\u001B[35m2\u001B[0m \u001B[36mjob_run_id\u001B[0m=\u001B[35mNone\u001B[0m \u001B[36mproject_id\u001B[0m=\u001B[35m1\u001B[0m (at utils.py:107 in make_request())\n",
      "\u001B[2m2025-08-07T11:29:20.364051Z\u001B[0m [\u001B[32m\u001B[1mdebug    \u001B[0m] \u001B[1mtook 0.6589 seconds. Requesting PATCH from http://127.0.0.1:8000/orm/api/ts_manager/scheduler/102/\u001B[0m \u001B[36mapplication_name\u001B[0m=\u001B[35mms-sdk\u001B[0m \u001B[36mcommand_id\u001B[0m=\u001B[35mNone\u001B[0m \u001B[36mdata_source_id\u001B[0m=\u001B[35m2\u001B[0m \u001B[36mjob_run_id\u001B[0m=\u001B[35mNone\u001B[0m \u001B[36mproject_id\u001B[0m=\u001B[35m1\u001B[0m (at utils.py:107 in make_request())\n",
      "\u001B[2m2025-08-07T11:29:20.543670Z\u001B[0m [\u001B[32m\u001B[1mdebug    \u001B[0m] \u001B[1mtook 0.4386 seconds. Requesting GET from http://127.0.0.1:8000/orm/api/ts_manager/local_time_serie/177/get_all_dependencies_update_priority/\u001B[0m \u001B[36mapi_time_series\u001B[0m=\u001B[35mFalse\u001B[0m \u001B[36mapplication_name\u001B[0m=\u001B[35mms-sdk\u001B[0m \u001B[36mcommand_id\u001B[0m=\u001B[35mNone\u001B[0m \u001B[36mdata_source_id\u001B[0m=\u001B[35m2\u001B[0m \u001B[36mhead_local_ts_hash_id\u001B[0m=\u001B[35mportfolioexample_3a75b432f449e375c40a1ea3486ba9ed\u001B[0m \u001B[36mjob_run_id\u001B[0m=\u001B[35mNone\u001B[0m \u001B[36mlocal_hash_id_data_source\u001B[0m=\u001B[35m2\u001B[0m \u001B[36mproject_id\u001B[0m=\u001B[35m1\u001B[0m \u001B[36mscheduler_name\u001B[0m=\u001B[35mDEBUG_177\u001B[0m \u001B[36mupdate_hash\u001B[0m=\u001B[35mportfolioexample_3a75b432f449e375c40a1ea3486ba9ed\u001B[0m (at utils.py:107 in make_request())\n",
      "\u001B[2m2025-08-07T11:29:20.545043Z\u001B[0m [\u001B[32m\u001B[1mdebug    \u001B[0m] \u001B[1mConnecting dependency tree to scheduler...\u001B[0m \u001B[36mapi_time_series\u001B[0m=\u001B[35mFalse\u001B[0m \u001B[36mapplication_name\u001B[0m=\u001B[35mms-sdk\u001B[0m \u001B[36mcommand_id\u001B[0m=\u001B[35mNone\u001B[0m \u001B[36mdata_source_id\u001B[0m=\u001B[35m2\u001B[0m \u001B[36mhead_local_ts_hash_id\u001B[0m=\u001B[35mportfolioexample_3a75b432f449e375c40a1ea3486ba9ed\u001B[0m \u001B[36mjob_run_id\u001B[0m=\u001B[35mNone\u001B[0m \u001B[36mlocal_hash_id_data_source\u001B[0m=\u001B[35m2\u001B[0m \u001B[36mproject_id\u001B[0m=\u001B[35m1\u001B[0m \u001B[36mscheduler_name\u001B[0m=\u001B[35mDEBUG_177\u001B[0m \u001B[36mupdate_hash\u001B[0m=\u001B[35mportfolioexample_3a75b432f449e375c40a1ea3486ba9ed\u001B[0m (at run_operations.py:105 in _pre_update_routines())\n",
      "\u001B[2m2025-08-07T11:29:21.181541Z\u001B[0m [\u001B[32m\u001B[1mdebug    \u001B[0m] \u001B[1mtook 0.6359 seconds. Requesting POST from http://127.0.0.1:8000/orm/api/ts_manager/local_time_serie/get_metadatas_and_set_updates/\u001B[0m \u001B[36mapi_time_series\u001B[0m=\u001B[35mFalse\u001B[0m \u001B[36mapplication_name\u001B[0m=\u001B[35mms-sdk\u001B[0m \u001B[36mcommand_id\u001B[0m=\u001B[35mNone\u001B[0m \u001B[36mdata_source_id\u001B[0m=\u001B[35m2\u001B[0m \u001B[36mhead_local_ts_hash_id\u001B[0m=\u001B[35mportfolioexample_3a75b432f449e375c40a1ea3486ba9ed\u001B[0m \u001B[36mjob_run_id\u001B[0m=\u001B[35mNone\u001B[0m \u001B[36mlocal_hash_id_data_source\u001B[0m=\u001B[35m2\u001B[0m \u001B[36mproject_id\u001B[0m=\u001B[35m1\u001B[0m \u001B[36mscheduler_name\u001B[0m=\u001B[35mDEBUG_177\u001B[0m \u001B[36mupdate_hash\u001B[0m=\u001B[35mportfolioexample_3a75b432f449e375c40a1ea3486ba9ed\u001B[0m (at utils.py:107 in make_request())\n",
      "\u001B[2m2025-08-07T11:29:21.182806Z\u001B[0m [\u001B[32m\u001B[1mdebug    \u001B[0m] \u001B[1mExecution environment and dependency metadata are set.\u001B[0m \u001B[36mapi_time_series\u001B[0m=\u001B[35mFalse\u001B[0m \u001B[36mapplication_name\u001B[0m=\u001B[35mms-sdk\u001B[0m \u001B[36mcommand_id\u001B[0m=\u001B[35mNone\u001B[0m \u001B[36mdata_source_id\u001B[0m=\u001B[35m2\u001B[0m \u001B[36mhead_local_ts_hash_id\u001B[0m=\u001B[35mportfolioexample_3a75b432f449e375c40a1ea3486ba9ed\u001B[0m \u001B[36mjob_run_id\u001B[0m=\u001B[35mNone\u001B[0m \u001B[36mlocal_hash_id_data_source\u001B[0m=\u001B[35m2\u001B[0m \u001B[36mproject_id\u001B[0m=\u001B[35m1\u001B[0m \u001B[36mscheduler_name\u001B[0m=\u001B[35mDEBUG_177\u001B[0m \u001B[36mupdate_hash\u001B[0m=\u001B[35mportfolioexample_3a75b432f449e375c40a1ea3486ba9ed\u001B[0m (at run_operations.py:481 in run())\n",
      "\u001B[2m2025-08-07T11:29:21.818669Z\u001B[0m [\u001B[32m\u001B[1mdebug    \u001B[0m] \u001B[1mtook 0.6351 seconds. Requesting PATCH from http://127.0.0.1:8000/orm/api/ts_manager/local_time_serie/177/set_start_of_execution/\u001B[0m \u001B[36mapi_time_series\u001B[0m=\u001B[35mFalse\u001B[0m \u001B[36mapplication_name\u001B[0m=\u001B[35mms-sdk\u001B[0m \u001B[36mcommand_id\u001B[0m=\u001B[35mNone\u001B[0m \u001B[36mdata_source_id\u001B[0m=\u001B[35m2\u001B[0m \u001B[36mhead_local_ts_hash_id\u001B[0m=\u001B[35mportfolioexample_3a75b432f449e375c40a1ea3486ba9ed\u001B[0m \u001B[36mjob_run_id\u001B[0m=\u001B[35mNone\u001B[0m \u001B[36mlocal_hash_id_data_source\u001B[0m=\u001B[35m2\u001B[0m \u001B[36mproject_id\u001B[0m=\u001B[35m1\u001B[0m \u001B[36mscheduler_name\u001B[0m=\u001B[35mDEBUG_177\u001B[0m \u001B[36mupdate_hash\u001B[0m=\u001B[35mportfolioexample_3a75b432f449e375c40a1ea3486ba9ed\u001B[0m (at utils.py:107 in make_request())\n",
      "\u001B[2m2025-08-07T11:29:22.207519Z\u001B[0m [\u001B[32m\u001B[1mdebug    \u001B[0m] \u001B[1mtook 0.3875 seconds. Requesting GET from http://127.0.0.1:8000/orm/api/ts_manager/local_time_serie/\u001B[0m \u001B[36mapplication_name\u001B[0m=\u001B[35mms-sdk\u001B[0m \u001B[36mcommand_id\u001B[0m=\u001B[35mNone\u001B[0m \u001B[36mdata_source_id\u001B[0m=\u001B[35m2\u001B[0m \u001B[36mjob_run_id\u001B[0m=\u001B[35mNone\u001B[0m \u001B[36mproject_id\u001B[0m=\u001B[35m1\u001B[0m (at utils.py:107 in make_request())\n",
      "\u001B[2m2025-08-07T11:29:22.209124Z\u001B[0m [\u001B[32m\u001B[1minfo     \u001B[0m] \u001B[1mUpdate required for PortfolioExample http://127.0.0.1:8000/local-time-series/details/?local_time_serie_id=177.\u001B[0m \u001B[36mapi_time_series\u001B[0m=\u001B[35mFalse\u001B[0m \u001B[36mapplication_name\u001B[0m=\u001B[35mms-sdk\u001B[0m \u001B[36mcommand_id\u001B[0m=\u001B[35mNone\u001B[0m \u001B[36mdata_source_id\u001B[0m=\u001B[35m2\u001B[0m \u001B[36mhead_local_ts_hash_id\u001B[0m=\u001B[35mportfolioexample_3a75b432f449e375c40a1ea3486ba9ed\u001B[0m \u001B[36mjob_run_id\u001B[0m=\u001B[35mNone\u001B[0m \u001B[36mlocal_hash_id_data_source\u001B[0m=\u001B[35m2\u001B[0m \u001B[36mproject_id\u001B[0m=\u001B[35m1\u001B[0m \u001B[36mscheduler_name\u001B[0m=\u001B[35mDEBUG_177\u001B[0m \u001B[36mupdate_hash\u001B[0m=\u001B[35mportfolioexample_3a75b432f449e375c40a1ea3486ba9ed\u001B[0m (at run_operations.py:166 in _start_update())\n",
      "\u001B[2m2025-08-07T11:29:22.209929Z\u001B[0m [\u001B[32m\u001B[1mdebug    \u001B[0m] \u001B[1mNo dependencies to update.    \u001B[0m \u001B[36mapi_time_series\u001B[0m=\u001B[35mFalse\u001B[0m \u001B[36mapplication_name\u001B[0m=\u001B[35mms-sdk\u001B[0m \u001B[36mcommand_id\u001B[0m=\u001B[35mNone\u001B[0m \u001B[36mdata_source_id\u001B[0m=\u001B[35m2\u001B[0m \u001B[36mhead_local_ts_hash_id\u001B[0m=\u001B[35mportfolioexample_3a75b432f449e375c40a1ea3486ba9ed\u001B[0m \u001B[36mjob_run_id\u001B[0m=\u001B[35mNone\u001B[0m \u001B[36mlocal_hash_id_data_source\u001B[0m=\u001B[35m2\u001B[0m \u001B[36mproject_id\u001B[0m=\u001B[35m1\u001B[0m \u001B[36mscheduler_name\u001B[0m=\u001B[35mDEBUG_177\u001B[0m \u001B[36mupdate_hash\u001B[0m=\u001B[35mportfolioexample_3a75b432f449e375c40a1ea3486ba9ed\u001B[0m (at run_operations.py:316 in _verify_tree_is_updated())\n",
      "\u001B[2m2025-08-07T11:29:22.210378Z\u001B[0m [\u001B[32m\u001B[1minfo     \u001B[0m] \u001B[1mPerforming first-time update for PortfolioExample http://127.0.0.1:8000/local-time-series/details/?local_time_serie_id=177...\u001B[0m \u001B[36mapi_time_series\u001B[0m=\u001B[35mFalse\u001B[0m \u001B[36mapplication_name\u001B[0m=\u001B[35mms-sdk\u001B[0m \u001B[36mcommand_id\u001B[0m=\u001B[35mNone\u001B[0m \u001B[36mdata_source_id\u001B[0m=\u001B[35m2\u001B[0m \u001B[36mhead_local_ts_hash_id\u001B[0m=\u001B[35mportfolioexample_3a75b432f449e375c40a1ea3486ba9ed\u001B[0m \u001B[36mjob_run_id\u001B[0m=\u001B[35mNone\u001B[0m \u001B[36mlocal_hash_id_data_source\u001B[0m=\u001B[35m2\u001B[0m \u001B[36mproject_id\u001B[0m=\u001B[35m1\u001B[0m \u001B[36mscheduler_name\u001B[0m=\u001B[35mDEBUG_177\u001B[0m \u001B[36mupdate_hash\u001B[0m=\u001B[35mportfolioexample_3a75b432f449e375c40a1ea3486ba9ed\u001B[0m (at run_operations.py:246 in _update_local())\n",
      "\u001B[2m2025-08-07T11:29:22.687826Z\u001B[0m [\u001B[32m\u001B[1mdebug    \u001B[0m] \u001B[1mtook 0.4770 seconds. Requesting GET from http://127.0.0.1:8000/orm/api/assets/asset/\u001B[0m \u001B[36mapi_time_series\u001B[0m=\u001B[35mFalse\u001B[0m \u001B[36mapplication_name\u001B[0m=\u001B[35mms-sdk\u001B[0m \u001B[36mcommand_id\u001B[0m=\u001B[35mNone\u001B[0m \u001B[36mdata_source_id\u001B[0m=\u001B[35m2\u001B[0m \u001B[36mhead_local_ts_hash_id\u001B[0m=\u001B[35mportfolioexample_3a75b432f449e375c40a1ea3486ba9ed\u001B[0m \u001B[36mjob_run_id\u001B[0m=\u001B[35mNone\u001B[0m \u001B[36mlocal_hash_id_data_source\u001B[0m=\u001B[35m2\u001B[0m \u001B[36mproject_id\u001B[0m=\u001B[35m1\u001B[0m \u001B[36mscheduler_name\u001B[0m=\u001B[35mDEBUG_177\u001B[0m \u001B[36mupdate_hash\u001B[0m=\u001B[35mportfolioexample_3a75b432f449e375c40a1ea3486ba9ed\u001B[0m (at utils.py:107 in make_request())\n",
      "\u001B[2m2025-08-07T11:29:22.692283Z\u001B[0m [\u001B[32m\u001B[1minfo     \u001B[0m] \u001B[1mPersisting 31 new rows for PortfolioExample http://127.0.0.1:8000/local-time-series/details/?local_time_serie_id=177.\u001B[0m \u001B[36mapi_time_series\u001B[0m=\u001B[35mFalse\u001B[0m \u001B[36mapplication_name\u001B[0m=\u001B[35mms-sdk\u001B[0m \u001B[36mcommand_id\u001B[0m=\u001B[35mNone\u001B[0m \u001B[36mdata_source_id\u001B[0m=\u001B[35m2\u001B[0m \u001B[36mhead_local_ts_hash_id\u001B[0m=\u001B[35mportfolioexample_3a75b432f449e375c40a1ea3486ba9ed\u001B[0m \u001B[36mjob_run_id\u001B[0m=\u001B[35mNone\u001B[0m \u001B[36mlocal_hash_id_data_source\u001B[0m=\u001B[35m2\u001B[0m \u001B[36mproject_id\u001B[0m=\u001B[35m1\u001B[0m \u001B[36mscheduler_name\u001B[0m=\u001B[35mDEBUG_177\u001B[0m \u001B[36mupdate_hash\u001B[0m=\u001B[35mportfolioexample_3a75b432f449e375c40a1ea3486ba9ed\u001B[0m (at run_operations.py:275 in _update_local())\n",
      "\u001B[2m2025-08-07T11:29:28.624293Z\u001B[0m [\u001B[32m\u001B[1mdebug    \u001B[0m] \u001B[1mtook 5.9300 seconds. Requesting POST from http://127.0.0.1:8000/orm/api/ts_manager/source_table_config/\u001B[0m \u001B[36mapi_time_series\u001B[0m=\u001B[35mFalse\u001B[0m \u001B[36mapplication_name\u001B[0m=\u001B[35mms-sdk\u001B[0m \u001B[36mcommand_id\u001B[0m=\u001B[35mNone\u001B[0m \u001B[36mdata_source_id\u001B[0m=\u001B[35m2\u001B[0m \u001B[36mhead_local_ts_hash_id\u001B[0m=\u001B[35mportfolioexample_3a75b432f449e375c40a1ea3486ba9ed\u001B[0m \u001B[36mjob_run_id\u001B[0m=\u001B[35mNone\u001B[0m \u001B[36mlocal_hash_id_data_source\u001B[0m=\u001B[35m2\u001B[0m \u001B[36mproject_id\u001B[0m=\u001B[35m1\u001B[0m \u001B[36mscheduler_name\u001B[0m=\u001B[35mDEBUG_177\u001B[0m \u001B[36mupdate_hash\u001B[0m=\u001B[35mportfolioexample_3a75b432f449e375c40a1ea3486ba9ed\u001B[0m (at utils.py:107 in make_request())\n",
      "\u001B[2m2025-08-07T11:29:28.627408Z\u001B[0m [\u001B[32m\u001B[1minfo     \u001B[0m] \u001B[1mStarting upload of 31 rows in 1 chunk(s).\u001B[0m \u001B[36mapi_time_series\u001B[0m=\u001B[35mFalse\u001B[0m \u001B[36mapplication_name\u001B[0m=\u001B[35mms-sdk\u001B[0m \u001B[36mcommand_id\u001B[0m=\u001B[35mNone\u001B[0m \u001B[36mdata_source_id\u001B[0m=\u001B[35m2\u001B[0m \u001B[36mhead_local_ts_hash_id\u001B[0m=\u001B[35mportfolioexample_3a75b432f449e375c40a1ea3486ba9ed\u001B[0m \u001B[36mjob_run_id\u001B[0m=\u001B[35mNone\u001B[0m \u001B[36mlocal_hash_id_data_source\u001B[0m=\u001B[35m2\u001B[0m \u001B[36mproject_id\u001B[0m=\u001B[35m1\u001B[0m \u001B[36mscheduler_name\u001B[0m=\u001B[35mDEBUG_177\u001B[0m \u001B[36mupdate_hash\u001B[0m=\u001B[35mportfolioexample_3a75b432f449e375c40a1ea3486ba9ed\u001B[0m (at models_tdag.py:488 in post_data_frame_in_chunks())\n",
      "\u001B[2m2025-08-07T11:29:30.336767Z\u001B[0m [\u001B[32m\u001B[1mdebug    \u001B[0m] \u001B[1mtook 1.7081 seconds. Requesting POST from http://127.0.0.1:8000/orm/api/ts_manager/local_time_serie/177/insert_data_into_table/\u001B[0m \u001B[36mapi_time_series\u001B[0m=\u001B[35mFalse\u001B[0m \u001B[36mapplication_name\u001B[0m=\u001B[35mms-sdk\u001B[0m \u001B[36mcommand_id\u001B[0m=\u001B[35mNone\u001B[0m \u001B[36mdata_source_id\u001B[0m=\u001B[35m2\u001B[0m \u001B[36mhead_local_ts_hash_id\u001B[0m=\u001B[35mportfolioexample_3a75b432f449e375c40a1ea3486ba9ed\u001B[0m \u001B[36mjob_run_id\u001B[0m=\u001B[35mNone\u001B[0m \u001B[36mlocal_hash_id_data_source\u001B[0m=\u001B[35m2\u001B[0m \u001B[36mproject_id\u001B[0m=\u001B[35m1\u001B[0m \u001B[36mscheduler_name\u001B[0m=\u001B[35mDEBUG_177\u001B[0m \u001B[36mupdate_hash\u001B[0m=\u001B[35mportfolioexample_3a75b432f449e375c40a1ea3486ba9ed\u001B[0m (at utils.py:107 in make_request())\n",
      "\u001B[2m2025-08-07T11:29:30.337679Z\u001B[0m [\u001B[32m\u001B[1minfo     \u001B[0m] \u001B[1mChunk 1/1 uploaded successfully.\u001B[0m \u001B[36mapi_time_series\u001B[0m=\u001B[35mFalse\u001B[0m \u001B[36mapplication_name\u001B[0m=\u001B[35mms-sdk\u001B[0m \u001B[36mcommand_id\u001B[0m=\u001B[35mNone\u001B[0m \u001B[36mdata_source_id\u001B[0m=\u001B[35m2\u001B[0m \u001B[36mhead_local_ts_hash_id\u001B[0m=\u001B[35mportfolioexample_3a75b432f449e375c40a1ea3486ba9ed\u001B[0m \u001B[36mjob_run_id\u001B[0m=\u001B[35mNone\u001B[0m \u001B[36mlocal_hash_id_data_source\u001B[0m=\u001B[35m2\u001B[0m \u001B[36mproject_id\u001B[0m=\u001B[35m1\u001B[0m \u001B[36mscheduler_name\u001B[0m=\u001B[35mDEBUG_177\u001B[0m \u001B[36mupdate_hash\u001B[0m=\u001B[35mportfolioexample_3a75b432f449e375c40a1ea3486ba9ed\u001B[0m (at models_tdag.py:521 in post_data_frame_in_chunks())\n",
      "\u001B[2m2025-08-07T11:29:31.008356Z\u001B[0m [\u001B[32m\u001B[1mdebug    \u001B[0m] \u001B[1mtook 0.6701 seconds. Requesting POST from http://127.0.0.1:8000/orm/api/ts_manager/local_time_serie/177/set_last_update_index_time_from_update_stats/\u001B[0m \u001B[36mapi_time_series\u001B[0m=\u001B[35mFalse\u001B[0m \u001B[36mapplication_name\u001B[0m=\u001B[35mms-sdk\u001B[0m \u001B[36mcommand_id\u001B[0m=\u001B[35mNone\u001B[0m \u001B[36mdata_source_id\u001B[0m=\u001B[35m2\u001B[0m \u001B[36mhead_local_ts_hash_id\u001B[0m=\u001B[35mportfolioexample_3a75b432f449e375c40a1ea3486ba9ed\u001B[0m \u001B[36mjob_run_id\u001B[0m=\u001B[35mNone\u001B[0m \u001B[36mlocal_hash_id_data_source\u001B[0m=\u001B[35m2\u001B[0m \u001B[36mproject_id\u001B[0m=\u001B[35m1\u001B[0m \u001B[36mscheduler_name\u001B[0m=\u001B[35mDEBUG_177\u001B[0m \u001B[36mupdate_hash\u001B[0m=\u001B[35mportfolioexample_3a75b432f449e375c40a1ea3486ba9ed\u001B[0m (at utils.py:107 in make_request())\n",
      "\u001B[2m2025-08-07T11:29:31.009550Z\u001B[0m [\u001B[32m\u001B[1minfo     \u001B[0m] \u001B[1mSuccessfully updated PortfolioExample http://127.0.0.1:8000/local-time-series/details/?local_time_serie_id=177.\u001B[0m \u001B[36mapi_time_series\u001B[0m=\u001B[35mFalse\u001B[0m \u001B[36mapplication_name\u001B[0m=\u001B[35mms-sdk\u001B[0m \u001B[36mcommand_id\u001B[0m=\u001B[35mNone\u001B[0m \u001B[36mdata_source_id\u001B[0m=\u001B[35m2\u001B[0m \u001B[36mhead_local_ts_hash_id\u001B[0m=\u001B[35mportfolioexample_3a75b432f449e375c40a1ea3486ba9ed\u001B[0m \u001B[36mjob_run_id\u001B[0m=\u001B[35mNone\u001B[0m \u001B[36mlocal_hash_id_data_source\u001B[0m=\u001B[35m2\u001B[0m \u001B[36mproject_id\u001B[0m=\u001B[35m1\u001B[0m \u001B[36mscheduler_name\u001B[0m=\u001B[35mDEBUG_177\u001B[0m \u001B[36mupdate_hash\u001B[0m=\u001B[35mportfolioexample_3a75b432f449e375c40a1ea3486ba9ed\u001B[0m (at run_operations.py:281 in _update_local())\n",
      "\u001B[2m2025-08-07T11:29:31.502297Z\u001B[0m [\u001B[32m\u001B[1mdebug    \u001B[0m] \u001B[1mtook 0.4906 seconds. Requesting GET from http://127.0.0.1:8000/orm/api/ts_manager/local_time_serie/\u001B[0m \u001B[36mapplication_name\u001B[0m=\u001B[35mms-sdk\u001B[0m \u001B[36mcommand_id\u001B[0m=\u001B[35mNone\u001B[0m \u001B[36mdata_source_id\u001B[0m=\u001B[35m2\u001B[0m \u001B[36mjob_run_id\u001B[0m=\u001B[35mNone\u001B[0m \u001B[36mproject_id\u001B[0m=\u001B[35m1\u001B[0m (at utils.py:107 in make_request())\n",
      "\u001B[2m2025-08-07T11:29:31.503597Z\u001B[0m [\u001B[32m\u001B[1minfo     \u001B[0m] \u001B[1mget_column_metadata method not implemented\u001B[0m \u001B[36mapi_time_series\u001B[0m=\u001B[35mFalse\u001B[0m \u001B[36mapplication_name\u001B[0m=\u001B[35mms-sdk\u001B[0m \u001B[36mcommand_id\u001B[0m=\u001B[35mNone\u001B[0m \u001B[36mdata_source_id\u001B[0m=\u001B[35m2\u001B[0m \u001B[36mhead_local_ts_hash_id\u001B[0m=\u001B[35mportfolioexample_3a75b432f449e375c40a1ea3486ba9ed\u001B[0m \u001B[36mjob_run_id\u001B[0m=\u001B[35mNone\u001B[0m \u001B[36mlocal_hash_id_data_source\u001B[0m=\u001B[35m2\u001B[0m \u001B[36mproject_id\u001B[0m=\u001B[35m1\u001B[0m \u001B[36mscheduler_name\u001B[0m=\u001B[35mDEBUG_177\u001B[0m \u001B[36mupdate_hash\u001B[0m=\u001B[35mportfolioexample_3a75b432f449e375c40a1ea3486ba9ed\u001B[0m (at persist_managers.py:703 in set_column_metadata())\n",
      "\u001B[2m2025-08-07T11:29:32.377507Z\u001B[0m [\u001B[32m\u001B[1minfo     \u001B[0m] \u001B[1mHeartbeat thread stopped.     \u001B[0m \u001B[36mapi_time_series\u001B[0m=\u001B[35mFalse\u001B[0m \u001B[36mapplication_name\u001B[0m=\u001B[35mms-sdk\u001B[0m \u001B[36mcommand_id\u001B[0m=\u001B[35mNone\u001B[0m \u001B[36mdata_source_id\u001B[0m=\u001B[35m2\u001B[0m \u001B[36mhead_local_ts_hash_id\u001B[0m=\u001B[35mportfolioexample_3a75b432f449e375c40a1ea3486ba9ed\u001B[0m \u001B[36mjob_run_id\u001B[0m=\u001B[35mNone\u001B[0m \u001B[36mlocal_hash_id_data_source\u001B[0m=\u001B[35m2\u001B[0m \u001B[36mproject_id\u001B[0m=\u001B[35m1\u001B[0m \u001B[36mscheduler_name\u001B[0m=\u001B[35mDEBUG_177\u001B[0m \u001B[36mupdate_hash\u001B[0m=\u001B[35mportfolioexample_3a75b432f449e375c40a1ea3486ba9ed\u001B[0m (at models_tdag.py:1138 in stop_heart_beat())\n"
     ]
    }
   ],
   "execution_count": 23
  },
  {
   "cell_type": "code",
   "id": "bf28faaa65451aa1",
   "metadata": {
    "ExecuteTime": {
     "end_time": "2025-05-19T13:44:01.455726Z",
     "start_time": "2025-05-19T13:44:00.715140Z"
    }
   },
   "source": [
    "#we can get our simulated prices from TDAG Backend\n",
    "print(f\"Data in time series\",portfolio_ts)\n",
    "portfolio_ts.get_df_between_dates()"
   ],
   "outputs": [
    {
     "name": "stdout",
     "output_type": "stream",
     "text": [
      "Data in time series PortfolioExample http://192.168.178.69:8000/local-time-series/details/?local_time_serie_id=255\n"
     ]
    },
    {
     "name": "stderr",
     "output_type": "stream",
     "text": [
      "\u001B[2m2025-05-19T13:44:01.433937Z\u001B[0m [\u001B[32m\u001B[1mdebug    \u001B[0m] \u001B[1mtook 0.6898 seconds. Requesting POST from http://192.168.178.69:8000/orm/api/ts_manager/local_time_serie/255/get_data_between_dates_from_remote/\u001B[0m \u001B[36mapi_time_series\u001B[0m=\u001B[35mFalse\u001B[0m \u001B[36mapplication_name\u001B[0m=\u001B[35mms-sdk\u001B[0m \u001B[36mdata_source_id\u001B[0m=\u001B[35m1\u001B[0m \u001B[36mhead_local_ts_hash_id\u001B[0m=\u001B[35mportfolioexample_f53f240ed0980b8f8bd541172af036ac\u001B[0m \u001B[36mjob_run_id\u001B[0m=\u001B[35mNone\u001B[0m \u001B[36mlocal_hash_id\u001B[0m=\u001B[35mportfolioexample_f53f240ed0980b8f8bd541172af036ac\u001B[0m \u001B[36mlocal_hash_id_data_source\u001B[0m=\u001B[35m1\u001B[0m \u001B[36mproject_id\u001B[0m=\u001B[35m1\u001B[0m \u001B[36mscheduler_name\u001B[0m=\u001B[35mDEBUG_portfolioexample_f53f240ed0980b8f8bd541172af036ac_1\u001B[0m (at utils.py:95 in make_request())\n"
     ]
    },
    {
     "data": {
      "text/plain": [
       "                                       close\n",
       "time_index                                  \n",
       "2025-04-19 13:43:50.382000+00:00  100.000000\n",
       "2025-04-20 13:43:50.382000+00:00   97.834043\n",
       "2025-04-21 13:43:50.382000+00:00  104.090606\n",
       "2025-04-22 13:43:50.382000+00:00   95.882577\n",
       "2025-04-23 13:43:50.382000+00:00  113.441587\n",
       "2025-04-24 13:43:50.382000+00:00  124.150442\n",
       "2025-04-25 13:43:50.382000+00:00  108.641368\n",
       "2025-04-26 13:43:50.382000+00:00  120.532926\n",
       "2025-04-27 13:43:50.382000+00:00  108.228648\n",
       "2025-04-28 13:43:50.382000+00:00  104.057217\n",
       "2025-04-29 13:43:50.382000+00:00   96.397399\n",
       "2025-04-30 13:43:50.382000+00:00  108.293218\n",
       "2025-05-01 13:43:50.382000+00:00  109.751209\n",
       "2025-05-02 13:43:50.382000+00:00  134.880859\n",
       "2025-05-03 13:43:50.382000+00:00  143.678492\n",
       "2025-05-04 13:43:50.382000+00:00  155.345812\n",
       "2025-05-05 13:43:50.382000+00:00  159.140543\n",
       "2025-05-06 13:43:50.382000+00:00  159.466781\n",
       "2025-05-07 13:43:50.382000+00:00  178.768511\n",
       "2025-05-08 13:43:50.382000+00:00  162.224469\n",
       "2025-05-09 13:43:50.382000+00:00  166.915288\n",
       "2025-05-10 13:43:50.382000+00:00  185.519738\n",
       "2025-05-11 13:43:50.382000+00:00  198.565653\n",
       "2025-05-12 13:43:50.382000+00:00  182.862893\n",
       "2025-05-13 13:43:50.382000+00:00  164.310649\n",
       "2025-05-14 13:43:50.382000+00:00  180.181543\n",
       "2025-05-15 13:43:50.382000+00:00  183.766110\n",
       "2025-05-16 13:43:50.382000+00:00  166.853235\n",
       "2025-05-17 13:43:50.382000+00:00  138.632892\n",
       "2025-05-18 13:43:50.382000+00:00  143.736135\n",
       "2025-05-19 13:43:50.382000+00:00  154.693726"
      ],
      "text/html": [
       "<div>\n",
       "<style scoped>\n",
       "    .dataframe tbody tr th:only-of-type {\n",
       "        vertical-align: middle;\n",
       "    }\n",
       "\n",
       "    .dataframe tbody tr th {\n",
       "        vertical-align: top;\n",
       "    }\n",
       "\n",
       "    .dataframe thead th {\n",
       "        text-align: right;\n",
       "    }\n",
       "</style>\n",
       "<table border=\"1\" class=\"dataframe\">\n",
       "  <thead>\n",
       "    <tr style=\"text-align: right;\">\n",
       "      <th></th>\n",
       "      <th>close</th>\n",
       "    </tr>\n",
       "    <tr>\n",
       "      <th>time_index</th>\n",
       "      <th></th>\n",
       "    </tr>\n",
       "  </thead>\n",
       "  <tbody>\n",
       "    <tr>\n",
       "      <th>2025-04-19 13:43:50.382000+00:00</th>\n",
       "      <td>100.000000</td>\n",
       "    </tr>\n",
       "    <tr>\n",
       "      <th>2025-04-20 13:43:50.382000+00:00</th>\n",
       "      <td>97.834043</td>\n",
       "    </tr>\n",
       "    <tr>\n",
       "      <th>2025-04-21 13:43:50.382000+00:00</th>\n",
       "      <td>104.090606</td>\n",
       "    </tr>\n",
       "    <tr>\n",
       "      <th>2025-04-22 13:43:50.382000+00:00</th>\n",
       "      <td>95.882577</td>\n",
       "    </tr>\n",
       "    <tr>\n",
       "      <th>2025-04-23 13:43:50.382000+00:00</th>\n",
       "      <td>113.441587</td>\n",
       "    </tr>\n",
       "    <tr>\n",
       "      <th>2025-04-24 13:43:50.382000+00:00</th>\n",
       "      <td>124.150442</td>\n",
       "    </tr>\n",
       "    <tr>\n",
       "      <th>2025-04-25 13:43:50.382000+00:00</th>\n",
       "      <td>108.641368</td>\n",
       "    </tr>\n",
       "    <tr>\n",
       "      <th>2025-04-26 13:43:50.382000+00:00</th>\n",
       "      <td>120.532926</td>\n",
       "    </tr>\n",
       "    <tr>\n",
       "      <th>2025-04-27 13:43:50.382000+00:00</th>\n",
       "      <td>108.228648</td>\n",
       "    </tr>\n",
       "    <tr>\n",
       "      <th>2025-04-28 13:43:50.382000+00:00</th>\n",
       "      <td>104.057217</td>\n",
       "    </tr>\n",
       "    <tr>\n",
       "      <th>2025-04-29 13:43:50.382000+00:00</th>\n",
       "      <td>96.397399</td>\n",
       "    </tr>\n",
       "    <tr>\n",
       "      <th>2025-04-30 13:43:50.382000+00:00</th>\n",
       "      <td>108.293218</td>\n",
       "    </tr>\n",
       "    <tr>\n",
       "      <th>2025-05-01 13:43:50.382000+00:00</th>\n",
       "      <td>109.751209</td>\n",
       "    </tr>\n",
       "    <tr>\n",
       "      <th>2025-05-02 13:43:50.382000+00:00</th>\n",
       "      <td>134.880859</td>\n",
       "    </tr>\n",
       "    <tr>\n",
       "      <th>2025-05-03 13:43:50.382000+00:00</th>\n",
       "      <td>143.678492</td>\n",
       "    </tr>\n",
       "    <tr>\n",
       "      <th>2025-05-04 13:43:50.382000+00:00</th>\n",
       "      <td>155.345812</td>\n",
       "    </tr>\n",
       "    <tr>\n",
       "      <th>2025-05-05 13:43:50.382000+00:00</th>\n",
       "      <td>159.140543</td>\n",
       "    </tr>\n",
       "    <tr>\n",
       "      <th>2025-05-06 13:43:50.382000+00:00</th>\n",
       "      <td>159.466781</td>\n",
       "    </tr>\n",
       "    <tr>\n",
       "      <th>2025-05-07 13:43:50.382000+00:00</th>\n",
       "      <td>178.768511</td>\n",
       "    </tr>\n",
       "    <tr>\n",
       "      <th>2025-05-08 13:43:50.382000+00:00</th>\n",
       "      <td>162.224469</td>\n",
       "    </tr>\n",
       "    <tr>\n",
       "      <th>2025-05-09 13:43:50.382000+00:00</th>\n",
       "      <td>166.915288</td>\n",
       "    </tr>\n",
       "    <tr>\n",
       "      <th>2025-05-10 13:43:50.382000+00:00</th>\n",
       "      <td>185.519738</td>\n",
       "    </tr>\n",
       "    <tr>\n",
       "      <th>2025-05-11 13:43:50.382000+00:00</th>\n",
       "      <td>198.565653</td>\n",
       "    </tr>\n",
       "    <tr>\n",
       "      <th>2025-05-12 13:43:50.382000+00:00</th>\n",
       "      <td>182.862893</td>\n",
       "    </tr>\n",
       "    <tr>\n",
       "      <th>2025-05-13 13:43:50.382000+00:00</th>\n",
       "      <td>164.310649</td>\n",
       "    </tr>\n",
       "    <tr>\n",
       "      <th>2025-05-14 13:43:50.382000+00:00</th>\n",
       "      <td>180.181543</td>\n",
       "    </tr>\n",
       "    <tr>\n",
       "      <th>2025-05-15 13:43:50.382000+00:00</th>\n",
       "      <td>183.766110</td>\n",
       "    </tr>\n",
       "    <tr>\n",
       "      <th>2025-05-16 13:43:50.382000+00:00</th>\n",
       "      <td>166.853235</td>\n",
       "    </tr>\n",
       "    <tr>\n",
       "      <th>2025-05-17 13:43:50.382000+00:00</th>\n",
       "      <td>138.632892</td>\n",
       "    </tr>\n",
       "    <tr>\n",
       "      <th>2025-05-18 13:43:50.382000+00:00</th>\n",
       "      <td>143.736135</td>\n",
       "    </tr>\n",
       "    <tr>\n",
       "      <th>2025-05-19 13:43:50.382000+00:00</th>\n",
       "      <td>154.693726</td>\n",
       "    </tr>\n",
       "  </tbody>\n",
       "</table>\n",
       "</div>"
      ]
     },
     "execution_count": 4,
     "metadata": {},
     "output_type": "execute_result"
    }
   ],
   "execution_count": 4
  },
  {
   "cell_type": "code",
   "id": "b1c2cd40",
   "metadata": {
    "ExecuteTime": {
     "end_time": "2025-08-07T11:31:52.055942Z",
     "start_time": "2025-08-07T11:31:52.033995Z"
    }
   },
   "source": [
    "\n",
    "def create_portfolio(portfolio_name,portfolio_ts):\n",
    "    \n",
    "    \n",
    "    existing_portfolio = msc.Portfolio.get_or_none(\n",
    "       \n",
    "        data_node_update__id=portfolio_ts.data_node_update.id\n",
    "    )\n",
    "    \n",
    "    if existing_portfolio:\n",
    "        print(f\"Portfolio '{portfolio_name}' already exists.\")\n",
    "        index_asset=msc.PortfolioIndexAsset.get(reference_portfolio__id=existing_portfolio.id)\n",
    "        \n",
    "        \n",
    "        return existing_portfolio,index_asset\n",
    "    \n",
    "    \n",
    "    return msc.Portfolio.create_from_time_series(\n",
    "        portfolio_name=portfolio_name,\n",
    "        is_active=True,\n",
    "        data_node_update_id=portfolio_ts.data_node_update.id,  # Example ID\n",
    "        signal_data_node_update_id=portfolio_ts.data_node_update.id, #we are not using a signal so we are setting the same\n",
    "        calendar_name=\"24/7\",\n",
    "        is_asset_only=False,\n",
    "        backtest_table_price_column_name=\"close\",\n",
    "        target_portfolio_about=dict(description= \"Test Portfolio For example\",\n",
    "                                    signal_name= \"No signal\",\n",
    "                                    signal_description=\"No description\",\n",
    "                                    rebalance_strategy_name=\"No rebalance\"), timeout=600000\n",
    "    )\n",
    "\n",
    "# Create Backtesting Portfolio\n",
    "backtest_portfolio, portfolio_index_asset = create_portfolio(\n",
    "  \"Example Portfolio\",portfolio_ts,)\n",
    "print(\"Created Backtest Portfolio:\", backtest_portfolio.portfolio_name)\n"
   ],
   "outputs": [
    {
     "ename": "AttributeError",
     "evalue": "'PortfolioExample' object has no attribute 'local_metadata'",
     "output_type": "error",
     "traceback": [
      "\u001B[0;31m---------------------------------------------------------------------------\u001B[0m",
      "\u001B[0;31mAttributeError\u001B[0m                            Traceback (most recent call last)",
      "Cell \u001B[0;32mIn[25], line 32\u001B[0m\n\u001B[1;32m     17\u001B[0m     \u001B[38;5;28;01mreturn\u001B[39;00m msc\u001B[38;5;241m.\u001B[39mPortfolio\u001B[38;5;241m.\u001B[39mcreate_from_time_series(\n\u001B[1;32m     18\u001B[0m         portfolio_name\u001B[38;5;241m=\u001B[39mportfolio_name,\n\u001B[1;32m     19\u001B[0m         is_active\u001B[38;5;241m=\u001B[39m\u001B[38;5;28;01mTrue\u001B[39;00m,\n\u001B[0;32m   (...)\u001B[0m\n\u001B[1;32m     28\u001B[0m                                     rebalance_strategy_name\u001B[38;5;241m=\u001B[39m\u001B[38;5;124m\"\u001B[39m\u001B[38;5;124mNo rebalance\u001B[39m\u001B[38;5;124m\"\u001B[39m), timeout\u001B[38;5;241m=\u001B[39m\u001B[38;5;241m600000\u001B[39m\n\u001B[1;32m     29\u001B[0m     )\n\u001B[1;32m     31\u001B[0m \u001B[38;5;66;03m# Create Backtesting Portfolio\u001B[39;00m\n\u001B[0;32m---> 32\u001B[0m backtest_portfolio, portfolio_index_asset \u001B[38;5;241m=\u001B[39m \u001B[43mcreate_portfolio\u001B[49m\u001B[43m(\u001B[49m\n\u001B[1;32m     33\u001B[0m \u001B[43m  \u001B[49m\u001B[38;5;124;43m\"\u001B[39;49m\u001B[38;5;124;43mExample Portfolio\u001B[39;49m\u001B[38;5;124;43m\"\u001B[39;49m\u001B[43m,\u001B[49m\u001B[43mportfolio_ts\u001B[49m\u001B[43m,\u001B[49m\u001B[43m)\u001B[49m\n\u001B[1;32m     34\u001B[0m \u001B[38;5;28mprint\u001B[39m(\u001B[38;5;124m\"\u001B[39m\u001B[38;5;124mCreated Backtest Portfolio:\u001B[39m\u001B[38;5;124m\"\u001B[39m, backtest_portfolio\u001B[38;5;241m.\u001B[39mportfolio_name)\n",
      "Cell \u001B[0;32mIn[25], line 6\u001B[0m, in \u001B[0;36mcreate_portfolio\u001B[0;34m(portfolio_name, portfolio_ts)\u001B[0m\n\u001B[1;32m      1\u001B[0m \u001B[38;5;28;01mdef\u001B[39;00m\u001B[38;5;250m \u001B[39m\u001B[38;5;21mcreate_portfolio\u001B[39m(portfolio_name,portfolio_ts):\n\u001B[1;32m      4\u001B[0m     existing_portfolio \u001B[38;5;241m=\u001B[39m msc\u001B[38;5;241m.\u001B[39mPortfolio\u001B[38;5;241m.\u001B[39mget_or_none(\n\u001B[1;32m      5\u001B[0m        \n\u001B[0;32m----> 6\u001B[0m         local_time_serie__id\u001B[38;5;241m=\u001B[39m\u001B[43mportfolio_ts\u001B[49m\u001B[38;5;241;43m.\u001B[39;49m\u001B[43mlocal_metadata\u001B[49m\u001B[38;5;241m.\u001B[39mid\n\u001B[1;32m      7\u001B[0m     )\n\u001B[1;32m      9\u001B[0m     \u001B[38;5;28;01mif\u001B[39;00m existing_portfolio:\n\u001B[1;32m     10\u001B[0m         \u001B[38;5;28mprint\u001B[39m(\u001B[38;5;124mf\u001B[39m\u001B[38;5;124m\"\u001B[39m\u001B[38;5;124mPortfolio \u001B[39m\u001B[38;5;124m'\u001B[39m\u001B[38;5;132;01m{\u001B[39;00mportfolio_name\u001B[38;5;132;01m}\u001B[39;00m\u001B[38;5;124m'\u001B[39m\u001B[38;5;124m already exists.\u001B[39m\u001B[38;5;124m\"\u001B[39m)\n",
      "\u001B[0;31mAttributeError\u001B[0m: 'PortfolioExample' object has no attribute 'local_metadata'"
     ]
    }
   ],
   "execution_count": 25
  },
  {
   "metadata": {
    "ExecuteTime": {
     "end_time": "2025-05-19T13:47:02.417086Z",
     "start_time": "2025-05-19T13:47:02.415251Z"
    }
   },
   "cell_type": "code",
   "source": "",
   "id": "d54497b5098e3c39",
   "outputs": [],
   "execution_count": 9
  },
  {
   "cell_type": "code",
   "id": "e1a874596ebd49a5",
   "metadata": {},
   "source": "",
   "outputs": [],
   "execution_count": null
  }
 ],
 "metadata": {
  "kernelspec": {
   "display_name": "venv",
   "language": "python",
   "name": "python3"
  },
  "language_info": {
   "codemirror_mode": {
    "name": "ipython",
    "version": 3
   },
   "file_extension": ".py",
   "mimetype": "text/x-python",
   "name": "python",
   "nbconvert_exporter": "python",
   "pygments_lexer": "ipython3",
   "version": "3.9.19"
  }
 },
 "nbformat": 4,
 "nbformat_minor": 5
}
