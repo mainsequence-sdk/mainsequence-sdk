{
 "cells": [
  {
   "cell_type": "markdown",
   "id": "27ff62b2",
   "metadata": {},
   "source": [
    "# Querying and Creating Portfolios in VAM Client\n",
    "This notebook serves as a tutorial for querying, creating, and managing portfolios using the `mainsequence.client` package. It covers:\n",
    "- Querying existing portfolios using filters\n",
    "- Creating portfolios from time series\n",
    "- Creating an index asset portfolio\n",
    "- Querying the newly created index asset portfolio"
   ]
  },
  {
   "cell_type": "markdown",
   "id": "d0feb276",
   "metadata": {},
   "source": [
    "## Step 1: Import Required Modules\n",
    "First, we import the necessary modules and constants."
   ]
  },
  {
   "cell_type": "code",
   "id": "1dd7de16",
   "metadata": {
    "ExecuteTime": {
     "end_time": "2025-04-10T19:27:09.923281Z",
     "start_time": "2025-04-10T19:27:08.426511Z"
    }
   },
   "source": [
    "import os\n",
    "from pathlib import Path\n",
    "import dotenv\n",
    "# Save the original working directory (only once)\n",
    "try:\n",
    "    original_wd\n",
    "except NameError:\n",
    "    original_wd = os.getcwd()\n",
    "\n",
    "# Compute the target directory: two levels up from the original working directory\n",
    "# For example, if original_wd is /Users/username/project/notebooks,\n",
    "# then target_dir becomes /Users/username\n",
    "target_dir = Path(original_wd).parents[2]\n",
    "\n",
    "# Change the working directory to the target directory\n",
    "os.chdir(target_dir)\n",
    "print(\"Working directory set to:\", os.getcwd())\n",
    "\n",
    "import dotenv\n",
    "dotenv.load_dotenv('.env')\n",
    "from mainsequence.client import DataUpdates\n",
    "import datetime\n",
    "from mainsequence.client import TargetPortfolio, Asset\n",
    "from mainsequence import MARKETS_CONSTANTS \n"
   ],
   "outputs": [
    {
     "name": "stdout",
     "output_type": "stream",
     "text": [
      "Working directory set to: /home/jose/code/MainSequenceClientSide/mainsequence-sdk\n"
     ]
    }
   ],
   "execution_count": 1
  },
  {
   "cell_type": "markdown",
   "id": "68ab4d0d",
   "metadata": {},
   "source": [
    "## Step 2: Query Portfolios\n",
    "We query an existing portfolio using the `local_time_serie_hash_id` filter. This returns a single portfolio object."
   ]
  },
  {
   "cell_type": "code",
   "id": "6e1b78fc",
   "metadata": {
    "ExecuteTime": {
     "end_time": "2025-04-10T19:27:10.265727Z",
     "start_time": "2025-04-10T19:27:09.928776Z"
    }
   },
   "source": [
    "\n",
    "# Query a single TargetPortfolio with a specific ticker\n",
    "portfolio_ticker = \"TICKER1\"\n",
    "portfolio = TargetPortfolio.filter(portfolio_ticker=portfolio_ticker)\n",
    "print(\"Queried Portfolio:\", portfolio)\n"
   ],
   "outputs": [
    {
     "name": "stdout",
     "output_type": "stream",
     "text": [
      "Queried Portfolio: []\n"
     ]
    }
   ],
   "execution_count": 2
  },
  {
   "cell_type": "markdown",
   "id": "d1749847",
   "metadata": {},
   "source": [
    "## Step 3: Create Portfolios from Time Series\n",
    "We create two portfolios for different purposes:\n",
    "- **Execution Portfolio** for real-time execution\n",
    "- **Backtesting Portfolio** for simulation and historical analysis\n",
    "\n",
    "### !!! Important !!!\n",
    "\n",
    "If you want to start building portfolios we recommend you to use our VirtualFundBuilder. This will help you have a more fluid \n",
    "and seamless workflows. In this example we will show you how to build a portfolio without using our Wrapper. A few important considerations\n",
    "\n",
    "1.  Each portfolio requires a `local_signal_time_serie` and a `local_time_serie` that should come from TDAG, this is a unique identifier in the backend and placing a random integer will likely collide therefore we need to build a time serie that has a time_index and at least a column with a column \"close\" \n",
    "\n"
   ]
  },
  {
   "cell_type": "code",
   "id": "4de7dc66437cbb4c",
   "metadata": {
    "ExecuteTime": {
     "end_time": "2025-04-10T19:27:23.243712Z",
     "start_time": "2025-04-10T19:27:10.689145Z"
    }
   },
   "source": [
    "from mainsequence.tdag.time_series import TimeSerie\n",
    "from mainsequence.client import DataUpdates\n",
    "import numpy as np\n",
    "import datetime\n",
    "import pandas as pd\n",
    "\n",
    "class PortfolioExample(TimeSerie):\n",
    "    \n",
    "    @TimeSerie._post_init_routines()\n",
    "    def __init__(self, portfolio_volatility: float,source_prices:str, *args, **kwargs):\n",
    "        self.portfolio_volatility = portfolio_volatility\n",
    "        self.source_prices=source_prices\n",
    "        super().__init__(*args, **kwargs)\n",
    "        \n",
    "    def update(self, update_statistics):\n",
    "        \"\"\"\n",
    "        Update the time series by simulating a new data point based on the last observation,\n",
    "        or simulate a complete series if no observations exist.\n",
    "\n",
    "        :param update_statistics: A dict to record update statistics (optional).\n",
    "        :return: pd.DataFrame with index as a timezone-aware datetime (UTC) and a column \"close\".\n",
    "        \"\"\"\n",
    "        last_observation = self.get_last_observation()\n",
    "        dt = 1.0  # one day time increment\n",
    "\n",
    "        if last_observation is not None:\n",
    "            return pd.DataFrame() # do not make sequential updats for example\n",
    "          \n",
    "        else:\n",
    "            # If no observation exists, simulate a daily series for the last 30 days.\n",
    "            end_date = datetime.datetime.now(datetime.timezone.utc)\n",
    "            start_date = end_date - datetime.timedelta(days=30)\n",
    "            # Generate a date range with daily frequency (timezone-aware in UTC).\n",
    "            dates = pd.date_range(start=start_date, end=end_date, freq='D', tz=datetime.timezone.utc)\n",
    "            \n",
    "            # Initialize with a default price.\n",
    "            prices = [100.0]\n",
    "            for _ in range(1, len(dates)):\n",
    "                random_return = np.random.normal(loc=0, scale=self.portfolio_volatility * np.sqrt(dt))\n",
    "                new_price = prices[-1] * np.exp(random_return - 0.5 * self.portfolio_volatility**2 * dt)\n",
    "                prices.append(new_price)\n",
    "                \n",
    "            new_data = pd.DataFrame({\"close\": prices}, index=dates)\n",
    "        if last_observation is not None:\n",
    "            new_data=new_data[new_data.index>update_statistics._max_time_in_update_statistics]\n",
    "         \n",
    "        return new_data\n",
    "    \n",
    "    \n",
    "portfolio_ts=PortfolioExample(portfolio_volatility=.1,source_prices=\"backtest\")\n",
    "portfolio_ts.run(debug_mode=True,force_update=True)\n"
   ],
   "outputs": [
    {
     "name": "stderr",
     "output_type": "stream",
     "text": [
      "\u001B[2m2025-04-10T19:27:11.533478Z\u001B[0m [\u001B[33m\u001B[1mwarning  \u001B[0m] \u001B[1mYour TimeSeries is not in a python module this will likely bring exceptions when running in a pipeline\u001B[0m \u001B[36mapi_time_series\u001B[0m=\u001B[35mFalse\u001B[0m \u001B[36mapplication_name\u001B[0m=\u001B[35mms-sdk\u001B[0m \u001B[36mdata_source_id\u001B[0m=\u001B[35m1\u001B[0m \u001B[36mjob_run_id\u001B[0m=\u001B[35mNone\u001B[0m \u001B[36mlocal_hash_id\u001B[0m=\u001B[35mportfolioexample_f53f240ed0980b8f8bd541172af036ac\u001B[0m \u001B[36mlocal_hash_id_data_source\u001B[0m=\u001B[35m1\u001B[0m \u001B[36mproject_id\u001B[0m=\u001B[35m39\u001B[0m (at time_series.py:1770 in get_time_serie_source_code())\n",
      "\u001B[2m2025-04-10T19:27:11.540197Z\u001B[0m [\u001B[33m\u001B[1mwarning  \u001B[0m] \u001B[1mYour TimeSeries is not in a python module this will likely bring exceptions when running in a pipeline\u001B[0m \u001B[36mapi_time_series\u001B[0m=\u001B[35mFalse\u001B[0m \u001B[36mapplication_name\u001B[0m=\u001B[35mms-sdk\u001B[0m \u001B[36mdata_source_id\u001B[0m=\u001B[35m1\u001B[0m \u001B[36mjob_run_id\u001B[0m=\u001B[35mNone\u001B[0m \u001B[36mlocal_hash_id\u001B[0m=\u001B[35mportfolioexample_f53f240ed0980b8f8bd541172af036ac\u001B[0m \u001B[36mlocal_hash_id_data_source\u001B[0m=\u001B[35m1\u001B[0m \u001B[36mproject_id\u001B[0m=\u001B[35m39\u001B[0m (at time_series.py:1770 in get_time_serie_source_code())\n",
      "Overriding of current TracerProvider is not allowed\n",
      "\u001B[2m2025-04-10T19:27:16.744964Z\u001B[0m [\u001B[32m\u001B[1minfo     \u001B[0m] \u001B[1mUpdating Local Time Series for  PortfolioExample http://127.0.0.1:8000/local-time-series/details/?local_time_serie_id=127  for first time\u001B[0m \u001B[36mapi_time_series\u001B[0m=\u001B[35mFalse\u001B[0m \u001B[36mapplication_name\u001B[0m=\u001B[35mms-sdk\u001B[0m \u001B[36mdata_source_id\u001B[0m=\u001B[35m1\u001B[0m \u001B[36mhead_local_ts_hash_id\u001B[0m=\u001B[35mportfolioexample_f53f240ed0980b8f8bd541172af036ac\u001B[0m \u001B[36mjob_run_id\u001B[0m=\u001B[35mNone\u001B[0m \u001B[36mlocal_hash_id\u001B[0m=\u001B[35mportfolioexample_f53f240ed0980b8f8bd541172af036ac\u001B[0m \u001B[36mlocal_hash_id_data_source\u001B[0m=\u001B[35m1\u001B[0m \u001B[36mproject_id\u001B[0m=\u001B[35m39\u001B[0m \u001B[36mscheduler_name\u001B[0m=\u001B[35mDEBUG_portfolioexample_f53f240ed0980b8f8bd541172af036ac_1\u001B[0m (at time_series.py:2531 in update_local())\n",
      "\u001B[2m2025-04-10T19:27:17.342236Z\u001B[0m [\u001B[33m\u001B[1mwarning  \u001B[0m] \u001B[1mNo data returned from remote API for portfolioexample_f53f240ed0980b8f8bd541172af036ac\u001B[0m \u001B[36mapi_time_series\u001B[0m=\u001B[35mFalse\u001B[0m \u001B[36mapplication_name\u001B[0m=\u001B[35mms-sdk\u001B[0m \u001B[36mdata_source_id\u001B[0m=\u001B[35m1\u001B[0m \u001B[36mhead_local_ts_hash_id\u001B[0m=\u001B[35mportfolioexample_f53f240ed0980b8f8bd541172af036ac\u001B[0m \u001B[36mjob_run_id\u001B[0m=\u001B[35mNone\u001B[0m \u001B[36mlocal_hash_id\u001B[0m=\u001B[35mportfolioexample_f53f240ed0980b8f8bd541172af036ac\u001B[0m \u001B[36mlocal_hash_id_data_source\u001B[0m=\u001B[35m1\u001B[0m \u001B[36mproject_id\u001B[0m=\u001B[35m39\u001B[0m \u001B[36mscheduler_name\u001B[0m=\u001B[35mDEBUG_portfolioexample_f53f240ed0980b8f8bd541172af036ac_1\u001B[0m (at models_tdag.py:1274 in get_data_by_time_index())\n",
      "\u001B[2m2025-04-10T19:27:17.346391Z\u001B[0m [\u001B[32m\u001B[1minfo     \u001B[0m] \u001B[1mStarting upload of 31 rows in 1 chunk(s).\u001B[0m \u001B[36mapi_time_series\u001B[0m=\u001B[35mFalse\u001B[0m \u001B[36mapplication_name\u001B[0m=\u001B[35mms-sdk\u001B[0m \u001B[36mdata_source_id\u001B[0m=\u001B[35m1\u001B[0m \u001B[36mhead_local_ts_hash_id\u001B[0m=\u001B[35mportfolioexample_f53f240ed0980b8f8bd541172af036ac\u001B[0m \u001B[36mjob_run_id\u001B[0m=\u001B[35mNone\u001B[0m \u001B[36mlocal_hash_id\u001B[0m=\u001B[35mportfolioexample_f53f240ed0980b8f8bd541172af036ac\u001B[0m \u001B[36mlocal_hash_id_data_source\u001B[0m=\u001B[35m1\u001B[0m \u001B[36mproject_id\u001B[0m=\u001B[35m39\u001B[0m \u001B[36mscheduler_name\u001B[0m=\u001B[35mDEBUG_portfolioexample_f53f240ed0980b8f8bd541172af036ac_1\u001B[0m (at models_tdag.py:612 in post_data_frame_in_chunks())\n",
      "\u001B[2m2025-04-10T19:27:19.698311Z\u001B[0m [\u001B[32m\u001B[1minfo     \u001B[0m] \u001B[1mChunk 1/1 uploaded successfully.\u001B[0m \u001B[36mapi_time_series\u001B[0m=\u001B[35mFalse\u001B[0m \u001B[36mapplication_name\u001B[0m=\u001B[35mms-sdk\u001B[0m \u001B[36mdata_source_id\u001B[0m=\u001B[35m1\u001B[0m \u001B[36mhead_local_ts_hash_id\u001B[0m=\u001B[35mportfolioexample_f53f240ed0980b8f8bd541172af036ac\u001B[0m \u001B[36mjob_run_id\u001B[0m=\u001B[35mNone\u001B[0m \u001B[36mlocal_hash_id\u001B[0m=\u001B[35mportfolioexample_f53f240ed0980b8f8bd541172af036ac\u001B[0m \u001B[36mlocal_hash_id_data_source\u001B[0m=\u001B[35m1\u001B[0m \u001B[36mproject_id\u001B[0m=\u001B[35m39\u001B[0m \u001B[36mscheduler_name\u001B[0m=\u001B[35mDEBUG_portfolioexample_f53f240ed0980b8f8bd541172af036ac_1\u001B[0m (at models_tdag.py:646 in post_data_frame_in_chunks())\n",
      "\u001B[2m2025-04-10T19:27:21.175209Z\u001B[0m [\u001B[32m\u001B[1minfo     \u001B[0m] \u001B[1mLocal Time Series  PortfolioExample http://127.0.0.1:8000/local-time-series/details/?local_time_serie_id=127  updated\u001B[0m \u001B[36mapi_time_series\u001B[0m=\u001B[35mFalse\u001B[0m \u001B[36mapplication_name\u001B[0m=\u001B[35mms-sdk\u001B[0m \u001B[36mdata_source_id\u001B[0m=\u001B[35m1\u001B[0m \u001B[36mhead_local_ts_hash_id\u001B[0m=\u001B[35mportfolioexample_f53f240ed0980b8f8bd541172af036ac\u001B[0m \u001B[36mjob_run_id\u001B[0m=\u001B[35mNone\u001B[0m \u001B[36mlocal_hash_id\u001B[0m=\u001B[35mportfolioexample_f53f240ed0980b8f8bd541172af036ac\u001B[0m \u001B[36mlocal_hash_id_data_source\u001B[0m=\u001B[35m1\u001B[0m \u001B[36mproject_id\u001B[0m=\u001B[35m39\u001B[0m \u001B[36mscheduler_name\u001B[0m=\u001B[35mDEBUG_portfolioexample_f53f240ed0980b8f8bd541172af036ac_1\u001B[0m (at time_series.py:2557 in update_local())\n",
      "\u001B[2m2025-04-10T19:27:23.242078Z\u001B[0m [\u001B[32m\u001B[1minfo     \u001B[0m] \u001B[1mHeartbeat thread stopped.     \u001B[0m \u001B[36mapi_time_series\u001B[0m=\u001B[35mFalse\u001B[0m \u001B[36mapplication_name\u001B[0m=\u001B[35mms-sdk\u001B[0m \u001B[36mdata_source_id\u001B[0m=\u001B[35m1\u001B[0m \u001B[36mhead_local_ts_hash_id\u001B[0m=\u001B[35mportfolioexample_f53f240ed0980b8f8bd541172af036ac\u001B[0m \u001B[36mjob_run_id\u001B[0m=\u001B[35mNone\u001B[0m \u001B[36mlocal_hash_id\u001B[0m=\u001B[35mportfolioexample_f53f240ed0980b8f8bd541172af036ac\u001B[0m \u001B[36mlocal_hash_id_data_source\u001B[0m=\u001B[35m1\u001B[0m \u001B[36mproject_id\u001B[0m=\u001B[35m39\u001B[0m \u001B[36mscheduler_name\u001B[0m=\u001B[35mDEBUG_portfolioexample_f53f240ed0980b8f8bd541172af036ac_1\u001B[0m (at models_tdag.py:988 in stop_heart_beat())\n"
     ]
    }
   ],
   "execution_count": 3
  },
  {
   "cell_type": "code",
   "id": "bf28faaa65451aa1",
   "metadata": {
    "ExecuteTime": {
     "end_time": "2025-04-10T19:27:23.832424Z",
     "start_time": "2025-04-10T19:27:23.250923Z"
    }
   },
   "source": [
    "#we can get our simulated prices from TDAG Backend\n",
    "print(f\"Data in time series\",portfolio_ts)\n",
    "portfolio_ts.get_df_between_dates()"
   ],
   "outputs": [
    {
     "name": "stdout",
     "output_type": "stream",
     "text": [
      "Data in time series PortfolioExample http://127.0.0.1:8000/local-time-series/details/?local_time_serie_id=127\n"
     ]
    },
    {
     "data": {
      "text/plain": [
       "                                       close\n",
       "time_index                                  \n",
       "2025-03-11 19:21:16.768000+00:00  100.000000\n",
       "2025-03-11 19:24:06.269000+00:00  100.000000\n",
       "2025-03-11 19:27:17.342000+00:00  100.000000\n",
       "2025-03-12 19:27:17.342000+00:00  104.024793\n",
       "2025-03-13 19:27:17.342000+00:00  113.061078\n",
       "2025-03-14 19:27:17.342000+00:00  107.005609\n",
       "2025-03-15 19:27:17.342000+00:00   99.468722\n",
       "2025-03-16 19:27:17.342000+00:00   97.331693\n",
       "2025-03-17 19:27:17.342000+00:00  104.889011\n",
       "2025-03-18 19:27:17.342000+00:00   90.140337\n",
       "2025-03-19 19:27:17.342000+00:00   98.423520\n",
       "2025-03-20 19:27:17.342000+00:00  105.792938\n",
       "2025-03-21 19:27:17.342000+00:00  106.623537\n",
       "2025-03-22 19:27:17.342000+00:00  102.271807\n",
       "2025-03-23 19:27:17.342000+00:00  101.146566\n",
       "2025-03-24 19:27:17.342000+00:00  106.766224\n",
       "2025-03-25 19:27:17.342000+00:00  114.257995\n",
       "2025-03-26 19:27:17.342000+00:00  105.021228\n",
       "2025-03-27 19:27:17.342000+00:00   97.949855\n",
       "2025-03-28 19:27:17.342000+00:00  109.661591\n",
       "2025-03-29 19:27:17.342000+00:00  127.044677\n",
       "2025-03-30 19:27:17.342000+00:00  141.944449\n",
       "2025-03-31 19:27:17.342000+00:00  127.378027\n",
       "2025-04-01 19:27:17.342000+00:00  127.429572\n",
       "2025-04-02 19:27:17.342000+00:00  119.310718\n",
       "2025-04-03 19:27:17.342000+00:00  113.206243\n",
       "2025-04-04 19:27:17.342000+00:00  123.145890\n",
       "2025-04-05 19:27:17.342000+00:00  125.625243\n",
       "2025-04-06 19:27:17.342000+00:00  114.026999\n",
       "2025-04-07 19:27:17.342000+00:00  117.961855\n",
       "2025-04-08 19:27:17.342000+00:00  105.796467\n",
       "2025-04-09 19:27:17.342000+00:00  106.782100\n",
       "2025-04-10 19:27:17.342000+00:00  105.114914"
      ],
      "text/html": [
       "<div>\n",
       "<style scoped>\n",
       "    .dataframe tbody tr th:only-of-type {\n",
       "        vertical-align: middle;\n",
       "    }\n",
       "\n",
       "    .dataframe tbody tr th {\n",
       "        vertical-align: top;\n",
       "    }\n",
       "\n",
       "    .dataframe thead th {\n",
       "        text-align: right;\n",
       "    }\n",
       "</style>\n",
       "<table border=\"1\" class=\"dataframe\">\n",
       "  <thead>\n",
       "    <tr style=\"text-align: right;\">\n",
       "      <th></th>\n",
       "      <th>close</th>\n",
       "    </tr>\n",
       "    <tr>\n",
       "      <th>time_index</th>\n",
       "      <th></th>\n",
       "    </tr>\n",
       "  </thead>\n",
       "  <tbody>\n",
       "    <tr>\n",
       "      <th>2025-03-11 19:21:16.768000+00:00</th>\n",
       "      <td>100.000000</td>\n",
       "    </tr>\n",
       "    <tr>\n",
       "      <th>2025-03-11 19:24:06.269000+00:00</th>\n",
       "      <td>100.000000</td>\n",
       "    </tr>\n",
       "    <tr>\n",
       "      <th>2025-03-11 19:27:17.342000+00:00</th>\n",
       "      <td>100.000000</td>\n",
       "    </tr>\n",
       "    <tr>\n",
       "      <th>2025-03-12 19:27:17.342000+00:00</th>\n",
       "      <td>104.024793</td>\n",
       "    </tr>\n",
       "    <tr>\n",
       "      <th>2025-03-13 19:27:17.342000+00:00</th>\n",
       "      <td>113.061078</td>\n",
       "    </tr>\n",
       "    <tr>\n",
       "      <th>2025-03-14 19:27:17.342000+00:00</th>\n",
       "      <td>107.005609</td>\n",
       "    </tr>\n",
       "    <tr>\n",
       "      <th>2025-03-15 19:27:17.342000+00:00</th>\n",
       "      <td>99.468722</td>\n",
       "    </tr>\n",
       "    <tr>\n",
       "      <th>2025-03-16 19:27:17.342000+00:00</th>\n",
       "      <td>97.331693</td>\n",
       "    </tr>\n",
       "    <tr>\n",
       "      <th>2025-03-17 19:27:17.342000+00:00</th>\n",
       "      <td>104.889011</td>\n",
       "    </tr>\n",
       "    <tr>\n",
       "      <th>2025-03-18 19:27:17.342000+00:00</th>\n",
       "      <td>90.140337</td>\n",
       "    </tr>\n",
       "    <tr>\n",
       "      <th>2025-03-19 19:27:17.342000+00:00</th>\n",
       "      <td>98.423520</td>\n",
       "    </tr>\n",
       "    <tr>\n",
       "      <th>2025-03-20 19:27:17.342000+00:00</th>\n",
       "      <td>105.792938</td>\n",
       "    </tr>\n",
       "    <tr>\n",
       "      <th>2025-03-21 19:27:17.342000+00:00</th>\n",
       "      <td>106.623537</td>\n",
       "    </tr>\n",
       "    <tr>\n",
       "      <th>2025-03-22 19:27:17.342000+00:00</th>\n",
       "      <td>102.271807</td>\n",
       "    </tr>\n",
       "    <tr>\n",
       "      <th>2025-03-23 19:27:17.342000+00:00</th>\n",
       "      <td>101.146566</td>\n",
       "    </tr>\n",
       "    <tr>\n",
       "      <th>2025-03-24 19:27:17.342000+00:00</th>\n",
       "      <td>106.766224</td>\n",
       "    </tr>\n",
       "    <tr>\n",
       "      <th>2025-03-25 19:27:17.342000+00:00</th>\n",
       "      <td>114.257995</td>\n",
       "    </tr>\n",
       "    <tr>\n",
       "      <th>2025-03-26 19:27:17.342000+00:00</th>\n",
       "      <td>105.021228</td>\n",
       "    </tr>\n",
       "    <tr>\n",
       "      <th>2025-03-27 19:27:17.342000+00:00</th>\n",
       "      <td>97.949855</td>\n",
       "    </tr>\n",
       "    <tr>\n",
       "      <th>2025-03-28 19:27:17.342000+00:00</th>\n",
       "      <td>109.661591</td>\n",
       "    </tr>\n",
       "    <tr>\n",
       "      <th>2025-03-29 19:27:17.342000+00:00</th>\n",
       "      <td>127.044677</td>\n",
       "    </tr>\n",
       "    <tr>\n",
       "      <th>2025-03-30 19:27:17.342000+00:00</th>\n",
       "      <td>141.944449</td>\n",
       "    </tr>\n",
       "    <tr>\n",
       "      <th>2025-03-31 19:27:17.342000+00:00</th>\n",
       "      <td>127.378027</td>\n",
       "    </tr>\n",
       "    <tr>\n",
       "      <th>2025-04-01 19:27:17.342000+00:00</th>\n",
       "      <td>127.429572</td>\n",
       "    </tr>\n",
       "    <tr>\n",
       "      <th>2025-04-02 19:27:17.342000+00:00</th>\n",
       "      <td>119.310718</td>\n",
       "    </tr>\n",
       "    <tr>\n",
       "      <th>2025-04-03 19:27:17.342000+00:00</th>\n",
       "      <td>113.206243</td>\n",
       "    </tr>\n",
       "    <tr>\n",
       "      <th>2025-04-04 19:27:17.342000+00:00</th>\n",
       "      <td>123.145890</td>\n",
       "    </tr>\n",
       "    <tr>\n",
       "      <th>2025-04-05 19:27:17.342000+00:00</th>\n",
       "      <td>125.625243</td>\n",
       "    </tr>\n",
       "    <tr>\n",
       "      <th>2025-04-06 19:27:17.342000+00:00</th>\n",
       "      <td>114.026999</td>\n",
       "    </tr>\n",
       "    <tr>\n",
       "      <th>2025-04-07 19:27:17.342000+00:00</th>\n",
       "      <td>117.961855</td>\n",
       "    </tr>\n",
       "    <tr>\n",
       "      <th>2025-04-08 19:27:17.342000+00:00</th>\n",
       "      <td>105.796467</td>\n",
       "    </tr>\n",
       "    <tr>\n",
       "      <th>2025-04-09 19:27:17.342000+00:00</th>\n",
       "      <td>106.782100</td>\n",
       "    </tr>\n",
       "    <tr>\n",
       "      <th>2025-04-10 19:27:17.342000+00:00</th>\n",
       "      <td>105.114914</td>\n",
       "    </tr>\n",
       "  </tbody>\n",
       "</table>\n",
       "</div>"
      ]
     },
     "execution_count": 4,
     "metadata": {},
     "output_type": "execute_result"
    }
   ],
   "execution_count": 4
  },
  {
   "cell_type": "code",
   "id": "b1c2cd40",
   "metadata": {
    "ExecuteTime": {
     "end_time": "2025-04-10T19:27:26.676235Z",
     "start_time": "2025-04-10T19:27:23.874037Z"
    }
   },
   "source": [
    "\n",
    "def create_portfolio(build_purpose, portfolio_name,portfolio_ts,):\n",
    "    \n",
    "    \n",
    "    existing_portfolios = TargetPortfolio.filter(\n",
    "       \n",
    "        local_time_serie__id=portfolio_ts.local_metadata.id\n",
    "    )\n",
    "    \n",
    "    if existing_portfolios:\n",
    "        print(f\"Portfolio '{portfolio_name}' already exists.\")\n",
    "        return existing_portfolios[0]\n",
    "    \n",
    "    \n",
    "    return TargetPortfolio.create_from_time_series(\n",
    "        portfolio_name=portfolio_name,\n",
    "        build_purpose=build_purpose,\n",
    "        is_active=True,\n",
    "        local_time_serie_id=portfolio_ts.local_metadata.id,  # Example ID\n",
    "        signal_local_time_serie_id=portfolio_ts.local_metadata.id, #we are not using a signal so we are setting the same \n",
    "        required_venues__symbols=[MARKETS_CONSTANTS.BINANCE_EV_SYMBOL],\n",
    "        calendar_name=\"24/7\",\n",
    "        tracking_funds_expected_exposure_from_latest_holdings=False, \n",
    "        is_asset_only=False,\n",
    "        backtest_table_price_column_name=\"close\",\n",
    "        target_portfolio_about=dict(description= \"Test Portfolio For example\",\n",
    "                                    signal_name= \"No signal\",\n",
    "                                    signal_description=\"no descritpiont\",\n",
    "                                    rebalance_strategy_name=\"no rebalance\")\n",
    "    )\n",
    "\n",
    "\n",
    "# Create Backtesting Portfolio\n",
    "backtest_portfolio = create_portfolio(\n",
    "    MARKETS_CONSTANTS.PORTFOLIO_BUILD_FOR_BACKTEST, \"Example Portfolio\",portfolio_ts,\n",
    ")\n",
    "print(\"Created Backtest Portfolio:\", backtest_portfolio)\n"
   ],
   "outputs": [
    {
     "ename": "ValidationError",
     "evalue": "2 validation errors for TargetPortfolio\navailable_in_venues\n  Field required [type=missing, input_value={'id': 32, 'portfolio_nam...e': 'close', 'tags': []}, input_type=dict]\n    For further information visit https://errors.pydantic.dev/2.11/v/missing\nrequired_venues\n  Extra inputs are not permitted [type=extra_forbidden, input_value=[9], input_type=list]\n    For further information visit https://errors.pydantic.dev/2.11/v/extra_forbidden",
     "output_type": "error",
     "traceback": [
      "\u001B[0;31m---------------------------------------------------------------------------\u001B[0m",
      "\u001B[0;31mValidationError\u001B[0m                           Traceback (most recent call last)",
      "Cell \u001B[0;32mIn[5], line 33\u001B[0m\n\u001B[1;32m     14\u001B[0m     \u001B[38;5;28;01mreturn\u001B[39;00m TargetPortfolio\u001B[38;5;241m.\u001B[39mcreate_from_time_series(\n\u001B[1;32m     15\u001B[0m         portfolio_name\u001B[38;5;241m=\u001B[39mportfolio_name,\n\u001B[1;32m     16\u001B[0m         build_purpose\u001B[38;5;241m=\u001B[39mbuild_purpose,\n\u001B[0;32m   (...)\u001B[0m\n\u001B[1;32m     28\u001B[0m                                     rebalance_strategy_name\u001B[38;5;241m=\u001B[39m\u001B[38;5;124m\"\u001B[39m\u001B[38;5;124mno rebalance\u001B[39m\u001B[38;5;124m\"\u001B[39m)\n\u001B[1;32m     29\u001B[0m     )\n\u001B[1;32m     32\u001B[0m \u001B[38;5;66;03m# Create Backtesting Portfolio\u001B[39;00m\n\u001B[0;32m---> 33\u001B[0m backtest_portfolio \u001B[38;5;241m=\u001B[39m \u001B[43mcreate_portfolio\u001B[49m\u001B[43m(\u001B[49m\n\u001B[1;32m     34\u001B[0m \u001B[43m    \u001B[49m\u001B[43mMARKETS_CONSTANTS\u001B[49m\u001B[38;5;241;43m.\u001B[39;49m\u001B[43mPORTFOLIO_BUILD_FOR_BACKTEST\u001B[49m\u001B[43m,\u001B[49m\u001B[43m \u001B[49m\u001B[38;5;124;43m\"\u001B[39;49m\u001B[38;5;124;43mExample Portfolio\u001B[39;49m\u001B[38;5;124;43m\"\u001B[39;49m\u001B[43m,\u001B[49m\u001B[43mportfolio_ts\u001B[49m\u001B[43m,\u001B[49m\n\u001B[1;32m     35\u001B[0m \u001B[43m)\u001B[49m\n\u001B[1;32m     36\u001B[0m \u001B[38;5;28mprint\u001B[39m(\u001B[38;5;124m\"\u001B[39m\u001B[38;5;124mCreated Backtest Portfolio:\u001B[39m\u001B[38;5;124m\"\u001B[39m, backtest_portfolio)\n",
      "Cell \u001B[0;32mIn[5], line 14\u001B[0m, in \u001B[0;36mcreate_portfolio\u001B[0;34m(build_purpose, portfolio_name, portfolio_ts)\u001B[0m\n\u001B[1;32m     10\u001B[0m     \u001B[38;5;28mprint\u001B[39m(\u001B[38;5;124mf\u001B[39m\u001B[38;5;124m\"\u001B[39m\u001B[38;5;124mPortfolio \u001B[39m\u001B[38;5;124m'\u001B[39m\u001B[38;5;132;01m{\u001B[39;00mportfolio_name\u001B[38;5;132;01m}\u001B[39;00m\u001B[38;5;124m'\u001B[39m\u001B[38;5;124m already exists.\u001B[39m\u001B[38;5;124m\"\u001B[39m)\n\u001B[1;32m     11\u001B[0m     \u001B[38;5;28;01mreturn\u001B[39;00m existing_portfolios[\u001B[38;5;241m0\u001B[39m]\n\u001B[0;32m---> 14\u001B[0m \u001B[38;5;28;01mreturn\u001B[39;00m \u001B[43mTargetPortfolio\u001B[49m\u001B[38;5;241;43m.\u001B[39;49m\u001B[43mcreate_from_time_series\u001B[49m\u001B[43m(\u001B[49m\n\u001B[1;32m     15\u001B[0m \u001B[43m    \u001B[49m\u001B[43mportfolio_name\u001B[49m\u001B[38;5;241;43m=\u001B[39;49m\u001B[43mportfolio_name\u001B[49m\u001B[43m,\u001B[49m\n\u001B[1;32m     16\u001B[0m \u001B[43m    \u001B[49m\u001B[43mbuild_purpose\u001B[49m\u001B[38;5;241;43m=\u001B[39;49m\u001B[43mbuild_purpose\u001B[49m\u001B[43m,\u001B[49m\n\u001B[1;32m     17\u001B[0m \u001B[43m    \u001B[49m\u001B[43mis_active\u001B[49m\u001B[38;5;241;43m=\u001B[39;49m\u001B[38;5;28;43;01mTrue\u001B[39;49;00m\u001B[43m,\u001B[49m\n\u001B[1;32m     18\u001B[0m \u001B[43m    \u001B[49m\u001B[43mlocal_time_serie_id\u001B[49m\u001B[38;5;241;43m=\u001B[39;49m\u001B[43mportfolio_ts\u001B[49m\u001B[38;5;241;43m.\u001B[39;49m\u001B[43mlocal_metadata\u001B[49m\u001B[38;5;241;43m.\u001B[39;49m\u001B[43mid\u001B[49m\u001B[43m,\u001B[49m\u001B[43m  \u001B[49m\u001B[38;5;66;43;03m# Example ID\u001B[39;49;00m\n\u001B[1;32m     19\u001B[0m \u001B[43m    \u001B[49m\u001B[43msignal_local_time_serie_id\u001B[49m\u001B[38;5;241;43m=\u001B[39;49m\u001B[43mportfolio_ts\u001B[49m\u001B[38;5;241;43m.\u001B[39;49m\u001B[43mlocal_metadata\u001B[49m\u001B[38;5;241;43m.\u001B[39;49m\u001B[43mid\u001B[49m\u001B[43m,\u001B[49m\u001B[43m \u001B[49m\u001B[38;5;66;43;03m#we are not using a signal so we are setting the same \u001B[39;49;00m\n\u001B[1;32m     20\u001B[0m \u001B[43m    \u001B[49m\u001B[43mrequired_venues__symbols\u001B[49m\u001B[38;5;241;43m=\u001B[39;49m\u001B[43m[\u001B[49m\u001B[43mMARKETS_CONSTANTS\u001B[49m\u001B[38;5;241;43m.\u001B[39;49m\u001B[43mBINANCE_EV_SYMBOL\u001B[49m\u001B[43m]\u001B[49m\u001B[43m,\u001B[49m\n\u001B[1;32m     21\u001B[0m \u001B[43m    \u001B[49m\u001B[43mcalendar_name\u001B[49m\u001B[38;5;241;43m=\u001B[39;49m\u001B[38;5;124;43m\"\u001B[39;49m\u001B[38;5;124;43m24/7\u001B[39;49m\u001B[38;5;124;43m\"\u001B[39;49m\u001B[43m,\u001B[49m\n\u001B[1;32m     22\u001B[0m \u001B[43m    \u001B[49m\u001B[43mtracking_funds_expected_exposure_from_latest_holdings\u001B[49m\u001B[38;5;241;43m=\u001B[39;49m\u001B[38;5;28;43;01mFalse\u001B[39;49;00m\u001B[43m,\u001B[49m\u001B[43m \u001B[49m\n\u001B[1;32m     23\u001B[0m \u001B[43m    \u001B[49m\u001B[43mis_asset_only\u001B[49m\u001B[38;5;241;43m=\u001B[39;49m\u001B[38;5;28;43;01mFalse\u001B[39;49;00m\u001B[43m,\u001B[49m\n\u001B[1;32m     24\u001B[0m \u001B[43m    \u001B[49m\u001B[43mbacktest_table_price_column_name\u001B[49m\u001B[38;5;241;43m=\u001B[39;49m\u001B[38;5;124;43m\"\u001B[39;49m\u001B[38;5;124;43mclose\u001B[39;49m\u001B[38;5;124;43m\"\u001B[39;49m\u001B[43m,\u001B[49m\n\u001B[1;32m     25\u001B[0m \u001B[43m    \u001B[49m\u001B[43mtarget_portfolio_about\u001B[49m\u001B[38;5;241;43m=\u001B[39;49m\u001B[38;5;28;43mdict\u001B[39;49m\u001B[43m(\u001B[49m\u001B[43mdescription\u001B[49m\u001B[38;5;241;43m=\u001B[39;49m\u001B[43m \u001B[49m\u001B[38;5;124;43m\"\u001B[39;49m\u001B[38;5;124;43mTest Portfolio For example\u001B[39;49m\u001B[38;5;124;43m\"\u001B[39;49m\u001B[43m,\u001B[49m\n\u001B[1;32m     26\u001B[0m \u001B[43m                                \u001B[49m\u001B[43msignal_name\u001B[49m\u001B[38;5;241;43m=\u001B[39;49m\u001B[43m \u001B[49m\u001B[38;5;124;43m\"\u001B[39;49m\u001B[38;5;124;43mNo signal\u001B[39;49m\u001B[38;5;124;43m\"\u001B[39;49m\u001B[43m,\u001B[49m\n\u001B[1;32m     27\u001B[0m \u001B[43m                                \u001B[49m\u001B[43msignal_description\u001B[49m\u001B[38;5;241;43m=\u001B[39;49m\u001B[38;5;124;43m\"\u001B[39;49m\u001B[38;5;124;43mno descritpiont\u001B[39;49m\u001B[38;5;124;43m\"\u001B[39;49m\u001B[43m,\u001B[49m\n\u001B[1;32m     28\u001B[0m \u001B[43m                                \u001B[49m\u001B[43mrebalance_strategy_name\u001B[49m\u001B[38;5;241;43m=\u001B[39;49m\u001B[38;5;124;43m\"\u001B[39;49m\u001B[38;5;124;43mno rebalance\u001B[39;49m\u001B[38;5;124;43m\"\u001B[39;49m\u001B[43m)\u001B[49m\n\u001B[1;32m     29\u001B[0m \u001B[43m\u001B[49m\u001B[43m)\u001B[49m\n",
      "File \u001B[0;32m~/code/MainSequenceClientSide/mainsequence-sdk/mainsequence/client/models_vam.py:833\u001B[0m, in \u001B[0;36mTargetPortfolio.create_from_time_series\u001B[0;34m(cls, portfolio_name, build_purpose, local_time_serie_id, signal_local_time_serie_id, is_active, required_venues__symbols, calendar_name, tracking_funds_expected_exposure_from_latest_holdings, is_asset_only, target_portfolio_about, backtest_table_price_column_name, tags, timeout)\u001B[0m\n\u001B[1;32m    830\u001B[0m \u001B[38;5;28;01mif\u001B[39;00m r\u001B[38;5;241m.\u001B[39mstatus_code \u001B[38;5;129;01mnot\u001B[39;00m \u001B[38;5;129;01min\u001B[39;00m [\u001B[38;5;241m201\u001B[39m]:\n\u001B[1;32m    831\u001B[0m     \u001B[38;5;28;01mraise\u001B[39;00m \u001B[38;5;167;01mException\u001B[39;00m(\u001B[38;5;124mf\u001B[39m\u001B[38;5;124m\"\u001B[39m\u001B[38;5;124m \u001B[39m\u001B[38;5;132;01m{\u001B[39;00mr\u001B[38;5;241m.\u001B[39mtext\u001B[38;5;132;01m}\u001B[39;00m\u001B[38;5;124m\"\u001B[39m)\n\u001B[0;32m--> 833\u001B[0m \u001B[38;5;28;01mreturn\u001B[39;00m \u001B[38;5;28;43mcls\u001B[39;49m\u001B[43m(\u001B[49m\u001B[38;5;241;43m*\u001B[39;49m\u001B[38;5;241;43m*\u001B[39;49m\u001B[43mr\u001B[49m\u001B[38;5;241;43m.\u001B[39;49m\u001B[43mjson\u001B[49m\u001B[43m(\u001B[49m\u001B[43m)\u001B[49m\u001B[43m)\u001B[49m\n",
      "File \u001B[0;32m~/code/MainSequenceClientSide/mainsequence-sdk/venv/lib/python3.9/site-packages/pydantic/main.py:253\u001B[0m, in \u001B[0;36mBaseModel.__init__\u001B[0;34m(self, **data)\u001B[0m\n\u001B[1;32m    251\u001B[0m \u001B[38;5;66;03m# `__tracebackhide__` tells pytest and some other tools to omit this function from tracebacks\u001B[39;00m\n\u001B[1;32m    252\u001B[0m __tracebackhide__ \u001B[38;5;241m=\u001B[39m \u001B[38;5;28;01mTrue\u001B[39;00m\n\u001B[0;32m--> 253\u001B[0m validated_self \u001B[38;5;241m=\u001B[39m \u001B[38;5;28;43mself\u001B[39;49m\u001B[38;5;241;43m.\u001B[39;49m\u001B[43m__pydantic_validator__\u001B[49m\u001B[38;5;241;43m.\u001B[39;49m\u001B[43mvalidate_python\u001B[49m\u001B[43m(\u001B[49m\u001B[43mdata\u001B[49m\u001B[43m,\u001B[49m\u001B[43m \u001B[49m\u001B[43mself_instance\u001B[49m\u001B[38;5;241;43m=\u001B[39;49m\u001B[38;5;28;43mself\u001B[39;49m\u001B[43m)\u001B[49m\n\u001B[1;32m    254\u001B[0m \u001B[38;5;28;01mif\u001B[39;00m \u001B[38;5;28mself\u001B[39m \u001B[38;5;129;01mis\u001B[39;00m \u001B[38;5;129;01mnot\u001B[39;00m validated_self:\n\u001B[1;32m    255\u001B[0m     warnings\u001B[38;5;241m.\u001B[39mwarn(\n\u001B[1;32m    256\u001B[0m         \u001B[38;5;124m'\u001B[39m\u001B[38;5;124mA custom validator is returning a value other than `self`.\u001B[39m\u001B[38;5;130;01m\\n\u001B[39;00m\u001B[38;5;124m'\u001B[39m\n\u001B[1;32m    257\u001B[0m         \u001B[38;5;124m\"\u001B[39m\u001B[38;5;124mReturning anything other than `self` from a top level model validator isn\u001B[39m\u001B[38;5;124m'\u001B[39m\u001B[38;5;124mt supported when validating via `__init__`.\u001B[39m\u001B[38;5;130;01m\\n\u001B[39;00m\u001B[38;5;124m\"\u001B[39m\n\u001B[1;32m    258\u001B[0m         \u001B[38;5;124m'\u001B[39m\u001B[38;5;124mSee the `model_validator` docs (https://docs.pydantic.dev/latest/concepts/validators/#model-validators) for more details.\u001B[39m\u001B[38;5;124m'\u001B[39m,\n\u001B[1;32m    259\u001B[0m         stacklevel\u001B[38;5;241m=\u001B[39m\u001B[38;5;241m2\u001B[39m,\n\u001B[1;32m    260\u001B[0m     )\n",
      "\u001B[0;31mValidationError\u001B[0m: 2 validation errors for TargetPortfolio\navailable_in_venues\n  Field required [type=missing, input_value={'id': 32, 'portfolio_nam...e': 'close', 'tags': []}, input_type=dict]\n    For further information visit https://errors.pydantic.dev/2.11/v/missing\nrequired_venues\n  Extra inputs are not permitted [type=extra_forbidden, input_value=[9], input_type=list]\n    For further information visit https://errors.pydantic.dev/2.11/v/extra_forbidden"
     ]
    }
   ],
   "execution_count": 5
  },
  {
   "metadata": {
    "ExecuteTime": {
     "end_time": "2025-04-10T19:27:26.738656850Z",
     "start_time": "2025-04-10T18:42:02.532445Z"
    }
   },
   "cell_type": "code",
   "source": "\n",
   "id": "9f064e10fcd3b994",
   "outputs": [
    {
     "data": {
      "text/plain": [
       "126"
      ]
     },
     "execution_count": 13,
     "metadata": {},
     "output_type": "execute_result"
    }
   ],
   "execution_count": 13
  },
  {
   "metadata": {},
   "cell_type": "code",
   "outputs": [],
   "execution_count": null,
   "source": "portfolio_ts",
   "id": "d54497b5098e3c39"
  },
  {
   "cell_type": "markdown",
   "id": "49878c76",
   "metadata": {},
   "source": [
    "## Step 4: Create Index Asset Portfolio\n",
    "An **Index Asset Portfolio** is created by linking both execution and backtesting portfolios."
   ]
  },
  {
   "cell_type": "code",
   "execution_count": 7,
   "id": "e1a874596ebd49a5",
   "metadata": {
    "ExecuteTime": {
     "end_time": "2025-04-10T19:27:26.738858416Z",
     "start_time": "2025-02-28T14:13:26.014032Z"
    }
   },
   "outputs": [],
   "source": [
    "valuation_asset=Asset.filter(symbol=\"USD\",asset_type=MARKETS_CONSTANTS.ASSET_TYPE_CURRENCY,\n",
    "                             execution_venue__symbol=MARKETS_CONSTANTS.MAIN_SEQUENCE_PORTFOLIOS_EV)\n",
    "valuation_asset=valuation_asset[0]"
   ]
  },
  {
   "cell_type": "code",
   "execution_count": null,
   "id": "d46bf3d66e89959d",
   "metadata": {
    "ExecuteTime": {
     "end_time": "2025-04-10T19:27:26.738927080Z",
     "start_time": "2025-02-28T14:13:26.115303Z"
    }
   },
   "outputs": [],
   "source": []
  },
  {
   "cell_type": "markdown",
   "id": "2f8a373f",
   "metadata": {},
   "source": [
    "## Step 5: Query the Newly Created Index Asset Portfolio\n",
    "We verify the creation by querying the portfolio."
   ]
  },
  {
   "cell_type": "code",
   "execution_count": 8,
   "id": "cec51470",
   "metadata": {
    "ExecuteTime": {
     "end_time": "2025-04-10T19:27:26.738996204Z",
     "start_time": "2025-02-28T14:13:26.160980Z"
    }
   },
   "outputs": [
    {
     "name": "stdout",
     "output_type": "stream",
     "text": [
      "Created Index Asset Portfolio: orm_class='TargetPortfolioIndexAsset' id=27043 symbol='LPQY7F-612-execution_reference/FBXUKW-611-backtesting_reference' name='Asset Tracking portfolios Execution Portfolio' asset_type='index' can_trade=False calendar=Calendar: 1 execution_venue=ExecutionVenue: 5 delisted_datetime=None unique_identifier='LPQY7F-612-execution_reference/FBXUKW-611-backtesting_reference_index_main_sequence_portfolios' unique_symbol='LPQY7F-612-execution_reference/FBXUKW-611-backtesting_reference' valuation_asset=AssetMixin: 15510 live_portfolio=TargetPortfolio: 682 backtest_portfolio=TargetPortfolio: 685\n"
     ]
    }
   ],
   "source": [
    "\n",
    "\n",
    "index_asset_portfolio = Asset.create_or_update_index_asset_from_portfolios(\n",
    "    live_portfolio=execution_portfolio.id,\n",
    "    backtest_portfolio=backtest_portfolio.id,\n",
    "    valuation_asset=valuation_asset.id,\n",
    "    calendar=\"24/7\",\n",
    ")\n",
    "\n",
    "print(\"Created Index Asset Portfolio:\", index_asset_portfolio)\n"
   ]
  },
  {
   "cell_type": "markdown",
   "id": "49ba5b4e9089b40c",
   "metadata": {},
   "source": [
    "## Step 6: Adding Weights to the Portfolios\n",
    "When using the VirtualFundBuilder signal and time series composition, there is no need to add weights. However,\n",
    "if we want to add weights to our portfolios without using VirtualFundBuilder, we can do this manually.\n",
    "\n",
    "Once the portfolio is created, we need to build the FrontEndDetails. This will allow us to link our assets and portfolios in the graphical user interface.\n"
   ]
  },
  {
   "cell_type": "code",
   "execution_count": 9,
   "id": "cb986b6ef86b8cc0",
   "metadata": {
    "ExecuteTime": {
     "end_time": "2025-04-10T19:27:26.739057457Z",
     "start_time": "2025-02-28T14:13:26.444064Z"
    }
   },
   "outputs": [
    {
     "data": {
      "text/plain": [
       "TargetPortfolioFrontEndDetails: 682"
      ]
     },
     "execution_count": 9,
     "metadata": {},
     "output_type": "execute_result"
    }
   ],
   "source": [
    "from mainsequence.vam_client.models import TargetPortfolioFrontEndDetails\n",
    "\n",
    "def ensure_front_end_details(portfolio):\n",
    "    front_end_detail_portfolio = TargetPortfolioFrontEndDetails.filter(target_portfolio__id=portfolio.id)\n",
    "    \n",
    "    if len(front_end_detail_portfolio) == 0:\n",
    "        front_end_details_kwargs = {\n",
    "            \"target_portfolio_about\": {\n",
    "                \"description\": f\"Test Example Portfolio {portfolio.portfolio_ticker}\",\n",
    "                \"signal_name\": \"Manual Signal\",\n",
    "                \"signal_description\": \"\"\"## Explanation\n",
    "                Markdown Explanation example\n",
    "                \"\"\",\n",
    "                \"rebalance_strategy_name\": \"Manual Rebalance\",\n",
    "            }\n",
    "        }\n",
    "        front_end_detail_portfolio = TargetPortfolioFrontEndDetails.create_or_update(\n",
    "            **front_end_details_kwargs,\n",
    "            target_portfolio_id=portfolio.id,\n",
    "            backtest_table_time_index_name=\"time_index\",\n",
    "            backtest_table_price_column_name=\"portfolio\",\n",
    "            tags=[\"example portfolios\"]\n",
    "        )\n",
    "    return front_end_detail_portfolio\n",
    "\n",
    "# Apply function to both live and backtest portfolios\n",
    "ensure_front_end_details(index_asset_portfolio.backtest_portfolio)\n",
    "ensure_front_end_details(index_asset_portfolio.live_portfolio)"
   ]
  },
  {
   "cell_type": "markdown",
   "id": "6f7134052eb9895d",
   "metadata": {},
   "source": [
    "## Step 7: Adding Weights to the Portfolios\n",
    "When using the VirtualFundBuilder signal and time series composition, there is no need to add weights. However,\n",
    "if we want to add weights to our portfolios without using VirtualFundBuilder, we can do this manually.\n"
   ]
  },
  {
   "cell_type": "code",
   "execution_count": 10,
   "id": "176d56dd1152e9ff",
   "metadata": {
    "ExecuteTime": {
     "end_time": "2025-04-10T19:27:26.739133022Z",
     "start_time": "2025-02-28T14:13:27.013797Z"
    }
   },
   "outputs": [
    {
     "data": {
      "text/plain": [
       "[TargetPortfolioFrontEndDetails: 685]"
      ]
     },
     "execution_count": 10,
     "metadata": {},
     "output_type": "execute_result"
    }
   ],
   "source": [
    "TargetPortfolioFrontEndDetails.filter(target_portfolio__id=index_asset_portfolio.backtest_portfolio.id)"
   ]
  },
  {
   "cell_type": "code",
   "execution_count": 11,
   "id": "2be779c6df54a849",
   "metadata": {
    "ExecuteTime": {
     "end_time": "2025-04-10T19:27:26.739209357Z",
     "start_time": "2025-02-28T14:13:27.212995Z"
    }
   },
   "outputs": [],
   "source": [
    "assets=Asset.filter(symbol__in=[\"BTCUSDT\",\"ETHUSDT\"],execution_venue__symbol=MARKETS_CONSTANTS.BINANCE_EV_SYMBOL)\n",
    "assets=assets[:2]"
   ]
  },
  {
   "cell_type": "code",
   "execution_count": 12,
   "id": "1957ada9150530be",
   "metadata": {
    "ExecuteTime": {
     "end_time": "2025-04-10T19:27:26.739266173Z",
     "start_time": "2025-02-28T14:13:27.343734Z"
    }
   },
   "outputs": [
    {
     "data": {
      "text/plain": [
       "0.7836151372395902"
      ]
     },
     "execution_count": 12,
     "metadata": {},
     "output_type": "execute_result"
    }
   ],
   "source": [
    "np.random.rand()"
   ]
  },
  {
   "cell_type": "code",
   "execution_count": 13,
   "id": "5d6e86635f68847a",
   "metadata": {
    "ExecuteTime": {
     "end_time": "2025-04-10T19:27:26.739334196Z",
     "start_time": "2025-02-28T14:13:27.439195Z"
    }
   },
   "outputs": [],
   "source": [
    "#Sends the calculated backtesting weights to the portfolio management system in VAM.\n",
    "from mainsequence.vam_client import HistoricalWeights\n",
    "\n",
    "#simulate weights mapping\n",
    "\n",
    "for  weights_date in backtesting_portfolio_ts.get_df_between_dates().index:\n",
    "    \n",
    "    w=np.random.rand()\n",
    "    \n",
    "    positions_list=[{\"weight_notional_exposure\":(1-c)*w,\"unique_identifier\":a.unique_identifier} for c,a in enumerate(assets)]\n",
    "\n",
    "\n",
    "    hw=HistoricalWeights.add_from_time_serie(\n",
    "                        local_time_serie_id=backtesting_portfolio_ts.local_metadata.id,\n",
    "                        weights_date=weights_date,\n",
    "                        positions_list=positions_list\n",
    "                    )"
   ]
  },
  {
   "cell_type": "code",
   "execution_count": 14,
   "id": "b3fbe70b518c3723",
   "metadata": {
    "ExecuteTime": {
     "end_time": "2025-04-10T19:27:26.739389019Z",
     "start_time": "2025-02-28T14:13:34.284793Z"
    }
   },
   "outputs": [
    {
     "name": "stdout",
     "output_type": "stream",
     "text": [
      "The latest weights of the portfolio can be found here http://192.168.178.69:8010/dashboards/portfolio-detail/?target_portfolio_id=685\n"
     ]
    }
   ],
   "source": [
    "print(\"The latest weights of the portfolio can be found here\",index_asset_portfolio.backtest_portfolio_details_url)"
   ]
  }
 ],
 "metadata": {
  "kernelspec": {
   "display_name": "venv",
   "language": "python",
   "name": "python3"
  },
  "language_info": {
   "codemirror_mode": {
    "name": "ipython",
    "version": 3
   },
   "file_extension": ".py",
   "mimetype": "text/x-python",
   "name": "python",
   "nbconvert_exporter": "python",
   "pygments_lexer": "ipython3",
   "version": "3.9.19"
  }
 },
 "nbformat": 4,
 "nbformat_minor": 5
}
