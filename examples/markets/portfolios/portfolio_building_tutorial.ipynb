{
 "cells": [
  {
   "cell_type": "markdown",
   "id": "27ff62b2",
   "metadata": {},
   "source": [
    "# Querying and Creating Portfolios in VAM Client\n",
    "This notebook serves as a tutorial for querying, creating, and managing portfolios using the `mainsequence.client` package. It covers:\n",
    "- Querying existing portfolios using filters\n",
    "- Creating portfolios from time series\n",
    "- Creating an index asset portfolio\n",
    "- Querying the newly created index asset portfolio"
   ]
  },
  {
   "cell_type": "markdown",
   "id": "d0feb276",
   "metadata": {},
   "source": [
    "## Step 1: Import Required Modules\n",
    "First, we import the necessary modules and constants."
   ]
  },
  {
   "cell_type": "code",
   "id": "1dd7de16",
   "metadata": {
    "ExecuteTime": {
     "end_time": "2025-04-10T20:45:57.561452Z",
     "start_time": "2025-04-10T20:45:57.557150Z"
    }
   },
   "source": [
    "import os\n",
    "from pathlib import Path\n",
    "import dotenv\n",
    "# Save the original working directory (only once)\n",
    "try:\n",
    "    original_wd\n",
    "except NameError:\n",
    "    original_wd = os.getcwd()\n",
    "\n",
    "# Compute the target directory: two levels up from the original working directory\n",
    "# For example, if original_wd is /Users/username/project/notebooks,\n",
    "# then target_dir becomes /Users/username\n",
    "target_dir = Path(original_wd).parents[2]\n",
    "\n",
    "# Change the working directory to the target directory\n",
    "os.chdir(target_dir)\n",
    "print(\"Working directory set to:\", os.getcwd())\n",
    "\n",
    "import dotenv\n",
    "dotenv.load_dotenv('.env')\n",
    "from mainsequence.client import DataUpdates\n",
    "import datetime\n",
    "from mainsequence.client import TargetPortfolio, Asset,TargetPortfolioIndexAsset\n",
    "from mainsequence import MARKETS_CONSTANTS \n"
   ],
   "outputs": [
    {
     "name": "stdout",
     "output_type": "stream",
     "text": [
      "Working directory set to: /home/jose/code/MainSequenceClientSide/mainsequence-sdk\n"
     ]
    }
   ],
   "execution_count": 8
  },
  {
   "cell_type": "markdown",
   "id": "68ab4d0d",
   "metadata": {},
   "source": [
    "## Step 2: Query Portfolios\n",
    "We query an existing portfolio using the `local_time_serie_hash_id` filter. This returns a single portfolio object."
   ]
  },
  {
   "cell_type": "code",
   "id": "6e1b78fc",
   "metadata": {
    "ExecuteTime": {
     "end_time": "2025-04-10T20:43:10.380176Z",
     "start_time": "2025-04-10T20:43:10.034313Z"
    }
   },
   "source": [
    "\n",
    "# Query a single TargetPortfolio with a specific ticker\n",
    "portfolio_ticker = \"TICKER1\"\n",
    "portfolio = TargetPortfolio.filter(portfolio_ticker=portfolio_ticker)\n",
    "print(\"Queried Portfolio:\", portfolio)\n"
   ],
   "outputs": [
    {
     "name": "stdout",
     "output_type": "stream",
     "text": [
      "Queried Portfolio: []\n"
     ]
    }
   ],
   "execution_count": 2
  },
  {
   "cell_type": "markdown",
   "id": "d1749847",
   "metadata": {},
   "source": [
    "## Step 3: Create Portfolios from Time Series\n",
    "We create two portfolios for different purposes:\n",
    "- **Execution Portfolio** for real-time execution\n",
    "- **Backtesting Portfolio** for simulation and historical analysis\n",
    "\n",
    "### !!! Important !!!\n",
    "\n",
    "If you want to start building portfolios we recommend you to use our VirtualFundBuilder. This will help you have a more fluid \n",
    "and seamless workflows. In this example we will show you how to build a portfolio without using our Wrapper. A few important considerations\n",
    "\n",
    "1.  Each portfolio requires a `local_signal_time_serie` and a `local_time_serie` that should come from TDAG, this is a unique identifier in the backend and placing a random integer will likely collide therefore we need to build a time serie that has a time_index and at least a column with a column \"close\" \n",
    "\n"
   ]
  },
  {
   "cell_type": "code",
   "id": "4de7dc66437cbb4c",
   "metadata": {
    "ExecuteTime": {
     "end_time": "2025-04-10T20:43:24.563594Z",
     "start_time": "2025-04-10T20:43:10.784644Z"
    }
   },
   "source": [
    "from mainsequence.tdag.time_series import TimeSerie\n",
    "from mainsequence.client import DataUpdates\n",
    "import numpy as np\n",
    "import datetime\n",
    "import pandas as pd\n",
    "\n",
    "class PortfolioExample(TimeSerie):\n",
    "    \n",
    "    @TimeSerie._post_init_routines()\n",
    "    def __init__(self, portfolio_volatility: float,source_prices:str, *args, **kwargs):\n",
    "        self.portfolio_volatility = portfolio_volatility\n",
    "        self.source_prices=source_prices\n",
    "        super().__init__(*args, **kwargs)\n",
    "        \n",
    "    def update(self, update_statistics):\n",
    "        \"\"\"\n",
    "        Update the time series by simulating a new data point based on the last observation,\n",
    "        or simulate a complete series if no observations exist.\n",
    "\n",
    "        :param update_statistics: A dict to record update statistics (optional).\n",
    "        :return: pd.DataFrame with index as a timezone-aware datetime (UTC) and a column \"close\".\n",
    "        \"\"\"\n",
    "        last_observation = self.get_last_observation()\n",
    "        dt = 1.0  # one day time increment\n",
    "\n",
    "        if last_observation is not None:\n",
    "            return pd.DataFrame() # do not make sequential updats for example\n",
    "          \n",
    "        else:\n",
    "            # If no observation exists, simulate a daily series for the last 30 days.\n",
    "            end_date = datetime.datetime.now(datetime.timezone.utc)\n",
    "            start_date = end_date - datetime.timedelta(days=30)\n",
    "            # Generate a date range with daily frequency (timezone-aware in UTC).\n",
    "            dates = pd.date_range(start=start_date, end=end_date, freq='D', tz=datetime.timezone.utc)\n",
    "            \n",
    "            # Initialize with a default price.\n",
    "            prices = [100.0]\n",
    "            for _ in range(1, len(dates)):\n",
    "                random_return = np.random.normal(loc=0, scale=self.portfolio_volatility * np.sqrt(dt))\n",
    "                new_price = prices[-1] * np.exp(random_return - 0.5 * self.portfolio_volatility**2 * dt)\n",
    "                prices.append(new_price)\n",
    "                \n",
    "            new_data = pd.DataFrame({\"close\": prices}, index=dates)\n",
    "        if last_observation is not None:\n",
    "            new_data=new_data[new_data.index>update_statistics._max_time_in_update_statistics]\n",
    "         \n",
    "        return new_data\n",
    "    \n",
    "    \n",
    "portfolio_ts=PortfolioExample(portfolio_volatility=.1,source_prices=\"backtest\")\n",
    "portfolio_ts.run(debug_mode=True,force_update=True)\n"
   ],
   "outputs": [
    {
     "name": "stderr",
     "output_type": "stream",
     "text": [
      "\u001B[2m2025-04-10T20:43:11.682553Z\u001B[0m [\u001B[33m\u001B[1mwarning  \u001B[0m] \u001B[1mYour TimeSeries is not in a python module this will likely bring exceptions when running in a pipeline\u001B[0m \u001B[36mapi_time_series\u001B[0m=\u001B[35mFalse\u001B[0m \u001B[36mapplication_name\u001B[0m=\u001B[35mms-sdk\u001B[0m \u001B[36mdata_source_id\u001B[0m=\u001B[35m1\u001B[0m \u001B[36mjob_run_id\u001B[0m=\u001B[35mNone\u001B[0m \u001B[36mlocal_hash_id\u001B[0m=\u001B[35mportfolioexample_f53f240ed0980b8f8bd541172af036ac\u001B[0m \u001B[36mlocal_hash_id_data_source\u001B[0m=\u001B[35m1\u001B[0m \u001B[36mproject_id\u001B[0m=\u001B[35m39\u001B[0m (at time_series.py:1770 in get_time_serie_source_code())\n",
      "\u001B[2m2025-04-10T20:43:11.689127Z\u001B[0m [\u001B[33m\u001B[1mwarning  \u001B[0m] \u001B[1mYour TimeSeries is not in a python module this will likely bring exceptions when running in a pipeline\u001B[0m \u001B[36mapi_time_series\u001B[0m=\u001B[35mFalse\u001B[0m \u001B[36mapplication_name\u001B[0m=\u001B[35mms-sdk\u001B[0m \u001B[36mdata_source_id\u001B[0m=\u001B[35m1\u001B[0m \u001B[36mjob_run_id\u001B[0m=\u001B[35mNone\u001B[0m \u001B[36mlocal_hash_id\u001B[0m=\u001B[35mportfolioexample_f53f240ed0980b8f8bd541172af036ac\u001B[0m \u001B[36mlocal_hash_id_data_source\u001B[0m=\u001B[35m1\u001B[0m \u001B[36mproject_id\u001B[0m=\u001B[35m39\u001B[0m (at time_series.py:1770 in get_time_serie_source_code())\n",
      "Overriding of current TracerProvider is not allowed\n",
      "\u001B[2m2025-04-10T20:43:17.500671Z\u001B[0m [\u001B[32m\u001B[1minfo     \u001B[0m] \u001B[1mUpdating Local Time Series for  PortfolioExample http://127.0.0.1:8000/local-time-series/details/?local_time_serie_id=127  for first time\u001B[0m \u001B[36mapi_time_series\u001B[0m=\u001B[35mFalse\u001B[0m \u001B[36mapplication_name\u001B[0m=\u001B[35mms-sdk\u001B[0m \u001B[36mdata_source_id\u001B[0m=\u001B[35m1\u001B[0m \u001B[36mhead_local_ts_hash_id\u001B[0m=\u001B[35mportfolioexample_f53f240ed0980b8f8bd541172af036ac\u001B[0m \u001B[36mjob_run_id\u001B[0m=\u001B[35mNone\u001B[0m \u001B[36mlocal_hash_id\u001B[0m=\u001B[35mportfolioexample_f53f240ed0980b8f8bd541172af036ac\u001B[0m \u001B[36mlocal_hash_id_data_source\u001B[0m=\u001B[35m1\u001B[0m \u001B[36mproject_id\u001B[0m=\u001B[35m39\u001B[0m \u001B[36mscheduler_name\u001B[0m=\u001B[35mDEBUG_portfolioexample_f53f240ed0980b8f8bd541172af036ac_1\u001B[0m (at time_series.py:2531 in update_local())\n",
      "\u001B[2m2025-04-10T20:43:18.083405Z\u001B[0m [\u001B[33m\u001B[1mwarning  \u001B[0m] \u001B[1mNo data returned from remote API for portfolioexample_f53f240ed0980b8f8bd541172af036ac\u001B[0m \u001B[36mapi_time_series\u001B[0m=\u001B[35mFalse\u001B[0m \u001B[36mapplication_name\u001B[0m=\u001B[35mms-sdk\u001B[0m \u001B[36mdata_source_id\u001B[0m=\u001B[35m1\u001B[0m \u001B[36mhead_local_ts_hash_id\u001B[0m=\u001B[35mportfolioexample_f53f240ed0980b8f8bd541172af036ac\u001B[0m \u001B[36mjob_run_id\u001B[0m=\u001B[35mNone\u001B[0m \u001B[36mlocal_hash_id\u001B[0m=\u001B[35mportfolioexample_f53f240ed0980b8f8bd541172af036ac\u001B[0m \u001B[36mlocal_hash_id_data_source\u001B[0m=\u001B[35m1\u001B[0m \u001B[36mproject_id\u001B[0m=\u001B[35m39\u001B[0m \u001B[36mscheduler_name\u001B[0m=\u001B[35mDEBUG_portfolioexample_f53f240ed0980b8f8bd541172af036ac_1\u001B[0m (at models_tdag.py:1274 in get_data_by_time_index())\n",
      "\u001B[2m2025-04-10T20:43:18.087835Z\u001B[0m [\u001B[32m\u001B[1minfo     \u001B[0m] \u001B[1mStarting upload of 31 rows in 1 chunk(s).\u001B[0m \u001B[36mapi_time_series\u001B[0m=\u001B[35mFalse\u001B[0m \u001B[36mapplication_name\u001B[0m=\u001B[35mms-sdk\u001B[0m \u001B[36mdata_source_id\u001B[0m=\u001B[35m1\u001B[0m \u001B[36mhead_local_ts_hash_id\u001B[0m=\u001B[35mportfolioexample_f53f240ed0980b8f8bd541172af036ac\u001B[0m \u001B[36mjob_run_id\u001B[0m=\u001B[35mNone\u001B[0m \u001B[36mlocal_hash_id\u001B[0m=\u001B[35mportfolioexample_f53f240ed0980b8f8bd541172af036ac\u001B[0m \u001B[36mlocal_hash_id_data_source\u001B[0m=\u001B[35m1\u001B[0m \u001B[36mproject_id\u001B[0m=\u001B[35m39\u001B[0m \u001B[36mscheduler_name\u001B[0m=\u001B[35mDEBUG_portfolioexample_f53f240ed0980b8f8bd541172af036ac_1\u001B[0m (at models_tdag.py:612 in post_data_frame_in_chunks())\n",
      "\u001B[2m2025-04-10T20:43:20.449186Z\u001B[0m [\u001B[32m\u001B[1minfo     \u001B[0m] \u001B[1mChunk 1/1 uploaded successfully.\u001B[0m \u001B[36mapi_time_series\u001B[0m=\u001B[35mFalse\u001B[0m \u001B[36mapplication_name\u001B[0m=\u001B[35mms-sdk\u001B[0m \u001B[36mdata_source_id\u001B[0m=\u001B[35m1\u001B[0m \u001B[36mhead_local_ts_hash_id\u001B[0m=\u001B[35mportfolioexample_f53f240ed0980b8f8bd541172af036ac\u001B[0m \u001B[36mjob_run_id\u001B[0m=\u001B[35mNone\u001B[0m \u001B[36mlocal_hash_id\u001B[0m=\u001B[35mportfolioexample_f53f240ed0980b8f8bd541172af036ac\u001B[0m \u001B[36mlocal_hash_id_data_source\u001B[0m=\u001B[35m1\u001B[0m \u001B[36mproject_id\u001B[0m=\u001B[35m39\u001B[0m \u001B[36mscheduler_name\u001B[0m=\u001B[35mDEBUG_portfolioexample_f53f240ed0980b8f8bd541172af036ac_1\u001B[0m (at models_tdag.py:646 in post_data_frame_in_chunks())\n",
      "\u001B[2m2025-04-10T20:43:21.920922Z\u001B[0m [\u001B[32m\u001B[1minfo     \u001B[0m] \u001B[1mLocal Time Series  PortfolioExample http://127.0.0.1:8000/local-time-series/details/?local_time_serie_id=127  updated\u001B[0m \u001B[36mapi_time_series\u001B[0m=\u001B[35mFalse\u001B[0m \u001B[36mapplication_name\u001B[0m=\u001B[35mms-sdk\u001B[0m \u001B[36mdata_source_id\u001B[0m=\u001B[35m1\u001B[0m \u001B[36mhead_local_ts_hash_id\u001B[0m=\u001B[35mportfolioexample_f53f240ed0980b8f8bd541172af036ac\u001B[0m \u001B[36mjob_run_id\u001B[0m=\u001B[35mNone\u001B[0m \u001B[36mlocal_hash_id\u001B[0m=\u001B[35mportfolioexample_f53f240ed0980b8f8bd541172af036ac\u001B[0m \u001B[36mlocal_hash_id_data_source\u001B[0m=\u001B[35m1\u001B[0m \u001B[36mproject_id\u001B[0m=\u001B[35m39\u001B[0m \u001B[36mscheduler_name\u001B[0m=\u001B[35mDEBUG_portfolioexample_f53f240ed0980b8f8bd541172af036ac_1\u001B[0m (at time_series.py:2557 in update_local())\n",
      "\u001B[2m2025-04-10T20:43:24.561523Z\u001B[0m [\u001B[32m\u001B[1minfo     \u001B[0m] \u001B[1mHeartbeat thread stopped.     \u001B[0m \u001B[36mapi_time_series\u001B[0m=\u001B[35mFalse\u001B[0m \u001B[36mapplication_name\u001B[0m=\u001B[35mms-sdk\u001B[0m \u001B[36mdata_source_id\u001B[0m=\u001B[35m1\u001B[0m \u001B[36mhead_local_ts_hash_id\u001B[0m=\u001B[35mportfolioexample_f53f240ed0980b8f8bd541172af036ac\u001B[0m \u001B[36mjob_run_id\u001B[0m=\u001B[35mNone\u001B[0m \u001B[36mlocal_hash_id\u001B[0m=\u001B[35mportfolioexample_f53f240ed0980b8f8bd541172af036ac\u001B[0m \u001B[36mlocal_hash_id_data_source\u001B[0m=\u001B[35m1\u001B[0m \u001B[36mproject_id\u001B[0m=\u001B[35m39\u001B[0m \u001B[36mscheduler_name\u001B[0m=\u001B[35mDEBUG_portfolioexample_f53f240ed0980b8f8bd541172af036ac_1\u001B[0m (at models_tdag.py:988 in stop_heart_beat())\n"
     ]
    }
   ],
   "execution_count": 3
  },
  {
   "cell_type": "code",
   "id": "bf28faaa65451aa1",
   "metadata": {
    "ExecuteTime": {
     "end_time": "2025-04-10T20:43:25.154621Z",
     "start_time": "2025-04-10T20:43:24.570092Z"
    }
   },
   "source": [
    "#we can get our simulated prices from TDAG Backend\n",
    "print(f\"Data in time series\",portfolio_ts)\n",
    "portfolio_ts.get_df_between_dates()"
   ],
   "outputs": [
    {
     "name": "stdout",
     "output_type": "stream",
     "text": [
      "Data in time series PortfolioExample http://127.0.0.1:8000/local-time-series/details/?local_time_serie_id=127\n"
     ]
    },
    {
     "data": {
      "text/plain": [
       "                                       close\n",
       "time_index                                  \n",
       "2025-03-11 19:21:16.768000+00:00  100.000000\n",
       "2025-03-11 19:24:06.269000+00:00  100.000000\n",
       "2025-03-11 19:27:17.342000+00:00  100.000000\n",
       "2025-03-11 19:28:13.756000+00:00  100.000000\n",
       "2025-03-11 20:32:54.714000+00:00  100.000000\n",
       "2025-03-11 20:43:18.084000+00:00  100.000000\n",
       "2025-03-12 20:43:18.084000+00:00   86.214177\n",
       "2025-03-13 20:43:18.084000+00:00  100.961729\n",
       "2025-03-14 20:43:18.084000+00:00   95.929417\n",
       "2025-03-15 20:43:18.084000+00:00   76.433216\n",
       "2025-03-16 20:43:18.084000+00:00   66.920199\n",
       "2025-03-17 20:43:18.084000+00:00   55.981979\n",
       "2025-03-18 20:43:18.084000+00:00   58.645552\n",
       "2025-03-19 20:43:18.084000+00:00   55.727395\n",
       "2025-03-20 20:43:18.084000+00:00   53.771027\n",
       "2025-03-21 20:43:18.084000+00:00   48.639340\n",
       "2025-03-22 20:43:18.084000+00:00   54.608698\n",
       "2025-03-23 20:43:18.084000+00:00   53.111905\n",
       "2025-03-24 20:43:18.084000+00:00   47.233306\n",
       "2025-03-25 20:43:18.084000+00:00   46.896969\n",
       "2025-03-26 20:43:18.084000+00:00   48.893890\n",
       "2025-03-27 20:43:18.084000+00:00   62.340661\n",
       "2025-03-28 20:43:18.084000+00:00   64.688056\n",
       "2025-03-29 20:43:18.084000+00:00   81.045431\n",
       "2025-03-30 20:43:18.084000+00:00   86.848019\n",
       "2025-03-31 20:43:18.084000+00:00   77.222305\n",
       "2025-04-01 20:43:18.084000+00:00   80.326368\n",
       "2025-04-02 20:43:18.084000+00:00   76.205435\n",
       "2025-04-03 20:43:18.084000+00:00   74.373479\n",
       "2025-04-04 20:43:18.084000+00:00   75.694689\n",
       "2025-04-05 20:43:18.084000+00:00   74.510378\n",
       "2025-04-06 20:43:18.084000+00:00   59.149604\n",
       "2025-04-07 20:43:18.084000+00:00   53.563340\n",
       "2025-04-08 20:43:18.084000+00:00   52.362800\n",
       "2025-04-09 20:43:18.084000+00:00   58.647750\n",
       "2025-04-10 20:43:18.084000+00:00   55.601109"
      ],
      "text/html": [
       "<div>\n",
       "<style scoped>\n",
       "    .dataframe tbody tr th:only-of-type {\n",
       "        vertical-align: middle;\n",
       "    }\n",
       "\n",
       "    .dataframe tbody tr th {\n",
       "        vertical-align: top;\n",
       "    }\n",
       "\n",
       "    .dataframe thead th {\n",
       "        text-align: right;\n",
       "    }\n",
       "</style>\n",
       "<table border=\"1\" class=\"dataframe\">\n",
       "  <thead>\n",
       "    <tr style=\"text-align: right;\">\n",
       "      <th></th>\n",
       "      <th>close</th>\n",
       "    </tr>\n",
       "    <tr>\n",
       "      <th>time_index</th>\n",
       "      <th></th>\n",
       "    </tr>\n",
       "  </thead>\n",
       "  <tbody>\n",
       "    <tr>\n",
       "      <th>2025-03-11 19:21:16.768000+00:00</th>\n",
       "      <td>100.000000</td>\n",
       "    </tr>\n",
       "    <tr>\n",
       "      <th>2025-03-11 19:24:06.269000+00:00</th>\n",
       "      <td>100.000000</td>\n",
       "    </tr>\n",
       "    <tr>\n",
       "      <th>2025-03-11 19:27:17.342000+00:00</th>\n",
       "      <td>100.000000</td>\n",
       "    </tr>\n",
       "    <tr>\n",
       "      <th>2025-03-11 19:28:13.756000+00:00</th>\n",
       "      <td>100.000000</td>\n",
       "    </tr>\n",
       "    <tr>\n",
       "      <th>2025-03-11 20:32:54.714000+00:00</th>\n",
       "      <td>100.000000</td>\n",
       "    </tr>\n",
       "    <tr>\n",
       "      <th>2025-03-11 20:43:18.084000+00:00</th>\n",
       "      <td>100.000000</td>\n",
       "    </tr>\n",
       "    <tr>\n",
       "      <th>2025-03-12 20:43:18.084000+00:00</th>\n",
       "      <td>86.214177</td>\n",
       "    </tr>\n",
       "    <tr>\n",
       "      <th>2025-03-13 20:43:18.084000+00:00</th>\n",
       "      <td>100.961729</td>\n",
       "    </tr>\n",
       "    <tr>\n",
       "      <th>2025-03-14 20:43:18.084000+00:00</th>\n",
       "      <td>95.929417</td>\n",
       "    </tr>\n",
       "    <tr>\n",
       "      <th>2025-03-15 20:43:18.084000+00:00</th>\n",
       "      <td>76.433216</td>\n",
       "    </tr>\n",
       "    <tr>\n",
       "      <th>2025-03-16 20:43:18.084000+00:00</th>\n",
       "      <td>66.920199</td>\n",
       "    </tr>\n",
       "    <tr>\n",
       "      <th>2025-03-17 20:43:18.084000+00:00</th>\n",
       "      <td>55.981979</td>\n",
       "    </tr>\n",
       "    <tr>\n",
       "      <th>2025-03-18 20:43:18.084000+00:00</th>\n",
       "      <td>58.645552</td>\n",
       "    </tr>\n",
       "    <tr>\n",
       "      <th>2025-03-19 20:43:18.084000+00:00</th>\n",
       "      <td>55.727395</td>\n",
       "    </tr>\n",
       "    <tr>\n",
       "      <th>2025-03-20 20:43:18.084000+00:00</th>\n",
       "      <td>53.771027</td>\n",
       "    </tr>\n",
       "    <tr>\n",
       "      <th>2025-03-21 20:43:18.084000+00:00</th>\n",
       "      <td>48.639340</td>\n",
       "    </tr>\n",
       "    <tr>\n",
       "      <th>2025-03-22 20:43:18.084000+00:00</th>\n",
       "      <td>54.608698</td>\n",
       "    </tr>\n",
       "    <tr>\n",
       "      <th>2025-03-23 20:43:18.084000+00:00</th>\n",
       "      <td>53.111905</td>\n",
       "    </tr>\n",
       "    <tr>\n",
       "      <th>2025-03-24 20:43:18.084000+00:00</th>\n",
       "      <td>47.233306</td>\n",
       "    </tr>\n",
       "    <tr>\n",
       "      <th>2025-03-25 20:43:18.084000+00:00</th>\n",
       "      <td>46.896969</td>\n",
       "    </tr>\n",
       "    <tr>\n",
       "      <th>2025-03-26 20:43:18.084000+00:00</th>\n",
       "      <td>48.893890</td>\n",
       "    </tr>\n",
       "    <tr>\n",
       "      <th>2025-03-27 20:43:18.084000+00:00</th>\n",
       "      <td>62.340661</td>\n",
       "    </tr>\n",
       "    <tr>\n",
       "      <th>2025-03-28 20:43:18.084000+00:00</th>\n",
       "      <td>64.688056</td>\n",
       "    </tr>\n",
       "    <tr>\n",
       "      <th>2025-03-29 20:43:18.084000+00:00</th>\n",
       "      <td>81.045431</td>\n",
       "    </tr>\n",
       "    <tr>\n",
       "      <th>2025-03-30 20:43:18.084000+00:00</th>\n",
       "      <td>86.848019</td>\n",
       "    </tr>\n",
       "    <tr>\n",
       "      <th>2025-03-31 20:43:18.084000+00:00</th>\n",
       "      <td>77.222305</td>\n",
       "    </tr>\n",
       "    <tr>\n",
       "      <th>2025-04-01 20:43:18.084000+00:00</th>\n",
       "      <td>80.326368</td>\n",
       "    </tr>\n",
       "    <tr>\n",
       "      <th>2025-04-02 20:43:18.084000+00:00</th>\n",
       "      <td>76.205435</td>\n",
       "    </tr>\n",
       "    <tr>\n",
       "      <th>2025-04-03 20:43:18.084000+00:00</th>\n",
       "      <td>74.373479</td>\n",
       "    </tr>\n",
       "    <tr>\n",
       "      <th>2025-04-04 20:43:18.084000+00:00</th>\n",
       "      <td>75.694689</td>\n",
       "    </tr>\n",
       "    <tr>\n",
       "      <th>2025-04-05 20:43:18.084000+00:00</th>\n",
       "      <td>74.510378</td>\n",
       "    </tr>\n",
       "    <tr>\n",
       "      <th>2025-04-06 20:43:18.084000+00:00</th>\n",
       "      <td>59.149604</td>\n",
       "    </tr>\n",
       "    <tr>\n",
       "      <th>2025-04-07 20:43:18.084000+00:00</th>\n",
       "      <td>53.563340</td>\n",
       "    </tr>\n",
       "    <tr>\n",
       "      <th>2025-04-08 20:43:18.084000+00:00</th>\n",
       "      <td>52.362800</td>\n",
       "    </tr>\n",
       "    <tr>\n",
       "      <th>2025-04-09 20:43:18.084000+00:00</th>\n",
       "      <td>58.647750</td>\n",
       "    </tr>\n",
       "    <tr>\n",
       "      <th>2025-04-10 20:43:18.084000+00:00</th>\n",
       "      <td>55.601109</td>\n",
       "    </tr>\n",
       "  </tbody>\n",
       "</table>\n",
       "</div>"
      ]
     },
     "execution_count": 4,
     "metadata": {},
     "output_type": "execute_result"
    }
   ],
   "execution_count": 4
  },
  {
   "cell_type": "code",
   "id": "b1c2cd40",
   "metadata": {
    "ExecuteTime": {
     "end_time": "2025-04-10T20:50:26.557080Z",
     "start_time": "2025-04-10T20:50:22.313135Z"
    }
   },
   "source": [
    "\n",
    "def create_portfolio(build_purpose, portfolio_name,portfolio_ts,valuation_asset):\n",
    "    \n",
    "    \n",
    "    existing_portfolio = TargetPortfolio.get_or_none(\n",
    "       \n",
    "        local_time_serie__id=portfolio_ts.local_metadata.id\n",
    "    )\n",
    "    \n",
    "    if existing_portfolio:\n",
    "        print(f\"Portfolio '{portfolio_name}' already exists.\")\n",
    "        index_asset=TargetPortfolioIndexAsset.get(reference_portfolio__id=existing_portfolio.id)\n",
    "        \n",
    "        \n",
    "        return existing_portfolio,index_asset\n",
    "    \n",
    "    \n",
    "    return TargetPortfolio.create_from_time_series(\n",
    "        portfolio_name=portfolio_name,\n",
    "        build_purpose=build_purpose,\n",
    "        is_active=True,\n",
    "        local_time_serie_id=portfolio_ts.local_metadata.id,  # Example ID\n",
    "        signal_local_time_serie_id=portfolio_ts.local_metadata.id, #we are not using a signal so we are setting the same \n",
    "        required_venues__symbols=[MARKETS_CONSTANTS.BINANCE_EV_SYMBOL],\n",
    "        calendar_name=\"24/7\",\n",
    "        tracking_funds_expected_exposure_from_latest_holdings=False, \n",
    "        is_asset_only=False,\n",
    "        backtest_table_price_column_name=\"close\",\n",
    "        valuation_asset_id=valuation_asset.id,\n",
    "        target_portfolio_about=dict(description= \"Test Portfolio For example\",\n",
    "                                    signal_name= \"No signal\",\n",
    "                                    signal_description=\"no descritpiont\",\n",
    "                                    rebalance_strategy_name=\"no rebalance\"), timeout=600000\n",
    "    )\n",
    "\n",
    "valuation_asset=Asset.get(symbol=\"USDT\",execution_venue__symbol=MARKETS_CONSTANTS.BINANCE_EV_SYMBOL)\n",
    "# Create Backtesting Portfolio\n",
    "backtest_portfolio, portfolio_index_asset = create_portfolio(\n",
    "    MARKETS_CONSTANTS.PORTFOLIO_BUILD_FOR_BACKTEST, \"Example Portfolio\",portfolio_ts,valuation_asset,\n",
    ")\n",
    "print(\"Created Backtest Portfolio:\", backtest_portfolio.portfolio_name)\n",
    "print(\"Related Asset\", valuation_asset)\n"
   ],
   "outputs": [
    {
     "name": "stdout",
     "output_type": "stream",
     "text": [
      "Portfolio 'Example Portfolio' already exists.\n",
      "Created Backtest Portfolio: Example Portfolio\n",
      "Related Asset orm_class='Asset' id=192402 symbol='USDT' name='USDT' can_trade=False calendar=Calendar: 1 execution_venue=ExecutionVenue: 9 delisted_datetime=None unique_identifier='USDT_bnce_KKG000000H64' figi_details=FigiInfo(orm_class='FigiInfo', id=111937, real_figi=True, figi='KKG000000H64', composite=None, ticker='USDT', security_type='Crypto', security_type_2='CRYPTO', security_market_sector='Curncy', share_class=None, exchange_code=None, name='tether', main_sequence_share_class='LwZ5U4MvuuIH')\n"
     ]
    }
   ],
   "execution_count": 16
  },
  {
   "metadata": {
    "ExecuteTime": {
     "end_time": "2025-04-10T20:50:45.263272Z",
     "start_time": "2025-04-10T20:50:45.261458Z"
    }
   },
   "cell_type": "code",
   "source": "",
   "id": "d54497b5098e3c39",
   "outputs": [],
   "execution_count": null
  },
  {
   "cell_type": "code",
   "id": "e1a874596ebd49a5",
   "metadata": {
    "ExecuteTime": {
     "end_time": "2025-04-10T20:50:47.182431Z",
     "start_time": "2025-04-10T20:50:47.180630Z"
    }
   },
   "source": "",
   "outputs": [],
   "execution_count": null
  }
 ],
 "metadata": {
  "kernelspec": {
   "display_name": "venv",
   "language": "python",
   "name": "python3"
  },
  "language_info": {
   "codemirror_mode": {
    "name": "ipython",
    "version": 3
   },
   "file_extension": ".py",
   "mimetype": "text/x-python",
   "name": "python",
   "nbconvert_exporter": "python",
   "pygments_lexer": "ipython3",
   "version": "3.9.19"
  }
 },
 "nbformat": 4,
 "nbformat_minor": 5
}
