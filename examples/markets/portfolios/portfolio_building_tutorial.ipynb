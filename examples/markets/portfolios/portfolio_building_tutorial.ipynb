{
 "cells": [
  {
   "cell_type": "markdown",
   "id": "27ff62b2",
   "metadata": {},
   "source": [
    "# Querying and Creating Portfolios in VAM Client\n",
    "This notebook serves as a tutorial for querying, creating, and managing portfolios using the `mainsequence.client` package. It covers:\n",
    "- Querying existing portfolios using filters\n",
    "- Creating portfolios from time series\n",
    "- Creating an index asset portfolio\n",
    "- Querying the newly created index asset portfolio"
   ]
  },
  {
   "cell_type": "markdown",
   "id": "d0feb276",
   "metadata": {},
   "source": [
    "## Step 1: Import Required Modules\n",
    "First, we import the necessary modules and constants."
   ]
  },
  {
   "cell_type": "code",
   "id": "1dd7de16",
   "metadata": {
    "ExecuteTime": {
     "end_time": "2025-05-19T13:43:40.022624Z",
     "start_time": "2025-05-19T13:43:38.752106Z"
    }
   },
   "source": [
    "import os\n",
    "from pathlib import Path\n",
    "import dotenv\n",
    "# Save the original working directory (only once)\n",
    "try:\n",
    "    original_wd\n",
    "except NameError:\n",
    "    original_wd = os.getcwd()\n",
    "\n",
    "# Compute the target directory: two levels up from the original working directory\n",
    "# For example, if original_wd is /Users/username/project/notebooks,\n",
    "# then target_dir becomes /Users/username\n",
    "target_dir = Path(original_wd).parents[2]\n",
    "\n",
    "# Change the working directory to the target directory\n",
    "os.chdir(target_dir)\n",
    "print(\"Working directory set to:\", os.getcwd())\n",
    "\n",
    "import dotenv\n",
    "dotenv.load_dotenv('.env')\n",
    "from mainsequence.client import DataUpdates\n",
    "import datetime\n",
    "from mainsequence.client import TargetPortfolio, Asset,TargetPortfolioIndexAsset\n",
    "from mainsequence.client import MARKETS_CONSTANTS\n"
   ],
   "outputs": [
    {
     "name": "stdout",
     "output_type": "stream",
     "text": [
      "Working directory set to: /Users/jose/code/mainsequence-sdk\n"
     ]
    },
    {
     "name": "stderr",
     "output_type": "stream",
     "text": [
      "\u001B[2m2025-05-19T13:43:39.289443Z\u001B[0m [\u001B[32m\u001B[1mdebug    \u001B[0m] \u001B[1mGetting Auth Headers ASSETS_ORM\u001B[0m \u001B[36mapplication_name\u001B[0m=\u001B[35mms-sdk\u001B[0m \u001B[36mdata_source_id\u001B[0m=\u001B[35m1\u001B[0m \u001B[36mjob_run_id\u001B[0m=\u001B[35mNone\u001B[0m \u001B[36mproject_id\u001B[0m=\u001B[35m1\u001B[0m (at utils.py:39 in refresh_headers())\n",
      "\u001B[2m2025-05-19T13:43:39.531581Z\u001B[0m [\u001B[32m\u001B[1mdebug    \u001B[0m] \u001B[1mGetting Auth Headers ASSETS_ORM\u001B[0m \u001B[36mapplication_name\u001B[0m=\u001B[35mms-sdk\u001B[0m \u001B[36mdata_source_id\u001B[0m=\u001B[35m1\u001B[0m \u001B[36mjob_run_id\u001B[0m=\u001B[35mNone\u001B[0m \u001B[36mproject_id\u001B[0m=\u001B[35m1\u001B[0m (at utils.py:39 in refresh_headers())\n",
      "\u001B[2m2025-05-19T13:43:39.962387Z\u001B[0m [\u001B[32m\u001B[1mdebug    \u001B[0m] \u001B[1mtook 0.4010 seconds. Requesting GET from http://192.168.178.69:8000/orm/api/pods/projects/get_user_default_project/\u001B[0m \u001B[36mapplication_name\u001B[0m=\u001B[35mms-sdk\u001B[0m \u001B[36mdata_source_id\u001B[0m=\u001B[35m1\u001B[0m \u001B[36mjob_run_id\u001B[0m=\u001B[35mNone\u001B[0m \u001B[36mproject_id\u001B[0m=\u001B[35m1\u001B[0m (at utils.py:95 in make_request())\n",
      "\u001B[2m2025-05-19T13:43:39.963482Z\u001B[0m [\u001B[32m\u001B[1minfo     \u001B[0m] \u001B[1mSet remote data source to orm_class='DataSource' id=1 display_name='Default TS GCP' organization=1 class_type='timescale_db' status='AVAILABLE' extra_arguments=None\u001B[0m \u001B[36mapplication_name\u001B[0m=\u001B[35mms-sdk\u001B[0m \u001B[36mdata_source_id\u001B[0m=\u001B[35m1\u001B[0m \u001B[36mjob_run_id\u001B[0m=\u001B[35mNone\u001B[0m \u001B[36mproject_id\u001B[0m=\u001B[35m1\u001B[0m (at models_tdag.py:2114 in set_remote_db())\n"
     ]
    }
   ],
   "execution_count": 1
  },
  {
   "cell_type": "markdown",
   "id": "68ab4d0d",
   "metadata": {},
   "source": [
    "## Step 2: Query Portfolios\n",
    "We query an existing portfolio using the `local_time_serie_hash_id` filter. This returns a single portfolio object."
   ]
  },
  {
   "cell_type": "code",
   "id": "6e1b78fc",
   "metadata": {
    "ExecuteTime": {
     "end_time": "2025-05-19T13:43:40.476027Z",
     "start_time": "2025-05-19T13:43:40.023708Z"
    }
   },
   "source": [
    "\n",
    "# Query a single TargetPortfolio with a specific ticker\n",
    "portfolio_ticker = \"TICKER1\"\n",
    "portfolio = TargetPortfolio.filter(portfolio_ticker=portfolio_ticker)\n",
    "print(\"Queried Portfolio:\", portfolio)\n"
   ],
   "outputs": [
    {
     "name": "stderr",
     "output_type": "stream",
     "text": [
      "\u001B[2m2025-05-19T13:43:40.474028Z\u001B[0m [\u001B[32m\u001B[1mdebug    \u001B[0m] \u001B[1mtook 0.4497 seconds. Requesting GET from http://192.168.178.69:8000/orm/api/assets/target_portfolio/\u001B[0m \u001B[36mapplication_name\u001B[0m=\u001B[35mms-sdk\u001B[0m \u001B[36mdata_source_id\u001B[0m=\u001B[35m1\u001B[0m \u001B[36mjob_run_id\u001B[0m=\u001B[35mNone\u001B[0m \u001B[36mproject_id\u001B[0m=\u001B[35m1\u001B[0m (at utils.py:95 in make_request())\n"
     ]
    },
    {
     "name": "stdout",
     "output_type": "stream",
     "text": [
      "Queried Portfolio: []\n"
     ]
    }
   ],
   "execution_count": 2
  },
  {
   "cell_type": "markdown",
   "id": "d1749847",
   "metadata": {},
   "source": [
    "## Step 3: Create Portfolios from Time Series\n",
    "We create two portfolios for different purposes:\n",
    "- **Execution Portfolio** for real-time execution\n",
    "- **Backtesting Portfolio** for simulation and historical analysis\n",
    "\n",
    "### !!! Important !!!\n",
    "\n",
    "If you want to start building portfolios we recommend you to use our VirtualFundBuilder. This will help you have a more fluid \n",
    "and seamless workflows. In this example we will show you how to build a portfolio without using our Wrapper. A few important considerations\n",
    "\n",
    "1.  Each portfolio requires a `local_signal_time_serie` and a `local_time_serie` that should come from TDAG, this is a unique identifier in the backend and placing a random integer will likely collide therefore we need to build a time serie that has a time_index and at least a column with a column \"close\" \n",
    "\n"
   ]
  },
  {
   "cell_type": "code",
   "id": "4de7dc66437cbb4c",
   "metadata": {
    "ExecuteTime": {
     "end_time": "2025-05-19T13:44:00.711710Z",
     "start_time": "2025-05-19T13:43:40.476756Z"
    }
   },
   "source": [
    "from mainsequence.tdag.time_series import TimeSerie\n",
    "from mainsequence.client import DataUpdates\n",
    "import numpy as np\n",
    "import datetime\n",
    "import pandas as pd\n",
    "\n",
    "class PortfolioExample(TimeSerie):\n",
    "    \n",
    "    @TimeSerie._post_init_routines()\n",
    "    def __init__(self, portfolio_volatility: float,*args, **kwargs):\n",
    "        self.portfolio_volatility = portfolio_volatility\n",
    "        super().__init__(*args, **kwargs)\n",
    "        \n",
    "    def update(self, update_statistics):\n",
    "        \"\"\"\n",
    "        Update the time series by simulating a new data point based on the last observation,\n",
    "        or simulate a complete series if no observations exist.\n",
    "\n",
    "        :param update_statistics: A dict to record update statistics (optional).\n",
    "        :return: pd.DataFrame with index as a timezone-aware datetime (UTC) and a column \"close\".\n",
    "        \"\"\"\n",
    "        last_observation = self.get_last_observation()\n",
    "        dt = 1.0  # one day time increment\n",
    "\n",
    "        mock_asset=Asset.filter(ticker=\"NVDA\",execution_venue=MARKETS_CONSTANTS.MAIN_SEQUENCE_EV)[0]\n",
    "\n",
    "        if last_observation is not None:\n",
    "            return pd.DataFrame() # do not make sequential updats for example\n",
    "          \n",
    "        else:\n",
    "            # If no observation exists, simulate a daily series for the last 30 days.\n",
    "            end_date = datetime.datetime.now(datetime.timezone.utc)\n",
    "            start_date = end_date - datetime.timedelta(days=30)\n",
    "            # Generate a date range with daily frequency (timezone-aware in UTC).\n",
    "            dates = pd.date_range(start=start_date, end=end_date, freq='D', tz=datetime.timezone.utc)\n",
    "            \n",
    "            # Initialize with a default price.\n",
    "            prices = [100.0]\n",
    "            for _ in range(1, len(dates)):\n",
    "                random_return = np.random.normal(loc=0, scale=self.portfolio_volatility * np.sqrt(dt))\n",
    "                new_price = prices[-1] * np.exp(random_return - 0.5 * self.portfolio_volatility**2 * dt)\n",
    "                prices.append(new_price)\n",
    "                \n",
    "            new_data = pd.DataFrame({\"close\": prices,\"rebalance_weights\":{mock_asset.unique_identifier:1.0},\n",
    "                                     \"rebalance_price\":{mock_asset.unique_identifier:1.0},\n",
    "                                     \"weights_at_last_rebalance\":{mock_asset.unique_identifier:1.0},\n",
    "                                      \"price_at_last_rebalance\":{mock_asset.unique_identifier:1.0},\n",
    "                                        \"volume_at_last_rebalance\":{mock_asset.unique_identifier:1.0},\n",
    "\n",
    "\n",
    "\n",
    "                                     }, index=dates)\n",
    "            new_data[\"last_rebalance_date\"]=new_data.index\n",
    "            new_data[\"close_time\"]=new_data.index\n",
    "            new_data[\"return\"]=new_data[\"close\"].pct_change()\n",
    "        if last_observation is not None:\n",
    "            new_data=new_data[new_data.index>update_statistics._max_time_in_update_statistics]\n",
    "         \n",
    "        return new_data\n",
    "    \n",
    "    \n",
    "portfolio_ts=PortfolioExample(portfolio_volatility=.1)\n",
    "portfolio_ts.run(debug_mode=True,force_update=True)\n"
   ],
   "outputs": [
    {
     "name": "stderr",
     "output_type": "stream",
     "text": [
      "\u001B[2m2025-05-19T13:43:40.503995Z\u001B[0m [\u001B[32m\u001B[1mdebug    \u001B[0m] \u001B[1mlocal/remote portfolioexample_f53f240ed0980b8f8bd541172af036ac/portfolioexample_f53f240ed0980b8f8bd541172af036ac\u001B[0m \u001B[36mapplication_name\u001B[0m=\u001B[35mms-sdk\u001B[0m \u001B[36mdata_source_id\u001B[0m=\u001B[35m1\u001B[0m \u001B[36mjob_run_id\u001B[0m=\u001B[35mNone\u001B[0m \u001B[36mproject_id\u001B[0m=\u001B[35m1\u001B[0m (at time_series.py:2143 in _create_config())\n",
      "Overriding of current TracerProvider is not allowed\n",
      "\u001B[2m2025-05-19T13:43:41.840985Z\u001B[0m [\u001B[32m\u001B[1mdebug    \u001B[0m] \u001B[1mtook 0.8457 seconds. Requesting POST from http://192.168.178.69:8000/orm/api/ogm/scheduler/build_and_assign_to_ts/\u001B[0m \u001B[36mapplication_name\u001B[0m=\u001B[35mms-sdk\u001B[0m \u001B[36mdata_source_id\u001B[0m=\u001B[35m1\u001B[0m \u001B[36mjob_run_id\u001B[0m=\u001B[35mNone\u001B[0m \u001B[36mproject_id\u001B[0m=\u001B[35m1\u001B[0m (at utils.py:95 in make_request())\n",
      "\u001B[2m2025-05-19T13:43:41.842241Z\u001B[0m [\u001B[32m\u001B[1mdebug    \u001B[0m] \u001B[1mGetting Auth Headers ASSETS_ORM\u001B[0m \u001B[36mapplication_name\u001B[0m=\u001B[35mms-sdk\u001B[0m \u001B[36mdata_source_id\u001B[0m=\u001B[35m1\u001B[0m \u001B[36mjob_run_id\u001B[0m=\u001B[35mNone\u001B[0m \u001B[36mproject_id\u001B[0m=\u001B[35m1\u001B[0m (at utils.py:39 in refresh_headers())\n",
      "\u001B[2m2025-05-19T13:43:42.053878Z\u001B[0m [\u001B[32m\u001B[1mdebug    \u001B[0m] \u001B[1mtook 0.2109 seconds. Requesting GET from http://192.168.178.69:8000/orm/api/ts_manager/api/constants\u001B[0m \u001B[36mapplication_name\u001B[0m=\u001B[35mms-sdk\u001B[0m \u001B[36mdata_source_id\u001B[0m=\u001B[35m1\u001B[0m \u001B[36mjob_run_id\u001B[0m=\u001B[35mNone\u001B[0m \u001B[36mproject_id\u001B[0m=\u001B[35m1\u001B[0m (at utils.py:95 in make_request())\n",
      "\u001B[2m2025-05-19T13:43:42.055138Z\u001B[0m [\u001B[32m\u001B[1mdebug    \u001B[0m] \u001B[1mHeartbeat thread started with interval = 60 seconds\u001B[0m \u001B[36mapplication_name\u001B[0m=\u001B[35mms-sdk\u001B[0m \u001B[36mdata_source_id\u001B[0m=\u001B[35m1\u001B[0m \u001B[36mjob_run_id\u001B[0m=\u001B[35mNone\u001B[0m \u001B[36mproject_id\u001B[0m=\u001B[35m1\u001B[0m (at models_tdag.py:973 in _heartbeat_runner())\n",
      "\u001B[2m2025-05-19T13:43:42.055432Z\u001B[0m [\u001B[32m\u001B[1mdebug    \u001B[0m] \u001B[1mSetting local persist manager for portfolioexample_f53f240ed0980b8f8bd541172af036ac\u001B[0m \u001B[36mapi_time_series\u001B[0m=\u001B[35mFalse\u001B[0m \u001B[36mapplication_name\u001B[0m=\u001B[35mms-sdk\u001B[0m \u001B[36mdata_source_id\u001B[0m=\u001B[35m1\u001B[0m \u001B[36mhead_local_ts_hash_id\u001B[0m=\u001B[35mportfolioexample_f53f240ed0980b8f8bd541172af036ac\u001B[0m \u001B[36mjob_run_id\u001B[0m=\u001B[35mNone\u001B[0m \u001B[36mlocal_hash_id\u001B[0m=\u001B[35mportfolioexample_f53f240ed0980b8f8bd541172af036ac\u001B[0m \u001B[36mlocal_hash_id_data_source\u001B[0m=\u001B[35m1\u001B[0m \u001B[36mproject_id\u001B[0m=\u001B[35m1\u001B[0m \u001B[36mscheduler_name\u001B[0m=\u001B[35mDEBUG_portfolioexample_f53f240ed0980b8f8bd541172af036ac_1\u001B[0m (at time_series.py:2028 in local_persist_manager())\n",
      "\u001B[2m2025-05-19T13:43:42.355952Z\u001B[0m [\u001B[32m\u001B[1mdebug    \u001B[0m] \u001B[1mtook 0.2977 seconds. Requesting GET from http://192.168.178.69:8000/orm/api/ts_manager/local_time_serie/\u001B[0m \u001B[36mapplication_name\u001B[0m=\u001B[35mms-sdk\u001B[0m \u001B[36mdata_source_id\u001B[0m=\u001B[35m1\u001B[0m \u001B[36mjob_run_id\u001B[0m=\u001B[35mNone\u001B[0m \u001B[36mproject_id\u001B[0m=\u001B[35m1\u001B[0m (at utils.py:95 in make_request())\n",
      "\u001B[2m2025-05-19T13:43:42.356893Z\u001B[0m [\u001B[33m\u001B[1mwarning  \u001B[0m] \u001B[1mTimeSeries portfolioexample_f53f240ed0980b8f8bd541172af036ac with data source 1 not found in backend\u001B[0m \u001B[36mapplication_name\u001B[0m=\u001B[35mms-sdk\u001B[0m \u001B[36mdata_source_id\u001B[0m=\u001B[35m1\u001B[0m \u001B[36mjob_run_id\u001B[0m=\u001B[35mNone\u001B[0m \u001B[36mproject_id\u001B[0m=\u001B[35m1\u001B[0m (at persist_managers.py:225 in _get_or_none_local_metadata())\n",
      "\u001B[2m2025-05-19T13:43:42.357583Z\u001B[0m [\u001B[33m\u001B[1mwarning  \u001B[0m] \u001B[1mYour TimeSeries is not in a python module this will likely bring exceptions when running in a pipeline\u001B[0m \u001B[36mapi_time_series\u001B[0m=\u001B[35mFalse\u001B[0m \u001B[36mapplication_name\u001B[0m=\u001B[35mms-sdk\u001B[0m \u001B[36mdata_source_id\u001B[0m=\u001B[35m1\u001B[0m \u001B[36mhead_local_ts_hash_id\u001B[0m=\u001B[35mportfolioexample_f53f240ed0980b8f8bd541172af036ac\u001B[0m \u001B[36mjob_run_id\u001B[0m=\u001B[35mNone\u001B[0m \u001B[36mlocal_hash_id\u001B[0m=\u001B[35mportfolioexample_f53f240ed0980b8f8bd541172af036ac\u001B[0m \u001B[36mlocal_hash_id_data_source\u001B[0m=\u001B[35m1\u001B[0m \u001B[36mproject_id\u001B[0m=\u001B[35m1\u001B[0m \u001B[36mscheduler_name\u001B[0m=\u001B[35mDEBUG_portfolioexample_f53f240ed0980b8f8bd541172af036ac_1\u001B[0m (at time_series.py:1722 in get_time_serie_source_code())\n",
      "\u001B[2m2025-05-19T13:43:42.358289Z\u001B[0m [\u001B[33m\u001B[1mwarning  \u001B[0m] \u001B[1mYour TimeSeries is not in a python module this will likely bring exceptions when running in a pipeline\u001B[0m \u001B[36mapi_time_series\u001B[0m=\u001B[35mFalse\u001B[0m \u001B[36mapplication_name\u001B[0m=\u001B[35mms-sdk\u001B[0m \u001B[36mdata_source_id\u001B[0m=\u001B[35m1\u001B[0m \u001B[36mhead_local_ts_hash_id\u001B[0m=\u001B[35mportfolioexample_f53f240ed0980b8f8bd541172af036ac\u001B[0m \u001B[36mjob_run_id\u001B[0m=\u001B[35mNone\u001B[0m \u001B[36mlocal_hash_id\u001B[0m=\u001B[35mportfolioexample_f53f240ed0980b8f8bd541172af036ac\u001B[0m \u001B[36mlocal_hash_id_data_source\u001B[0m=\u001B[35m1\u001B[0m \u001B[36mproject_id\u001B[0m=\u001B[35m1\u001B[0m \u001B[36mscheduler_name\u001B[0m=\u001B[35mDEBUG_portfolioexample_f53f240ed0980b8f8bd541172af036ac_1\u001B[0m (at time_series.py:1722 in get_time_serie_source_code())\n",
      "\u001B[2m2025-05-19T13:43:42.358870Z\u001B[0m [\u001B[32m\u001B[1mdebug    \u001B[0m] \u001B[1mtook 0.3010 seconds. Requesting GET from http://192.168.178.69:8000/orm/api/ts_manager/local_time_serie/\u001B[0m \u001B[36mapplication_name\u001B[0m=\u001B[35mms-sdk\u001B[0m \u001B[36mdata_source_id\u001B[0m=\u001B[35m1\u001B[0m \u001B[36mjob_run_id\u001B[0m=\u001B[35mNone\u001B[0m \u001B[36mproject_id\u001B[0m=\u001B[35m1\u001B[0m (at utils.py:95 in make_request())\n",
      "\u001B[2m2025-05-19T13:43:42.360140Z\u001B[0m [\u001B[32m\u001B[1mdebug    \u001B[0m] \u001B[1mremote table portfolioexample_f53f240ed0980b8f8bd541172af036ac does not exist creating\u001B[0m \u001B[36mapi_time_series\u001B[0m=\u001B[35mFalse\u001B[0m \u001B[36mapplication_name\u001B[0m=\u001B[35mms-sdk\u001B[0m \u001B[36mdata_source_id\u001B[0m=\u001B[35m1\u001B[0m \u001B[36mhead_local_ts_hash_id\u001B[0m=\u001B[35mportfolioexample_f53f240ed0980b8f8bd541172af036ac\u001B[0m \u001B[36mjob_run_id\u001B[0m=\u001B[35mNone\u001B[0m \u001B[36mlocal_hash_id\u001B[0m=\u001B[35mportfolioexample_f53f240ed0980b8f8bd541172af036ac\u001B[0m \u001B[36mlocal_hash_id_data_source\u001B[0m=\u001B[35m1\u001B[0m \u001B[36mproject_id\u001B[0m=\u001B[35m1\u001B[0m \u001B[36mscheduler_name\u001B[0m=\u001B[35mDEBUG_portfolioexample_f53f240ed0980b8f8bd541172af036ac_1\u001B[0m (at persist_managers.py:460 in local_persist_exist_set_config())\n",
      "\u001B[2m2025-05-19T13:43:42.360834Z\u001B[0m [\u001B[33m\u001B[1mwarning  \u001B[0m] \u001B[1mTimeSeries portfolioexample_f53f240ed0980b8f8bd541172af036ac with data source 1 not found in backend\u001B[0m \u001B[36mapplication_name\u001B[0m=\u001B[35mms-sdk\u001B[0m \u001B[36mdata_source_id\u001B[0m=\u001B[35m1\u001B[0m \u001B[36mjob_run_id\u001B[0m=\u001B[35mNone\u001B[0m \u001B[36mproject_id\u001B[0m=\u001B[35m1\u001B[0m (at persist_managers.py:225 in _get_or_none_local_metadata())\n",
      "\u001B[2m2025-05-19T13:43:42.626014Z\u001B[0m [\u001B[32m\u001B[1mdebug    \u001B[0m] \u001B[1mtook 0.5690 seconds. Requesting PATCH from http://192.168.178.69:8000/orm/api/ogm/scheduler/e599e6d5305c4e6ea63c69d1b4a639a6/update\u001B[0m \u001B[36mapplication_name\u001B[0m=\u001B[35mms-sdk\u001B[0m \u001B[36mdata_source_id\u001B[0m=\u001B[35m1\u001B[0m \u001B[36mjob_run_id\u001B[0m=\u001B[35mNone\u001B[0m \u001B[36mproject_id\u001B[0m=\u001B[35m1\u001B[0m (at utils.py:95 in make_request())\n",
      "\u001B[2m2025-05-19T13:43:43.022226Z\u001B[0m [\u001B[32m\u001B[1mdebug    \u001B[0m] \u001B[1mtook 0.6606 seconds. Requesting POST from http://192.168.178.69:8000/orm/api/ts_manager/dynamic_table/get_or_create/\u001B[0m \u001B[36mapi_time_series\u001B[0m=\u001B[35mFalse\u001B[0m \u001B[36mapplication_name\u001B[0m=\u001B[35mms-sdk\u001B[0m \u001B[36mdata_source_id\u001B[0m=\u001B[35m1\u001B[0m \u001B[36mhead_local_ts_hash_id\u001B[0m=\u001B[35mportfolioexample_f53f240ed0980b8f8bd541172af036ac\u001B[0m \u001B[36mjob_run_id\u001B[0m=\u001B[35mNone\u001B[0m \u001B[36mlocal_hash_id\u001B[0m=\u001B[35mportfolioexample_f53f240ed0980b8f8bd541172af036ac\u001B[0m \u001B[36mlocal_hash_id_data_source\u001B[0m=\u001B[35m1\u001B[0m \u001B[36mproject_id\u001B[0m=\u001B[35m1\u001B[0m \u001B[36mscheduler_name\u001B[0m=\u001B[35mDEBUG_portfolioexample_f53f240ed0980b8f8bd541172af036ac_1\u001B[0m (at utils.py:95 in make_request())\n",
      "\u001B[2m2025-05-19T13:43:43.025059Z\u001B[0m [\u001B[32m\u001B[1mdebug    \u001B[0m] \u001B[1mlocal_metadata portfolioexample_f53f240ed0980b8f8bd541172af036ac does not exist creating\u001B[0m \u001B[36mapi_time_series\u001B[0m=\u001B[35mFalse\u001B[0m \u001B[36mapplication_name\u001B[0m=\u001B[35mms-sdk\u001B[0m \u001B[36mdata_source_id\u001B[0m=\u001B[35m1\u001B[0m \u001B[36mhead_local_ts_hash_id\u001B[0m=\u001B[35mportfolioexample_f53f240ed0980b8f8bd541172af036ac\u001B[0m \u001B[36mjob_run_id\u001B[0m=\u001B[35mNone\u001B[0m \u001B[36mlocal_hash_id\u001B[0m=\u001B[35mportfolioexample_f53f240ed0980b8f8bd541172af036ac\u001B[0m \u001B[36mlocal_hash_id_data_source\u001B[0m=\u001B[35m1\u001B[0m \u001B[36mproject_id\u001B[0m=\u001B[35m1\u001B[0m \u001B[36mscheduler_name\u001B[0m=\u001B[35mDEBUG_portfolioexample_f53f240ed0980b8f8bd541172af036ac_1\u001B[0m (at persist_managers.py:498 in _verify_local_ts_exists())\n",
      "\u001B[2m2025-05-19T13:43:43.292048Z\u001B[0m [\u001B[32m\u001B[1mdebug    \u001B[0m] \u001B[1mtook 0.2657 seconds. Requesting GET from http://192.168.178.69:8000/orm/api/ts_manager/local_time_serie/\u001B[0m \u001B[36mapi_time_series\u001B[0m=\u001B[35mFalse\u001B[0m \u001B[36mapplication_name\u001B[0m=\u001B[35mms-sdk\u001B[0m \u001B[36mdata_source_id\u001B[0m=\u001B[35m1\u001B[0m \u001B[36mhead_local_ts_hash_id\u001B[0m=\u001B[35mportfolioexample_f53f240ed0980b8f8bd541172af036ac\u001B[0m \u001B[36mjob_run_id\u001B[0m=\u001B[35mNone\u001B[0m \u001B[36mlocal_hash_id\u001B[0m=\u001B[35mportfolioexample_f53f240ed0980b8f8bd541172af036ac\u001B[0m \u001B[36mlocal_hash_id_data_source\u001B[0m=\u001B[35m1\u001B[0m \u001B[36mproject_id\u001B[0m=\u001B[35m1\u001B[0m \u001B[36mscheduler_name\u001B[0m=\u001B[35mDEBUG_portfolioexample_f53f240ed0980b8f8bd541172af036ac_1\u001B[0m (at utils.py:95 in make_request())\n",
      "\u001B[2m2025-05-19T13:43:44.749075Z\u001B[0m [\u001B[32m\u001B[1mdebug    \u001B[0m] \u001B[1mtook 1.4530 seconds. Requesting POST from http://192.168.178.69:8000/orm/api/ts_manager/local_time_serie/get_or_create/\u001B[0m \u001B[36mapi_time_series\u001B[0m=\u001B[35mFalse\u001B[0m \u001B[36mapplication_name\u001B[0m=\u001B[35mms-sdk\u001B[0m \u001B[36mdata_source_id\u001B[0m=\u001B[35m1\u001B[0m \u001B[36mhead_local_ts_hash_id\u001B[0m=\u001B[35mportfolioexample_f53f240ed0980b8f8bd541172af036ac\u001B[0m \u001B[36mjob_run_id\u001B[0m=\u001B[35mNone\u001B[0m \u001B[36mlocal_hash_id\u001B[0m=\u001B[35mportfolioexample_f53f240ed0980b8f8bd541172af036ac\u001B[0m \u001B[36mlocal_hash_id_data_source\u001B[0m=\u001B[35m1\u001B[0m \u001B[36mproject_id\u001B[0m=\u001B[35m1\u001B[0m \u001B[36mscheduler_name\u001B[0m=\u001B[35mDEBUG_portfolioexample_f53f240ed0980b8f8bd541172af036ac_1\u001B[0m (at utils.py:95 in make_request())\n",
      "\u001B[2m2025-05-19T13:43:45.490728Z\u001B[0m [\u001B[32m\u001B[1mdebug    \u001B[0m] \u001B[1mtook 0.7379 seconds. Requesting GET from http://192.168.178.69:8000/orm/api/ts_manager/local_time_serie/\u001B[0m \u001B[36mapplication_name\u001B[0m=\u001B[35mms-sdk\u001B[0m \u001B[36mdata_source_id\u001B[0m=\u001B[35m1\u001B[0m \u001B[36mjob_run_id\u001B[0m=\u001B[35mNone\u001B[0m \u001B[36mproject_id\u001B[0m=\u001B[35m1\u001B[0m (at utils.py:95 in make_request())\n",
      "\u001B[2m2025-05-19T13:43:46.208144Z\u001B[0m [\u001B[32m\u001B[1mdebug    \u001B[0m] \u001B[1mtook 0.7160 seconds. Requesting GET from http://192.168.178.69:8000/orm/api/ogm/local_time_serie/255/set_ogm_dependencies_linked\u001B[0m \u001B[36mapi_time_series\u001B[0m=\u001B[35mFalse\u001B[0m \u001B[36mapplication_name\u001B[0m=\u001B[35mms-sdk\u001B[0m \u001B[36mdata_source_id\u001B[0m=\u001B[35m1\u001B[0m \u001B[36mhead_local_ts_hash_id\u001B[0m=\u001B[35mportfolioexample_f53f240ed0980b8f8bd541172af036ac\u001B[0m \u001B[36mjob_run_id\u001B[0m=\u001B[35mNone\u001B[0m \u001B[36mlocal_hash_id\u001B[0m=\u001B[35mportfolioexample_f53f240ed0980b8f8bd541172af036ac\u001B[0m \u001B[36mlocal_hash_id_data_source\u001B[0m=\u001B[35m1\u001B[0m \u001B[36mproject_id\u001B[0m=\u001B[35m1\u001B[0m \u001B[36mscheduler_name\u001B[0m=\u001B[35mDEBUG_portfolioexample_f53f240ed0980b8f8bd541172af036ac_1\u001B[0m (at utils.py:95 in make_request())\n",
      "\u001B[2m2025-05-19T13:43:46.209177Z\u001B[0m [\u001B[32m\u001B[1mdebug    \u001B[0m] \u001B[1mInitializing update priority ... \u001B[0m \u001B[36mapi_time_series\u001B[0m=\u001B[35mFalse\u001B[0m \u001B[36mapplication_name\u001B[0m=\u001B[35mms-sdk\u001B[0m \u001B[36mdata_source_id\u001B[0m=\u001B[35m1\u001B[0m \u001B[36mhead_local_ts_hash_id\u001B[0m=\u001B[35mportfolioexample_f53f240ed0980b8f8bd541172af036ac\u001B[0m \u001B[36mjob_run_id\u001B[0m=\u001B[35mNone\u001B[0m \u001B[36mlocal_hash_id\u001B[0m=\u001B[35mportfolioexample_f53f240ed0980b8f8bd541172af036ac\u001B[0m \u001B[36mlocal_hash_id_data_source\u001B[0m=\u001B[35m1\u001B[0m \u001B[36mproject_id\u001B[0m=\u001B[35m1\u001B[0m \u001B[36mscheduler_name\u001B[0m=\u001B[35mDEBUG_portfolioexample_f53f240ed0980b8f8bd541172af036ac_1\u001B[0m (at time_series.py:2154 in set_dependencies_df())\n",
      "\u001B[2m2025-05-19T13:43:47.540678Z\u001B[0m [\u001B[32m\u001B[1mdebug    \u001B[0m] \u001B[1mtook 1.3305 seconds. Requesting GET from http://192.168.178.69:8000/orm/api/ts_manager/local_time_serie/255/get_all_dependencies_update_priority/\u001B[0m \u001B[36mapi_time_series\u001B[0m=\u001B[35mFalse\u001B[0m \u001B[36mapplication_name\u001B[0m=\u001B[35mms-sdk\u001B[0m \u001B[36mdata_source_id\u001B[0m=\u001B[35m1\u001B[0m \u001B[36mhead_local_ts_hash_id\u001B[0m=\u001B[35mportfolioexample_f53f240ed0980b8f8bd541172af036ac\u001B[0m \u001B[36mjob_run_id\u001B[0m=\u001B[35mNone\u001B[0m \u001B[36mlocal_hash_id\u001B[0m=\u001B[35mportfolioexample_f53f240ed0980b8f8bd541172af036ac\u001B[0m \u001B[36mlocal_hash_id_data_source\u001B[0m=\u001B[35m1\u001B[0m \u001B[36mproject_id\u001B[0m=\u001B[35m1\u001B[0m \u001B[36mscheduler_name\u001B[0m=\u001B[35mDEBUG_portfolioexample_f53f240ed0980b8f8bd541172af036ac_1\u001B[0m (at utils.py:95 in make_request())\n",
      "\u001B[2m2025-05-19T13:43:47.547850Z\u001B[0m [\u001B[32m\u001B[1mdebug    \u001B[0m] \u001B[1mSetting dependencies in scheduler active_tree\u001B[0m \u001B[36mapi_time_series\u001B[0m=\u001B[35mFalse\u001B[0m \u001B[36mapplication_name\u001B[0m=\u001B[35mms-sdk\u001B[0m \u001B[36mdata_source_id\u001B[0m=\u001B[35m1\u001B[0m \u001B[36mhead_local_ts_hash_id\u001B[0m=\u001B[35mportfolioexample_f53f240ed0980b8f8bd541172af036ac\u001B[0m \u001B[36mjob_run_id\u001B[0m=\u001B[35mNone\u001B[0m \u001B[36mlocal_hash_id\u001B[0m=\u001B[35mportfolioexample_f53f240ed0980b8f8bd541172af036ac\u001B[0m \u001B[36mlocal_hash_id_data_source\u001B[0m=\u001B[35m1\u001B[0m \u001B[36mproject_id\u001B[0m=\u001B[35m1\u001B[0m \u001B[36mscheduler_name\u001B[0m=\u001B[35mDEBUG_portfolioexample_f53f240ed0980b8f8bd541172af036ac_1\u001B[0m (at time_series.py:2185 in pre_update_setting_routines())\n",
      "\u001B[2m2025-05-19T13:43:47.989408Z\u001B[0m [\u001B[32m\u001B[1mdebug    \u001B[0m] \u001B[1mtook 0.4392 seconds. Requesting PATCH from http://192.168.178.69:8000/orm/api/ogm/scheduler/e599e6d5305c4e6ea63c69d1b4a639a6/in_active_tree_connect/\u001B[0m \u001B[36mapi_time_series\u001B[0m=\u001B[35mFalse\u001B[0m \u001B[36mapplication_name\u001B[0m=\u001B[35mms-sdk\u001B[0m \u001B[36mdata_source_id\u001B[0m=\u001B[35m1\u001B[0m \u001B[36mhead_local_ts_hash_id\u001B[0m=\u001B[35mportfolioexample_f53f240ed0980b8f8bd541172af036ac\u001B[0m \u001B[36mjob_run_id\u001B[0m=\u001B[35mNone\u001B[0m \u001B[36mlocal_hash_id\u001B[0m=\u001B[35mportfolioexample_f53f240ed0980b8f8bd541172af036ac\u001B[0m \u001B[36mlocal_hash_id_data_source\u001B[0m=\u001B[35m1\u001B[0m \u001B[36mproject_id\u001B[0m=\u001B[35m1\u001B[0m \u001B[36mscheduler_name\u001B[0m=\u001B[35mDEBUG_portfolioexample_f53f240ed0980b8f8bd541172af036ac_1\u001B[0m (at utils.py:95 in make_request())\n",
      "\u001B[2m2025-05-19T13:43:49.115236Z\u001B[0m [\u001B[32m\u001B[1mdebug    \u001B[0m] \u001B[1mtook 1.1204 seconds. Requesting POST from http://192.168.178.69:8000/orm/api/ts_manager/local_time_serie/get_metadatas_and_set_updates/\u001B[0m \u001B[36mapi_time_series\u001B[0m=\u001B[35mFalse\u001B[0m \u001B[36mapplication_name\u001B[0m=\u001B[35mms-sdk\u001B[0m \u001B[36mdata_source_id\u001B[0m=\u001B[35m1\u001B[0m \u001B[36mhead_local_ts_hash_id\u001B[0m=\u001B[35mportfolioexample_f53f240ed0980b8f8bd541172af036ac\u001B[0m \u001B[36mjob_run_id\u001B[0m=\u001B[35mNone\u001B[0m \u001B[36mlocal_hash_id\u001B[0m=\u001B[35mportfolioexample_f53f240ed0980b8f8bd541172af036ac\u001B[0m \u001B[36mlocal_hash_id_data_source\u001B[0m=\u001B[35m1\u001B[0m \u001B[36mproject_id\u001B[0m=\u001B[35m1\u001B[0m \u001B[36mscheduler_name\u001B[0m=\u001B[35mDEBUG_portfolioexample_f53f240ed0980b8f8bd541172af036ac_1\u001B[0m (at utils.py:95 in make_request())\n",
      "\u001B[2m2025-05-19T13:43:49.118921Z\u001B[0m [\u001B[32m\u001B[1mdebug    \u001B[0m] \u001B[1mstate set with dependencies metadatas\u001B[0m \u001B[36mapi_time_series\u001B[0m=\u001B[35mFalse\u001B[0m \u001B[36mapplication_name\u001B[0m=\u001B[35mms-sdk\u001B[0m \u001B[36mdata_source_id\u001B[0m=\u001B[35m1\u001B[0m \u001B[36mhead_local_ts_hash_id\u001B[0m=\u001B[35mportfolioexample_f53f240ed0980b8f8bd541172af036ac\u001B[0m \u001B[36mjob_run_id\u001B[0m=\u001B[35mNone\u001B[0m \u001B[36mlocal_hash_id\u001B[0m=\u001B[35mportfolioexample_f53f240ed0980b8f8bd541172af036ac\u001B[0m \u001B[36mlocal_hash_id_data_source\u001B[0m=\u001B[35m1\u001B[0m \u001B[36mproject_id\u001B[0m=\u001B[35m1\u001B[0m \u001B[36mscheduler_name\u001B[0m=\u001B[35mDEBUG_portfolioexample_f53f240ed0980b8f8bd541172af036ac_1\u001B[0m (at time_series.py:1984 in run())\n",
      "\u001B[2m2025-05-19T13:43:49.632595Z\u001B[0m [\u001B[32m\u001B[1mdebug    \u001B[0m] \u001B[1mtook 0.5122 seconds. Requesting PATCH from http://192.168.178.69:8000/orm/api/ts_manager/local_time_serie/255/set_start_of_execution/\u001B[0m \u001B[36mapi_time_series\u001B[0m=\u001B[35mFalse\u001B[0m \u001B[36mapplication_name\u001B[0m=\u001B[35mms-sdk\u001B[0m \u001B[36mdata_source_id\u001B[0m=\u001B[35m1\u001B[0m \u001B[36mhead_local_ts_hash_id\u001B[0m=\u001B[35mportfolioexample_f53f240ed0980b8f8bd541172af036ac\u001B[0m \u001B[36mjob_run_id\u001B[0m=\u001B[35mNone\u001B[0m \u001B[36mlocal_hash_id\u001B[0m=\u001B[35mportfolioexample_f53f240ed0980b8f8bd541172af036ac\u001B[0m \u001B[36mlocal_hash_id_data_source\u001B[0m=\u001B[35m1\u001B[0m \u001B[36mproject_id\u001B[0m=\u001B[35m1\u001B[0m \u001B[36mscheduler_name\u001B[0m=\u001B[35mDEBUG_portfolioexample_f53f240ed0980b8f8bd541172af036ac_1\u001B[0m (at utils.py:95 in make_request())\n",
      "\u001B[2m2025-05-19T13:43:50.364890Z\u001B[0m [\u001B[32m\u001B[1mdebug    \u001B[0m] \u001B[1mtook 0.7281 seconds. Requesting GET from http://192.168.178.69:8000/orm/api/ts_manager/local_time_serie/\u001B[0m \u001B[36mapplication_name\u001B[0m=\u001B[35mms-sdk\u001B[0m \u001B[36mdata_source_id\u001B[0m=\u001B[35m1\u001B[0m \u001B[36mjob_run_id\u001B[0m=\u001B[35mNone\u001B[0m \u001B[36mproject_id\u001B[0m=\u001B[35m1\u001B[0m (at utils.py:95 in make_request())\n",
      "\u001B[2m2025-05-19T13:43:50.370320Z\u001B[0m [\u001B[32m\u001B[1mdebug    \u001B[0m] \u001B[1mTree is not updated as is_local_relation_tree_set== True\u001B[0m \u001B[36mapi_time_series\u001B[0m=\u001B[35mFalse\u001B[0m \u001B[36mapplication_name\u001B[0m=\u001B[35mms-sdk\u001B[0m \u001B[36mdata_source_id\u001B[0m=\u001B[35m1\u001B[0m \u001B[36mhead_local_ts_hash_id\u001B[0m=\u001B[35mportfolioexample_f53f240ed0980b8f8bd541172af036ac\u001B[0m \u001B[36mjob_run_id\u001B[0m=\u001B[35mNone\u001B[0m \u001B[36mlocal_hash_id\u001B[0m=\u001B[35mportfolioexample_f53f240ed0980b8f8bd541172af036ac\u001B[0m \u001B[36mlocal_hash_id_data_source\u001B[0m=\u001B[35m1\u001B[0m \u001B[36mproject_id\u001B[0m=\u001B[35m1\u001B[0m \u001B[36mscheduler_name\u001B[0m=\u001B[35mDEBUG_portfolioexample_f53f240ed0980b8f8bd541172af036ac_1\u001B[0m (at time_series.py:2238 in _verify_tree_is_updated())\n",
      "\u001B[2m2025-05-19T13:43:50.374207Z\u001B[0m [\u001B[32m\u001B[1mdebug    \u001B[0m] \u001B[1mUpdating tree with update map [] and dependencies []\u001B[0m \u001B[36mapi_time_series\u001B[0m=\u001B[35mFalse\u001B[0m \u001B[36mapplication_name\u001B[0m=\u001B[35mms-sdk\u001B[0m \u001B[36mdata_source_id\u001B[0m=\u001B[35m1\u001B[0m \u001B[36mhead_local_ts_hash_id\u001B[0m=\u001B[35mportfolioexample_f53f240ed0980b8f8bd541172af036ac\u001B[0m \u001B[36mjob_run_id\u001B[0m=\u001B[35mNone\u001B[0m \u001B[36mlocal_hash_id\u001B[0m=\u001B[35mportfolioexample_f53f240ed0980b8f8bd541172af036ac\u001B[0m \u001B[36mlocal_hash_id_data_source\u001B[0m=\u001B[35m1\u001B[0m \u001B[36mproject_id\u001B[0m=\u001B[35m1\u001B[0m \u001B[36mscheduler_name\u001B[0m=\u001B[35mDEBUG_portfolioexample_f53f240ed0980b8f8bd541172af036ac_1\u001B[0m (at time_series.py:2244 in _verify_tree_is_updated())\n",
      "\u001B[2m2025-05-19T13:43:50.377015Z\u001B[0m [\u001B[32m\u001B[1mdebug    \u001B[0m] \u001B[1mDependency Tree evaluated for  PortfolioExample http://192.168.178.69:8000/local-time-series/details/?local_time_serie_id=255\u001B[0m \u001B[36mapi_time_series\u001B[0m=\u001B[35mFalse\u001B[0m \u001B[36mapplication_name\u001B[0m=\u001B[35mms-sdk\u001B[0m \u001B[36mdata_source_id\u001B[0m=\u001B[35m1\u001B[0m \u001B[36mhead_local_ts_hash_id\u001B[0m=\u001B[35mportfolioexample_f53f240ed0980b8f8bd541172af036ac\u001B[0m \u001B[36mjob_run_id\u001B[0m=\u001B[35mNone\u001B[0m \u001B[36mlocal_hash_id\u001B[0m=\u001B[35mportfolioexample_f53f240ed0980b8f8bd541172af036ac\u001B[0m \u001B[36mlocal_hash_id_data_source\u001B[0m=\u001B[35m1\u001B[0m \u001B[36mproject_id\u001B[0m=\u001B[35m1\u001B[0m \u001B[36mscheduler_name\u001B[0m=\u001B[35mDEBUG_portfolioexample_f53f240ed0980b8f8bd541172af036ac_1\u001B[0m (at time_series.py:2304 in _verify_tree_is_updated())\n",
      "\u001B[2m2025-05-19T13:43:50.379535Z\u001B[0m [\u001B[32m\u001B[1minfo     \u001B[0m] \u001B[1mUpdating Local Time Series for  PortfolioExample http://192.168.178.69:8000/local-time-series/details/?local_time_serie_id=255  for first time\u001B[0m \u001B[36mapi_time_series\u001B[0m=\u001B[35mFalse\u001B[0m \u001B[36mapplication_name\u001B[0m=\u001B[35mms-sdk\u001B[0m \u001B[36mdata_source_id\u001B[0m=\u001B[35m1\u001B[0m \u001B[36mhead_local_ts_hash_id\u001B[0m=\u001B[35mportfolioexample_f53f240ed0980b8f8bd541172af036ac\u001B[0m \u001B[36mjob_run_id\u001B[0m=\u001B[35mNone\u001B[0m \u001B[36mlocal_hash_id\u001B[0m=\u001B[35mportfolioexample_f53f240ed0980b8f8bd541172af036ac\u001B[0m \u001B[36mlocal_hash_id_data_source\u001B[0m=\u001B[35m1\u001B[0m \u001B[36mproject_id\u001B[0m=\u001B[35m1\u001B[0m \u001B[36mscheduler_name\u001B[0m=\u001B[35mDEBUG_portfolioexample_f53f240ed0980b8f8bd541172af036ac_1\u001B[0m (at time_series.py:2439 in update_local())\n",
      "\u001B[2m2025-05-19T13:43:55.970047Z\u001B[0m [\u001B[32m\u001B[1mdebug    \u001B[0m] \u001B[1mtook 5.5830 seconds. Requesting POST from http://192.168.178.69:8000/orm/api/ts_manager/source_table_config/\u001B[0m \u001B[36mapi_time_series\u001B[0m=\u001B[35mFalse\u001B[0m \u001B[36mapplication_name\u001B[0m=\u001B[35mms-sdk\u001B[0m \u001B[36mdata_source_id\u001B[0m=\u001B[35m1\u001B[0m \u001B[36mhead_local_ts_hash_id\u001B[0m=\u001B[35mportfolioexample_f53f240ed0980b8f8bd541172af036ac\u001B[0m \u001B[36mjob_run_id\u001B[0m=\u001B[35mNone\u001B[0m \u001B[36mlocal_hash_id\u001B[0m=\u001B[35mportfolioexample_f53f240ed0980b8f8bd541172af036ac\u001B[0m \u001B[36mlocal_hash_id_data_source\u001B[0m=\u001B[35m1\u001B[0m \u001B[36mproject_id\u001B[0m=\u001B[35m1\u001B[0m \u001B[36mscheduler_name\u001B[0m=\u001B[35mDEBUG_portfolioexample_f53f240ed0980b8f8bd541172af036ac_1\u001B[0m (at utils.py:95 in make_request())\n",
      "\u001B[2m2025-05-19T13:43:55.984435Z\u001B[0m [\u001B[32m\u001B[1minfo     \u001B[0m] \u001B[1mStarting upload of 31 rows in 1 chunk(s).\u001B[0m \u001B[36mapi_time_series\u001B[0m=\u001B[35mFalse\u001B[0m \u001B[36mapplication_name\u001B[0m=\u001B[35mms-sdk\u001B[0m \u001B[36mdata_source_id\u001B[0m=\u001B[35m1\u001B[0m \u001B[36mhead_local_ts_hash_id\u001B[0m=\u001B[35mportfolioexample_f53f240ed0980b8f8bd541172af036ac\u001B[0m \u001B[36mjob_run_id\u001B[0m=\u001B[35mNone\u001B[0m \u001B[36mlocal_hash_id\u001B[0m=\u001B[35mportfolioexample_f53f240ed0980b8f8bd541172af036ac\u001B[0m \u001B[36mlocal_hash_id_data_source\u001B[0m=\u001B[35m1\u001B[0m \u001B[36mproject_id\u001B[0m=\u001B[35m1\u001B[0m \u001B[36mscheduler_name\u001B[0m=\u001B[35mDEBUG_portfolioexample_f53f240ed0980b8f8bd541172af036ac_1\u001B[0m (at models_tdag.py:650 in post_data_frame_in_chunks())\n",
      "\u001B[2m2025-05-19T13:43:58.497316Z\u001B[0m [\u001B[32m\u001B[1mdebug    \u001B[0m] \u001B[1mtook 2.5081 seconds. Requesting POST from http://192.168.178.69:8000/orm/api/ts_manager/local_time_serie/255/insert_data_into_table/\u001B[0m \u001B[36mapi_time_series\u001B[0m=\u001B[35mFalse\u001B[0m \u001B[36mapplication_name\u001B[0m=\u001B[35mms-sdk\u001B[0m \u001B[36mdata_source_id\u001B[0m=\u001B[35m1\u001B[0m \u001B[36mhead_local_ts_hash_id\u001B[0m=\u001B[35mportfolioexample_f53f240ed0980b8f8bd541172af036ac\u001B[0m \u001B[36mjob_run_id\u001B[0m=\u001B[35mNone\u001B[0m \u001B[36mlocal_hash_id\u001B[0m=\u001B[35mportfolioexample_f53f240ed0980b8f8bd541172af036ac\u001B[0m \u001B[36mlocal_hash_id_data_source\u001B[0m=\u001B[35m1\u001B[0m \u001B[36mproject_id\u001B[0m=\u001B[35m1\u001B[0m \u001B[36mscheduler_name\u001B[0m=\u001B[35mDEBUG_portfolioexample_f53f240ed0980b8f8bd541172af036ac_1\u001B[0m (at utils.py:95 in make_request())\n",
      "\u001B[2m2025-05-19T13:43:58.500969Z\u001B[0m [\u001B[32m\u001B[1minfo     \u001B[0m] \u001B[1mChunk 1/1 uploaded successfully.\u001B[0m \u001B[36mapi_time_series\u001B[0m=\u001B[35mFalse\u001B[0m \u001B[36mapplication_name\u001B[0m=\u001B[35mms-sdk\u001B[0m \u001B[36mdata_source_id\u001B[0m=\u001B[35m1\u001B[0m \u001B[36mhead_local_ts_hash_id\u001B[0m=\u001B[35mportfolioexample_f53f240ed0980b8f8bd541172af036ac\u001B[0m \u001B[36mjob_run_id\u001B[0m=\u001B[35mNone\u001B[0m \u001B[36mlocal_hash_id\u001B[0m=\u001B[35mportfolioexample_f53f240ed0980b8f8bd541172af036ac\u001B[0m \u001B[36mlocal_hash_id_data_source\u001B[0m=\u001B[35m1\u001B[0m \u001B[36mproject_id\u001B[0m=\u001B[35m1\u001B[0m \u001B[36mscheduler_name\u001B[0m=\u001B[35mDEBUG_portfolioexample_f53f240ed0980b8f8bd541172af036ac_1\u001B[0m (at models_tdag.py:684 in post_data_frame_in_chunks())\n",
      "\u001B[2m2025-05-19T13:43:58.503682Z\u001B[0m [\u001B[32m\u001B[1mdebug    \u001B[0m] \u001B[1mSet last update index with {'last_time_index_value': 1747662230.382854, 'max_per_asset_symbol': None, 'last_observation': {1747662230.382854: {'close': 154.69372635008568}}}\u001B[0m \u001B[36mapi_time_series\u001B[0m=\u001B[35mFalse\u001B[0m \u001B[36mapplication_name\u001B[0m=\u001B[35mms-sdk\u001B[0m \u001B[36mdata_source_id\u001B[0m=\u001B[35m1\u001B[0m \u001B[36mhead_local_ts_hash_id\u001B[0m=\u001B[35mportfolioexample_f53f240ed0980b8f8bd541172af036ac\u001B[0m \u001B[36mjob_run_id\u001B[0m=\u001B[35mNone\u001B[0m \u001B[36mlocal_hash_id\u001B[0m=\u001B[35mportfolioexample_f53f240ed0980b8f8bd541172af036ac\u001B[0m \u001B[36mlocal_hash_id_data_source\u001B[0m=\u001B[35m1\u001B[0m \u001B[36mproject_id\u001B[0m=\u001B[35m1\u001B[0m \u001B[36mscheduler_name\u001B[0m=\u001B[35mDEBUG_portfolioexample_f53f240ed0980b8f8bd541172af036ac_1\u001B[0m (at models_tdag.py:452 in set_last_update_index_time_from_update_stats())\n",
      "\u001B[2m2025-05-19T13:43:59.851323Z\u001B[0m [\u001B[32m\u001B[1mdebug    \u001B[0m] \u001B[1mtook 1.3448 seconds. Requesting POST from http://192.168.178.69:8000/orm/api/ts_manager/local_time_serie/255/set_last_update_index_time_from_update_stats/\u001B[0m \u001B[36mapi_time_series\u001B[0m=\u001B[35mFalse\u001B[0m \u001B[36mapplication_name\u001B[0m=\u001B[35mms-sdk\u001B[0m \u001B[36mdata_source_id\u001B[0m=\u001B[35m1\u001B[0m \u001B[36mhead_local_ts_hash_id\u001B[0m=\u001B[35mportfolioexample_f53f240ed0980b8f8bd541172af036ac\u001B[0m \u001B[36mjob_run_id\u001B[0m=\u001B[35mNone\u001B[0m \u001B[36mlocal_hash_id\u001B[0m=\u001B[35mportfolioexample_f53f240ed0980b8f8bd541172af036ac\u001B[0m \u001B[36mlocal_hash_id_data_source\u001B[0m=\u001B[35m1\u001B[0m \u001B[36mproject_id\u001B[0m=\u001B[35m1\u001B[0m \u001B[36mscheduler_name\u001B[0m=\u001B[35mDEBUG_portfolioexample_f53f240ed0980b8f8bd541172af036ac_1\u001B[0m (at utils.py:95 in make_request())\n",
      "\u001B[2m2025-05-19T13:43:59.854439Z\u001B[0m [\u001B[32m\u001B[1minfo     \u001B[0m] \u001B[1mLocal Time Series  PortfolioExample http://192.168.178.69:8000/local-time-series/details/?local_time_serie_id=255  updated\u001B[0m \u001B[36mapi_time_series\u001B[0m=\u001B[35mFalse\u001B[0m \u001B[36mapplication_name\u001B[0m=\u001B[35mms-sdk\u001B[0m \u001B[36mdata_source_id\u001B[0m=\u001B[35m1\u001B[0m \u001B[36mhead_local_ts_hash_id\u001B[0m=\u001B[35mportfolioexample_f53f240ed0980b8f8bd541172af036ac\u001B[0m \u001B[36mjob_run_id\u001B[0m=\u001B[35mNone\u001B[0m \u001B[36mlocal_hash_id\u001B[0m=\u001B[35mportfolioexample_f53f240ed0980b8f8bd541172af036ac\u001B[0m \u001B[36mlocal_hash_id_data_source\u001B[0m=\u001B[35m1\u001B[0m \u001B[36mproject_id\u001B[0m=\u001B[35m1\u001B[0m \u001B[36mscheduler_name\u001B[0m=\u001B[35mDEBUG_portfolioexample_f53f240ed0980b8f8bd541172af036ac_1\u001B[0m (at time_series.py:2465 in update_local())\n",
      "\u001B[2m2025-05-19T13:44:00.706445Z\u001B[0m [\u001B[32m\u001B[1minfo     \u001B[0m] \u001B[1mHeartbeat thread stopped.     \u001B[0m \u001B[36mapi_time_series\u001B[0m=\u001B[35mFalse\u001B[0m \u001B[36mapplication_name\u001B[0m=\u001B[35mms-sdk\u001B[0m \u001B[36mdata_source_id\u001B[0m=\u001B[35m1\u001B[0m \u001B[36mhead_local_ts_hash_id\u001B[0m=\u001B[35mportfolioexample_f53f240ed0980b8f8bd541172af036ac\u001B[0m \u001B[36mjob_run_id\u001B[0m=\u001B[35mNone\u001B[0m \u001B[36mlocal_hash_id\u001B[0m=\u001B[35mportfolioexample_f53f240ed0980b8f8bd541172af036ac\u001B[0m \u001B[36mlocal_hash_id_data_source\u001B[0m=\u001B[35m1\u001B[0m \u001B[36mproject_id\u001B[0m=\u001B[35m1\u001B[0m \u001B[36mscheduler_name\u001B[0m=\u001B[35mDEBUG_portfolioexample_f53f240ed0980b8f8bd541172af036ac_1\u001B[0m (at models_tdag.py:1010 in stop_heart_beat())\n"
     ]
    }
   ],
   "execution_count": 3
  },
  {
   "cell_type": "code",
   "id": "bf28faaa65451aa1",
   "metadata": {
    "ExecuteTime": {
     "end_time": "2025-05-19T13:44:01.455726Z",
     "start_time": "2025-05-19T13:44:00.715140Z"
    }
   },
   "source": [
    "#we can get our simulated prices from TDAG Backend\n",
    "print(f\"Data in time series\",portfolio_ts)\n",
    "portfolio_ts.get_df_between_dates()"
   ],
   "outputs": [
    {
     "name": "stdout",
     "output_type": "stream",
     "text": [
      "Data in time series PortfolioExample http://192.168.178.69:8000/local-time-series/details/?local_time_serie_id=255\n"
     ]
    },
    {
     "name": "stderr",
     "output_type": "stream",
     "text": [
      "\u001B[2m2025-05-19T13:44:01.433937Z\u001B[0m [\u001B[32m\u001B[1mdebug    \u001B[0m] \u001B[1mtook 0.6898 seconds. Requesting POST from http://192.168.178.69:8000/orm/api/ts_manager/local_time_serie/255/get_data_between_dates_from_remote/\u001B[0m \u001B[36mapi_time_series\u001B[0m=\u001B[35mFalse\u001B[0m \u001B[36mapplication_name\u001B[0m=\u001B[35mms-sdk\u001B[0m \u001B[36mdata_source_id\u001B[0m=\u001B[35m1\u001B[0m \u001B[36mhead_local_ts_hash_id\u001B[0m=\u001B[35mportfolioexample_f53f240ed0980b8f8bd541172af036ac\u001B[0m \u001B[36mjob_run_id\u001B[0m=\u001B[35mNone\u001B[0m \u001B[36mlocal_hash_id\u001B[0m=\u001B[35mportfolioexample_f53f240ed0980b8f8bd541172af036ac\u001B[0m \u001B[36mlocal_hash_id_data_source\u001B[0m=\u001B[35m1\u001B[0m \u001B[36mproject_id\u001B[0m=\u001B[35m1\u001B[0m \u001B[36mscheduler_name\u001B[0m=\u001B[35mDEBUG_portfolioexample_f53f240ed0980b8f8bd541172af036ac_1\u001B[0m (at utils.py:95 in make_request())\n"
     ]
    },
    {
     "data": {
      "text/plain": [
       "                                       close\n",
       "time_index                                  \n",
       "2025-04-19 13:43:50.382000+00:00  100.000000\n",
       "2025-04-20 13:43:50.382000+00:00   97.834043\n",
       "2025-04-21 13:43:50.382000+00:00  104.090606\n",
       "2025-04-22 13:43:50.382000+00:00   95.882577\n",
       "2025-04-23 13:43:50.382000+00:00  113.441587\n",
       "2025-04-24 13:43:50.382000+00:00  124.150442\n",
       "2025-04-25 13:43:50.382000+00:00  108.641368\n",
       "2025-04-26 13:43:50.382000+00:00  120.532926\n",
       "2025-04-27 13:43:50.382000+00:00  108.228648\n",
       "2025-04-28 13:43:50.382000+00:00  104.057217\n",
       "2025-04-29 13:43:50.382000+00:00   96.397399\n",
       "2025-04-30 13:43:50.382000+00:00  108.293218\n",
       "2025-05-01 13:43:50.382000+00:00  109.751209\n",
       "2025-05-02 13:43:50.382000+00:00  134.880859\n",
       "2025-05-03 13:43:50.382000+00:00  143.678492\n",
       "2025-05-04 13:43:50.382000+00:00  155.345812\n",
       "2025-05-05 13:43:50.382000+00:00  159.140543\n",
       "2025-05-06 13:43:50.382000+00:00  159.466781\n",
       "2025-05-07 13:43:50.382000+00:00  178.768511\n",
       "2025-05-08 13:43:50.382000+00:00  162.224469\n",
       "2025-05-09 13:43:50.382000+00:00  166.915288\n",
       "2025-05-10 13:43:50.382000+00:00  185.519738\n",
       "2025-05-11 13:43:50.382000+00:00  198.565653\n",
       "2025-05-12 13:43:50.382000+00:00  182.862893\n",
       "2025-05-13 13:43:50.382000+00:00  164.310649\n",
       "2025-05-14 13:43:50.382000+00:00  180.181543\n",
       "2025-05-15 13:43:50.382000+00:00  183.766110\n",
       "2025-05-16 13:43:50.382000+00:00  166.853235\n",
       "2025-05-17 13:43:50.382000+00:00  138.632892\n",
       "2025-05-18 13:43:50.382000+00:00  143.736135\n",
       "2025-05-19 13:43:50.382000+00:00  154.693726"
      ],
      "text/html": [
       "<div>\n",
       "<style scoped>\n",
       "    .dataframe tbody tr th:only-of-type {\n",
       "        vertical-align: middle;\n",
       "    }\n",
       "\n",
       "    .dataframe tbody tr th {\n",
       "        vertical-align: top;\n",
       "    }\n",
       "\n",
       "    .dataframe thead th {\n",
       "        text-align: right;\n",
       "    }\n",
       "</style>\n",
       "<table border=\"1\" class=\"dataframe\">\n",
       "  <thead>\n",
       "    <tr style=\"text-align: right;\">\n",
       "      <th></th>\n",
       "      <th>close</th>\n",
       "    </tr>\n",
       "    <tr>\n",
       "      <th>time_index</th>\n",
       "      <th></th>\n",
       "    </tr>\n",
       "  </thead>\n",
       "  <tbody>\n",
       "    <tr>\n",
       "      <th>2025-04-19 13:43:50.382000+00:00</th>\n",
       "      <td>100.000000</td>\n",
       "    </tr>\n",
       "    <tr>\n",
       "      <th>2025-04-20 13:43:50.382000+00:00</th>\n",
       "      <td>97.834043</td>\n",
       "    </tr>\n",
       "    <tr>\n",
       "      <th>2025-04-21 13:43:50.382000+00:00</th>\n",
       "      <td>104.090606</td>\n",
       "    </tr>\n",
       "    <tr>\n",
       "      <th>2025-04-22 13:43:50.382000+00:00</th>\n",
       "      <td>95.882577</td>\n",
       "    </tr>\n",
       "    <tr>\n",
       "      <th>2025-04-23 13:43:50.382000+00:00</th>\n",
       "      <td>113.441587</td>\n",
       "    </tr>\n",
       "    <tr>\n",
       "      <th>2025-04-24 13:43:50.382000+00:00</th>\n",
       "      <td>124.150442</td>\n",
       "    </tr>\n",
       "    <tr>\n",
       "      <th>2025-04-25 13:43:50.382000+00:00</th>\n",
       "      <td>108.641368</td>\n",
       "    </tr>\n",
       "    <tr>\n",
       "      <th>2025-04-26 13:43:50.382000+00:00</th>\n",
       "      <td>120.532926</td>\n",
       "    </tr>\n",
       "    <tr>\n",
       "      <th>2025-04-27 13:43:50.382000+00:00</th>\n",
       "      <td>108.228648</td>\n",
       "    </tr>\n",
       "    <tr>\n",
       "      <th>2025-04-28 13:43:50.382000+00:00</th>\n",
       "      <td>104.057217</td>\n",
       "    </tr>\n",
       "    <tr>\n",
       "      <th>2025-04-29 13:43:50.382000+00:00</th>\n",
       "      <td>96.397399</td>\n",
       "    </tr>\n",
       "    <tr>\n",
       "      <th>2025-04-30 13:43:50.382000+00:00</th>\n",
       "      <td>108.293218</td>\n",
       "    </tr>\n",
       "    <tr>\n",
       "      <th>2025-05-01 13:43:50.382000+00:00</th>\n",
       "      <td>109.751209</td>\n",
       "    </tr>\n",
       "    <tr>\n",
       "      <th>2025-05-02 13:43:50.382000+00:00</th>\n",
       "      <td>134.880859</td>\n",
       "    </tr>\n",
       "    <tr>\n",
       "      <th>2025-05-03 13:43:50.382000+00:00</th>\n",
       "      <td>143.678492</td>\n",
       "    </tr>\n",
       "    <tr>\n",
       "      <th>2025-05-04 13:43:50.382000+00:00</th>\n",
       "      <td>155.345812</td>\n",
       "    </tr>\n",
       "    <tr>\n",
       "      <th>2025-05-05 13:43:50.382000+00:00</th>\n",
       "      <td>159.140543</td>\n",
       "    </tr>\n",
       "    <tr>\n",
       "      <th>2025-05-06 13:43:50.382000+00:00</th>\n",
       "      <td>159.466781</td>\n",
       "    </tr>\n",
       "    <tr>\n",
       "      <th>2025-05-07 13:43:50.382000+00:00</th>\n",
       "      <td>178.768511</td>\n",
       "    </tr>\n",
       "    <tr>\n",
       "      <th>2025-05-08 13:43:50.382000+00:00</th>\n",
       "      <td>162.224469</td>\n",
       "    </tr>\n",
       "    <tr>\n",
       "      <th>2025-05-09 13:43:50.382000+00:00</th>\n",
       "      <td>166.915288</td>\n",
       "    </tr>\n",
       "    <tr>\n",
       "      <th>2025-05-10 13:43:50.382000+00:00</th>\n",
       "      <td>185.519738</td>\n",
       "    </tr>\n",
       "    <tr>\n",
       "      <th>2025-05-11 13:43:50.382000+00:00</th>\n",
       "      <td>198.565653</td>\n",
       "    </tr>\n",
       "    <tr>\n",
       "      <th>2025-05-12 13:43:50.382000+00:00</th>\n",
       "      <td>182.862893</td>\n",
       "    </tr>\n",
       "    <tr>\n",
       "      <th>2025-05-13 13:43:50.382000+00:00</th>\n",
       "      <td>164.310649</td>\n",
       "    </tr>\n",
       "    <tr>\n",
       "      <th>2025-05-14 13:43:50.382000+00:00</th>\n",
       "      <td>180.181543</td>\n",
       "    </tr>\n",
       "    <tr>\n",
       "      <th>2025-05-15 13:43:50.382000+00:00</th>\n",
       "      <td>183.766110</td>\n",
       "    </tr>\n",
       "    <tr>\n",
       "      <th>2025-05-16 13:43:50.382000+00:00</th>\n",
       "      <td>166.853235</td>\n",
       "    </tr>\n",
       "    <tr>\n",
       "      <th>2025-05-17 13:43:50.382000+00:00</th>\n",
       "      <td>138.632892</td>\n",
       "    </tr>\n",
       "    <tr>\n",
       "      <th>2025-05-18 13:43:50.382000+00:00</th>\n",
       "      <td>143.736135</td>\n",
       "    </tr>\n",
       "    <tr>\n",
       "      <th>2025-05-19 13:43:50.382000+00:00</th>\n",
       "      <td>154.693726</td>\n",
       "    </tr>\n",
       "  </tbody>\n",
       "</table>\n",
       "</div>"
      ]
     },
     "execution_count": 4,
     "metadata": {},
     "output_type": "execute_result"
    }
   ],
   "execution_count": 4
  },
  {
   "cell_type": "code",
   "id": "b1c2cd40",
   "metadata": {
    "ExecuteTime": {
     "end_time": "2025-05-19T13:47:13.773224Z",
     "start_time": "2025-05-19T13:47:08.729998Z"
    }
   },
   "source": [
    "\n",
    "def create_portfolio(build_purpose, portfolio_name,portfolio_ts,valuation_asset):\n",
    "    \n",
    "    \n",
    "    existing_portfolio = TargetPortfolio.get_or_none(\n",
    "       \n",
    "        local_time_serie__id=portfolio_ts.local_metadata.id\n",
    "    )\n",
    "    \n",
    "    if existing_portfolio:\n",
    "        print(f\"Portfolio '{portfolio_name}' already exists.\")\n",
    "        index_asset=TargetPortfolioIndexAsset.get(reference_portfolio__id=existing_portfolio.id)\n",
    "        \n",
    "        \n",
    "        return existing_portfolio,index_asset\n",
    "    \n",
    "    \n",
    "    return TargetPortfolio.create_from_time_series(\n",
    "        portfolio_name=portfolio_name,\n",
    "        build_purpose=build_purpose,\n",
    "        is_active=True,\n",
    "        local_time_serie_id=portfolio_ts.local_metadata.id,  # Example ID\n",
    "        signal_local_time_serie_id=portfolio_ts.local_metadata.id, #we are not using a signal so we are setting the same \n",
    "        required_venues__symbols=[MARKETS_CONSTANTS.BINANCE_EV_SYMBOL],\n",
    "        calendar_name=\"24/7\",\n",
    "        tracking_funds_expected_exposure_from_latest_holdings=False, \n",
    "        is_asset_only=False,\n",
    "        backtest_table_price_column_name=\"close\",\n",
    "        valuation_asset_id=valuation_asset.id,\n",
    "        target_portfolio_about=dict(description= \"Test Portfolio For example\",\n",
    "                                    signal_name= \"No signal\",\n",
    "                                    signal_description=\"no descritpiont\",\n",
    "                                    rebalance_strategy_name=\"no rebalance\"), timeout=600000\n",
    "    )\n",
    "\n",
    "valuation_asset=Asset.get(ticker=\"USDT\",execution_venue__symbol=MARKETS_CONSTANTS.BINANCE_EV_SYMBOL)\n",
    "# Create Backtesting Portfolio\n",
    "backtest_portfolio, portfolio_index_asset = create_portfolio(\n",
    "    MARKETS_CONSTANTS.PORTFOLIO_BUILD_FOR_BACKTEST, \"Example Portfolio\",portfolio_ts,valuation_asset,\n",
    ")\n",
    "print(\"Created Backtest Portfolio:\", backtest_portfolio.portfolio_name)\n",
    "print(\"Related Asset\", valuation_asset)\n"
   ],
   "outputs": [
    {
     "name": "stderr",
     "output_type": "stream",
     "text": [
      "\u001B[2m2025-05-19T13:47:09.268763Z\u001B[0m [\u001B[32m\u001B[1mdebug    \u001B[0m] \u001B[1mtook 0.5354 seconds. Requesting GET from http://192.168.178.69:8000/orm/api/assets/asset/\u001B[0m \u001B[36mapi_time_series\u001B[0m=\u001B[35mFalse\u001B[0m \u001B[36mapplication_name\u001B[0m=\u001B[35mms-sdk\u001B[0m \u001B[36mdata_source_id\u001B[0m=\u001B[35m1\u001B[0m \u001B[36mhead_local_ts_hash_id\u001B[0m=\u001B[35mportfolioexample_f53f240ed0980b8f8bd541172af036ac\u001B[0m \u001B[36mjob_run_id\u001B[0m=\u001B[35mNone\u001B[0m \u001B[36mlocal_hash_id\u001B[0m=\u001B[35mportfolioexample_f53f240ed0980b8f8bd541172af036ac\u001B[0m \u001B[36mlocal_hash_id_data_source\u001B[0m=\u001B[35m1\u001B[0m \u001B[36mproject_id\u001B[0m=\u001B[35m1\u001B[0m \u001B[36mscheduler_name\u001B[0m=\u001B[35mDEBUG_portfolioexample_f53f240ed0980b8f8bd541172af036ac_1\u001B[0m (at utils.py:95 in make_request())\n",
      "\u001B[2m2025-05-19T13:47:09.682028Z\u001B[0m [\u001B[32m\u001B[1mdebug    \u001B[0m] \u001B[1mtook 0.4120 seconds. Requesting GET from http://192.168.178.69:8000/orm/api/assets/target_portfolio/\u001B[0m \u001B[36mapi_time_series\u001B[0m=\u001B[35mFalse\u001B[0m \u001B[36mapplication_name\u001B[0m=\u001B[35mms-sdk\u001B[0m \u001B[36mdata_source_id\u001B[0m=\u001B[35m1\u001B[0m \u001B[36mhead_local_ts_hash_id\u001B[0m=\u001B[35mportfolioexample_f53f240ed0980b8f8bd541172af036ac\u001B[0m \u001B[36mjob_run_id\u001B[0m=\u001B[35mNone\u001B[0m \u001B[36mlocal_hash_id\u001B[0m=\u001B[35mportfolioexample_f53f240ed0980b8f8bd541172af036ac\u001B[0m \u001B[36mlocal_hash_id_data_source\u001B[0m=\u001B[35m1\u001B[0m \u001B[36mproject_id\u001B[0m=\u001B[35m1\u001B[0m \u001B[36mscheduler_name\u001B[0m=\u001B[35mDEBUG_portfolioexample_f53f240ed0980b8f8bd541172af036ac_1\u001B[0m (at utils.py:95 in make_request())\n",
      "\u001B[2m2025-05-19T13:47:13.764319Z\u001B[0m [\u001B[32m\u001B[1mdebug    \u001B[0m] \u001B[1mtook 4.0780 seconds. Requesting POST from http://192.168.178.69:8000/orm/api/assets/target_portfolio/create_from_time_series/\u001B[0m \u001B[36mapi_time_series\u001B[0m=\u001B[35mFalse\u001B[0m \u001B[36mapplication_name\u001B[0m=\u001B[35mms-sdk\u001B[0m \u001B[36mdata_source_id\u001B[0m=\u001B[35m1\u001B[0m \u001B[36mhead_local_ts_hash_id\u001B[0m=\u001B[35mportfolioexample_f53f240ed0980b8f8bd541172af036ac\u001B[0m \u001B[36mjob_run_id\u001B[0m=\u001B[35mNone\u001B[0m \u001B[36mlocal_hash_id\u001B[0m=\u001B[35mportfolioexample_f53f240ed0980b8f8bd541172af036ac\u001B[0m \u001B[36mlocal_hash_id_data_source\u001B[0m=\u001B[35m1\u001B[0m \u001B[36mproject_id\u001B[0m=\u001B[35m1\u001B[0m \u001B[36mscheduler_name\u001B[0m=\u001B[35mDEBUG_portfolioexample_f53f240ed0980b8f8bd541172af036ac_1\u001B[0m (at utils.py:95 in make_request())\n"
     ]
    },
    {
     "name": "stdout",
     "output_type": "stream",
     "text": [
      "Created Backtest Portfolio: Example Portfolio\n",
      "Related Asset orm_class='Asset' id=23020 can_trade=False calendar=Calendar: 1 execution_venue=ExecutionVenue: 2 delisted_datetime=None unique_identifier='USDT_bnce_KKG000000H64' real_figi=False figi='KKG000000H64' composite='KKG000000H64' ticker='USDT' security_type='Crypto' security_type_2='CRYPTO' security_market_sector='Curncy' share_class='KKG000000H64' exchange_code=None name='tether' main_sequence_share_class='LwZ5U4MvuuIH'\n"
     ]
    }
   ],
   "execution_count": 10
  },
  {
   "metadata": {
    "ExecuteTime": {
     "end_time": "2025-05-19T13:47:02.417086Z",
     "start_time": "2025-05-19T13:47:02.415251Z"
    }
   },
   "cell_type": "code",
   "source": "",
   "id": "d54497b5098e3c39",
   "outputs": [],
   "execution_count": 9
  },
  {
   "cell_type": "code",
   "id": "e1a874596ebd49a5",
   "metadata": {},
   "source": "",
   "outputs": [],
   "execution_count": null
  }
 ],
 "metadata": {
  "kernelspec": {
   "display_name": "venv",
   "language": "python",
   "name": "python3"
  },
  "language_info": {
   "codemirror_mode": {
    "name": "ipython",
    "version": 3
   },
   "file_extension": ".py",
   "mimetype": "text/x-python",
   "name": "python",
   "nbconvert_exporter": "python",
   "pygments_lexer": "ipython3",
   "version": "3.9.19"
  }
 },
 "nbformat": 4,
 "nbformat_minor": 5
}
