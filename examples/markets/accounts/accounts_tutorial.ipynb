{
 "cells": [
  {
   "cell_type": "markdown",
   "metadata": {},
   "source": [
    "# Querying and Managing Accounts in VAM Client\n",
    "This notebook demonstrates how to:\n",
    "- Perform CRUD (Create, Read, Update, Delete) operations on accounts.\n",
    "- Filter accounts based on different execution venues \n",
    "- Understand the differences in querying `Account`\n"
   ]
  },
  {
   "cell_type": "code",
   "metadata": {
    "ExecuteTime": {
     "end_time": "2025-04-18T18:52:49.212614Z",
     "start_time": "2025-04-18T18:52:47.669360Z"
    }
   },
   "source": [
    "import os\n",
    "from pathlib import Path\n",
    "\n",
    "# Save the original working directory (only once)\n",
    "try:\n",
    "    original_wd\n",
    "except NameError:\n",
    "    original_wd = os.getcwd()\n",
    "\n",
    "# Compute the target directory: two levels up from the original working directory\n",
    "# For example, if original_wd is /Users/username/project/notebooks,\n",
    "# then target_dir becomes /Users/username\n",
    "target_dir = Path(original_wd).parents[2]\n",
    "\n",
    "# Change the working directory to the target directory\n",
    "os.chdir(target_dir)\n",
    "print(\"Working directory set to:\", os.getcwd())\n",
    "\n",
    "import dotenv\n",
    "dotenv.load_dotenv('.env')\n",
    "\n",
    "# Import necessary modules\n",
    "import pandas as pd\n",
    "from mainsequence.client import Account\n",
    "from mainsequence.client.utils import MARKETS_CONSTANTS\n"
   ],
   "outputs": [
    {
     "name": "stdout",
     "output_type": "stream",
     "text": [
      "Working directory set to: /home/jose/code/MainSequenceClientSide/mainsequence-sdk\n"
     ]
    },
    {
     "name": "stderr",
     "output_type": "stream",
     "text": [
      "\u001B[2m2025-04-18T18:52:48.343823Z\u001B[0m [\u001B[32m\u001B[1mdebug    \u001B[0m] \u001B[1mGetting Auth Headers ASSETS_ORM\u001B[0m \u001B[36mapplication_name\u001B[0m=\u001B[35mms-sdk\u001B[0m \u001B[36mdata_source_id\u001B[0m=\u001B[35m1\u001B[0m \u001B[36mjob_run_id\u001B[0m=\u001B[35mNone\u001B[0m \u001B[36mproject_id\u001B[0m=\u001B[35m1\u001B[0m (at utils.py:39 in refresh_headers())\n",
      "\u001B[2m2025-04-18T18:52:48.508584Z\u001B[0m [\u001B[32m\u001B[1mdebug    \u001B[0m] \u001B[1mGetting Auth Headers ASSETS_ORM\u001B[0m \u001B[36mapplication_name\u001B[0m=\u001B[35mms-sdk\u001B[0m \u001B[36mdata_source_id\u001B[0m=\u001B[35m1\u001B[0m \u001B[36mjob_run_id\u001B[0m=\u001B[35mNone\u001B[0m \u001B[36mproject_id\u001B[0m=\u001B[35m1\u001B[0m (at utils.py:39 in refresh_headers())\n",
      "\u001B[2m2025-04-18T18:52:49.001235Z\u001B[0m [\u001B[32m\u001B[1mdebug    \u001B[0m] \u001B[1mtook 0.4129 seconds. Requesting GET from http://127.0.0.1:8000/orm/api/pods/projects/get_user_default_project/\u001B[0m \u001B[36mapplication_name\u001B[0m=\u001B[35mms-sdk\u001B[0m \u001B[36mdata_source_id\u001B[0m=\u001B[35m1\u001B[0m \u001B[36mjob_run_id\u001B[0m=\u001B[35mNone\u001B[0m \u001B[36mproject_id\u001B[0m=\u001B[35m1\u001B[0m (at utils.py:95 in make_request())\n",
      "\u001B[2m2025-04-18T18:52:49.002365Z\u001B[0m [\u001B[32m\u001B[1mdebug    \u001B[0m] \u001B[1mGetting Auth Headers ASSETS_ORM\u001B[0m \u001B[36mapplication_name\u001B[0m=\u001B[35mms-sdk\u001B[0m \u001B[36mdata_source_id\u001B[0m=\u001B[35m1\u001B[0m \u001B[36mjob_run_id\u001B[0m=\u001B[35mNone\u001B[0m \u001B[36mproject_id\u001B[0m=\u001B[35m1\u001B[0m (at utils.py:39 in refresh_headers())\n",
      "\u001B[2m2025-04-18T18:52:49.210708Z\u001B[0m [\u001B[32m\u001B[1mdebug    \u001B[0m] \u001B[1mtook 0.2078 seconds. Requesting GET from http://127.0.0.1:8000/orm/api/ts_manager/api/constants\u001B[0m \u001B[36mapplication_name\u001B[0m=\u001B[35mms-sdk\u001B[0m \u001B[36mdata_source_id\u001B[0m=\u001B[35m1\u001B[0m \u001B[36mjob_run_id\u001B[0m=\u001B[35mNone\u001B[0m \u001B[36mproject_id\u001B[0m=\u001B[35m1\u001B[0m (at utils.py:95 in make_request())\n"
     ]
    }
   ],
   "execution_count": 1
  },
  {
   "cell_type": "code",
   "metadata": {
    "ExecuteTime": {
     "end_time": "2025-04-18T18:52:49.216761Z",
     "start_time": "2025-04-18T18:52:49.215155Z"
    }
   },
   "source": [],
   "outputs": [],
   "execution_count": null
  },
  {
   "cell_type": "code",
   "metadata": {
    "ExecuteTime": {
     "end_time": "2025-04-18T18:52:51.218331Z",
     "start_time": "2025-04-18T18:52:49.646700Z"
    }
   },
   "source": [
    "!pip install matplotlib"
   ],
   "outputs": [
    {
     "name": "stdout",
     "output_type": "stream",
     "text": [
      "Requirement already satisfied: matplotlib in ./venv/lib/python3.9/site-packages (3.9.4)\r\n",
      "Requirement already satisfied: contourpy>=1.0.1 in ./venv/lib/python3.9/site-packages (from matplotlib) (1.3.0)\r\n",
      "Requirement already satisfied: cycler>=0.10 in ./venv/lib/python3.9/site-packages (from matplotlib) (0.12.1)\r\n",
      "Requirement already satisfied: fonttools>=4.22.0 in ./venv/lib/python3.9/site-packages (from matplotlib) (4.57.0)\r\n",
      "Requirement already satisfied: kiwisolver>=1.3.1 in ./venv/lib/python3.9/site-packages (from matplotlib) (1.4.7)\r\n",
      "Requirement already satisfied: numpy>=1.23 in ./venv/lib/python3.9/site-packages (from matplotlib) (2.0.2)\r\n",
      "Requirement already satisfied: packaging>=20.0 in ./venv/lib/python3.9/site-packages (from matplotlib) (24.2)\r\n",
      "Requirement already satisfied: pillow>=8 in ./venv/lib/python3.9/site-packages (from matplotlib) (11.1.0)\r\n",
      "Requirement already satisfied: pyparsing>=2.3.1 in ./venv/lib/python3.9/site-packages (from matplotlib) (3.2.3)\r\n",
      "Requirement already satisfied: python-dateutil>=2.7 in ./venv/lib/python3.9/site-packages (from matplotlib) (2.9.0.post0)\r\n",
      "Requirement already satisfied: importlib-resources>=3.2.0 in ./venv/lib/python3.9/site-packages (from matplotlib) (6.5.2)\r\n",
      "Requirement already satisfied: zipp>=3.1.0 in ./venv/lib/python3.9/site-packages (from importlib-resources>=3.2.0->matplotlib) (3.21.0)\r\n",
      "Requirement already satisfied: six>=1.5 in ./venv/lib/python3.9/site-packages (from python-dateutil>=2.7->matplotlib) (1.17.0)\r\n",
      "\r\n",
      "\u001B[1m[\u001B[0m\u001B[34;49mnotice\u001B[0m\u001B[1;39;49m]\u001B[0m\u001B[39;49m A new release of pip is available: \u001B[0m\u001B[31;49m23.2.1\u001B[0m\u001B[39;49m -> \u001B[0m\u001B[32;49m25.0.1\u001B[0m\r\n",
      "\u001B[1m[\u001B[0m\u001B[34;49mnotice\u001B[0m\u001B[1;39;49m]\u001B[0m\u001B[39;49m To update, run: \u001B[0m\u001B[32;49mpip install --upgrade pip\u001B[0m\r\n"
     ]
    }
   ],
   "execution_count": 2
  },
  {
   "cell_type": "markdown",
   "metadata": {},
   "source": [
    "## Retrieving All Active Accounts\n",
    "We fetch all active accounts from the database.\n",
    "\n",
    "### The Main Sequence Execution Venue and Main Sequence Account\n",
    "The mapping between accounts and execution venues defines which portfolios can be added to specific accounts via the portfolio property `required_venues`. This restriction ensures that an account can only follow portfolios matching the defined `required_venues`. However, as a researcher, you might want to create accounts capable of tracking portfolios across multiple different venues. In such cases, you can utilize accounts within the **Main Sequence ExecutionVenue**, which allows you to mix assets and portfolios from any venue."
   ]
  },
  {
   "cell_type": "code",
   "metadata": {
    "ExecuteTime": {
     "end_time": "2025-04-18T18:52:51.855412Z",
     "start_time": "2025-04-18T18:52:51.223693Z"
    }
   },
   "source": [
    "# Query all active accounts\n",
    "accounts= Account.filter(account_is_active=True)\n",
    "print(f\"Total active accounts: {len(accounts)}\")\n",
    "\n",
    "# Display general account information\n",
    "for acc in accounts:\n",
    "    print(f\"Account Name: {acc.account_name}, Venue: {acc.execution_venue}, Latest Holdings: {acc.latest_holdings.holdings_date}\")"
   ],
   "outputs": [
    {
     "name": "stderr",
     "output_type": "stream",
     "text": [
      "\u001B[2m2025-04-18T18:52:51.850485Z\u001B[0m [\u001B[32m\u001B[1mdebug    \u001B[0m] \u001B[1mtook 0.6259 seconds. Requesting GET from http://127.0.0.1:8000/orm/api/assets/account/\u001B[0m \u001B[36mapplication_name\u001B[0m=\u001B[35mms-sdk\u001B[0m \u001B[36mdata_source_id\u001B[0m=\u001B[35m1\u001B[0m \u001B[36mjob_run_id\u001B[0m=\u001B[35mNone\u001B[0m \u001B[36mproject_id\u001B[0m=\u001B[35m1\u001B[0m (at utils.py:95 in make_request())\n"
     ]
    },
    {
     "name": "stdout",
     "output_type": "stream",
     "text": [
      "Total active accounts: 1\n",
      "Account Name: Default MainSequence Portfolios Account, Venue: 6, Latest Holdings: 2025-04-17 17:25:13.081719+00:00\n"
     ]
    }
   ],
   "execution_count": 3
  },
  {
   "cell_type": "markdown",
   "metadata": {},
   "source": [
    "# Account Historical Holdings & Risk Factors\n",
    "We can get historical information as snapshot of our Accounts"
   ]
  },
  {
   "metadata": {
    "ExecuteTime": {
     "end_time": "2025-04-18T18:52:51.862240Z",
     "start_time": "2025-04-18T18:52:51.860899Z"
    }
   },
   "cell_type": "code",
   "source": "",
   "outputs": [],
   "execution_count": null
  },
  {
   "cell_type": "code",
   "metadata": {
    "ExecuteTime": {
     "end_time": "2025-04-18T18:52:52.992006Z",
     "start_time": "2025-04-18T18:52:51.911243Z"
    }
   },
   "source": [
    "import datetime\n",
    "import matplotlib.pyplot as plt\n",
    "from mainsequence.client import AccountHistoricalHoldings,AccountRiskFactors\n",
    "\n",
    "\n",
    "start_date = datetime.datetime(2025, 2, 25)\n",
    "end_date = datetime.datetime(2025, 3, 1)\n",
    "\n",
    "# Query with a date range filter\n",
    "historical_holdings= AccountHistoricalHoldings.filter(\n",
    "    holdings_date__gte=start_date,\n",
    "    holdings_date__lte=end_date,\n",
    "    related_account__id=accounts[0].id\n",
    ")\n",
    "\n",
    "\n",
    "# Extract NAV values and dates from historical holdings\n",
    "nav_values = [holding.nav for holding in historical_holdings if holding.nav is not None]\n",
    "dates = [holding.holdings_date for holding in historical_holdings if holding.nav is not None]\n",
    "\n",
    "# Sort data by date\n",
    "sorted_data = sorted(zip(dates, nav_values), key=lambda x: x[0])\n",
    "\n",
    "if len(sorted_data) ==0:\n",
    "    raise Exception(\"No data found\")\n",
    "\n",
    "dates, nav_values = zip(*sorted_data)\n",
    "\n",
    "# Plot NAV over time\n",
    "plt.figure(figsize=(10, 5))\n",
    "plt.plot(dates, nav_values, marker='o', linestyle='-', label=\"NAV Over Time\")\n",
    "plt.xlabel(\"Date\")\n",
    "plt.ylabel(\"NAV\")\n",
    "plt.title(\"Account NAV Over Time\")\n",
    "plt.legend()\n",
    "plt.grid(True)\n",
    "\n",
    "# Show the plot\n",
    "plt.show()\n"
   ],
   "outputs": [
    {
     "name": "stderr",
     "output_type": "stream",
     "text": [
      "\u001B[2m2025-04-18T18:52:52.910219Z\u001B[0m [\u001B[32m\u001B[1mdebug    \u001B[0m] \u001B[1mtook 0.7566 seconds. Requesting GET from http://127.0.0.1:8000/orm/api/assets/account_historical_holdings/\u001B[0m \u001B[36mapplication_name\u001B[0m=\u001B[35mms-sdk\u001B[0m \u001B[36mdata_source_id\u001B[0m=\u001B[35m1\u001B[0m \u001B[36mjob_run_id\u001B[0m=\u001B[35mNone\u001B[0m \u001B[36mproject_id\u001B[0m=\u001B[35m1\u001B[0m (at utils.py:95 in make_request())\n"
     ]
    },
    {
     "data": {
      "text/plain": [
       "<Figure size 1000x500 with 1 Axes>"
      ],
      "image/png": "[encoded data removed]"
     },
     "metadata": {},
     "output_type": "display_data"
    }
   ],
   "execution_count": 4
  },
  {
   "cell_type": "code",
   "metadata": {
    "ExecuteTime": {
     "end_time": "2025-04-18T18:52:53.802782Z",
     "start_time": "2025-04-18T18:52:53.000288Z"
    }
   },
   "source": [
    "risk_factors=AccountRiskFactors.filter(related_holdings__id__in=[h.id for h in historical_holdings])\n"
   ],
   "outputs": [
    {
     "name": "stderr",
     "output_type": "stream",
     "text": [
      "\u001B[2m2025-04-18T18:52:53.800510Z\u001B[0m [\u001B[32m\u001B[1mdebug    \u001B[0m] \u001B[1mtook 0.7996 seconds. Requesting GET from http://127.0.0.1:8000/orm/api/assets/account_risk_factors/\u001B[0m \u001B[36mapplication_name\u001B[0m=\u001B[35mms-sdk\u001B[0m \u001B[36mdata_source_id\u001B[0m=\u001B[35m1\u001B[0m \u001B[36mjob_run_id\u001B[0m=\u001B[35mNone\u001B[0m \u001B[36mproject_id\u001B[0m=\u001B[35m1\u001B[0m (at utils.py:95 in make_request())\n"
     ]
    }
   ],
   "execution_count": 5
  },
  {
   "cell_type": "code",
   "metadata": {
    "ExecuteTime": {
     "end_time": "2025-04-18T18:55:03.629822Z",
     "start_time": "2025-04-18T18:55:03.560585Z"
    }
   },
   "source": [
    "\n",
    "holdings_date_map = {h.id: h.holdings_date for h in historical_holdings}\n",
    "\n",
    "# Prepare lists for plotting\n",
    "dates = []\n",
    "balances = []\n",
    "\n",
    "# Loop over your risk factors data (a list of dictionaries)\n",
    "for rf in risk_factors:\n",
    "    holding_id = rf.related_holdings.id\n",
    "    # Check if we have a corresponding holding date\n",
    "    if holding_id in holdings_date_map.keys():\n",
    "        dates.append(holdings_date_map[holding_id])\n",
    "        balances.append(rf.account_balance)\n",
    "\n",
    "# Optionally, sort the data by date if not already sorted\n",
    "data = sorted(zip(dates, balances), key=lambda x: x[0])\n",
    "sorted_dates, sorted_balances = zip(*data) if data else ([], [])\n",
    "\n",
    "# Create the plot\n",
    "plt.figure(figsize=(10, 6))\n",
    "plt.plot(sorted_dates, sorted_balances, marker='o', linestyle='-', color='b')\n",
    "plt.xlabel(\"Holdings Date\")\n",
    "plt.ylabel(\" account_balance\")\n",
    "plt.title(\"Total Account Balance over Time\")\n",
    "plt.grid(True)\n",
    "plt.show()\n"
   ],
   "outputs": [
    {
     "data": {
      "text/plain": [
       "<Figure size 1000x600 with 1 Axes>"
      ],
      "image/png": "[encoded data removed]"
     },
     "metadata": {},
     "output_type": "display_data"
    }
   ],
   "execution_count": 19
  },
  {
   "cell_type": "code",
   "metadata": {
    "ExecuteTime": {
     "end_time": "2025-04-18T18:55:10.537170Z",
     "start_time": "2025-04-18T18:55:10.535615Z"
    }
   },
   "source": "",
   "outputs": [],
   "execution_count": null
  }
 ],
 "metadata": {
  "kernelspec": {
   "display_name": "Python 3",
   "language": "python",
   "name": "python3"
  },
  "language_info": {
   "codemirror_mode": {
    "name": "ipython",
    "version": 3
   },
   "file_extension": ".py",
   "mimetype": "text/x-python",
   "name": "python",
   "nbconvert_exporter": "python",
   "pygments_lexer": "ipython3",
   "version": "3.8.10"
  }
 },
 "nbformat": 4,
 "nbformat_minor": 4
}
