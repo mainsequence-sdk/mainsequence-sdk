{
 "cells": [
  {
   "cell_type": "markdown",
   "metadata": {},
   "source": [
    "# Querying and Managing Accounts in VAM Client\n",
    "This notebook demonstrates how to:\n",
    "- Perform CRUD (Create, Read, Update, Delete) operations on accounts.\n",
    "- Filter accounts based on different execution venues \n",
    "- Understand the differences in querying `Account`\n"
   ]
  },
  {
   "cell_type": "code",
   "metadata": {
    "ExecuteTime": {
     "end_time": "2025-08-07T11:04:01.480550Z",
     "start_time": "2025-08-07T11:04:01.476472Z"
    }
   },
   "source": [
    "import os\n",
    "from pathlib import Path\n",
    "\n",
    "# Save the original working directory (only once)\n",
    "try:\n",
    "    original_wd\n",
    "except NameError:\n",
    "    original_wd = os.getcwd()\n",
    "\n",
    "# Compute the target directory: two levels up from the original working directory\n",
    "# For example, if original_wd is /Users/username/project/notebooks,\n",
    "# then target_dir becomes /Users/username\n",
    "target_dir = Path(original_wd).parents[2]\n",
    "\n",
    "# Change the working directory to the target directory\n",
    "os.chdir(target_dir)\n",
    "print(\"Working directory set to:\", os.getcwd())\n",
    "\n",
    "import dotenv\n",
    "dotenv.load_dotenv('.env')\n",
    "\n",
    "# Import necessary modules\n",
    "import pandas as pd\n",
    "import mainsequence.client as msc\n",
    "from mainsequence.client.utils import MARKETS_CONSTANTS\n"
   ],
   "outputs": [
    {
     "name": "stdout",
     "output_type": "stream",
     "text": [
      "Working directory set to: /home/jose/code/MainSequenceClientSide/mainsequence-sdk\n"
     ]
    }
   ],
   "execution_count": 11
  },
  {
   "cell_type": "code",
   "metadata": {
    "ExecuteTime": {
     "end_time": "2025-05-18T19:18:42.071106Z",
     "start_time": "2025-05-18T19:18:42.069679Z"
    }
   },
   "source": [],
   "outputs": [],
   "execution_count": 1
  },
  {
   "cell_type": "code",
   "metadata": {
    "ExecuteTime": {
     "end_time": "2025-08-07T09:43:32.513935Z",
     "start_time": "2025-08-07T09:43:31.454776Z"
    }
   },
   "source": [
    "!pip install matplotlib"
   ],
   "outputs": [
    {
     "name": "stdout",
     "output_type": "stream",
     "text": [
      "Requirement already satisfied: matplotlib in ./venv/lib/python3.9/site-packages (3.9.4)\r\n",
      "Requirement already satisfied: contourpy>=1.0.1 in ./venv/lib/python3.9/site-packages (from matplotlib) (1.3.0)\r\n",
      "Requirement already satisfied: cycler>=0.10 in ./venv/lib/python3.9/site-packages (from matplotlib) (0.12.1)\r\n",
      "Requirement already satisfied: fonttools>=4.22.0 in ./venv/lib/python3.9/site-packages (from matplotlib) (4.58.0)\r\n",
      "Requirement already satisfied: kiwisolver>=1.3.1 in ./venv/lib/python3.9/site-packages (from matplotlib) (1.4.7)\r\n",
      "Requirement already satisfied: numpy>=1.23 in ./venv/lib/python3.9/site-packages (from matplotlib) (2.0.2)\r\n",
      "Requirement already satisfied: packaging>=20.0 in ./venv/lib/python3.9/site-packages (from matplotlib) (25.0)\r\n",
      "Requirement already satisfied: pillow>=8 in ./venv/lib/python3.9/site-packages (from matplotlib) (11.2.1)\r\n",
      "Requirement already satisfied: pyparsing>=2.3.1 in ./venv/lib/python3.9/site-packages (from matplotlib) (3.2.3)\r\n",
      "Requirement already satisfied: python-dateutil>=2.7 in ./venv/lib/python3.9/site-packages (from matplotlib) (2.9.0.post0)\r\n",
      "Requirement already satisfied: importlib-resources>=3.2.0 in ./venv/lib/python3.9/site-packages (from matplotlib) (6.5.2)\r\n",
      "Requirement already satisfied: zipp>=3.1.0 in ./venv/lib/python3.9/site-packages (from importlib-resources>=3.2.0->matplotlib) (3.21.0)\r\n",
      "Requirement already satisfied: six>=1.5 in ./venv/lib/python3.9/site-packages (from python-dateutil>=2.7->matplotlib) (1.17.0)\r\n",
      "\r\n",
      "\u001B[1m[\u001B[0m\u001B[34;49mnotice\u001B[0m\u001B[1;39;49m]\u001B[0m\u001B[39;49m A new release of pip is available: \u001B[0m\u001B[31;49m25.1.1\u001B[0m\u001B[39;49m -> \u001B[0m\u001B[32;49m25.2\u001B[0m\r\n",
      "\u001B[1m[\u001B[0m\u001B[34;49mnotice\u001B[0m\u001B[1;39;49m]\u001B[0m\u001B[39;49m To update, run: \u001B[0m\u001B[32;49mpip install --upgrade pip\u001B[0m\r\n"
     ]
    }
   ],
   "execution_count": 2
  },
  {
   "cell_type": "markdown",
   "metadata": {},
   "source": [
    "## Retrieving All Active Accounts\n",
    "We fetch all active accounts from the database.\n",
    "\n",
    "### The Main Sequence Execution Venue and Main Sequence Account\n",
    "The mapping between accounts and execution venues defines which portfolios can be added to specific accounts via the portfolio property `required_venues`. This restriction ensures that an account can only follow portfolios matching the defined `required_venues`. However, as a researcher, you might want to create accounts capable of tracking portfolios across multiple different venues. In such cases, you can utilize accounts within the **Main Sequence ExecutionVenue**, which allows you to mix assets and portfolios from any venue."
   ]
  },
  {
   "cell_type": "code",
   "metadata": {
    "ExecuteTime": {
     "end_time": "2025-08-07T11:04:05.184618Z",
     "start_time": "2025-08-07T11:04:04.561118Z"
    }
   },
   "source": [
    "# Query all active accounts\n",
    "accounts= msc.Account.filter()\n",
    "print(f\"Total active accounts: {len(accounts)}\")\n",
    "\n",
    "# Display general account information\n",
    "for acc in accounts:\n",
    "    print(f\"Account Name: {acc.account_name}, Venue: {acc.execution_venue}, Latest Holdings: {acc.latest_holdings.holdings_date}\")"
   ],
   "outputs": [
    {
     "name": "stderr",
     "output_type": "stream",
     "text": [
      "\u001B[2m2025-08-07T11:04:05.182275Z\u001B[0m [\u001B[32m\u001B[1mdebug    \u001B[0m] \u001B[1mtook 0.6197 seconds. Requesting GET from http://127.0.0.1:8000/orm/api/assets/account/\u001B[0m \u001B[36mapplication_name\u001B[0m=\u001B[35mms-sdk\u001B[0m \u001B[36mcommand_id\u001B[0m=\u001B[35mNone\u001B[0m \u001B[36mdata_source_id\u001B[0m=\u001B[35m2\u001B[0m \u001B[36mjob_run_id\u001B[0m=\u001B[35mNone\u001B[0m \u001B[36mproject_id\u001B[0m=\u001B[35m1\u001B[0m (at utils.py:107 in make_request())\n"
     ]
    },
    {
     "name": "stdout",
     "output_type": "stream",
     "text": [
      "Total active accounts: 1\n",
      "Account Name: Default MainSequence Portfolios Account, Venue: 6, Latest Holdings: 2025-08-04 10:40:41.566892+00:00\n"
     ]
    }
   ],
   "execution_count": 12
  },
  {
   "cell_type": "markdown",
   "metadata": {},
   "source": [
    "# Account Historical Holdings & Risk Factors\n",
    "We can get historical information as snapshot of our Accounts"
   ]
  },
  {
   "metadata": {
    "ExecuteTime": {
     "end_time": "2025-05-18T19:18:44.256825Z",
     "start_time": "2025-05-18T19:18:44.254507Z"
    }
   },
   "cell_type": "code",
   "source": "",
   "outputs": [],
   "execution_count": 3
  },
  {
   "cell_type": "code",
   "metadata": {
    "ExecuteTime": {
     "end_time": "2025-08-07T11:02:24.699840Z",
     "start_time": "2025-08-07T11:02:23.882080Z"
    }
   },
   "source": [
    "import datetime\n",
    "import matplotlib.pyplot as plt\n",
    "from mainsequence.client import AccountHistoricalHoldings,AccountRiskFactors\n",
    "\n",
    "\n",
    "end_date = datetime.datetime.utcnow()\n",
    "start_date = end_date - datetime.timedelta(hours=1)\n",
    "\n",
    "# Query with a date range filter\n",
    "historical_holdings= AccountHistoricalHoldings.filter(\n",
    "    holdings_date__gte=start_date,\n",
    "    holdings_date__lte=end_date,\n",
    "    related_account__id=accounts[0].id\n",
    ")\n",
    "\n",
    "\n",
    "# Extract NAV values and dates from historical holdings\n",
    "nav_values = [holding.nav for holding in historical_holdings if holding.nav is not None]\n",
    "dates = [holding.holdings_date for holding in historical_holdings if holding.nav is not None]\n",
    "\n",
    "# Sort data by date\n",
    "sorted_data = sorted(zip(dates, nav_values), key=lambda x: x[0])\n",
    "\n",
    "if len(sorted_data) ==0:\n",
    "    raise Exception(\"No data found\")\n",
    "\n",
    "dates, nav_values = zip(*sorted_data)\n",
    "\n",
    "# Plot NAV over time\n",
    "plt.figure(figsize=(10, 5))\n",
    "plt.plot(dates, nav_values, marker='o', linestyle='-', label=\"NAV Over Time\")\n",
    "plt.xlabel(\"Date\")\n",
    "plt.ylabel(\"NAV\")\n",
    "plt.title(\"Account NAV Over Time\")\n",
    "plt.legend()\n",
    "plt.grid(True)\n",
    "\n",
    "# Show the plot\n",
    "plt.show()\n"
   ],
   "outputs": [
    {
     "name": "stderr",
     "output_type": "stream",
     "text": [
      "\u001B[2m2025-08-07T11:02:24.518418Z\u001B[0m [\u001B[32m\u001B[1mdebug    \u001B[0m] \u001B[1mtook 0.3831 seconds. Requesting GET from http://127.0.0.1:8000/orm/api/assets/account_historical_holdings/\u001B[0m \u001B[36mapplication_name\u001B[0m=\u001B[35mms-sdk\u001B[0m \u001B[36mcommand_id\u001B[0m=\u001B[35mNone\u001B[0m \u001B[36mdata_source_id\u001B[0m=\u001B[35m2\u001B[0m \u001B[36mjob_run_id\u001B[0m=\u001B[35mNone\u001B[0m \u001B[36mproject_id\u001B[0m=\u001B[35m1\u001B[0m (at utils.py:107 in make_request())\n"
     ]
    },
    {
     "ename": "Exception",
     "evalue": "No data found",
     "output_type": "error",
     "traceback": [
      "\u001B[0;31m---------------------------------------------------------------------------\u001B[0m",
      "\u001B[0;31mException\u001B[0m                                 Traceback (most recent call last)",
      "Cell \u001B[0;32mIn[3], line 25\u001B[0m\n\u001B[1;32m     22\u001B[0m sorted_data \u001B[38;5;241m=\u001B[39m \u001B[38;5;28msorted\u001B[39m(\u001B[38;5;28mzip\u001B[39m(dates, nav_values), key\u001B[38;5;241m=\u001B[39m\u001B[38;5;28;01mlambda\u001B[39;00m x: x[\u001B[38;5;241m0\u001B[39m])\n\u001B[1;32m     24\u001B[0m \u001B[38;5;28;01mif\u001B[39;00m \u001B[38;5;28mlen\u001B[39m(sorted_data) \u001B[38;5;241m==\u001B[39m\u001B[38;5;241m0\u001B[39m:\n\u001B[0;32m---> 25\u001B[0m     \u001B[38;5;28;01mraise\u001B[39;00m \u001B[38;5;167;01mException\u001B[39;00m(\u001B[38;5;124m\"\u001B[39m\u001B[38;5;124mNo data found\u001B[39m\u001B[38;5;124m\"\u001B[39m)\n\u001B[1;32m     27\u001B[0m dates, nav_values \u001B[38;5;241m=\u001B[39m \u001B[38;5;28mzip\u001B[39m(\u001B[38;5;241m*\u001B[39msorted_data)\n\u001B[1;32m     29\u001B[0m \u001B[38;5;66;03m# Plot NAV over time\u001B[39;00m\n",
      "\u001B[0;31mException\u001B[0m: No data found"
     ]
    }
   ],
   "execution_count": 3
  },
  {
   "cell_type": "code",
   "metadata": {
    "ExecuteTime": {
     "end_time": "2025-08-07T11:02:54.987239Z",
     "start_time": "2025-08-07T11:02:54.984510Z"
    }
   },
   "source": [
    "accounts[0].uuid\n",
    "target_account=accounts[0]"
   ],
   "outputs": [],
   "execution_count": 6
  },
  {
   "metadata": {},
   "cell_type": "markdown",
   "source": ""
  },
  {
   "metadata": {
    "ExecuteTime": {
     "end_time": "2025-08-07T11:03:04.559492Z",
     "start_time": "2025-08-07T11:03:03.125548Z"
    }
   },
   "cell_type": "code",
   "source": [
    "import mainsequence.client as ms_client\n",
    "\n",
    "historical_holdings=target_account.get_historical_holdings(start_date=datetime.datetime(2025,6,1))\n",
    "#pd.DataFrame: A DataFrame indexed by a multi-index of `time_index` (UTC datetime) and `asset_id` (int),\n",
    " #      If we want to add extra information relating the assets we need to query the assets as well\n",
    "\n",
    "\n",
    "assets_in_account=ms_client.Asset.filter(id__in=historical_holdings.index.get_level_values(\"asset_id\").to_list())\n",
    "id_map={a.id:a.name for a in assets_in_account}\n",
    "historical_holdings[\"asset_name\"]=historical_holdings.index.get_level_values(\"asset_id\").map(id_map)"
   ],
   "outputs": [
    {
     "name": "stderr",
     "output_type": "stream",
     "text": [
      "\u001B[2m2025-08-07T11:03:04.051269Z\u001B[0m [\u001B[32m\u001B[1mdebug    \u001B[0m] \u001B[1mtook 0.9240 seconds. Requesting GET from http://127.0.0.1:8000/orm/api/assets/account_historical_holdings/\u001B[0m \u001B[36mapplication_name\u001B[0m=\u001B[35mms-sdk\u001B[0m \u001B[36mcommand_id\u001B[0m=\u001B[35mNone\u001B[0m \u001B[36mdata_source_id\u001B[0m=\u001B[35m2\u001B[0m \u001B[36mjob_run_id\u001B[0m=\u001B[35mNone\u001B[0m \u001B[36mproject_id\u001B[0m=\u001B[35m1\u001B[0m (at utils.py:107 in make_request())\n",
      "\u001B[2m2025-08-07T11:03:04.556671Z\u001B[0m [\u001B[32m\u001B[1mdebug    \u001B[0m] \u001B[1mtook 0.5006 seconds. Requesting GET from http://127.0.0.1:8000/orm/api/assets/asset/\u001B[0m \u001B[36mapplication_name\u001B[0m=\u001B[35mms-sdk\u001B[0m \u001B[36mcommand_id\u001B[0m=\u001B[35mNone\u001B[0m \u001B[36mdata_source_id\u001B[0m=\u001B[35m2\u001B[0m \u001B[36mjob_run_id\u001B[0m=\u001B[35mNone\u001B[0m \u001B[36mproject_id\u001B[0m=\u001B[35m1\u001B[0m (at utils.py:107 in make_request())\n"
     ]
    }
   ],
   "execution_count": 7
  },
  {
   "metadata": {
    "ExecuteTime": {
     "end_time": "2025-08-07T11:03:14.306007Z",
     "start_time": "2025-08-07T11:03:14.299317Z"
    }
   },
   "cell_type": "code",
   "source": "historical_holdings",
   "outputs": [
    {
     "data": {
      "text/plain": [
       "                                           missing_price  price   quantity  \\\n",
       "time_index                       asset_id                                    \n",
       "2025-08-04 07:26:05.576237+00:00 20668             False    1.0  1000000.0   \n",
       "2025-08-04 07:26:06.727563+00:00 20668             False    1.0  1000000.0   \n",
       "2025-08-04 10:36:50.144099+00:00 20668             False    1.0  1000000.0   \n",
       "2025-08-04 10:39:23.379705+00:00 20668             False    1.0  1000000.0   \n",
       "2025-08-04 10:40:41.566892+00:00 20668             False    1.0  1000000.0   \n",
       "\n",
       "                                               asset_name  \n",
       "time_index                       asset_id                  \n",
       "2025-08-04 07:26:05.576237+00:00 20668     US Dollar Spot  \n",
       "2025-08-04 07:26:06.727563+00:00 20668     US Dollar Spot  \n",
       "2025-08-04 10:36:50.144099+00:00 20668     US Dollar Spot  \n",
       "2025-08-04 10:39:23.379705+00:00 20668     US Dollar Spot  \n",
       "2025-08-04 10:40:41.566892+00:00 20668     US Dollar Spot  "
      ],
      "text/html": [
       "<div>\n",
       "<style scoped>\n",
       "    .dataframe tbody tr th:only-of-type {\n",
       "        vertical-align: middle;\n",
       "    }\n",
       "\n",
       "    .dataframe tbody tr th {\n",
       "        vertical-align: top;\n",
       "    }\n",
       "\n",
       "    .dataframe thead th {\n",
       "        text-align: right;\n",
       "    }\n",
       "</style>\n",
       "<table border=\"1\" class=\"dataframe\">\n",
       "  <thead>\n",
       "    <tr style=\"text-align: right;\">\n",
       "      <th></th>\n",
       "      <th></th>\n",
       "      <th>missing_price</th>\n",
       "      <th>price</th>\n",
       "      <th>quantity</th>\n",
       "      <th>asset_name</th>\n",
       "    </tr>\n",
       "    <tr>\n",
       "      <th>time_index</th>\n",
       "      <th>asset_id</th>\n",
       "      <th></th>\n",
       "      <th></th>\n",
       "      <th></th>\n",
       "      <th></th>\n",
       "    </tr>\n",
       "  </thead>\n",
       "  <tbody>\n",
       "    <tr>\n",
       "      <th>2025-08-04 07:26:05.576237+00:00</th>\n",
       "      <th>20668</th>\n",
       "      <td>False</td>\n",
       "      <td>1.0</td>\n",
       "      <td>1000000.0</td>\n",
       "      <td>US Dollar Spot</td>\n",
       "    </tr>\n",
       "    <tr>\n",
       "      <th>2025-08-04 07:26:06.727563+00:00</th>\n",
       "      <th>20668</th>\n",
       "      <td>False</td>\n",
       "      <td>1.0</td>\n",
       "      <td>1000000.0</td>\n",
       "      <td>US Dollar Spot</td>\n",
       "    </tr>\n",
       "    <tr>\n",
       "      <th>2025-08-04 10:36:50.144099+00:00</th>\n",
       "      <th>20668</th>\n",
       "      <td>False</td>\n",
       "      <td>1.0</td>\n",
       "      <td>1000000.0</td>\n",
       "      <td>US Dollar Spot</td>\n",
       "    </tr>\n",
       "    <tr>\n",
       "      <th>2025-08-04 10:39:23.379705+00:00</th>\n",
       "      <th>20668</th>\n",
       "      <td>False</td>\n",
       "      <td>1.0</td>\n",
       "      <td>1000000.0</td>\n",
       "      <td>US Dollar Spot</td>\n",
       "    </tr>\n",
       "    <tr>\n",
       "      <th>2025-08-04 10:40:41.566892+00:00</th>\n",
       "      <th>20668</th>\n",
       "      <td>False</td>\n",
       "      <td>1.0</td>\n",
       "      <td>1000000.0</td>\n",
       "      <td>US Dollar Spot</td>\n",
       "    </tr>\n",
       "  </tbody>\n",
       "</table>\n",
       "</div>"
      ]
     },
     "execution_count": 8,
     "metadata": {},
     "output_type": "execute_result"
    }
   ],
   "execution_count": 8
  }
 ],
 "metadata": {
  "kernelspec": {
   "display_name": "Python 3",
   "language": "python",
   "name": "python3"
  },
  "language_info": {
   "codemirror_mode": {
    "name": "ipython",
    "version": 3
   },
   "file_extension": ".py",
   "mimetype": "text/x-python",
   "name": "python",
   "nbconvert_exporter": "python",
   "pygments_lexer": "ipython3",
   "version": "3.8.10"
  }
 },
 "nbformat": 4,
 "nbformat_minor": 4
}
