{
 "cells": [
  {
   "cell_type": "markdown",
   "metadata": {},
   "source": [
    "# Querying and Managing Accounts in VAM Client\n",
    "This notebook demonstrates how to:\n",
    "- Perform CRUD (Create, Read, Update, Delete) operations on accounts.\n",
    "- Filter accounts based on different execution venues \n",
    "- Understand the differences in querying `Account`\n"
   ]
  },
  {
   "cell_type": "code",
   "metadata": {
    "ExecuteTime": {
     "end_time": "2025-05-18T19:17:20.429261Z",
     "start_time": "2025-05-18T19:17:20.222705Z"
    }
   },
   "source": [
    "import os\n",
    "from pathlib import Path\n",
    "\n",
    "# Save the original working directory (only once)\n",
    "try:\n",
    "    original_wd\n",
    "except NameError:\n",
    "    original_wd = os.getcwd()\n",
    "\n",
    "# Compute the target directory: two levels up from the original working directory\n",
    "# For example, if original_wd is /Users/username/project/notebooks,\n",
    "# then target_dir becomes /Users/username\n",
    "target_dir = Path(original_wd).parents[2]\n",
    "\n",
    "# Change the working directory to the target directory\n",
    "os.chdir(target_dir)\n",
    "print(\"Working directory set to:\", os.getcwd())\n",
    "\n",
    "import dotenv\n",
    "dotenv.load_dotenv('.env')\n",
    "\n",
    "# Import necessary modules\n",
    "import pandas as pd\n",
    "from mainsequence.client import Account\n",
    "from mainsequence.client.utils import MARKETS_CONSTANTS\n"
   ],
   "outputs": [
    {
     "name": "stdout",
     "output_type": "stream",
     "text": [
      "Working directory set to: /Users/jose/code/mainsequence-sdk\n"
     ]
    },
    {
     "ename": "PydanticSchemaGenerationError",
     "evalue": "Unable to generate pydantic-core schema for [<class 'str'>]. Set `arbitrary_types_allowed=True` in the model_config to ignore this error or implement `__get_pydantic_core_schema__` on your type to fully support it.\n\nIf you got this error by calling handler(<some type>) within `__get_pydantic_core_schema__` then you likely need to call `handler.generate_schema(<some type>)` since we do not call `__get_pydantic_core_schema__` on `<some type>` otherwise to avoid infinite recursion.\n\nFor further information visit https://errors.pydantic.dev/2.11/u/schema-for-unknown-type",
     "output_type": "error",
     "traceback": [
      "\u001B[0;31m---------------------------------------------------------------------------\u001B[0m",
      "\u001B[0;31mPydanticSchemaGenerationError\u001B[0m             Traceback (most recent call last)",
      "Cell \u001B[0;32mIn[2], line 24\u001B[0m\n\u001B[1;32m     22\u001B[0m \u001B[38;5;66;03m# Import necessary modules\u001B[39;00m\n\u001B[1;32m     23\u001B[0m \u001B[38;5;28;01mimport\u001B[39;00m\u001B[38;5;250m \u001B[39m\u001B[38;5;21;01mpandas\u001B[39;00m\u001B[38;5;250m \u001B[39m\u001B[38;5;28;01mas\u001B[39;00m\u001B[38;5;250m \u001B[39m\u001B[38;5;21;01mpd\u001B[39;00m\n\u001B[0;32m---> 24\u001B[0m \u001B[38;5;28;01mfrom\u001B[39;00m\u001B[38;5;250m \u001B[39m\u001B[38;5;21;01mmainsequence\u001B[39;00m\u001B[38;5;21;01m.\u001B[39;00m\u001B[38;5;21;01mclient\u001B[39;00m\u001B[38;5;250m \u001B[39m\u001B[38;5;28;01mimport\u001B[39;00m Account\n\u001B[1;32m     25\u001B[0m \u001B[38;5;28;01mfrom\u001B[39;00m\u001B[38;5;250m \u001B[39m\u001B[38;5;21;01mmainsequence\u001B[39;00m\u001B[38;5;21;01m.\u001B[39;00m\u001B[38;5;21;01mclient\u001B[39;00m\u001B[38;5;21;01m.\u001B[39;00m\u001B[38;5;21;01mutils\u001B[39;00m\u001B[38;5;250m \u001B[39m\u001B[38;5;28;01mimport\u001B[39;00m MARKETS_CONSTANTS\n",
      "File \u001B[0;32m~/code/mainsequence-sdk/mainsequence/__init__.py:3\u001B[0m\n\u001B[1;32m      2\u001B[0m \u001B[38;5;28;01mimport\u001B[39;00m\u001B[38;5;250m \u001B[39m\u001B[38;5;21;01mos\u001B[39;00m\n\u001B[0;32m----> 3\u001B[0m \u001B[38;5;28;01mfrom\u001B[39;00m\u001B[38;5;250m \u001B[39m\u001B[38;5;21;01m.\u001B[39;00m\u001B[38;5;21;01mclient\u001B[39;00m\u001B[38;5;250m \u001B[39m\u001B[38;5;28;01mimport\u001B[39;00m TDAG_CONSTANTS, MARKETS_CONSTANTS\n",
      "File \u001B[0;32m~/code/mainsequence-sdk/mainsequence/client/__init__.py:13\u001B[0m\n\u001B[1;32m     10\u001B[0m \u001B[38;5;28;01mfrom\u001B[39;00m\u001B[38;5;250m \u001B[39m\u001B[38;5;21;01m.\u001B[39;00m\u001B[38;5;21;01mutils\u001B[39;00m\u001B[38;5;250m \u001B[39m\u001B[38;5;28;01mimport\u001B[39;00m TDAG_CONSTANTS, MARKETS_CONSTANTS\n\u001B[1;32m     11\u001B[0m \u001B[38;5;28;01mfrom\u001B[39;00m\u001B[38;5;250m \u001B[39m\u001B[38;5;21;01mmainsequence\u001B[39;00m\u001B[38;5;21;01m.\u001B[39;00m\u001B[38;5;21;01mlogconf\u001B[39;00m\u001B[38;5;250m \u001B[39m\u001B[38;5;28;01mimport\u001B[39;00m logger\n\u001B[0;32m---> 13\u001B[0m \u001B[38;5;28;01mfrom\u001B[39;00m\u001B[38;5;250m \u001B[39m\u001B[38;5;21;01m.\u001B[39;00m\u001B[38;5;21;01mmodels_helpers\u001B[39;00m\u001B[38;5;250m \u001B[39m\u001B[38;5;28;01mimport\u001B[39;00m \u001B[38;5;241m*\u001B[39m\n\u001B[1;32m     14\u001B[0m \u001B[38;5;28;01mfrom\u001B[39;00m\u001B[38;5;250m \u001B[39m\u001B[38;5;21;01m.\u001B[39;00m\u001B[38;5;21;01mmodels_vam\u001B[39;00m\u001B[38;5;250m \u001B[39m\u001B[38;5;28;01mimport\u001B[39;00m \u001B[38;5;241m*\u001B[39m\n",
      "File \u001B[0;32m~/code/mainsequence-sdk/mainsequence/client/models_helpers.py:1\u001B[0m\n\u001B[0;32m----> 1\u001B[0m \u001B[38;5;28;01mfrom\u001B[39;00m\u001B[38;5;250m \u001B[39m\u001B[38;5;21;01m.\u001B[39;00m\u001B[38;5;21;01mmodels_vam\u001B[39;00m\u001B[38;5;250m \u001B[39m\u001B[38;5;28;01mimport\u001B[39;00m \u001B[38;5;241m*\u001B[39m\n\u001B[1;32m      2\u001B[0m \u001B[38;5;28;01mfrom\u001B[39;00m\u001B[38;5;250m \u001B[39m\u001B[38;5;21;01m.\u001B[39;00m\u001B[38;5;21;01mbase\u001B[39;00m\u001B[38;5;250m \u001B[39m\u001B[38;5;28;01mimport\u001B[39;00m MARKETS_CONSTANTS\n\u001B[1;32m      3\u001B[0m \u001B[38;5;28;01mfrom\u001B[39;00m\u001B[38;5;250m \u001B[39m\u001B[38;5;21;01m.\u001B[39;00m\u001B[38;5;21;01mmodels_tdag\u001B[39;00m\u001B[38;5;250m \u001B[39m\u001B[38;5;28;01mimport\u001B[39;00m LocalTimeSerie\n",
      "File \u001B[0;32m~/code/mainsequence-sdk/mainsequence/client/models_vam.py:1146\u001B[0m\n\u001B[1;32m   1142\u001B[0m     \u001B[38;5;129m@property\u001B[39m\n\u001B[1;32m   1143\u001B[0m     \u001B[38;5;28;01mdef\u001B[39;00m\u001B[38;5;250m \u001B[39m\u001B[38;5;21mrebalance_asset_map\u001B[39m(\u001B[38;5;28mself\u001B[39m):\n\u001B[1;32m   1144\u001B[0m         \u001B[38;5;28;01mreturn\u001B[39;00m  {e\u001B[38;5;241m.\u001B[39masset\u001B[38;5;241m.\u001B[39mid: e\u001B[38;5;241m.\u001B[39masset \u001B[38;5;28;01mfor\u001B[39;00m e \u001B[38;5;129;01min\u001B[39;00m \u001B[38;5;28mself\u001B[39m\u001B[38;5;241m.\u001B[39mexecution_target}\n\u001B[0;32m-> 1146\u001B[0m \u001B[38;5;28;01mclass\u001B[39;00m\u001B[38;5;250m \u001B[39m\u001B[38;5;21;01mVirtualFund\u001B[39;00m(BaseObjectOrm, BasePydanticModel):\n\u001B[1;32m   1147\u001B[0m     \u001B[38;5;28mid\u001B[39m: Optional[\u001B[38;5;28mfloat\u001B[39m] \u001B[38;5;241m=\u001B[39m \u001B[38;5;28;01mNone\u001B[39;00m\n\u001B[1;32m   1148\u001B[0m     target_portfolio: Union[\u001B[38;5;28mint\u001B[39m,\u001B[38;5;124m\"\u001B[39m\u001B[38;5;124mTargetPortfolio\u001B[39m\u001B[38;5;124m\"\u001B[39m]\n",
      "File \u001B[0;32m~/code/mainsequence-sdk/venv/lib/python3.9/site-packages/pydantic/_internal/_model_construction.py:237\u001B[0m, in \u001B[0;36mModelMetaclass.__new__\u001B[0;34m(mcs, cls_name, bases, namespace, __pydantic_generic_metadata__, __pydantic_reset_parent_namespace__, _create_model_module, **kwargs)\u001B[0m\n\u001B[1;32m    233\u001B[0m     set_model_mocks(\u001B[38;5;28mcls\u001B[39m)\n\u001B[1;32m    234\u001B[0m \u001B[38;5;28;01melse\u001B[39;00m:\n\u001B[1;32m    235\u001B[0m     \u001B[38;5;66;03m# Any operation that requires accessing the field infos instances should be put inside\u001B[39;00m\n\u001B[1;32m    236\u001B[0m     \u001B[38;5;66;03m# `complete_model_class()`:\u001B[39;00m\n\u001B[0;32m--> 237\u001B[0m     \u001B[43mcomplete_model_class\u001B[49m\u001B[43m(\u001B[49m\n\u001B[1;32m    238\u001B[0m \u001B[43m        \u001B[49m\u001B[38;5;28;43mcls\u001B[39;49m\u001B[43m,\u001B[49m\n\u001B[1;32m    239\u001B[0m \u001B[43m        \u001B[49m\u001B[43mconfig_wrapper\u001B[49m\u001B[43m,\u001B[49m\n\u001B[1;32m    240\u001B[0m \u001B[43m        \u001B[49m\u001B[43mraise_errors\u001B[49m\u001B[38;5;241;43m=\u001B[39;49m\u001B[38;5;28;43;01mFalse\u001B[39;49;00m\u001B[43m,\u001B[49m\n\u001B[1;32m    241\u001B[0m \u001B[43m        \u001B[49m\u001B[43mns_resolver\u001B[49m\u001B[38;5;241;43m=\u001B[39;49m\u001B[43mns_resolver\u001B[49m\u001B[43m,\u001B[49m\n\u001B[1;32m    242\u001B[0m \u001B[43m        \u001B[49m\u001B[43mcreate_model_module\u001B[49m\u001B[38;5;241;43m=\u001B[39;49m\u001B[43m_create_model_module\u001B[49m\u001B[43m,\u001B[49m\n\u001B[1;32m    243\u001B[0m \u001B[43m    \u001B[49m\u001B[43m)\u001B[49m\n\u001B[1;32m    245\u001B[0m \u001B[38;5;28;01mif\u001B[39;00m config_wrapper\u001B[38;5;241m.\u001B[39mfrozen \u001B[38;5;129;01mand\u001B[39;00m \u001B[38;5;124m'\u001B[39m\u001B[38;5;124m__hash__\u001B[39m\u001B[38;5;124m'\u001B[39m \u001B[38;5;129;01mnot\u001B[39;00m \u001B[38;5;129;01min\u001B[39;00m namespace:\n\u001B[1;32m    246\u001B[0m     set_default_hash_func(\u001B[38;5;28mcls\u001B[39m, bases)\n",
      "File \u001B[0;32m~/code/mainsequence-sdk/venv/lib/python3.9/site-packages/pydantic/_internal/_model_construction.py:597\u001B[0m, in \u001B[0;36mcomplete_model_class\u001B[0;34m(cls, config_wrapper, raise_errors, ns_resolver, create_model_module)\u001B[0m\n\u001B[1;32m    590\u001B[0m gen_schema \u001B[38;5;241m=\u001B[39m GenerateSchema(\n\u001B[1;32m    591\u001B[0m     config_wrapper,\n\u001B[1;32m    592\u001B[0m     ns_resolver,\n\u001B[1;32m    593\u001B[0m     typevars_map,\n\u001B[1;32m    594\u001B[0m )\n\u001B[1;32m    596\u001B[0m \u001B[38;5;28;01mtry\u001B[39;00m:\n\u001B[0;32m--> 597\u001B[0m     schema \u001B[38;5;241m=\u001B[39m \u001B[43mgen_schema\u001B[49m\u001B[38;5;241;43m.\u001B[39;49m\u001B[43mgenerate_schema\u001B[49m\u001B[43m(\u001B[49m\u001B[38;5;28;43mcls\u001B[39;49m\u001B[43m)\u001B[49m\n\u001B[1;32m    598\u001B[0m \u001B[38;5;28;01mexcept\u001B[39;00m PydanticUndefinedAnnotation \u001B[38;5;28;01mas\u001B[39;00m e:\n\u001B[1;32m    599\u001B[0m     \u001B[38;5;28;01mif\u001B[39;00m raise_errors:\n",
      "File \u001B[0;32m~/code/mainsequence-sdk/venv/lib/python3.9/site-packages/pydantic/_internal/_generate_schema.py:706\u001B[0m, in \u001B[0;36mGenerateSchema.generate_schema\u001B[0;34m(self, obj)\u001B[0m\n\u001B[1;32m    703\u001B[0m schema \u001B[38;5;241m=\u001B[39m \u001B[38;5;28mself\u001B[39m\u001B[38;5;241m.\u001B[39m_generate_schema_from_get_schema_method(obj, obj)\n\u001B[1;32m    705\u001B[0m \u001B[38;5;28;01mif\u001B[39;00m schema \u001B[38;5;129;01mis\u001B[39;00m \u001B[38;5;28;01mNone\u001B[39;00m:\n\u001B[0;32m--> 706\u001B[0m     schema \u001B[38;5;241m=\u001B[39m \u001B[38;5;28;43mself\u001B[39;49m\u001B[38;5;241;43m.\u001B[39;49m\u001B[43m_generate_schema_inner\u001B[49m\u001B[43m(\u001B[49m\u001B[43mobj\u001B[49m\u001B[43m)\u001B[49m\n\u001B[1;32m    708\u001B[0m metadata_js_function \u001B[38;5;241m=\u001B[39m _extract_get_pydantic_json_schema(obj)\n\u001B[1;32m    709\u001B[0m \u001B[38;5;28;01mif\u001B[39;00m metadata_js_function \u001B[38;5;129;01mis\u001B[39;00m \u001B[38;5;129;01mnot\u001B[39;00m \u001B[38;5;28;01mNone\u001B[39;00m:\n",
      "File \u001B[0;32m~/code/mainsequence-sdk/venv/lib/python3.9/site-packages/pydantic/_internal/_generate_schema.py:984\u001B[0m, in \u001B[0;36mGenerateSchema._generate_schema_inner\u001B[0;34m(self, obj)\u001B[0m\n\u001B[1;32m    982\u001B[0m \u001B[38;5;28;01mif\u001B[39;00m lenient_issubclass(obj, BaseModel):\n\u001B[1;32m    983\u001B[0m     \u001B[38;5;28;01mwith\u001B[39;00m \u001B[38;5;28mself\u001B[39m\u001B[38;5;241m.\u001B[39mmodel_type_stack\u001B[38;5;241m.\u001B[39mpush(obj):\n\u001B[0;32m--> 984\u001B[0m         \u001B[38;5;28;01mreturn\u001B[39;00m \u001B[38;5;28;43mself\u001B[39;49m\u001B[38;5;241;43m.\u001B[39;49m\u001B[43m_model_schema\u001B[49m\u001B[43m(\u001B[49m\u001B[43mobj\u001B[49m\u001B[43m)\u001B[49m\n\u001B[1;32m    986\u001B[0m \u001B[38;5;28;01mif\u001B[39;00m \u001B[38;5;28misinstance\u001B[39m(obj, PydanticRecursiveRef):\n\u001B[1;32m    987\u001B[0m     \u001B[38;5;28;01mreturn\u001B[39;00m core_schema\u001B[38;5;241m.\u001B[39mdefinition_reference_schema(schema_ref\u001B[38;5;241m=\u001B[39mobj\u001B[38;5;241m.\u001B[39mtype_ref)\n",
      "File \u001B[0;32m~/code/mainsequence-sdk/venv/lib/python3.9/site-packages/pydantic/_internal/_generate_schema.py:817\u001B[0m, in \u001B[0;36mGenerateSchema._model_schema\u001B[0;34m(self, cls)\u001B[0m\n\u001B[1;32m    805\u001B[0m     model_schema \u001B[38;5;241m=\u001B[39m core_schema\u001B[38;5;241m.\u001B[39mmodel_schema(\n\u001B[1;32m    806\u001B[0m         \u001B[38;5;28mcls\u001B[39m,\n\u001B[1;32m    807\u001B[0m         inner_schema,\n\u001B[0;32m   (...)\u001B[0m\n\u001B[1;32m    813\u001B[0m         ref\u001B[38;5;241m=\u001B[39mmodel_ref,\n\u001B[1;32m    814\u001B[0m     )\n\u001B[1;32m    815\u001B[0m \u001B[38;5;28;01melse\u001B[39;00m:\n\u001B[1;32m    816\u001B[0m     fields_schema: core_schema\u001B[38;5;241m.\u001B[39mCoreSchema \u001B[38;5;241m=\u001B[39m core_schema\u001B[38;5;241m.\u001B[39mmodel_fields_schema(\n\u001B[0;32m--> 817\u001B[0m         {k: \u001B[38;5;28mself\u001B[39m\u001B[38;5;241m.\u001B[39m_generate_md_field_schema(k, v, decorators) \u001B[38;5;28;01mfor\u001B[39;00m k, v \u001B[38;5;129;01min\u001B[39;00m fields\u001B[38;5;241m.\u001B[39mitems()},\n\u001B[1;32m    818\u001B[0m         computed_fields\u001B[38;5;241m=\u001B[39m[\n\u001B[1;32m    819\u001B[0m             \u001B[38;5;28mself\u001B[39m\u001B[38;5;241m.\u001B[39m_computed_field_schema(d, decorators\u001B[38;5;241m.\u001B[39mfield_serializers)\n\u001B[1;32m    820\u001B[0m             \u001B[38;5;28;01mfor\u001B[39;00m d \u001B[38;5;129;01min\u001B[39;00m computed_fields\u001B[38;5;241m.\u001B[39mvalues()\n\u001B[1;32m    821\u001B[0m         ],\n\u001B[1;32m    822\u001B[0m         extras_schema\u001B[38;5;241m=\u001B[39mextras_schema,\n\u001B[1;32m    823\u001B[0m         extras_keys_schema\u001B[38;5;241m=\u001B[39mextras_keys_schema,\n\u001B[1;32m    824\u001B[0m         model_name\u001B[38;5;241m=\u001B[39m\u001B[38;5;28mcls\u001B[39m\u001B[38;5;241m.\u001B[39m\u001B[38;5;18m__name__\u001B[39m,\n\u001B[1;32m    825\u001B[0m     )\n\u001B[1;32m    826\u001B[0m     inner_schema \u001B[38;5;241m=\u001B[39m apply_validators(fields_schema, decorators\u001B[38;5;241m.\u001B[39mroot_validators\u001B[38;5;241m.\u001B[39mvalues(), \u001B[38;5;28;01mNone\u001B[39;00m)\n\u001B[1;32m    827\u001B[0m     inner_schema \u001B[38;5;241m=\u001B[39m apply_model_validators(inner_schema, model_validators, \u001B[38;5;124m'\u001B[39m\u001B[38;5;124minner\u001B[39m\u001B[38;5;124m'\u001B[39m)\n",
      "File \u001B[0;32m~/code/mainsequence-sdk/venv/lib/python3.9/site-packages/pydantic/_internal/_generate_schema.py:817\u001B[0m, in \u001B[0;36m<dictcomp>\u001B[0;34m(.0)\u001B[0m\n\u001B[1;32m    805\u001B[0m     model_schema \u001B[38;5;241m=\u001B[39m core_schema\u001B[38;5;241m.\u001B[39mmodel_schema(\n\u001B[1;32m    806\u001B[0m         \u001B[38;5;28mcls\u001B[39m,\n\u001B[1;32m    807\u001B[0m         inner_schema,\n\u001B[0;32m   (...)\u001B[0m\n\u001B[1;32m    813\u001B[0m         ref\u001B[38;5;241m=\u001B[39mmodel_ref,\n\u001B[1;32m    814\u001B[0m     )\n\u001B[1;32m    815\u001B[0m \u001B[38;5;28;01melse\u001B[39;00m:\n\u001B[1;32m    816\u001B[0m     fields_schema: core_schema\u001B[38;5;241m.\u001B[39mCoreSchema \u001B[38;5;241m=\u001B[39m core_schema\u001B[38;5;241m.\u001B[39mmodel_fields_schema(\n\u001B[0;32m--> 817\u001B[0m         {k: \u001B[38;5;28;43mself\u001B[39;49m\u001B[38;5;241;43m.\u001B[39;49m\u001B[43m_generate_md_field_schema\u001B[49m\u001B[43m(\u001B[49m\u001B[43mk\u001B[49m\u001B[43m,\u001B[49m\u001B[43m \u001B[49m\u001B[43mv\u001B[49m\u001B[43m,\u001B[49m\u001B[43m \u001B[49m\u001B[43mdecorators\u001B[49m\u001B[43m)\u001B[49m \u001B[38;5;28;01mfor\u001B[39;00m k, v \u001B[38;5;129;01min\u001B[39;00m fields\u001B[38;5;241m.\u001B[39mitems()},\n\u001B[1;32m    818\u001B[0m         computed_fields\u001B[38;5;241m=\u001B[39m[\n\u001B[1;32m    819\u001B[0m             \u001B[38;5;28mself\u001B[39m\u001B[38;5;241m.\u001B[39m_computed_field_schema(d, decorators\u001B[38;5;241m.\u001B[39mfield_serializers)\n\u001B[1;32m    820\u001B[0m             \u001B[38;5;28;01mfor\u001B[39;00m d \u001B[38;5;129;01min\u001B[39;00m computed_fields\u001B[38;5;241m.\u001B[39mvalues()\n\u001B[1;32m    821\u001B[0m         ],\n\u001B[1;32m    822\u001B[0m         extras_schema\u001B[38;5;241m=\u001B[39mextras_schema,\n\u001B[1;32m    823\u001B[0m         extras_keys_schema\u001B[38;5;241m=\u001B[39mextras_keys_schema,\n\u001B[1;32m    824\u001B[0m         model_name\u001B[38;5;241m=\u001B[39m\u001B[38;5;28mcls\u001B[39m\u001B[38;5;241m.\u001B[39m\u001B[38;5;18m__name__\u001B[39m,\n\u001B[1;32m    825\u001B[0m     )\n\u001B[1;32m    826\u001B[0m     inner_schema \u001B[38;5;241m=\u001B[39m apply_validators(fields_schema, decorators\u001B[38;5;241m.\u001B[39mroot_validators\u001B[38;5;241m.\u001B[39mvalues(), \u001B[38;5;28;01mNone\u001B[39;00m)\n\u001B[1;32m    827\u001B[0m     inner_schema \u001B[38;5;241m=\u001B[39m apply_model_validators(inner_schema, model_validators, \u001B[38;5;124m'\u001B[39m\u001B[38;5;124minner\u001B[39m\u001B[38;5;124m'\u001B[39m)\n",
      "File \u001B[0;32m~/code/mainsequence-sdk/venv/lib/python3.9/site-packages/pydantic/_internal/_generate_schema.py:1186\u001B[0m, in \u001B[0;36mGenerateSchema._generate_md_field_schema\u001B[0;34m(self, name, field_info, decorators)\u001B[0m\n\u001B[1;32m   1179\u001B[0m \u001B[38;5;28;01mdef\u001B[39;00m\u001B[38;5;250m \u001B[39m\u001B[38;5;21m_generate_md_field_schema\u001B[39m(\n\u001B[1;32m   1180\u001B[0m     \u001B[38;5;28mself\u001B[39m,\n\u001B[1;32m   1181\u001B[0m     name: \u001B[38;5;28mstr\u001B[39m,\n\u001B[1;32m   1182\u001B[0m     field_info: FieldInfo,\n\u001B[1;32m   1183\u001B[0m     decorators: DecoratorInfos,\n\u001B[1;32m   1184\u001B[0m ) \u001B[38;5;241m-\u001B[39m\u001B[38;5;241m>\u001B[39m core_schema\u001B[38;5;241m.\u001B[39mModelField:\n\u001B[1;32m   1185\u001B[0m \u001B[38;5;250m    \u001B[39m\u001B[38;5;124;03m\"\"\"Prepare a ModelField to represent a model field.\"\"\"\u001B[39;00m\n\u001B[0;32m-> 1186\u001B[0m     common_field \u001B[38;5;241m=\u001B[39m \u001B[38;5;28;43mself\u001B[39;49m\u001B[38;5;241;43m.\u001B[39;49m\u001B[43m_common_field_schema\u001B[49m\u001B[43m(\u001B[49m\u001B[43mname\u001B[49m\u001B[43m,\u001B[49m\u001B[43m \u001B[49m\u001B[43mfield_info\u001B[49m\u001B[43m,\u001B[49m\u001B[43m \u001B[49m\u001B[43mdecorators\u001B[49m\u001B[43m)\u001B[49m\n\u001B[1;32m   1187\u001B[0m     \u001B[38;5;28;01mreturn\u001B[39;00m core_schema\u001B[38;5;241m.\u001B[39mmodel_field(\n\u001B[1;32m   1188\u001B[0m         common_field[\u001B[38;5;124m'\u001B[39m\u001B[38;5;124mschema\u001B[39m\u001B[38;5;124m'\u001B[39m],\n\u001B[1;32m   1189\u001B[0m         serialization_exclude\u001B[38;5;241m=\u001B[39mcommon_field[\u001B[38;5;124m'\u001B[39m\u001B[38;5;124mserialization_exclude\u001B[39m\u001B[38;5;124m'\u001B[39m],\n\u001B[0;32m   (...)\u001B[0m\n\u001B[1;32m   1193\u001B[0m         metadata\u001B[38;5;241m=\u001B[39mcommon_field[\u001B[38;5;124m'\u001B[39m\u001B[38;5;124mmetadata\u001B[39m\u001B[38;5;124m'\u001B[39m],\n\u001B[1;32m   1194\u001B[0m     )\n",
      "File \u001B[0;32m~/code/mainsequence-sdk/venv/lib/python3.9/site-packages/pydantic/_internal/_generate_schema.py:1352\u001B[0m, in \u001B[0;36mGenerateSchema._common_field_schema\u001B[0;34m(self, name, field_info, decorators)\u001B[0m\n\u001B[1;32m   1348\u001B[0m         schema \u001B[38;5;241m=\u001B[39m \u001B[38;5;28mself\u001B[39m\u001B[38;5;241m.\u001B[39m_apply_annotations(\n\u001B[1;32m   1349\u001B[0m             source_type, annotations \u001B[38;5;241m+\u001B[39m validators_from_decorators, transform_inner_schema\u001B[38;5;241m=\u001B[39mset_discriminator\n\u001B[1;32m   1350\u001B[0m         )\n\u001B[1;32m   1351\u001B[0m     \u001B[38;5;28;01melse\u001B[39;00m:\n\u001B[0;32m-> 1352\u001B[0m         schema \u001B[38;5;241m=\u001B[39m \u001B[38;5;28;43mself\u001B[39;49m\u001B[38;5;241;43m.\u001B[39;49m\u001B[43m_apply_annotations\u001B[49m\u001B[43m(\u001B[49m\n\u001B[1;32m   1353\u001B[0m \u001B[43m            \u001B[49m\u001B[43msource_type\u001B[49m\u001B[43m,\u001B[49m\n\u001B[1;32m   1354\u001B[0m \u001B[43m            \u001B[49m\u001B[43mannotations\u001B[49m\u001B[43m \u001B[49m\u001B[38;5;241;43m+\u001B[39;49m\u001B[43m \u001B[49m\u001B[43mvalidators_from_decorators\u001B[49m\u001B[43m,\u001B[49m\n\u001B[1;32m   1355\u001B[0m \u001B[43m        \u001B[49m\u001B[43m)\u001B[49m\n\u001B[1;32m   1357\u001B[0m \u001B[38;5;66;03m# This V1 compatibility shim should eventually be removed\u001B[39;00m\n\u001B[1;32m   1358\u001B[0m \u001B[38;5;66;03m# push down any `each_item=True` validators\u001B[39;00m\n\u001B[1;32m   1359\u001B[0m \u001B[38;5;66;03m# note that this won't work for any Annotated types that get wrapped by a function validator\u001B[39;00m\n\u001B[1;32m   1360\u001B[0m \u001B[38;5;66;03m# but that's okay because that didn't exist in V1\u001B[39;00m\n\u001B[1;32m   1361\u001B[0m this_field_validators \u001B[38;5;241m=\u001B[39m filter_field_decorator_info_by_field(decorators\u001B[38;5;241m.\u001B[39mvalidators\u001B[38;5;241m.\u001B[39mvalues(), name)\n",
      "File \u001B[0;32m~/code/mainsequence-sdk/venv/lib/python3.9/site-packages/pydantic/_internal/_generate_schema.py:2264\u001B[0m, in \u001B[0;36mGenerateSchema._apply_annotations\u001B[0;34m(self, source_type, annotations, transform_inner_schema)\u001B[0m\n\u001B[1;32m   2259\u001B[0m         \u001B[38;5;28;01mcontinue\u001B[39;00m\n\u001B[1;32m   2260\u001B[0m     get_inner_schema \u001B[38;5;241m=\u001B[39m \u001B[38;5;28mself\u001B[39m\u001B[38;5;241m.\u001B[39m_get_wrapped_inner_schema(\n\u001B[1;32m   2261\u001B[0m         get_inner_schema, annotation, pydantic_js_annotation_functions\n\u001B[1;32m   2262\u001B[0m     )\n\u001B[0;32m-> 2264\u001B[0m schema \u001B[38;5;241m=\u001B[39m \u001B[43mget_inner_schema\u001B[49m\u001B[43m(\u001B[49m\u001B[43msource_type\u001B[49m\u001B[43m)\u001B[49m\n\u001B[1;32m   2265\u001B[0m \u001B[38;5;28;01mif\u001B[39;00m pydantic_js_annotation_functions:\n\u001B[1;32m   2266\u001B[0m     core_metadata \u001B[38;5;241m=\u001B[39m schema\u001B[38;5;241m.\u001B[39msetdefault(\u001B[38;5;124m'\u001B[39m\u001B[38;5;124mmetadata\u001B[39m\u001B[38;5;124m'\u001B[39m, {})\n",
      "File \u001B[0;32m~/code/mainsequence-sdk/venv/lib/python3.9/site-packages/pydantic/_internal/_schema_generation_shared.py:83\u001B[0m, in \u001B[0;36mCallbackGetCoreSchemaHandler.__call__\u001B[0;34m(self, source_type)\u001B[0m\n\u001B[1;32m     82\u001B[0m \u001B[38;5;28;01mdef\u001B[39;00m\u001B[38;5;250m \u001B[39m\u001B[38;5;21m__call__\u001B[39m(\u001B[38;5;28mself\u001B[39m, source_type: Any, \u001B[38;5;241m/\u001B[39m) \u001B[38;5;241m-\u001B[39m\u001B[38;5;241m>\u001B[39m core_schema\u001B[38;5;241m.\u001B[39mCoreSchema:\n\u001B[0;32m---> 83\u001B[0m     schema \u001B[38;5;241m=\u001B[39m \u001B[38;5;28;43mself\u001B[39;49m\u001B[38;5;241;43m.\u001B[39;49m\u001B[43m_handler\u001B[49m\u001B[43m(\u001B[49m\u001B[43msource_type\u001B[49m\u001B[43m)\u001B[49m\n\u001B[1;32m     84\u001B[0m     \u001B[38;5;28;01mif\u001B[39;00m \u001B[38;5;28mself\u001B[39m\u001B[38;5;241m.\u001B[39m_ref_mode \u001B[38;5;241m==\u001B[39m \u001B[38;5;124m'\u001B[39m\u001B[38;5;124mto-def\u001B[39m\u001B[38;5;124m'\u001B[39m:\n\u001B[1;32m     85\u001B[0m         ref \u001B[38;5;241m=\u001B[39m schema\u001B[38;5;241m.\u001B[39mget(\u001B[38;5;124m'\u001B[39m\u001B[38;5;124mref\u001B[39m\u001B[38;5;124m'\u001B[39m)\n",
      "File \u001B[0;32m~/code/mainsequence-sdk/venv/lib/python3.9/site-packages/pydantic/_internal/_generate_schema.py:2246\u001B[0m, in \u001B[0;36mGenerateSchema._apply_annotations.<locals>.inner_handler\u001B[0;34m(obj)\u001B[0m\n\u001B[1;32m   2243\u001B[0m schema \u001B[38;5;241m=\u001B[39m \u001B[38;5;28mself\u001B[39m\u001B[38;5;241m.\u001B[39m_generate_schema_from_get_schema_method(obj, source_type)\n\u001B[1;32m   2245\u001B[0m \u001B[38;5;28;01mif\u001B[39;00m schema \u001B[38;5;129;01mis\u001B[39;00m \u001B[38;5;28;01mNone\u001B[39;00m:\n\u001B[0;32m-> 2246\u001B[0m     schema \u001B[38;5;241m=\u001B[39m \u001B[38;5;28;43mself\u001B[39;49m\u001B[38;5;241;43m.\u001B[39;49m\u001B[43m_generate_schema_inner\u001B[49m\u001B[43m(\u001B[49m\u001B[43mobj\u001B[49m\u001B[43m)\u001B[49m\n\u001B[1;32m   2248\u001B[0m metadata_js_function \u001B[38;5;241m=\u001B[39m _extract_get_pydantic_json_schema(obj)\n\u001B[1;32m   2249\u001B[0m \u001B[38;5;28;01mif\u001B[39;00m metadata_js_function \u001B[38;5;129;01mis\u001B[39;00m \u001B[38;5;129;01mnot\u001B[39;00m \u001B[38;5;28;01mNone\u001B[39;00m:\n",
      "File \u001B[0;32m~/code/mainsequence-sdk/venv/lib/python3.9/site-packages/pydantic/_internal/_generate_schema.py:984\u001B[0m, in \u001B[0;36mGenerateSchema._generate_schema_inner\u001B[0;34m(self, obj)\u001B[0m\n\u001B[1;32m    982\u001B[0m \u001B[38;5;28;01mif\u001B[39;00m lenient_issubclass(obj, BaseModel):\n\u001B[1;32m    983\u001B[0m     \u001B[38;5;28;01mwith\u001B[39;00m \u001B[38;5;28mself\u001B[39m\u001B[38;5;241m.\u001B[39mmodel_type_stack\u001B[38;5;241m.\u001B[39mpush(obj):\n\u001B[0;32m--> 984\u001B[0m         \u001B[38;5;28;01mreturn\u001B[39;00m \u001B[38;5;28;43mself\u001B[39;49m\u001B[38;5;241;43m.\u001B[39;49m\u001B[43m_model_schema\u001B[49m\u001B[43m(\u001B[49m\u001B[43mobj\u001B[49m\u001B[43m)\u001B[49m\n\u001B[1;32m    986\u001B[0m \u001B[38;5;28;01mif\u001B[39;00m \u001B[38;5;28misinstance\u001B[39m(obj, PydanticRecursiveRef):\n\u001B[1;32m    987\u001B[0m     \u001B[38;5;28;01mreturn\u001B[39;00m core_schema\u001B[38;5;241m.\u001B[39mdefinition_reference_schema(schema_ref\u001B[38;5;241m=\u001B[39mobj\u001B[38;5;241m.\u001B[39mtype_ref)\n",
      "File \u001B[0;32m~/code/mainsequence-sdk/venv/lib/python3.9/site-packages/pydantic/_internal/_generate_schema.py:817\u001B[0m, in \u001B[0;36mGenerateSchema._model_schema\u001B[0;34m(self, cls)\u001B[0m\n\u001B[1;32m    805\u001B[0m     model_schema \u001B[38;5;241m=\u001B[39m core_schema\u001B[38;5;241m.\u001B[39mmodel_schema(\n\u001B[1;32m    806\u001B[0m         \u001B[38;5;28mcls\u001B[39m,\n\u001B[1;32m    807\u001B[0m         inner_schema,\n\u001B[0;32m   (...)\u001B[0m\n\u001B[1;32m    813\u001B[0m         ref\u001B[38;5;241m=\u001B[39mmodel_ref,\n\u001B[1;32m    814\u001B[0m     )\n\u001B[1;32m    815\u001B[0m \u001B[38;5;28;01melse\u001B[39;00m:\n\u001B[1;32m    816\u001B[0m     fields_schema: core_schema\u001B[38;5;241m.\u001B[39mCoreSchema \u001B[38;5;241m=\u001B[39m core_schema\u001B[38;5;241m.\u001B[39mmodel_fields_schema(\n\u001B[0;32m--> 817\u001B[0m         {k: \u001B[38;5;28mself\u001B[39m\u001B[38;5;241m.\u001B[39m_generate_md_field_schema(k, v, decorators) \u001B[38;5;28;01mfor\u001B[39;00m k, v \u001B[38;5;129;01min\u001B[39;00m fields\u001B[38;5;241m.\u001B[39mitems()},\n\u001B[1;32m    818\u001B[0m         computed_fields\u001B[38;5;241m=\u001B[39m[\n\u001B[1;32m    819\u001B[0m             \u001B[38;5;28mself\u001B[39m\u001B[38;5;241m.\u001B[39m_computed_field_schema(d, decorators\u001B[38;5;241m.\u001B[39mfield_serializers)\n\u001B[1;32m    820\u001B[0m             \u001B[38;5;28;01mfor\u001B[39;00m d \u001B[38;5;129;01min\u001B[39;00m computed_fields\u001B[38;5;241m.\u001B[39mvalues()\n\u001B[1;32m    821\u001B[0m         ],\n\u001B[1;32m    822\u001B[0m         extras_schema\u001B[38;5;241m=\u001B[39mextras_schema,\n\u001B[1;32m    823\u001B[0m         extras_keys_schema\u001B[38;5;241m=\u001B[39mextras_keys_schema,\n\u001B[1;32m    824\u001B[0m         model_name\u001B[38;5;241m=\u001B[39m\u001B[38;5;28mcls\u001B[39m\u001B[38;5;241m.\u001B[39m\u001B[38;5;18m__name__\u001B[39m,\n\u001B[1;32m    825\u001B[0m     )\n\u001B[1;32m    826\u001B[0m     inner_schema \u001B[38;5;241m=\u001B[39m apply_validators(fields_schema, decorators\u001B[38;5;241m.\u001B[39mroot_validators\u001B[38;5;241m.\u001B[39mvalues(), \u001B[38;5;28;01mNone\u001B[39;00m)\n\u001B[1;32m    827\u001B[0m     inner_schema \u001B[38;5;241m=\u001B[39m apply_model_validators(inner_schema, model_validators, \u001B[38;5;124m'\u001B[39m\u001B[38;5;124minner\u001B[39m\u001B[38;5;124m'\u001B[39m)\n",
      "File \u001B[0;32m~/code/mainsequence-sdk/venv/lib/python3.9/site-packages/pydantic/_internal/_generate_schema.py:817\u001B[0m, in \u001B[0;36m<dictcomp>\u001B[0;34m(.0)\u001B[0m\n\u001B[1;32m    805\u001B[0m     model_schema \u001B[38;5;241m=\u001B[39m core_schema\u001B[38;5;241m.\u001B[39mmodel_schema(\n\u001B[1;32m    806\u001B[0m         \u001B[38;5;28mcls\u001B[39m,\n\u001B[1;32m    807\u001B[0m         inner_schema,\n\u001B[0;32m   (...)\u001B[0m\n\u001B[1;32m    813\u001B[0m         ref\u001B[38;5;241m=\u001B[39mmodel_ref,\n\u001B[1;32m    814\u001B[0m     )\n\u001B[1;32m    815\u001B[0m \u001B[38;5;28;01melse\u001B[39;00m:\n\u001B[1;32m    816\u001B[0m     fields_schema: core_schema\u001B[38;5;241m.\u001B[39mCoreSchema \u001B[38;5;241m=\u001B[39m core_schema\u001B[38;5;241m.\u001B[39mmodel_fields_schema(\n\u001B[0;32m--> 817\u001B[0m         {k: \u001B[38;5;28;43mself\u001B[39;49m\u001B[38;5;241;43m.\u001B[39;49m\u001B[43m_generate_md_field_schema\u001B[49m\u001B[43m(\u001B[49m\u001B[43mk\u001B[49m\u001B[43m,\u001B[49m\u001B[43m \u001B[49m\u001B[43mv\u001B[49m\u001B[43m,\u001B[49m\u001B[43m \u001B[49m\u001B[43mdecorators\u001B[49m\u001B[43m)\u001B[49m \u001B[38;5;28;01mfor\u001B[39;00m k, v \u001B[38;5;129;01min\u001B[39;00m fields\u001B[38;5;241m.\u001B[39mitems()},\n\u001B[1;32m    818\u001B[0m         computed_fields\u001B[38;5;241m=\u001B[39m[\n\u001B[1;32m    819\u001B[0m             \u001B[38;5;28mself\u001B[39m\u001B[38;5;241m.\u001B[39m_computed_field_schema(d, decorators\u001B[38;5;241m.\u001B[39mfield_serializers)\n\u001B[1;32m    820\u001B[0m             \u001B[38;5;28;01mfor\u001B[39;00m d \u001B[38;5;129;01min\u001B[39;00m computed_fields\u001B[38;5;241m.\u001B[39mvalues()\n\u001B[1;32m    821\u001B[0m         ],\n\u001B[1;32m    822\u001B[0m         extras_schema\u001B[38;5;241m=\u001B[39mextras_schema,\n\u001B[1;32m    823\u001B[0m         extras_keys_schema\u001B[38;5;241m=\u001B[39mextras_keys_schema,\n\u001B[1;32m    824\u001B[0m         model_name\u001B[38;5;241m=\u001B[39m\u001B[38;5;28mcls\u001B[39m\u001B[38;5;241m.\u001B[39m\u001B[38;5;18m__name__\u001B[39m,\n\u001B[1;32m    825\u001B[0m     )\n\u001B[1;32m    826\u001B[0m     inner_schema \u001B[38;5;241m=\u001B[39m apply_validators(fields_schema, decorators\u001B[38;5;241m.\u001B[39mroot_validators\u001B[38;5;241m.\u001B[39mvalues(), \u001B[38;5;28;01mNone\u001B[39;00m)\n\u001B[1;32m    827\u001B[0m     inner_schema \u001B[38;5;241m=\u001B[39m apply_model_validators(inner_schema, model_validators, \u001B[38;5;124m'\u001B[39m\u001B[38;5;124minner\u001B[39m\u001B[38;5;124m'\u001B[39m)\n",
      "File \u001B[0;32m~/code/mainsequence-sdk/venv/lib/python3.9/site-packages/pydantic/_internal/_generate_schema.py:1186\u001B[0m, in \u001B[0;36mGenerateSchema._generate_md_field_schema\u001B[0;34m(self, name, field_info, decorators)\u001B[0m\n\u001B[1;32m   1179\u001B[0m \u001B[38;5;28;01mdef\u001B[39;00m\u001B[38;5;250m \u001B[39m\u001B[38;5;21m_generate_md_field_schema\u001B[39m(\n\u001B[1;32m   1180\u001B[0m     \u001B[38;5;28mself\u001B[39m,\n\u001B[1;32m   1181\u001B[0m     name: \u001B[38;5;28mstr\u001B[39m,\n\u001B[1;32m   1182\u001B[0m     field_info: FieldInfo,\n\u001B[1;32m   1183\u001B[0m     decorators: DecoratorInfos,\n\u001B[1;32m   1184\u001B[0m ) \u001B[38;5;241m-\u001B[39m\u001B[38;5;241m>\u001B[39m core_schema\u001B[38;5;241m.\u001B[39mModelField:\n\u001B[1;32m   1185\u001B[0m \u001B[38;5;250m    \u001B[39m\u001B[38;5;124;03m\"\"\"Prepare a ModelField to represent a model field.\"\"\"\u001B[39;00m\n\u001B[0;32m-> 1186\u001B[0m     common_field \u001B[38;5;241m=\u001B[39m \u001B[38;5;28;43mself\u001B[39;49m\u001B[38;5;241;43m.\u001B[39;49m\u001B[43m_common_field_schema\u001B[49m\u001B[43m(\u001B[49m\u001B[43mname\u001B[49m\u001B[43m,\u001B[49m\u001B[43m \u001B[49m\u001B[43mfield_info\u001B[49m\u001B[43m,\u001B[49m\u001B[43m \u001B[49m\u001B[43mdecorators\u001B[49m\u001B[43m)\u001B[49m\n\u001B[1;32m   1187\u001B[0m     \u001B[38;5;28;01mreturn\u001B[39;00m core_schema\u001B[38;5;241m.\u001B[39mmodel_field(\n\u001B[1;32m   1188\u001B[0m         common_field[\u001B[38;5;124m'\u001B[39m\u001B[38;5;124mschema\u001B[39m\u001B[38;5;124m'\u001B[39m],\n\u001B[1;32m   1189\u001B[0m         serialization_exclude\u001B[38;5;241m=\u001B[39mcommon_field[\u001B[38;5;124m'\u001B[39m\u001B[38;5;124mserialization_exclude\u001B[39m\u001B[38;5;124m'\u001B[39m],\n\u001B[0;32m   (...)\u001B[0m\n\u001B[1;32m   1193\u001B[0m         metadata\u001B[38;5;241m=\u001B[39mcommon_field[\u001B[38;5;124m'\u001B[39m\u001B[38;5;124mmetadata\u001B[39m\u001B[38;5;124m'\u001B[39m],\n\u001B[1;32m   1194\u001B[0m     )\n",
      "File \u001B[0;32m~/code/mainsequence-sdk/venv/lib/python3.9/site-packages/pydantic/_internal/_generate_schema.py:1352\u001B[0m, in \u001B[0;36mGenerateSchema._common_field_schema\u001B[0;34m(self, name, field_info, decorators)\u001B[0m\n\u001B[1;32m   1348\u001B[0m         schema \u001B[38;5;241m=\u001B[39m \u001B[38;5;28mself\u001B[39m\u001B[38;5;241m.\u001B[39m_apply_annotations(\n\u001B[1;32m   1349\u001B[0m             source_type, annotations \u001B[38;5;241m+\u001B[39m validators_from_decorators, transform_inner_schema\u001B[38;5;241m=\u001B[39mset_discriminator\n\u001B[1;32m   1350\u001B[0m         )\n\u001B[1;32m   1351\u001B[0m     \u001B[38;5;28;01melse\u001B[39;00m:\n\u001B[0;32m-> 1352\u001B[0m         schema \u001B[38;5;241m=\u001B[39m \u001B[38;5;28;43mself\u001B[39;49m\u001B[38;5;241;43m.\u001B[39;49m\u001B[43m_apply_annotations\u001B[49m\u001B[43m(\u001B[49m\n\u001B[1;32m   1353\u001B[0m \u001B[43m            \u001B[49m\u001B[43msource_type\u001B[49m\u001B[43m,\u001B[49m\n\u001B[1;32m   1354\u001B[0m \u001B[43m            \u001B[49m\u001B[43mannotations\u001B[49m\u001B[43m \u001B[49m\u001B[38;5;241;43m+\u001B[39;49m\u001B[43m \u001B[49m\u001B[43mvalidators_from_decorators\u001B[49m\u001B[43m,\u001B[49m\n\u001B[1;32m   1355\u001B[0m \u001B[43m        \u001B[49m\u001B[43m)\u001B[49m\n\u001B[1;32m   1357\u001B[0m \u001B[38;5;66;03m# This V1 compatibility shim should eventually be removed\u001B[39;00m\n\u001B[1;32m   1358\u001B[0m \u001B[38;5;66;03m# push down any `each_item=True` validators\u001B[39;00m\n\u001B[1;32m   1359\u001B[0m \u001B[38;5;66;03m# note that this won't work for any Annotated types that get wrapped by a function validator\u001B[39;00m\n\u001B[1;32m   1360\u001B[0m \u001B[38;5;66;03m# but that's okay because that didn't exist in V1\u001B[39;00m\n\u001B[1;32m   1361\u001B[0m this_field_validators \u001B[38;5;241m=\u001B[39m filter_field_decorator_info_by_field(decorators\u001B[38;5;241m.\u001B[39mvalidators\u001B[38;5;241m.\u001B[39mvalues(), name)\n",
      "File \u001B[0;32m~/code/mainsequence-sdk/venv/lib/python3.9/site-packages/pydantic/_internal/_generate_schema.py:2264\u001B[0m, in \u001B[0;36mGenerateSchema._apply_annotations\u001B[0;34m(self, source_type, annotations, transform_inner_schema)\u001B[0m\n\u001B[1;32m   2259\u001B[0m         \u001B[38;5;28;01mcontinue\u001B[39;00m\n\u001B[1;32m   2260\u001B[0m     get_inner_schema \u001B[38;5;241m=\u001B[39m \u001B[38;5;28mself\u001B[39m\u001B[38;5;241m.\u001B[39m_get_wrapped_inner_schema(\n\u001B[1;32m   2261\u001B[0m         get_inner_schema, annotation, pydantic_js_annotation_functions\n\u001B[1;32m   2262\u001B[0m     )\n\u001B[0;32m-> 2264\u001B[0m schema \u001B[38;5;241m=\u001B[39m \u001B[43mget_inner_schema\u001B[49m\u001B[43m(\u001B[49m\u001B[43msource_type\u001B[49m\u001B[43m)\u001B[49m\n\u001B[1;32m   2265\u001B[0m \u001B[38;5;28;01mif\u001B[39;00m pydantic_js_annotation_functions:\n\u001B[1;32m   2266\u001B[0m     core_metadata \u001B[38;5;241m=\u001B[39m schema\u001B[38;5;241m.\u001B[39msetdefault(\u001B[38;5;124m'\u001B[39m\u001B[38;5;124mmetadata\u001B[39m\u001B[38;5;124m'\u001B[39m, {})\n",
      "File \u001B[0;32m~/code/mainsequence-sdk/venv/lib/python3.9/site-packages/pydantic/_internal/_schema_generation_shared.py:83\u001B[0m, in \u001B[0;36mCallbackGetCoreSchemaHandler.__call__\u001B[0;34m(self, source_type)\u001B[0m\n\u001B[1;32m     82\u001B[0m \u001B[38;5;28;01mdef\u001B[39;00m\u001B[38;5;250m \u001B[39m\u001B[38;5;21m__call__\u001B[39m(\u001B[38;5;28mself\u001B[39m, source_type: Any, \u001B[38;5;241m/\u001B[39m) \u001B[38;5;241m-\u001B[39m\u001B[38;5;241m>\u001B[39m core_schema\u001B[38;5;241m.\u001B[39mCoreSchema:\n\u001B[0;32m---> 83\u001B[0m     schema \u001B[38;5;241m=\u001B[39m \u001B[38;5;28;43mself\u001B[39;49m\u001B[38;5;241;43m.\u001B[39;49m\u001B[43m_handler\u001B[49m\u001B[43m(\u001B[49m\u001B[43msource_type\u001B[49m\u001B[43m)\u001B[49m\n\u001B[1;32m     84\u001B[0m     \u001B[38;5;28;01mif\u001B[39;00m \u001B[38;5;28mself\u001B[39m\u001B[38;5;241m.\u001B[39m_ref_mode \u001B[38;5;241m==\u001B[39m \u001B[38;5;124m'\u001B[39m\u001B[38;5;124mto-def\u001B[39m\u001B[38;5;124m'\u001B[39m:\n\u001B[1;32m     85\u001B[0m         ref \u001B[38;5;241m=\u001B[39m schema\u001B[38;5;241m.\u001B[39mget(\u001B[38;5;124m'\u001B[39m\u001B[38;5;124mref\u001B[39m\u001B[38;5;124m'\u001B[39m)\n",
      "File \u001B[0;32m~/code/mainsequence-sdk/venv/lib/python3.9/site-packages/pydantic/_internal/_generate_schema.py:2246\u001B[0m, in \u001B[0;36mGenerateSchema._apply_annotations.<locals>.inner_handler\u001B[0;34m(obj)\u001B[0m\n\u001B[1;32m   2243\u001B[0m schema \u001B[38;5;241m=\u001B[39m \u001B[38;5;28mself\u001B[39m\u001B[38;5;241m.\u001B[39m_generate_schema_from_get_schema_method(obj, source_type)\n\u001B[1;32m   2245\u001B[0m \u001B[38;5;28;01mif\u001B[39;00m schema \u001B[38;5;129;01mis\u001B[39;00m \u001B[38;5;28;01mNone\u001B[39;00m:\n\u001B[0;32m-> 2246\u001B[0m     schema \u001B[38;5;241m=\u001B[39m \u001B[38;5;28;43mself\u001B[39;49m\u001B[38;5;241;43m.\u001B[39;49m\u001B[43m_generate_schema_inner\u001B[49m\u001B[43m(\u001B[49m\u001B[43mobj\u001B[49m\u001B[43m)\u001B[49m\n\u001B[1;32m   2248\u001B[0m metadata_js_function \u001B[38;5;241m=\u001B[39m _extract_get_pydantic_json_schema(obj)\n\u001B[1;32m   2249\u001B[0m \u001B[38;5;28;01mif\u001B[39;00m metadata_js_function \u001B[38;5;129;01mis\u001B[39;00m \u001B[38;5;129;01mnot\u001B[39;00m \u001B[38;5;28;01mNone\u001B[39;00m:\n",
      "File \u001B[0;32m~/code/mainsequence-sdk/venv/lib/python3.9/site-packages/pydantic/_internal/_generate_schema.py:989\u001B[0m, in \u001B[0;36mGenerateSchema._generate_schema_inner\u001B[0;34m(self, obj)\u001B[0m\n\u001B[1;32m    986\u001B[0m \u001B[38;5;28;01mif\u001B[39;00m \u001B[38;5;28misinstance\u001B[39m(obj, PydanticRecursiveRef):\n\u001B[1;32m    987\u001B[0m     \u001B[38;5;28;01mreturn\u001B[39;00m core_schema\u001B[38;5;241m.\u001B[39mdefinition_reference_schema(schema_ref\u001B[38;5;241m=\u001B[39mobj\u001B[38;5;241m.\u001B[39mtype_ref)\n\u001B[0;32m--> 989\u001B[0m \u001B[38;5;28;01mreturn\u001B[39;00m \u001B[38;5;28;43mself\u001B[39;49m\u001B[38;5;241;43m.\u001B[39;49m\u001B[43mmatch_type\u001B[49m\u001B[43m(\u001B[49m\u001B[43mobj\u001B[49m\u001B[43m)\u001B[49m\n",
      "File \u001B[0;32m~/code/mainsequence-sdk/venv/lib/python3.9/site-packages/pydantic/_internal/_generate_schema.py:1107\u001B[0m, in \u001B[0;36mGenerateSchema.match_type\u001B[0;34m(self, obj)\u001B[0m\n\u001B[1;32m   1105\u001B[0m \u001B[38;5;28;01mif\u001B[39;00m \u001B[38;5;28mself\u001B[39m\u001B[38;5;241m.\u001B[39m_arbitrary_types:\n\u001B[1;32m   1106\u001B[0m     \u001B[38;5;28;01mreturn\u001B[39;00m \u001B[38;5;28mself\u001B[39m\u001B[38;5;241m.\u001B[39m_arbitrary_type_schema(obj)\n\u001B[0;32m-> 1107\u001B[0m \u001B[38;5;28;01mreturn\u001B[39;00m \u001B[38;5;28;43mself\u001B[39;49m\u001B[38;5;241;43m.\u001B[39;49m\u001B[43m_unknown_type_schema\u001B[49m\u001B[43m(\u001B[49m\u001B[43mobj\u001B[49m\u001B[43m)\u001B[49m\n",
      "File \u001B[0;32m~/code/mainsequence-sdk/venv/lib/python3.9/site-packages/pydantic/_internal/_generate_schema.py:634\u001B[0m, in \u001B[0;36mGenerateSchema._unknown_type_schema\u001B[0;34m(self, obj)\u001B[0m\n\u001B[1;32m    633\u001B[0m \u001B[38;5;28;01mdef\u001B[39;00m\u001B[38;5;250m \u001B[39m\u001B[38;5;21m_unknown_type_schema\u001B[39m(\u001B[38;5;28mself\u001B[39m, obj: Any) \u001B[38;5;241m-\u001B[39m\u001B[38;5;241m>\u001B[39m CoreSchema:\n\u001B[0;32m--> 634\u001B[0m     \u001B[38;5;28;01mraise\u001B[39;00m PydanticSchemaGenerationError(\n\u001B[1;32m    635\u001B[0m         \u001B[38;5;124mf\u001B[39m\u001B[38;5;124m'\u001B[39m\u001B[38;5;124mUnable to generate pydantic-core schema for \u001B[39m\u001B[38;5;132;01m{\u001B[39;00mobj\u001B[38;5;132;01m!r}\u001B[39;00m\u001B[38;5;124m. \u001B[39m\u001B[38;5;124m'\u001B[39m\n\u001B[1;32m    636\u001B[0m         \u001B[38;5;124m'\u001B[39m\u001B[38;5;124mSet `arbitrary_types_allowed=True` in the model_config to ignore this error\u001B[39m\u001B[38;5;124m'\u001B[39m\n\u001B[1;32m    637\u001B[0m         \u001B[38;5;124m'\u001B[39m\u001B[38;5;124m or implement `__get_pydantic_core_schema__` on your type to fully support it.\u001B[39m\u001B[38;5;124m'\u001B[39m\n\u001B[1;32m    638\u001B[0m         \u001B[38;5;124m'\u001B[39m\u001B[38;5;130;01m\\n\u001B[39;00m\u001B[38;5;130;01m\\n\u001B[39;00m\u001B[38;5;124mIf you got this error by calling handler(<some type>) within\u001B[39m\u001B[38;5;124m'\u001B[39m\n\u001B[1;32m    639\u001B[0m         \u001B[38;5;124m'\u001B[39m\u001B[38;5;124m `__get_pydantic_core_schema__` then you likely need to call\u001B[39m\u001B[38;5;124m'\u001B[39m\n\u001B[1;32m    640\u001B[0m         \u001B[38;5;124m'\u001B[39m\u001B[38;5;124m `handler.generate_schema(<some type>)` since we do not call\u001B[39m\u001B[38;5;124m'\u001B[39m\n\u001B[1;32m    641\u001B[0m         \u001B[38;5;124m'\u001B[39m\u001B[38;5;124m `__get_pydantic_core_schema__` on `<some type>` otherwise to avoid infinite recursion.\u001B[39m\u001B[38;5;124m'\u001B[39m\n\u001B[1;32m    642\u001B[0m     )\n",
      "\u001B[0;31mPydanticSchemaGenerationError\u001B[0m: Unable to generate pydantic-core schema for [<class 'str'>]. Set `arbitrary_types_allowed=True` in the model_config to ignore this error or implement `__get_pydantic_core_schema__` on your type to fully support it.\n\nIf you got this error by calling handler(<some type>) within `__get_pydantic_core_schema__` then you likely need to call `handler.generate_schema(<some type>)` since we do not call `__get_pydantic_core_schema__` on `<some type>` otherwise to avoid infinite recursion.\n\nFor further information visit https://errors.pydantic.dev/2.11/u/schema-for-unknown-type"
     ]
    }
   ],
   "execution_count": 2
  },
  {
   "cell_type": "code",
   "metadata": {
    "ExecuteTime": {
     "end_time": "2025-05-18T19:17:20.430475Z",
     "start_time": "2025-05-18T19:17:20.430423Z"
    }
   },
   "source": [],
   "outputs": [],
   "execution_count": null
  },
  {
   "cell_type": "code",
   "metadata": {},
   "source": [
    "!pip install matplotlib"
   ],
   "outputs": [],
   "execution_count": null
  },
  {
   "cell_type": "markdown",
   "metadata": {},
   "source": [
    "## Retrieving All Active Accounts\n",
    "We fetch all active accounts from the database.\n",
    "\n",
    "### The Main Sequence Execution Venue and Main Sequence Account\n",
    "The mapping between accounts and execution venues defines which portfolios can be added to specific accounts via the portfolio property `required_venues`. This restriction ensures that an account can only follow portfolios matching the defined `required_venues`. However, as a researcher, you might want to create accounts capable of tracking portfolios across multiple different venues. In such cases, you can utilize accounts within the **Main Sequence ExecutionVenue**, which allows you to mix assets and portfolios from any venue."
   ]
  },
  {
   "cell_type": "code",
   "metadata": {},
   "source": [
    "# Query all active accounts\n",
    "accounts= Account.filter(account_is_active=True)\n",
    "print(f\"Total active accounts: {len(accounts)}\")\n",
    "\n",
    "# Display general account information\n",
    "for acc in accounts:\n",
    "    print(f\"Account Name: {acc.account_name}, Venue: {acc.execution_venue}, Latest Holdings: {acc.latest_holdings.holdings_date}\")"
   ],
   "outputs": [],
   "execution_count": null
  },
  {
   "cell_type": "markdown",
   "metadata": {},
   "source": [
    "# Account Historical Holdings & Risk Factors\n",
    "We can get historical information as snapshot of our Accounts"
   ]
  },
  {
   "metadata": {},
   "cell_type": "code",
   "source": "",
   "outputs": [],
   "execution_count": null
  },
  {
   "cell_type": "code",
   "metadata": {},
   "source": [
    "import datetime\n",
    "import matplotlib.pyplot as plt\n",
    "from mainsequence.client import AccountHistoricalHoldings,AccountRiskFactors\n",
    "\n",
    "\n",
    "end_date = datetime.datetime.utcnow()\n",
    "start_date = end_date - datetime.timedelta(hours=1)\n",
    "\n",
    "# Query with a date range filter\n",
    "historical_holdings= AccountHistoricalHoldings.filter(\n",
    "    holdings_date__gte=start_date,\n",
    "    holdings_date__lte=end_date,\n",
    "    related_account__id=accounts[0].id\n",
    ")\n",
    "\n",
    "\n",
    "# Extract NAV values and dates from historical holdings\n",
    "nav_values = [holding.nav for holding in historical_holdings if holding.nav is not None]\n",
    "dates = [holding.holdings_date for holding in historical_holdings if holding.nav is not None]\n",
    "\n",
    "# Sort data by date\n",
    "sorted_data = sorted(zip(dates, nav_values), key=lambda x: x[0])\n",
    "\n",
    "if len(sorted_data) ==0:\n",
    "    raise Exception(\"No data found\")\n",
    "\n",
    "dates, nav_values = zip(*sorted_data)\n",
    "\n",
    "# Plot NAV over time\n",
    "plt.figure(figsize=(10, 5))\n",
    "plt.plot(dates, nav_values, marker='o', linestyle='-', label=\"NAV Over Time\")\n",
    "plt.xlabel(\"Date\")\n",
    "plt.ylabel(\"NAV\")\n",
    "plt.title(\"Account NAV Over Time\")\n",
    "plt.legend()\n",
    "plt.grid(True)\n",
    "\n",
    "# Show the plot\n",
    "plt.show()\n"
   ],
   "outputs": [],
   "execution_count": null
  },
  {
   "cell_type": "code",
   "metadata": {},
   "source": [
    "risk_factors=AccountRiskFactors.filter(related_holdings__id__in=[h.id for h in historical_holdings])\n"
   ],
   "outputs": [],
   "execution_count": null
  },
  {
   "cell_type": "code",
   "metadata": {},
   "source": [
    "\n",
    "holdings_date_map = {h.id: h.holdings_date for h in historical_holdings}\n",
    "\n",
    "# Prepare lists for plotting\n",
    "dates = []\n",
    "balances = []\n",
    "\n",
    "# Loop over your risk factors data (a list of dictionaries)\n",
    "for rf in risk_factors:\n",
    "    holding_id = rf.related_holdings.id\n",
    "    # Check if we have a corresponding holding date\n",
    "    if holding_id in holdings_date_map.keys():\n",
    "        dates.append(holdings_date_map[holding_id])\n",
    "        balances.append(rf.account_balance)\n",
    "\n",
    "# Optionally, sort the data by date if not already sorted\n",
    "data = sorted(zip(dates, balances), key=lambda x: x[0])\n",
    "sorted_dates, sorted_balances = zip(*data) if data else ([], [])\n",
    "\n",
    "# Create the plot\n",
    "plt.figure(figsize=(10, 6))\n",
    "plt.plot(sorted_dates, sorted_balances, marker='o', linestyle='-', color='b')\n",
    "plt.xlabel(\"Holdings Date\")\n",
    "plt.ylabel(\" account_balance\")\n",
    "plt.title(\"Total Account Balance over Time\")\n",
    "plt.grid(True)\n",
    "plt.show()\n"
   ],
   "outputs": [],
   "execution_count": null
  },
  {
   "cell_type": "code",
   "metadata": {},
   "source": "accounts[0].uuid",
   "outputs": [],
   "execution_count": null
  }
 ],
 "metadata": {
  "kernelspec": {
   "display_name": "Python 3",
   "language": "python",
   "name": "python3"
  },
  "language_info": {
   "codemirror_mode": {
    "name": "ipython",
    "version": 3
   },
   "file_extension": ".py",
   "mimetype": "text/x-python",
   "name": "python",
   "nbconvert_exporter": "python",
   "pygments_lexer": "ipython3",
   "version": "3.8.10"
  }
 },
 "nbformat": 4,
 "nbformat_minor": 4
}
