{
 "cells": [
  {
   "cell_type": "markdown",
   "id": "d53b9d22",
   "metadata": {},
   "source": [
    "# Interacting with Assets in VAM API\n",
    "\n",
    "This notebook provides a comprehensive guide on how to interact with different types of assets using the VAM API.\n",
    "We will cover:\n",
    "- Querying different asset types\n",
    "- Filtering assets by execution venue\n",
    "- Working with different asset types like spot, futures, and equity\n",
    "- Performing batch operations\n",
    "\n",
    "For this example, we will use the following assets:\n",
    "- **Binance Spot**: `BTCUSDT`, `ETHUSDT`\n",
    "- **Binance Futures**: `BTCUSDT`, `ETHUSDT`\n",
    "- **Alpaca Equity**: `NVDA`, `MSFT`\n",
    "\n",
    "We will demonstrate how to query assets across these execution venues.\n"
   ]
  },
  {
   "metadata": {
    "ExecuteTime": {
     "end_time": "2025-02-27T11:03:42.754323Z",
     "start_time": "2025-02-27T11:03:42.752724Z"
    }
   },
   "cell_type": "code",
   "source": "",
   "id": "713cedfebca6c6f6",
   "outputs": [],
   "execution_count": null
  },
  {
   "cell_type": "code",
   "id": "405b0a22",
   "metadata": {
    "ExecuteTime": {
     "end_time": "2025-02-27T11:03:47.717265Z",
     "start_time": "2025-02-27T11:03:42.794667Z"
    }
   },
   "source": [
    "\n",
    "import dotenv\n",
    "dotenv.load_dotenv('../../../.env')\n",
    "import mainsequence    \n",
    "from mainsequence.vam_client import Asset, AssetFutureUSDM, CurrencyPair\n",
    "from mainsequence.vam_client.models_binance import BinanceAsset, BinanceAssetFutureUSDM, BinanceCurrencyPair\n",
    "from mainsequence.vam_client.models_alpaca import AlpacaAsset\n",
    "from mainsequence.vam_client import CONSTANTS\n",
    "\n",
    "# Define execution venue symbols\n",
    "BINANCE_EV = CONSTANTS.BINANCE_EV_SYMBOL\n",
    "BINANCE_FUTURES_EV = CONSTANTS.BINANCE_FUTURES_EV_SYMBOL\n",
    "ALPACA_EV = CONSTANTS.ALPACA_EV_SYMBOL"
   ],
   "outputs": [],
   "execution_count": 1
  },
  {
   "cell_type": "markdown",
   "id": "3f33bb0e",
   "metadata": {},
   "source": [
    "## Querying All Assets\n",
    "\n",
    "To get all assets available in the system, we can use the `Asset.filter()` method.\n"
   ]
  },
  {
   "cell_type": "code",
   "id": "4902c884",
   "metadata": {
    "ExecuteTime": {
     "end_time": "2025-02-27T11:05:45.584052Z",
     "start_time": "2025-02-27T11:03:47.786019Z"
    }
   },
   "source": [
    "\n",
    "# Query all assets\n",
    "all_assets= Asset.filter()\n",
    "print(f\"Total Assets: {len(all_assets)}\")\n"
   ],
   "outputs": [
    {
     "name": "stderr",
     "output_type": "stream",
     "text": [
      "\u001B[2m2025-02-27T11:04:28.191670Z\u001B[0m [\u001B[31m\u001B[1merror    \u001B[0m] \u001B[1mError connecting http://192.168.178.69:8010/orm/api/asset/?limit=100&offset=5100 \u001B[0m \u001B[36mapplication_name\u001B[0m=\u001B[35mms-sdk\u001B[0m \u001B[36mdata_source_id\u001B[0m=\u001B[35m28\u001B[0m \u001B[36mjob_run_id\u001B[0m=\u001B[35mNone\u001B[0m \u001B[36mproject_id\u001B[0m=\u001B[35m16\u001B[0m\n",
      "Traceback (most recent call last):\n",
      "  File \"/home/jose/code/MainSequenceClientSide/mainsequence-sdk/venv/lib/python3.9/site-packages/urllib3/connectionpool.py\", line 716, in urlopen\n",
      "    httplib_response = self._make_request(\n",
      "  File \"/home/jose/code/MainSequenceClientSide/mainsequence-sdk/venv/lib/python3.9/site-packages/urllib3/connectionpool.py\", line 468, in _make_request\n",
      "    six.raise_from(e, None)\n",
      "  File \"<string>\", line 3, in raise_from\n",
      "  File \"/home/jose/code/MainSequenceClientSide/mainsequence-sdk/venv/lib/python3.9/site-packages/urllib3/connectionpool.py\", line 463, in _make_request\n",
      "    httplib_response = conn.getresponse()\n",
      "  File \"/home/jose/.pyenv/versions/3.9.19/lib/python3.9/http/client.py\", line 1377, in getresponse\n",
      "    response.begin()\n",
      "  File \"/home/jose/.pyenv/versions/3.9.19/lib/python3.9/http/client.py\", line 320, in begin\n",
      "    version, status, reason = self._read_status()\n",
      "  File \"/home/jose/.pyenv/versions/3.9.19/lib/python3.9/http/client.py\", line 289, in _read_status\n",
      "    raise RemoteDisconnected(\"Remote end closed connection without\"\n",
      "http.client.RemoteDisconnected: Remote end closed connection without response\n",
      "\n",
      "During handling of the above exception, another exception occurred:\n",
      "\n",
      "Traceback (most recent call last):\n",
      "  File \"/home/jose/code/MainSequenceClientSide/mainsequence-sdk/venv/lib/python3.9/site-packages/requests/adapters.py\", line 667, in send\n",
      "    resp = conn.urlopen(\n",
      "  File \"/home/jose/code/MainSequenceClientSide/mainsequence-sdk/venv/lib/python3.9/site-packages/urllib3/connectionpool.py\", line 830, in urlopen\n",
      "    return self.urlopen(\n",
      "  File \"/home/jose/code/MainSequenceClientSide/mainsequence-sdk/venv/lib/python3.9/site-packages/urllib3/connectionpool.py\", line 830, in urlopen\n",
      "    return self.urlopen(\n",
      "  File \"/home/jose/code/MainSequenceClientSide/mainsequence-sdk/venv/lib/python3.9/site-packages/urllib3/connectionpool.py\", line 802, in urlopen\n",
      "    retries = retries.increment(\n",
      "  File \"/home/jose/code/MainSequenceClientSide/mainsequence-sdk/venv/lib/python3.9/site-packages/urllib3/util/retry.py\", line 594, in increment\n",
      "    raise MaxRetryError(_pool, url, error or ResponseError(cause))\n",
      "urllib3.exceptions.MaxRetryError: HTTPConnectionPool(host='192.168.178.69', port=8010): Max retries exceeded with url: /orm/api/asset/?limit=100&offset=5100 (Caused by ProtocolError('Connection aborted.', RemoteDisconnected('Remote end closed connection without response')))\n",
      "\n",
      "During handling of the above exception, another exception occurred:\n",
      "\n",
      "Traceback (most recent call last):\n",
      "  File \"/home/jose/code/MainSequenceClientSide/mainsequence-sdk/mainsequence/vam_client/utils.py\", line 112, in make_request\n",
      "    r = req(url, timeout=timeout, **payload)\n",
      "  File \"/home/jose/code/MainSequenceClientSide/mainsequence-sdk/venv/lib/python3.9/site-packages/requests/sessions.py\", line 602, in get\n",
      "    return self.request(\"GET\", url, **kwargs)\n",
      "  File \"/home/jose/code/MainSequenceClientSide/mainsequence-sdk/venv/lib/python3.9/site-packages/requests/sessions.py\", line 589, in request\n",
      "    resp = self.send(prep, **send_kwargs)\n",
      "  File \"/home/jose/code/MainSequenceClientSide/mainsequence-sdk/venv/lib/python3.9/site-packages/requests/sessions.py\", line 703, in send\n",
      "    r = adapter.send(request, **kwargs)\n",
      "  File \"/home/jose/code/MainSequenceClientSide/mainsequence-sdk/venv/lib/python3.9/site-packages/requests/adapters.py\", line 700, in send\n",
      "    raise ConnectionError(e, request=request)\n",
      "requests.exceptions.ConnectionError: HTTPConnectionPool(host='192.168.178.69', port=8010): Max retries exceeded with url: /orm/api/asset/?limit=100&offset=5100 (Caused by ProtocolError('Connection aborted.', RemoteDisconnected('Remote end closed connection without response'))) (at utils.py:123 in make_request())\n"
     ]
    },
    {
     "name": "stdout",
     "output_type": "stream",
     "text": [
      "Total Assets: 15615\n"
     ]
    }
   ],
   "execution_count": 2
  },
  {
   "cell_type": "markdown",
   "id": "afcbd633",
   "metadata": {},
   "source": [
    "## Querying Assets by Execution Venue\n",
    "\n",
    "Assets belong to different execution venues. We can filter assets based on where they are listed.\n"
   ]
  },
  {
   "cell_type": "code",
   "id": "8f6338f5",
   "metadata": {
    "ExecuteTime": {
     "end_time": "2025-02-27T11:07:32.547550Z",
     "start_time": "2025-02-27T11:05:45.627498Z"
    }
   },
   "source": [
    "# Query Binance Spot assets\n",
    "binance_assets = Asset.filter(execution_venue__symbol=BINANCE_EV)\n",
    "print(f\"Total Binance Spot Assets: {len(binance_assets)}\")\n",
    "\n",
    "# Query Binance Futures assets\n",
    "binance_futures_assets = Asset.filter(execution_venue__symbol=BINANCE_FUTURES_EV)\n",
    "print(f\"Total Binance Futures Assets: {len(binance_futures_assets)}\")\n",
    "\n",
    "# Query Alpaca Equity assets\n",
    "alpaca_assets= Asset.filter(execution_venue__symbol=ALPACA_EV)\n",
    "print(f\"Total Alpaca Equity Assets: {len(alpaca_assets)}\")\n"
   ],
   "outputs": [
    {
     "name": "stdout",
     "output_type": "stream",
     "text": [
      "Total Binance Spot Assets: 3673\n",
      "Total Binance Futures Assets: 421\n",
      "Total Alpaca Equity Assets: 11477\n"
     ]
    }
   ],
   "execution_count": 3
  },
  {
   "cell_type": "markdown",
   "id": "3b1b34eb",
   "metadata": {},
   "source": [
    "## Filtering Assets by Type\n",
    "\n",
    "Assets can be classified into different types such as spot, futures, and equity.\n"
   ]
  },
  {
   "cell_type": "code",
   "id": "774acb7a",
   "metadata": {
    "ExecuteTime": {
     "end_time": "2025-02-27T11:11:41.019986Z",
     "start_time": "2025-02-27T11:07:32.589772Z"
    }
   },
   "source": [
    "# Filtering Binance Spot Crypto Assets\n",
    "spot_crypto_assets = BinanceAsset.filter(asset_type=CONSTANTS.ASSET_TYPE_CRYPTO_SPOT)\n",
    "print(f\"Total Spot Crypto Assets on Binance: {len(spot_crypto_assets)}\")\n",
    "\n",
    "# Filtering Binance Futures USDM Assets\n",
    "futures_assets= BinanceAssetFutureUSDM.filter(asset_type=CONSTANTS.ASSET_TYPE_CRYPTO_USDM)\n",
    "print(f\"Total Futures Assets on Binance: {len(futures_assets)}\")\n",
    "\n",
    "# Filtering Alpaca Cash Equity Assets\n",
    "cash_equity_assets = AlpacaAsset.filter(asset_type=CONSTANTS.ASSET_TYPE_CASH_EQUITY)\n",
    "print(f\"Total Cash Equity Assets on Alpaca: {len(cash_equity_assets)}\")\n"
   ],
   "outputs": [
    {
     "name": "stdout",
     "output_type": "stream",
     "text": [
      "Total Spot Crypto Assets on Binance: 705\n",
      "Total Futures Assets on Binance: 413\n"
     ]
    },
    {
     "name": "stderr",
     "output_type": "stream",
     "text": [
      "\u001B[2m2025-02-27T11:08:01.829881Z\u001B[0m [\u001B[31m\u001B[1merror    \u001B[0m] \u001B[1mError connecting http://192.168.178.69:8010/orm/api/alpaca/asset/spot/ \u001B[0m \u001B[36mapplication_name\u001B[0m=\u001B[35mms-sdk\u001B[0m \u001B[36mdata_source_id\u001B[0m=\u001B[35m28\u001B[0m \u001B[36mjob_run_id\u001B[0m=\u001B[35mNone\u001B[0m \u001B[36mproject_id\u001B[0m=\u001B[35m16\u001B[0m\n",
      "Traceback (most recent call last):\n",
      "  File \"/home/jose/code/MainSequenceClientSide/mainsequence-sdk/venv/lib/python3.9/site-packages/urllib3/connectionpool.py\", line 716, in urlopen\n",
      "    httplib_response = self._make_request(\n",
      "  File \"/home/jose/code/MainSequenceClientSide/mainsequence-sdk/venv/lib/python3.9/site-packages/urllib3/connectionpool.py\", line 468, in _make_request\n",
      "    six.raise_from(e, None)\n",
      "  File \"<string>\", line 3, in raise_from\n",
      "  File \"/home/jose/code/MainSequenceClientSide/mainsequence-sdk/venv/lib/python3.9/site-packages/urllib3/connectionpool.py\", line 463, in _make_request\n",
      "    httplib_response = conn.getresponse()\n",
      "  File \"/home/jose/.pyenv/versions/3.9.19/lib/python3.9/http/client.py\", line 1377, in getresponse\n",
      "    response.begin()\n",
      "  File \"/home/jose/.pyenv/versions/3.9.19/lib/python3.9/http/client.py\", line 320, in begin\n",
      "    version, status, reason = self._read_status()\n",
      "  File \"/home/jose/.pyenv/versions/3.9.19/lib/python3.9/http/client.py\", line 289, in _read_status\n",
      "    raise RemoteDisconnected(\"Remote end closed connection without\"\n",
      "http.client.RemoteDisconnected: Remote end closed connection without response\n",
      "\n",
      "During handling of the above exception, another exception occurred:\n",
      "\n",
      "Traceback (most recent call last):\n",
      "  File \"/home/jose/code/MainSequenceClientSide/mainsequence-sdk/venv/lib/python3.9/site-packages/requests/adapters.py\", line 667, in send\n",
      "    resp = conn.urlopen(\n",
      "  File \"/home/jose/code/MainSequenceClientSide/mainsequence-sdk/venv/lib/python3.9/site-packages/urllib3/connectionpool.py\", line 830, in urlopen\n",
      "    return self.urlopen(\n",
      "  File \"/home/jose/code/MainSequenceClientSide/mainsequence-sdk/venv/lib/python3.9/site-packages/urllib3/connectionpool.py\", line 830, in urlopen\n",
      "    return self.urlopen(\n",
      "  File \"/home/jose/code/MainSequenceClientSide/mainsequence-sdk/venv/lib/python3.9/site-packages/urllib3/connectionpool.py\", line 802, in urlopen\n",
      "    retries = retries.increment(\n",
      "  File \"/home/jose/code/MainSequenceClientSide/mainsequence-sdk/venv/lib/python3.9/site-packages/urllib3/util/retry.py\", line 594, in increment\n",
      "    raise MaxRetryError(_pool, url, error or ResponseError(cause))\n",
      "urllib3.exceptions.MaxRetryError: HTTPConnectionPool(host='192.168.178.69', port=8010): Max retries exceeded with url: /orm/api/alpaca/asset/spot/?asset_type=cash_equity (Caused by ProtocolError('Connection aborted.', RemoteDisconnected('Remote end closed connection without response')))\n",
      "\n",
      "During handling of the above exception, another exception occurred:\n",
      "\n",
      "Traceback (most recent call last):\n",
      "  File \"/home/jose/code/MainSequenceClientSide/mainsequence-sdk/mainsequence/vam_client/utils.py\", line 112, in make_request\n",
      "    r = req(url, timeout=timeout, **payload)\n",
      "  File \"/home/jose/code/MainSequenceClientSide/mainsequence-sdk/venv/lib/python3.9/site-packages/requests/sessions.py\", line 602, in get\n",
      "    return self.request(\"GET\", url, **kwargs)\n",
      "  File \"/home/jose/code/MainSequenceClientSide/mainsequence-sdk/venv/lib/python3.9/site-packages/requests/sessions.py\", line 589, in request\n",
      "    resp = self.send(prep, **send_kwargs)\n",
      "  File \"/home/jose/code/MainSequenceClientSide/mainsequence-sdk/venv/lib/python3.9/site-packages/requests/sessions.py\", line 703, in send\n",
      "    r = adapter.send(request, **kwargs)\n",
      "  File \"/home/jose/code/MainSequenceClientSide/mainsequence-sdk/venv/lib/python3.9/site-packages/requests/adapters.py\", line 700, in send\n",
      "    raise ConnectionError(e, request=request)\n",
      "requests.exceptions.ConnectionError: HTTPConnectionPool(host='192.168.178.69', port=8010): Max retries exceeded with url: /orm/api/alpaca/asset/spot/?asset_type=cash_equity (Caused by ProtocolError('Connection aborted.', RemoteDisconnected('Remote end closed connection without response'))) (at utils.py:123 in make_request())\n",
      "\u001B[2m2025-02-27T11:08:15.423083Z\u001B[0m [\u001B[31m\u001B[1merror    \u001B[0m] \u001B[1mError connecting http://192.168.178.69:8010/orm/api/alpaca/asset/spot/ \u001B[0m \u001B[36mapplication_name\u001B[0m=\u001B[35mms-sdk\u001B[0m \u001B[36mdata_source_id\u001B[0m=\u001B[35m28\u001B[0m \u001B[36mjob_run_id\u001B[0m=\u001B[35mNone\u001B[0m \u001B[36mproject_id\u001B[0m=\u001B[35m16\u001B[0m\n",
      "Traceback (most recent call last):\n",
      "  File \"/home/jose/code/MainSequenceClientSide/mainsequence-sdk/venv/lib/python3.9/site-packages/urllib3/connectionpool.py\", line 716, in urlopen\n",
      "    httplib_response = self._make_request(\n",
      "  File \"/home/jose/code/MainSequenceClientSide/mainsequence-sdk/venv/lib/python3.9/site-packages/urllib3/connectionpool.py\", line 468, in _make_request\n",
      "    six.raise_from(e, None)\n",
      "  File \"<string>\", line 3, in raise_from\n",
      "  File \"/home/jose/code/MainSequenceClientSide/mainsequence-sdk/venv/lib/python3.9/site-packages/urllib3/connectionpool.py\", line 463, in _make_request\n",
      "    httplib_response = conn.getresponse()\n",
      "  File \"/home/jose/.pyenv/versions/3.9.19/lib/python3.9/http/client.py\", line 1377, in getresponse\n",
      "    response.begin()\n",
      "  File \"/home/jose/.pyenv/versions/3.9.19/lib/python3.9/http/client.py\", line 320, in begin\n",
      "    version, status, reason = self._read_status()\n",
      "  File \"/home/jose/.pyenv/versions/3.9.19/lib/python3.9/http/client.py\", line 289, in _read_status\n",
      "    raise RemoteDisconnected(\"Remote end closed connection without\"\n",
      "http.client.RemoteDisconnected: Remote end closed connection without response\n",
      "\n",
      "During handling of the above exception, another exception occurred:\n",
      "\n",
      "Traceback (most recent call last):\n",
      "  File \"/home/jose/code/MainSequenceClientSide/mainsequence-sdk/venv/lib/python3.9/site-packages/requests/adapters.py\", line 667, in send\n",
      "    resp = conn.urlopen(\n",
      "  File \"/home/jose/code/MainSequenceClientSide/mainsequence-sdk/venv/lib/python3.9/site-packages/urllib3/connectionpool.py\", line 830, in urlopen\n",
      "    return self.urlopen(\n",
      "  File \"/home/jose/code/MainSequenceClientSide/mainsequence-sdk/venv/lib/python3.9/site-packages/urllib3/connectionpool.py\", line 830, in urlopen\n",
      "    return self.urlopen(\n",
      "  File \"/home/jose/code/MainSequenceClientSide/mainsequence-sdk/venv/lib/python3.9/site-packages/urllib3/connectionpool.py\", line 802, in urlopen\n",
      "    retries = retries.increment(\n",
      "  File \"/home/jose/code/MainSequenceClientSide/mainsequence-sdk/venv/lib/python3.9/site-packages/urllib3/util/retry.py\", line 594, in increment\n",
      "    raise MaxRetryError(_pool, url, error or ResponseError(cause))\n",
      "urllib3.exceptions.MaxRetryError: HTTPConnectionPool(host='192.168.178.69', port=8010): Max retries exceeded with url: /orm/api/alpaca/asset/spot/?asset_type=cash_equity (Caused by ProtocolError('Connection aborted.', RemoteDisconnected('Remote end closed connection without response')))\n",
      "\n",
      "During handling of the above exception, another exception occurred:\n",
      "\n",
      "Traceback (most recent call last):\n",
      "  File \"/home/jose/code/MainSequenceClientSide/mainsequence-sdk/mainsequence/vam_client/utils.py\", line 112, in make_request\n",
      "    r = req(url, timeout=timeout, **payload)\n",
      "  File \"/home/jose/code/MainSequenceClientSide/mainsequence-sdk/venv/lib/python3.9/site-packages/requests/sessions.py\", line 602, in get\n",
      "    return self.request(\"GET\", url, **kwargs)\n",
      "  File \"/home/jose/code/MainSequenceClientSide/mainsequence-sdk/venv/lib/python3.9/site-packages/requests/sessions.py\", line 589, in request\n",
      "    resp = self.send(prep, **send_kwargs)\n",
      "  File \"/home/jose/code/MainSequenceClientSide/mainsequence-sdk/venv/lib/python3.9/site-packages/requests/sessions.py\", line 703, in send\n",
      "    r = adapter.send(request, **kwargs)\n",
      "  File \"/home/jose/code/MainSequenceClientSide/mainsequence-sdk/venv/lib/python3.9/site-packages/requests/adapters.py\", line 700, in send\n",
      "    raise ConnectionError(e, request=request)\n",
      "requests.exceptions.ConnectionError: HTTPConnectionPool(host='192.168.178.69', port=8010): Max retries exceeded with url: /orm/api/alpaca/asset/spot/?asset_type=cash_equity (Caused by ProtocolError('Connection aborted.', RemoteDisconnected('Remote end closed connection without response'))) (at utils.py:123 in make_request())\n",
      "\u001B[2m2025-02-27T11:08:19.683800Z\u001B[0m [\u001B[31m\u001B[1merror    \u001B[0m] \u001B[1mError connecting http://192.168.178.69:8010/orm/api/alpaca/asset/spot/ \u001B[0m \u001B[36mapplication_name\u001B[0m=\u001B[35mms-sdk\u001B[0m \u001B[36mdata_source_id\u001B[0m=\u001B[35m28\u001B[0m \u001B[36mjob_run_id\u001B[0m=\u001B[35mNone\u001B[0m \u001B[36mproject_id\u001B[0m=\u001B[35m16\u001B[0m\n",
      "Traceback (most recent call last):\n",
      "  File \"/home/jose/code/MainSequenceClientSide/mainsequence-sdk/venv/lib/python3.9/site-packages/urllib3/connectionpool.py\", line 716, in urlopen\n",
      "    httplib_response = self._make_request(\n",
      "  File \"/home/jose/code/MainSequenceClientSide/mainsequence-sdk/venv/lib/python3.9/site-packages/urllib3/connectionpool.py\", line 468, in _make_request\n",
      "    six.raise_from(e, None)\n",
      "  File \"<string>\", line 3, in raise_from\n",
      "  File \"/home/jose/code/MainSequenceClientSide/mainsequence-sdk/venv/lib/python3.9/site-packages/urllib3/connectionpool.py\", line 463, in _make_request\n",
      "    httplib_response = conn.getresponse()\n",
      "  File \"/home/jose/.pyenv/versions/3.9.19/lib/python3.9/http/client.py\", line 1377, in getresponse\n",
      "    response.begin()\n",
      "  File \"/home/jose/.pyenv/versions/3.9.19/lib/python3.9/http/client.py\", line 320, in begin\n",
      "    version, status, reason = self._read_status()\n",
      "  File \"/home/jose/.pyenv/versions/3.9.19/lib/python3.9/http/client.py\", line 289, in _read_status\n",
      "    raise RemoteDisconnected(\"Remote end closed connection without\"\n",
      "http.client.RemoteDisconnected: Remote end closed connection without response\n",
      "\n",
      "During handling of the above exception, another exception occurred:\n",
      "\n",
      "Traceback (most recent call last):\n",
      "  File \"/home/jose/code/MainSequenceClientSide/mainsequence-sdk/venv/lib/python3.9/site-packages/requests/adapters.py\", line 667, in send\n",
      "    resp = conn.urlopen(\n",
      "  File \"/home/jose/code/MainSequenceClientSide/mainsequence-sdk/venv/lib/python3.9/site-packages/urllib3/connectionpool.py\", line 830, in urlopen\n",
      "    return self.urlopen(\n",
      "  File \"/home/jose/code/MainSequenceClientSide/mainsequence-sdk/venv/lib/python3.9/site-packages/urllib3/connectionpool.py\", line 830, in urlopen\n",
      "    return self.urlopen(\n",
      "  File \"/home/jose/code/MainSequenceClientSide/mainsequence-sdk/venv/lib/python3.9/site-packages/urllib3/connectionpool.py\", line 802, in urlopen\n",
      "    retries = retries.increment(\n",
      "  File \"/home/jose/code/MainSequenceClientSide/mainsequence-sdk/venv/lib/python3.9/site-packages/urllib3/util/retry.py\", line 594, in increment\n",
      "    raise MaxRetryError(_pool, url, error or ResponseError(cause))\n",
      "urllib3.exceptions.MaxRetryError: HTTPConnectionPool(host='192.168.178.69', port=8010): Max retries exceeded with url: /orm/api/alpaca/asset/spot/?asset_type=cash_equity (Caused by ProtocolError('Connection aborted.', RemoteDisconnected('Remote end closed connection without response')))\n",
      "\n",
      "During handling of the above exception, another exception occurred:\n",
      "\n",
      "Traceback (most recent call last):\n",
      "  File \"/home/jose/code/MainSequenceClientSide/mainsequence-sdk/mainsequence/vam_client/utils.py\", line 112, in make_request\n",
      "    r = req(url, timeout=timeout, **payload)\n",
      "  File \"/home/jose/code/MainSequenceClientSide/mainsequence-sdk/venv/lib/python3.9/site-packages/requests/sessions.py\", line 602, in get\n",
      "    return self.request(\"GET\", url, **kwargs)\n",
      "  File \"/home/jose/code/MainSequenceClientSide/mainsequence-sdk/venv/lib/python3.9/site-packages/requests/sessions.py\", line 589, in request\n",
      "    resp = self.send(prep, **send_kwargs)\n",
      "  File \"/home/jose/code/MainSequenceClientSide/mainsequence-sdk/venv/lib/python3.9/site-packages/requests/sessions.py\", line 703, in send\n",
      "    r = adapter.send(request, **kwargs)\n",
      "  File \"/home/jose/code/MainSequenceClientSide/mainsequence-sdk/venv/lib/python3.9/site-packages/requests/adapters.py\", line 700, in send\n",
      "    raise ConnectionError(e, request=request)\n",
      "requests.exceptions.ConnectionError: HTTPConnectionPool(host='192.168.178.69', port=8010): Max retries exceeded with url: /orm/api/alpaca/asset/spot/?asset_type=cash_equity (Caused by ProtocolError('Connection aborted.', RemoteDisconnected('Remote end closed connection without response'))) (at utils.py:123 in make_request())\n"
     ]
    },
    {
     "name": "stdout",
     "output_type": "stream",
     "text": [
      "Total Cash Equity Assets on Alpaca: 11390\n"
     ]
    }
   ],
   "execution_count": 4
  },
  {
   "cell_type": "markdown",
   "id": "1796557f",
   "metadata": {},
   "source": [
    "## Querying Specific Assets\n",
    "\n",
    "To retrieve specific assets, we can filter by their symbols.\n"
   ]
  },
  {
   "cell_type": "code",
   "id": "dc06731a",
   "metadata": {
    "ExecuteTime": {
     "end_time": "2025-02-27T11:11:41.459712Z",
     "start_time": "2025-02-27T11:11:41.062761Z"
    }
   },
   "source": [
    "# Query specific Binance Spot assets\n",
    "btc_usdt_spot, _ = BinanceAsset.filter(symbol=\"BTCUSDT\")\n",
    "eth_usdt_spot, _ = BinanceAsset.filter(symbol=\"ETHUSDT\")\n",
    "print(f\"BTCUSDT Spot Asset: {btc_usdt_spot}\")\n",
    "print(f\"ETHUSDT Spot Asset: {eth_usdt_spot}\")\n",
    "\n",
    "# Query specific Binance Futures assets\n",
    "btc_usdt_futures, _ = BinanceAssetFutureUSDM.filter(symbol=\"BTCUSDT\")\n",
    "eth_usdt_futures, _ = BinanceAssetFutureUSDM.filter(symbol=\"ETHUSDT\")\n",
    "print(f\"BTCUSDT Futures Asset: {btc_usdt_futures}\")\n",
    "print(f\"ETHUSDT Futures Asset: {eth_usdt_futures}\")\n",
    "\n",
    "# Query specific Alpaca equity assets\n",
    "nvda_equity, _ = AlpacaAsset.filter(symbol=\"NVDA\")\n",
    "msft_equity, _ = AlpacaAsset.filter(symbol=\"MSFT\")\n",
    "print(f\"NVDA Equity Asset: {nvda_equity}\")\n",
    "print(f\"MSFT Equity Asset: {msft_equity}\")\n"
   ],
   "outputs": [
    {
     "ename": "ValueError",
     "evalue": "not enough values to unpack (expected 2, got 0)",
     "output_type": "error",
     "traceback": [
      "\u001B[0;31m---------------------------------------------------------------------------\u001B[0m",
      "\u001B[0;31mValueError\u001B[0m                                Traceback (most recent call last)",
      "Cell \u001B[0;32mIn[5], line 2\u001B[0m\n\u001B[1;32m      1\u001B[0m \u001B[38;5;66;03m# Query specific Binance Spot assets\u001B[39;00m\n\u001B[0;32m----> 2\u001B[0m btc_usdt_spot, _ \u001B[38;5;241m=\u001B[39m BinanceAsset\u001B[38;5;241m.\u001B[39mfilter(symbol\u001B[38;5;241m=\u001B[39m\u001B[38;5;124m\"\u001B[39m\u001B[38;5;124mBTCUSDT\u001B[39m\u001B[38;5;124m\"\u001B[39m)\n\u001B[1;32m      3\u001B[0m eth_usdt_spot, _ \u001B[38;5;241m=\u001B[39m BinanceAsset\u001B[38;5;241m.\u001B[39mfilter(symbol\u001B[38;5;241m=\u001B[39m\u001B[38;5;124m\"\u001B[39m\u001B[38;5;124mETHUSDT\u001B[39m\u001B[38;5;124m\"\u001B[39m)\n\u001B[1;32m      4\u001B[0m \u001B[38;5;28mprint\u001B[39m(\u001B[38;5;124mf\u001B[39m\u001B[38;5;124m\"\u001B[39m\u001B[38;5;124mBTCUSDT Spot Asset: \u001B[39m\u001B[38;5;132;01m{\u001B[39;00mbtc_usdt_spot\u001B[38;5;132;01m}\u001B[39;00m\u001B[38;5;124m\"\u001B[39m)\n",
      "\u001B[0;31mValueError\u001B[0m: not enough values to unpack (expected 2, got 0)"
     ]
    }
   ],
   "execution_count": 5
  },
  {
   "metadata": {},
   "cell_type": "markdown",
   "source": [
    "## Using `filter_with_asset_class`\n",
    "\n",
    "The `filter_with_asset_class` method is an extended version of the `filter` method.\n",
    "It ensures that each returned asset is an instance of its correct class based on its `asset_type`.\n",
    "\n",
    "### When to Use?\n",
    "- When querying multiple asset types and needing them returned with the correct class.\n",
    "- When working with assets across execution venues and requiring proper type differentiation.\n",
    "\n",
    "### Example 1: Query Binance Spot Assets with Correct Classes\n"
   ],
   "id": "a62206ee331bcdce"
  },
  {
   "metadata": {
    "ExecuteTime": {
     "end_time": "2025-02-27T11:11:41.463594918Z",
     "start_time": "2025-02-27T11:00:27.305070Z"
    }
   },
   "cell_type": "code",
   "source": [
    "# Query Binance Spot assets with correct asset classes\n",
    "binance_assets = Asset.filter_with_asset_class(execution_venue__symbol=CONSTANTS.BINANCE_EV_SYMBOL)\n",
    "\n",
    "# Displaying asset information\n",
    "for asset in binance_assets:\n",
    "    print(f\"Asset: {asset.symbol}, Type: {asset.asset_type}, Class: {type(asset).__name__}\")\n"
   ],
   "id": "70673bbb7dfd95a5",
   "outputs": [
    {
     "ename": "ValidationError",
     "evalue": "2 validation errors for BinanceCurrencyPair\nbase_asset\n  Field required [type=missing, input_value={'id': 11489, 'symbol': '...'unique_symbol': 'LINK'}, input_type=dict]\n    For further information visit https://errors.pydantic.dev/2.10/v/missing\nquote_asset\n  Field required [type=missing, input_value={'id': 11489, 'symbol': '...'unique_symbol': 'LINK'}, input_type=dict]\n    For further information visit https://errors.pydantic.dev/2.10/v/missing",
     "output_type": "error",
     "traceback": [
      "\u001B[0;31m---------------------------------------------------------------------------\u001B[0m",
      "\u001B[0;31mValidationError\u001B[0m                           Traceback (most recent call last)",
      "Cell \u001B[0;32mIn[2], line 2\u001B[0m\n\u001B[1;32m      1\u001B[0m \u001B[38;5;66;03m# Query Binance Spot assets with correct asset classes\u001B[39;00m\n\u001B[0;32m----> 2\u001B[0m binance_assets \u001B[38;5;241m=\u001B[39m \u001B[43mAsset\u001B[49m\u001B[38;5;241;43m.\u001B[39;49m\u001B[43mfilter_with_asset_class\u001B[49m\u001B[43m(\u001B[49m\u001B[43mexecution_venue__symbol\u001B[49m\u001B[38;5;241;43m=\u001B[39;49m\u001B[43mCONSTANTS\u001B[49m\u001B[38;5;241;43m.\u001B[39;49m\u001B[43mBINANCE_EV_SYMBOL\u001B[49m\u001B[43m)\u001B[49m\n\u001B[1;32m      4\u001B[0m \u001B[38;5;66;03m# Displaying asset information\u001B[39;00m\n\u001B[1;32m      5\u001B[0m \u001B[38;5;28;01mfor\u001B[39;00m asset \u001B[38;5;129;01min\u001B[39;00m binance_assets:\n",
      "File \u001B[0;32m~/code/MainSequenceClientSide/mainsequence-sdk/mainsequence/vam_client/models.py:625\u001B[0m, in \u001B[0;36mAssetMixin.filter_with_asset_class\u001B[0;34m(cls, timeout, *args, **kwargs)\u001B[0m\n\u001B[1;32m    622\u001B[0m     params \u001B[38;5;241m=\u001B[39m \u001B[38;5;28;01mNone\u001B[39;00m\n\u001B[1;32m    624\u001B[0m \u001B[38;5;66;03m# Convert the accumulated raw data into asset instances with correct classes\u001B[39;00m\n\u001B[0;32m--> 625\u001B[0m \u001B[38;5;28;01mreturn\u001B[39;00m \u001B[43mcreate_from_serializer_with_class\u001B[49m\u001B[43m(\u001B[49m\u001B[43mall_results\u001B[49m\u001B[43m)\u001B[49m\n",
      "File \u001B[0;32m~/code/MainSequenceClientSide/mainsequence-sdk/mainsequence/vam_client/models_helpers.py:43\u001B[0m, in \u001B[0;36mcreate_from_serializer_with_class\u001B[0;34m(asset_list)\u001B[0m\n\u001B[1;32m     41\u001B[0m     AssetClass\u001B[38;5;241m=\u001B[39mget_model_class(a[\u001B[38;5;124m\"\u001B[39m\u001B[38;5;124mAssetClass\u001B[39m\u001B[38;5;124m\"\u001B[39m])\n\u001B[1;32m     42\u001B[0m     a\u001B[38;5;241m.\u001B[39mpop(\u001B[38;5;124m\"\u001B[39m\u001B[38;5;124mAssetClass\u001B[39m\u001B[38;5;124m\"\u001B[39m)\n\u001B[0;32m---> 43\u001B[0m     new_list\u001B[38;5;241m.\u001B[39mappend(\u001B[43mAssetClass\u001B[49m\u001B[43m(\u001B[49m\u001B[38;5;241;43m*\u001B[39;49m\u001B[38;5;241;43m*\u001B[39;49m\u001B[43ma\u001B[49m\u001B[43m)\u001B[49m)\n\u001B[1;32m     44\u001B[0m \u001B[38;5;28;01mreturn\u001B[39;00m new_list\n",
      "File \u001B[0;32m~/code/MainSequenceClientSide/mainsequence-sdk/venv/lib/python3.9/site-packages/pydantic/main.py:214\u001B[0m, in \u001B[0;36mBaseModel.__init__\u001B[0;34m(self, **data)\u001B[0m\n\u001B[1;32m    212\u001B[0m \u001B[38;5;66;03m# `__tracebackhide__` tells pytest and some other tools to omit this function from tracebacks\u001B[39;00m\n\u001B[1;32m    213\u001B[0m __tracebackhide__ \u001B[38;5;241m=\u001B[39m \u001B[38;5;28;01mTrue\u001B[39;00m\n\u001B[0;32m--> 214\u001B[0m validated_self \u001B[38;5;241m=\u001B[39m \u001B[38;5;28;43mself\u001B[39;49m\u001B[38;5;241;43m.\u001B[39;49m\u001B[43m__pydantic_validator__\u001B[49m\u001B[38;5;241;43m.\u001B[39;49m\u001B[43mvalidate_python\u001B[49m\u001B[43m(\u001B[49m\u001B[43mdata\u001B[49m\u001B[43m,\u001B[49m\u001B[43m \u001B[49m\u001B[43mself_instance\u001B[49m\u001B[38;5;241;43m=\u001B[39;49m\u001B[38;5;28;43mself\u001B[39;49m\u001B[43m)\u001B[49m\n\u001B[1;32m    215\u001B[0m \u001B[38;5;28;01mif\u001B[39;00m \u001B[38;5;28mself\u001B[39m \u001B[38;5;129;01mis\u001B[39;00m \u001B[38;5;129;01mnot\u001B[39;00m validated_self:\n\u001B[1;32m    216\u001B[0m     warnings\u001B[38;5;241m.\u001B[39mwarn(\n\u001B[1;32m    217\u001B[0m         \u001B[38;5;124m'\u001B[39m\u001B[38;5;124mA custom validator is returning a value other than `self`.\u001B[39m\u001B[38;5;130;01m\\n\u001B[39;00m\u001B[38;5;124m'\u001B[39m\n\u001B[1;32m    218\u001B[0m         \u001B[38;5;124m\"\u001B[39m\u001B[38;5;124mReturning anything other than `self` from a top level model validator isn\u001B[39m\u001B[38;5;124m'\u001B[39m\u001B[38;5;124mt supported when validating via `__init__`.\u001B[39m\u001B[38;5;130;01m\\n\u001B[39;00m\u001B[38;5;124m\"\u001B[39m\n\u001B[1;32m    219\u001B[0m         \u001B[38;5;124m'\u001B[39m\u001B[38;5;124mSee the `model_validator` docs (https://docs.pydantic.dev/latest/concepts/validators/#model-validators) for more details.\u001B[39m\u001B[38;5;124m'\u001B[39m,\n\u001B[1;32m    220\u001B[0m         stacklevel\u001B[38;5;241m=\u001B[39m\u001B[38;5;241m2\u001B[39m,\n\u001B[1;32m    221\u001B[0m     )\n",
      "\u001B[0;31mValidationError\u001B[0m: 2 validation errors for BinanceCurrencyPair\nbase_asset\n  Field required [type=missing, input_value={'id': 11489, 'symbol': '...'unique_symbol': 'LINK'}, input_type=dict]\n    For further information visit https://errors.pydantic.dev/2.10/v/missing\nquote_asset\n  Field required [type=missing, input_value={'id': 11489, 'symbol': '...'unique_symbol': 'LINK'}, input_type=dict]\n    For further information visit https://errors.pydantic.dev/2.10/v/missing"
     ]
    }
   ],
   "execution_count": 9
  },
  {
   "cell_type": "markdown",
   "id": "f5864c80",
   "metadata": {},
   "source": [
    "### Example 2: Query Binance Futures and Alpaca Equity Assets\n",
    "\n",
    "This example demonstrates how the method ensures each asset is returned with its appropriate class.\n"
   ]
  },
  {
   "cell_type": "code",
   "execution_count": null,
   "id": "435ba7ae",
   "metadata": {},
   "outputs": [],
   "source": [
    "# Query Binance Futures and Alpaca Equity Assets with correct classes\n",
    "binance_futures_assets = Asset.filter_with_asset_class(execution_venue__symbol=CONSTANTS.BINANCE_FUTURES_EV_SYMBOL)\n",
    "alpaca_equity_assets = Asset.filter_with_asset_class(execution_venue__symbol=CONSTANTS.ALPACA_EV_SYMBOL)\n",
    "\n",
    "# Displaying results\n",
    "for asset in binance_futures_assets + alpaca_equity_assets:\n",
    "    print(f\"Asset: {asset.symbol}, Type: {asset.asset_type}, Class: {type(asset).__name__}\")"
   ]
  }
 ],
 "metadata": {
  "kernelspec": {
   "name": "python3",
   "language": "python",
   "display_name": "Python 3 (ipykernel)"
  }
 },
 "nbformat": 4,
 "nbformat_minor": 5
}
