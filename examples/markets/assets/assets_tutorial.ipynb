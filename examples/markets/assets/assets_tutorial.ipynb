{
 "cells": [
  {
   "cell_type": "markdown",
   "id": "d53b9d22",
   "metadata": {},
   "source": [
    "# Interacting with Assets in Markets API\n",
    "\n",
    "This notebook provides a comprehensive guide on how to interact with different types of assets using the VAM API.\n",
    "We will cover:\n",
    "- Querying different asset types\n",
    "- Filtering assets by execution venue\n",
    "- Working with different asset types like spot, futures, and equity\n",
    "- Performing batch operations\n",
    "\n",
    "\n",
    "\n",
    "We will demonstrate how to query assets across these execution venues.\n"
   ]
  },
  {
   "cell_type": "code",
   "id": "713cedfebca6c6f6",
   "metadata": {
    "ExecuteTime": {
     "end_time": "2025-08-07T11:05:56.184256Z",
     "start_time": "2025-08-07T11:05:56.178349Z"
    }
   },
   "source": [
    "import os\n",
    "from pathlib import Path\n",
    "\n",
    "# Save the original working directory (only once)\n",
    "try:\n",
    "    original_wd\n",
    "except NameError:\n",
    "    original_wd = os.getcwd()\n",
    "\n",
    "# Compute the target directory: two levels up from the original working directory\n",
    "# For example, if original_wd is /Users/username/project/notebooks,\n",
    "# then target_dir becomes /Users/username\n",
    "target_dir = Path(original_wd).parents[2]\n",
    "\n",
    "# Change the working directory to the target directory\n",
    "os.chdir(target_dir)\n",
    "print(\"Working directory set to:\", os.getcwd())"
   ],
   "outputs": [
    {
     "name": "stdout",
     "output_type": "stream",
     "text": [
      "Working directory set to: /home/jose/code/MainSequenceClientSide/mainsequence-sdk\n"
     ]
    }
   ],
   "execution_count": 1
  },
  {
   "metadata": {
    "ExecuteTime": {
     "end_time": "2025-08-07T11:11:32.022842Z",
     "start_time": "2025-08-07T11:11:30.332304Z"
    }
   },
   "cell_type": "code",
   "source": [
    "\n",
    "import dotenv\n",
    "env_loaded=dotenv.load_dotenv('.env')\n",
    "print(f\"Env file loaded: {env_loaded}\")\n",
    "import mainsequence \n",
    "import mainsequence.client as msc\n",
    "\n",
    "# Define execution venue symbols\n",
    "BINANCE_EV = msc.MARKETS_CONSTANTS.BINANCE_EV_SYMBOL\n",
    "BINANCE_FUTURES_EV = msc.MARKETS_CONSTANTS.BINANCE_FUTURES_EV_SYMBOL\n",
    "ALPACA_EV = msc.MARKETS_CONSTANTS.ALPACA_EV_SYMBOL"
   ],
   "id": "b1c5540e4538c3b2",
   "outputs": [
    {
     "name": "stdout",
     "output_type": "stream",
     "text": [
      "Env file loaded: True\n"
     ]
    },
    {
     "name": "stderr",
     "output_type": "stream",
     "text": [
      "\u001B[2m2025-08-07T11:11:30.863770Z\u001B[0m [\u001B[32m\u001B[1mdebug    \u001B[0m] \u001B[1mGetting Auth Headers ASSETS_ORM\u001B[0m \u001B[36mapplication_name\u001B[0m=\u001B[35mms-sdk\u001B[0m \u001B[36mcommand_id\u001B[0m=\u001B[35mNone\u001B[0m \u001B[36mdata_source_id\u001B[0m=\u001B[35m2\u001B[0m \u001B[36mjob_run_id\u001B[0m=\u001B[35mNone\u001B[0m \u001B[36mproject_id\u001B[0m=\u001B[35m1\u001B[0m (at utils.py:51 in refresh_headers())\n",
      "\u001B[2m2025-08-07T11:11:31.141581Z\u001B[0m [\u001B[32m\u001B[1mdebug    \u001B[0m] \u001B[1mGetting Auth Headers ASSETS_ORM\u001B[0m \u001B[36mapplication_name\u001B[0m=\u001B[35mms-sdk\u001B[0m \u001B[36mcommand_id\u001B[0m=\u001B[35mNone\u001B[0m \u001B[36mdata_source_id\u001B[0m=\u001B[35m2\u001B[0m \u001B[36mjob_run_id\u001B[0m=\u001B[35mNone\u001B[0m \u001B[36mproject_id\u001B[0m=\u001B[35m1\u001B[0m (at utils.py:51 in refresh_headers())\n",
      "\u001B[2m2025-08-07T11:11:31.524003Z\u001B[0m [\u001B[32m\u001B[1mdebug    \u001B[0m] \u001B[1mtook 0.3696 seconds. Requesting GET from http://127.0.0.1:8000/orm/api/pods/projects/get_user_default_project/\u001B[0m \u001B[36mapplication_name\u001B[0m=\u001B[35mms-sdk\u001B[0m \u001B[36mcommand_id\u001B[0m=\u001B[35mNone\u001B[0m \u001B[36mdata_source_id\u001B[0m=\u001B[35m2\u001B[0m \u001B[36mjob_run_id\u001B[0m=\u001B[35mNone\u001B[0m \u001B[36mproject_id\u001B[0m=\u001B[35m1\u001B[0m (at utils.py:107 in make_request())\n",
      "\u001B[2m2025-08-07T11:11:31.524901Z\u001B[0m [\u001B[32m\u001B[1minfo     \u001B[0m] \u001B[1mSet remote data source to orm_class='DataSource' id=2 display_name='Default DB' organization=2 class_type='timescale_db' status='AVAILABLE' extra_arguments=None\u001B[0m \u001B[36mapplication_name\u001B[0m=\u001B[35mms-sdk\u001B[0m \u001B[36mcommand_id\u001B[0m=\u001B[35mNone\u001B[0m \u001B[36mdata_source_id\u001B[0m=\u001B[35m2\u001B[0m \u001B[36mjob_run_id\u001B[0m=\u001B[35mNone\u001B[0m \u001B[36mproject_id\u001B[0m=\u001B[35m1\u001B[0m (at models_tdag.py:1998 in set_remote_db())\n",
      "\u001B[2m2025-08-07T11:11:31.594849Z\u001B[0m [\u001B[32m\u001B[1mdebug    \u001B[0m] \u001B[1mGetting Auth Headers ASSETS_ORM\u001B[0m \u001B[36mapplication_name\u001B[0m=\u001B[35mms-sdk\u001B[0m \u001B[36mcommand_id\u001B[0m=\u001B[35mNone\u001B[0m \u001B[36mdata_source_id\u001B[0m=\u001B[35m2\u001B[0m \u001B[36mjob_run_id\u001B[0m=\u001B[35mNone\u001B[0m \u001B[36mproject_id\u001B[0m=\u001B[35m1\u001B[0m (at utils.py:51 in refresh_headers())\n",
      "\u001B[2m2025-08-07T11:11:32.020727Z\u001B[0m [\u001B[32m\u001B[1mdebug    \u001B[0m] \u001B[1mtook 0.4249 seconds. Requesting GET from http://127.0.0.1:8000/orm/api/assets/api/constants\u001B[0m \u001B[36mapplication_name\u001B[0m=\u001B[35mms-sdk\u001B[0m \u001B[36mcommand_id\u001B[0m=\u001B[35mNone\u001B[0m \u001B[36mdata_source_id\u001B[0m=\u001B[35m2\u001B[0m \u001B[36mjob_run_id\u001B[0m=\u001B[35mNone\u001B[0m \u001B[36mproject_id\u001B[0m=\u001B[35m1\u001B[0m (at utils.py:107 in make_request())\n"
     ]
    }
   ],
   "execution_count": 3
  },
  {
   "metadata": {},
   "cell_type": "markdown",
   "source": [
    "## Optimal Asset Queries\n",
    "\n",
    "There are many assets, and there will always be more. We recommend narrowing your search so that the expected results are in the hundreds. If you need more assets, it is best to first create a category that encompasses those assets and then query by that category.\n",
    "\n",
    "A good way to start narrowing asset searches is by filtering on the execution venue and some FIGI properties. For example, if you want to retrieve the equivalent assets from one category on another exchange, you could do something like this:\n",
    "\n"
   ],
   "id": "f2d0a1860d5cab36"
  },
  {
   "metadata": {
    "ExecuteTime": {
     "end_time": "2025-08-07T11:18:27.080693Z",
     "start_time": "2025-08-07T11:18:25.527022Z"
    }
   },
   "cell_type": "code",
   "source": [
    "top_100_cryptos = msc.AssetCategory.get(unique_identifier=\"top_100_crypto_market_cap\")\n",
    "\n",
    "\n",
    "\n",
    "quote_asset=msc.Asset.get(ticker='USDT',\n",
    "                              security_market_sector=msc.MARKETS_CONSTANTS.FIGI_MARKET_SECTOR_CURNCY,\n",
    "                              security_type=msc.MARKETS_CONSTANTS.FIGI_SECURITY_TYPE_CRYPTO\n",
    "                              )\n",
    "\n",
    "# Get them through the main sequence FIGI class and exchange\n",
    "binance_currency_pairs = msc.AssetCurrencyPair.filter(\n",
    "    base_asset__id__in=top_100_cryptos.assets,\n",
    "    quote_asset__id=quote_asset.id,\n",
    "    include_base_quote_detail=False\n",
    ")\n",
    "\n"
   ],
   "id": "62b86a517c9d3fd1",
   "outputs": [
    {
     "name": "stderr",
     "output_type": "stream",
     "text": [
      "\u001B[2m2025-08-07T11:18:25.982695Z\u001B[0m [\u001B[32m\u001B[1mdebug    \u001B[0m] \u001B[1mtook 0.4541 seconds. Requesting GET from http://127.0.0.1:8000/orm/api/assets/asset-category/\u001B[0m \u001B[36mapplication_name\u001B[0m=\u001B[35mms-sdk\u001B[0m \u001B[36mcommand_id\u001B[0m=\u001B[35mNone\u001B[0m \u001B[36mdata_source_id\u001B[0m=\u001B[35m2\u001B[0m \u001B[36mjob_run_id\u001B[0m=\u001B[35mNone\u001B[0m \u001B[36mproject_id\u001B[0m=\u001B[35m1\u001B[0m (at utils.py:107 in make_request())\n",
      "\u001B[2m2025-08-07T11:18:26.452285Z\u001B[0m [\u001B[32m\u001B[1mdebug    \u001B[0m] \u001B[1mtook 0.4686 seconds. Requesting GET from http://127.0.0.1:8000/orm/api/assets/asset/\u001B[0m \u001B[36mapplication_name\u001B[0m=\u001B[35mms-sdk\u001B[0m \u001B[36mcommand_id\u001B[0m=\u001B[35mNone\u001B[0m \u001B[36mdata_source_id\u001B[0m=\u001B[35m2\u001B[0m \u001B[36mjob_run_id\u001B[0m=\u001B[35mNone\u001B[0m \u001B[36mproject_id\u001B[0m=\u001B[35m1\u001B[0m (at utils.py:107 in make_request())\n",
      "\u001B[2m2025-08-07T11:18:27.079046Z\u001B[0m [\u001B[32m\u001B[1mdebug    \u001B[0m] \u001B[1mtook 0.6257 seconds. Requesting GET from http://127.0.0.1:8000/orm/api/assets/asset_currency_pair/\u001B[0m \u001B[36mapplication_name\u001B[0m=\u001B[35mms-sdk\u001B[0m \u001B[36mcommand_id\u001B[0m=\u001B[35mNone\u001B[0m \u001B[36mdata_source_id\u001B[0m=\u001B[35m2\u001B[0m \u001B[36mjob_run_id\u001B[0m=\u001B[35mNone\u001B[0m \u001B[36mproject_id\u001B[0m=\u001B[35m1\u001B[0m (at utils.py:107 in make_request())\n"
     ]
    }
   ],
   "execution_count": 7
  },
  {
   "cell_type": "markdown",
   "id": "3b1b34eb",
   "metadata": {},
   "source": [
    "## Filtering Assets by Type\n",
    "\n",
    "Different asset types have distinct properties, which can help you extend your filters. It's important to note that all asset types inherit from the Asset class. Therefore, you can always use the Asset class to access all assets and their general properties."
   ]
  },
  {
   "metadata": {
    "ExecuteTime": {
     "end_time": "2025-08-07T11:18:45.640590Z",
     "start_time": "2025-08-07T11:18:44.443595Z"
    }
   },
   "cell_type": "code",
   "source": [
    "# Filtering Simple Assets\n",
    "simple_assets = msc.Asset.filter(ticker=\"BTCUSDT\")\n",
    "print(f\" {len(simple_assets)}\")\n",
    "\n",
    "# Filtering Futures\n",
    "cash_equity_assets = msc.AssetCurrencyPair.filter(ticker=\"BTCUSDT\")\n",
    "print(f\"Total Assets CurrencyPair Assets : {len(cash_equity_assets)}\")\n",
    "\n",
    "# Filtering  Futures USDM Assets\n",
    "futures_assets= msc.AssetFutureUSDM.filter(ticker=\"BTCUSDT\")\n",
    "print(f\"Total Futures Assets : {len(futures_assets)}\")\n",
    "\n",
    "\n"
   ],
   "id": "c5ac5bece9c4735d",
   "outputs": [
    {
     "name": "stderr",
     "output_type": "stream",
     "text": [
      "\u001B[2m2025-08-07T11:18:44.838120Z\u001B[0m [\u001B[32m\u001B[1mdebug    \u001B[0m] \u001B[1mtook 0.3930 seconds. Requesting GET from http://127.0.0.1:8000/orm/api/assets/asset/\u001B[0m \u001B[36mapplication_name\u001B[0m=\u001B[35mms-sdk\u001B[0m \u001B[36mcommand_id\u001B[0m=\u001B[35mNone\u001B[0m \u001B[36mdata_source_id\u001B[0m=\u001B[35m2\u001B[0m \u001B[36mjob_run_id\u001B[0m=\u001B[35mNone\u001B[0m \u001B[36mproject_id\u001B[0m=\u001B[35m1\u001B[0m (at utils.py:107 in make_request())\n"
     ]
    },
    {
     "name": "stdout",
     "output_type": "stream",
     "text": [
      "Total Spot Crypto Assets on Binance: 0\n"
     ]
    },
    {
     "name": "stderr",
     "output_type": "stream",
     "text": [
      "\u001B[2m2025-08-07T11:18:45.235828Z\u001B[0m [\u001B[32m\u001B[1mdebug    \u001B[0m] \u001B[1mtook 0.3966 seconds. Requesting GET from http://127.0.0.1:8000/orm/api/assets/asset_currency_pair/\u001B[0m \u001B[36mapplication_name\u001B[0m=\u001B[35mms-sdk\u001B[0m \u001B[36mcommand_id\u001B[0m=\u001B[35mNone\u001B[0m \u001B[36mdata_source_id\u001B[0m=\u001B[35m2\u001B[0m \u001B[36mjob_run_id\u001B[0m=\u001B[35mNone\u001B[0m \u001B[36mproject_id\u001B[0m=\u001B[35m1\u001B[0m (at utils.py:107 in make_request())\n"
     ]
    },
    {
     "name": "stdout",
     "output_type": "stream",
     "text": [
      "Total Assets CurrencyPair Assets : 0\n"
     ]
    },
    {
     "name": "stderr",
     "output_type": "stream",
     "text": [
      "\u001B[2m2025-08-07T11:18:45.638785Z\u001B[0m [\u001B[32m\u001B[1mdebug    \u001B[0m] \u001B[1mtook 0.4018 seconds. Requesting GET from http://127.0.0.1:8000/orm/api/assets/asset_future_usdm/\u001B[0m \u001B[36mapplication_name\u001B[0m=\u001B[35mms-sdk\u001B[0m \u001B[36mcommand_id\u001B[0m=\u001B[35mNone\u001B[0m \u001B[36mdata_source_id\u001B[0m=\u001B[35m2\u001B[0m \u001B[36mjob_run_id\u001B[0m=\u001B[35mNone\u001B[0m \u001B[36mproject_id\u001B[0m=\u001B[35m1\u001B[0m (at utils.py:107 in make_request())\n"
     ]
    },
    {
     "name": "stdout",
     "output_type": "stream",
     "text": [
      "Total Futures Assets : 0\n"
     ]
    }
   ],
   "execution_count": 11
  },
  {
   "cell_type": "markdown",
   "id": "a62206ee331bcdce",
   "metadata": {},
   "source": [
    "## Using `filter_with_asset_class`\n",
    "\n",
    "The `filter_with_asset_class` method is an extended version of the `filter` method.\n",
    "It ensures that each returned asset is an instance of its correct class \n",
    "\n",
    "### When to Use?\n",
    "- When querying multiple asset types and needing them returned with the correct class.\n",
    "- When working with assets across execution venues and requiring proper type differentiation.\n",
    "\n",
    "### Example 1: Query all asset types for a symbol\n"
   ]
  },
  {
   "metadata": {
    "ExecuteTime": {
     "end_time": "2025-08-07T11:19:47.505619Z",
     "start_time": "2025-08-07T11:19:47.108958Z"
    }
   },
   "cell_type": "code",
   "source": [
    "# Query Binance Spot assets with correct asset classes\n",
    "all_btc_assets = msc.Asset.filter_with_asset_class(ticker=\"BTCUSDT\")\n",
    "\n",
    "# Displaying asset information\n",
    "for asset in all_btc_assets:\n",
    "    print(f\"Asset: {asset.ticker},  Class: {type(asset).__name__}\")\n"
   ],
   "id": "addb3e8ea9e5375f",
   "outputs": [
    {
     "name": "stderr",
     "output_type": "stream",
     "text": [
      "\u001B[2m2025-08-07T11:19:47.503654Z\u001B[0m [\u001B[32m\u001B[1mdebug    \u001B[0m] \u001B[1mtook 0.3935 seconds. Requesting GET from http://127.0.0.1:8000/orm/api/assets/asset/list_with_asset_class/\u001B[0m \u001B[36mapplication_name\u001B[0m=\u001B[35mms-sdk\u001B[0m \u001B[36mcommand_id\u001B[0m=\u001B[35mNone\u001B[0m \u001B[36mdata_source_id\u001B[0m=\u001B[35m2\u001B[0m \u001B[36mjob_run_id\u001B[0m=\u001B[35mNone\u001B[0m \u001B[36mproject_id\u001B[0m=\u001B[35m1\u001B[0m (at utils.py:107 in make_request())\n"
     ]
    }
   ],
   "execution_count": 12
  },
  {
   "cell_type": "markdown",
   "id": "a2c3af44",
   "metadata": {},
   "source": [
    "### Example 2: Using FIGI Information to Narrow Down Results\n",
    "\n",
    "Now imagine we only want currency pairs instead of futures.\n",
    " In this case, we can use FIGI details to identify the asset classes we are specifically interested in.\n",
    "\n"
   ]
  },
  {
   "metadata": {
    "ExecuteTime": {
     "end_time": "2025-08-07T11:20:13.503783Z",
     "start_time": "2025-08-07T11:20:13.103725Z"
    }
   },
   "cell_type": "code",
   "source": [
    "all_curreny_pairs_bitcoin= msc.Asset.filter_with_asset_class(ticker=\"BTCUSDT\",\n",
    "security_market_sector=msc.MARKETS_CONSTANTS.FIGI_MARKET_SECTOR_CURNCY,\n",
    "security_type=msc.MARKETS_CONSTANTS.FIGI_SECURITY_TYPE_CRYPTO\n",
    ")\n",
    "\n",
    "print(all_curreny_pairs_bitcoin)"
   ],
   "id": "9b9bfe53a8b5d755",
   "outputs": [
    {
     "name": "stderr",
     "output_type": "stream",
     "text": [
      "\u001B[2m2025-08-07T11:20:13.501934Z\u001B[0m [\u001B[32m\u001B[1mdebug    \u001B[0m] \u001B[1mtook 0.3968 seconds. Requesting GET from http://127.0.0.1:8000/orm/api/assets/asset/list_with_asset_class/\u001B[0m \u001B[36mapplication_name\u001B[0m=\u001B[35mms-sdk\u001B[0m \u001B[36mcommand_id\u001B[0m=\u001B[35mNone\u001B[0m \u001B[36mdata_source_id\u001B[0m=\u001B[35m2\u001B[0m \u001B[36mjob_run_id\u001B[0m=\u001B[35mNone\u001B[0m \u001B[36mproject_id\u001B[0m=\u001B[35m1\u001B[0m (at utils.py:107 in make_request())\n"
     ]
    },
    {
     "name": "stdout",
     "output_type": "stream",
     "text": [
      "[]\n"
     ]
    }
   ],
   "execution_count": 13
  },
  {
   "metadata": {},
   "cell_type": "markdown",
   "source": [
    "\n",
    "\n",
    "\n",
    "\n"
   ],
   "id": "bd911117b52906e9"
  },
  {
   "cell_type": "code",
   "id": "ebffcdcd",
   "metadata": {
    "ExecuteTime": {
     "end_time": "2025-06-08T11:28:24.039099249Z",
     "start_time": "2025-05-23T07:58:59.641093Z"
    }
   },
   "source": [],
   "outputs": [],
   "execution_count": null
  },
  {
   "cell_type": "markdown",
   "id": "31f854f5",
   "metadata": {},
   "source": []
  }
 ],
 "metadata": {
  "kernelspec": {
   "display_name": "venv",
   "language": "python",
   "name": "python3"
  },
  "language_info": {
   "codemirror_mode": {
    "name": "ipython",
    "version": 3
   },
   "file_extension": ".py",
   "mimetype": "text/x-python",
   "name": "python",
   "nbconvert_exporter": "python",
   "pygments_lexer": "ipython3",
   "version": "3.9.19"
  }
 },
 "nbformat": 4,
 "nbformat_minor": 5
}
