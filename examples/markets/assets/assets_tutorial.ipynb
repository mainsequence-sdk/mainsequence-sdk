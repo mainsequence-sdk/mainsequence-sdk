{
 "cells": [
  {
   "cell_type": "markdown",
   "id": "d53b9d22",
   "metadata": {},
   "source": [
    "# Interacting with Assets in VAM API\n",
    "\n",
    "This notebook provides a comprehensive guide on how to interact with different types of assets using the VAM API.\n",
    "We will cover:\n",
    "- Querying different asset types\n",
    "- Filtering assets by execution venue\n",
    "- Working with different asset types like spot, futures, and equity\n",
    "- Performing batch operations\n",
    "\n",
    "\n",
    "\n",
    "We will demonstrate how to query assets across these execution venues.\n"
   ]
  },
  {
   "cell_type": "code",
   "execution_count": 1,
   "id": "713cedfebca6c6f6",
   "metadata": {
    "ExecuteTime": {
     "end_time": "2025-02-27T11:03:42.754323Z",
     "start_time": "2025-02-27T11:03:42.752724Z"
    }
   },
   "outputs": [
    {
     "name": "stdout",
     "output_type": "stream",
     "text": [
      "Working directory set to: /home/jose/code/MainSequenceClientSide/mainsequence-sdk\n"
     ]
    }
   ],
   "source": [
    "import os\n",
    "from pathlib import Path\n",
    "\n",
    "# Save the original working directory (only once)\n",
    "try:\n",
    "    original_wd\n",
    "except NameError:\n",
    "    original_wd = os.getcwd()\n",
    "\n",
    "# Compute the target directory: two levels up from the original working directory\n",
    "# For example, if original_wd is /Users/username/project/notebooks,\n",
    "# then target_dir becomes /Users/username\n",
    "target_dir = Path(original_wd).parents[2]\n",
    "\n",
    "# Change the working directory to the target directory\n",
    "os.chdir(target_dir)\n",
    "print(\"Working directory set to:\", os.getcwd())"
   ]
  },
  {
   "cell_type": "code",
   "execution_count": 2,
   "id": "405b0a22",
   "metadata": {
    "ExecuteTime": {
     "end_time": "2025-04-10T10:44:39.738479Z",
     "start_time": "2025-04-10T10:44:37.875245Z"
    }
   },
   "outputs": [],
   "source": [
    "\n",
    "import dotenv\n",
    "dotenv.load_dotenv('.env')\n",
    "\n",
    "import mainsequence \n",
    "from mainsequence.client import Asset, AssetFutureUSDM, AssetCurrencyPair,AssetCategory\n",
    "from mainsequence.client import MARKETS_CONSTANTS\n",
    "\n",
    "# Define execution venue symbols\n",
    "BINANCE_EV = MARKETS_CONSTANTS.BINANCE_EV_SYMBOL\n",
    "BINANCE_FUTURES_EV = MARKETS_CONSTANTS.BINANCE_FUTURES_EV_SYMBOL\n",
    "ALPACA_EV = MARKETS_CONSTANTS.ALPACA_EV_SYMBOL"
   ]
  },
  {
   "cell_type": "markdown",
   "id": "afcbd633",
   "metadata": {},
   "source": [
    "## Optimal Asset Queries\n",
    "\n",
    "There are many assets, and there will always be more. We recommend narrowing your search so that the expected results are in the hundreds. If you need more assets, it is best to first create a category that encompasses those assets and then query by that category.\n",
    "\n",
    "A good way to start narrowing asset searches is by filtering on the execution venue and some FIGI properties. For example, if you want to retrieve the equivalent assets from one category on another exchange, you could do something like this:\n",
    "\n"
   ]
  },
  {
   "cell_type": "code",
   "execution_count": 3,
   "id": "8f6338f5",
   "metadata": {
    "ExecuteTime": {
     "end_time": "2025-04-10T10:44:46.188826Z",
     "start_time": "2025-04-10T10:44:42.321630Z"
    }
   },
   "outputs": [],
   "source": [
    "top_100_cryptos = AssetCategory.get(unique_identifier=\"top_100_crypto_market_cap\")\n",
    "\n",
    "# Switch to Binance categories\n",
    "spot_assets = Asset.filter(id__in=top_100_cryptos.assets)\n",
    "\n",
    "# Get them through the main sequence FIGI class and exchange\n",
    "binance_currency_pairs = AssetCurrencyPair.filter(\n",
    "    base_asset__figi_details__main_sequence_share_class__in=[\n",
    "        a.figi_details.main_sequence_share_class for a in spot_assets\n",
    "    ],\n",
    "    execution_venue__symbol=MARKETS_CONSTANTS.BINANCE_EV_SYMBOL,\n",
    "    quote_asset__symbol=\"USDT\",\n",
    "    include_base_quote_detail=False\n",
    ")\n",
    "\n"
   ]
  },
  {
   "cell_type": "markdown",
   "id": "3b1b34eb",
   "metadata": {},
   "source": [
    "## Filtering Assets by Type\n",
    "\n",
    "Different asset types have distinct properties, which can help you extend your filters. It's important to note that all asset types inherit from the Asset class. Therefore, you can always use the Asset class to access all assets and their general properties."
   ]
  },
  {
   "cell_type": "code",
   "execution_count": 4,
   "id": "774acb7a",
   "metadata": {
    "ExecuteTime": {
     "end_time": "2025-04-10T10:44:52.113782Z",
     "start_time": "2025-04-10T10:44:49.823237Z"
    }
   },
   "outputs": [
    {
     "name": "stdout",
     "output_type": "stream",
     "text": [
      "Total Spot Crypto Assets on Binance: 5\n",
      "Total Assets CurrencyPair Assets : 3\n",
      "Total Futures Assets : 2\n"
     ]
    }
   ],
   "source": [
    "# Filtering Simple Assets\n",
    "simple_assets = Asset.filter(symbol=\"BTCUSDT\")\n",
    "print(f\"Total Spot Crypto Assets on Binance: {len(simple_assets)}\")\n",
    "\n",
    "# Filtering Futures\n",
    "cash_equity_assets = AssetCurrencyPair.filter(symbol=\"BTCUSDT\")\n",
    "print(f\"Total Assets CurrencyPair Assets : {len(cash_equity_assets)}\")\n",
    "\n",
    "# Filtering  Futures USDM Assets\n",
    "futures_assets= AssetFutureUSDM.filter(symbol=\"BTCUSDT\")\n",
    "print(f\"Total Futures Assets : {len(futures_assets)}\")\n",
    "\n",
    "\n"
   ]
  },
  {
   "cell_type": "markdown",
   "id": "a62206ee331bcdce",
   "metadata": {},
   "source": [
    "## Using `filter_with_asset_class`\n",
    "\n",
    "The `filter_with_asset_class` method is an extended version of the `filter` method.\n",
    "It ensures that each returned asset is an instance of its correct class \n",
    "\n",
    "### When to Use?\n",
    "- When querying multiple asset types and needing them returned with the correct class.\n",
    "- When working with assets across execution venues and requiring proper type differentiation.\n",
    "\n",
    "### Example 1: Query all asset types for a symbol\n"
   ]
  },
  {
   "cell_type": "code",
   "execution_count": null,
   "id": "70673bbb7dfd95a5",
   "metadata": {
    "ExecuteTime": {
     "end_time": "2025-02-27T11:11:41.463594918Z",
     "start_time": "2025-02-27T11:00:27.305070Z"
    }
   },
   "outputs": [
    {
     "name": "stdout",
     "output_type": "stream",
     "text": [
      "Asset: BTCUSDT,  Class: AssetCurrencyPair\n",
      "Asset: BTCUSDT,  Class: AssetCurrencyPair\n",
      "Asset: BTCUSDT,  Class: AssetFutureUSDM\n",
      "Asset: BTCUSDT,  Class: AssetCurrencyPair\n",
      "Asset: BTCUSDT,  Class: AssetFutureUSDM\n"
     ]
    }
   ],
   "source": [
    "# Query Binance Spot assets with correct asset classes\n",
    "all_btc_assets = Asset.filter_with_asset_class(symbol=\"BTCUSDT\")\n",
    "\n",
    "# Displaying asset information\n",
    "for asset in all_btc_assets:\n",
    "    print(f\"Asset: {asset.symbol},  Class: {type(asset).__name__}\")\n"
   ]
  },
  {
   "cell_type": "markdown",
   "id": "a2c3af44",
   "metadata": {},
   "source": [
    "### Example 2: Using FIGI Information to Narrow Down Results\n",
    "\n",
    "Now imagine we only want currency pairs instead of futures.\n",
    " In this case, we can use FIGI details to identify the asset classes we are specifically interested in.\n",
    "\n"
   ]
  },
  {
   "cell_type": "code",
   "execution_count": 21,
   "id": "7f747286",
   "metadata": {},
   "outputs": [
    {
     "name": "stdout",
     "output_type": "stream",
     "text": [
      "[AssetCurrencyPair: 192403, AssetCurrencyPair: 192404, AssetCurrencyPair: 200468]\n"
     ]
    }
   ],
   "source": [
    "all_curreny_pairs_bitcoin= Asset.filter_with_asset_class(symbol=\"BTCUSDT\",\n",
    "figi_details__security_market_sector=MARKETS_CONSTANTS.FIGI_MARKET_SECTOR_CURNCY,\n",
    "figi_details__security_type=MARKETS_CONSTANTS.FIGI_SECURITY_TYPE_CRYPTO\n",
    ")\n",
    "\n",
    "print(all_curreny_pairs_bitcoin)"
   ]
  },
  {
   "cell_type": "code",
   "execution_count": null,
   "id": "ebffcdcd",
   "metadata": {},
   "outputs": [],
   "source": []
  },
  {
   "cell_type": "markdown",
   "id": "31f854f5",
   "metadata": {},
   "source": []
  }
 ],
 "metadata": {
  "kernelspec": {
   "display_name": "venv",
   "language": "python",
   "name": "python3"
  },
  "language_info": {
   "codemirror_mode": {
    "name": "ipython",
    "version": 3
   },
   "file_extension": ".py",
   "mimetype": "text/x-python",
   "name": "python",
   "nbconvert_exporter": "python",
   "pygments_lexer": "ipython3",
   "version": "3.9.19"
  }
 },
 "nbformat": 4,
 "nbformat_minor": 5
}
