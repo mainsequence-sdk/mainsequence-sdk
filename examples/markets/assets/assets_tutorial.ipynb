{
 "cells": [
  {
   "cell_type": "markdown",
   "id": "d53b9d22",
   "metadata": {},
   "source": [
    "# Interacting with Assets in VAM API\n",
    "\n",
    "This notebook provides a comprehensive guide on how to interact with different types of assets using the VAM API.\n",
    "We will cover:\n",
    "- Querying different asset types\n",
    "- Filtering assets by execution venue\n",
    "- Working with different asset types like spot, futures, and equity\n",
    "- Performing batch operations\n",
    "\n",
    "\n",
    "\n",
    "We will demonstrate how to query assets across these execution venues.\n"
   ]
  },
  {
   "cell_type": "code",
   "id": "713cedfebca6c6f6",
   "metadata": {
    "ExecuteTime": {
     "end_time": "2025-05-17T12:40:23.902499Z",
     "start_time": "2025-05-17T12:40:23.896811Z"
    }
   },
   "source": [
    "import os\n",
    "from pathlib import Path\n",
    "\n",
    "# Save the original working directory (only once)\n",
    "try:\n",
    "    original_wd\n",
    "except NameError:\n",
    "    original_wd = os.getcwd()\n",
    "\n",
    "# Compute the target directory: two levels up from the original working directory\n",
    "# For example, if original_wd is /Users/username/project/notebooks,\n",
    "# then target_dir becomes /Users/username\n",
    "target_dir = Path(original_wd).parents[2]\n",
    "\n",
    "# Change the working directory to the target directory\n",
    "os.chdir(target_dir)\n",
    "print(\"Working directory set to:\", os.getcwd())"
   ],
   "outputs": [
    {
     "name": "stdout",
     "output_type": "stream",
     "text": [
      "Working directory set to: /Users/jose/code/mainsequence-sdk\n"
     ]
    }
   ],
   "execution_count": 1
  },
  {
   "cell_type": "code",
   "id": "405b0a22",
   "metadata": {
    "ExecuteTime": {
     "end_time": "2025-05-17T12:40:25.640009Z",
     "start_time": "2025-05-17T12:40:23.903638Z"
    }
   },
   "source": [
    "\n",
    "import dotenv\n",
    "env_loaded=dotenv.load_dotenv('.env')\n",
    "print(f\"Env file loaded: {env_loaded}\")\n",
    "import mainsequence \n",
    "from mainsequence.client import Asset, AssetFutureUSDM, AssetCurrencyPair,AssetCategory\n",
    "from mainsequence.client import MARKETS_CONSTANTS\n",
    "\n",
    "# Define execution venue symbols\n",
    "BINANCE_EV = MARKETS_CONSTANTS.BINANCE_EV_SYMBOL\n",
    "BINANCE_FUTURES_EV = MARKETS_CONSTANTS.BINANCE_FUTURES_EV_SYMBOL\n",
    "ALPACA_EV = MARKETS_CONSTANTS.ALPACA_EV_SYMBOL"
   ],
   "outputs": [
    {
     "name": "stdout",
     "output_type": "stream",
     "text": [
      "Env file loaded: True\n"
     ]
    },
    {
     "name": "stderr",
     "output_type": "stream",
     "text": [
      "\u001B[2m2025-05-17T12:40:24.473173Z\u001B[0m [\u001B[32m\u001B[1mdebug    \u001B[0m] \u001B[1mGetting Auth Headers ASSETS_ORM\u001B[0m \u001B[36mapplication_name\u001B[0m=\u001B[35mms-sdk\u001B[0m \u001B[36mdata_source_id\u001B[0m=\u001B[35m1\u001B[0m \u001B[36mjob_run_id\u001B[0m=\u001B[35mNone\u001B[0m \u001B[36mproject_id\u001B[0m=\u001B[35m1\u001B[0m (at utils.py:39 in refresh_headers())\n",
      "\u001B[2m2025-05-17T12:40:24.680131Z\u001B[0m [\u001B[32m\u001B[1mdebug    \u001B[0m] \u001B[1mGetting Auth Headers ASSETS_ORM\u001B[0m \u001B[36mapplication_name\u001B[0m=\u001B[35mms-sdk\u001B[0m \u001B[36mdata_source_id\u001B[0m=\u001B[35m1\u001B[0m \u001B[36mjob_run_id\u001B[0m=\u001B[35mNone\u001B[0m \u001B[36mproject_id\u001B[0m=\u001B[35m1\u001B[0m (at utils.py:39 in refresh_headers())\n",
      "\u001B[2m2025-05-17T12:40:25.118070Z\u001B[0m [\u001B[32m\u001B[1mdebug    \u001B[0m] \u001B[1mtook 0.3990 seconds. Requesting GET from http://192.168.178.69:8000/orm/api/pods/projects/get_user_default_project/\u001B[0m \u001B[36mapplication_name\u001B[0m=\u001B[35mms-sdk\u001B[0m \u001B[36mdata_source_id\u001B[0m=\u001B[35m1\u001B[0m \u001B[36mjob_run_id\u001B[0m=\u001B[35mNone\u001B[0m \u001B[36mproject_id\u001B[0m=\u001B[35m1\u001B[0m (at utils.py:95 in make_request())\n",
      "\u001B[2m2025-05-17T12:40:25.119515Z\u001B[0m [\u001B[32m\u001B[1minfo     \u001B[0m] \u001B[1mSet remote data source to orm_class='DataSource' id=1 display_name='Default TS GCP' organization=1 class_type='timescale_db' status='AVAILABLE' extra_arguments=None\u001B[0m \u001B[36mapplication_name\u001B[0m=\u001B[35mms-sdk\u001B[0m \u001B[36mdata_source_id\u001B[0m=\u001B[35m1\u001B[0m \u001B[36mjob_run_id\u001B[0m=\u001B[35mNone\u001B[0m \u001B[36mproject_id\u001B[0m=\u001B[35m1\u001B[0m (at models_tdag.py:2114 in set_remote_db())\n",
      "\u001B[2m2025-05-17T12:40:25.186031Z\u001B[0m [\u001B[32m\u001B[1mdebug    \u001B[0m] \u001B[1mGetting Auth Headers ASSETS_ORM\u001B[0m \u001B[36mapplication_name\u001B[0m=\u001B[35mms-sdk\u001B[0m \u001B[36mdata_source_id\u001B[0m=\u001B[35m1\u001B[0m \u001B[36mjob_run_id\u001B[0m=\u001B[35mNone\u001B[0m \u001B[36mproject_id\u001B[0m=\u001B[35m1\u001B[0m (at utils.py:39 in refresh_headers())\n",
      "\u001B[2m2025-05-17T12:40:25.632596Z\u001B[0m [\u001B[32m\u001B[1mdebug    \u001B[0m] \u001B[1mtook 0.4455 seconds. Requesting GET from http://192.168.178.69:8000/orm/api/assets/api/constants\u001B[0m \u001B[36mapplication_name\u001B[0m=\u001B[35mms-sdk\u001B[0m \u001B[36mdata_source_id\u001B[0m=\u001B[35m1\u001B[0m \u001B[36mjob_run_id\u001B[0m=\u001B[35mNone\u001B[0m \u001B[36mproject_id\u001B[0m=\u001B[35m1\u001B[0m (at utils.py:95 in make_request())\n"
     ]
    }
   ],
   "execution_count": 2
  },
  {
   "metadata": {},
   "cell_type": "markdown",
   "source": [
    "## Registering new assets\n",
    "\n",
    "Main Sequence Assets are closely aligned with the Open FIGI asset master list available at https://www.openfigi.com/. Each asset on the Main Sequence platform shares identical properties with its corresponding asset listed in Open FIGI. The primary difference on the Main Sequence platform is that each asset also includes a unique identifier determined by the execution venue.\n",
    "\n",
    "It is important to note that an execution venue is not always synonymous with an exchange. The execution venue refers to the entity or platform where the account holding the asset is maintained. For example, Interactive Brokers could be an execution venue. This means that within an Interactive Brokers account, one might hold NVDA shares listed on a specific exchange with a FIGI from https://www.openfigi.com/search?marketSector=All&searchTerms=NVDA. However, this holding must be differentiated from NVDA holdings maintained in an account at another execution venue, such as Alpaca. Although the FIGIs remain the same, the unique identifiers differ. On the Main Sequence platform, the unique identifier combines the asset ticker, FIGI, and the execution venue symbol.\n",
    "\n",
    "Given the extensive and continuously growing number of assets, not all are automatically registered in the Main Sequence platform. Nevertheless, users have the option to manually register assets at a specific execution venue using our client library."
   ],
   "id": "51b9b95c923db096"
  },
  {
   "metadata": {
    "ExecuteTime": {
     "end_time": "2025-05-17T12:40:26.144120Z",
     "start_time": "2025-05-17T12:40:25.641693Z"
    }
   },
   "cell_type": "code",
   "source": [
    "# we will register the following figi BBG014T46NC0 which corresponds  to NVDA trading in the Toronto Stock Exchange and BBG00GQ6S7X0 corresponds to NVDA in Vienna stock exchange\n",
    "figi_to_register=[\"BBG014T46NC0\",\"BBG00GQ6S7X0\"]\n",
    "for f in figi_to_register:\n",
    "    Asset.register_figi_as_asset_in_ms_share_class_venue(figi=f,\n",
    "                                          timeout=100000\n",
    "                                          \n",
    "                                          )\n",
    "    registered_asset=Asset.get(figi=f,execution_venue__symbol=MARKETS_CONSTANTS.MAIN_SEQUENCE_EV)\n",
    "    registered_asset.pretty_print()\n"
   ],
   "id": "be858d05afc24ac0",
   "outputs": [
    {
     "name": "stderr",
     "output_type": "stream",
     "text": [
      "\u001B[2m2025-05-17T12:40:25.956969Z\u001B[0m [\u001B[32m\u001B[1mdebug    \u001B[0m] \u001B[1mtook 0.3124 seconds. Requesting POST from http://192.168.178.69:8000/orm/api/assets/asset/register_figi_as_asset_in_ms_share_class_venue/\u001B[0m \u001B[36mapplication_name\u001B[0m=\u001B[35mms-sdk\u001B[0m \u001B[36mdata_source_id\u001B[0m=\u001B[35m1\u001B[0m \u001B[36mjob_run_id\u001B[0m=\u001B[35mNone\u001B[0m \u001B[36mproject_id\u001B[0m=\u001B[35m1\u001B[0m (at utils.py:95 in make_request())\n"
     ]
    },
    {
     "ename": "Exception",
     "evalue": "Error appending creating: {\"detail\":\"Method \\\"POST\\\" not allowed.\"}",
     "output_type": "error",
     "traceback": [
      "\u001B[0;31m---------------------------------------------------------------------------\u001B[0m",
      "\u001B[0;31mException\u001B[0m                                 Traceback (most recent call last)",
      "Cell \u001B[0;32mIn[3], line 4\u001B[0m\n\u001B[1;32m      2\u001B[0m figi_to_register\u001B[38;5;241m=\u001B[39m[\u001B[38;5;124m\"\u001B[39m\u001B[38;5;124mBBG014T46NC0\u001B[39m\u001B[38;5;124m\"\u001B[39m,\u001B[38;5;124m\"\u001B[39m\u001B[38;5;124mBBG00GQ6S7X0\u001B[39m\u001B[38;5;124m\"\u001B[39m]\n\u001B[1;32m      3\u001B[0m \u001B[38;5;28;01mfor\u001B[39;00m f \u001B[38;5;129;01min\u001B[39;00m figi_to_register:\n\u001B[0;32m----> 4\u001B[0m     \u001B[43mAsset\u001B[49m\u001B[38;5;241;43m.\u001B[39;49m\u001B[43mregister_figi_as_asset_in_ms_share_class_venue\u001B[49m\u001B[43m(\u001B[49m\u001B[43mfigi\u001B[49m\u001B[38;5;241;43m=\u001B[39;49m\u001B[43mf\u001B[49m\u001B[43m,\u001B[49m\n\u001B[1;32m      5\u001B[0m \u001B[43m                                          \u001B[49m\u001B[43mtimeout\u001B[49m\u001B[38;5;241;43m=\u001B[39;49m\u001B[38;5;241;43m100000\u001B[39;49m\n\u001B[1;32m      6\u001B[0m \u001B[43m                                          \u001B[49m\n\u001B[1;32m      7\u001B[0m \u001B[43m                                          \u001B[49m\u001B[43m)\u001B[49m\n\u001B[1;32m      8\u001B[0m     registered_asset\u001B[38;5;241m=\u001B[39mAsset\u001B[38;5;241m.\u001B[39mget(figi\u001B[38;5;241m=\u001B[39mf,execution_venue__symbol\u001B[38;5;241m=\u001B[39mMARKETS_CONSTANTS\u001B[38;5;241m.\u001B[39mMAIN_SEQUENCE_EV)\n\u001B[1;32m      9\u001B[0m     registered_asset\u001B[38;5;241m.\u001B[39mpretty_print()\n",
      "File \u001B[0;32m~/code/mainsequence-sdk/mainsequence/client/models_vam.py:540\u001B[0m, in \u001B[0;36mAsset.register_figi_as_asset_in_ms_share_class_venue\u001B[0;34m(cls, figi, timeout)\u001B[0m\n\u001B[1;32m    532\u001B[0m r \u001B[38;5;241m=\u001B[39m make_request(\n\u001B[1;32m    533\u001B[0m     s\u001B[38;5;241m=\u001B[39m\u001B[38;5;28mcls\u001B[39m\u001B[38;5;241m.\u001B[39mbuild_session(),\n\u001B[1;32m    534\u001B[0m     loaders\u001B[38;5;241m=\u001B[39m\u001B[38;5;28mcls\u001B[39m\u001B[38;5;241m.\u001B[39mLOADERS,\n\u001B[0;32m   (...)\u001B[0m\n\u001B[1;32m    537\u001B[0m     payload\u001B[38;5;241m=\u001B[39mpayload\n\u001B[1;32m    538\u001B[0m )\n\u001B[1;32m    539\u001B[0m \u001B[38;5;28;01mif\u001B[39;00m r\u001B[38;5;241m.\u001B[39mstatus_code \u001B[38;5;129;01mnot\u001B[39;00m \u001B[38;5;129;01min\u001B[39;00m [\u001B[38;5;241m200\u001B[39m, \u001B[38;5;241m201\u001B[39m]:\n\u001B[0;32m--> 540\u001B[0m     \u001B[38;5;28;01mraise\u001B[39;00m \u001B[38;5;167;01mException\u001B[39;00m(\u001B[38;5;124mf\u001B[39m\u001B[38;5;124m\"\u001B[39m\u001B[38;5;124mError appending creating: \u001B[39m\u001B[38;5;132;01m{\u001B[39;00mr\u001B[38;5;241m.\u001B[39mtext\u001B[38;5;132;01m}\u001B[39;00m\u001B[38;5;124m\"\u001B[39m)\n\u001B[1;32m    541\u001B[0m \u001B[38;5;28;01mreturn\u001B[39;00m r\u001B[38;5;241m.\u001B[39mjson()\n",
      "\u001B[0;31mException\u001B[0m: Error appending creating: {\"detail\":\"Method \\\"POST\\\" not allowed.\"}"
     ]
    }
   ],
   "execution_count": 3
  },
  {
   "metadata": {
    "ExecuteTime": {
     "end_time": "2025-05-17T12:40:26.145045Z",
     "start_time": "2025-05-17T12:40:26.144993Z"
    }
   },
   "cell_type": "code",
   "source": [
    "assets_in_venue=Asset.filter(ticker=\"NVDA\",execution_venue__symbol=MARKETS_CONSTANTS.MAIN_SEQUENCE_EV)\n",
    "for a in assets_in_venue:\n",
    "    a.pretty_print()\n",
    "    \n"
   ],
   "id": "9d5b4e051009588",
   "outputs": [],
   "execution_count": null
  },
  {
   "cell_type": "markdown",
   "id": "afcbd633",
   "metadata": {},
   "source": [
    "## Optimal Asset Queries\n",
    "\n",
    "There are many assets, and there will always be more. We recommend narrowing your search so that the expected results are in the hundreds. If you need more assets, it is best to first create a category that encompasses those assets and then query by that category.\n",
    "\n",
    "A good way to start narrowing asset searches is by filtering on the execution venue and some FIGI properties. For example, if you want to retrieve the equivalent assets from one category on another exchange, you could do something like this:\n",
    "\n"
   ]
  },
  {
   "cell_type": "code",
   "id": "8f6338f5",
   "metadata": {},
   "source": [
    "top_100_cryptos = AssetCategory.get(unique_identifier=\"top_100_crypto_market_cap\")\n",
    "\n",
    "# Switch to Binance categories\n",
    "spot_assets = Asset.filter(id__in=top_100_cryptos.assets)\n",
    "\n",
    "# Get them through the main sequence FIGI class and exchange\n",
    "binance_currency_pairs = AssetCurrencyPair.filter(\n",
    "    base_asset__main_sequence_share_class__in=[\n",
    "        a.main_sequence_share_class for a in spot_assets\n",
    "    ],\n",
    "    execution_venue__symbol=MARKETS_CONSTANTS.BINANCE_EV_SYMBOL,\n",
    "    quote_asset__ticker=\"USDT\",\n",
    "    include_base_quote_detail=False\n",
    ")\n",
    "\n"
   ],
   "outputs": [],
   "execution_count": null
  },
  {
   "cell_type": "markdown",
   "id": "3b1b34eb",
   "metadata": {},
   "source": [
    "## Filtering Assets by Type\n",
    "\n",
    "Different asset types have distinct properties, which can help you extend your filters. It's important to note that all asset types inherit from the Asset class. Therefore, you can always use the Asset class to access all assets and their general properties."
   ]
  },
  {
   "cell_type": "code",
   "id": "774acb7a",
   "metadata": {},
   "source": [
    "# Filtering Simple Assets\n",
    "simple_assets = Asset.filter(ticker=\"BTCUSDT\")\n",
    "print(f\"Total Spot Crypto Assets on Binance: {len(simple_assets)}\")\n",
    "\n",
    "# Filtering Futures\n",
    "cash_equity_assets = AssetCurrencyPair.filter(ticker=\"BTCUSDT\")\n",
    "print(f\"Total Assets CurrencyPair Assets : {len(cash_equity_assets)}\")\n",
    "\n",
    "# Filtering  Futures USDM Assets\n",
    "futures_assets= AssetFutureUSDM.filter(ticker=\"BTCUSDT\")\n",
    "print(f\"Total Futures Assets : {len(futures_assets)}\")\n",
    "\n",
    "\n"
   ],
   "outputs": [],
   "execution_count": null
  },
  {
   "cell_type": "markdown",
   "id": "a62206ee331bcdce",
   "metadata": {},
   "source": [
    "## Using `filter_with_asset_class`\n",
    "\n",
    "The `filter_with_asset_class` method is an extended version of the `filter` method.\n",
    "It ensures that each returned asset is an instance of its correct class \n",
    "\n",
    "### When to Use?\n",
    "- When querying multiple asset types and needing them returned with the correct class.\n",
    "- When working with assets across execution venues and requiring proper type differentiation.\n",
    "\n",
    "### Example 1: Query all asset types for a symbol\n"
   ]
  },
  {
   "cell_type": "code",
   "id": "70673bbb7dfd95a5",
   "metadata": {},
   "source": [
    "# Query Binance Spot assets with correct asset classes\n",
    "all_btc_assets = Asset.filter_with_asset_class(ticker=\"BTCUSDT\")\n",
    "\n",
    "# Displaying asset information\n",
    "for asset in all_btc_assets:\n",
    "    print(f\"Asset: {asset.ticker},  Class: {type(asset).__name__}\")\n"
   ],
   "outputs": [],
   "execution_count": null
  },
  {
   "cell_type": "markdown",
   "id": "a2c3af44",
   "metadata": {},
   "source": [
    "### Example 2: Using FIGI Information to Narrow Down Results\n",
    "\n",
    "Now imagine we only want currency pairs instead of futures.\n",
    " In this case, we can use FIGI details to identify the asset classes we are specifically interested in.\n",
    "\n"
   ]
  },
  {
   "cell_type": "code",
   "id": "7f747286",
   "metadata": {},
   "source": [
    "all_curreny_pairs_bitcoin= Asset.filter_with_asset_class(ticker=\"BTCUSDT\",\n",
    "security_market_sector=MARKETS_CONSTANTS.FIGI_MARKET_SECTOR_CURNCY,\n",
    "security_type=MARKETS_CONSTANTS.FIGI_SECURITY_TYPE_CRYPTO\n",
    ")\n",
    "\n",
    "print(all_curreny_pairs_bitcoin)"
   ],
   "outputs": [],
   "execution_count": null
  },
  {
   "metadata": {},
   "cell_type": "markdown",
   "source": [
    "\n",
    "\n",
    "\n",
    "\n"
   ],
   "id": "bd911117b52906e9"
  },
  {
   "cell_type": "code",
   "id": "ebffcdcd",
   "metadata": {},
   "source": [],
   "outputs": [],
   "execution_count": null
  },
  {
   "cell_type": "markdown",
   "id": "31f854f5",
   "metadata": {},
   "source": []
  }
 ],
 "metadata": {
  "kernelspec": {
   "display_name": "venv",
   "language": "python",
   "name": "python3"
  },
  "language_info": {
   "codemirror_mode": {
    "name": "ipython",
    "version": 3
   },
   "file_extension": ".py",
   "mimetype": "text/x-python",
   "name": "python",
   "nbconvert_exporter": "python",
   "pygments_lexer": "ipython3",
   "version": "3.9.19"
  }
 },
 "nbformat": 4,
 "nbformat_minor": 5
}
