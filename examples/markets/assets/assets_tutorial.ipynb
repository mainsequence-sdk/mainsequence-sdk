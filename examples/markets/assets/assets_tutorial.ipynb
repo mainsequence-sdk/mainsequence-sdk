{
 "cells": [
  {
   "cell_type": "markdown",
   "id": "d53b9d22",
   "metadata": {},
   "source": [
    "# Interacting with Assets in Markets API\n",
    "\n",
    "This notebook provides a comprehensive guide on how to interact with different types of assets using the VAM API.\n",
    "We will cover:\n",
    "- Querying different asset types\n",
    "- Filtering assets by execution venue\n",
    "- Working with different asset types like spot, futures, and equity\n",
    "- Performing batch operations\n",
    "\n",
    "\n",
    "\n",
    "We will demonstrate how to query assets across these execution venues.\n"
   ]
  },
  {
   "cell_type": "code",
   "id": "713cedfebca6c6f6",
   "metadata": {
    "ExecuteTime": {
     "end_time": "2025-05-23T07:58:43.628650Z",
     "start_time": "2025-05-23T07:58:43.623553Z"
    }
   },
   "source": [
    "import os\n",
    "from pathlib import Path\n",
    "\n",
    "# Save the original working directory (only once)\n",
    "try:\n",
    "    original_wd\n",
    "except NameError:\n",
    "    original_wd = os.getcwd()\n",
    "\n",
    "# Compute the target directory: two levels up from the original working directory\n",
    "# For example, if original_wd is /Users/username/project/notebooks,\n",
    "# then target_dir becomes /Users/username\n",
    "target_dir = Path(original_wd).parents[2]\n",
    "\n",
    "# Change the working directory to the target directory\n",
    "os.chdir(target_dir)\n",
    "print(\"Working directory set to:\", os.getcwd())"
   ],
   "outputs": [
    {
     "name": "stdout",
     "output_type": "stream",
     "text": [
      "Working directory set to: /home/jose/code/MainSequenceClientSide/mainsequence-sdk\n"
     ]
    }
   ],
   "execution_count": 1
  },
  {
   "cell_type": "code",
   "id": "405b0a22",
   "metadata": {
    "ExecuteTime": {
     "end_time": "2025-05-23T07:58:45.209605Z",
     "start_time": "2025-05-23T07:58:43.669447Z"
    }
   },
   "source": [
    "\n",
    "import dotenv\n",
    "env_loaded=dotenv.load_dotenv('.env')\n",
    "print(f\"Env file loaded: {env_loaded}\")\n",
    "import mainsequence \n",
    "from mainsequence.client import Asset, AssetFutureUSDM, AssetCurrencyPair,AssetCategory\n",
    "from mainsequence.client import MARKETS_CONSTANTS\n",
    "\n",
    "# Define execution venue symbols\n",
    "BINANCE_EV = MARKETS_CONSTANTS.BINANCE_EV_SYMBOL\n",
    "BINANCE_FUTURES_EV = MARKETS_CONSTANTS.BINANCE_FUTURES_EV_SYMBOL\n",
    "ALPACA_EV = MARKETS_CONSTANTS.ALPACA_EV_SYMBOL"
   ],
   "outputs": [
    {
     "name": "stdout",
     "output_type": "stream",
     "text": [
      "Env file loaded: True\n"
     ]
    },
    {
     "name": "stderr",
     "output_type": "stream",
     "text": [
      "\u001B[2m2025-05-23T07:58:44.171852Z\u001B[0m [\u001B[32m\u001B[1mdebug    \u001B[0m] \u001B[1mGetting Auth Headers ASSETS_ORM\u001B[0m \u001B[36mapplication_name\u001B[0m=\u001B[35mms-sdk\u001B[0m \u001B[36mdata_source_id\u001B[0m=\u001B[35m1\u001B[0m \u001B[36mjob_run_id\u001B[0m=\u001B[35mNone\u001B[0m \u001B[36mproject_id\u001B[0m=\u001B[35m1\u001B[0m (at utils.py:39 in refresh_headers())\n",
      "\u001B[2m2025-05-23T07:58:44.391345Z\u001B[0m [\u001B[32m\u001B[1mdebug    \u001B[0m] \u001B[1mGetting Auth Headers ASSETS_ORM\u001B[0m \u001B[36mapplication_name\u001B[0m=\u001B[35mms-sdk\u001B[0m \u001B[36mdata_source_id\u001B[0m=\u001B[35m1\u001B[0m \u001B[36mjob_run_id\u001B[0m=\u001B[35mNone\u001B[0m \u001B[36mproject_id\u001B[0m=\u001B[35m1\u001B[0m (at utils.py:39 in refresh_headers())\n",
      "\u001B[2m2025-05-23T07:58:44.788348Z\u001B[0m [\u001B[32m\u001B[1mdebug    \u001B[0m] \u001B[1mtook 0.3601 seconds. Requesting GET from http://127.0.0.1:8000/orm/api/pods/projects/get_user_default_project/\u001B[0m \u001B[36mapplication_name\u001B[0m=\u001B[35mms-sdk\u001B[0m \u001B[36mdata_source_id\u001B[0m=\u001B[35m1\u001B[0m \u001B[36mjob_run_id\u001B[0m=\u001B[35mNone\u001B[0m \u001B[36mproject_id\u001B[0m=\u001B[35m1\u001B[0m (at utils.py:95 in make_request())\n",
      "\u001B[2m2025-05-23T07:58:44.789438Z\u001B[0m [\u001B[32m\u001B[1minfo     \u001B[0m] \u001B[1mSet remote data source to orm_class='DataSource' id=1 display_name='Default TS GCP' organization=1 class_type='timescale_db' status='AVAILABLE' extra_arguments=None\u001B[0m \u001B[36mapplication_name\u001B[0m=\u001B[35mms-sdk\u001B[0m \u001B[36mdata_source_id\u001B[0m=\u001B[35m1\u001B[0m \u001B[36mjob_run_id\u001B[0m=\u001B[35mNone\u001B[0m \u001B[36mproject_id\u001B[0m=\u001B[35m1\u001B[0m (at models_tdag.py:2114 in set_remote_db())\n",
      "\u001B[2m2025-05-23T07:58:44.863152Z\u001B[0m [\u001B[32m\u001B[1mdebug    \u001B[0m] \u001B[1mGetting Auth Headers ASSETS_ORM\u001B[0m \u001B[36mapplication_name\u001B[0m=\u001B[35mms-sdk\u001B[0m \u001B[36mdata_source_id\u001B[0m=\u001B[35m1\u001B[0m \u001B[36mjob_run_id\u001B[0m=\u001B[35mNone\u001B[0m \u001B[36mproject_id\u001B[0m=\u001B[35m1\u001B[0m (at utils.py:39 in refresh_headers())\n",
      "\u001B[2m2025-05-23T07:58:45.207299Z\u001B[0m [\u001B[32m\u001B[1mdebug    \u001B[0m] \u001B[1mtook 0.3433 seconds. Requesting GET from http://127.0.0.1:8000/orm/api/assets/api/constants\u001B[0m \u001B[36mapplication_name\u001B[0m=\u001B[35mms-sdk\u001B[0m \u001B[36mdata_source_id\u001B[0m=\u001B[35m1\u001B[0m \u001B[36mjob_run_id\u001B[0m=\u001B[35mNone\u001B[0m \u001B[36mproject_id\u001B[0m=\u001B[35m1\u001B[0m (at utils.py:95 in make_request())\n"
     ]
    }
   ],
   "execution_count": 2
  },
  {
   "metadata": {},
   "cell_type": "markdown",
   "source": [
    "## Registering new assets\n",
    "\n",
    "Main Sequence Assets are closely aligned with the Open FIGI asset master list available at https://www.openfigi.com/. Each asset on the Main Sequence platform shares identical properties with its corresponding asset listed in Open FIGI. The primary difference on the Main Sequence platform is that each asset also includes a unique identifier determined by the execution venue.\n",
    "\n",
    "It is important to note that an execution venue is not always synonymous with an exchange. The execution venue refers to the entity or platform where the account holding the asset is maintained. For example, Interactive Brokers could be an execution venue. This means that within an Interactive Brokers account, one might hold NVDA shares listed on a specific exchange with a FIGI from https://www.openfigi.com/search?marketSector=All&searchTerms=NVDA. However, this holding must be differentiated from NVDA holdings maintained in an account at another execution venue, such as Alpaca. Although the FIGIs remain the same, the unique identifiers differ. On the Main Sequence platform, the unique identifier combines the asset ticker, FIGI, and the execution venue symbol.\n",
    "\n",
    "Given the extensive and continuously growing number of assets, not all are automatically registered in the Main Sequence platform. Nevertheless, users have the option to manually register assets at a specific execution venue using our client library."
   ],
   "id": "51b9b95c923db096"
  },
  {
   "metadata": {
    "ExecuteTime": {
     "end_time": "2025-05-23T07:58:47.006016Z",
     "start_time": "2025-05-23T07:58:45.262501Z"
    }
   },
   "cell_type": "code",
   "source": [
    "# we will register the following figi BBG014T46NC0 which corresponds  to NVDA trading in the Toronto Stock Exchange and BBG00GQ6S7X0 corresponds to NVDA in Vienna stock exchange\n",
    "figi_to_register=[\"BBG014T46NC0\",\"BBG00GQ6S7X0\"]\n",
    "for f in figi_to_register:\n",
    "    Asset.register_figi_as_asset_in_main_sequence_venue(figi=f,\n",
    "                                          timeout=100000\n",
    "                                          \n",
    "                                          )\n",
    "    registered_asset=Asset.get(figi=f,execution_venue__symbol=MARKETS_CONSTANTS.MAIN_SEQUENCE_EV)\n",
    "    registered_asset.pretty_print()\n"
   ],
   "id": "be858d05afc24ac0",
   "outputs": [
    {
     "name": "stderr",
     "output_type": "stream",
     "text": [
      "\u001B[2m2025-05-23T07:58:45.697329Z\u001B[0m [\u001B[32m\u001B[1mdebug    \u001B[0m] \u001B[1mtook 0.4337 seconds. Requesting POST from http://127.0.0.1:8000/orm/api/assets/asset/register_figi_as_asset_in_main_sequence_venue/\u001B[0m \u001B[36mapplication_name\u001B[0m=\u001B[35mms-sdk\u001B[0m \u001B[36mdata_source_id\u001B[0m=\u001B[35m1\u001B[0m \u001B[36mjob_run_id\u001B[0m=\u001B[35mNone\u001B[0m \u001B[36mproject_id\u001B[0m=\u001B[35m1\u001B[0m (at utils.py:95 in make_request())\n",
      "\u001B[2m2025-05-23T07:58:46.132327Z\u001B[0m [\u001B[32m\u001B[1mdebug    \u001B[0m] \u001B[1mtook 0.4322 seconds. Requesting GET from http://127.0.0.1:8000/orm/api/assets/asset/\u001B[0m \u001B[36mapplication_name\u001B[0m=\u001B[35mms-sdk\u001B[0m \u001B[36mdata_source_id\u001B[0m=\u001B[35m1\u001B[0m \u001B[36mjob_run_id\u001B[0m=\u001B[35mNone\u001B[0m \u001B[36mproject_id\u001B[0m=\u001B[35m1\u001B[0m (at utils.py:95 in make_request())\n"
     ]
    },
    {
     "name": "stdout",
     "output_type": "stream",
     "text": [
      "Property                  | Value                                                                        \n",
      "---------------------------------------------------------------------------------------------------------\n",
      "orm_class                 | Asset\n",
      "id                        | 32799\n",
      "can_trade                 | False\n",
      "execution_venue           | orm_class='ExecutionVenue' id=6 symbol='ms_share_class' name='Main Sequence '\n",
      "delisted_datetime         | None\n",
      "unique_identifier         | NVDA_ms_share_class_BBG014T46NC0\n",
      "real_figi                 | True\n",
      "is_custom_by_organization | False\n",
      "figi                      | BBG014T46NC0\n",
      "composite                 | BBG014T46N03\n",
      "ticker                    | NVDA\n",
      "security_type             | Canadian DR\n",
      "security_type_2           | Depositary Receipt\n",
      "security_market_sector    | Equity\n",
      "share_class               | BBG014T46P17\n",
      "exchange_code             | TX\n",
      "name                      | NVIDIA CORP-CDR\n",
      "main_sequence_share_class | NztvcOeykeuQ\n",
      "isin                      | None\n"
     ]
    },
    {
     "name": "stderr",
     "output_type": "stream",
     "text": [
      "\u001B[2m2025-05-23T07:58:46.561880Z\u001B[0m [\u001B[32m\u001B[1mdebug    \u001B[0m] \u001B[1mtook 0.4281 seconds. Requesting POST from http://127.0.0.1:8000/orm/api/assets/asset/register_figi_as_asset_in_main_sequence_venue/\u001B[0m \u001B[36mapplication_name\u001B[0m=\u001B[35mms-sdk\u001B[0m \u001B[36mdata_source_id\u001B[0m=\u001B[35m1\u001B[0m \u001B[36mjob_run_id\u001B[0m=\u001B[35mNone\u001B[0m \u001B[36mproject_id\u001B[0m=\u001B[35m1\u001B[0m (at utils.py:95 in make_request())\n",
      "\u001B[2m2025-05-23T07:58:47.003751Z\u001B[0m [\u001B[32m\u001B[1mdebug    \u001B[0m] \u001B[1mtook 0.4408 seconds. Requesting GET from http://127.0.0.1:8000/orm/api/assets/asset/\u001B[0m \u001B[36mapplication_name\u001B[0m=\u001B[35mms-sdk\u001B[0m \u001B[36mdata_source_id\u001B[0m=\u001B[35m1\u001B[0m \u001B[36mjob_run_id\u001B[0m=\u001B[35mNone\u001B[0m \u001B[36mproject_id\u001B[0m=\u001B[35m1\u001B[0m (at utils.py:95 in make_request())\n"
     ]
    },
    {
     "name": "stdout",
     "output_type": "stream",
     "text": [
      "Property                  | Value                                                                        \n",
      "---------------------------------------------------------------------------------------------------------\n",
      "orm_class                 | Asset\n",
      "id                        | 32800\n",
      "can_trade                 | False\n",
      "execution_venue           | orm_class='ExecutionVenue' id=6 symbol='ms_share_class' name='Main Sequence '\n",
      "delisted_datetime         | None\n",
      "unique_identifier         | NVDA_ms_share_class_BBG00GQ6S7X0\n",
      "real_figi                 | True\n",
      "is_custom_by_organization | False\n",
      "figi                      | BBG00GQ6S7X0\n",
      "composite                 | BBG00GQ6S7W1\n",
      "ticker                    | NVDA\n",
      "security_type             | Common Stock\n",
      "security_type_2           | Common Stock\n",
      "security_market_sector    | Equity\n",
      "share_class               | BBG001S5TZJ6\n",
      "exchange_code             | AV\n",
      "name                      | NVIDIA CORP\n",
      "main_sequence_share_class | m8qqW6CbSUAo\n",
      "isin                      | None\n"
     ]
    }
   ],
   "execution_count": 3
  },
  {
   "metadata": {},
   "cell_type": "markdown",
   "source": [
    "It is important to clarify what happens when we register an asset in the Main Sequence EV:\n",
    "\n",
    "1) An asset will always be created with a synthetic Fiji, inferred from a combination of ticker, exchange_code, security_type, market_sector, and security_type_2, with exchange_code set as None.\n",
    "\n",
    "2) The main_sequence_share_class is inferred from the combination of ticker, security_type, market_sector, and security_type_2. The purpose of this class is to enable working with the same asset across both backtesting and analysis environments without being dependent on a specific exchange. For instance, when referencing a fundamentals table, we want an NVDA asset representation that remains independent of any specific exchange_code.\n",
    "\n",
    "For this reason, in the example below, we have five assets with the ticker NVDA. One asset trades through Alpaca with a general US reference as its execution_venue and shares the same main_sequence_share_class as two other assets in the Main Sequence EV—one with no exchange code and one trading on the Vienna Stock Exchange."
   ],
   "id": "7d37920fd41d7861"
  },
  {
   "metadata": {
    "ExecuteTime": {
     "end_time": "2025-05-23T07:58:47.539843Z",
     "start_time": "2025-05-23T07:58:47.070260Z"
    }
   },
   "cell_type": "code",
   "source": [
    "assets_in_venue=Asset.filter(ticker=\"NVDA\")\n",
    "\n",
    "print(len(assets_in_venue))\n",
    "\n",
    "for a in assets_in_venue:\n",
    "    print(a.ticker,a.main_sequence_share_class,a.unique_identifier,a.exchange_code,a.execution_venue.symbol)\n",
    "   \n",
    "\n"
   ],
   "id": "9d5b4e051009588",
   "outputs": [
    {
     "name": "stderr",
     "output_type": "stream",
     "text": [
      "\u001B[2m2025-05-23T07:58:47.537270Z\u001B[0m [\u001B[32m\u001B[1mdebug    \u001B[0m] \u001B[1mtook 0.4660 seconds. Requesting GET from http://127.0.0.1:8000/orm/api/assets/asset/\u001B[0m \u001B[36mapplication_name\u001B[0m=\u001B[35mms-sdk\u001B[0m \u001B[36mdata_source_id\u001B[0m=\u001B[35m1\u001B[0m \u001B[36mjob_run_id\u001B[0m=\u001B[35mNone\u001B[0m \u001B[36mproject_id\u001B[0m=\u001B[35m1\u001B[0m (at utils.py:95 in make_request())\n"
     ]
    },
    {
     "name": "stdout",
     "output_type": "stream",
     "text": [
      "5\n",
      "NVDA m8qqW6CbSUAo NVDA_ms_share_class_m8qqW6CbSUAo None ms_share_class\n",
      "NVDA m8qqW6CbSUAo NVDA_alpaca_BBG000BBJQV0 US alpaca\n",
      "NVDA NztvcOeykeuQ NVDA_ms_share_class_l7bJT26orL54 None ms_share_class\n",
      "NVDA NztvcOeykeuQ NVDA_ms_share_class_BBG014T46NC0 TX ms_share_class\n",
      "NVDA m8qqW6CbSUAo NVDA_ms_share_class_BBG00GQ6S7X0 AV ms_share_class\n"
     ]
    }
   ],
   "execution_count": 4
  },
  {
   "metadata": {},
   "cell_type": "markdown",
   "source": [
    "### Registering Assets by ISIN\n",
    "\n",
    "\n",
    "\n"
   ],
   "id": "dcd592a4f41176c0"
  },
  {
   "metadata": {
    "ExecuteTime": {
     "end_time": "2025-05-23T07:58:48.014072Z",
     "start_time": "2025-05-23T07:58:47.557571Z"
    }
   },
   "cell_type": "code",
   "source": [
    "created_asset=Asset.get_or_register_figi_from_isin_as_asset_in_main_sequence_venue(isin=\"US46434V4077\",exchange_code=\"MF\", #Bolsa Mexican de Valores\n",
    "                                          timeout=100000\n",
    "\n",
    "                                          )\n",
    "created_asset.pretty_print()"
   ],
   "id": "23903f0d4bdfd61d",
   "outputs": [
    {
     "name": "stderr",
     "output_type": "stream",
     "text": [
      "\u001B[2m2025-05-23T07:58:48.011636Z\u001B[0m [\u001B[32m\u001B[1mdebug    \u001B[0m] \u001B[1mtook 0.4531 seconds. Requesting POST from http://127.0.0.1:8000/orm/api/assets/asset/get_or_register_figi_from_isin_as_asset_in_main_sequence_venue/\u001B[0m \u001B[36mapplication_name\u001B[0m=\u001B[35mms-sdk\u001B[0m \u001B[36mdata_source_id\u001B[0m=\u001B[35m1\u001B[0m \u001B[36mjob_run_id\u001B[0m=\u001B[35mNone\u001B[0m \u001B[36mproject_id\u001B[0m=\u001B[35m1\u001B[0m (at utils.py:95 in make_request())\n"
     ]
    },
    {
     "name": "stdout",
     "output_type": "stream",
     "text": [
      "Property                  | Value                                                                        \n",
      "---------------------------------------------------------------------------------------------------------\n",
      "orm_class                 | Asset\n",
      "id                        | 32809\n",
      "can_trade                 | False\n",
      "execution_venue           | orm_class='ExecutionVenue' id=6 symbol='ms_share_class' name='Main Sequence '\n",
      "delisted_datetime         | None\n",
      "unique_identifier         | SHYG*_ms_share_class_BBG00B0GXPL4\n",
      "real_figi                 | True\n",
      "is_custom_by_organization | False\n",
      "figi                      | BBG00B0GXPL4\n",
      "composite                 | BBG00B0GXPK5\n",
      "ticker                    | SHYG*\n",
      "security_type             | ETP\n",
      "security_type_2           | Mutual Fund\n",
      "security_market_sector    | Equity\n",
      "share_class               | BBG005DW06B7\n",
      "exchange_code             | MF\n",
      "name                      | ISHARES 0-5 YR HY CORP BOND\n",
      "main_sequence_share_class | rr9lXpSVRuqt\n",
      "isin                      | US46434V4077\n"
     ]
    }
   ],
   "execution_count": 5
  },
  {
   "metadata": {},
   "cell_type": "markdown",
   "source": [
    "### Registering a custom Asset\n",
    "Occasionally, you may encounter an asset that isn’t yet in the OpenFIGI database. In these edge cases, the Main Sequence platform lets you register custom assets on our execution venue. Although this can be useful, we strongly encourage you to request that both FIGIs and ISINs be added to OpenFIGI. If an instrument already has an ISIN but no FIGI, try to match its attributes—such as issuer, currency, maturity date, etc.—as closely as possible when creating the custom record.\n",
    "\n",
    "**Important**\n",
    "\n",
    "When you register a non-FIGI asset, the platform will infer the FIGI by concatenating its ticker, exchange_code, security_type, market_sector, and security_type_2. Likewise, the main_sequence_share_class is inferred from ticker, security_type, market_sector, and security_type_2. Finally, the asset’s unique identifier is always formatted as `f\"{asset.ticker}_{asset.execution_venue.symbol}_{asset.figi}_{request.user.organization.uuid}\"`\n",
    "\n",
    "Please note that Security Type, Security Type 2, Market Sector, and Exchange Code must appear on the allowed lists (see https://www.openfigi.com/api/documentation); if they do not, leave them as None.\n",
    "\n",
    "\n"
   ],
   "id": "bbb49e20f41fa25b"
  },
  {
   "metadata": {
    "ExecuteTime": {
     "end_time": "2025-05-23T07:58:54.001169Z",
     "start_time": "2025-05-23T07:58:48.019119Z"
    }
   },
   "cell_type": "code",
   "source": [
    "new_registered_custom_asset=Asset.get_or_register_custom_asset_in_main_sequence_venue(ticker=\"PBD\",\n",
    "                                                                                      name=\"PBD Custom Asset\",\n",
    "                                                                                    security_type=None,           # e.g. one of OpenFIGI’s Security Type values\n",
    "                                                                                    security_type_2=None,       # e.g. OpenFIGI SecurityType2\n",
    "                                                                                    security_market_sector=None,       # e.g. OpenFIGI Market Sector\n",
    "                                                                                    isin=\"US1234567890\",                      # your ISIN\n",
    "                                                                                    exchange_code=None\n",
    "                                                                                      )\n",
    "new_registered_custom_asset.pretty_print()"
   ],
   "id": "7e50c2f9b1aeb319",
   "outputs": [
    {
     "name": "stderr",
     "output_type": "stream",
     "text": [
      "\u001B[2m2025-05-23T07:58:53.998794Z\u001B[0m [\u001B[32m\u001B[1mdebug    \u001B[0m] \u001B[1mtook 5.9786 seconds. Requesting POST from http://127.0.0.1:8000/orm/api/assets/asset/get_or_register_custom_asset_in_main_sequence_venue/\u001B[0m \u001B[36mapplication_name\u001B[0m=\u001B[35mms-sdk\u001B[0m \u001B[36mdata_source_id\u001B[0m=\u001B[35m1\u001B[0m \u001B[36mjob_run_id\u001B[0m=\u001B[35mNone\u001B[0m \u001B[36mproject_id\u001B[0m=\u001B[35m1\u001B[0m (at utils.py:95 in make_request())\n"
     ]
    },
    {
     "name": "stdout",
     "output_type": "stream",
     "text": [
      "Property                  | Value                                                                        \n",
      "---------------------------------------------------------------------------------------------------------\n",
      "orm_class                 | Asset\n",
      "id                        | 32821\n",
      "can_trade                 | False\n",
      "execution_venue           | orm_class='ExecutionVenue' id=6 symbol='ms_share_class' name='Main Sequence '\n",
      "delisted_datetime         | None\n",
      "unique_identifier         | PBD_ms_share_class_ZU8QZaIUMTec\n",
      "real_figi                 | False\n",
      "is_custom_by_organization | True\n",
      "figi                      | ZU8QZaIUMTec\n",
      "composite                 | None\n",
      "ticker                    | PBD\n",
      "security_type             | None\n",
      "security_type_2           | None\n",
      "security_market_sector    | None\n",
      "share_class               | None\n",
      "exchange_code             | None\n",
      "name                      | PBD Custom Asset\n",
      "main_sequence_share_class | 5x49DhAHV2dF\n",
      "isin                      | US1234567890\n"
     ]
    }
   ],
   "execution_count": 6
  },
  {
   "cell_type": "markdown",
   "id": "afcbd633",
   "metadata": {},
   "source": [
    "## Optimal Asset Queries\n",
    "\n",
    "There are many assets, and there will always be more. We recommend narrowing your search so that the expected results are in the hundreds. If you need more assets, it is best to first create a category that encompasses those assets and then query by that category.\n",
    "\n",
    "A good way to start narrowing asset searches is by filtering on the execution venue and some FIGI properties. For example, if you want to retrieve the equivalent assets from one category on another exchange, you could do something like this:\n",
    "\n"
   ]
  },
  {
   "cell_type": "code",
   "id": "8f6338f5",
   "metadata": {
    "ExecuteTime": {
     "end_time": "2025-05-23T07:58:55.713066Z",
     "start_time": "2025-05-23T07:58:54.006681Z"
    }
   },
   "source": [
    "top_100_cryptos = AssetCategory.get(unique_identifier=\"top_100_crypto_market_cap\")\n",
    "\n",
    "# Switch to Binance categories\n",
    "spot_assets = Asset.filter(id__in=top_100_cryptos.assets)\n",
    "\n",
    "# Get them through the main sequence FIGI class and exchange\n",
    "binance_currency_pairs = AssetCurrencyPair.filter(\n",
    "    base_asset__main_sequence_share_class__in=[\n",
    "        a.main_sequence_share_class for a in spot_assets\n",
    "    ],\n",
    "    execution_venue__symbol=MARKETS_CONSTANTS.BINANCE_EV_SYMBOL,\n",
    "    quote_asset__ticker=\"USDT\",\n",
    "    include_base_quote_detail=False\n",
    ")\n",
    "\n"
   ],
   "outputs": [
    {
     "name": "stderr",
     "output_type": "stream",
     "text": [
      "\u001B[2m2025-05-23T07:58:54.505030Z\u001B[0m [\u001B[32m\u001B[1mdebug    \u001B[0m] \u001B[1mtook 0.4972 seconds. Requesting GET from http://127.0.0.1:8000/orm/api/assets/asset-category/\u001B[0m \u001B[36mapplication_name\u001B[0m=\u001B[35mms-sdk\u001B[0m \u001B[36mdata_source_id\u001B[0m=\u001B[35m1\u001B[0m \u001B[36mjob_run_id\u001B[0m=\u001B[35mNone\u001B[0m \u001B[36mproject_id\u001B[0m=\u001B[35m1\u001B[0m (at utils.py:95 in make_request())\n",
      "\u001B[2m2025-05-23T07:58:55.065547Z\u001B[0m [\u001B[32m\u001B[1mdebug    \u001B[0m] \u001B[1mtook 0.5587 seconds. Requesting GET from http://127.0.0.1:8000/orm/api/assets/asset/\u001B[0m \u001B[36mapplication_name\u001B[0m=\u001B[35mms-sdk\u001B[0m \u001B[36mdata_source_id\u001B[0m=\u001B[35m1\u001B[0m \u001B[36mjob_run_id\u001B[0m=\u001B[35mNone\u001B[0m \u001B[36mproject_id\u001B[0m=\u001B[35m1\u001B[0m (at utils.py:95 in make_request())\n",
      "\u001B[2m2025-05-23T07:58:55.707416Z\u001B[0m [\u001B[32m\u001B[1mdebug    \u001B[0m] \u001B[1mtook 0.6393 seconds. Requesting GET from http://127.0.0.1:8000/orm/api/assets/asset_currency_pair/\u001B[0m \u001B[36mapplication_name\u001B[0m=\u001B[35mms-sdk\u001B[0m \u001B[36mdata_source_id\u001B[0m=\u001B[35m1\u001B[0m \u001B[36mjob_run_id\u001B[0m=\u001B[35mNone\u001B[0m \u001B[36mproject_id\u001B[0m=\u001B[35m1\u001B[0m (at utils.py:95 in make_request())\n"
     ]
    }
   ],
   "execution_count": 7
  },
  {
   "cell_type": "markdown",
   "id": "3b1b34eb",
   "metadata": {},
   "source": [
    "## Filtering Assets by Type\n",
    "\n",
    "Different asset types have distinct properties, which can help you extend your filters. It's important to note that all asset types inherit from the Asset class. Therefore, you can always use the Asset class to access all assets and their general properties."
   ]
  },
  {
   "cell_type": "code",
   "id": "774acb7a",
   "metadata": {
    "ExecuteTime": {
     "end_time": "2025-05-23T07:58:57.579963Z",
     "start_time": "2025-05-23T07:58:55.717839Z"
    }
   },
   "source": [
    "# Filtering Simple Assets\n",
    "simple_assets = Asset.filter(ticker=\"BTCUSDT\")\n",
    "print(f\"Total Spot Crypto Assets on Binance: {len(simple_assets)}\")\n",
    "\n",
    "# Filtering Futures\n",
    "cash_equity_assets = AssetCurrencyPair.filter(ticker=\"BTCUSDT\")\n",
    "print(f\"Total Assets CurrencyPair Assets : {len(cash_equity_assets)}\")\n",
    "\n",
    "# Filtering  Futures USDM Assets\n",
    "futures_assets= AssetFutureUSDM.filter(ticker=\"BTCUSDT\")\n",
    "print(f\"Total Futures Assets : {len(futures_assets)}\")\n",
    "\n",
    "\n"
   ],
   "outputs": [
    {
     "name": "stderr",
     "output_type": "stream",
     "text": [
      "\u001B[2m2025-05-23T07:58:56.261161Z\u001B[0m [\u001B[32m\u001B[1mdebug    \u001B[0m] \u001B[1mtook 0.5423 seconds. Requesting GET from http://127.0.0.1:8000/orm/api/assets/asset/\u001B[0m \u001B[36mapplication_name\u001B[0m=\u001B[35mms-sdk\u001B[0m \u001B[36mdata_source_id\u001B[0m=\u001B[35m1\u001B[0m \u001B[36mjob_run_id\u001B[0m=\u001B[35mNone\u001B[0m \u001B[36mproject_id\u001B[0m=\u001B[35m1\u001B[0m (at utils.py:95 in make_request())\n"
     ]
    },
    {
     "name": "stdout",
     "output_type": "stream",
     "text": [
      "Total Spot Crypto Assets on Binance: 5\n"
     ]
    },
    {
     "name": "stderr",
     "output_type": "stream",
     "text": [
      "\u001B[2m2025-05-23T07:58:56.910348Z\u001B[0m [\u001B[32m\u001B[1mdebug    \u001B[0m] \u001B[1mtook 0.6479 seconds. Requesting GET from http://127.0.0.1:8000/orm/api/assets/asset_currency_pair/\u001B[0m \u001B[36mapplication_name\u001B[0m=\u001B[35mms-sdk\u001B[0m \u001B[36mdata_source_id\u001B[0m=\u001B[35m1\u001B[0m \u001B[36mjob_run_id\u001B[0m=\u001B[35mNone\u001B[0m \u001B[36mproject_id\u001B[0m=\u001B[35m1\u001B[0m (at utils.py:95 in make_request())\n"
     ]
    },
    {
     "name": "stdout",
     "output_type": "stream",
     "text": [
      "Total Assets CurrencyPair Assets : 3\n"
     ]
    },
    {
     "name": "stderr",
     "output_type": "stream",
     "text": [
      "\u001B[2m2025-05-23T07:58:57.575829Z\u001B[0m [\u001B[32m\u001B[1mdebug    \u001B[0m] \u001B[1mtook 0.6642 seconds. Requesting GET from http://127.0.0.1:8000/orm/api/assets/asset_future_usdm/\u001B[0m \u001B[36mapplication_name\u001B[0m=\u001B[35mms-sdk\u001B[0m \u001B[36mdata_source_id\u001B[0m=\u001B[35m1\u001B[0m \u001B[36mjob_run_id\u001B[0m=\u001B[35mNone\u001B[0m \u001B[36mproject_id\u001B[0m=\u001B[35m1\u001B[0m (at utils.py:95 in make_request())\n"
     ]
    },
    {
     "name": "stdout",
     "output_type": "stream",
     "text": [
      "Total Futures Assets : 2\n"
     ]
    }
   ],
   "execution_count": 8
  },
  {
   "cell_type": "markdown",
   "id": "a62206ee331bcdce",
   "metadata": {},
   "source": [
    "## Using `filter_with_asset_class`\n",
    "\n",
    "The `filter_with_asset_class` method is an extended version of the `filter` method.\n",
    "It ensures that each returned asset is an instance of its correct class \n",
    "\n",
    "### When to Use?\n",
    "- When querying multiple asset types and needing them returned with the correct class.\n",
    "- When working with assets across execution venues and requiring proper type differentiation.\n",
    "\n",
    "### Example 1: Query all asset types for a symbol\n"
   ]
  },
  {
   "cell_type": "code",
   "id": "70673bbb7dfd95a5",
   "metadata": {
    "ExecuteTime": {
     "end_time": "2025-05-23T07:58:58.785477Z",
     "start_time": "2025-05-23T07:58:57.588321Z"
    }
   },
   "source": [
    "# Query Binance Spot assets with correct asset classes\n",
    "all_btc_assets = Asset.filter_with_asset_class(ticker=\"BTCUSDT\")\n",
    "\n",
    "# Displaying asset information\n",
    "for asset in all_btc_assets:\n",
    "    print(f\"Asset: {asset.ticker},  Class: {type(asset).__name__}\")\n"
   ],
   "outputs": [
    {
     "name": "stderr",
     "output_type": "stream",
     "text": [
      "\u001B[2m2025-05-23T07:58:58.782946Z\u001B[0m [\u001B[32m\u001B[1mdebug    \u001B[0m] \u001B[1mtook 1.1939 seconds. Requesting GET from http://127.0.0.1:8000/orm/api/assets/asset/list_with_asset_class/\u001B[0m \u001B[36mapplication_name\u001B[0m=\u001B[35mms-sdk\u001B[0m \u001B[36mdata_source_id\u001B[0m=\u001B[35m1\u001B[0m \u001B[36mjob_run_id\u001B[0m=\u001B[35mNone\u001B[0m \u001B[36mproject_id\u001B[0m=\u001B[35m1\u001B[0m (at utils.py:95 in make_request())\n"
     ]
    },
    {
     "name": "stdout",
     "output_type": "stream",
     "text": [
      "Asset: BTCUSDT,  Class: AssetCurrencyPair\n",
      "Asset: BTCUSDT,  Class: AssetFutureUSDM\n",
      "Asset: BTCUSDT,  Class: AssetFutureUSDM\n",
      "Asset: BTCUSDT,  Class: AssetCurrencyPair\n",
      "Asset: BTCUSDT,  Class: AssetCurrencyPair\n"
     ]
    }
   ],
   "execution_count": 9
  },
  {
   "cell_type": "markdown",
   "id": "a2c3af44",
   "metadata": {},
   "source": [
    "### Example 2: Using FIGI Information to Narrow Down Results\n",
    "\n",
    "Now imagine we only want currency pairs instead of futures.\n",
    " In this case, we can use FIGI details to identify the asset classes we are specifically interested in.\n",
    "\n"
   ]
  },
  {
   "cell_type": "code",
   "id": "7f747286",
   "metadata": {
    "ExecuteTime": {
     "end_time": "2025-05-23T07:58:59.627848Z",
     "start_time": "2025-05-23T07:58:58.795447Z"
    }
   },
   "source": [
    "all_curreny_pairs_bitcoin= Asset.filter_with_asset_class(ticker=\"BTCUSDT\",\n",
    "security_market_sector=MARKETS_CONSTANTS.FIGI_MARKET_SECTOR_CURNCY,\n",
    "security_type=MARKETS_CONSTANTS.FIGI_SECURITY_TYPE_CRYPTO\n",
    ")\n",
    "\n",
    "print(all_curreny_pairs_bitcoin)"
   ],
   "outputs": [
    {
     "name": "stderr",
     "output_type": "stream",
     "text": [
      "\u001B[2m2025-05-23T07:58:59.625521Z\u001B[0m [\u001B[32m\u001B[1mdebug    \u001B[0m] \u001B[1mtook 0.8293 seconds. Requesting GET from http://127.0.0.1:8000/orm/api/assets/asset/list_with_asset_class/\u001B[0m \u001B[36mapplication_name\u001B[0m=\u001B[35mms-sdk\u001B[0m \u001B[36mdata_source_id\u001B[0m=\u001B[35m1\u001B[0m \u001B[36mjob_run_id\u001B[0m=\u001B[35mNone\u001B[0m \u001B[36mproject_id\u001B[0m=\u001B[35m1\u001B[0m (at utils.py:95 in make_request())\n"
     ]
    },
    {
     "name": "stdout",
     "output_type": "stream",
     "text": [
      "[AssetCurrencyPair: BTCUSDT_ms_share_class_MSyq4PRl58KI, AssetCurrencyPair: BTCUSDT_bnce_xF5EceMkk2S4, AssetCurrencyPair: BTCUSDT_bnf8_29EIYV7huAXC]\n"
     ]
    }
   ],
   "execution_count": 10
  },
  {
   "metadata": {},
   "cell_type": "markdown",
   "source": [
    "\n",
    "\n",
    "\n",
    "\n"
   ],
   "id": "bd911117b52906e9"
  },
  {
   "cell_type": "code",
   "id": "ebffcdcd",
   "metadata": {
    "ExecuteTime": {
     "end_time": "2025-05-23T07:58:59.642273Z",
     "start_time": "2025-05-23T07:58:59.641093Z"
    }
   },
   "source": [],
   "outputs": [],
   "execution_count": null
  },
  {
   "cell_type": "markdown",
   "id": "31f854f5",
   "metadata": {},
   "source": []
  }
 ],
 "metadata": {
  "kernelspec": {
   "display_name": "venv",
   "language": "python",
   "name": "python3"
  },
  "language_info": {
   "codemirror_mode": {
    "name": "ipython",
    "version": 3
   },
   "file_extension": ".py",
   "mimetype": "text/x-python",
   "name": "python",
   "nbconvert_exporter": "python",
   "pygments_lexer": "ipython3",
   "version": "3.9.19"
  }
 },
 "nbformat": 4,
 "nbformat_minor": 5
}
