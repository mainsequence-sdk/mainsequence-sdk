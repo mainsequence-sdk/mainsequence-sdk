{
 "cells": [
  {
   "cell_type": "markdown",
   "id": "d53b9d22",
   "metadata": {},
   "source": [
    "# Interacting with Assets in VAM API\n",
    "\n",
    "This notebook provides a comprehensive guide on how to interact with different types of assets using the VAM API.\n",
    "We will cover:\n",
    "- Querying different asset types\n",
    "- Filtering assets by execution venue\n",
    "- Working with different asset types like spot, futures, and equity\n",
    "- Performing batch operations\n",
    "\n",
    "For this example, we will use the following assets:\n",
    "- **Binance Spot**: `BTCUSDT`, `ETHUSDT`\n",
    "- **Binance Futures**: `BTCUSDT`, `ETHUSDT`\n",
    "- **Alpaca Equity**: `NVDA`, `MSFT`\n",
    "\n",
    "We will demonstrate how to query assets across these execution venues.\n"
   ]
  },
  {
   "metadata": {
    "ExecuteTime": {
     "end_time": "2025-02-27T11:03:42.754323Z",
     "start_time": "2025-02-27T11:03:42.752724Z"
    }
   },
   "cell_type": "code",
   "source": "",
   "id": "713cedfebca6c6f6",
   "outputs": [],
   "execution_count": null
  },
  {
   "cell_type": "code",
   "id": "405b0a22",
   "metadata": {
    "ExecuteTime": {
     "end_time": "2025-04-10T10:44:39.738479Z",
     "start_time": "2025-04-10T10:44:37.875245Z"
    }
   },
   "source": [
    "\n",
    "import dotenv\n",
    "dotenv.load_dotenv('../../../.env')\n",
    "import mainsequence    \n",
    "from mainsequence.client import Asset, AssetFutureUSDM, AssetCurrencyPair,AssetCategory\n",
    "from mainsequence.client import MARKETS_CONSTANTS\n",
    "\n",
    "# Define execution venue symbols\n",
    "BINANCE_EV = MARKETS_CONSTANTS.BINANCE_EV_SYMBOL\n",
    "BINANCE_FUTURES_EV = MARKETS_CONSTANTS.BINANCE_FUTURES_EV_SYMBOL\n",
    "ALPACA_EV = MARKETS_CONSTANTS.ALPACA_EV_SYMBOL"
   ],
   "outputs": [],
   "execution_count": 1
  },
  {
   "cell_type": "markdown",
   "id": "3f33bb0e",
   "metadata": {},
   "source": [
    "## Querying All Assets\n",
    "\n",
    "To get all assets available in the system, we can use the `Asset.filter()` method.\n"
   ]
  },
  {
   "cell_type": "markdown",
   "id": "afcbd633",
   "metadata": {},
   "source": [
    "## Optimal Asset Queries\n",
    "\n",
    "There are many assets, and there will always be more. We recommend narrowing your search so that the expected results are in the hundreds. If you need more assets, it is best to first create a category that encompasses those assets and then query by that category.\n",
    "\n",
    "A good way to start narrowing asset searches is by filtering on the execution venue and some FIGI properties. For example, if you want to retrieve the equivalent assets from one category on another exchange, you could do something like this:\n",
    "\n"
   ]
  },
  {
   "cell_type": "code",
   "id": "8f6338f5",
   "metadata": {
    "ExecuteTime": {
     "end_time": "2025-04-10T10:44:46.188826Z",
     "start_time": "2025-04-10T10:44:42.321630Z"
    }
   },
   "source": [
    "top_100_cryptos = AssetCategory.get(unique_identifier=\"top_100_crypto_market_cap\")\n",
    "\n",
    "# Switch to Binance categories\n",
    "spot_assets = Asset.filter(id__in=top_100_cryptos.assets)\n",
    "\n",
    "# Get them through the main sequence FIGI class and exchange\n",
    "binance_currency_pairs = AssetCurrencyPair.filter(\n",
    "    base_asset__figi_details__main_sequence_share_class__in=[\n",
    "        a.figi_details.main_sequence_share_class for a in spot_assets\n",
    "    ],\n",
    "    execution_venue__symbol=MARKETS_CONSTANTS.BINANCE_EV_SYMBOL,\n",
    "    quote_asset__symbol=\"USDT\",\n",
    "    include_base_quote_detail=False\n",
    ")\n",
    "\n"
   ],
   "outputs": [],
   "execution_count": 2
  },
  {
   "cell_type": "markdown",
   "id": "3b1b34eb",
   "metadata": {},
   "source": [
    "## Filtering Assets by Type\n",
    "\n",
    "Different asset types have distinct properties, which can help you extend your filters. It's important to note that all asset types inherit from the Asset class. Therefore, you can always use the Asset class to access all assets and their general properties."
   ]
  },
  {
   "cell_type": "code",
   "id": "774acb7a",
   "metadata": {
    "ExecuteTime": {
     "end_time": "2025-04-10T10:44:52.113782Z",
     "start_time": "2025-04-10T10:44:49.823237Z"
    }
   },
   "source": [
    "# Filtering Simple Assets\n",
    "simple_assets = Asset.filter(symbol=\"BTCUSDT\")\n",
    "print(f\"Total Spot Crypto Assets on Binance: {len(simple_assets)}\")\n",
    "\n",
    "# Filtering Futures\n",
    "cash_equity_assets = AssetCurrencyPair.filter(symbol=\"BTCUSDT\")\n",
    "print(f\"Total Assets CurrencyPair Assets : {len(cash_equity_assets)}\")\n",
    "\n",
    "# Filtering  Futures USDM Assets\n",
    "futures_assets= AssetFutureUSDM.filter(symbol=\"BTCUSDT\")\n",
    "print(f\"Total Futures Assets : {len(futures_assets)}\")\n",
    "\n",
    "\n"
   ],
   "outputs": [
    {
     "name": "stdout",
     "output_type": "stream",
     "text": [
      "Total Spot Crypto Assets on Binance: 5\n",
      "Total Assets CurrencyPair Assets : 3\n",
      "Total Futures Assets : 2\n"
     ]
    }
   ],
   "execution_count": 3
  },
  {
   "metadata": {
    "ExecuteTime": {
     "end_time": "2025-04-10T10:46:22.553509Z",
     "start_time": "2025-04-10T10:46:22.546491Z"
    }
   },
   "cell_type": "code",
   "source": "",
   "id": "ff6587014176e6a3",
   "outputs": [
    {
     "data": {
      "text/plain": [
       "[Asset: 192404, Asset: 200468, Asset: 200470, Asset: 192403, Asset: 200469]"
      ]
     },
     "execution_count": 10,
     "metadata": {},
     "output_type": "execute_result"
    }
   ],
   "execution_count": 10
  },
  {
   "metadata": {
    "ExecuteTime": {
     "end_time": "2025-04-10T10:46:10.909473Z",
     "start_time": "2025-04-10T10:46:04.553861Z"
    }
   },
   "cell_type": "code",
   "source": "",
   "id": "56d219f8c15ff836",
   "outputs": [
    {
     "data": {
      "text/plain": [
       "[Asset: 192404, Asset: 200468, Asset: 200470, Asset: 192403, Asset: 200469]"
      ]
     },
     "execution_count": 9,
     "metadata": {},
     "output_type": "execute_result"
    }
   ],
   "execution_count": 9
  },
  {
   "metadata": {},
   "cell_type": "markdown",
   "source": [
    "## Using `filter_with_asset_class`\n",
    "\n",
    "The `filter_with_asset_class` method is an extended version of the `filter` method.\n",
    "It ensures that each returned asset is an instance of its correct class based on its `asset_type`.\n",
    "\n",
    "### When to Use?\n",
    "- When querying multiple asset types and needing them returned with the correct class.\n",
    "- When working with assets across execution venues and requiring proper type differentiation.\n",
    "\n",
    "### Example 1: Query Binance Spot Assets with Correct Classes\n"
   ],
   "id": "a62206ee331bcdce"
  },
  {
   "metadata": {
    "ExecuteTime": {
     "end_time": "2025-02-27T11:11:41.463594918Z",
     "start_time": "2025-02-27T11:00:27.305070Z"
    }
   },
   "cell_type": "code",
   "source": [
    "# Query Binance Spot assets with correct asset classes\n",
    "binance_assets = Asset.filter_with_asset_class(symbol=\"BTCUSDT\")\n",
    "\n",
    "# Displaying asset information\n",
    "for asset in binance_assets:\n",
    "    print(f\"Asset: {asset.symbol}, Type: {asset.asset_type}, Class: {type(asset).__name__}\")\n"
   ],
   "id": "70673bbb7dfd95a5",
   "outputs": [
    {
     "ename": "ValidationError",
     "evalue": "2 validation errors for BinanceCurrencyPair\nbase_asset\n  Field required [type=missing, input_value={'id': 11489, 'symbol': '...'unique_symbol': 'LINK'}, input_type=dict]\n    For further information visit https://errors.pydantic.dev/2.10/v/missing\nquote_asset\n  Field required [type=missing, input_value={'id': 11489, 'symbol': '...'unique_symbol': 'LINK'}, input_type=dict]\n    For further information visit https://errors.pydantic.dev/2.10/v/missing",
     "output_type": "error",
     "traceback": [
      "\u001B[0;31m---------------------------------------------------------------------------\u001B[0m",
      "\u001B[0;31mValidationError\u001B[0m                           Traceback (most recent call last)",
      "Cell \u001B[0;32mIn[2], line 2\u001B[0m\n\u001B[1;32m      1\u001B[0m \u001B[38;5;66;03m# Query Binance Spot assets with correct asset classes\u001B[39;00m\n\u001B[0;32m----> 2\u001B[0m binance_assets \u001B[38;5;241m=\u001B[39m \u001B[43mAsset\u001B[49m\u001B[38;5;241;43m.\u001B[39;49m\u001B[43mfilter_with_asset_class\u001B[49m\u001B[43m(\u001B[49m\u001B[43mexecution_venue__symbol\u001B[49m\u001B[38;5;241;43m=\u001B[39;49m\u001B[43mCONSTANTS\u001B[49m\u001B[38;5;241;43m.\u001B[39;49m\u001B[43mBINANCE_EV_SYMBOL\u001B[49m\u001B[43m)\u001B[49m\n\u001B[1;32m      4\u001B[0m \u001B[38;5;66;03m# Displaying asset information\u001B[39;00m\n\u001B[1;32m      5\u001B[0m \u001B[38;5;28;01mfor\u001B[39;00m asset \u001B[38;5;129;01min\u001B[39;00m binance_assets:\n",
      "File \u001B[0;32m~/code/MainSequenceClientSide/mainsequence-sdk/mainsequence/vam_client/models.py:625\u001B[0m, in \u001B[0;36mAssetMixin.filter_with_asset_class\u001B[0;34m(cls, timeout, *args, **kwargs)\u001B[0m\n\u001B[1;32m    622\u001B[0m     params \u001B[38;5;241m=\u001B[39m \u001B[38;5;28;01mNone\u001B[39;00m\n\u001B[1;32m    624\u001B[0m \u001B[38;5;66;03m# Convert the accumulated raw data into asset instances with correct classes\u001B[39;00m\n\u001B[0;32m--> 625\u001B[0m \u001B[38;5;28;01mreturn\u001B[39;00m \u001B[43mcreate_from_serializer_with_class\u001B[49m\u001B[43m(\u001B[49m\u001B[43mall_results\u001B[49m\u001B[43m)\u001B[49m\n",
      "File \u001B[0;32m~/code/MainSequenceClientSide/mainsequence-sdk/mainsequence/vam_client/models_helpers.py:43\u001B[0m, in \u001B[0;36mcreate_from_serializer_with_class\u001B[0;34m(asset_list)\u001B[0m\n\u001B[1;32m     41\u001B[0m     AssetClass\u001B[38;5;241m=\u001B[39mget_model_class(a[\u001B[38;5;124m\"\u001B[39m\u001B[38;5;124mAssetClass\u001B[39m\u001B[38;5;124m\"\u001B[39m])\n\u001B[1;32m     42\u001B[0m     a\u001B[38;5;241m.\u001B[39mpop(\u001B[38;5;124m\"\u001B[39m\u001B[38;5;124mAssetClass\u001B[39m\u001B[38;5;124m\"\u001B[39m)\n\u001B[0;32m---> 43\u001B[0m     new_list\u001B[38;5;241m.\u001B[39mappend(\u001B[43mAssetClass\u001B[49m\u001B[43m(\u001B[49m\u001B[38;5;241;43m*\u001B[39;49m\u001B[38;5;241;43m*\u001B[39;49m\u001B[43ma\u001B[49m\u001B[43m)\u001B[49m)\n\u001B[1;32m     44\u001B[0m \u001B[38;5;28;01mreturn\u001B[39;00m new_list\n",
      "File \u001B[0;32m~/code/MainSequenceClientSide/mainsequence-sdk/venv/lib/python3.9/site-packages/pydantic/main.py:214\u001B[0m, in \u001B[0;36mBaseModel.__init__\u001B[0;34m(self, **data)\u001B[0m\n\u001B[1;32m    212\u001B[0m \u001B[38;5;66;03m# `__tracebackhide__` tells pytest and some other tools to omit this function from tracebacks\u001B[39;00m\n\u001B[1;32m    213\u001B[0m __tracebackhide__ \u001B[38;5;241m=\u001B[39m \u001B[38;5;28;01mTrue\u001B[39;00m\n\u001B[0;32m--> 214\u001B[0m validated_self \u001B[38;5;241m=\u001B[39m \u001B[38;5;28;43mself\u001B[39;49m\u001B[38;5;241;43m.\u001B[39;49m\u001B[43m__pydantic_validator__\u001B[49m\u001B[38;5;241;43m.\u001B[39;49m\u001B[43mvalidate_python\u001B[49m\u001B[43m(\u001B[49m\u001B[43mdata\u001B[49m\u001B[43m,\u001B[49m\u001B[43m \u001B[49m\u001B[43mself_instance\u001B[49m\u001B[38;5;241;43m=\u001B[39;49m\u001B[38;5;28;43mself\u001B[39;49m\u001B[43m)\u001B[49m\n\u001B[1;32m    215\u001B[0m \u001B[38;5;28;01mif\u001B[39;00m \u001B[38;5;28mself\u001B[39m \u001B[38;5;129;01mis\u001B[39;00m \u001B[38;5;129;01mnot\u001B[39;00m validated_self:\n\u001B[1;32m    216\u001B[0m     warnings\u001B[38;5;241m.\u001B[39mwarn(\n\u001B[1;32m    217\u001B[0m         \u001B[38;5;124m'\u001B[39m\u001B[38;5;124mA custom validator is returning a value other than `self`.\u001B[39m\u001B[38;5;130;01m\\n\u001B[39;00m\u001B[38;5;124m'\u001B[39m\n\u001B[1;32m    218\u001B[0m         \u001B[38;5;124m\"\u001B[39m\u001B[38;5;124mReturning anything other than `self` from a top level model validator isn\u001B[39m\u001B[38;5;124m'\u001B[39m\u001B[38;5;124mt supported when validating via `__init__`.\u001B[39m\u001B[38;5;130;01m\\n\u001B[39;00m\u001B[38;5;124m\"\u001B[39m\n\u001B[1;32m    219\u001B[0m         \u001B[38;5;124m'\u001B[39m\u001B[38;5;124mSee the `model_validator` docs (https://docs.pydantic.dev/latest/concepts/validators/#model-validators) for more details.\u001B[39m\u001B[38;5;124m'\u001B[39m,\n\u001B[1;32m    220\u001B[0m         stacklevel\u001B[38;5;241m=\u001B[39m\u001B[38;5;241m2\u001B[39m,\n\u001B[1;32m    221\u001B[0m     )\n",
      "\u001B[0;31mValidationError\u001B[0m: 2 validation errors for BinanceCurrencyPair\nbase_asset\n  Field required [type=missing, input_value={'id': 11489, 'symbol': '...'unique_symbol': 'LINK'}, input_type=dict]\n    For further information visit https://errors.pydantic.dev/2.10/v/missing\nquote_asset\n  Field required [type=missing, input_value={'id': 11489, 'symbol': '...'unique_symbol': 'LINK'}, input_type=dict]\n    For further information visit https://errors.pydantic.dev/2.10/v/missing"
     ]
    }
   ],
   "execution_count": 9
  },
  {
   "cell_type": "markdown",
   "id": "f5864c80",
   "metadata": {},
   "source": [
    "### Example 2: Query Binance Futures and Alpaca Equity Assets\n",
    "\n",
    "This example demonstrates how the method ensures each asset is returned with its appropriate class.\n"
   ]
  },
  {
   "cell_type": "code",
   "execution_count": null,
   "id": "435ba7ae",
   "metadata": {},
   "outputs": [],
   "source": [
    "# Query Binance Futures and Alpaca Equity Assets with correct classes\n",
    "binance_futures_assets = Asset.filter_with_asset_class(execution_venue__symbol=CONSTANTS.BINANCE_FUTURES_EV_SYMBOL)\n",
    "alpaca_equity_assets = Asset.filter_with_asset_class(execution_venue__symbol=CONSTANTS.ALPACA_EV_SYMBOL)\n",
    "\n",
    "# Displaying results\n",
    "for asset in binance_futures_assets + alpaca_equity_assets:\n",
    "    print(f\"Asset: {asset.symbol}, Type: {asset.asset_type}, Class: {type(asset).__name__}\")"
   ]
  }
 ],
 "metadata": {
  "kernelspec": {
   "name": "python3",
   "language": "python",
   "display_name": "Python 3 (ipykernel)"
  }
 },
 "nbformat": 4,
 "nbformat_minor": 5
}
