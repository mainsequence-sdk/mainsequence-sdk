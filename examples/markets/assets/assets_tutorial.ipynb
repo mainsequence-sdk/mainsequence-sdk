{
 "cells": [
  {
   "cell_type": "markdown",
   "id": "d53b9d22",
   "metadata": {},
   "source": [
    "# Interacting with Assets in VAM API\n",
    "\n",
    "This notebook provides a comprehensive guide on how to interact with different types of assets using the VAM API.\n",
    "We will cover:\n",
    "- Querying different asset types\n",
    "- Filtering assets by execution venue\n",
    "- Working with different asset types like spot, futures, and equity\n",
    "- Performing batch operations\n",
    "\n",
    "\n",
    "\n",
    "We will demonstrate how to query assets across these execution venues.\n"
   ]
  },
  {
   "cell_type": "code",
   "id": "713cedfebca6c6f6",
   "metadata": {
    "ExecuteTime": {
     "end_time": "2025-05-12T07:22:34.469814Z",
     "start_time": "2025-05-12T07:22:34.464916Z"
    }
   },
   "source": [
    "import os\n",
    "from pathlib import Path\n",
    "\n",
    "# Save the original working directory (only once)\n",
    "try:\n",
    "    original_wd\n",
    "except NameError:\n",
    "    original_wd = os.getcwd()\n",
    "\n",
    "# Compute the target directory: two levels up from the original working directory\n",
    "# For example, if original_wd is /Users/username/project/notebooks,\n",
    "# then target_dir becomes /Users/username\n",
    "target_dir = Path(original_wd).parents[2]\n",
    "\n",
    "# Change the working directory to the target directory\n",
    "os.chdir(target_dir)\n",
    "print(\"Working directory set to:\", os.getcwd())"
   ],
   "outputs": [
    {
     "name": "stdout",
     "output_type": "stream",
     "text": [
      "Working directory set to: /home/jose/code/MainSequenceClientSide/mainsequence-sdk\n"
     ]
    }
   ],
   "execution_count": 1
  },
  {
   "cell_type": "code",
   "id": "405b0a22",
   "metadata": {
    "ExecuteTime": {
     "end_time": "2025-05-12T07:22:38.150441Z",
     "start_time": "2025-05-12T07:22:36.608775Z"
    }
   },
   "source": [
    "\n",
    "import dotenv\n",
    "dotenv.load_dotenv('.env')\n",
    "\n",
    "import mainsequence \n",
    "from mainsequence.client import Asset, AssetFutureUSDM, AssetCurrencyPair,AssetCategory\n",
    "from mainsequence.client import MARKETS_CONSTANTS\n",
    "\n",
    "# Define execution venue symbols\n",
    "BINANCE_EV = MARKETS_CONSTANTS.BINANCE_EV_SYMBOL\n",
    "BINANCE_FUTURES_EV = MARKETS_CONSTANTS.BINANCE_FUTURES_EV_SYMBOL\n",
    "ALPACA_EV = MARKETS_CONSTANTS.ALPACA_EV_SYMBOL"
   ],
   "outputs": [
    {
     "name": "stderr",
     "output_type": "stream",
     "text": [
      "\u001B[2m2025-05-12T07:22:37.109207Z\u001B[0m [\u001B[32m\u001B[1mdebug    \u001B[0m] \u001B[1mGetting Auth Headers ASSETS_ORM\u001B[0m \u001B[36mapplication_name\u001B[0m=\u001B[35mms-sdk\u001B[0m \u001B[36mdata_source_id\u001B[0m=\u001B[35m1\u001B[0m \u001B[36mjob_run_id\u001B[0m=\u001B[35mNone\u001B[0m \u001B[36mproject_id\u001B[0m=\u001B[35m1\u001B[0m (at utils.py:39 in refresh_headers())\n",
      "\u001B[2m2025-05-12T07:22:37.379367Z\u001B[0m [\u001B[32m\u001B[1mdebug    \u001B[0m] \u001B[1mGetting Auth Headers ASSETS_ORM\u001B[0m \u001B[36mapplication_name\u001B[0m=\u001B[35mms-sdk\u001B[0m \u001B[36mdata_source_id\u001B[0m=\u001B[35m1\u001B[0m \u001B[36mjob_run_id\u001B[0m=\u001B[35mNone\u001B[0m \u001B[36mproject_id\u001B[0m=\u001B[35m1\u001B[0m (at utils.py:39 in refresh_headers())\n",
      "\u001B[2m2025-05-12T07:22:37.751848Z\u001B[0m [\u001B[32m\u001B[1mdebug    \u001B[0m] \u001B[1mtook 0.3607 seconds. Requesting GET from http://127.0.0.1:8000/orm/api/pods/projects/get_user_default_project/\u001B[0m \u001B[36mapplication_name\u001B[0m=\u001B[35mms-sdk\u001B[0m \u001B[36mdata_source_id\u001B[0m=\u001B[35m1\u001B[0m \u001B[36mjob_run_id\u001B[0m=\u001B[35mNone\u001B[0m \u001B[36mproject_id\u001B[0m=\u001B[35m1\u001B[0m (at utils.py:95 in make_request())\n",
      "\u001B[2m2025-05-12T07:22:37.753095Z\u001B[0m [\u001B[32m\u001B[1minfo     \u001B[0m] \u001B[1mSet remote data source to orm_class='DataSource' id=1 display_name='Default TS GCP' organization=1 class_type='timescale_db' status='AVAILABLE' extra_arguments=None\u001B[0m \u001B[36mapplication_name\u001B[0m=\u001B[35mms-sdk\u001B[0m \u001B[36mdata_source_id\u001B[0m=\u001B[35m1\u001B[0m \u001B[36mjob_run_id\u001B[0m=\u001B[35mNone\u001B[0m \u001B[36mproject_id\u001B[0m=\u001B[35m1\u001B[0m (at models_tdag.py:2101 in set_remote_db())\n",
      "\u001B[2m2025-05-12T07:22:37.818875Z\u001B[0m [\u001B[32m\u001B[1mdebug    \u001B[0m] \u001B[1mGetting Auth Headers ASSETS_ORM\u001B[0m \u001B[36mapplication_name\u001B[0m=\u001B[35mms-sdk\u001B[0m \u001B[36mdata_source_id\u001B[0m=\u001B[35m1\u001B[0m \u001B[36mjob_run_id\u001B[0m=\u001B[35mNone\u001B[0m \u001B[36mproject_id\u001B[0m=\u001B[35m1\u001B[0m (at utils.py:39 in refresh_headers())\n",
      "\u001B[2m2025-05-12T07:22:38.148296Z\u001B[0m [\u001B[32m\u001B[1mdebug    \u001B[0m] \u001B[1mtook 0.3287 seconds. Requesting GET from http://127.0.0.1:8000/orm/api/assets/api/constants\u001B[0m \u001B[36mapplication_name\u001B[0m=\u001B[35mms-sdk\u001B[0m \u001B[36mdata_source_id\u001B[0m=\u001B[35m1\u001B[0m \u001B[36mjob_run_id\u001B[0m=\u001B[35mNone\u001B[0m \u001B[36mproject_id\u001B[0m=\u001B[35m1\u001B[0m (at utils.py:95 in make_request())\n"
     ]
    }
   ],
   "execution_count": 2
  },
  {
   "cell_type": "markdown",
   "id": "afcbd633",
   "metadata": {},
   "source": [
    "## Optimal Asset Queries\n",
    "\n",
    "There are many assets, and there will always be more. We recommend narrowing your search so that the expected results are in the hundreds. If you need more assets, it is best to first create a category that encompasses those assets and then query by that category.\n",
    "\n",
    "A good way to start narrowing asset searches is by filtering on the execution venue and some FIGI properties. For example, if you want to retrieve the equivalent assets from one category on another exchange, you could do something like this:\n",
    "\n"
   ]
  },
  {
   "cell_type": "code",
   "id": "8f6338f5",
   "metadata": {
    "ExecuteTime": {
     "end_time": "2025-05-12T07:22:47.085553Z",
     "start_time": "2025-05-12T07:22:46.536031Z"
    }
   },
   "source": [
    "top_100_cryptos = AssetCategory.get(unique_identifier=\"top_100_crypto_market_cap\")\n",
    "\n",
    "# Switch to Binance categories\n",
    "spot_assets = Asset.filter(id__in=top_100_cryptos.assets)\n",
    "\n",
    "# Get them through the main sequence FIGI class and exchange\n",
    "binance_currency_pairs = AssetCurrencyPair.filter(\n",
    "    base_asset__main_sequence_share_class__in=[\n",
    "        a.main_sequence_share_class for a in spot_assets\n",
    "    ],\n",
    "    execution_venue__symbol=MARKETS_CONSTANTS.BINANCE_EV_SYMBOL,\n",
    "    quote_asset__ticker=\"USDT\",\n",
    "    include_base_quote_detail=False\n",
    ")\n",
    "\n"
   ],
   "outputs": [
    {
     "name": "stderr",
     "output_type": "stream",
     "text": [
      "\u001B[2m2025-05-12T07:22:46.912218Z\u001B[0m [\u001B[32m\u001B[1mdebug    \u001B[0m] \u001B[1mtook 0.3748 seconds. Requesting GET from http://127.0.0.1:8000/orm/api/assets/asset-category/\u001B[0m \u001B[36mapplication_name\u001B[0m=\u001B[35mms-sdk\u001B[0m \u001B[36mdata_source_id\u001B[0m=\u001B[35m1\u001B[0m \u001B[36mjob_run_id\u001B[0m=\u001B[35mNone\u001B[0m \u001B[36mproject_id\u001B[0m=\u001B[35m1\u001B[0m (at utils.py:95 in make_request())\n"
     ]
    },
    {
     "ename": "DoesNotExist",
     "evalue": "No AssetCategory found matching {'unique_identifier': 'top_100_crypto_market_cap'}",
     "output_type": "error",
     "traceback": [
      "\u001B[0;31m---------------------------------------------------------------------------\u001B[0m",
      "\u001B[0;31mDoesNotExist\u001B[0m                              Traceback (most recent call last)",
      "Cell \u001B[0;32mIn[3], line 1\u001B[0m\n\u001B[0;32m----> 1\u001B[0m top_100_cryptos \u001B[38;5;241m=\u001B[39m \u001B[43mAssetCategory\u001B[49m\u001B[38;5;241;43m.\u001B[39;49m\u001B[43mget\u001B[49m\u001B[43m(\u001B[49m\u001B[43munique_identifier\u001B[49m\u001B[38;5;241;43m=\u001B[39;49m\u001B[38;5;124;43m\"\u001B[39;49m\u001B[38;5;124;43mtop_100_crypto_market_cap\u001B[39;49m\u001B[38;5;124;43m\"\u001B[39;49m\u001B[43m)\u001B[49m\n\u001B[1;32m      3\u001B[0m \u001B[38;5;66;03m# Switch to Binance categories\u001B[39;00m\n\u001B[1;32m      4\u001B[0m spot_assets \u001B[38;5;241m=\u001B[39m Asset\u001B[38;5;241m.\u001B[39mfilter(id__in\u001B[38;5;241m=\u001B[39mtop_100_cryptos\u001B[38;5;241m.\u001B[39massets)\n",
      "File \u001B[0;32m~/code/MainSequenceClientSide/mainsequence-sdk/mainsequence/client/base.py:287\u001B[0m, in \u001B[0;36mBaseObjectOrm.get\u001B[0;34m(cls, pk, timeout, **filters)\u001B[0m\n\u001B[1;32m    285\u001B[0m candidates \u001B[38;5;241m=\u001B[39m \u001B[38;5;28mcls\u001B[39m\u001B[38;5;241m.\u001B[39mfilter(timeout\u001B[38;5;241m=\u001B[39mtimeout, \u001B[38;5;241m*\u001B[39m\u001B[38;5;241m*\u001B[39mfilters)\n\u001B[1;32m    286\u001B[0m \u001B[38;5;28;01mif\u001B[39;00m \u001B[38;5;129;01mnot\u001B[39;00m candidates:\n\u001B[0;32m--> 287\u001B[0m     \u001B[38;5;28;01mraise\u001B[39;00m DoesNotExist(\u001B[38;5;124mf\u001B[39m\u001B[38;5;124m\"\u001B[39m\u001B[38;5;124mNo \u001B[39m\u001B[38;5;132;01m{\u001B[39;00m\u001B[38;5;28mcls\u001B[39m\u001B[38;5;241m.\u001B[39mclass_name()\u001B[38;5;132;01m}\u001B[39;00m\u001B[38;5;124m found matching \u001B[39m\u001B[38;5;132;01m{\u001B[39;00mfilters\u001B[38;5;132;01m}\u001B[39;00m\u001B[38;5;124m\"\u001B[39m)\n\u001B[1;32m    289\u001B[0m \u001B[38;5;28;01mif\u001B[39;00m \u001B[38;5;28mlen\u001B[39m(candidates) \u001B[38;5;241m>\u001B[39m \u001B[38;5;241m1\u001B[39m:\n\u001B[1;32m    290\u001B[0m     \u001B[38;5;28;01mraise\u001B[39;00m \u001B[38;5;167;01mException\u001B[39;00m(\n\u001B[1;32m    291\u001B[0m         \u001B[38;5;124mf\u001B[39m\u001B[38;5;124m\"\u001B[39m\u001B[38;5;124mMultiple \u001B[39m\u001B[38;5;132;01m{\u001B[39;00m\u001B[38;5;28mcls\u001B[39m\u001B[38;5;241m.\u001B[39mclass_name()\u001B[38;5;132;01m}\u001B[39;00m\u001B[38;5;124m objects found for filters \u001B[39m\u001B[38;5;132;01m{\u001B[39;00mfilters\u001B[38;5;132;01m}\u001B[39;00m\u001B[38;5;124m. \u001B[39m\u001B[38;5;124m\"\u001B[39m\n\u001B[1;32m    292\u001B[0m         \u001B[38;5;124mf\u001B[39m\u001B[38;5;124m\"\u001B[39m\u001B[38;5;124mExpected exactly one.\u001B[39m\u001B[38;5;124m\"\u001B[39m\n\u001B[1;32m    293\u001B[0m     )\n",
      "\u001B[0;31mDoesNotExist\u001B[0m: No AssetCategory found matching {'unique_identifier': 'top_100_crypto_market_cap'}"
     ]
    }
   ],
   "execution_count": 3
  },
  {
   "cell_type": "markdown",
   "id": "3b1b34eb",
   "metadata": {},
   "source": [
    "## Filtering Assets by Type\n",
    "\n",
    "Different asset types have distinct properties, which can help you extend your filters. It's important to note that all asset types inherit from the Asset class. Therefore, you can always use the Asset class to access all assets and their general properties."
   ]
  },
  {
   "cell_type": "code",
   "id": "774acb7a",
   "metadata": {
    "ExecuteTime": {
     "end_time": "2025-04-18T18:59:54.710889Z",
     "start_time": "2025-04-18T18:59:52.077335Z"
    }
   },
   "source": [
    "# Filtering Simple Assets\n",
    "simple_assets = Asset.filter(ticker=\"BTCUSDT\")\n",
    "print(f\"Total Spot Crypto Assets on Binance: {len(simple_assets)}\")\n",
    "\n",
    "# Filtering Futures\n",
    "cash_equity_assets = AssetCurrencyPair.filter(ticker=\"BTCUSDT\")\n",
    "print(f\"Total Assets CurrencyPair Assets : {len(cash_equity_assets)}\")\n",
    "\n",
    "# Filtering  Futures USDM Assets\n",
    "futures_assets= AssetFutureUSDM.filter(ticker=\"BTCUSDT\")\n",
    "print(f\"Total Futures Assets : {len(futures_assets)}\")\n",
    "\n",
    "\n"
   ],
   "outputs": [
    {
     "name": "stderr",
     "output_type": "stream",
     "text": [
      "\u001B[2m2025-04-18T18:59:53.083795Z\u001B[0m [\u001B[32m\u001B[1mdebug    \u001B[0m] \u001B[1mtook 1.0051 seconds. Requesting GET from http://127.0.0.1:8000/orm/api/assets/asset/\u001B[0m \u001B[36mapplication_name\u001B[0m=\u001B[35mms-sdk\u001B[0m \u001B[36mdata_source_id\u001B[0m=\u001B[35m1\u001B[0m \u001B[36mjob_run_id\u001B[0m=\u001B[35mNone\u001B[0m \u001B[36mproject_id\u001B[0m=\u001B[35m1\u001B[0m (at utils.py:95 in make_request())\n"
     ]
    },
    {
     "name": "stdout",
     "output_type": "stream",
     "text": [
      "Total Spot Crypto Assets on Binance: 5\n"
     ]
    },
    {
     "name": "stderr",
     "output_type": "stream",
     "text": [
      "\u001B[2m2025-04-18T18:59:53.918912Z\u001B[0m [\u001B[32m\u001B[1mdebug    \u001B[0m] \u001B[1mtook 0.8338 seconds. Requesting GET from http://127.0.0.1:8000/orm/api/assets/asset_currency_pair/\u001B[0m \u001B[36mapplication_name\u001B[0m=\u001B[35mms-sdk\u001B[0m \u001B[36mdata_source_id\u001B[0m=\u001B[35m1\u001B[0m \u001B[36mjob_run_id\u001B[0m=\u001B[35mNone\u001B[0m \u001B[36mproject_id\u001B[0m=\u001B[35m1\u001B[0m (at utils.py:95 in make_request())\n"
     ]
    },
    {
     "name": "stdout",
     "output_type": "stream",
     "text": [
      "Total Assets CurrencyPair Assets : 3\n"
     ]
    },
    {
     "name": "stderr",
     "output_type": "stream",
     "text": [
      "\u001B[2m2025-04-18T18:59:54.707231Z\u001B[0m [\u001B[32m\u001B[1mdebug    \u001B[0m] \u001B[1mtook 0.7872 seconds. Requesting GET from http://127.0.0.1:8000/orm/api/assets/asset_future_usdm/\u001B[0m \u001B[36mapplication_name\u001B[0m=\u001B[35mms-sdk\u001B[0m \u001B[36mdata_source_id\u001B[0m=\u001B[35m1\u001B[0m \u001B[36mjob_run_id\u001B[0m=\u001B[35mNone\u001B[0m \u001B[36mproject_id\u001B[0m=\u001B[35m1\u001B[0m (at utils.py:95 in make_request())\n"
     ]
    },
    {
     "name": "stdout",
     "output_type": "stream",
     "text": [
      "Total Futures Assets : 2\n"
     ]
    }
   ],
   "execution_count": 9
  },
  {
   "cell_type": "markdown",
   "id": "a62206ee331bcdce",
   "metadata": {},
   "source": [
    "## Using `filter_with_asset_class`\n",
    "\n",
    "The `filter_with_asset_class` method is an extended version of the `filter` method.\n",
    "It ensures that each returned asset is an instance of its correct class \n",
    "\n",
    "### When to Use?\n",
    "- When querying multiple asset types and needing them returned with the correct class.\n",
    "- When working with assets across execution venues and requiring proper type differentiation.\n",
    "\n",
    "### Example 1: Query all asset types for a symbol\n"
   ]
  },
  {
   "cell_type": "code",
   "id": "70673bbb7dfd95a5",
   "metadata": {
    "ExecuteTime": {
     "end_time": "2025-04-18T19:00:01.820656Z",
     "start_time": "2025-04-18T19:00:00.369848Z"
    }
   },
   "source": [
    "# Query Binance Spot assets with correct asset classes\n",
    "all_btc_assets = Asset.filter_with_asset_class(ticker=\"BTCUSDT\")\n",
    "\n",
    "# Displaying asset information\n",
    "for asset in all_btc_assets:\n",
    "    print(f\"Asset: {asset.ticker},  Class: {type(asset).__name__}\")\n"
   ],
   "outputs": [
    {
     "name": "stderr",
     "output_type": "stream",
     "text": [
      "\u001B[2m2025-04-18T19:00:01.818058Z\u001B[0m [\u001B[32m\u001B[1mdebug    \u001B[0m] \u001B[1mtook 1.4469 seconds. Requesting GET from http://127.0.0.1:8000/orm/api/assets/asset/list_with_asset_class/\u001B[0m \u001B[36mapplication_name\u001B[0m=\u001B[35mms-sdk\u001B[0m \u001B[36mdata_source_id\u001B[0m=\u001B[35m1\u001B[0m \u001B[36mjob_run_id\u001B[0m=\u001B[35mNone\u001B[0m \u001B[36mproject_id\u001B[0m=\u001B[35m1\u001B[0m (at utils.py:95 in make_request())\n"
     ]
    },
    {
     "name": "stdout",
     "output_type": "stream",
     "text": [
      "Asset: BTCUSDT,  Class: AssetCurrencyPair\n",
      "Asset: BTCUSDT,  Class: AssetCurrencyPair\n",
      "Asset: BTCUSDT,  Class: AssetCurrencyPair\n",
      "Asset: BTCUSDT,  Class: AssetFutureUSDM\n",
      "Asset: BTCUSDT,  Class: AssetFutureUSDM\n"
     ]
    }
   ],
   "execution_count": 10
  },
  {
   "cell_type": "markdown",
   "id": "a2c3af44",
   "metadata": {},
   "source": [
    "### Example 2: Using FIGI Information to Narrow Down Results\n",
    "\n",
    "Now imagine we only want currency pairs instead of futures.\n",
    " In this case, we can use FIGI details to identify the asset classes we are specifically interested in.\n",
    "\n"
   ]
  },
  {
   "cell_type": "code",
   "id": "7f747286",
   "metadata": {
    "ExecuteTime": {
     "end_time": "2025-04-18T19:00:21.201307Z",
     "start_time": "2025-04-18T19:00:20.238394Z"
    }
   },
   "source": [
    "all_curreny_pairs_bitcoin= Asset.filter_with_asset_class(ticker=\"BTCUSDT\",\n",
    "security_market_sector=MARKETS_CONSTANTS.FIGI_MARKET_SECTOR_CURNCY,\n",
    "security_type=MARKETS_CONSTANTS.FIGI_SECURITY_TYPE_CRYPTO\n",
    ")\n",
    "\n",
    "print(all_curreny_pairs_bitcoin)"
   ],
   "outputs": [
    {
     "name": "stderr",
     "output_type": "stream",
     "text": [
      "\u001B[2m2025-04-18T19:00:21.199286Z\u001B[0m [\u001B[32m\u001B[1mdebug    \u001B[0m] \u001B[1mtook 0.9598 seconds. Requesting GET from http://127.0.0.1:8000/orm/api/assets/asset/list_with_asset_class/\u001B[0m \u001B[36mapplication_name\u001B[0m=\u001B[35mms-sdk\u001B[0m \u001B[36mdata_source_id\u001B[0m=\u001B[35m1\u001B[0m \u001B[36mjob_run_id\u001B[0m=\u001B[35mNone\u001B[0m \u001B[36mproject_id\u001B[0m=\u001B[35m1\u001B[0m (at utils.py:95 in make_request())\n"
     ]
    },
    {
     "name": "stdout",
     "output_type": "stream",
     "text": [
      "[AssetCurrencyPair: BTCUSDT_ms_share_class_MSyq4PRl58KI, AssetCurrencyPair: BTCUSDT_bnce_xF5EceMkk2S4, AssetCurrencyPair: BTCUSDT_bnf8_29EIYV7huAXC]\n"
     ]
    }
   ],
   "execution_count": 12
  },
  {
   "cell_type": "code",
   "execution_count": null,
   "id": "ebffcdcd",
   "metadata": {},
   "outputs": [],
   "source": []
  },
  {
   "cell_type": "markdown",
   "id": "31f854f5",
   "metadata": {},
   "source": []
  }
 ],
 "metadata": {
  "kernelspec": {
   "display_name": "venv",
   "language": "python",
   "name": "python3"
  },
  "language_info": {
   "codemirror_mode": {
    "name": "ipython",
    "version": 3
   },
   "file_extension": ".py",
   "mimetype": "text/x-python",
   "name": "python",
   "nbconvert_exporter": "python",
   "pygments_lexer": "ipython3",
   "version": "3.9.19"
  }
 },
 "nbformat": 4,
 "nbformat_minor": 5
}
