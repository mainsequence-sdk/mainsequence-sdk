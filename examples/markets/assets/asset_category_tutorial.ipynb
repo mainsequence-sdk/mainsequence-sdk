{
 "cells": [
  {
   "cell_type": "markdown",
   "metadata": {},
   "source": [
    "### Asset Category Management Tutorial\n",
    "\n",
    "This Jupyter Notebook provides a step-by-step guide on how to manage `AssetCategory` using the `mainsequence.vam_client` library. We will cover:\n",
    "\n",
    "1. **Fetching Specific Assets for Different Execution Venues** (Binance for Crypto & Alpaca for US Stocks)\n",
    "2. **Creating Asset Categories**\n",
    "3. **Reading Existing Categories**\n",
    "4. **Updating Categories by Adding More Assets**\n",
    "5. **Deleting Categories**\n"
   ]
  },
  {
   "cell_type": "code",
   "metadata": {
    "ExecuteTime": {
     "end_time": "2025-05-17T14:05:18.081530Z",
     "start_time": "2025-05-17T14:05:16.807424Z"
    }
   },
   "source": [
    "# Import necessary modules\n",
    "import dotenv\n",
    "import os\n",
    "dotenv.load_dotenv('../../../.env')\n",
    "\n",
    "import mainsequence.client\n",
    "from mainsequence.client import Asset, AssetCategory\n",
    "from mainsequence.client import CONSTANTS\n",
    "\n"
   ],
   "outputs": [
    {
     "name": "stderr",
     "output_type": "stream",
     "text": [
      "\u001B[2m2025-05-17T14:05:17.352855Z\u001B[0m [\u001B[32m\u001B[1mdebug    \u001B[0m] \u001B[1mGetting Auth Headers ASSETS_ORM\u001B[0m \u001B[36mapplication_name\u001B[0m=\u001B[35mms-sdk\u001B[0m \u001B[36mdata_source_id\u001B[0m=\u001B[35m1\u001B[0m \u001B[36mjob_run_id\u001B[0m=\u001B[35mNone\u001B[0m \u001B[36mproject_id\u001B[0m=\u001B[35m1\u001B[0m (at utils.py:39 in refresh_headers())\n",
      "\u001B[2m2025-05-17T14:05:17.575228Z\u001B[0m [\u001B[32m\u001B[1mdebug    \u001B[0m] \u001B[1mGetting Auth Headers ASSETS_ORM\u001B[0m \u001B[36mapplication_name\u001B[0m=\u001B[35mms-sdk\u001B[0m \u001B[36mdata_source_id\u001B[0m=\u001B[35m1\u001B[0m \u001B[36mjob_run_id\u001B[0m=\u001B[35mNone\u001B[0m \u001B[36mproject_id\u001B[0m=\u001B[35m1\u001B[0m (at utils.py:39 in refresh_headers())\n",
      "\u001B[2m2025-05-17T14:05:18.001684Z\u001B[0m [\u001B[32m\u001B[1mdebug    \u001B[0m] \u001B[1mtook 0.3995 seconds. Requesting GET from http://192.168.178.69:8000/orm/api/pods/projects/get_user_default_project/\u001B[0m \u001B[36mapplication_name\u001B[0m=\u001B[35mms-sdk\u001B[0m \u001B[36mdata_source_id\u001B[0m=\u001B[35m1\u001B[0m \u001B[36mjob_run_id\u001B[0m=\u001B[35mNone\u001B[0m \u001B[36mproject_id\u001B[0m=\u001B[35m1\u001B[0m (at utils.py:95 in make_request())\n",
      "\u001B[2m2025-05-17T14:05:18.003759Z\u001B[0m [\u001B[32m\u001B[1minfo     \u001B[0m] \u001B[1mSet remote data source to orm_class='DataSource' id=1 display_name='Default TS GCP' organization=1 class_type='timescale_db' status='AVAILABLE' extra_arguments=None\u001B[0m \u001B[36mapplication_name\u001B[0m=\u001B[35mms-sdk\u001B[0m \u001B[36mdata_source_id\u001B[0m=\u001B[35m1\u001B[0m \u001B[36mjob_run_id\u001B[0m=\u001B[35mNone\u001B[0m \u001B[36mproject_id\u001B[0m=\u001B[35m1\u001B[0m (at models_tdag.py:2114 in set_remote_db())\n"
     ]
    }
   ],
   "execution_count": 1
  },
  {
   "cell_type": "markdown",
   "metadata": {},
   "source": [
    "## Step 1: Fetch Specific Assets"
   ]
  },
  {
   "cell_type": "code",
   "metadata": {
    "ExecuteTime": {
     "end_time": "2025-05-17T14:05:19.742198Z",
     "start_time": "2025-05-17T14:05:18.082490Z"
    }
   },
   "source": [
    "# Select specific crypto assets from Binance\n",
    "crypto_symbols = [\"BTCUSDT\", \"ETHUSDT\", \"SOLUSDT\"]\n",
    "binance_crypto_assets = Asset.filter(ticker__in=crypto_symbols, execution_venue__symbol=CONSTANTS.BINANCE_EV_SYMBOL)\n",
    "\n",
    "# Select specific US stock assets from Alpaca\n",
    "stock_symbols = [\"AAPL\", \"TSLA\", \"MSFT\"]\n",
    "alpaca_us_stocks =Asset.filter(ticker__in=stock_symbols, execution_venue__symbol=CONSTANTS.ALPACA_EV_SYMBOL)\n",
    "\n",
    "# Extract asset IDs\n",
    "crypto_asset_ids = [asset.id for asset in binance_crypto_assets]\n",
    "stock_asset_ids = [asset.id for asset in alpaca_us_stocks]"
   ],
   "outputs": [
    {
     "name": "stderr",
     "output_type": "stream",
     "text": [
      "\u001B[2m2025-05-17T14:05:18.083621Z\u001B[0m [\u001B[32m\u001B[1mdebug    \u001B[0m] \u001B[1mGetting Auth Headers ASSETS_ORM\u001B[0m \u001B[36mapplication_name\u001B[0m=\u001B[35mms-sdk\u001B[0m \u001B[36mdata_source_id\u001B[0m=\u001B[35m1\u001B[0m \u001B[36mjob_run_id\u001B[0m=\u001B[35mNone\u001B[0m \u001B[36mproject_id\u001B[0m=\u001B[35m1\u001B[0m (at utils.py:39 in refresh_headers())\n",
      "\u001B[2m2025-05-17T14:05:18.514229Z\u001B[0m [\u001B[32m\u001B[1mdebug    \u001B[0m] \u001B[1mtook 0.4293 seconds. Requesting GET from http://192.168.178.69:8000/orm/api/assets/api/constants\u001B[0m \u001B[36mapplication_name\u001B[0m=\u001B[35mms-sdk\u001B[0m \u001B[36mdata_source_id\u001B[0m=\u001B[35m1\u001B[0m \u001B[36mjob_run_id\u001B[0m=\u001B[35mNone\u001B[0m \u001B[36mproject_id\u001B[0m=\u001B[35m1\u001B[0m (at utils.py:95 in make_request())\n",
      "\u001B[2m2025-05-17T14:05:19.230210Z\u001B[0m [\u001B[32m\u001B[1mdebug    \u001B[0m] \u001B[1mtook 0.7144 seconds. Requesting GET from http://192.168.178.69:8000/orm/api/assets/asset/\u001B[0m \u001B[36mapplication_name\u001B[0m=\u001B[35mms-sdk\u001B[0m \u001B[36mdata_source_id\u001B[0m=\u001B[35m1\u001B[0m \u001B[36mjob_run_id\u001B[0m=\u001B[35mNone\u001B[0m \u001B[36mproject_id\u001B[0m=\u001B[35m1\u001B[0m (at utils.py:95 in make_request())\n",
      "\u001B[2m2025-05-17T14:05:19.740109Z\u001B[0m [\u001B[32m\u001B[1mdebug    \u001B[0m] \u001B[1mtook 0.5064 seconds. Requesting GET from http://192.168.178.69:8000/orm/api/assets/asset/\u001B[0m \u001B[36mapplication_name\u001B[0m=\u001B[35mms-sdk\u001B[0m \u001B[36mdata_source_id\u001B[0m=\u001B[35m1\u001B[0m \u001B[36mjob_run_id\u001B[0m=\u001B[35mNone\u001B[0m \u001B[36mproject_id\u001B[0m=\u001B[35m1\u001B[0m (at utils.py:95 in make_request())\n"
     ]
    }
   ],
   "execution_count": 2
  },
  {
   "cell_type": "code",
   "metadata": {
    "ExecuteTime": {
     "end_time": "2025-05-17T14:05:19.744520Z",
     "start_time": "2025-05-17T14:05:19.742996Z"
    }
   },
   "source": [],
   "outputs": [],
   "execution_count": 2
  },
  {
   "cell_type": "markdown",
   "metadata": {},
   "source": [
    "## Step 2: Create Asset Categories"
   ]
  },
  {
   "cell_type": "code",
   "metadata": {
    "ExecuteTime": {
     "end_time": "2025-05-17T14:05:20.257347Z",
     "start_time": "2025-05-17T14:05:19.745935Z"
    }
   },
   "source": [
    "from mainsequence.client import User\n",
    "#get authenticated user to extract its organization and query if the categories already exists\n",
    "user=User.get_authenticated_user_details()\n",
    "org_uid = user.organization.uid  # "
   ],
   "outputs": [
    {
     "name": "stderr",
     "output_type": "stream",
     "text": [
      "\u001B[2m2025-05-17T14:05:20.255240Z\u001B[0m [\u001B[32m\u001B[1mdebug    \u001B[0m] \u001B[1mtook 0.5086 seconds. Requesting GET from http://192.168.178.69:8000/user/api/user/get_user_details/\u001B[0m \u001B[36mapplication_name\u001B[0m=\u001B[35mms-sdk\u001B[0m \u001B[36mdata_source_id\u001B[0m=\u001B[35m1\u001B[0m \u001B[36mjob_run_id\u001B[0m=\u001B[35mNone\u001B[0m \u001B[36mproject_id\u001B[0m=\u001B[35m1\u001B[0m (at utils.py:95 in make_request())\n"
     ]
    }
   ],
   "execution_count": 3
  },
  {
   "cell_type": "code",
   "metadata": {
    "ExecuteTime": {
     "end_time": "2025-05-17T14:05:20.737920Z",
     "start_time": "2025-05-17T14:05:20.258185Z"
    }
   },
   "source": [
    "# Check if the \"Favorite Crypto\" category exists\n",
    "crypto_asset_ids = []\n",
    "crypto_category = AssetCategory.filter(organization_owner_uid=org_uid, display_name=\"Favorite Crypto\")\n",
    "if len(crypto_category)==0:\n",
    "    crypto_category = AssetCategory.create(display_name=\"Favorite Crypto\", source=\"user_defined\", assets=crypto_asset_ids)\n",
    "    print(f\"Created Categories: Crypto: {crypto_category}\")\n",
    "else:\n",
    "    crypto_category=crypto_category[0]"
   ],
   "outputs": [
    {
     "name": "stderr",
     "output_type": "stream",
     "text": [
      "\u001B[2m2025-05-17T14:05:20.734363Z\u001B[0m [\u001B[32m\u001B[1mdebug    \u001B[0m] \u001B[1mtook 0.4749 seconds. Requesting GET from http://192.168.178.69:8000/orm/api/assets/asset-category/\u001B[0m \u001B[36mapplication_name\u001B[0m=\u001B[35mms-sdk\u001B[0m \u001B[36mdata_source_id\u001B[0m=\u001B[35m1\u001B[0m \u001B[36mjob_run_id\u001B[0m=\u001B[35mNone\u001B[0m \u001B[36mproject_id\u001B[0m=\u001B[35m1\u001B[0m (at utils.py:95 in make_request())\n"
     ]
    }
   ],
   "execution_count": 4
  },
  {
   "cell_type": "code",
   "metadata": {
    "ExecuteTime": {
     "end_time": "2025-05-17T14:05:21.895866Z",
     "start_time": "2025-05-17T14:05:20.739091Z"
    }
   },
   "source": [
    "\n",
    "# Check if the \"Favorite US Stocks\" category exists\n",
    "stocks_category = AssetCategory.filter(organization_owner_uid=org_uid, name=\"Favorite US Stocks\")\n",
    "if len(stocks_category)==0:\n",
    "    stocks_category = AssetCategory.create(name=\"Favorite US Stocks\", source=\"user_defined\", assets=stock_asset_ids)\n",
    "    print(f\"Created Categories: Stocks: {stocks_category}\")\n",
    "else:\n",
    "    stocks_category=stocks_category[0]\n",
    "    \n"
   ],
   "outputs": [
    {
     "name": "stderr",
     "output_type": "stream",
     "text": [
      "\u001B[2m2025-05-17T14:05:21.893547Z\u001B[0m [\u001B[32m\u001B[1mdebug    \u001B[0m] \u001B[1mtook 1.1529 seconds. Requesting GET from http://192.168.178.69:8000/orm/api/assets/asset-category/\u001B[0m \u001B[36mapplication_name\u001B[0m=\u001B[35mms-sdk\u001B[0m \u001B[36mdata_source_id\u001B[0m=\u001B[35m1\u001B[0m \u001B[36mjob_run_id\u001B[0m=\u001B[35mNone\u001B[0m \u001B[36mproject_id\u001B[0m=\u001B[35m1\u001B[0m (at utils.py:95 in make_request())\n"
     ]
    }
   ],
   "execution_count": 5
  },
  {
   "cell_type": "code",
   "metadata": {
    "ExecuteTime": {
     "end_time": "2025-05-17T14:05:21.898420Z",
     "start_time": "2025-05-17T14:05:21.896676Z"
    }
   },
   "source": [],
   "outputs": [],
   "execution_count": 5
  },
  {
   "cell_type": "markdown",
   "metadata": {},
   "source": [
    "## Step 3: Read Existing Categories"
   ]
  },
  {
   "cell_type": "code",
   "metadata": {
    "ExecuteTime": {
     "end_time": "2025-05-17T14:05:23.125842Z",
     "start_time": "2025-05-17T14:05:21.899295Z"
    }
   },
   "source": [
    "existing_categories = AssetCategory.filter()\n",
    "print(f\"Existing Categories: {existing_categories}\")"
   ],
   "outputs": [
    {
     "name": "stderr",
     "output_type": "stream",
     "text": [
      "\u001B[2m2025-05-17T14:05:23.122934Z\u001B[0m [\u001B[32m\u001B[1mdebug    \u001B[0m] \u001B[1mtook 1.2229 seconds. Requesting GET from http://192.168.178.69:8000/orm/api/assets/asset-category/\u001B[0m \u001B[36mapplication_name\u001B[0m=\u001B[35mms-sdk\u001B[0m \u001B[36mdata_source_id\u001B[0m=\u001B[35m1\u001B[0m \u001B[36mjob_run_id\u001B[0m=\u001B[35mNone\u001B[0m \u001B[36mproject_id\u001B[0m=\u001B[35m1\u001B[0m (at utils.py:95 in make_request())\n"
     ]
    },
    {
     "name": "stdout",
     "output_type": "stream",
     "text": [
      "Existing Categories: [Top 10 US Equity Market Cap source: polygon, 10 assets, Top 50 US Equity Market Cap source: polygon, 50 assets, Top 100 US Equity Market Cap source: polygon, 100 assets, Top 10 Crypto Market Cap source: coingecko, 10 assets, Top 50 Crypto Market Cap source: coingecko, 50 assets, Top 100 Crypto Market Cap source: coingecko, 100 assets, MAGNIFICENT 7 source: mainsequence, 7 assets, S&P500 Constitutents source: datahub.io, 472 assets, external_magnificent_7 source: external, 7 assets, Favorite Crypto source: user_defined, 1 assets]\n"
     ]
    }
   ],
   "execution_count": 6
  },
  {
   "cell_type": "markdown",
   "metadata": {},
   "source": [
    "## Step 4: Update Crypto Category by Adding More Assets"
   ]
  },
  {
   "cell_type": "code",
   "metadata": {
    "ExecuteTime": {
     "end_time": "2025-05-17T14:05:24.354849Z",
     "start_time": "2025-05-17T14:05:23.126937Z"
    }
   },
   "source": [
    "# Fetch additional assets (for example, adding ADAUSDT)\n",
    "new_crypto_asset = Asset.filter(ticker=\"ADAUSDT\", execution_venue__symbol=CONSTANTS.BINANCE_EV_SYMBOL)\n",
    "\n",
    "# Extend existing category with new asset\n",
    "crypto_category=crypto_category.append_assets(asset_ids=[new_crypto_asset[0].id])\n",
    "\n",
    "\n",
    "print(f\"Updated Crypto Category: {crypto_category}\")\n",
    "print(crypto_category.assets)"
   ],
   "outputs": [
    {
     "name": "stderr",
     "output_type": "stream",
     "text": [
      "\u001B[2m2025-05-17T14:05:23.619399Z\u001B[0m [\u001B[32m\u001B[1mdebug    \u001B[0m] \u001B[1mtook 0.4910 seconds. Requesting GET from http://192.168.178.69:8000/orm/api/assets/asset/\u001B[0m \u001B[36mapplication_name\u001B[0m=\u001B[35mms-sdk\u001B[0m \u001B[36mdata_source_id\u001B[0m=\u001B[35m1\u001B[0m \u001B[36mjob_run_id\u001B[0m=\u001B[35mNone\u001B[0m \u001B[36mproject_id\u001B[0m=\u001B[35m1\u001B[0m (at utils.py:95 in make_request())\n",
      "\u001B[2m2025-05-17T14:05:24.351458Z\u001B[0m [\u001B[32m\u001B[1mdebug    \u001B[0m] \u001B[1mtook 0.7279 seconds. Requesting POST from http://192.168.178.69:8000/orm/api/assets/asset-category/38/append-assets/\u001B[0m \u001B[36mapplication_name\u001B[0m=\u001B[35mms-sdk\u001B[0m \u001B[36mdata_source_id\u001B[0m=\u001B[35m1\u001B[0m \u001B[36mjob_run_id\u001B[0m=\u001B[35mNone\u001B[0m \u001B[36mproject_id\u001B[0m=\u001B[35m1\u001B[0m (at utils.py:95 in make_request())\n"
     ]
    },
    {
     "name": "stdout",
     "output_type": "stream",
     "text": [
      "Updated Crypto Category: orm_class='AssetCategory' id=38 unique_identifier='favorite_crypto' display_name='Favorite Crypto' source='user_defined' assets=[23812] organization_owner_uid='00000000-0000-0000-0000-000000000001' description=None\n",
      "[23812]\n"
     ]
    }
   ],
   "execution_count": 7
  },
  {
   "cell_type": "markdown",
   "metadata": {},
   "source": [
    "## Step 5: Delete a Category"
   ]
  },
  {
   "cell_type": "code",
   "metadata": {
    "ExecuteTime": {
     "end_time": "2025-05-17T14:05:24.864280Z",
     "start_time": "2025-05-17T14:05:24.357643Z"
    }
   },
   "source": [
    "stocks_category.delete()\n",
    "print(f\"Deleted category: Favorite US Stocks\")"
   ],
   "outputs": [
    {
     "name": "stderr",
     "output_type": "stream",
     "text": [
      "\u001B[2m2025-05-17T14:05:24.862128Z\u001B[0m [\u001B[32m\u001B[1mdebug    \u001B[0m] \u001B[1mtook 0.5036 seconds. Requesting DELETE from http://192.168.178.69:8000/orm/api/assets/asset-category/30/\u001B[0m \u001B[36mapplication_name\u001B[0m=\u001B[35mms-sdk\u001B[0m \u001B[36mdata_source_id\u001B[0m=\u001B[35m1\u001B[0m \u001B[36mjob_run_id\u001B[0m=\u001B[35mNone\u001B[0m \u001B[36mproject_id\u001B[0m=\u001B[35m1\u001B[0m (at utils.py:95 in make_request())\n"
     ]
    },
    {
     "name": "stdout",
     "output_type": "stream",
     "text": [
      "Deleted category: Favorite US Stocks\n"
     ]
    }
   ],
   "execution_count": 8
  },
  {
   "cell_type": "markdown",
   "metadata": {},
   "source": [
    "### Summary\n",
    "- We selected specific assets from Binance (crypto) and Alpaca (stocks).\n",
    "- We created asset categories for them.\n",
    "- We read and updated categories.\n",
    "- Finally, we deleted a category when it was no longer needed.\n",
    "\n",
    "This tutorial helps you manage asset categories efficiently using `mainsequence.vam_client`. 🚀"
   ]
  }
 ],
 "metadata": {
  "kernelspec": {
   "display_name": "Python 3",
   "language": "python",
   "name": "python3"
  },
  "language_info": {
   "codemirror_mode": {
    "name": "ipython",
    "version": 3
   },
   "file_extension": ".py",
   "mimetype": "text/x-python",
   "name": "python",
   "nbconvert_exporter": "python",
   "pygments_lexer": "ipython3",
   "version": "3.8.10"
  }
 },
 "nbformat": 4,
 "nbformat_minor": 4
}
