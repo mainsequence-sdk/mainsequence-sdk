{
 "cells": [
  {
   "cell_type": "markdown",
   "metadata": {},
   "source": [
    "### Asset Category Management Tutorial\n",
    "\n",
    "This Jupyter Notebook provides a step-by-step guide on how to manage `AssetCategory` using the `mainsequence.vam_client` library. We will cover:\n",
    "\n",
    "1. **Fetching Specific Assets for Different Execution Venues** (Binance for Crypto & Alpaca for US Stocks)\n",
    "2. **Creating Asset Categories**\n",
    "3. **Reading Existing Categories**\n",
    "4. **Updating Categories by Adding More Assets**\n",
    "5. **Deleting Categories**\n"
   ]
  },
  {
   "cell_type": "code",
   "metadata": {
    "ExecuteTime": {
     "end_time": "2025-05-12T07:11:16.448615Z",
     "start_time": "2025-05-12T07:11:15.052773Z"
    }
   },
   "source": [
    "# Import necessary modules\n",
    "import dotenv\n",
    "import os\n",
    "dotenv.load_dotenv('../../../.env')\n",
    "\n",
    "import mainsequence.client\n",
    "from mainsequence.client import Asset, AssetCategory\n",
    "from mainsequence.client import CONSTANTS\n",
    "\n"
   ],
   "outputs": [
    {
     "name": "stderr",
     "output_type": "stream",
     "text": [
      "\u001B[2m2025-05-12T07:11:15.708013Z\u001B[0m [\u001B[32m\u001B[1mdebug    \u001B[0m] \u001B[1mGetting Auth Headers ASSETS_ORM\u001B[0m \u001B[36mapplication_name\u001B[0m=\u001B[35mms-sdk\u001B[0m \u001B[36mdata_source_id\u001B[0m=\u001B[35m1\u001B[0m \u001B[36mjob_run_id\u001B[0m=\u001B[35mNone\u001B[0m \u001B[36mproject_id\u001B[0m=\u001B[35m1\u001B[0m (at utils.py:39 in refresh_headers())\n",
      "\u001B[2m2025-05-12T07:11:15.986899Z\u001B[0m [\u001B[32m\u001B[1mdebug    \u001B[0m] \u001B[1mGetting Auth Headers ASSETS_ORM\u001B[0m \u001B[36mapplication_name\u001B[0m=\u001B[35mms-sdk\u001B[0m \u001B[36mdata_source_id\u001B[0m=\u001B[35m1\u001B[0m \u001B[36mjob_run_id\u001B[0m=\u001B[35mNone\u001B[0m \u001B[36mproject_id\u001B[0m=\u001B[35m1\u001B[0m (at utils.py:39 in refresh_headers())\n",
      "\u001B[2m2025-05-12T07:11:16.370651Z\u001B[0m [\u001B[32m\u001B[1mdebug    \u001B[0m] \u001B[1mtook 0.3704 seconds. Requesting GET from http://127.0.0.1:8000/orm/api/pods/projects/get_user_default_project/\u001B[0m \u001B[36mapplication_name\u001B[0m=\u001B[35mms-sdk\u001B[0m \u001B[36mdata_source_id\u001B[0m=\u001B[35m1\u001B[0m \u001B[36mjob_run_id\u001B[0m=\u001B[35mNone\u001B[0m \u001B[36mproject_id\u001B[0m=\u001B[35m1\u001B[0m (at utils.py:95 in make_request())\n",
      "\u001B[2m2025-05-12T07:11:16.371782Z\u001B[0m [\u001B[32m\u001B[1minfo     \u001B[0m] \u001B[1mSet remote data source to orm_class='DataSource' id=1 display_name='Default TS GCP' organization=1 class_type='timescale_db' status='AVAILABLE' extra_arguments=None\u001B[0m \u001B[36mapplication_name\u001B[0m=\u001B[35mms-sdk\u001B[0m \u001B[36mdata_source_id\u001B[0m=\u001B[35m1\u001B[0m \u001B[36mjob_run_id\u001B[0m=\u001B[35mNone\u001B[0m \u001B[36mproject_id\u001B[0m=\u001B[35m1\u001B[0m (at models_tdag.py:2101 in set_remote_db())\n"
     ]
    }
   ],
   "execution_count": 1
  },
  {
   "cell_type": "markdown",
   "metadata": {},
   "source": [
    "## Step 1: Fetch Specific Assets"
   ]
  },
  {
   "cell_type": "code",
   "metadata": {
    "ExecuteTime": {
     "end_time": "2025-05-12T07:11:22.175854Z",
     "start_time": "2025-05-12T07:11:21.019340Z"
    }
   },
   "source": [
    "# Select specific crypto assets from Binance\n",
    "crypto_symbols = [\"BTCUSDT\", \"ETHUSDT\", \"SOLUSDT\"]\n",
    "binance_crypto_assets = Asset.filter(ticker__in=crypto_symbols, execution_venue__symbol=CONSTANTS.BINANCE_EV_SYMBOL)\n",
    "\n",
    "# Select specific US stock assets from Alpaca\n",
    "stock_symbols = [\"AAPL\", \"TSLA\", \"MSFT\"]\n",
    "alpaca_us_stocks =Asset.filter(ticker__in=stock_symbols, execution_venue__symbol=CONSTANTS.ALPACA_EV_SYMBOL)\n",
    "\n",
    "# Extract asset IDs\n",
    "crypto_asset_ids = [asset.id for asset in binance_crypto_assets]\n",
    "stock_asset_ids = [asset.id for asset in alpaca_us_stocks]"
   ],
   "outputs": [
    {
     "name": "stderr",
     "output_type": "stream",
     "text": [
      "\u001B[2m2025-05-12T07:11:21.653616Z\u001B[0m [\u001B[32m\u001B[1mdebug    \u001B[0m] \u001B[1mtook 0.6327 seconds. Requesting GET from http://127.0.0.1:8000/orm/api/assets/asset/\u001B[0m \u001B[36mapplication_name\u001B[0m=\u001B[35mms-sdk\u001B[0m \u001B[36mdata_source_id\u001B[0m=\u001B[35m1\u001B[0m \u001B[36mjob_run_id\u001B[0m=\u001B[35mNone\u001B[0m \u001B[36mproject_id\u001B[0m=\u001B[35m1\u001B[0m (at utils.py:95 in make_request())\n",
      "\u001B[2m2025-05-12T07:11:22.173699Z\u001B[0m [\u001B[32m\u001B[1mdebug    \u001B[0m] \u001B[1mtook 0.5173 seconds. Requesting GET from http://127.0.0.1:8000/orm/api/assets/asset/\u001B[0m \u001B[36mapplication_name\u001B[0m=\u001B[35mms-sdk\u001B[0m \u001B[36mdata_source_id\u001B[0m=\u001B[35m1\u001B[0m \u001B[36mjob_run_id\u001B[0m=\u001B[35mNone\u001B[0m \u001B[36mproject_id\u001B[0m=\u001B[35m1\u001B[0m (at utils.py:95 in make_request())\n"
     ]
    }
   ],
   "execution_count": 2
  },
  {
   "cell_type": "code",
   "execution_count": null,
   "metadata": {
    "ExecuteTime": {
     "end_time": "2025-02-27T13:00:14.529486Z",
     "start_time": "2025-02-27T13:00:14.528195Z"
    }
   },
   "outputs": [],
   "source": []
  },
  {
   "cell_type": "markdown",
   "metadata": {},
   "source": [
    "## Step 2: Create Asset Categories"
   ]
  },
  {
   "cell_type": "code",
   "metadata": {
    "ExecuteTime": {
     "end_time": "2025-05-12T07:12:19.696540Z",
     "start_time": "2025-05-12T07:12:19.247730Z"
    }
   },
   "source": [
    "from mainsequence.client import User\n",
    "#get authenticated user to extract its organization and query if the categories already exists\n",
    "user=User.get_authenticated_user_details()\n",
    "org_uid = user.organization.uid  # "
   ],
   "outputs": [
    {
     "name": "stderr",
     "output_type": "stream",
     "text": [
      "\u001B[2m2025-05-12T07:12:19.694478Z\u001B[0m [\u001B[32m\u001B[1mdebug    \u001B[0m] \u001B[1mtook 0.4458 seconds. Requesting GET from http://127.0.0.1:8000/user/api/user/get_user_details/\u001B[0m \u001B[36mapplication_name\u001B[0m=\u001B[35mms-sdk\u001B[0m \u001B[36mdata_source_id\u001B[0m=\u001B[35m1\u001B[0m \u001B[36mjob_run_id\u001B[0m=\u001B[35mNone\u001B[0m \u001B[36mproject_id\u001B[0m=\u001B[35m1\u001B[0m (at utils.py:95 in make_request())\n"
     ]
    }
   ],
   "execution_count": 3
  },
  {
   "cell_type": "code",
   "metadata": {
    "ExecuteTime": {
     "end_time": "2025-05-12T07:17:32.810483Z",
     "start_time": "2025-05-12T07:17:31.940983Z"
    }
   },
   "source": [
    "# Check if the \"Favorite Crypto\" category exists\n",
    "crypto_asset_ids = []\n",
    "crypto_category = AssetCategory.filter(organization_owner_uid=org_uid, display_name=\"Favorite Crypto\")\n",
    "if len(crypto_category)==0:\n",
    "    crypto_category = AssetCategory.create(display_name=\"Favorite Crypto\", source=\"user_defined\", assets=crypto_asset_ids)\n",
    "    print(f\"Created Categories: Crypto: {crypto_category}\")\n",
    "else:\n",
    "    crypto_category=crypto_category[0]"
   ],
   "outputs": [
    {
     "name": "stderr",
     "output_type": "stream",
     "text": [
      "\u001B[2m2025-05-12T07:17:32.327107Z\u001B[0m [\u001B[32m\u001B[1mdebug    \u001B[0m] \u001B[1mtook 0.3848 seconds. Requesting GET from http://127.0.0.1:8000/orm/api/assets/asset-category/\u001B[0m \u001B[36mapplication_name\u001B[0m=\u001B[35mms-sdk\u001B[0m \u001B[36mdata_source_id\u001B[0m=\u001B[35m1\u001B[0m \u001B[36mjob_run_id\u001B[0m=\u001B[35mNone\u001B[0m \u001B[36mproject_id\u001B[0m=\u001B[35m1\u001B[0m (at utils.py:95 in make_request())\n",
      "\u001B[2m2025-05-12T07:17:32.808222Z\u001B[0m [\u001B[32m\u001B[1mdebug    \u001B[0m] \u001B[1mtook 0.4798 seconds. Requesting POST from http://127.0.0.1:8000/orm/api/assets/asset-category/\u001B[0m \u001B[36mapplication_name\u001B[0m=\u001B[35mms-sdk\u001B[0m \u001B[36mdata_source_id\u001B[0m=\u001B[35m1\u001B[0m \u001B[36mjob_run_id\u001B[0m=\u001B[35mNone\u001B[0m \u001B[36mproject_id\u001B[0m=\u001B[35m1\u001B[0m (at utils.py:95 in make_request())\n"
     ]
    },
    {
     "name": "stdout",
     "output_type": "stream",
     "text": [
      "Created Categories: Crypto: orm_class='AssetCategory' id=38 unique_identifier='favorite_crypto' display_name='Favorite Crypto' source='user_defined' assets=[] organization_owner_uid='00000000-0000-0000-0000-000000000001' description=None\n"
     ]
    }
   ],
   "execution_count": 9
  },
  {
   "cell_type": "code",
   "metadata": {
    "ExecuteTime": {
     "end_time": "2025-05-12T07:22:10.496546Z",
     "start_time": "2025-05-12T07:22:09.515347Z"
    }
   },
   "source": [
    "\n",
    "# Check if the \"Favorite US Stocks\" category exists\n",
    "stocks_category = AssetCategory.filter(organization_owner_uid=org_uid, name=\"Favorite US Stocks\")\n",
    "if len(stocks_category)==0:\n",
    "    stocks_category = AssetCategory.create(name=\"Favorite US Stocks\", source=\"user_defined\", assets=stock_asset_ids)\n",
    "    print(f\"Created Categories: Stocks: {stocks_category}\")\n",
    "else:\n",
    "    stocks_category=stocks_category[0]\n",
    "    \n"
   ],
   "outputs": [
    {
     "name": "stderr",
     "output_type": "stream",
     "text": [
      "\u001B[2m2025-05-12T07:22:10.494406Z\u001B[0m [\u001B[32m\u001B[1mdebug    \u001B[0m] \u001B[1mtook 0.9777 seconds. Requesting GET from http://127.0.0.1:8000/orm/api/assets/asset-category/\u001B[0m \u001B[36mapplication_name\u001B[0m=\u001B[35mms-sdk\u001B[0m \u001B[36mdata_source_id\u001B[0m=\u001B[35m1\u001B[0m \u001B[36mjob_run_id\u001B[0m=\u001B[35mNone\u001B[0m \u001B[36mproject_id\u001B[0m=\u001B[35m1\u001B[0m (at utils.py:95 in make_request())\n"
     ]
    }
   ],
   "execution_count": 15
  },
  {
   "cell_type": "code",
   "execution_count": null,
   "metadata": {
    "ExecuteTime": {
     "end_time": "2025-02-27T13:00:14.983985Z",
     "start_time": "2025-02-27T13:00:14.982673Z"
    }
   },
   "outputs": [],
   "source": []
  },
  {
   "cell_type": "markdown",
   "metadata": {},
   "source": [
    "## Step 3: Read Existing Categories"
   ]
  },
  {
   "cell_type": "code",
   "metadata": {
    "ExecuteTime": {
     "end_time": "2025-05-12T07:17:46.128104Z",
     "start_time": "2025-05-12T07:17:45.131541Z"
    }
   },
   "source": [
    "existing_categories = AssetCategory.filter()\n",
    "print(f\"Existing Categories: {existing_categories}\")"
   ],
   "outputs": [
    {
     "name": "stderr",
     "output_type": "stream",
     "text": [
      "\u001B[2m2025-05-12T07:17:46.125630Z\u001B[0m [\u001B[32m\u001B[1mdebug    \u001B[0m] \u001B[1mtook 0.9929 seconds. Requesting GET from http://127.0.0.1:8000/orm/api/assets/asset-category/\u001B[0m \u001B[36mapplication_name\u001B[0m=\u001B[35mms-sdk\u001B[0m \u001B[36mdata_source_id\u001B[0m=\u001B[35m1\u001B[0m \u001B[36mjob_run_id\u001B[0m=\u001B[35mNone\u001B[0m \u001B[36mproject_id\u001B[0m=\u001B[35m1\u001B[0m (at utils.py:95 in make_request())\n"
     ]
    },
    {
     "name": "stdout",
     "output_type": "stream",
     "text": [
      "Existing Categories: [Top 100 Crypto Market Cap source: coingecko, 100 assets, Top 10 Crypto Market Cap source: coingecko, 10 assets, Top 50 Crypto Market Cap source: coingecko, 50 assets, MAGNIFICENT 7 source: mainsequence, 7 assets, S&P500 Constitutents source: datahub.io, 472 assets, Top 10 US Equity Market Cap source: polygon, 10 assets, Top 50 US Equity Market Cap source: polygon, 50 assets, Top 100 US Equity Market Cap source: polygon, 100 assets, Favorite Crypto source: user_defined, 0 assets]\n"
     ]
    }
   ],
   "execution_count": 11
  },
  {
   "cell_type": "markdown",
   "metadata": {},
   "source": [
    "## Step 4: Update Crypto Category by Adding More Assets"
   ]
  },
  {
   "cell_type": "code",
   "metadata": {
    "ExecuteTime": {
     "end_time": "2025-05-12T07:17:51.115149Z",
     "start_time": "2025-05-12T07:17:49.984191Z"
    }
   },
   "source": [
    "# Fetch additional assets (for example, adding ADAUSDT)\n",
    "new_crypto_asset = Asset.filter(ticker=\"ADAUSDT\", execution_venue__symbol=CONSTANTS.BINANCE_EV_SYMBOL)\n",
    "\n",
    "# Extend existing category with new asset\n",
    "crypto_category=crypto_category.append_assets(asset_ids=[new_crypto_asset[0].id])\n",
    "\n",
    "\n",
    "print(f\"Updated Crypto Category: {crypto_category}\")\n",
    "print(crypto_category.assets)"
   ],
   "outputs": [
    {
     "name": "stderr",
     "output_type": "stream",
     "text": [
      "\u001B[2m2025-05-12T07:17:50.501737Z\u001B[0m [\u001B[32m\u001B[1mdebug    \u001B[0m] \u001B[1mtook 0.5160 seconds. Requesting GET from http://127.0.0.1:8000/orm/api/assets/asset/\u001B[0m \u001B[36mapplication_name\u001B[0m=\u001B[35mms-sdk\u001B[0m \u001B[36mdata_source_id\u001B[0m=\u001B[35m1\u001B[0m \u001B[36mjob_run_id\u001B[0m=\u001B[35mNone\u001B[0m \u001B[36mproject_id\u001B[0m=\u001B[35m1\u001B[0m (at utils.py:95 in make_request())\n",
      "\u001B[2m2025-05-12T07:17:51.112815Z\u001B[0m [\u001B[32m\u001B[1mdebug    \u001B[0m] \u001B[1mtook 0.6097 seconds. Requesting POST from http://127.0.0.1:8000/orm/api/assets/asset-category/38/append-assets/\u001B[0m \u001B[36mapplication_name\u001B[0m=\u001B[35mms-sdk\u001B[0m \u001B[36mdata_source_id\u001B[0m=\u001B[35m1\u001B[0m \u001B[36mjob_run_id\u001B[0m=\u001B[35mNone\u001B[0m \u001B[36mproject_id\u001B[0m=\u001B[35m1\u001B[0m (at utils.py:95 in make_request())\n"
     ]
    },
    {
     "name": "stdout",
     "output_type": "stream",
     "text": [
      "Updated Crypto Category: orm_class='AssetCategory' id=38 unique_identifier='favorite_crypto' display_name='Favorite Crypto' source='user_defined' assets=[23812] organization_owner_uid='00000000-0000-0000-0000-000000000001' description=None\n",
      "[23812]\n"
     ]
    }
   ],
   "execution_count": 12
  },
  {
   "cell_type": "markdown",
   "metadata": {},
   "source": [
    "## Step 5: Delete a Category"
   ]
  },
  {
   "cell_type": "code",
   "metadata": {
    "ExecuteTime": {
     "end_time": "2025-05-12T07:22:14.186991Z",
     "start_time": "2025-05-12T07:22:13.714799Z"
    }
   },
   "source": [
    "stocks_category.delete()\n",
    "print(f\"Deleted category: Favorite US Stocks\")"
   ],
   "outputs": [
    {
     "name": "stderr",
     "output_type": "stream",
     "text": [
      "\u001B[2m2025-05-12T07:22:14.184672Z\u001B[0m [\u001B[32m\u001B[1mdebug    \u001B[0m] \u001B[1mtook 0.4690 seconds. Requesting DELETE from http://127.0.0.1:8000/orm/api/assets/asset-category/33/\u001B[0m \u001B[36mapplication_name\u001B[0m=\u001B[35mms-sdk\u001B[0m \u001B[36mdata_source_id\u001B[0m=\u001B[35m1\u001B[0m \u001B[36mjob_run_id\u001B[0m=\u001B[35mNone\u001B[0m \u001B[36mproject_id\u001B[0m=\u001B[35m1\u001B[0m (at utils.py:95 in make_request())\n"
     ]
    },
    {
     "name": "stdout",
     "output_type": "stream",
     "text": [
      "Deleted category: Favorite US Stocks\n"
     ]
    }
   ],
   "execution_count": 16
  },
  {
   "cell_type": "markdown",
   "metadata": {},
   "source": [
    "### Summary\n",
    "- We selected specific assets from Binance (crypto) and Alpaca (stocks).\n",
    "- We created asset categories for them.\n",
    "- We read and updated categories.\n",
    "- Finally, we deleted a category when it was no longer needed.\n",
    "\n",
    "This tutorial helps you manage asset categories efficiently using `mainsequence.vam_client`. 🚀"
   ]
  }
 ],
 "metadata": {
  "kernelspec": {
   "display_name": "Python 3",
   "language": "python",
   "name": "python3"
  },
  "language_info": {
   "codemirror_mode": {
    "name": "ipython",
    "version": 3
   },
   "file_extension": ".py",
   "mimetype": "text/x-python",
   "name": "python",
   "nbconvert_exporter": "python",
   "pygments_lexer": "ipython3",
   "version": "3.8.10"
  }
 },
 "nbformat": 4,
 "nbformat_minor": 4
}
