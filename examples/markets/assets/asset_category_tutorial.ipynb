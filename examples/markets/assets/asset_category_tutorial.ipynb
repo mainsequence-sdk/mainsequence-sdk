{
 "cells": [
  {
   "cell_type": "markdown",
   "metadata": {},
   "source": [
    "### Asset Category Management Tutorial\n\n",
    "This Jupyter Notebook provides a step-by-step guide on how to manage `AssetCategory` using the `mainsequence.vam_client` library. We will cover:\n\n",
    "1. **Fetching Specific Assets for Different Execution Venues** (Binance for Crypto & Alpaca for US Stocks)\n",
    "2. **Creating Asset Categories**\n",
    "3. **Reading Existing Categories**\n",
    "4. **Updating Categories by Adding More Assets**\n",
    "5. **Deleting Categories**\n"
   ]
  },
  {
   "cell_type": "code",
   "metadata": {
    "ExecuteTime": {
     "end_time": "2025-04-10T10:09:47.892989Z",
     "start_time": "2025-04-10T10:09:46.260356Z"
    }
   },
   "source": [
    "# Import necessary modules\n",
    "import dotenv\n",
    "import os\n",
    "dotenv.load_dotenv('../../../.env')\n",
    "\n",
    "import mainsequence.client\n",
    "from mainsequence.client import Asset, AssetCategory\n",
    "from mainsequence.client import CONSTANTS\n",
    "\n"
   ],
   "outputs": [],
   "execution_count": 1
  },
  {
   "cell_type": "markdown",
   "metadata": {},
   "source": [
    "## Step 1: Fetch Specific Assets"
   ]
  },
  {
   "cell_type": "code",
   "metadata": {
    "ExecuteTime": {
     "end_time": "2025-04-10T10:09:49.167771Z",
     "start_time": "2025-04-10T10:09:48.310702Z"
    }
   },
   "source": [
    "# Select specific crypto assets from Binance\n",
    "crypto_symbols = [\"BTCUSDT\", \"ETHUSDT\", \"SOLUSDT\"]\n",
    "binance_crypto_assets = Asset.filter(symbol__in=crypto_symbols, execution_venue__symbol=CONSTANTS.BINANCE_EV_SYMBOL) \n",
    "\n",
    "# Select specific US stock assets from Alpaca\n",
    "stock_symbols = [\"AAPL\", \"TSLA\", \"MSFT\"]\n",
    "alpaca_us_stocks =Asset.filter(symbol__in=stock_symbols, execution_venue__symbol=CONSTANTS.ALPACA_EV_SYMBOL) \n",
    "\n",
    "# Extract asset IDs\n",
    "crypto_asset_ids = [asset.id for asset in binance_crypto_assets]\n",
    "stock_asset_ids = [asset.id for asset in alpaca_us_stocks]"
   ],
   "outputs": [],
   "execution_count": 2
  },
  {
   "metadata": {
    "ExecuteTime": {
     "end_time": "2025-02-27T13:00:14.529486Z",
     "start_time": "2025-02-27T13:00:14.528195Z"
    }
   },
   "cell_type": "code",
   "source": "",
   "outputs": [],
   "execution_count": null
  },
  {
   "cell_type": "markdown",
   "metadata": {},
   "source": [
    "## Step 2: Create Asset Categories"
   ]
  },
  {
   "metadata": {
    "ExecuteTime": {
     "end_time": "2025-04-10T10:15:24.662078Z",
     "start_time": "2025-04-10T10:09:52.138910Z"
    }
   },
   "cell_type": "code",
   "source": [
    "from mainsequence.client import User\n",
    "#get authenticated user to extract its organization and query if the categories already exists\n",
    "user=User.get_authenticated_user_details()\n",
    "org_uid = user.organization.uid  # "
   ],
   "outputs": [],
   "execution_count": 6
  },
  {
   "metadata": {
    "ExecuteTime": {
     "end_time": "2025-04-10T10:16:01.011077Z",
     "start_time": "2025-04-10T10:16:00.180770Z"
    }
   },
   "cell_type": "code",
   "source": [
    "# Check if the \"Favorite Crypto\" category exists\n",
    "crypto_asset_ids = []\n",
    "crypto_category = AssetCategory.filter(organization_owner_uid=org_uid, display_name=\"Favorite Crypto\")\n",
    "if len(crypto_category)==0:\n",
    "    crypto_category = AssetCategory.create(display_name=\"Favorite Crypto\", source=\"user_defined\", assets=crypto_asset_ids)\n",
    "    print(f\"Created Categories: Crypto: {crypto_category}\")\n",
    "else:\n",
    "    crypto_category=crypto_category[0]"
   ],
   "outputs": [
    {
     "name": "stdout",
     "output_type": "stream",
     "text": [
      "Created Categories: Crypto: orm_class='AssetCategory' id=53 unique_identifier='favorite_crypto' display_name='Favorite Crypto' source='user_defined' assets=[] organization_owner_uid='00000000-0000-0000-0000-000000000001' description=None\n"
     ]
    }
   ],
   "execution_count": 7
  },
  {
   "cell_type": "code",
   "metadata": {
    "ExecuteTime": {
     "end_time": "2025-02-27T13:00:14.977530Z",
     "start_time": "2025-02-27T13:00:14.669202Z"
    }
   },
   "source": [
    "\n",
    "# Check if the \"Favorite US Stocks\" category exists\n",
    "stocks_category = AssetCategory.filter(organization_owner_uid=org_uid, name=\"Favorite US Stocks\")\n",
    "if len(stocks_category)==0:\n",
    "    stocks_category = AssetCategory.create(name=\"Favorite US Stocks\", source=\"user_defined\", assets=stock_asset_ids)\n",
    "    print(f\"Created Categories: Stocks: {stocks_category}\")\n",
    "else:\n",
    "    stocks_category=stocks_category[0]\n",
    "    \n"
   ],
   "outputs": [
    {
     "name": "stdout",
     "output_type": "stream",
     "text": [
      "Created Categories: Crypto: orm_class='AssetCategory' id=458 unique_id='1a3dca4d-f5eb-439c-9522-cb6ff9c962fd' name='Favorite Crypto' source='user_defined' assets=[11440, 12419, 11439] organization_owner_uid='00000000-0000-0000-0000-000000000001'\n"
     ]
    }
   ],
   "execution_count": 4
  },
  {
   "metadata": {
    "ExecuteTime": {
     "end_time": "2025-02-27T13:00:14.983985Z",
     "start_time": "2025-02-27T13:00:14.982673Z"
    }
   },
   "cell_type": "code",
   "source": "",
   "outputs": [],
   "execution_count": null
  },
  {
   "cell_type": "markdown",
   "metadata": {},
   "source": [
    "## Step 3: Read Existing Categories"
   ]
  },
  {
   "cell_type": "code",
   "metadata": {
    "ExecuteTime": {
     "end_time": "2025-04-10T10:19:31.347404Z",
     "start_time": "2025-04-10T10:19:30.396899Z"
    }
   },
   "source": [
    "existing_categories = AssetCategory.filter()\n",
    "print(f\"Existing Categories: {existing_categories}\")"
   ],
   "outputs": [
    {
     "name": "stdout",
     "output_type": "stream",
     "text": [
      "Existing Categories: [Magnificent 7 Alpaca source: user_defined, 7 assets, MAGNIFICENT 7 source: mainsequence, 7 assets, S&P500 Constitutents source: datahub.io, 472 assets, Top 10 Crypto Market Cap source: coingecko, 10 assets, Top 50 Crypto Market Cap source: coingecko, 50 assets, Top 100 Crypto Market Cap source: coingecko, 100 assets, Top 100 Crypto Market Cap_BINANCE source: coingecko, 92 assets, Favorite Crypto source: user_defined, 0 assets]\n"
     ]
    }
   ],
   "execution_count": 8
  },
  {
   "cell_type": "markdown",
   "metadata": {},
   "source": [
    "## Step 4: Update Crypto Category by Adding More Assets"
   ]
  },
  {
   "cell_type": "code",
   "metadata": {
    "ExecuteTime": {
     "end_time": "2025-04-10T10:19:46.064684Z",
     "start_time": "2025-04-10T10:19:44.956697Z"
    }
   },
   "source": [
    "# Fetch additional assets (for example, adding ADAUSDT)\n",
    "new_crypto_asset = Asset.filter(symbol=\"ADAUSDT\", execution_venue__symbol=CONSTANTS.BINANCE_EV_SYMBOL)\n",
    "\n",
    "# Extend existing category with new asset\n",
    "crypto_category=crypto_category.append_assets(asset_ids=[new_crypto_asset[0].id])\n",
    "                              \n",
    "                            \n",
    "\n",
    "\n",
    "print(f\"Updated Crypto Category: {crypto_category}\")\n",
    "print(crypto_category.assets)"
   ],
   "outputs": [
    {
     "name": "stdout",
     "output_type": "stream",
     "text": [
      "Updated Crypto Category: orm_class='AssetCategory' id=53 unique_identifier='favorite_crypto' display_name='Favorite Crypto' source='user_defined' assets=[193084] organization_owner_uid='00000000-0000-0000-0000-000000000001' description=None\n",
      "[193084]\n"
     ]
    }
   ],
   "execution_count": 9
  },
  {
   "cell_type": "markdown",
   "metadata": {},
   "source": [
    "## Step 5: Delete a Category"
   ]
  },
  {
   "cell_type": "code",
   "metadata": {
    "ExecuteTime": {
     "end_time": "2025-02-27T13:00:16.271288Z",
     "start_time": "2025-02-27T13:00:16.160139Z"
    }
   },
   "source": [
    "stocks_category.delete()\n",
    "print(f\"Deleted category: Favorite US Stocks\")"
   ],
   "outputs": [
    {
     "name": "stdout",
     "output_type": "stream",
     "text": [
      "Deleted category: Favorite US Stocks\n"
     ]
    }
   ],
   "execution_count": 7
  },
  {
   "cell_type": "markdown",
   "metadata": {},
   "source": [
    "### Summary\n",
    "- We selected specific assets from Binance (crypto) and Alpaca (stocks).\n",
    "- We created asset categories for them.\n",
    "- We read and updated categories.\n",
    "- Finally, we deleted a category when it was no longer needed.\n",
    "\n",
    "This tutorial helps you manage asset categories efficiently using `mainsequence.vam_client`. 🚀"
   ]
  }
 ],
 "metadata": {
  "kernelspec": {
   "display_name": "Python 3",
   "language": "python",
   "name": "python3"
  },
  "language_info": {
   "codemirror_mode": {
    "name": "ipython",
    "version": 3
   },
   "file_extension": ".py",
   "mimetype": "text/x-python",
   "name": "python",
   "nbconvert_exporter": "python",
   "pygments_lexer": "ipython3",
   "version": "3.8.10"
  }
 },
 "nbformat": 4,
 "nbformat_minor": 4
}
