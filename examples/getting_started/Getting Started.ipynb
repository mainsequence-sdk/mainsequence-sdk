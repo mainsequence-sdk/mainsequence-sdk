{
 "cells": [
  {
   "metadata": {
    "ExecuteTime": {
     "end_time": "2025-03-24T15:09:02.290991Z",
     "start_time": "2025-03-24T15:09:01.853852Z"
    }
   },
   "cell_type": "code",
   "source": [
    "\n",
    "#comment out for local testing out of Main Sequence Platform\n",
    "import dotenv\n",
    "dotenv.load_dotenv('../../.env')\n",
    "\n",
    "from mainsequence.virtualfundbuilder.portfolio_interface import PortfolioInterface\n",
    "from mainsequence.virtualfundbuilder.agent_interface import TDAGAgent"
   ],
   "id": "8c9bb090157e4c1a",
   "outputs": [
    {
     "name": "stderr",
     "output_type": "stream",
     "text": [
      "\u001B[2m2025-03-24T15:09:02.141802Z\u001B[0m [\u001B[31m\u001B[1merror    \u001B[0m] \u001B[1mCould not retrive pod project Project ID not found, server response {'detail': 'Invalid token.'}\u001B[0m \u001B[36mapplication_name\u001B[0m=\u001B[35mms-sdk\u001B[0m\n",
      "Traceback (most recent call last):\n",
      "  File \"/home/jose/code/MainSequenceClientSide/mainsequence-sdk/mainsequence/logconf.py\", line 191, in build_application_logger\n",
      "    raise ValueError(f\"Project ID not found, server response {json_response}\")\n",
      "ValueError: Project ID not found, server response {'detail': 'Invalid token.'} (at logconf.py:198 in build_application_logger())\n"
     ]
    },
    {
     "name": "stdout",
     "output_type": "stream",
     "text": [
      "Got Status Code 403 with response {\"detail\":\"Invalid token.\"}\n"
     ]
    },
    {
     "ename": "ValueError",
     "evalue": "Project ID not found, server response {'detail': 'Invalid token.'}",
     "output_type": "error",
     "traceback": [
      "\u001B[0;31m---------------------------------------------------------------------------\u001B[0m",
      "\u001B[0;31mValueError\u001B[0m                                Traceback (most recent call last)",
      "Cell \u001B[0;32mIn[2], line 5\u001B[0m\n\u001B[1;32m      2\u001B[0m \u001B[38;5;28;01mimport\u001B[39;00m\u001B[38;5;250m \u001B[39m\u001B[38;5;21;01mdotenv\u001B[39;00m\n\u001B[1;32m      3\u001B[0m dotenv\u001B[38;5;241m.\u001B[39mload_dotenv(\u001B[38;5;124m'\u001B[39m\u001B[38;5;124m../../.env\u001B[39m\u001B[38;5;124m'\u001B[39m)\n\u001B[0;32m----> 5\u001B[0m \u001B[38;5;28;01mfrom\u001B[39;00m\u001B[38;5;250m \u001B[39m\u001B[38;5;21;01mmainsequence\u001B[39;00m\u001B[38;5;21;01m.\u001B[39;00m\u001B[38;5;21;01mvirtualfundbuilder\u001B[39;00m\u001B[38;5;21;01m.\u001B[39;00m\u001B[38;5;21;01mportfolio_interface\u001B[39;00m\u001B[38;5;250m \u001B[39m\u001B[38;5;28;01mimport\u001B[39;00m PortfolioInterface\n\u001B[1;32m      6\u001B[0m \u001B[38;5;28;01mfrom\u001B[39;00m\u001B[38;5;250m \u001B[39m\u001B[38;5;21;01mmainsequence\u001B[39;00m\u001B[38;5;21;01m.\u001B[39;00m\u001B[38;5;21;01mvirtualfundbuilder\u001B[39;00m\u001B[38;5;21;01m.\u001B[39;00m\u001B[38;5;21;01magent_interface\u001B[39;00m\u001B[38;5;250m \u001B[39m\u001B[38;5;28;01mimport\u001B[39;00m TDAGAgent\n",
      "File \u001B[0;32m~/code/MainSequenceClientSide/mainsequence-sdk/mainsequence/__init__.py:3\u001B[0m\n\u001B[1;32m      2\u001B[0m \u001B[38;5;28;01mimport\u001B[39;00m\u001B[38;5;250m \u001B[39m\u001B[38;5;21;01mos\u001B[39;00m\n\u001B[0;32m----> 3\u001B[0m \u001B[38;5;28;01mfrom\u001B[39;00m\u001B[38;5;250m \u001B[39m\u001B[38;5;21;01m.\u001B[39;00m\u001B[38;5;21;01mclient\u001B[39;00m\u001B[38;5;250m \u001B[39m\u001B[38;5;28;01mimport\u001B[39;00m TDAG_CONSTANTS, VAM_CONSTANTS\n",
      "File \u001B[0;32m~/code/MainSequenceClientSide/mainsequence-sdk/mainsequence/client/__init__.py:2\u001B[0m\n\u001B[0;32m----> 2\u001B[0m \u001B[38;5;28;01mfrom\u001B[39;00m\u001B[38;5;250m \u001B[39m\u001B[38;5;21;01m.\u001B[39;00m\u001B[38;5;21;01mutils\u001B[39;00m\u001B[38;5;250m \u001B[39m\u001B[38;5;28;01mimport\u001B[39;00m AuthLoaders\n\u001B[1;32m      3\u001B[0m \u001B[38;5;28;01mfrom\u001B[39;00m\u001B[38;5;250m \u001B[39m\u001B[38;5;21;01m.\u001B[39;00m\u001B[38;5;21;01mmodels_tdag\u001B[39;00m\u001B[38;5;250m \u001B[39m\u001B[38;5;28;01mimport\u001B[39;00m (request_to_datetime, LocalTimeSeriesDoesNotExist, DynamicTableDoesNotExist,\n\u001B[1;32m      4\u001B[0m                            SourceTableConfigurationDoesNotExist, LocalTimeSerieUpdateDetails,register_strategy,\n\u001B[1;32m      5\u001B[0m                            JSON_COMPRESSED_PREFIX, Scheduler, SchedulerDoesNotExist, LocalTimeSerie,\n\u001B[1;32m      6\u001B[0m                            DynamicTableMetaData, DynamicTableDataSource, LocalTimeSerieNode, PodLocalLake,\n\u001B[1;32m      7\u001B[0m                            Project, UniqueIdentifierRangeMap, LocalTimeSeriesHistoricalUpdate, BACKEND_DETACHED,\n\u001B[1;32m      8\u001B[0m                            DataUpdates)\n\u001B[1;32m     10\u001B[0m \u001B[38;5;28;01mfrom\u001B[39;00m\u001B[38;5;250m \u001B[39m\u001B[38;5;21;01m.\u001B[39;00m\u001B[38;5;21;01mutils\u001B[39;00m\u001B[38;5;250m \u001B[39m\u001B[38;5;28;01mimport\u001B[39;00m TDAG_CONSTANTS, VAM_CONSTANTS\n",
      "File \u001B[0;32m~/code/MainSequenceClientSide/mainsequence-sdk/mainsequence/client/utils.py:12\u001B[0m\n\u001B[1;32m     10\u001B[0m \u001B[38;5;28;01mimport\u001B[39;00m\u001B[38;5;250m \u001B[39m\u001B[38;5;21;01mpytz\u001B[39;00m\n\u001B[1;32m     11\u001B[0m \u001B[38;5;28;01mfrom\u001B[39;00m\u001B[38;5;250m \u001B[39m\u001B[38;5;21;01mtyping\u001B[39;00m\u001B[38;5;250m \u001B[39m\u001B[38;5;28;01mimport\u001B[39;00m Union\n\u001B[0;32m---> 12\u001B[0m \u001B[38;5;28;01mfrom\u001B[39;00m\u001B[38;5;250m \u001B[39m\u001B[38;5;21;01mmainsequence\u001B[39;00m\u001B[38;5;21;01m.\u001B[39;00m\u001B[38;5;21;01mlogconf\u001B[39;00m\u001B[38;5;250m \u001B[39m\u001B[38;5;28;01mimport\u001B[39;00m logger\n\u001B[1;32m     14\u001B[0m DATE_FORMAT \u001B[38;5;241m=\u001B[39m \u001B[38;5;124m'\u001B[39m\u001B[38;5;124m%\u001B[39m\u001B[38;5;124mY-\u001B[39m\u001B[38;5;124m%\u001B[39m\u001B[38;5;124mm-\u001B[39m\u001B[38;5;132;01m%d\u001B[39;00m\u001B[38;5;124mT\u001B[39m\u001B[38;5;124m%\u001B[39m\u001B[38;5;124mH:\u001B[39m\u001B[38;5;124m%\u001B[39m\u001B[38;5;124mM:\u001B[39m\u001B[38;5;124m%\u001B[39m\u001B[38;5;124mS.\u001B[39m\u001B[38;5;132;01m%f\u001B[39;00m\u001B[38;5;124mZ\u001B[39m\u001B[38;5;124m'\u001B[39m\n\u001B[1;32m     16\u001B[0m \u001B[38;5;28;01mdef\u001B[39;00m\u001B[38;5;250m \u001B[39m\u001B[38;5;21mrequest_to_datetime\u001B[39m(string_date: \u001B[38;5;28mstr\u001B[39m):\n",
      "File \u001B[0;32m~/code/MainSequenceClientSide/mainsequence-sdk/mainsequence/logconf.py:205\u001B[0m\n\u001B[1;32m    201\u001B[0m     logger \u001B[38;5;241m=\u001B[39m logger\u001B[38;5;241m.\u001B[39mbind()\n\u001B[1;32m    202\u001B[0m     \u001B[38;5;28;01mreturn\u001B[39;00m logger\n\u001B[0;32m--> 205\u001B[0m logger \u001B[38;5;241m=\u001B[39m \u001B[43mbuild_application_logger\u001B[49m\u001B[43m(\u001B[49m\u001B[43m)\u001B[49m\n",
      "File \u001B[0;32m~/code/MainSequenceClientSide/mainsequence-sdk/mainsequence/logconf.py:199\u001B[0m, in \u001B[0;36mbuild_application_logger\u001B[0;34m(application_name, **metadata)\u001B[0m\n\u001B[1;32m    197\u001B[0m \u001B[38;5;28;01mexcept\u001B[39;00m \u001B[38;5;167;01mException\u001B[39;00m \u001B[38;5;28;01mas\u001B[39;00m e:\n\u001B[1;32m    198\u001B[0m     logger\u001B[38;5;241m.\u001B[39mexception(\u001B[38;5;124mf\u001B[39m\u001B[38;5;124m\"\u001B[39m\u001B[38;5;124mCould not retrive pod project \u001B[39m\u001B[38;5;132;01m{\u001B[39;00me\u001B[38;5;132;01m}\u001B[39;00m\u001B[38;5;124m\"\u001B[39m)\n\u001B[0;32m--> 199\u001B[0m     \u001B[38;5;28;01mraise\u001B[39;00m e\n\u001B[1;32m    201\u001B[0m logger \u001B[38;5;241m=\u001B[39m logger\u001B[38;5;241m.\u001B[39mbind()\n\u001B[1;32m    202\u001B[0m \u001B[38;5;28;01mreturn\u001B[39;00m logger\n",
      "File \u001B[0;32m~/code/MainSequenceClientSide/mainsequence-sdk/mainsequence/logconf.py:191\u001B[0m, in \u001B[0;36mbuild_application_logger\u001B[0;34m(application_name, **metadata)\u001B[0m\n\u001B[1;32m    188\u001B[0m json_response \u001B[38;5;241m=\u001B[39m response\u001B[38;5;241m.\u001B[39mjson()\n\u001B[1;32m    190\u001B[0m \u001B[38;5;28;01mif\u001B[39;00m \u001B[38;5;124m\"\u001B[39m\u001B[38;5;124mproject_id\u001B[39m\u001B[38;5;124m\"\u001B[39m \u001B[38;5;129;01mnot\u001B[39;00m \u001B[38;5;129;01min\u001B[39;00m json_response:\n\u001B[0;32m--> 191\u001B[0m     \u001B[38;5;28;01mraise\u001B[39;00m \u001B[38;5;167;01mValueError\u001B[39;00m(\u001B[38;5;124mf\u001B[39m\u001B[38;5;124m\"\u001B[39m\u001B[38;5;124mProject ID not found, server response \u001B[39m\u001B[38;5;132;01m{\u001B[39;00mjson_response\u001B[38;5;132;01m}\u001B[39;00m\u001B[38;5;124m\"\u001B[39m)\n\u001B[1;32m    193\u001B[0m logger \u001B[38;5;241m=\u001B[39m logger\u001B[38;5;241m.\u001B[39mbind(project_id\u001B[38;5;241m=\u001B[39mjson_response[\u001B[38;5;124m\"\u001B[39m\u001B[38;5;124mproject_id\u001B[39m\u001B[38;5;124m\"\u001B[39m], \u001B[38;5;241m*\u001B[39m\u001B[38;5;241m*\u001B[39mmetadata)\n\u001B[1;32m    194\u001B[0m logger \u001B[38;5;241m=\u001B[39m logger\u001B[38;5;241m.\u001B[39mbind(data_source_id\u001B[38;5;241m=\u001B[39mjson_response[\u001B[38;5;124m\"\u001B[39m\u001B[38;5;124mdata_source_id\u001B[39m\u001B[38;5;124m\"\u001B[39m], \u001B[38;5;241m*\u001B[39m\u001B[38;5;241m*\u001B[39mmetadata)\n",
      "\u001B[0;31mValueError\u001B[0m: Project ID not found, server response {'detail': 'Invalid token.'}"
     ]
    }
   ],
   "execution_count": 2
  },
  {
   "metadata": {},
   "cell_type": "markdown",
   "source": "# Connect to the TDAG-LLM Agent",
   "id": "67f98089503b1773"
  },
  {
   "metadata": {
    "ExecuteTime": {
     "end_time": "2025-03-17T20:04:12.506315Z",
     "start_time": "2025-03-17T20:04:11.734265Z"
    }
   },
   "cell_type": "code",
   "source": "tdag_agent = TDAGAgent()",
   "id": "33b3e037285a8d82",
   "outputs": [
    {
     "name": "stderr",
     "output_type": "stream",
     "text": [
      "2025-03-17T20:04:11.881329Z [debug    ] Send default documentation to Backend application_name=ms-sdk data_source_id=1 job_run_id=None project_id=3 (at __main__.py:173 in send_default_configuration())\n",
      "2025-03-17T20:04:11.906255Z [debug    ] Requesting POST from http://127.0.0.1:8000/orm/api/tdag-gpt/register_default_configuration/ application_name=ms-sdk data_source_id=1 job_run_id=None project_id=3 (at utils.py:55 in make_request())\n",
      "2025-03-17T20:04:12.479395Z [info     ] Setup TDAG Agent successfull   application_name=ms-sdk data_source_id=1 job_run_id=None project_id=3 (at agent_interface.py:28 in __init__())\n"
     ]
    }
   ],
   "execution_count": 2
  },
  {
   "metadata": {},
   "cell_type": "markdown",
   "source": "# Create a custom Strategy",
   "id": "4e0b2d1902a9b3d6"
  },
  {
   "metadata": {},
   "cell_type": "markdown",
   "source": "# Get the configuration for the full portfolio based on our strategy",
   "id": "22e3d24a3bbc1ef5"
  },
  {
   "metadata": {
    "ExecuteTime": {
     "end_time": "2025-03-17T20:04:12.736527Z",
     "start_time": "2025-03-17T20:04:12.721625Z"
    }
   },
   "cell_type": "code",
   "source": "PortfolioInterface.list_configurations()",
   "id": "82d82eb8b40cfce9",
   "outputs": [
    {
     "data": {
      "text/plain": [
       "['FixedWeights_configuration',\n",
       " 'MarketCapCryptoSpot_configuration',\n",
       " 'MarketCapEquities_configuration',\n",
       " 'MarketCap_configuration']"
      ]
     },
     "execution_count": 3,
     "metadata": {},
     "output_type": "execute_result"
    }
   ],
   "execution_count": 3
  },
  {
   "cell_type": "code",
   "id": "initial_id",
   "metadata": {
    "collapsed": true,
    "ExecuteTime": {
     "end_time": "2025-03-17T20:04:50.038397Z",
     "start_time": "2025-03-17T20:04:12.756149Z"
    }
   },
   "source": [
    "from mainsequence.virtualfundbuilder.contrib.signals import MarketCap\n",
    "\n",
    "portfolio = tdag_agent.generate_portfolio(MarketCap, signal_description=\"Create me a market cap portfolio using AAPL and GOOG\")\n",
    "\n",
    "portfolio"
   ],
   "outputs": [
    {
     "name": "stderr",
     "output_type": "stream",
     "text": [
      "2025-03-17T20:04:12.761170Z [debug    ] Register signal: MarketCap     application_name=ms-sdk data_source_id=1 job_run_id=None project_id=3 (at utils.py:675 in _send_strategy_to_registry())\n",
      "2025-03-17T20:04:12.781214Z [debug    ] Requesting POST from http://127.0.0.1:8000/orm/api/tdag-gpt/register_strategy/ application_name=ms-sdk data_source_id=1 job_run_id=None project_id=3 (at utils.py:55 in make_request())\n",
      "2025-03-17T20:04:13.299679Z [info     ] Get configuration for MarketCap ... application_name=ms-sdk data_source_id=1 job_run_id=None project_id=3 (at agent_interface.py:43 in generate_portfolio())\n",
      "2025-03-17T20:04:13.312259Z [debug    ] Requesting POST from http://127.0.0.1:8000/orm/api/tdag-gpt/create_configuration_for_strategy/ application_name=ms-sdk data_source_id=1 job_run_id=None project_id=3 (at utils.py:55 in make_request())\n",
      "2025-03-17T20:04:49.364836Z [info     ] Replaced 'None' in configuration with None at root.portfolio_build_configuration.backtesting_weights_configuration.signal_weights_configuration.num_top_assets application_name=ms-sdk data_source_id=1 job_run_id=None project_id=3 (at config_handling.py:159 in recursive_replace())\n",
      "2025-03-17T20:04:49.381912Z [debug    ] Requesting GET from http://127.0.0.1:8000/orm/api/alpaca/asset/spot/ application_name=ms-sdk data_source_id=1 job_run_id=None project_id=3 (at utils.py:55 in make_request())\n",
      "2025-03-17T20:04:50.009119Z [info     ] Received configuration:\n",
      "Configuration Name: -\n",
      "portfolio_build_configuration:\n",
      "  assets_configuration:\n",
      "    asset_universe:\n",
      "      asset_filters:\n",
      "      - asset_type: cash_equity\n",
      "        execution_venue__symbol: alpaca\n",
      "        symbol: AAPL\n",
      "      - asset_type: cash_equity\n",
      "        execution_venue__symbol: alpaca\n",
      "        symbol: GOOG\n",
      "    price_type: vwap\n",
      "    prices_configuration:\n",
      "      bar_frequency_id: 1d\n",
      "      intraday_bar_interpolation_rule: ffill\n",
      "      upsample_frequency_id: 1d\n",
      "  backtesting_weights_configuration:\n",
      "    rebalance_strategy_configuration:\n",
      "      calendar: 24/7\n",
      "    rebalance_strategy_name: ImmediateSignal\n",
      "    signal_weights_configuration:\n",
      "      num_top_assets: None\n",
      "      signal_assets_configuration:\n",
      "        asset_universe:\n",
      "          asset_filters:\n",
      "          - asset_type: cash_equity\n",
      "            execution_venue__symbol: alpaca\n",
      "            symbol: AAPL\n",
      "          - asset_type: cash_equity\n",
      "            execution_venue__symbol: alpaca\n",
      "            symbol: GOOG\n",
      "        price_type: vwap\n",
      "        prices_configuration:\n",
      "          bar_frequency_id: 1d\n",
      "          intraday_bar_interpolation_rule: ffill\n",
      "          upsample_frequency_id: 1d\n",
      "      source_frequency: 1d\n",
      "    signal_weights_name: MarketCap\n",
      "  execution_configuration:\n",
      "    commission_fee: 0.00018\n",
      "  portfolio_prices_frequency: 1d\n",
      "  valuation_asset:\n",
      "    asset_type: cash_equity\n",
      "    execution_venue_symbol: alpaca\n",
      "    symbol: USD\n",
      "portfolio_vam_configuration:\n",
      "  execution_configuration:\n",
      "    max_data_latency_seconds: 60\n",
      "    max_latency_in_cdc_seconds: 300\n",
      "    minimum_notional_for_a_rebalance: 15.0\n",
      "    minimum_positions_holding_seconds: 600\n",
      "    orders_execution_configuration:\n",
      "      broker_class: PriceChaserBroker\n",
      "      broker_configuration:\n",
      "        execution_time_out_seconds: 300\n",
      "        max_order_life_time_seconds: 2\n",
      "    rebalance_step_every_seconds: 300\n",
      "    rebalance_tolerance_percent: 0.005\n",
      "    unwind_funds_hanging_limit_seconds: 3600\n",
      "  front_end_details: ''\n",
      "  portfolio_name: Portfolio Strategy Title\n",
      " application_name=ms-sdk data_source_id=1 job_run_id=None project_id=3 (at agent_interface.py:54 in generate_portfolio())\n"
     ]
    },
    {
     "data": {
      "text/plain": [
       "Configuration Name: -\n",
       "portfolio_build_configuration:\n",
       "  assets_configuration:\n",
       "    asset_universe:\n",
       "      asset_filters:\n",
       "      - asset_type: cash_equity\n",
       "        execution_venue__symbol: alpaca\n",
       "        symbol: AAPL\n",
       "      - asset_type: cash_equity\n",
       "        execution_venue__symbol: alpaca\n",
       "        symbol: GOOG\n",
       "    price_type: vwap\n",
       "    prices_configuration:\n",
       "      bar_frequency_id: 1d\n",
       "      intraday_bar_interpolation_rule: ffill\n",
       "      upsample_frequency_id: 1d\n",
       "  backtesting_weights_configuration:\n",
       "    rebalance_strategy_configuration:\n",
       "      calendar: 24/7\n",
       "    rebalance_strategy_name: ImmediateSignal\n",
       "    signal_weights_configuration:\n",
       "      num_top_assets: None\n",
       "      signal_assets_configuration:\n",
       "        asset_universe:\n",
       "          asset_filters:\n",
       "          - asset_type: cash_equity\n",
       "            execution_venue__symbol: alpaca\n",
       "            symbol: AAPL\n",
       "          - asset_type: cash_equity\n",
       "            execution_venue__symbol: alpaca\n",
       "            symbol: GOOG\n",
       "        price_type: vwap\n",
       "        prices_configuration:\n",
       "          bar_frequency_id: 1d\n",
       "          intraday_bar_interpolation_rule: ffill\n",
       "          upsample_frequency_id: 1d\n",
       "      source_frequency: 1d\n",
       "    signal_weights_name: MarketCap\n",
       "  execution_configuration:\n",
       "    commission_fee: 0.00018\n",
       "  portfolio_prices_frequency: 1d\n",
       "  valuation_asset:\n",
       "    asset_type: cash_equity\n",
       "    execution_venue_symbol: alpaca\n",
       "    symbol: USD\n",
       "portfolio_vam_configuration:\n",
       "  execution_configuration:\n",
       "    max_data_latency_seconds: 60\n",
       "    max_latency_in_cdc_seconds: 300\n",
       "    minimum_notional_for_a_rebalance: 15.0\n",
       "    minimum_positions_holding_seconds: 600\n",
       "    orders_execution_configuration:\n",
       "      broker_class: PriceChaserBroker\n",
       "      broker_configuration:\n",
       "        execution_time_out_seconds: 300\n",
       "        max_order_life_time_seconds: 2\n",
       "    rebalance_step_every_seconds: 300\n",
       "    rebalance_tolerance_percent: 0.005\n",
       "    unwind_funds_hanging_limit_seconds: 3600\n",
       "  front_end_details: ''\n",
       "  portfolio_name: Portfolio Strategy Title"
      ]
     },
     "execution_count": 4,
     "metadata": {},
     "output_type": "execute_result"
    }
   ],
   "execution_count": 4
  },
  {
   "metadata": {},
   "cell_type": "markdown",
   "source": "# Run the strategy",
   "id": "942a3a9a3448b48f"
  },
  {
   "metadata": {
    "ExecuteTime": {
     "start_time": "2025-03-17T20:04:50.073051Z"
    }
   },
   "cell_type": "code",
   "source": [
    "res = portfolio.run()\n",
    "res.head()"
   ],
   "id": "7fa00114d7ef0b8",
   "outputs": [
    {
     "name": "stderr",
     "output_type": "stream",
     "text": [
      "2025-03-17T20:04:50.076119Z [debug    ] Requesting GET from http://127.0.0.1:8000/orm/api/data_sources/historical-bars-source/ application_name=ms-sdk data_source_id=1 job_run_id=None project_id=3 (at utils.py:55 in make_request())\n"
     ]
    }
   ],
   "execution_count": null
  },
  {
   "metadata": {},
   "cell_type": "markdown",
   "source": "# Plot the portfolio results",
   "id": "c8168bc319a2969a"
  },
  {
   "metadata": {},
   "cell_type": "code",
   "source": [
    "import plotly.graph_objects as go\n",
    "import pandas as pd\n",
    "\n",
    "# Create the plot\n",
    "fig = go.Figure()\n",
    "\n",
    "fig.add_trace(\n",
    "    go.Scatter(\n",
    "        x=res.index, \n",
    "        y=res[\"close\"], \n",
    "        mode=\"lines+markers\",\n",
    "        name=\"Portfolio Value\",\n",
    "        line=dict(color='blue', width=1),\n",
    "        marker=dict(size=2)\n",
    "    )\n",
    ")\n",
    "\n",
    "# Customize layout\n",
    "fig.update_layout(\n",
    "    title=\"Portfolio Value Over Time\",\n",
    "    xaxis_title=\"Date\",\n",
    "    yaxis_title=\"Portfolio Value\",\n",
    "    template=\"plotly_white\",\n",
    "    hovermode=\"x unified\"\n",
    ")\n",
    "\n",
    "# Show the plot\n",
    "fig.show()"
   ],
   "id": "5e4a64ab6030cb60",
   "outputs": [],
   "execution_count": null
  },
  {
   "metadata": {},
   "cell_type": "code",
   "source": "",
   "id": "9cb1bc6a12b9e8a6",
   "outputs": [],
   "execution_count": null
  }
 ],
 "metadata": {
  "kernelspec": {
   "display_name": "Python 3",
   "language": "python",
   "name": "python3"
  },
  "language_info": {
   "codemirror_mode": {
    "name": "ipython",
    "version": 2
   },
   "file_extension": ".py",
   "mimetype": "text/x-python",
   "name": "python",
   "nbconvert_exporter": "python",
   "pygments_lexer": "ipython2",
   "version": "2.7.6"
  }
 },
 "nbformat": 4,
 "nbformat_minor": 5
}
