{
 "cells": [
  {
   "metadata": {
    "ExecuteTime": {
     "end_time": "2025-07-17T12:56:56.697622Z",
     "start_time": "2025-07-17T12:56:51.447015Z"
    }
   },
   "cell_type": "code",
   "source": [
    "\n",
    "#comment out for local testing out of Main Sequence Platform\n",
    "import dotenv\n",
    "dotenv.load_dotenv('../../.env')\n",
    "\n",
    "from mainsequence.virtualfundbuilder.portfolio_interface import PortfolioInterface\n",
    "from mainsequence.virtualfundbuilder.agent_interface import TDAGAgent"
   ],
   "id": "8c9bb090157e4c1a",
   "outputs": [
    {
     "name": "stderr",
     "output_type": "stream",
     "text": [
      "\u001B[2m2025-07-17T12:56:52.172531Z\u001B[0m [\u001B[32m\u001B[1mdebug    \u001B[0m] \u001B[1mGetting Auth Headers ASSETS_ORM\u001B[0m \u001B[36mapplication_name\u001B[0m=\u001B[35mms-sdk\u001B[0m \u001B[36mcommand_id\u001B[0m=\u001B[35mNone\u001B[0m \u001B[36mdata_source_id\u001B[0m=\u001B[35m45\u001B[0m \u001B[36mjob_run_id\u001B[0m=\u001B[35mNone\u001B[0m \u001B[36mproject_id\u001B[0m=\u001B[35m1\u001B[0m (at utils.py:39 in refresh_headers())\n",
      "\u001B[2m2025-07-17T12:56:52.209372Z\u001B[0m [\u001B[32m\u001B[1mdebug    \u001B[0m] \u001B[1mGetting Auth Headers ASSETS_ORM\u001B[0m \u001B[36mapplication_name\u001B[0m=\u001B[35mms-sdk\u001B[0m \u001B[36mcommand_id\u001B[0m=\u001B[35mNone\u001B[0m \u001B[36mdata_source_id\u001B[0m=\u001B[35m45\u001B[0m \u001B[36mjob_run_id\u001B[0m=\u001B[35mNone\u001B[0m \u001B[36mproject_id\u001B[0m=\u001B[35m1\u001B[0m (at utils.py:39 in refresh_headers())\n",
      "\u001B[2m2025-07-17T12:56:52.593519Z\u001B[0m [\u001B[32m\u001B[1mdebug    \u001B[0m] \u001B[1mtook 0.3719 seconds. Requesting GET from http://127.0.0.1:8000/orm/api/pods/projects/get_user_default_project/\u001B[0m \u001B[36mapplication_name\u001B[0m=\u001B[35mms-sdk\u001B[0m \u001B[36mcommand_id\u001B[0m=\u001B[35mNone\u001B[0m \u001B[36mdata_source_id\u001B[0m=\u001B[35m45\u001B[0m \u001B[36mjob_run_id\u001B[0m=\u001B[35mNone\u001B[0m \u001B[36mproject_id\u001B[0m=\u001B[35m1\u001B[0m (at utils.py:95 in make_request())\n",
      "\u001B[2m2025-07-17T12:56:52.594609Z\u001B[0m [\u001B[32m\u001B[1minfo     \u001B[0m] \u001B[1mSet remote data source to orm_class='DataSource' id=45 display_name='Default DB' organization=1 class_type='timescale_db' status='AVAILABLE' extra_arguments=None\u001B[0m \u001B[36mapplication_name\u001B[0m=\u001B[35mms-sdk\u001B[0m \u001B[36mcommand_id\u001B[0m=\u001B[35mNone\u001B[0m \u001B[36mdata_source_id\u001B[0m=\u001B[35m45\u001B[0m \u001B[36mjob_run_id\u001B[0m=\u001B[35mNone\u001B[0m \u001B[36mproject_id\u001B[0m=\u001B[35m1\u001B[0m (at models_tdag.py:2173 in set_remote_db())\n",
      "\u001B[2m2025-07-17T12:56:52.791320Z\u001B[0m [\u001B[32m\u001B[1mdebug    \u001B[0m] \u001B[1mRegistered ResourceType.APP class 'ExampleReportApp': <class 'mainsequence.virtualfundbuilder.contrib.apps.generate_report.ExampleReportApp'>\u001B[0m \u001B[36mapplication_name\u001B[0m=\u001B[35mms-sdk\u001B[0m \u001B[36mcommand_id\u001B[0m=\u001B[35mNone\u001B[0m \u001B[36mdata_source_id\u001B[0m=\u001B[35m45\u001B[0m \u001B[36mjob_run_id\u001B[0m=\u001B[35mNone\u001B[0m \u001B[36mproject_id\u001B[0m=\u001B[35m1\u001B[0m (at base_factory.py:127 in insert_in_registry())\n",
      "\u001B[2m2025-07-17T12:56:52.910286Z\u001B[0m [\u001B[32m\u001B[1mdebug    \u001B[0m] \u001B[1mGetting Auth Headers ASSETS_ORM\u001B[0m \u001B[36mapplication_name\u001B[0m=\u001B[35mms-sdk\u001B[0m \u001B[36mcommand_id\u001B[0m=\u001B[35mNone\u001B[0m \u001B[36mdata_source_id\u001B[0m=\u001B[35m45\u001B[0m \u001B[36mjob_run_id\u001B[0m=\u001B[35mNone\u001B[0m \u001B[36mproject_id\u001B[0m=\u001B[35m1\u001B[0m (at utils.py:39 in refresh_headers())\n",
      "\u001B[2m2025-07-17T12:56:53.215536Z\u001B[0m [\u001B[32m\u001B[1mdebug    \u001B[0m] \u001B[1mtook 0.4091 seconds. Requesting POST from http://127.0.0.1:8000/orm/api/tdag-gpt/dynamic_resource/\u001B[0m \u001B[36mapplication_name\u001B[0m=\u001B[35mms-sdk\u001B[0m \u001B[36mcommand_id\u001B[0m=\u001B[35mNone\u001B[0m \u001B[36mdata_source_id\u001B[0m=\u001B[35m45\u001B[0m \u001B[36mjob_run_id\u001B[0m=\u001B[35mNone\u001B[0m \u001B[36mproject_id\u001B[0m=\u001B[35m1\u001B[0m (at utils.py:95 in make_request())\n",
      "\u001B[2m2025-07-17T12:56:54.661762Z\u001B[0m [\u001B[32m\u001B[1mdebug    \u001B[0m] \u001B[1mtook 1.7506 seconds. Requesting GET from http://127.0.0.1:8000/orm/api/assets/api/constants\u001B[0m \u001B[36mapplication_name\u001B[0m=\u001B[35mms-sdk\u001B[0m \u001B[36mcommand_id\u001B[0m=\u001B[35mNone\u001B[0m \u001B[36mdata_source_id\u001B[0m=\u001B[35m45\u001B[0m \u001B[36mjob_run_id\u001B[0m=\u001B[35mNone\u001B[0m \u001B[36mproject_id\u001B[0m=\u001B[35m1\u001B[0m (at utils.py:95 in make_request())\n",
      "/home/jose/code/MainSequenceClientSide/mainsequence-sdk/venv/lib/python3.9/site-packages/pydantic/_internal/_generate_schema.py:623: UserWarning: FieldInfo(annotation=NoneType, required=False, default=<class 'mainsequence.client.models_vam.AssetMixin'>, json_schema_extra={'portfolio_configuration_overwrite': <class 'mainsequence.virtualfundbuilder.models.AssetMixinOverwrite'>}) is not a Python type (it may be an instance of an object), Pydantic will allow any object with no validation since we cannot even enforce that the input is an instance of the given type. To get rid of this error wrap the type with `pydantic.SkipValidation`.\n",
      "  warn(\n",
      "\u001B[2m2025-07-17T12:56:54.671548Z\u001B[0m [\u001B[32m\u001B[1mdebug    \u001B[0m] \u001B[1mRegistered ResourceType.APP class 'LoadExternalPortfolio': <class 'mainsequence.virtualfundbuilder.contrib.apps.load_external_portfolio.LoadExternalPortfolio'>\u001B[0m \u001B[36mapplication_name\u001B[0m=\u001B[35mms-sdk\u001B[0m \u001B[36mcommand_id\u001B[0m=\u001B[35mNone\u001B[0m \u001B[36mdata_source_id\u001B[0m=\u001B[35m45\u001B[0m \u001B[36mjob_run_id\u001B[0m=\u001B[35mNone\u001B[0m \u001B[36mproject_id\u001B[0m=\u001B[35m1\u001B[0m (at base_factory.py:127 in insert_in_registry())\n",
      "\u001B[2m2025-07-17T12:56:54.810820Z\u001B[0m [\u001B[32m\u001B[1mdebug    \u001B[0m] \u001B[1mRegistered ResourceType.APP class 'SentimentReport': <class 'mainsequence.virtualfundbuilder.contrib.apps.news_app.SentimentReport'>\u001B[0m \u001B[36mapplication_name\u001B[0m=\u001B[35mms-sdk\u001B[0m \u001B[36mcommand_id\u001B[0m=\u001B[35mNone\u001B[0m \u001B[36mdata_source_id\u001B[0m=\u001B[35m45\u001B[0m \u001B[36mjob_run_id\u001B[0m=\u001B[35mNone\u001B[0m \u001B[36mproject_id\u001B[0m=\u001B[35m1\u001B[0m (at base_factory.py:127 in insert_in_registry())\n",
      "\u001B[2m2025-07-17T12:56:54.820837Z\u001B[0m [\u001B[32m\u001B[1mdebug    \u001B[0m] \u001B[1mRegistered ResourceType.APP class 'RunPortfolio': <class 'mainsequence.virtualfundbuilder.contrib.apps.run_portfolio.RunPortfolio'>\u001B[0m \u001B[36mapplication_name\u001B[0m=\u001B[35mms-sdk\u001B[0m \u001B[36mcommand_id\u001B[0m=\u001B[35mNone\u001B[0m \u001B[36mdata_source_id\u001B[0m=\u001B[35m45\u001B[0m \u001B[36mjob_run_id\u001B[0m=\u001B[35mNone\u001B[0m \u001B[36mproject_id\u001B[0m=\u001B[35m1\u001B[0m (at base_factory.py:127 in insert_in_registry())\n",
      "\u001B[2m2025-07-17T12:56:54.838720Z\u001B[0m [\u001B[32m\u001B[1mdebug    \u001B[0m] \u001B[1mRegistered ResourceType.APP class 'RunNamedPortfolio': <class 'mainsequence.virtualfundbuilder.contrib.apps.run_named_portfolio.RunNamedPortfolio'>\u001B[0m \u001B[36mapplication_name\u001B[0m=\u001B[35mms-sdk\u001B[0m \u001B[36mcommand_id\u001B[0m=\u001B[35mNone\u001B[0m \u001B[36mdata_source_id\u001B[0m=\u001B[35m45\u001B[0m \u001B[36mjob_run_id\u001B[0m=\u001B[35mNone\u001B[0m \u001B[36mproject_id\u001B[0m=\u001B[35m1\u001B[0m (at base_factory.py:127 in insert_in_registry())\n",
      "\u001B[2m2025-07-17T12:56:55.104319Z\u001B[0m [\u001B[32m\u001B[1mdebug    \u001B[0m] \u001B[1mtook 0.4275 seconds. Requesting POST from http://127.0.0.1:8000/orm/api/tdag-gpt/dynamic_resource/\u001B[0m \u001B[36mapplication_name\u001B[0m=\u001B[35mms-sdk\u001B[0m \u001B[36mcommand_id\u001B[0m=\u001B[35mNone\u001B[0m \u001B[36mdata_source_id\u001B[0m=\u001B[35m45\u001B[0m \u001B[36mjob_run_id\u001B[0m=\u001B[35mNone\u001B[0m \u001B[36mproject_id\u001B[0m=\u001B[35m1\u001B[0m (at utils.py:95 in make_request())\n",
      "\u001B[2m2025-07-17T12:56:55.242365Z\u001B[0m [\u001B[32m\u001B[1mdebug    \u001B[0m] \u001B[1mtook 0.4246 seconds. Requesting POST from http://127.0.0.1:8000/orm/api/tdag-gpt/dynamic_resource/\u001B[0m \u001B[36mapplication_name\u001B[0m=\u001B[35mms-sdk\u001B[0m \u001B[36mcommand_id\u001B[0m=\u001B[35mNone\u001B[0m \u001B[36mdata_source_id\u001B[0m=\u001B[35m45\u001B[0m \u001B[36mjob_run_id\u001B[0m=\u001B[35mNone\u001B[0m \u001B[36mproject_id\u001B[0m=\u001B[35m1\u001B[0m (at utils.py:95 in make_request())\n",
      "\u001B[2m2025-07-17T12:56:55.243838Z\u001B[0m [\u001B[32m\u001B[1mdebug    \u001B[0m] \u001B[1mtook 0.4084 seconds. Requesting POST from http://127.0.0.1:8000/orm/api/tdag-gpt/dynamic_resource/\u001B[0m \u001B[36mapplication_name\u001B[0m=\u001B[35mms-sdk\u001B[0m \u001B[36mcommand_id\u001B[0m=\u001B[35mNone\u001B[0m \u001B[36mdata_source_id\u001B[0m=\u001B[35m45\u001B[0m \u001B[36mjob_run_id\u001B[0m=\u001B[35mNone\u001B[0m \u001B[36mproject_id\u001B[0m=\u001B[35m1\u001B[0m (at utils.py:95 in make_request())\n",
      "\u001B[2m2025-07-17T12:56:55.265799Z\u001B[0m [\u001B[32m\u001B[1mdebug    \u001B[0m] \u001B[1mtook 0.4214 seconds. Requesting POST from http://127.0.0.1:8000/orm/api/tdag-gpt/dynamic_resource/\u001B[0m \u001B[36mapplication_name\u001B[0m=\u001B[35mms-sdk\u001B[0m \u001B[36mcommand_id\u001B[0m=\u001B[35mNone\u001B[0m \u001B[36mdata_source_id\u001B[0m=\u001B[35m45\u001B[0m \u001B[36mjob_run_id\u001B[0m=\u001B[35mNone\u001B[0m \u001B[36mproject_id\u001B[0m=\u001B[35m1\u001B[0m (at utils.py:95 in make_request())\n",
      "\u001B[2m2025-07-17T12:56:55.276489Z\u001B[0m [\u001B[32m\u001B[1mdebug    \u001B[0m] \u001B[1mtook 0.3923 seconds. Requesting GET from http://127.0.0.1:8000/orm/api/assets/target_portfolio/\u001B[0m \u001B[36mapplication_name\u001B[0m=\u001B[35mms-sdk\u001B[0m \u001B[36mcommand_id\u001B[0m=\u001B[35mNone\u001B[0m \u001B[36mdata_source_id\u001B[0m=\u001B[35m45\u001B[0m \u001B[36mjob_run_id\u001B[0m=\u001B[35mNone\u001B[0m \u001B[36mproject_id\u001B[0m=\u001B[35m1\u001B[0m (at utils.py:95 in make_request())\n",
      "\u001B[2m2025-07-17T12:56:55.278134Z\u001B[0m [\u001B[32m\u001B[1mdebug    \u001B[0m] \u001B[1mRegistered ResourceType.HTML_APP class 'PortfolioReport': <class 'mainsequence.virtualfundbuilder.contrib.apps.portfolio_report_app.PortfolioReport'>\u001B[0m \u001B[36mapplication_name\u001B[0m=\u001B[35mms-sdk\u001B[0m \u001B[36mcommand_id\u001B[0m=\u001B[35mNone\u001B[0m \u001B[36mdata_source_id\u001B[0m=\u001B[35m45\u001B[0m \u001B[36mjob_run_id\u001B[0m=\u001B[35mNone\u001B[0m \u001B[36mproject_id\u001B[0m=\u001B[35m1\u001B[0m (at base_factory.py:127 in insert_in_registry())\n",
      "\u001B[2m2025-07-17T12:56:55.671341Z\u001B[0m [\u001B[32m\u001B[1mdebug    \u001B[0m] \u001B[1mtook 0.3851 seconds. Requesting GET from http://127.0.0.1:8000/orm/api/assets/target_portfolio/\u001B[0m \u001B[36mapplication_name\u001B[0m=\u001B[35mms-sdk\u001B[0m \u001B[36mcommand_id\u001B[0m=\u001B[35mNone\u001B[0m \u001B[36mdata_source_id\u001B[0m=\u001B[35m45\u001B[0m \u001B[36mjob_run_id\u001B[0m=\u001B[35mNone\u001B[0m \u001B[36mproject_id\u001B[0m=\u001B[35m1\u001B[0m (at utils.py:95 in make_request())\n",
      "\u001B[2m2025-07-17T12:56:55.673061Z\u001B[0m [\u001B[32m\u001B[1mdebug    \u001B[0m] \u001B[1mRegistered ResourceType.HTML_APP class 'PortfolioTable': <class 'mainsequence.virtualfundbuilder.contrib.apps.portfolio_table.PortfolioTable'>\u001B[0m \u001B[36mapplication_name\u001B[0m=\u001B[35mms-sdk\u001B[0m \u001B[36mcommand_id\u001B[0m=\u001B[35mNone\u001B[0m \u001B[36mdata_source_id\u001B[0m=\u001B[35m45\u001B[0m \u001B[36mjob_run_id\u001B[0m=\u001B[35mNone\u001B[0m \u001B[36mproject_id\u001B[0m=\u001B[35m1\u001B[0m (at base_factory.py:127 in insert_in_registry())\n",
      "\u001B[2m2025-07-17T12:56:55.686515Z\u001B[0m [\u001B[32m\u001B[1mdebug    \u001B[0m] \u001B[1mRegistered ResourceType.SIGNAL_WEIGHTS_STRATEGY class 'IntradayTrend': <class 'mainsequence.virtualfundbuilder.contrib.time_series.intraday_trend.IntradayTrend'>\u001B[0m \u001B[36mapplication_name\u001B[0m=\u001B[35mms-sdk\u001B[0m \u001B[36mcommand_id\u001B[0m=\u001B[35mNone\u001B[0m \u001B[36mdata_source_id\u001B[0m=\u001B[35m45\u001B[0m \u001B[36mjob_run_id\u001B[0m=\u001B[35mNone\u001B[0m \u001B[36mproject_id\u001B[0m=\u001B[35m1\u001B[0m (at base_factory.py:127 in insert_in_registry())\n",
      "\u001B[2m2025-07-17T12:56:55.703616Z\u001B[0m [\u001B[32m\u001B[1mdebug    \u001B[0m] \u001B[1mRegistered ResourceType.SIGNAL_WEIGHTS_STRATEGY class 'FixedWeights': <class 'mainsequence.virtualfundbuilder.contrib.time_series.market_cap.FixedWeights'>\u001B[0m \u001B[36mapplication_name\u001B[0m=\u001B[35mms-sdk\u001B[0m \u001B[36mcommand_id\u001B[0m=\u001B[35mNone\u001B[0m \u001B[36mdata_source_id\u001B[0m=\u001B[35m45\u001B[0m \u001B[36mjob_run_id\u001B[0m=\u001B[35mNone\u001B[0m \u001B[36mproject_id\u001B[0m=\u001B[35m1\u001B[0m (at base_factory.py:127 in insert_in_registry())\n",
      "\u001B[2m2025-07-17T12:56:55.722325Z\u001B[0m [\u001B[32m\u001B[1mdebug    \u001B[0m] \u001B[1mtook 0.4391 seconds. Requesting POST from http://127.0.0.1:8000/orm/api/tdag-gpt/dynamic_resource/\u001B[0m \u001B[36mapplication_name\u001B[0m=\u001B[35mms-sdk\u001B[0m \u001B[36mcommand_id\u001B[0m=\u001B[35mNone\u001B[0m \u001B[36mdata_source_id\u001B[0m=\u001B[35m45\u001B[0m \u001B[36mjob_run_id\u001B[0m=\u001B[35mNone\u001B[0m \u001B[36mproject_id\u001B[0m=\u001B[35m1\u001B[0m (at utils.py:95 in make_request())\n",
      "\u001B[2m2025-07-17T12:56:55.724294Z\u001B[0m [\u001B[32m\u001B[1mdebug    \u001B[0m] \u001B[1mRegistered ResourceType.SIGNAL_WEIGHTS_STRATEGY class 'MarketCap': <class 'mainsequence.virtualfundbuilder.contrib.time_series.market_cap.MarketCap'>\u001B[0m \u001B[36mapplication_name\u001B[0m=\u001B[35mms-sdk\u001B[0m \u001B[36mcommand_id\u001B[0m=\u001B[35mNone\u001B[0m \u001B[36mdata_source_id\u001B[0m=\u001B[35m45\u001B[0m \u001B[36mjob_run_id\u001B[0m=\u001B[35mNone\u001B[0m \u001B[36mproject_id\u001B[0m=\u001B[35m1\u001B[0m (at base_factory.py:127 in insert_in_registry())\n",
      "\u001B[2m2025-07-17T12:56:55.741664Z\u001B[0m [\u001B[32m\u001B[1mdebug    \u001B[0m] \u001B[1mRegistered ResourceType.SIGNAL_WEIGHTS_STRATEGY class 'MockSignal': <class 'mainsequence.virtualfundbuilder.contrib.time_series.mock_signal.MockSignal'>\u001B[0m \u001B[36mapplication_name\u001B[0m=\u001B[35mms-sdk\u001B[0m \u001B[36mcommand_id\u001B[0m=\u001B[35mNone\u001B[0m \u001B[36mdata_source_id\u001B[0m=\u001B[35m45\u001B[0m \u001B[36mjob_run_id\u001B[0m=\u001B[35mNone\u001B[0m \u001B[36mproject_id\u001B[0m=\u001B[35m1\u001B[0m (at base_factory.py:127 in insert_in_registry())\n",
      "\u001B[2m2025-07-17T12:56:56.079177Z\u001B[0m [\u001B[32m\u001B[1mdebug    \u001B[0m] \u001B[1mtook 0.3999 seconds. Requesting POST from http://127.0.0.1:8000/orm/api/tdag-gpt/dynamic_resource/\u001B[0m \u001B[36mapplication_name\u001B[0m=\u001B[35mms-sdk\u001B[0m \u001B[36mcommand_id\u001B[0m=\u001B[35mNone\u001B[0m \u001B[36mdata_source_id\u001B[0m=\u001B[35m45\u001B[0m \u001B[36mjob_run_id\u001B[0m=\u001B[35mNone\u001B[0m \u001B[36mproject_id\u001B[0m=\u001B[35m1\u001B[0m (at utils.py:95 in make_request())\n",
      "\u001B[2m2025-07-17T12:56:56.117564Z\u001B[0m [\u001B[32m\u001B[1mdebug    \u001B[0m] \u001B[1mtook 0.4033 seconds. Requesting POST from http://127.0.0.1:8000/orm/api/tdag-gpt/dynamic_resource/\u001B[0m \u001B[36mapplication_name\u001B[0m=\u001B[35mms-sdk\u001B[0m \u001B[36mcommand_id\u001B[0m=\u001B[35mNone\u001B[0m \u001B[36mdata_source_id\u001B[0m=\u001B[35m45\u001B[0m \u001B[36mjob_run_id\u001B[0m=\u001B[35mNone\u001B[0m \u001B[36mproject_id\u001B[0m=\u001B[35m1\u001B[0m (at utils.py:95 in make_request())\n",
      "\u001B[2m2025-07-17T12:56:56.120683Z\u001B[0m [\u001B[32m\u001B[1mdebug    \u001B[0m] \u001B[1mtook 0.4240 seconds. Requesting POST from http://127.0.0.1:8000/orm/api/tdag-gpt/dynamic_resource/\u001B[0m \u001B[36mapplication_name\u001B[0m=\u001B[35mms-sdk\u001B[0m \u001B[36mcommand_id\u001B[0m=\u001B[35mNone\u001B[0m \u001B[36mdata_source_id\u001B[0m=\u001B[35m45\u001B[0m \u001B[36mjob_run_id\u001B[0m=\u001B[35mNone\u001B[0m \u001B[36mproject_id\u001B[0m=\u001B[35m1\u001B[0m (at utils.py:95 in make_request())\n",
      "\u001B[2m2025-07-17T12:56:56.153152Z\u001B[0m [\u001B[32m\u001B[1mdebug    \u001B[0m] \u001B[1mtook 0.4012 seconds. Requesting POST from http://127.0.0.1:8000/orm/api/tdag-gpt/dynamic_resource/\u001B[0m \u001B[36mapplication_name\u001B[0m=\u001B[35mms-sdk\u001B[0m \u001B[36mcommand_id\u001B[0m=\u001B[35mNone\u001B[0m \u001B[36mdata_source_id\u001B[0m=\u001B[35m45\u001B[0m \u001B[36mjob_run_id\u001B[0m=\u001B[35mNone\u001B[0m \u001B[36mproject_id\u001B[0m=\u001B[35m1\u001B[0m (at utils.py:95 in make_request())\n",
      "\u001B[2m2025-07-17T12:56:56.195474Z\u001B[0m [\u001B[32m\u001B[1mdebug    \u001B[0m] \u001B[1mtook 0.4589 seconds. Requesting POST from http://127.0.0.1:8000/orm/api/tdag-gpt/dynamic_resource/\u001B[0m \u001B[36mapplication_name\u001B[0m=\u001B[35mms-sdk\u001B[0m \u001B[36mcommand_id\u001B[0m=\u001B[35mNone\u001B[0m \u001B[36mdata_source_id\u001B[0m=\u001B[35m45\u001B[0m \u001B[36mjob_run_id\u001B[0m=\u001B[35mNone\u001B[0m \u001B[36mproject_id\u001B[0m=\u001B[35m1\u001B[0m (at utils.py:95 in make_request())\n",
      "\u001B[2m2025-07-17T12:56:56.218401Z\u001B[0m [\u001B[32m\u001B[1mdebug    \u001B[0m] \u001B[1mRegistered ResourceType.SIGNAL_WEIGHTS_STRATEGY class 'ETFReplicator': <class 'mainsequence.virtualfundbuilder.contrib.time_series.portfolio_replicator.ETFReplicator'>\u001B[0m \u001B[36mapplication_name\u001B[0m=\u001B[35mms-sdk\u001B[0m \u001B[36mcommand_id\u001B[0m=\u001B[35mNone\u001B[0m \u001B[36mdata_source_id\u001B[0m=\u001B[35m45\u001B[0m \u001B[36mjob_run_id\u001B[0m=\u001B[35mNone\u001B[0m \u001B[36mproject_id\u001B[0m=\u001B[35m1\u001B[0m (at base_factory.py:127 in insert_in_registry())\n",
      "\u001B[2m2025-07-17T12:56:56.236048Z\u001B[0m [\u001B[32m\u001B[1mdebug    \u001B[0m] \u001B[1mRegistered ResourceType.SIGNAL_WEIGHTS_STRATEGY class 'ExternalWeights': <class 'mainsequence.virtualfundbuilder.contrib.time_series.external_weights.ExternalWeights'>\u001B[0m \u001B[36mapplication_name\u001B[0m=\u001B[35mms-sdk\u001B[0m \u001B[36mcommand_id\u001B[0m=\u001B[35mNone\u001B[0m \u001B[36mdata_source_id\u001B[0m=\u001B[35m45\u001B[0m \u001B[36mjob_run_id\u001B[0m=\u001B[35mNone\u001B[0m \u001B[36mproject_id\u001B[0m=\u001B[35m1\u001B[0m (at base_factory.py:127 in insert_in_registry())\n",
      "\u001B[2m2025-07-17T12:56:56.238454Z\u001B[0m [\u001B[32m\u001B[1mdebug    \u001B[0m] \u001B[1mRegistered ResourceType.REBALANCE_STRATEGY class 'VolumeParticipation': <class 'mainsequence.virtualfundbuilder.contrib.rebalance_strategies.rebalance_strategies.VolumeParticipation'>\u001B[0m \u001B[36mapplication_name\u001B[0m=\u001B[35mms-sdk\u001B[0m \u001B[36mcommand_id\u001B[0m=\u001B[35mNone\u001B[0m \u001B[36mdata_source_id\u001B[0m=\u001B[35m45\u001B[0m \u001B[36mjob_run_id\u001B[0m=\u001B[35mNone\u001B[0m \u001B[36mproject_id\u001B[0m=\u001B[35m1\u001B[0m (at base_factory.py:127 in insert_in_registry())\n",
      "\u001B[2m2025-07-17T12:56:56.245354Z\u001B[0m [\u001B[32m\u001B[1mdebug    \u001B[0m] \u001B[1mRegistered ResourceType.REBALANCE_STRATEGY class 'TimeWeighted': <class 'mainsequence.virtualfundbuilder.contrib.rebalance_strategies.rebalance_strategies.TimeWeighted'>\u001B[0m \u001B[36mapplication_name\u001B[0m=\u001B[35mms-sdk\u001B[0m \u001B[36mcommand_id\u001B[0m=\u001B[35mNone\u001B[0m \u001B[36mdata_source_id\u001B[0m=\u001B[35m45\u001B[0m \u001B[36mjob_run_id\u001B[0m=\u001B[35mNone\u001B[0m \u001B[36mproject_id\u001B[0m=\u001B[35m1\u001B[0m (at base_factory.py:127 in insert_in_registry())\n",
      "\u001B[2m2025-07-17T12:56:56.250947Z\u001B[0m [\u001B[32m\u001B[1mdebug    \u001B[0m] \u001B[1mRegistered ResourceType.REBALANCE_STRATEGY class 'ImmediateSignal': <class 'mainsequence.virtualfundbuilder.contrib.rebalance_strategies.rebalance_strategies.ImmediateSignal'>\u001B[0m \u001B[36mapplication_name\u001B[0m=\u001B[35mms-sdk\u001B[0m \u001B[36mcommand_id\u001B[0m=\u001B[35mNone\u001B[0m \u001B[36mdata_source_id\u001B[0m=\u001B[35m45\u001B[0m \u001B[36mjob_run_id\u001B[0m=\u001B[35mNone\u001B[0m \u001B[36mproject_id\u001B[0m=\u001B[35m1\u001B[0m (at base_factory.py:127 in insert_in_registry())\n",
      "\u001B[2m2025-07-17T12:56:56.301426Z\u001B[0m [\u001B[32m\u001B[1mdebug    \u001B[0m] \u001B[1mSend default documentation to Backend\u001B[0m \u001B[36mapplication_name\u001B[0m=\u001B[35mms-sdk\u001B[0m \u001B[36mcommand_id\u001B[0m=\u001B[35mNone\u001B[0m \u001B[36mdata_source_id\u001B[0m=\u001B[35m45\u001B[0m \u001B[36mjob_run_id\u001B[0m=\u001B[35mNone\u001B[0m \u001B[36mproject_id\u001B[0m=\u001B[35m1\u001B[0m (at base_factory.py:176 in send_default_configuration())\n"
     ]
    },
    {
     "name": "stdout",
     "output_type": "stream",
     "text": [
      "Get pod configuration\n",
      "Executing Script: \n",
      "# -- Auto-generated imports for time_series --\n",
      "import examples.time_series.simple_simulated_prices\n",
      "# -- Auto-generated imports for rebalance_strategies --\n",
      "# -- Auto-generated imports for apps --\n",
      "\n",
      "from mainsequence.virtualfundbuilder.agent_interface import TDAGAgent\n",
      "print('Initialize TDAGAgent')\n",
      "tdag_agent = TDAGAgent()\n",
      "Initialize TDAGAgent\n"
     ]
    },
    {
     "name": "stderr",
     "output_type": "stream",
     "text": [
      "\u001B[2m2025-07-17T12:56:56.629636Z\u001B[0m [\u001B[32m\u001B[1mdebug    \u001B[0m] \u001B[1mtook 0.3980 seconds. Requesting POST from http://127.0.0.1:8000/orm/api/tdag-gpt/dynamic_resource/\u001B[0m \u001B[36mapplication_name\u001B[0m=\u001B[35mms-sdk\u001B[0m \u001B[36mcommand_id\u001B[0m=\u001B[35mNone\u001B[0m \u001B[36mdata_source_id\u001B[0m=\u001B[35m45\u001B[0m \u001B[36mjob_run_id\u001B[0m=\u001B[35mNone\u001B[0m \u001B[36mproject_id\u001B[0m=\u001B[35m1\u001B[0m (at utils.py:95 in make_request())\n",
      "\u001B[2m2025-07-17T12:56:56.652619Z\u001B[0m [\u001B[32m\u001B[1mdebug    \u001B[0m] \u001B[1mtook 0.4090 seconds. Requesting POST from http://127.0.0.1:8000/orm/api/tdag-gpt/dynamic_resource/\u001B[0m \u001B[36mapplication_name\u001B[0m=\u001B[35mms-sdk\u001B[0m \u001B[36mcommand_id\u001B[0m=\u001B[35mNone\u001B[0m \u001B[36mdata_source_id\u001B[0m=\u001B[35m45\u001B[0m \u001B[36mjob_run_id\u001B[0m=\u001B[35mNone\u001B[0m \u001B[36mproject_id\u001B[0m=\u001B[35m1\u001B[0m (at utils.py:95 in make_request())\n",
      "\u001B[2m2025-07-17T12:56:56.657895Z\u001B[0m [\u001B[32m\u001B[1mdebug    \u001B[0m] \u001B[1mtook 0.4071 seconds. Requesting POST from http://127.0.0.1:8000/orm/api/tdag-gpt/dynamic_resource/\u001B[0m \u001B[36mapplication_name\u001B[0m=\u001B[35mms-sdk\u001B[0m \u001B[36mcommand_id\u001B[0m=\u001B[35mNone\u001B[0m \u001B[36mdata_source_id\u001B[0m=\u001B[35m45\u001B[0m \u001B[36mjob_run_id\u001B[0m=\u001B[35mNone\u001B[0m \u001B[36mproject_id\u001B[0m=\u001B[35m1\u001B[0m (at utils.py:95 in make_request())\n",
      "\u001B[2m2025-07-17T12:56:56.679617Z\u001B[0m [\u001B[32m\u001B[1mdebug    \u001B[0m] \u001B[1mtook 0.4221 seconds. Requesting POST from http://127.0.0.1:8000/orm/api/tdag-gpt/dynamic_resource/\u001B[0m \u001B[36mapplication_name\u001B[0m=\u001B[35mms-sdk\u001B[0m \u001B[36mcommand_id\u001B[0m=\u001B[35mNone\u001B[0m \u001B[36mdata_source_id\u001B[0m=\u001B[35m45\u001B[0m \u001B[36mjob_run_id\u001B[0m=\u001B[35mNone\u001B[0m \u001B[36mproject_id\u001B[0m=\u001B[35m1\u001B[0m (at utils.py:95 in make_request())\n",
      "\u001B[2m2025-07-17T12:56:56.695326Z\u001B[0m [\u001B[32m\u001B[1mdebug    \u001B[0m] \u001B[1mtook 0.3930 seconds. Requesting POST from http://127.0.0.1:8000/orm/api/tdag-gpt/register_default_configuration/\u001B[0m \u001B[36mapplication_name\u001B[0m=\u001B[35mms-sdk\u001B[0m \u001B[36mcommand_id\u001B[0m=\u001B[35mNone\u001B[0m \u001B[36mdata_source_id\u001B[0m=\u001B[35m45\u001B[0m \u001B[36mjob_run_id\u001B[0m=\u001B[35mNone\u001B[0m \u001B[36mproject_id\u001B[0m=\u001B[35m1\u001B[0m (at utils.py:95 in make_request())\n",
      "\u001B[2m2025-07-17T12:56:56.695988Z\u001B[0m [\u001B[32m\u001B[1minfo     \u001B[0m] \u001B[1mSetup TDAG Agent successfull  \u001B[0m \u001B[36mapplication_name\u001B[0m=\u001B[35mms-sdk\u001B[0m \u001B[36mcommand_id\u001B[0m=\u001B[35mNone\u001B[0m \u001B[36mdata_source_id\u001B[0m=\u001B[35m45\u001B[0m \u001B[36mjob_run_id\u001B[0m=\u001B[35mNone\u001B[0m \u001B[36mproject_id\u001B[0m=\u001B[35m1\u001B[0m (at agent_interface.py:28 in __init__())\n"
     ]
    }
   ],
   "execution_count": 6
  },
  {
   "metadata": {},
   "cell_type": "markdown",
   "source": "# Connect to the TDAG-LLM Agent",
   "id": "67f98089503b1773"
  },
  {
   "metadata": {},
   "cell_type": "code",
   "source": "tdag_agent = TDAGAgent()",
   "id": "33b3e037285a8d82",
   "outputs": [],
   "execution_count": null
  },
  {
   "metadata": {},
   "cell_type": "markdown",
   "source": "# Get the configuration for the full portfolio based on our strategy",
   "id": "22e3d24a3bbc1ef5"
  },
  {
   "metadata": {},
   "cell_type": "code",
   "source": "PortfolioInterface.list_configurations()",
   "id": "82d82eb8b40cfce9",
   "outputs": [],
   "execution_count": null
  },
  {
   "cell_type": "code",
   "id": "initial_id",
   "metadata": {
    "collapsed": true
   },
   "source": [
    "from mainsequence.virtualfundbuilder.contrib.data_nodes import MarketCap\n",
    "\n",
    "portfolio = tdag_agent.generate_portfolio(MarketCap, signal_description=\"Create me a market cap portfolio using MAG 7 assets\")"
   ],
   "outputs": [],
   "execution_count": null
  },
  {
   "metadata": {},
   "cell_type": "markdown",
   "source": "# Run the strategy",
   "id": "942a3a9a3448b48f"
  },
  {
   "metadata": {},
   "cell_type": "code",
   "source": [
    "res = portfolio.run()\n",
    "res.head()"
   ],
   "id": "7fa00114d7ef0b8",
   "outputs": [],
   "execution_count": null
  },
  {
   "metadata": {},
   "cell_type": "markdown",
   "source": "# Plot the portfolio results",
   "id": "c8168bc319a2969a"
  },
  {
   "metadata": {},
   "cell_type": "code",
   "source": [
    "import plotly.graph_objects as go\n",
    "import pandas as pd\n",
    "\n",
    "# Create the plot\n",
    "fig = go.Figure()\n",
    "\n",
    "fig.add_trace(\n",
    "    go.Scatter(\n",
    "        x=res.index, \n",
    "        y=res[\"close\"], \n",
    "        mode=\"lines+markers\",\n",
    "        name=\"Portfolio Value\",\n",
    "        line=dict(color='blue', width=1),\n",
    "        marker=dict(size=2)\n",
    "    )\n",
    ")\n",
    "\n",
    "# Customize layout\n",
    "fig.update_layout(\n",
    "    title=\"Portfolio Value Over Time\",\n",
    "    xaxis_title=\"Date\",\n",
    "    yaxis_title=\"Portfolio Value\",\n",
    "    template=\"plotly_white\",\n",
    "    hovermode=\"x unified\"\n",
    ")\n",
    "\n",
    "# Show the plot\n",
    "fig.show()"
   ],
   "id": "5e4a64ab6030cb60",
   "outputs": [],
   "execution_count": null
  },
  {
   "metadata": {
    "ExecuteTime": {
     "end_time": "2025-07-17T12:58:46.536265Z",
     "start_time": "2025-07-17T12:58:44.870296Z"
    }
   },
   "cell_type": "code",
   "source": "",
   "id": "9cb1bc6a12b9e8a6",
   "outputs": [
    {
     "name": "stderr",
     "output_type": "stream",
     "text": [
      "\u001B[2m2025-07-17T12:58:46.533973Z\u001B[0m [\u001B[32m\u001B[1mdebug    \u001B[0m] \u001B[1mtook 1.6627 seconds. Requesting GET from http://127.0.0.1:8000/orm/api/assets/target_portfolio/\u001B[0m \u001B[36mapplication_name\u001B[0m=\u001B[35mms-sdk\u001B[0m \u001B[36mcommand_id\u001B[0m=\u001B[35mNone\u001B[0m \u001B[36mdata_source_id\u001B[0m=\u001B[35m45\u001B[0m \u001B[36mjob_run_id\u001B[0m=\u001B[35mNone\u001B[0m \u001B[36mproject_id\u001B[0m=\u001B[35m1\u001B[0m (at utils.py:95 in make_request())\n"
     ]
    }
   ],
   "execution_count": 9
  },
  {
   "metadata": {
    "ExecuteTime": {
     "end_time": "2025-07-17T12:58:50.715571Z",
     "start_time": "2025-07-17T12:58:50.712799Z"
    }
   },
   "cell_type": "code",
   "source": "portfolios[0].__dict__",
   "id": "7275320d69fd774d",
   "outputs": [
    {
     "data": {
      "text/plain": [
       "Portfolio: 68"
      ]
     },
     "execution_count": 11,
     "metadata": {},
     "output_type": "execute_result"
    }
   ],
   "execution_count": 11
  },
  {
   "metadata": {},
   "cell_type": "code",
   "outputs": [],
   "execution_count": null,
   "source": "",
   "id": "95ee0b050acd100c"
  }
 ],
 "metadata": {
  "kernelspec": {
   "display_name": "Python 3",
   "language": "python",
   "name": "python3"
  },
  "language_info": {
   "codemirror_mode": {
    "name": "ipython",
    "version": 2
   },
   "file_extension": ".py",
   "mimetype": "text/x-python",
   "name": "python",
   "nbconvert_exporter": "python",
   "pygments_lexer": "ipython2",
   "version": "2.7.6"
  }
 },
 "nbformat": 4,
 "nbformat_minor": 5
}
